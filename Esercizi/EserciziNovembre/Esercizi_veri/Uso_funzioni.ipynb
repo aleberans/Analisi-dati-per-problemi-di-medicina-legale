{
 "cells": [
  {
   "cell_type": "code",
   "execution_count": 11,
   "metadata": {},
   "outputs": [],
   "source": [
    "def warn(*args, **kwargs):\n",
    "    pass\n",
    "import warnings\n",
    "warnings.warn = warn\n",
    "\n",
    "from sklearn.datasets import load_breast_cancer, load_iris\n",
    "from sklearn.svm import SVC\n",
    "import numpy as np\n",
    "from sklearn.model_selection import train_test_split, cross_val_score\n",
    "import matplotlib.pyplot as plt\n",
    "%matplotlib inline\n",
    "from sklearn.metrics import accuracy_score, confusion_matrix\n",
    "from statistics import mean\n",
    "from scikitplot.metrics import plot_confusion_matrix\n",
    "from sklearn.preprocessing import StandardScaler, RobustScaler, QuantileTransformer\n",
    "from sklearn.decomposition import PCA\n",
    "from sklearn.pipeline import Pipeline\n",
    "from sklearn.model_selection import GridSearchCV\n",
    "from sklearn.manifold import TSNE\n",
    "from sklearn.feature_selection import SelectKBest, f_regression\n",
    "from sklearn.tree import DecisionTreeClassifier\n",
    "from sklearn.ensemble import RandomForestClassifier\n",
    "import logging\n",
    "from sklearn.discriminant_analysis import LinearDiscriminantAnalysis\n",
    "from sklearn.naive_bayes import GaussianNB\n",
    "import pandas as pd\n",
    "from sklearn.neural_network import MLPClassifier\n",
    "import time"
   ]
  },
  {
   "cell_type": "code",
   "execution_count": 37,
   "metadata": {},
   "outputs": [],
   "source": [
    "import logging\n",
    "\n",
    "# Create a custom logger\n",
    "logger = logging.getLogger(__name__)\n",
    "\n",
    "# Create handlers\n",
    "c_handler = logging.StreamHandler()\n",
    "f_handler = logging.FileHandler('mylog.log')\n",
    "c_handler.setLevel(logging.WARNING)\n",
    "f_handler.setLevel(logging.INFO)\n",
    "\n",
    "# Create formatters and add it to handlers\n",
    "c_format = logging.Formatter('%(name)s - %(levelname)s - %(message)s')\n",
    "f_format = logging.Formatter('%(asctime)s - %(name)s - %(levelname)s - %(message)s')\n",
    "c_handler.setFormatter(c_format)\n",
    "f_handler.setFormatter(f_format)\n",
    "\n",
    "# Add handlers to the logger\n",
    "logger.addHandler(c_handler)\n",
    "logger.addHandler(f_handler)\n"
   ]
  },
  {
   "cell_type": "code",
   "execution_count": 66,
   "metadata": {},
   "outputs": [],
   "source": [
    "def addestraSVC(nomeDataset, X, y, c, gamma, kernel, dim):\n",
    "\n",
    "    X_train, X_test, y_train, y_test = train_test_split(X,y,test_size=0.2, random_state=30, stratify=y)\n",
    "    \n",
    "    #standardizzo i dati\n",
    "    sc = StandardScaler()\n",
    "    X_train_standardizzato = sc.fit_transform(X_train)\n",
    "    X_test_standardizzato = sc.fit_transform(X_test)\n",
    "    \n",
    "    #applico la riduzione della dimensionalita'\n",
    "    pca = PCA(n_components=dim)\n",
    "    \n",
    "    X_train_ridotto = pca.fit_transform(X_train_standardizzato)\n",
    "    X_test_ridotto = pca.fit_transform(X_test_standardizzato)\n",
    "    \n",
    "    #addestro la SVC\n",
    "    model = SVC(gamma = gamma, C=c, kernel = kernel)\n",
    "    model.fit(X_train_ridotto, y_train)\n",
    "    \n",
    "    y_pred = model.predict(X_test_ridotto)\n",
    "    \n",
    "    #calcolo lo score\n",
    "    scoreStandardizzato = accuracy_score(y_test, y_pred)\n",
    "    \n",
    "    #Non standardizzo i  dati ma riduco subito la dimensionalita' e addestro la SVC\n",
    "    X_train_ridotto = pca.fit_transform(X_train)\n",
    "    X_test_ridotto = pca.fit_transform(X_test)\n",
    "    \n",
    "    model = SVC(gamma = gamma, C=c, kernel = kernel)\n",
    "    model.fit(X_train_ridotto, y_train)\n",
    "    \n",
    "    y_pred_not_standardizzato = model.predict(X_test_ridotto)\n",
    "    \n",
    "    #calcolo lo score\n",
    "    score_not_standardizzato = accuracy_score(y_test, y_pred_not_standardizzato)\n",
    "     \n",
    "    if scoreStandardizzato > score_not_standardizzato:\n",
    "        plot_confusion_matrix(y_test, y_pred)\n",
    "        plt.show()\n",
    "        logger.info(f'Addestrato {nomeDataset} standardizzando i dati con una SVC con uno score di {scoreStandardizzato} e iperparametri: C {c}, gamma {gamma}, kernel {kernel}, numero dimensioni {dim}')\n",
    "        return(f'Lo score e stato calcolato standardizzando i dati, score: {scoreStandardizzato}')\n",
    "    else:\n",
    "        plot_confusion_matrix(y_test, y_pred_not_standardizzato)\n",
    "        plt.show()\n",
    "        logger.info(f'Addestrato {nomeDataset} con una SVC con uno score {score_not_standardizzato} e iperparametri: C {c}, gamma {gamma}, kernel {kernel}, numero dimensioni {dim}')\n",
    "        return(f'Lo score e stato calcolato non standardizzando i dati, score: {score_not_standardizzato}')\n",
    "\n",
    "    \n",
    "def addestraMLPClassifierLBFGS(nomeDataset, X, y, activation, dim, hidden_layer_sizes, max_iter):\n",
    "    X_train, X_test, y_train, y_test = train_test_split(X,y,test_size=0.2, random_state=30, stratify=y)\n",
    "    \n",
    "    sc = StandardScaler()\n",
    "    \n",
    "    X_train = sc.fit_transform(X_train)\n",
    "    X_test = sc.fit_transform(X_test)\n",
    "    \n",
    "    pca = PCA(n_components=dim)\n",
    "    \n",
    "    X_train = pca.fit_transform(X_train)\n",
    "    X_test = pca.fit_transform(X_test)\n",
    "    \n",
    "    model = MLPClassifier(hidden_layer_sizes=hidden_layer_sizes, solver='lbfgs', max_iter=max_iter, activation=activation)\n",
    "    model.fit(X_train, y_train)\n",
    "    \n",
    "    y_pred = model.predict(X_test)\n",
    "    \n",
    "    score = accuracy_score(y_test, y_pred)\n",
    "\n",
    "    plot_confusion_matrix(y_test, y_pred)\n",
    "    plt.show()\n",
    "    logger.info(f'Addestrato {nomeDataset} usando MLP come algoritmo di apprendimento con funzione di attivazione: {activation} solver: lbfgs iterazioni massime: {max_iter} hidden_layer_sizes: {hidden_layer_sizes} e dimensione {dim}')\n",
    "    return(f'Score: {score}')\n",
    "\n",
    "def addestraMLPClassifier(nomeDataset, solver, learning_rate, learning_rate_init, X, y, activation, dim, hidden_layer_sizes, max_iter):\n",
    "    X_train, X_test, y_train, y_test = train_test_split(X,y,test_size=0.2, random_state=30, stratify=y)\n",
    "    \n",
    "    sc = StandardScaler()\n",
    "    \n",
    "    X_train = sc.fit_transform(X_train)\n",
    "    X_test = sc.fit_transform(X_test)\n",
    "    \n",
    "    pca = PCA(n_components=dim)\n",
    "    \n",
    "    X_train = pca.fit_transform(X_train)\n",
    "    X_test = pca.fit_transform(X_test)\n",
    "    \n",
    "    model = MLPClassifier(hidden_layer_sizes=hidden_layer_sizes, solver=solver, learning_rate=learning_rate, learning_rate_init=learning_rate_init, max_iter=max_iter, activation=activation)\n",
    "    model.fit(X_train, y_train)\n",
    "    \n",
    "    y_pred = model.predict(X_test)\n",
    "    \n",
    "    score = accuracy_score(y_test, y_pred)\n",
    "\n",
    "    plot_confusion_matrix(y_test, y_pred)\n",
    "    plt.show()\n",
    "    logger.info(f'Addestrato {nomeDataset} usando MLP come algoritmo di apprendimento con funzione di attivazione: {activation} solver: lbfgs iterazioni massime: {max_iter} hidden_layer_sizes: {hidden_layer_sizes} e dimensione {dim}')\n",
    "    return(f'Score: {score}')\n",
    "\n",
    "\n",
    "def trovaIperparametri(X, y, model, numero_dimensioni):\n",
    "    \n",
    "    start_time = time.time()\n",
    "    X_train, X_test, y_train, y_test = train_test_split(X,y,test_size=0.3, random_state=30, stratify=y)\n",
    "\n",
    "    if model == SVC:\n",
    "        steps = [\n",
    "            ('scaler', StandardScaler()),\n",
    "            ('reduce_dim', PCA()),\n",
    "            ('SVM', SVC()), \n",
    "        ]\n",
    "\n",
    "        pipeline = Pipeline(steps)\n",
    "\n",
    "        valori_C = np.arange(0.1, 1.0, 0.1)\n",
    "        valori_gamma = [0.1, 0.01]\n",
    "        valori_kernel = ['linear', 'poly', 'rbf', 'sigmoid']\n",
    "\n",
    "        params = { 'SVM__C': valori_C,\n",
    "                  'SVM__gamma': valori_gamma,\n",
    "                  'SVM__kernel': valori_kernel,\n",
    "                  'reduce_dim__n_components': np.arange(1, numero_dimensioni, 1),\n",
    "                }\n",
    "    elif model == DecisionTreeClassifier:\n",
    "        \n",
    "        steps = [\n",
    "            ('scaler', StandardScaler()),\n",
    "            ('reduce_dim', PCA()),\n",
    "            ('tree', DecisionTreeClassifier()),\n",
    "        ]\n",
    "        \n",
    "        pipeline= Pipeline(steps)\n",
    "        \n",
    "        params = {'reduce_dim__n_components': np.arange(1, numero_dimensioni, 1),\n",
    "                  'tree__criterion': ['gini', 'entropy'],\n",
    "                 }\n",
    "    \n",
    "    elif model == RandomForestClassifier:\n",
    "        \n",
    "        steps = [\n",
    "            ('scaler', StandardScaler()),\n",
    "            ('reduce_dim', PCA()),\n",
    "            ('random_forest', RandomForestClassifier()),\n",
    "        ]\n",
    "        \n",
    "        pipeline = Pipeline(steps)\n",
    "        \n",
    "        params = {'reduce_dim__n_components': np.arange(1, numero_dimensioni, 1),\n",
    "                  'random_forest__n_estimators': np.arange(10, 100, 10),\n",
    "                 }\n",
    "    \n",
    "    elif model == LinearDiscriminantAnalysis:\n",
    "        \n",
    "        steps = [\n",
    "            ('scaler', StandardScaler()),\n",
    "            ('reduce_dim', PCA()),\n",
    "            ('linear_discriminant_analysis', LinearDiscriminantAnalysis()),\n",
    "        ]\n",
    "        \n",
    "        pipeline = Pipeline(steps)\n",
    "        \n",
    "        params = {'reduce_dim__n_components': np.arange(1, numero_dimensioni, 1),\n",
    "                  'linear_discriminant_analysis__solver': ['svd', 'lsqr', 'eigen'],\n",
    "                  \n",
    "                 }\n",
    "    elif model == GaussianNB:\n",
    "        steps = [\n",
    "            ('scaler', StandardScaler()),\n",
    "            ('reduce_dim', PCA()),\n",
    "            ('linear_discriminant_analysis', LinearDiscriminantAnalysis()),\n",
    "        ]\n",
    "        \n",
    "        pipeline = Pipeline(steps)\n",
    "        \n",
    "        params = {'reduce_dim__n_components': np.arange(1, numero_dimensioni, 1),\n",
    "\n",
    "                 }\n",
    "        \n",
    "    grid = GridSearchCV(pipeline, param_grid=params, cv=3)\n",
    "    \n",
    "    grid.fit(X_train, y_train)\n",
    "    \n",
    "    print(\"--- %s seconds ---\" % (time.time() - start_time))\n",
    "    return grid.best_params_"
   ]
  },
  {
   "cell_type": "code",
   "execution_count": 39,
   "metadata": {},
   "outputs": [
    {
     "data": {
      "text/html": [
       "<div>\n",
       "<style scoped>\n",
       "    .dataframe tbody tr th:only-of-type {\n",
       "        vertical-align: middle;\n",
       "    }\n",
       "\n",
       "    .dataframe tbody tr th {\n",
       "        vertical-align: top;\n",
       "    }\n",
       "\n",
       "    .dataframe thead th {\n",
       "        text-align: right;\n",
       "    }\n",
       "</style>\n",
       "<table border=\"1\" class=\"dataframe\">\n",
       "  <thead>\n",
       "    <tr style=\"text-align: right;\">\n",
       "      <th></th>\n",
       "      <th>Serial No.</th>\n",
       "      <th>GRE Score</th>\n",
       "      <th>TOEFL Score</th>\n",
       "      <th>University Rating</th>\n",
       "      <th>SOP</th>\n",
       "      <th>LOR</th>\n",
       "      <th>CGPA</th>\n",
       "      <th>Research</th>\n",
       "      <th>Chance of Admit</th>\n",
       "    </tr>\n",
       "  </thead>\n",
       "  <tbody>\n",
       "    <tr>\n",
       "      <th>0</th>\n",
       "      <td>1</td>\n",
       "      <td>337</td>\n",
       "      <td>118</td>\n",
       "      <td>4</td>\n",
       "      <td>4.5</td>\n",
       "      <td>4.5</td>\n",
       "      <td>9.65</td>\n",
       "      <td>1</td>\n",
       "      <td>0.92</td>\n",
       "    </tr>\n",
       "    <tr>\n",
       "      <th>1</th>\n",
       "      <td>2</td>\n",
       "      <td>324</td>\n",
       "      <td>107</td>\n",
       "      <td>4</td>\n",
       "      <td>4.0</td>\n",
       "      <td>4.5</td>\n",
       "      <td>8.87</td>\n",
       "      <td>1</td>\n",
       "      <td>0.76</td>\n",
       "    </tr>\n",
       "    <tr>\n",
       "      <th>2</th>\n",
       "      <td>3</td>\n",
       "      <td>316</td>\n",
       "      <td>104</td>\n",
       "      <td>3</td>\n",
       "      <td>3.0</td>\n",
       "      <td>3.5</td>\n",
       "      <td>8.00</td>\n",
       "      <td>1</td>\n",
       "      <td>0.72</td>\n",
       "    </tr>\n",
       "    <tr>\n",
       "      <th>3</th>\n",
       "      <td>4</td>\n",
       "      <td>322</td>\n",
       "      <td>110</td>\n",
       "      <td>3</td>\n",
       "      <td>3.5</td>\n",
       "      <td>2.5</td>\n",
       "      <td>8.67</td>\n",
       "      <td>1</td>\n",
       "      <td>0.80</td>\n",
       "    </tr>\n",
       "    <tr>\n",
       "      <th>4</th>\n",
       "      <td>5</td>\n",
       "      <td>314</td>\n",
       "      <td>103</td>\n",
       "      <td>2</td>\n",
       "      <td>2.0</td>\n",
       "      <td>3.0</td>\n",
       "      <td>8.21</td>\n",
       "      <td>0</td>\n",
       "      <td>0.65</td>\n",
       "    </tr>\n",
       "    <tr>\n",
       "      <th>...</th>\n",
       "      <td>...</td>\n",
       "      <td>...</td>\n",
       "      <td>...</td>\n",
       "      <td>...</td>\n",
       "      <td>...</td>\n",
       "      <td>...</td>\n",
       "      <td>...</td>\n",
       "      <td>...</td>\n",
       "      <td>...</td>\n",
       "    </tr>\n",
       "    <tr>\n",
       "      <th>495</th>\n",
       "      <td>496</td>\n",
       "      <td>332</td>\n",
       "      <td>108</td>\n",
       "      <td>5</td>\n",
       "      <td>4.5</td>\n",
       "      <td>4.0</td>\n",
       "      <td>9.02</td>\n",
       "      <td>1</td>\n",
       "      <td>0.87</td>\n",
       "    </tr>\n",
       "    <tr>\n",
       "      <th>496</th>\n",
       "      <td>497</td>\n",
       "      <td>337</td>\n",
       "      <td>117</td>\n",
       "      <td>5</td>\n",
       "      <td>5.0</td>\n",
       "      <td>5.0</td>\n",
       "      <td>9.87</td>\n",
       "      <td>1</td>\n",
       "      <td>0.96</td>\n",
       "    </tr>\n",
       "    <tr>\n",
       "      <th>497</th>\n",
       "      <td>498</td>\n",
       "      <td>330</td>\n",
       "      <td>120</td>\n",
       "      <td>5</td>\n",
       "      <td>4.5</td>\n",
       "      <td>5.0</td>\n",
       "      <td>9.56</td>\n",
       "      <td>1</td>\n",
       "      <td>0.93</td>\n",
       "    </tr>\n",
       "    <tr>\n",
       "      <th>498</th>\n",
       "      <td>499</td>\n",
       "      <td>312</td>\n",
       "      <td>103</td>\n",
       "      <td>4</td>\n",
       "      <td>4.0</td>\n",
       "      <td>5.0</td>\n",
       "      <td>8.43</td>\n",
       "      <td>0</td>\n",
       "      <td>0.73</td>\n",
       "    </tr>\n",
       "    <tr>\n",
       "      <th>499</th>\n",
       "      <td>500</td>\n",
       "      <td>327</td>\n",
       "      <td>113</td>\n",
       "      <td>4</td>\n",
       "      <td>4.5</td>\n",
       "      <td>4.5</td>\n",
       "      <td>9.04</td>\n",
       "      <td>0</td>\n",
       "      <td>0.84</td>\n",
       "    </tr>\n",
       "  </tbody>\n",
       "</table>\n",
       "<p>500 rows × 9 columns</p>\n",
       "</div>"
      ],
      "text/plain": [
       "     Serial No.  GRE Score  TOEFL Score  University Rating  SOP  LOR   CGPA  \\\n",
       "0             1        337          118                  4  4.5   4.5  9.65   \n",
       "1             2        324          107                  4  4.0   4.5  8.87   \n",
       "2             3        316          104                  3  3.0   3.5  8.00   \n",
       "3             4        322          110                  3  3.5   2.5  8.67   \n",
       "4             5        314          103                  2  2.0   3.0  8.21   \n",
       "..          ...        ...          ...                ...  ...   ...   ...   \n",
       "495         496        332          108                  5  4.5   4.0  9.02   \n",
       "496         497        337          117                  5  5.0   5.0  9.87   \n",
       "497         498        330          120                  5  4.5   5.0  9.56   \n",
       "498         499        312          103                  4  4.0   5.0  8.43   \n",
       "499         500        327          113                  4  4.5   4.5  9.04   \n",
       "\n",
       "     Research  Chance of Admit   \n",
       "0           1              0.92  \n",
       "1           1              0.76  \n",
       "2           1              0.72  \n",
       "3           1              0.80  \n",
       "4           0              0.65  \n",
       "..        ...               ...  \n",
       "495         1              0.87  \n",
       "496         1              0.96  \n",
       "497         1              0.93  \n",
       "498         0              0.73  \n",
       "499         0              0.84  \n",
       "\n",
       "[500 rows x 9 columns]"
      ]
     },
     "execution_count": 39,
     "metadata": {},
     "output_type": "execute_result"
    }
   ],
   "source": [
    "df = pd.read_csv('Admission_Predict_Ver1.1.csv')\n",
    "df"
   ]
  },
  {
   "cell_type": "code",
   "execution_count": 40,
   "metadata": {},
   "outputs": [
    {
     "data": {
      "text/plain": [
       "(500, 8)"
      ]
     },
     "execution_count": 40,
     "metadata": {},
     "output_type": "execute_result"
    }
   ],
   "source": [
    "X = df.drop('Research', 1)\n",
    "y = df['Research']\n",
    "\n",
    "X.shape"
   ]
  },
  {
   "cell_type": "code",
   "execution_count": 41,
   "metadata": {},
   "outputs": [
    {
     "name": "stdout",
     "output_type": "stream",
     "text": [
      "--- 9.364861488342285 seconds ---\n"
     ]
    },
    {
     "data": {
      "text/plain": [
       "{'SVM__C': 0.2,\n",
       " 'SVM__gamma': 0.1,\n",
       " 'SVM__kernel': 'rbf',\n",
       " 'reduce_dim__n_components': 7}"
      ]
     },
     "execution_count": 41,
     "metadata": {},
     "output_type": "execute_result"
    }
   ],
   "source": [
    "trovaIperparametri(model=SVC, X=X, y=y, numero_dimensioni=8)"
   ]
  },
  {
   "cell_type": "code",
   "execution_count": 42,
   "metadata": {},
   "outputs": [
    {
     "data": {
      "image/png": "[encoded data removed]",
      "text/plain": [
       "<Figure size 432x288 with 2 Axes>"
      ]
     },
     "metadata": {
      "needs_background": "light"
     },
     "output_type": "display_data"
    },
    {
     "data": {
      "text/plain": [
       "'Lo score e stato calcolato standardizzando i dati, score: 0.79'"
      ]
     },
     "execution_count": 42,
     "metadata": {},
     "output_type": "execute_result"
    }
   ],
   "source": [
    "addestraSVC('Admission_Predict_Ver1', X=X, y=y, c=0.2, gamma=0.1, kernel='rbf', dim=7)"
   ]
  },
  {
   "cell_type": "code",
   "execution_count": 43,
   "metadata": {},
   "outputs": [
    {
     "data": {
      "image/png": "[encoded data removed]",
      "text/plain": [
       "<Figure size 432x288 with 2 Axes>"
      ]
     },
     "metadata": {
      "needs_background": "light"
     },
     "output_type": "display_data"
    },
    {
     "data": {
      "text/plain": [
       "'Lo score e stato calcolato standardizzando i dati, score: 0.8'"
      ]
     },
     "execution_count": 43,
     "metadata": {},
     "output_type": "execute_result"
    }
   ],
   "source": [
    "addestraSVC('Admission_Predict_Ver1', X=X, y=y, c=0.2, gamma=0.1, kernel='rbf', dim=6)"
   ]
  },
  {
   "cell_type": "code",
   "execution_count": 60,
   "metadata": {},
   "outputs": [
    {
     "data": {
      "image/png": "[encoded data removed]",
      "text/plain": [
       "<Figure size 432x288 with 2 Axes>"
      ]
     },
     "metadata": {
      "needs_background": "light"
     },
     "output_type": "display_data"
    },
    {
     "data": {
      "text/plain": [
       "'Score: 0.66'"
      ]
     },
     "execution_count": 60,
     "metadata": {},
     "output_type": "execute_result"
    }
   ],
   "source": [
    "addestraMLPClassifier(activation='logistic', solver='lbfgs', nomeDataset='Admission_Predict_Ver1', hidden_layer_sizes=(13, 13), max_iter=400, X=X, y=y, dim=7)"
   ]
  },
  {
   "cell_type": "code",
   "execution_count": 57,
   "metadata": {},
   "outputs": [
    {
     "data": {
      "image/png": "[encoded data removed]",
      "text/plain": [
       "<Figure size 432x288 with 2 Axes>"
      ]
     },
     "metadata": {
      "needs_background": "light"
     },
     "output_type": "display_data"
    },
    {
     "data": {
      "text/plain": [
       "'Score: 0.75'"
      ]
     },
     "execution_count": 57,
     "metadata": {},
     "output_type": "execute_result"
    }
   ],
   "source": [
    "addestraMLPClassifier(activation='relu', nomeDataset='Admission_Predict_Ver1', solver='lbfgs', hidden_layer_sizes=(5, 5), max_iter=500, X=X, y=y, dim=3)"
   ]
  },
  {
   "cell_type": "code",
   "execution_count": 65,
   "metadata": {},
   "outputs": [
    {
     "data": {
      "image/png": "[encoded data removed]",
      "text/plain": [
       "<Figure size 432x288 with 2 Axes>"
      ]
     },
     "metadata": {
      "needs_background": "light"
     },
     "output_type": "display_data"
    },
    {
     "data": {
      "text/plain": [
       "'Score: 0.78'"
      ]
     },
     "execution_count": 65,
     "metadata": {},
     "output_type": "execute_result"
    }
   ],
   "source": [
    "addestraMLPClassifier(activation='relu', nomeDataset='Admission_Predict_Ver1', solver='adam', hidden_layer_sizes=(5, 5), max_iter=500, X=X, y=y, dim=2)"
   ]
  },
  {
   "cell_type": "code",
   "execution_count": 69,
   "metadata": {},
   "outputs": [
    {
     "data": {
      "image/png": "[encoded data removed]",
      "text/plain": [
       "<Figure size 432x288 with 2 Axes>"
      ]
     },
     "metadata": {
      "needs_background": "light"
     },
     "output_type": "display_data"
    },
    {
     "data": {
      "text/plain": [
       "'Score: 0.76'"
      ]
     },
     "execution_count": 69,
     "metadata": {},
     "output_type": "execute_result"
    }
   ],
   "source": [
    "addestraMLPClassifier(activation='relu', nomeDataset='Admission_Predict_Ver1', solver='sgd', learning_rate='adaptive', learning_rate_init=0.005, hidden_layer_sizes=(5, 5), max_iter=500, X=X, y=y, dim=2)"
   ]
  },
  {
   "cell_type": "code",
   "execution_count": null,
   "metadata": {},
   "outputs": [],
   "source": []
  }
 ],
 "metadata": {
  "kernelspec": {
   "display_name": "Python 3",
   "language": "python",
   "name": "python3"
  },
  "language_info": {
   "codemirror_mode": {
    "name": "ipython",
    "version": 3
   },
   "file_extension": ".py",
   "mimetype": "text/x-python",
   "name": "python",
   "nbconvert_exporter": "python",
   "pygments_lexer": "ipython3",
   "version": "3.7.4"
  }
 },
 "nbformat": 4,
 "nbformat_minor": 2
}
