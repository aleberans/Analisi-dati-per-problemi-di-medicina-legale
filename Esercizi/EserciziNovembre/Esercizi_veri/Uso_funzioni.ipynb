{
 "cells": [
  {
   "cell_type": "code",
   "execution_count": 3,
   "metadata": {},
   "outputs": [],
   "source": [
    "def warn(*args, **kwargs):\n",
    "    pass\n",
    "import warnings\n",
    "warnings.warn = warn\n",
    "\n",
    "from sklearn.datasets import load_breast_cancer, load_iris\n",
    "from sklearn.svm import SVC\n",
    "import numpy as np\n",
    "from sklearn.model_selection import train_test_split, cross_val_score\n",
    "import matplotlib.pyplot as plt\n",
    "%matplotlib inline\n",
    "from sklearn.metrics import accuracy_score, confusion_matrix\n",
    "from statistics import mean\n",
    "from scikitplot.metrics import plot_confusion_matrix\n",
    "from sklearn.preprocessing import StandardScaler, RobustScaler, QuantileTransformer\n",
    "from sklearn.decomposition import PCA\n",
    "from sklearn.pipeline import Pipeline\n",
    "from sklearn.model_selection import GridSearchCV\n",
    "from sklearn.manifold import TSNE\n",
    "from sklearn.feature_selection import SelectKBest, f_regression\n",
    "from sklearn.tree import DecisionTreeClassifier\n",
    "from sklearn.ensemble import RandomForestClassifier\n",
    "import logging\n",
    "from sklearn.discriminant_analysis import LinearDiscriminantAnalysis\n",
    "from sklearn.naive_bayes import GaussianNB\n",
    "import pandas as pd\n",
    "from sklearn.neural_network import MLPClassifier\n",
    "import time\n"
   ]
  },
  {
   "cell_type": "code",
   "execution_count": 2,
   "metadata": {},
   "outputs": [],
   "source": [
    "import logging\n",
    "\n",
    "# create logger with 'spam_application'\n",
    "logger = logging.getLogger('spam_application')\n",
    "logger.setLevel(logging.DEBUG)\n",
    "# create file handler which logs even debug messages\n",
    "fh = logging.FileHandler('risultati.log')\n",
    "fh.setLevel(logging.INFO)\n",
    "logger.addHandler(fh)\n",
    "\n"
   ]
  },
  {
   "cell_type": "code",
   "execution_count": 3,
   "metadata": {},
   "outputs": [],
   "source": [
    "def addestraSVC(nomeDataset, X, y, c, gamma, kernel, dim):\n",
    "\n",
    "    X_train, X_test, y_train, y_test = train_test_split(X,y,test_size=0.3, random_state=30, stratify=y)\n",
    "    \n",
    "    #standardizzo i dati\n",
    "    sc = StandardScaler()\n",
    "    X_train_standardizzato = sc.fit_transform(X_train)\n",
    "    X_test_standardizzato = sc.fit_transform(X_test)\n",
    "    \n",
    "    #applico la riduzione della dimensionalita'\n",
    "    pca = PCA(n_components=dim)\n",
    "    \n",
    "    X_train_ridotto = pca.fit_transform(X_train_standardizzato)\n",
    "    X_test_ridotto = pca.fit_transform(X_test_standardizzato)\n",
    "    \n",
    "    #addestro la SVC\n",
    "    model = SVC(gamma = gamma, C=c, kernel = kernel)\n",
    "    model.fit(X_train_ridotto, y_train)\n",
    "    \n",
    "    y_pred = model.predict(X_test_ridotto)\n",
    "    \n",
    "    #calcolo lo score\n",
    "    scoreStandardizzato = accuracy_score(y_test, y_pred)\n",
    "    \n",
    "\n",
    "    plot_confusion_matrix(y_test, y_pred)\n",
    "    plt.show()\n",
    "    logger.info(f'Addestrato {nomeDataset} standardizzando i dati con una SVC con uno score di {scoreStandardizzato} e iperparametri: C {c}, gamma {gamma}, kernel {kernel}, numero dimensioni {dim}')\n",
    "    return(f'Lo score e stato calcolato standardizzando i dati, score: {scoreStandardizzato}')\n",
    "\n",
    "def addestraDecisionTreeClassifier(nomeDataset, X, y, criterio, dim):\n",
    "    \n",
    "    X_train, X_test, y_train, y_test = train_test_split(X,y,test_size=0.3, random_state=30, stratify=y)\n",
    "    \n",
    "    #standardizzo i dati\n",
    "    sc = StandardScaler()\n",
    "    X_train_standardizzato = sc.fit_transform(X_train)\n",
    "    X_test_standardizzato = sc.fit_transform(X_test)\n",
    "    \n",
    "    #applico la riduzione della dimensionalita'\n",
    "    pca = PCA(n_components=dim)\n",
    "    \n",
    "    X_train_ridotto = pca.fit_transform(X_train_standardizzato)\n",
    "    X_test_ridotto = pca.fit_transform(X_test_standardizzato)\n",
    "    \n",
    "    #addestro il DecisionTreeClassifier\n",
    "    model = DecisionTreeClassifier(criterion=criterio)\n",
    "    model.fit(X_train_ridotto, y_train)\n",
    "    \n",
    "    y_pred = model.predict(X_test_ridotto)\n",
    "    \n",
    "    #calcolo lo score\n",
    "    scoreStandardizzato = accuracy_score(y_test, y_pred)\n",
    "    \n",
    "    plot_confusion_matrix(y_test, y_pred)\n",
    "    plt.show()\n",
    "    logger.info(f'Addestrato {nomeDataset} standardizzando i dati con un DecisionTreeClassifier con uno score di {scoreStandardizzato} e iperparametri: numero dimensioni {dim}, criterio: {criterio}')\n",
    "    return(f'Lo score e stato calcolato standardizzando i dati, score: {scoreStandardizzato}')\n",
    "\n",
    "def addestraRandomForestClassifier(nomeDataset, X, y, dim, n_estimators):\n",
    "    \n",
    "    X_train, X_test, y_train, y_test = train_test_split(X,y,test_size=0.3, random_state=30, stratify=y)\n",
    "    \n",
    "    #standardizzo i dati\n",
    "    sc = StandardScaler()\n",
    "    X_train_standardizzato = sc.fit_transform(X_train)\n",
    "    X_test_standardizzato = sc.fit_transform(X_test)\n",
    "    \n",
    "    #applico la riduzione della dimensionalita'\n",
    "    pca = PCA(n_components=dim)\n",
    "    \n",
    "    X_train_ridotto = pca.fit_transform(X_train_standardizzato)\n",
    "    X_test_ridotto = pca.fit_transform(X_test_standardizzato)\n",
    "    \n",
    "    #addestro il DecisionTreeClassifier\n",
    "    model = RandomForestClassifier(n_estimators=n_estimators)\n",
    "    model.fit(X_train_ridotto, y_train)\n",
    "    \n",
    "    y_pred = model.predict(X_test_ridotto)\n",
    "    \n",
    "    #calcolo lo score\n",
    "    scoreStandardizzato = accuracy_score(y_test, y_pred)\n",
    "    \n",
    "    plot_confusion_matrix(y_test, y_pred)\n",
    "    plt.show()\n",
    "    logger.info(f'Addestrato {nomeDataset} standardizzando i dati con un RandomForestClassifier con uno score di {scoreStandardizzato} e iperparametri: numero dimensioni {dim}, n_estimators: {n_estimators}')\n",
    "    return(f'Lo score e stato calcolato standardizzando i dati, score: {scoreStandardizzato}')\n",
    "\n",
    "def addestraLinearDiscriminantAnalysis(nomeDataset, X, y, dim, solver):\n",
    "    \n",
    "    X_train, X_test, y_train, y_test = train_test_split(X,y,test_size=0.3, random_state=30, stratify=y)\n",
    "    \n",
    "    #standardizzo i dati\n",
    "    sc = StandardScaler()\n",
    "    X_train_standardizzato = sc.fit_transform(X_train)\n",
    "    X_test_standardizzato = sc.fit_transform(X_test)\n",
    "    \n",
    "    #applico la riduzione della dimensionalita'\n",
    "    pca = PCA(n_components=dim)\n",
    "    \n",
    "    X_train_ridotto = pca.fit_transform(X_train_standardizzato)\n",
    "    X_test_ridotto = pca.fit_transform(X_test_standardizzato)\n",
    "    \n",
    "    #addestro il DecisionTreeClassifier\n",
    "    model = LinearDiscriminantAnalysis(solver=solver)\n",
    "    model.fit(X_train_ridotto, y_train)\n",
    "    \n",
    "    y_pred = model.predict(X_test_ridotto)\n",
    "    \n",
    "    #calcolo lo score\n",
    "    scoreStandardizzato = accuracy_score(y_test, y_pred)\n",
    "    \n",
    "    plot_confusion_matrix(y_test, y_pred)\n",
    "    plt.show()\n",
    "    logger.info(f'Addestrato {nomeDataset} standardizzando i dati con un LinearDiscriminantAnalysis con uno score di {scoreStandardizzato} e iperparametri: numero dimensioni {dim}, solver: {solver}')\n",
    "    return(f'Lo score e stato calcolato standardizzando i dati, score: {scoreStandardizzato}')    \n",
    "\n",
    "def addestraMLPClassifier(nomeDataset, X, y, momentum, learning_rate, learning_rate_init, activation, dim, hidden_layer_sizes, max_iter):\n",
    "    X_train, X_test, y_train, y_test = train_test_split(X, y, test_size=0.3, random_state=30, stratify=y)\n",
    "    \n",
    "    sc = StandardScaler()\n",
    "    \n",
    "    X_train = sc.fit_transform(X_train)\n",
    "    X_test = sc.fit_transform(X_test)\n",
    "    \n",
    "    pca = PCA(n_components=dim)\n",
    "    \n",
    "    X_train = pca.fit_transform(X_train)\n",
    "    X_test = pca.fit_transform(X_test)\n",
    "    \n",
    "    model = MLPClassifier(hidden_layer_sizes=hidden_layer_sizes, momentum=momentum, learning_rate=learning_rate, learning_rate_init=learning_rate_init, max_iter=max_iter, activation=activation)\n",
    "    model.fit(X_train, y_train)\n",
    "    \n",
    "    y_pred = model.predict(X_test)\n",
    "    \n",
    "    score = accuracy_score(y_test, y_pred)\n",
    "\n",
    "    plot_confusion_matrix(y_test, y_pred)\n",
    "    plt.show()\n",
    "    logger.info(f'Addestrato {nomeDataset} usando MLP come algoritmo di apprendimento con funzione di attivazione: {activation} iterazioni massime: {max_iter} hidden_layer_sizes: {hidden_layer_sizes} e dimensione {dim} score: {score}')\n",
    "    return(f'Score: {score}')\n",
    "\n",
    "def addestraGaussianNB(nomeDataset, X, y, dim):\n",
    "    \n",
    "    X_train, X_test, y_train, y_test = train_test_split(X,y,test_size=0.3, random_state=30, stratify=y)\n",
    "    \n",
    "    #standardizzo i dati\n",
    "    sc = StandardScaler()\n",
    "    X_train_standardizzato = sc.fit_transform(X_train)\n",
    "    X_test_standardizzato = sc.fit_transform(X_test)\n",
    "    \n",
    "    #applico la riduzione della dimensionalita'\n",
    "    pca = PCA(n_components=dim)\n",
    "    \n",
    "    X_train_ridotto = pca.fit_transform(X_train_standardizzato)\n",
    "    X_test_ridotto = pca.fit_transform(X_test_standardizzato)\n",
    "    \n",
    "    #addestro il DecisionTreeClassifier\n",
    "    model = GaussianNB()\n",
    "    model.fit(X_train_ridotto, y_train)\n",
    "    \n",
    "    y_pred = model.predict(X_test_ridotto)\n",
    "    \n",
    "    #calcolo lo score\n",
    "    scoreStandardizzato = accuracy_score(y_test, y_pred)\n",
    "    \n",
    "    plot_confusion_matrix(y_test, y_pred)\n",
    "    plt.show()\n",
    "    logger.info(f'Addestrato {nomeDataset} standardizzando i dati con un GaussianNB con uno score di {scoreStandardizzato} e iperparametri: numero dimensioni {dim}')\n",
    "    return(f'Lo score e stato calcolato standardizzando i dati, score: {scoreStandardizzato}')      \n",
    "\n",
    "\n",
    "def trovaIperparametri(X, y, model, numero_dimensioni):\n",
    "    \n",
    "    start_time = time.time()\n",
    "    X_train, X_test, y_train, y_test = train_test_split(X, y, test_size=0.3, random_state=30, stratify=y)\n",
    "\n",
    "    if model == SVC:\n",
    "        steps = [\n",
    "            ('scaler', StandardScaler()),\n",
    "            ('reduce_dim', PCA()),\n",
    "            ('SVM', SVC()), \n",
    "        ]\n",
    "\n",
    "        pipeline = Pipeline(steps)\n",
    "\n",
    "        valori_C = np.arange(0.1, 1.0, 0.1)\n",
    "        valori_gamma = [0.1, 0.01]\n",
    "        valori_kernel = ['linear', 'poly', 'rbf', 'sigmoid']\n",
    "\n",
    "        params = { 'SVM__C': valori_C,\n",
    "                  'SVM__gamma': valori_gamma,\n",
    "                  'SVM__kernel': valori_kernel,\n",
    "                  'reduce_dim__n_components': np.arange(1, numero_dimensioni, 1),\n",
    "                }\n",
    "    elif model == DecisionTreeClassifier:\n",
    "        \n",
    "        steps = [\n",
    "            ('scaler', StandardScaler()),\n",
    "            ('reduce_dim', PCA()),\n",
    "            ('tree', DecisionTreeClassifier()),\n",
    "        ]\n",
    "        \n",
    "        pipeline= Pipeline(steps)\n",
    "        \n",
    "        params = {'reduce_dim__n_components': np.arange(1, numero_dimensioni, 1),\n",
    "                  'tree__criterion': ['gini', 'entropy'],\n",
    "                 }\n",
    "    \n",
    "    elif model == RandomForestClassifier:\n",
    "        \n",
    "        steps = [\n",
    "            ('scaler', StandardScaler()),\n",
    "            ('reduce_dim', PCA()),\n",
    "            ('random_forest', RandomForestClassifier()),\n",
    "        ]\n",
    "        \n",
    "        pipeline = Pipeline(steps)\n",
    "        \n",
    "        params = {'reduce_dim__n_components': np.arange(1, numero_dimensioni, 1),\n",
    "                  'random_forest__n_estimators': np.arange(10, 100, 10),\n",
    "                 }\n",
    "    \n",
    "    elif model == LinearDiscriminantAnalysis:\n",
    "        \n",
    "        steps = [\n",
    "            ('scaler', StandardScaler()),\n",
    "            ('reduce_dim', PCA()),\n",
    "            ('linear_discriminant_analysis', LinearDiscriminantAnalysis()),\n",
    "        ]\n",
    "        \n",
    "        pipeline = Pipeline(steps)\n",
    "        \n",
    "        params = {'reduce_dim__n_components': np.arange(1, numero_dimensioni, 1),\n",
    "                  'linear_discriminant_analysis__solver': ['svd', 'lsqr', 'eigen'],\n",
    "                  \n",
    "                 }\n",
    "    elif model == GaussianNB:\n",
    "        steps = [\n",
    "            ('scaler', StandardScaler()),\n",
    "            ('reduce_dim', PCA()),\n",
    "            ('linear_discriminant_analysis', LinearDiscriminantAnalysis()),\n",
    "        ]\n",
    "        \n",
    "        pipeline = Pipeline(steps)\n",
    "        \n",
    "        params = {'reduce_dim__n_components': np.arange(1, numero_dimensioni, 1),\n",
    "\n",
    "                 }\n",
    "        \n",
    "    elif model == MLPClassifier:  \n",
    "        \n",
    "        steps = [\n",
    "            ('scaler', StandardScaler()),\n",
    "            ('reduce_dim', PCA()),\n",
    "            ('mlpClassifier', MLPClassifier()), \n",
    "        ]\n",
    "        \n",
    "        pipeline = Pipeline(steps)\n",
    "        \n",
    "        params = {'reduce_dim__n_components': np.arange(1, numero_dimensioni, 1),\n",
    "                  'mlpClassifier__learning_rate': ['constant', 'invscaling', 'adaptive'],\n",
    "                  'mlpClassifier__learning_rate_init' : [0.0001, 0.001, 0.01],\n",
    "                  'mlpClassifier__activation' : ['relu', 'logistic'],\n",
    "                  \n",
    "                 }\n",
    "        \n",
    "    grid = GridSearchCV(pipeline, param_grid=params, cv=3)\n",
    "    \n",
    "    grid.fit(X_train, y_train)\n",
    "    \n",
    "    print(\"--- %s seconds ---\" % (time.time() - start_time))\n",
    "    return grid.best_params_"
   ]
  },
  {
   "cell_type": "code",
   "execution_count": 4,
   "metadata": {},
   "outputs": [
    {
     "data": {
      "text/html": [
       "<div>\n",
       "<style scoped>\n",
       "    .dataframe tbody tr th:only-of-type {\n",
       "        vertical-align: middle;\n",
       "    }\n",
       "\n",
       "    .dataframe tbody tr th {\n",
       "        vertical-align: top;\n",
       "    }\n",
       "\n",
       "    .dataframe thead th {\n",
       "        text-align: right;\n",
       "    }\n",
       "</style>\n",
       "<table border=\"1\" class=\"dataframe\">\n",
       "  <thead>\n",
       "    <tr style=\"text-align: right;\">\n",
       "      <th></th>\n",
       "      <th>Serial No.</th>\n",
       "      <th>GRE Score</th>\n",
       "      <th>TOEFL Score</th>\n",
       "      <th>University Rating</th>\n",
       "      <th>SOP</th>\n",
       "      <th>LOR</th>\n",
       "      <th>CGPA</th>\n",
       "      <th>Research</th>\n",
       "      <th>Chance of Admit</th>\n",
       "    </tr>\n",
       "  </thead>\n",
       "  <tbody>\n",
       "    <tr>\n",
       "      <th>0</th>\n",
       "      <td>1</td>\n",
       "      <td>337</td>\n",
       "      <td>118</td>\n",
       "      <td>4</td>\n",
       "      <td>4.5</td>\n",
       "      <td>4.5</td>\n",
       "      <td>9.65</td>\n",
       "      <td>1</td>\n",
       "      <td>0.92</td>\n",
       "    </tr>\n",
       "    <tr>\n",
       "      <th>1</th>\n",
       "      <td>2</td>\n",
       "      <td>324</td>\n",
       "      <td>107</td>\n",
       "      <td>4</td>\n",
       "      <td>4.0</td>\n",
       "      <td>4.5</td>\n",
       "      <td>8.87</td>\n",
       "      <td>1</td>\n",
       "      <td>0.76</td>\n",
       "    </tr>\n",
       "    <tr>\n",
       "      <th>2</th>\n",
       "      <td>3</td>\n",
       "      <td>316</td>\n",
       "      <td>104</td>\n",
       "      <td>3</td>\n",
       "      <td>3.0</td>\n",
       "      <td>3.5</td>\n",
       "      <td>8.00</td>\n",
       "      <td>1</td>\n",
       "      <td>0.72</td>\n",
       "    </tr>\n",
       "    <tr>\n",
       "      <th>3</th>\n",
       "      <td>4</td>\n",
       "      <td>322</td>\n",
       "      <td>110</td>\n",
       "      <td>3</td>\n",
       "      <td>3.5</td>\n",
       "      <td>2.5</td>\n",
       "      <td>8.67</td>\n",
       "      <td>1</td>\n",
       "      <td>0.80</td>\n",
       "    </tr>\n",
       "    <tr>\n",
       "      <th>4</th>\n",
       "      <td>5</td>\n",
       "      <td>314</td>\n",
       "      <td>103</td>\n",
       "      <td>2</td>\n",
       "      <td>2.0</td>\n",
       "      <td>3.0</td>\n",
       "      <td>8.21</td>\n",
       "      <td>0</td>\n",
       "      <td>0.65</td>\n",
       "    </tr>\n",
       "    <tr>\n",
       "      <th>...</th>\n",
       "      <td>...</td>\n",
       "      <td>...</td>\n",
       "      <td>...</td>\n",
       "      <td>...</td>\n",
       "      <td>...</td>\n",
       "      <td>...</td>\n",
       "      <td>...</td>\n",
       "      <td>...</td>\n",
       "      <td>...</td>\n",
       "    </tr>\n",
       "    <tr>\n",
       "      <th>495</th>\n",
       "      <td>496</td>\n",
       "      <td>332</td>\n",
       "      <td>108</td>\n",
       "      <td>5</td>\n",
       "      <td>4.5</td>\n",
       "      <td>4.0</td>\n",
       "      <td>9.02</td>\n",
       "      <td>1</td>\n",
       "      <td>0.87</td>\n",
       "    </tr>\n",
       "    <tr>\n",
       "      <th>496</th>\n",
       "      <td>497</td>\n",
       "      <td>337</td>\n",
       "      <td>117</td>\n",
       "      <td>5</td>\n",
       "      <td>5.0</td>\n",
       "      <td>5.0</td>\n",
       "      <td>9.87</td>\n",
       "      <td>1</td>\n",
       "      <td>0.96</td>\n",
       "    </tr>\n",
       "    <tr>\n",
       "      <th>497</th>\n",
       "      <td>498</td>\n",
       "      <td>330</td>\n",
       "      <td>120</td>\n",
       "      <td>5</td>\n",
       "      <td>4.5</td>\n",
       "      <td>5.0</td>\n",
       "      <td>9.56</td>\n",
       "      <td>1</td>\n",
       "      <td>0.93</td>\n",
       "    </tr>\n",
       "    <tr>\n",
       "      <th>498</th>\n",
       "      <td>499</td>\n",
       "      <td>312</td>\n",
       "      <td>103</td>\n",
       "      <td>4</td>\n",
       "      <td>4.0</td>\n",
       "      <td>5.0</td>\n",
       "      <td>8.43</td>\n",
       "      <td>0</td>\n",
       "      <td>0.73</td>\n",
       "    </tr>\n",
       "    <tr>\n",
       "      <th>499</th>\n",
       "      <td>500</td>\n",
       "      <td>327</td>\n",
       "      <td>113</td>\n",
       "      <td>4</td>\n",
       "      <td>4.5</td>\n",
       "      <td>4.5</td>\n",
       "      <td>9.04</td>\n",
       "      <td>0</td>\n",
       "      <td>0.84</td>\n",
       "    </tr>\n",
       "  </tbody>\n",
       "</table>\n",
       "<p>500 rows × 9 columns</p>\n",
       "</div>"
      ],
      "text/plain": [
       "     Serial No.  GRE Score  TOEFL Score  University Rating  SOP  LOR   CGPA  \\\n",
       "0             1        337          118                  4  4.5   4.5  9.65   \n",
       "1             2        324          107                  4  4.0   4.5  8.87   \n",
       "2             3        316          104                  3  3.0   3.5  8.00   \n",
       "3             4        322          110                  3  3.5   2.5  8.67   \n",
       "4             5        314          103                  2  2.0   3.0  8.21   \n",
       "..          ...        ...          ...                ...  ...   ...   ...   \n",
       "495         496        332          108                  5  4.5   4.0  9.02   \n",
       "496         497        337          117                  5  5.0   5.0  9.87   \n",
       "497         498        330          120                  5  4.5   5.0  9.56   \n",
       "498         499        312          103                  4  4.0   5.0  8.43   \n",
       "499         500        327          113                  4  4.5   4.5  9.04   \n",
       "\n",
       "     Research  Chance of Admit   \n",
       "0           1              0.92  \n",
       "1           1              0.76  \n",
       "2           1              0.72  \n",
       "3           1              0.80  \n",
       "4           0              0.65  \n",
       "..        ...               ...  \n",
       "495         1              0.87  \n",
       "496         1              0.96  \n",
       "497         1              0.93  \n",
       "498         0              0.73  \n",
       "499         0              0.84  \n",
       "\n",
       "[500 rows x 9 columns]"
      ]
     },
     "execution_count": 4,
     "metadata": {},
     "output_type": "execute_result"
    }
   ],
   "source": [
    "#uso un dataset preso da kaggle\n",
    "\n",
    "df = pd.read_csv('Admission_Predict_Ver1.1.csv')\n",
    "df"
   ]
  },
  {
   "cell_type": "code",
   "execution_count": 5,
   "metadata": {},
   "outputs": [
    {
     "data": {
      "text/plain": [
       "(500, 8)"
      ]
     },
     "execution_count": 5,
     "metadata": {},
     "output_type": "execute_result"
    }
   ],
   "source": [
    "X = df.drop('Research', 1)\n",
    "y = df['Research']\n",
    "\n",
    "X.shape"
   ]
  },
  {
   "cell_type": "code",
   "execution_count": 6,
   "metadata": {},
   "outputs": [
    {
     "name": "stdout",
     "output_type": "stream",
     "text": [
      "--- 11.273037195205688 seconds ---\n"
     ]
    },
    {
     "data": {
      "text/plain": [
       "{'SVM__C': 0.2,\n",
       " 'SVM__gamma': 0.1,\n",
       " 'SVM__kernel': 'rbf',\n",
       " 'reduce_dim__n_components': 7}"
      ]
     },
     "execution_count": 6,
     "metadata": {},
     "output_type": "execute_result"
    }
   ],
   "source": [
    "#cerco gli iperparametri per una SVC\n",
    "trovaIperparametri(model=SVC, X=X, y=y, numero_dimensioni=8)"
   ]
  },
  {
   "cell_type": "code",
   "execution_count": 7,
   "metadata": {},
   "outputs": [
    {
     "data": {
      "image/png": "[encoded data removed]",
      "text/plain": [
       "<Figure size 432x288 with 2 Axes>"
      ]
     },
     "metadata": {
      "needs_background": "light"
     },
     "output_type": "display_data"
    },
    {
     "data": {
      "text/plain": [
       "'Lo score e stato calcolato standardizzando i dati, score: 0.7866666666666666'"
      ]
     },
     "execution_count": 7,
     "metadata": {},
     "output_type": "execute_result"
    }
   ],
   "source": [
    "addestraSVC('Admission_Predict_Ver1', X=X, y=y, c=0.2, gamma=0.1, kernel='rbf', dim=7)"
   ]
  },
  {
   "cell_type": "code",
   "execution_count": 8,
   "metadata": {},
   "outputs": [
    {
     "name": "stdout",
     "output_type": "stream",
     "text": [
      "--- 0.2664647102355957 seconds ---\n"
     ]
    },
    {
     "data": {
      "text/plain": [
       "{'reduce_dim__n_components': 5, 'tree__criterion': 'entropy'}"
      ]
     },
     "execution_count": 8,
     "metadata": {},
     "output_type": "execute_result"
    }
   ],
   "source": [
    "#cerco gli iperparametri per un DecisionTreeClassifier\n",
    "trovaIperparametri(model=DecisionTreeClassifier, numero_dimensioni=8, X=X, y=y)"
   ]
  },
  {
   "cell_type": "code",
   "execution_count": 9,
   "metadata": {},
   "outputs": [
    {
     "data": {
      "image/png": "[encoded data removed]",
      "text/plain": [
       "<Figure size 432x288 with 2 Axes>"
      ]
     },
     "metadata": {
      "needs_background": "light"
     },
     "output_type": "display_data"
    },
    {
     "data": {
      "text/plain": [
       "'Lo score e stato calcolato standardizzando i dati, score: 0.68'"
      ]
     },
     "execution_count": 9,
     "metadata": {},
     "output_type": "execute_result"
    }
   ],
   "source": [
    "addestraDecisionTreeClassifier('Admission_Predict_Ver1', X=X, y=y, criterio='entropy', dim=3)"
   ]
  },
  {
   "cell_type": "code",
   "execution_count": 10,
   "metadata": {},
   "outputs": [
    {
     "name": "stdout",
     "output_type": "stream",
     "text": [
      "--- 13.465691804885864 seconds ---\n"
     ]
    },
    {
     "data": {
      "text/plain": [
       "{'random_forest__n_estimators': 70, 'reduce_dim__n_components': 3}"
      ]
     },
     "execution_count": 10,
     "metadata": {},
     "output_type": "execute_result"
    }
   ],
   "source": [
    "# cerco gli iperparametri per un RandomForestClassifier\n",
    "trovaIperparametri(X=X, y=y, model=RandomForestClassifier, numero_dimensioni=8)"
   ]
  },
  {
   "cell_type": "code",
   "execution_count": 11,
   "metadata": {},
   "outputs": [
    {
     "data": {
      "image/png": "[encoded data removed]",
      "text/plain": [
       "<Figure size 432x288 with 2 Axes>"
      ]
     },
     "metadata": {
      "needs_background": "light"
     },
     "output_type": "display_data"
    },
    {
     "data": {
      "text/plain": [
       "'Lo score e stato calcolato standardizzando i dati, score: 0.76'"
      ]
     },
     "execution_count": 11,
     "metadata": {},
     "output_type": "execute_result"
    }
   ],
   "source": [
    "addestraRandomForestClassifier('Admission_Predict_Ver1.1', X=X, y=y, dim=3, n_estimators=50)"
   ]
  },
  {
   "cell_type": "code",
   "execution_count": 12,
   "metadata": {},
   "outputs": [
    {
     "name": "stdout",
     "output_type": "stream",
     "text": [
      "--- 0.3817300796508789 seconds ---\n"
     ]
    },
    {
     "data": {
      "text/plain": [
       "{'linear_discriminant_analysis__solver': 'svd', 'reduce_dim__n_components': 3}"
      ]
     },
     "execution_count": 12,
     "metadata": {},
     "output_type": "execute_result"
    }
   ],
   "source": [
    "#trovo iperparametri per un LinearDiscriminantAnalysis\n",
    "trovaIperparametri(model=LinearDiscriminantAnalysis, X=X, y=y, numero_dimensioni=8)"
   ]
  },
  {
   "cell_type": "code",
   "execution_count": 13,
   "metadata": {},
   "outputs": [
    {
     "data": {
      "image/png": "[encoded data removed]",
      "text/plain": [
       "<Figure size 432x288 with 2 Axes>"
      ]
     },
     "metadata": {
      "needs_background": "light"
     },
     "output_type": "display_data"
    },
    {
     "data": {
      "text/plain": [
       "'Lo score e stato calcolato standardizzando i dati, score: 0.7733333333333333'"
      ]
     },
     "execution_count": 13,
     "metadata": {},
     "output_type": "execute_result"
    }
   ],
   "source": [
    "addestraLinearDiscriminantAnalysis(nomeDataset='Admission_Predict_Ver1.1', X=X, y=y, solver='svd', dim=3)"
   ]
  },
  {
   "cell_type": "code",
   "execution_count": 14,
   "metadata": {},
   "outputs": [
    {
     "name": "stdout",
     "output_type": "stream",
     "text": [
      "--- 0.20222234725952148 seconds ---\n"
     ]
    },
    {
     "data": {
      "text/plain": [
       "{'reduce_dim__n_components': 3}"
      ]
     },
     "execution_count": 14,
     "metadata": {},
     "output_type": "execute_result"
    }
   ],
   "source": [
    "#trovo iperparametri per un GaussianNB\n",
    "trovaIperparametri(model=GaussianNB, X=X, y=y, numero_dimensioni=8)"
   ]
  },
  {
   "cell_type": "code",
   "execution_count": 15,
   "metadata": {},
   "outputs": [
    {
     "data": {
      "image/png": "[encoded data removed]",
      "text/plain": [
       "<Figure size 432x288 with 2 Axes>"
      ]
     },
     "metadata": {
      "needs_background": "light"
     },
     "output_type": "display_data"
    },
    {
     "data": {
      "text/plain": [
       "'Lo score e stato calcolato standardizzando i dati, score: 0.8'"
      ]
     },
     "execution_count": 15,
     "metadata": {},
     "output_type": "execute_result"
    }
   ],
   "source": [
    "addestraGaussianNB(nomeDataset='Admission_Predict_Ver1.1', X=X, y=y, dim=3)"
   ]
  },
  {
   "cell_type": "code",
   "execution_count": 16,
   "metadata": {},
   "outputs": [
    {
     "name": "stdout",
     "output_type": "stream",
     "text": [
      "--- 66.84989738464355 seconds ---\n"
     ]
    },
    {
     "data": {
      "text/plain": [
       "{'mlpClassifier__activation': 'relu',\n",
       " 'mlpClassifier__learning_rate': 'constant',\n",
       " 'mlpClassifier__learning_rate_init': 0.001,\n",
       " 'reduce_dim__n_components': 3}"
      ]
     },
     "execution_count": 16,
     "metadata": {},
     "output_type": "execute_result"
    }
   ],
   "source": [
    "#trovo iperparametri per un MLPClassifier\n",
    "trovaIperparametri(X=X, y=y, model=MLPClassifier, numero_dimensioni=8)"
   ]
  },
  {
   "cell_type": "code",
   "execution_count": 17,
   "metadata": {},
   "outputs": [
    {
     "data": {
      "image/png": "[encoded data removed]",
      "text/plain": [
       "<Figure size 432x288 with 2 Axes>"
      ]
     },
     "metadata": {
      "needs_background": "light"
     },
     "output_type": "display_data"
    },
    {
     "data": {
      "text/plain": [
       "'Score: 0.78'"
      ]
     },
     "execution_count": 17,
     "metadata": {},
     "output_type": "execute_result"
    }
   ],
   "source": [
    "addestraMLPClassifier('Admission_Predict_Ver1.1', X=X, y=y, activation='relu', learning_rate='adaptive', learning_rate_init=0.0001, momentum=0.7, hidden_layer_sizes=(50, 50), dim=5, max_iter=500)"
   ]
  },
  {
   "cell_type": "code",
   "execution_count": 4,
   "metadata": {},
   "outputs": [
    {
     "data": {
      "text/plain": [
       "array([[5.1, 3.5, 1.4, 0.2],\n",
       "       [4.9, 3. , 1.4, 0.2],\n",
       "       [4.7, 3.2, 1.3, 0.2],\n",
       "       [4.6, 3.1, 1.5, 0.2],\n",
       "       [5. , 3.6, 1.4, 0.2],\n",
       "       [5.4, 3.9, 1.7, 0.4],\n",
       "       [4.6, 3.4, 1.4, 0.3],\n",
       "       [5. , 3.4, 1.5, 0.2],\n",
       "       [4.4, 2.9, 1.4, 0.2],\n",
       "       [4.9, 3.1, 1.5, 0.1],\n",
       "       [5.4, 3.7, 1.5, 0.2],\n",
       "       [4.8, 3.4, 1.6, 0.2],\n",
       "       [4.8, 3. , 1.4, 0.1],\n",
       "       [4.3, 3. , 1.1, 0.1],\n",
       "       [5.8, 4. , 1.2, 0.2],\n",
       "       [5.7, 4.4, 1.5, 0.4],\n",
       "       [5.4, 3.9, 1.3, 0.4],\n",
       "       [5.1, 3.5, 1.4, 0.3],\n",
       "       [5.7, 3.8, 1.7, 0.3],\n",
       "       [5.1, 3.8, 1.5, 0.3],\n",
       "       [5.4, 3.4, 1.7, 0.2],\n",
       "       [5.1, 3.7, 1.5, 0.4],\n",
       "       [4.6, 3.6, 1. , 0.2],\n",
       "       [5.1, 3.3, 1.7, 0.5],\n",
       "       [4.8, 3.4, 1.9, 0.2],\n",
       "       [5. , 3. , 1.6, 0.2],\n",
       "       [5. , 3.4, 1.6, 0.4],\n",
       "       [5.2, 3.5, 1.5, 0.2],\n",
       "       [5.2, 3.4, 1.4, 0.2],\n",
       "       [4.7, 3.2, 1.6, 0.2],\n",
       "       [4.8, 3.1, 1.6, 0.2],\n",
       "       [5.4, 3.4, 1.5, 0.4],\n",
       "       [5.2, 4.1, 1.5, 0.1],\n",
       "       [5.5, 4.2, 1.4, 0.2],\n",
       "       [4.9, 3.1, 1.5, 0.2],\n",
       "       [5. , 3.2, 1.2, 0.2],\n",
       "       [5.5, 3.5, 1.3, 0.2],\n",
       "       [4.9, 3.6, 1.4, 0.1],\n",
       "       [4.4, 3. , 1.3, 0.2],\n",
       "       [5.1, 3.4, 1.5, 0.2],\n",
       "       [5. , 3.5, 1.3, 0.3],\n",
       "       [4.5, 2.3, 1.3, 0.3],\n",
       "       [4.4, 3.2, 1.3, 0.2],\n",
       "       [5. , 3.5, 1.6, 0.6],\n",
       "       [5.1, 3.8, 1.9, 0.4],\n",
       "       [4.8, 3. , 1.4, 0.3],\n",
       "       [5.1, 3.8, 1.6, 0.2],\n",
       "       [4.6, 3.2, 1.4, 0.2],\n",
       "       [5.3, 3.7, 1.5, 0.2],\n",
       "       [5. , 3.3, 1.4, 0.2],\n",
       "       [7. , 3.2, 4.7, 1.4],\n",
       "       [6.4, 3.2, 4.5, 1.5],\n",
       "       [6.9, 3.1, 4.9, 1.5],\n",
       "       [5.5, 2.3, 4. , 1.3],\n",
       "       [6.5, 2.8, 4.6, 1.5],\n",
       "       [5.7, 2.8, 4.5, 1.3],\n",
       "       [6.3, 3.3, 4.7, 1.6],\n",
       "       [4.9, 2.4, 3.3, 1. ],\n",
       "       [6.6, 2.9, 4.6, 1.3],\n",
       "       [5.2, 2.7, 3.9, 1.4],\n",
       "       [5. , 2. , 3.5, 1. ],\n",
       "       [5.9, 3. , 4.2, 1.5],\n",
       "       [6. , 2.2, 4. , 1. ],\n",
       "       [6.1, 2.9, 4.7, 1.4],\n",
       "       [5.6, 2.9, 3.6, 1.3],\n",
       "       [6.7, 3.1, 4.4, 1.4],\n",
       "       [5.6, 3. , 4.5, 1.5],\n",
       "       [5.8, 2.7, 4.1, 1. ],\n",
       "       [6.2, 2.2, 4.5, 1.5],\n",
       "       [5.6, 2.5, 3.9, 1.1],\n",
       "       [5.9, 3.2, 4.8, 1.8],\n",
       "       [6.1, 2.8, 4. , 1.3],\n",
       "       [6.3, 2.5, 4.9, 1.5],\n",
       "       [6.1, 2.8, 4.7, 1.2],\n",
       "       [6.4, 2.9, 4.3, 1.3],\n",
       "       [6.6, 3. , 4.4, 1.4],\n",
       "       [6.8, 2.8, 4.8, 1.4],\n",
       "       [6.7, 3. , 5. , 1.7],\n",
       "       [6. , 2.9, 4.5, 1.5],\n",
       "       [5.7, 2.6, 3.5, 1. ],\n",
       "       [5.5, 2.4, 3.8, 1.1],\n",
       "       [5.5, 2.4, 3.7, 1. ],\n",
       "       [5.8, 2.7, 3.9, 1.2],\n",
       "       [6. , 2.7, 5.1, 1.6],\n",
       "       [5.4, 3. , 4.5, 1.5],\n",
       "       [6. , 3.4, 4.5, 1.6],\n",
       "       [6.7, 3.1, 4.7, 1.5],\n",
       "       [6.3, 2.3, 4.4, 1.3],\n",
       "       [5.6, 3. , 4.1, 1.3],\n",
       "       [5.5, 2.5, 4. , 1.3],\n",
       "       [5.5, 2.6, 4.4, 1.2],\n",
       "       [6.1, 3. , 4.6, 1.4],\n",
       "       [5.8, 2.6, 4. , 1.2],\n",
       "       [5. , 2.3, 3.3, 1. ],\n",
       "       [5.6, 2.7, 4.2, 1.3],\n",
       "       [5.7, 3. , 4.2, 1.2],\n",
       "       [5.7, 2.9, 4.2, 1.3],\n",
       "       [6.2, 2.9, 4.3, 1.3],\n",
       "       [5.1, 2.5, 3. , 1.1],\n",
       "       [5.7, 2.8, 4.1, 1.3],\n",
       "       [6.3, 3.3, 6. , 2.5],\n",
       "       [5.8, 2.7, 5.1, 1.9],\n",
       "       [7.1, 3. , 5.9, 2.1],\n",
       "       [6.3, 2.9, 5.6, 1.8],\n",
       "       [6.5, 3. , 5.8, 2.2],\n",
       "       [7.6, 3. , 6.6, 2.1],\n",
       "       [4.9, 2.5, 4.5, 1.7],\n",
       "       [7.3, 2.9, 6.3, 1.8],\n",
       "       [6.7, 2.5, 5.8, 1.8],\n",
       "       [7.2, 3.6, 6.1, 2.5],\n",
       "       [6.5, 3.2, 5.1, 2. ],\n",
       "       [6.4, 2.7, 5.3, 1.9],\n",
       "       [6.8, 3. , 5.5, 2.1],\n",
       "       [5.7, 2.5, 5. , 2. ],\n",
       "       [5.8, 2.8, 5.1, 2.4],\n",
       "       [6.4, 3.2, 5.3, 2.3],\n",
       "       [6.5, 3. , 5.5, 1.8],\n",
       "       [7.7, 3.8, 6.7, 2.2],\n",
       "       [7.7, 2.6, 6.9, 2.3],\n",
       "       [6. , 2.2, 5. , 1.5],\n",
       "       [6.9, 3.2, 5.7, 2.3],\n",
       "       [5.6, 2.8, 4.9, 2. ],\n",
       "       [7.7, 2.8, 6.7, 2. ],\n",
       "       [6.3, 2.7, 4.9, 1.8],\n",
       "       [6.7, 3.3, 5.7, 2.1],\n",
       "       [7.2, 3.2, 6. , 1.8],\n",
       "       [6.2, 2.8, 4.8, 1.8],\n",
       "       [6.1, 3. , 4.9, 1.8],\n",
       "       [6.4, 2.8, 5.6, 2.1],\n",
       "       [7.2, 3. , 5.8, 1.6],\n",
       "       [7.4, 2.8, 6.1, 1.9],\n",
       "       [7.9, 3.8, 6.4, 2. ],\n",
       "       [6.4, 2.8, 5.6, 2.2],\n",
       "       [6.3, 2.8, 5.1, 1.5],\n",
       "       [6.1, 2.6, 5.6, 1.4],\n",
       "       [7.7, 3. , 6.1, 2.3],\n",
       "       [6.3, 3.4, 5.6, 2.4],\n",
       "       [6.4, 3.1, 5.5, 1.8],\n",
       "       [6. , 3. , 4.8, 1.8],\n",
       "       [6.9, 3.1, 5.4, 2.1],\n",
       "       [6.7, 3.1, 5.6, 2.4],\n",
       "       [6.9, 3.1, 5.1, 2.3],\n",
       "       [5.8, 2.7, 5.1, 1.9],\n",
       "       [6.8, 3.2, 5.9, 2.3],\n",
       "       [6.7, 3.3, 5.7, 2.5],\n",
       "       [6.7, 3. , 5.2, 2.3],\n",
       "       [6.3, 2.5, 5. , 1.9],\n",
       "       [6.5, 3. , 5.2, 2. ],\n",
       "       [6.2, 3.4, 5.4, 2.3],\n",
       "       [5.9, 3. , 5.1, 1.8]])"
      ]
     },
     "execution_count": 4,
     "metadata": {},
     "output_type": "execute_result"
    }
   ],
   "source": [
    "#Prendo come dataset IRIS\n",
    "dataset = load_iris()\n",
    "X = dataset['data']\n",
    "y = dataset['target']"
   ]
  },
  {
   "cell_type": "code",
   "execution_count": 19,
   "metadata": {},
   "outputs": [
    {
     "data": {
      "text/plain": [
       "(150, 4)"
      ]
     },
     "execution_count": 19,
     "metadata": {},
     "output_type": "execute_result"
    }
   ],
   "source": [
    "X.shape"
   ]
  },
  {
   "cell_type": "code",
   "execution_count": 20,
   "metadata": {},
   "outputs": [
    {
     "name": "stdout",
     "output_type": "stream",
     "text": [
      "--- 1.4524025917053223 seconds ---\n"
     ]
    },
    {
     "data": {
      "text/plain": [
       "{'SVM__C': 0.2,\n",
       " 'SVM__gamma': 0.1,\n",
       " 'SVM__kernel': 'linear',\n",
       " 'reduce_dim__n_components': 3}"
      ]
     },
     "execution_count": 20,
     "metadata": {},
     "output_type": "execute_result"
    }
   ],
   "source": [
    "#trovo iperparametri per una SVC\n",
    "trovaIperparametri(X=X, y=y, model=SVC, numero_dimensioni=4)"
   ]
  },
  {
   "cell_type": "code",
   "execution_count": 21,
   "metadata": {},
   "outputs": [
    {
     "data": {
      "image/png": "[encoded data removed]",
      "text/plain": [
       "<Figure size 432x288 with 2 Axes>"
      ]
     },
     "metadata": {
      "needs_background": "light"
     },
     "output_type": "display_data"
    },
    {
     "data": {
      "text/plain": [
       "'Lo score e stato calcolato standardizzando i dati, score: 0.9555555555555556'"
      ]
     },
     "execution_count": 21,
     "metadata": {},
     "output_type": "execute_result"
    }
   ],
   "source": [
    "addestraSVC(nomeDataset='IRIS', X=X, y=y, c=0.2, gamma=0.1, kernel='linear', dim=3)"
   ]
  },
  {
   "cell_type": "code",
   "execution_count": 22,
   "metadata": {},
   "outputs": [
    {
     "name": "stdout",
     "output_type": "stream",
     "text": [
      "--- 4.35167670249939 seconds ---\n"
     ]
    },
    {
     "data": {
      "text/plain": [
       "{'random_forest__n_estimators': 20, 'reduce_dim__n_components': 3}"
      ]
     },
     "execution_count": 22,
     "metadata": {},
     "output_type": "execute_result"
    }
   ],
   "source": [
    "#trovo iperparametri per una RandomForest\n",
    "trovaIperparametri(model=RandomForestClassifier, X=X, y=y, numero_dimensioni=4)"
   ]
  },
  {
   "cell_type": "code",
   "execution_count": 23,
   "metadata": {},
   "outputs": [
    {
     "data": {
      "image/png": "[encoded data removed]",
      "text/plain": [
       "<Figure size 432x288 with 2 Axes>"
      ]
     },
     "metadata": {
      "needs_background": "light"
     },
     "output_type": "display_data"
    },
    {
     "data": {
      "text/plain": [
       "'Lo score e stato calcolato standardizzando i dati, score: 0.9111111111111111'"
      ]
     },
     "execution_count": 23,
     "metadata": {},
     "output_type": "execute_result"
    }
   ],
   "source": [
    "addestraRandomForestClassifier(nomeDataset='IRIS', X=X, y=y, dim=3, n_estimators=50)"
   ]
  },
  {
   "cell_type": "code",
   "execution_count": 24,
   "metadata": {},
   "outputs": [
    {
     "name": "stdout",
     "output_type": "stream",
     "text": [
      "--- 0.16812562942504883 seconds ---\n"
     ]
    },
    {
     "data": {
      "text/plain": [
       "{'reduce_dim__n_components': 1, 'tree__criterion': 'gini'}"
      ]
     },
     "execution_count": 24,
     "metadata": {},
     "output_type": "execute_result"
    }
   ],
   "source": [
    "#trovo iperparametri per un DecisionTree\n",
    "trovaIperparametri(model=DecisionTreeClassifier, X=X, y=y, numero_dimensioni=4)"
   ]
  },
  {
   "cell_type": "code",
   "execution_count": 25,
   "metadata": {},
   "outputs": [
    {
     "data": {
      "image/png": "[encoded data removed]",
      "text/plain": [
       "<Figure size 432x288 with 2 Axes>"
      ]
     },
     "metadata": {
      "needs_background": "light"
     },
     "output_type": "display_data"
    },
    {
     "data": {
      "text/plain": [
       "'Lo score e stato calcolato standardizzando i dati, score: 0.9333333333333333'"
      ]
     },
     "execution_count": 25,
     "metadata": {},
     "output_type": "execute_result"
    }
   ],
   "source": [
    "addestraDecisionTreeClassifier(nomeDataset='IRIS', X=X, y=y, dim=3, criterio='gini')"
   ]
  },
  {
   "cell_type": "code",
   "execution_count": 26,
   "metadata": {},
   "outputs": [
    {
     "name": "stdout",
     "output_type": "stream",
     "text": [
      "--- 0.043215274810791016 seconds ---\n"
     ]
    },
    {
     "data": {
      "text/plain": [
       "{'reduce_dim__n_components': 3}"
      ]
     },
     "execution_count": 26,
     "metadata": {},
     "output_type": "execute_result"
    }
   ],
   "source": [
    "#trovo iperparametri per un GaussianNB\n",
    "trovaIperparametri(model=GaussianNB, X=X, y=y, numero_dimensioni=4)"
   ]
  },
  {
   "cell_type": "code",
   "execution_count": 27,
   "metadata": {},
   "outputs": [
    {
     "data": {
      "image/png": "[encoded data removed]",
      "text/plain": [
       "<Figure size 432x288 with 2 Axes>"
      ]
     },
     "metadata": {
      "needs_background": "light"
     },
     "output_type": "display_data"
    },
    {
     "data": {
      "text/plain": [
       "'Lo score e stato calcolato standardizzando i dati, score: 0.8888888888888888'"
      ]
     },
     "execution_count": 27,
     "metadata": {},
     "output_type": "execute_result"
    }
   ],
   "source": [
    "addestraGaussianNB(nomeDataset='IRIS', X=X, y=y, dim=3)"
   ]
  },
  {
   "cell_type": "code",
   "execution_count": 28,
   "metadata": {},
   "outputs": [
    {
     "name": "stdout",
     "output_type": "stream",
     "text": [
      "--- 0.10226035118103027 seconds ---\n"
     ]
    },
    {
     "data": {
      "text/plain": [
       "{'linear_discriminant_analysis__solver': 'svd', 'reduce_dim__n_components': 3}"
      ]
     },
     "execution_count": 28,
     "metadata": {},
     "output_type": "execute_result"
    }
   ],
   "source": [
    "#trovo iperparametri per un \n",
    "trovaIperparametri(model=LinearDiscriminantAnalysis, X=X, y=y, numero_dimensioni=4)"
   ]
  },
  {
   "cell_type": "code",
   "execution_count": 29,
   "metadata": {},
   "outputs": [
    {
     "data": {
      "image/png": "[encoded data removed]",
      "text/plain": [
       "<Figure size 432x288 with 2 Axes>"
      ]
     },
     "metadata": {
      "needs_background": "light"
     },
     "output_type": "display_data"
    },
    {
     "data": {
      "text/plain": [
       "'Lo score e stato calcolato standardizzando i dati, score: 0.9777777777777777'"
      ]
     },
     "execution_count": 29,
     "metadata": {},
     "output_type": "execute_result"
    }
   ],
   "source": [
    "addestraLinearDiscriminantAnalysis(nomeDataset='IRIS', X=X, y=y, solver='svd', dim=3)"
   ]
  },
  {
   "cell_type": "code",
   "execution_count": 30,
   "metadata": {},
   "outputs": [
    {
     "name": "stdout",
     "output_type": "stream",
     "text": [
      "--- 15.833383798599243 seconds ---\n"
     ]
    },
    {
     "data": {
      "text/plain": [
       "{'mlpClassifier__activation': 'logistic',\n",
       " 'mlpClassifier__learning_rate': 'constant',\n",
       " 'mlpClassifier__learning_rate_init': 0.01,\n",
       " 'reduce_dim__n_components': 3}"
      ]
     },
     "execution_count": 30,
     "metadata": {},
     "output_type": "execute_result"
    }
   ],
   "source": [
    "#trova iperparametri per un MLPCLassifier\n",
    "trovaIperparametri(X=X, y=y, model=MLPClassifier, numero_dimensioni=4)"
   ]
  },
  {
   "cell_type": "code",
   "execution_count": 31,
   "metadata": {},
   "outputs": [
    {
     "data": {
      "image/png": "[encoded data removed]",
      "text/plain": [
       "<Figure size 432x288 with 2 Axes>"
      ]
     },
     "metadata": {
      "needs_background": "light"
     },
     "output_type": "display_data"
    },
    {
     "data": {
      "text/plain": [
       "'Score: 0.9555555555555556'"
      ]
     },
     "execution_count": 31,
     "metadata": {},
     "output_type": "execute_result"
    }
   ],
   "source": [
    "addestraMLPClassifier(nomeDataset='Admission_Predict_Ver1.1', X=X, y=y, activation='relu', learning_rate='constant', learning_rate_init=0.01, momentum=0.9, hidden_layer_sizes=(50), dim=3, max_iter=500)"
   ]
  },
  {
   "cell_type": "code",
   "execution_count": 32,
   "metadata": {},
   "outputs": [
    {
     "data": {
      "image/png": "[encoded data removed]",
      "text/plain": [
       "<Figure size 432x288 with 2 Axes>"
      ]
     },
     "metadata": {
      "needs_background": "light"
     },
     "output_type": "display_data"
    },
    {
     "data": {
      "text/plain": [
       "'Score: 0.9333333333333333'"
      ]
     },
     "execution_count": 32,
     "metadata": {},
     "output_type": "execute_result"
    }
   ],
   "source": [
    "addestraMLPClassifier(nomeDataset='Admission_Predict_Ver1.1', X=X, y=y, activation='relu', learning_rate='constant', learning_rate_init=0.01, momentum=0.9, hidden_layer_sizes=(500), dim=3, max_iter=500)"
   ]
  },
  {
   "cell_type": "code",
   "execution_count": 33,
   "metadata": {},
   "outputs": [
    {
     "data": {
      "image/png": "[encoded data removed]",
      "text/plain": [
       "<Figure size 432x288 with 2 Axes>"
      ]
     },
     "metadata": {
      "needs_background": "light"
     },
     "output_type": "display_data"
    },
    {
     "data": {
      "text/plain": [
       "'Score: 0.9333333333333333'"
      ]
     },
     "execution_count": 33,
     "metadata": {},
     "output_type": "execute_result"
    }
   ],
   "source": [
    "addestraMLPClassifier(nomeDataset='Admission_Predict_Ver1.1', X=X, y=y, activation='relu', learning_rate='constant', learning_rate_init=0.01, momentum=0.1, hidden_layer_sizes=(500, 500), dim=3, max_iter=500)"
   ]
  },
  {
   "cell_type": "code",
   "execution_count": 34,
   "metadata": {},
   "outputs": [],
   "source": [
    "dataset = load_breast_cancer()\n",
    "X = dataset['data']\n",
    "y = dataset['target']"
   ]
  },
  {
   "cell_type": "code",
   "execution_count": 35,
   "metadata": {},
   "outputs": [
    {
     "data": {
      "text/plain": [
       "(569, 30)"
      ]
     },
     "execution_count": 35,
     "metadata": {},
     "output_type": "execute_result"
    }
   ],
   "source": [
    "X.shape"
   ]
  },
  {
   "cell_type": "code",
   "execution_count": 36,
   "metadata": {},
   "outputs": [
    {
     "name": "stdout",
     "output_type": "stream",
     "text": [
      "--- 304.4252841472626 seconds ---\n"
     ]
    },
    {
     "data": {
      "text/plain": [
       "{'mlpClassifier__activation': 'logistic',\n",
       " 'mlpClassifier__learning_rate': 'constant',\n",
       " 'mlpClassifier__learning_rate_init': 0.001,\n",
       " 'reduce_dim__n_components': 13}"
      ]
     },
     "execution_count": 36,
     "metadata": {},
     "output_type": "execute_result"
    }
   ],
   "source": [
    "trovaIperparametri(X=X, y=y, model=MLPClassifier, numero_dimensioni=30)"
   ]
  },
  {
   "cell_type": "code",
   "execution_count": 37,
   "metadata": {},
   "outputs": [
    {
     "data": {
      "image/png": "[encoded data removed]",
      "text/plain": [
       "<Figure size 432x288 with 2 Axes>"
      ]
     },
     "metadata": {
      "needs_background": "light"
     },
     "output_type": "display_data"
    },
    {
     "data": {
      "text/plain": [
       "'Score: 0.9415204678362573'"
      ]
     },
     "execution_count": 37,
     "metadata": {},
     "output_type": "execute_result"
    }
   ],
   "source": [
    "addestraMLPClassifier(nomeDataset='cancer', X=X, y=y, activation='logistic', learning_rate='constant', momentum=0.9, learning_rate_init=0.001, dim=13, hidden_layer_sizes=(50), max_iter=500)"
   ]
  },
  {
   "cell_type": "code",
   "execution_count": 38,
   "metadata": {},
   "outputs": [
    {
     "data": {
      "image/png": "[encoded data removed]",
      "text/plain": [
       "<Figure size 432x288 with 2 Axes>"
      ]
     },
     "metadata": {
      "needs_background": "light"
     },
     "output_type": "display_data"
    },
    {
     "data": {
      "text/plain": [
       "'Score: 0.9473684210526315'"
      ]
     },
     "execution_count": 38,
     "metadata": {},
     "output_type": "execute_result"
    }
   ],
   "source": [
    "addestraMLPClassifier(nomeDataset='cancer', X=X, y=y, activation='logistic', learning_rate='constant', momentum=0.9, learning_rate_init=0.001, dim=13, hidden_layer_sizes=(50, 50), max_iter=500)"
   ]
  },
  {
   "cell_type": "code",
   "execution_count": 39,
   "metadata": {},
   "outputs": [
    {
     "data": {
      "image/png": "[encoded data removed]",
      "text/plain": [
       "<Figure size 432x288 with 2 Axes>"
      ]
     },
     "metadata": {
      "needs_background": "light"
     },
     "output_type": "display_data"
    },
    {
     "data": {
      "text/plain": [
       "'Score: 0.9532163742690059'"
      ]
     },
     "execution_count": 39,
     "metadata": {},
     "output_type": "execute_result"
    }
   ],
   "source": [
    "addestraMLPClassifier(nomeDataset='cancer', X=X, y=y, activation='logistic', learning_rate='constant', momentum=0.9, learning_rate_init=0.001, dim=13, hidden_layer_sizes=(50, 50, 50), max_iter=500)"
   ]
  },
  {
   "cell_type": "code",
   "execution_count": 40,
   "metadata": {},
   "outputs": [
    {
     "data": {
      "image/png": "[encoded data removed]",
      "text/plain": [
       "<Figure size 432x288 with 2 Axes>"
      ]
     },
     "metadata": {
      "needs_background": "light"
     },
     "output_type": "display_data"
    },
    {
     "data": {
      "text/plain": [
       "'Score: 0.9532163742690059'"
      ]
     },
     "execution_count": 40,
     "metadata": {},
     "output_type": "execute_result"
    }
   ],
   "source": [
    "addestraMLPClassifier(nomeDataset='cancer', X=X, y=y, activation='logistic', learning_rate='constant', momentum=0.9, learning_rate_init=0.001, dim=13, hidden_layer_sizes=(150, 150, 150), max_iter=500)"
   ]
  },
  {
   "cell_type": "code",
   "execution_count": 41,
   "metadata": {},
   "outputs": [
    {
     "name": "stdout",
     "output_type": "stream",
     "text": [
      "--- 25.04281735420227 seconds ---\n"
     ]
    },
    {
     "data": {
      "text/plain": [
       "{'SVM__C': 0.8,\n",
       " 'SVM__gamma': 0.1,\n",
       " 'SVM__kernel': 'linear',\n",
       " 'reduce_dim__n_components': 9}"
      ]
     },
     "execution_count": 41,
     "metadata": {},
     "output_type": "execute_result"
    }
   ],
   "source": [
    "#trova iperparametri per una SVC\n",
    "trovaIperparametri(model=SVC, X=X, y=y, numero_dimensioni=30)"
   ]
  },
  {
   "cell_type": "code",
   "execution_count": 42,
   "metadata": {},
   "outputs": [
    {
     "data": {
      "image/png": "[encoded data removed]",
      "text/plain": [
       "<Figure size 432x288 with 2 Axes>"
      ]
     },
     "metadata": {
      "needs_background": "light"
     },
     "output_type": "display_data"
    },
    {
     "data": {
      "text/plain": [
       "'Lo score e stato calcolato standardizzando i dati, score: 0.9532163742690059'"
      ]
     },
     "execution_count": 42,
     "metadata": {},
     "output_type": "execute_result"
    }
   ],
   "source": [
    "addestraSVC(nomeDataset='cancer', X=X, y=y, dim=9, c=0.8, gamma=0.1, kernel='linear')"
   ]
  },
  {
   "cell_type": "code",
   "execution_count": null,
   "metadata": {},
   "outputs": [],
   "source": []
  }
 ],
 "metadata": {
  "kernelspec": {
   "display_name": "Python 3",
   "language": "python",
   "name": "python3"
  },
  "language_info": {
   "codemirror_mode": {
    "name": "ipython",
    "version": 3
   },
   "file_extension": ".py",
   "mimetype": "text/x-python",
   "name": "python",
   "nbconvert_exporter": "python",
   "pygments_lexer": "ipython3",
   "version": "3.7.3"
  }
 },
 "nbformat": 4,
 "nbformat_minor": 2
}
