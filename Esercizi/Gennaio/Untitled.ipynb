{
 "cells": [
  {
   "cell_type": "code",
   "execution_count": 2,
   "metadata": {},
   "outputs": [],
   "source": [
    "def warn(*args, **kwargs):\n",
    "    pass\n",
    "import warnings\n",
    "warnings.warn = warn\n",
    "\n",
    "from sklearn.datasets import load_breast_cancer, load_iris\n",
    "from sklearn.svm import SVC\n",
    "import numpy as np\n",
    "from sklearn.model_selection import train_test_split, cross_val_score\n",
    "import matplotlib.pyplot as plt\n",
    "%matplotlib inline\n",
    "from sklearn.metrics import accuracy_score, confusion_matrix\n",
    "from statistics import mean\n",
    "from scikitplot.metrics import plot_confusion_matrix\n",
    "from sklearn.preprocessing import StandardScaler, RobustScaler, QuantileTransformer\n",
    "from sklearn.decomposition import PCA\n",
    "from sklearn.pipeline import Pipeline\n",
    "from sklearn.model_selection import GridSearchCV\n",
    "from sklearn.manifold import TSNE\n",
    "from sklearn.feature_selection import SelectKBest, f_regression\n",
    "from sklearn.tree import DecisionTreeClassifier\n",
    "from sklearn.ensemble import RandomForestClassifier\n",
    "import logging\n",
    "from sklearn.discriminant_analysis import LinearDiscriminantAnalysis\n",
    "from sklearn.naive_bayes import GaussianNB\n",
    "import pandas as pd\n",
    "from sklearn.neural_network import MLPClassifier\n",
    "import time"
   ]
  },
  {
   "cell_type": "code",
   "execution_count": 4,
   "metadata": {},
   "outputs": [],
   "source": [
    "import logging\n",
    "\n",
    "# create logger with 'spam_application'\n",
    "logger = logging.getLogger('spam_application')\n",
    "logger.setLevel(logging.DEBUG)\n",
    "# create file handler which logs even debug messages\n",
    "fh = logging.FileHandler('risultati.log')\n",
    "fh.setLevel(logging.INFO)\n",
    "logger.addHandler(fh)\n"
   ]
  },
  {
   "cell_type": "code",
   "execution_count": 18,
   "metadata": {},
   "outputs": [],
   "source": [
    "dfs = pd.read_excel('DATABASE_UNITO.xlsx', sheet_name=None)"
   ]
  },
  {
   "cell_type": "code",
   "execution_count": 19,
   "metadata": {},
   "outputs": [
    {
     "data": {
      "text/plain": [
       "OrderedDict([('Foglio1',\n",
       "                  IDENTIFICAZIONE           Unnamed: 1  Sesso  Anni  Peso  Altezza (m)  \\\n",
       "              0               NaN                  NaN    NaN   NaN   NaN          NaN   \n",
       "              1           Verbale                 Data    NaN   NaN   NaN          NaN   \n",
       "              2             85567  1999-10-29 00:00:00    0.0  81.0  84.0         1.75   \n",
       "              3             85829  2000-01-14 00:00:00    1.0  69.0  69.0         1.62   \n",
       "              4             85977  2000-03-10 00:00:00    1.0  71.0  67.0         1.55   \n",
       "              ..              ...                  ...    ...   ...   ...          ...   \n",
       "              127          101618  2019-05-08 00:00:00    1.0  82.0  80.2         1.62   \n",
       "              128         101288E  2018-11-07 00:00:00    1.0  70.0  75.6         1.57   \n",
       "              129         E-97586  2013-05-14 00:00:00    0.0  45.0  45.0         1.77   \n",
       "              130               X  2018-01-03 00:00:00    0.0  54.0  89.6         1.68   \n",
       "              131              X1  2018-02-14 00:00:00    1.0  86.0  50.0         1.55   \n",
       "              \n",
       "                         BMI  Mezzo        TESTA      Unnamed: 9  ...  Unnamed: 357  \\\n",
       "              0          NaN    NaN          NaN             NaN  ...           NaN   \n",
       "              1          NaN    NaN  Neurocranio  Splancnocranio  ...  II raggio sx   \n",
       "              2    27.428571    0.0            1               0  ...             0   \n",
       "              3    26.291724    1.0            4               4  ...             0   \n",
       "              4    27.887617    1.0            2               0  ...             0   \n",
       "              ..         ...    ...          ...             ...  ...           ...   \n",
       "              127  30.559366    0.0            1               0  ...             0   \n",
       "              128  30.670615    0.0            2               0  ...             0   \n",
       "              129  14.363689    1.0            0               0  ...             0   \n",
       "              130  31.746032    0.0            0               2  ...             0   \n",
       "              131  20.811655    0.0            1               1  ...             0   \n",
       "              \n",
       "                    Unnamed: 358  Unnamed: 359 Unnamed: 360           Unnamed: 361  \\\n",
       "              0              NaN           NaN          NaN             LUSSAZIONI   \n",
       "              1    III raggio sx  IV raggio sx  V raggio sx  Art. coxo-femorale dx   \n",
       "              2                0             0            0                      0   \n",
       "              3                0             0            0                      0   \n",
       "              4                0             0            0                      0   \n",
       "              ..             ...           ...          ...                    ...   \n",
       "              127              0             0            0                      0   \n",
       "              128              0             0            0                      0   \n",
       "              129              0             0            0                      0   \n",
       "              130              0             0            0                      0   \n",
       "              131              0             0            0                      0   \n",
       "              \n",
       "                            Unnamed: 362           Unnamed: 363           Unnamed: 364  \\\n",
       "              0                      NaN                    NaN                    NaN   \n",
       "              1    Art. coxo-femorale sx  Rotula o Ginocchio dx  Rotula o Ginocchio sx   \n",
       "              2                        0                      0                      0   \n",
       "              3                        0                      0                      0   \n",
       "              4                        0                      0                      0   \n",
       "              ..                     ...                    ...                    ...   \n",
       "              127                      0                      0                      0   \n",
       "              128                      0                      0                      0   \n",
       "              129                      0                      0                      0   \n",
       "              130                      0                      0                      0   \n",
       "              131                      0                      0                      0   \n",
       "              \n",
       "                  Unnamed: 365 Unnamed: 366  \n",
       "              0            NaN          NaN  \n",
       "              1    Caviglia dx  Caviglia sx  \n",
       "              2              0            0  \n",
       "              3              0            0  \n",
       "              4              0            0  \n",
       "              ..           ...          ...  \n",
       "              127            0            0  \n",
       "              128            0            0  \n",
       "              129            0            0  \n",
       "              130            0            0  \n",
       "              131            0            0  \n",
       "              \n",
       "              [132 rows x 367 columns])])"
      ]
     },
     "execution_count": 19,
     "metadata": {},
     "output_type": "execute_result"
    }
   ],
   "source": [
    "dfs"
   ]
  },
  {
   "cell_type": "code",
   "execution_count": null,
   "metadata": {},
   "outputs": [],
   "source": []
  }
 ],
 "metadata": {
  "kernelspec": {
   "display_name": "Python 3",
   "language": "python",
   "name": "python3"
  },
  "language_info": {
   "codemirror_mode": {
    "name": "ipython",
    "version": 3
   },
   "file_extension": ".py",
   "mimetype": "text/x-python",
   "name": "python",
   "nbconvert_exporter": "python",
   "pygments_lexer": "ipython3",
   "version": "3.7.6"
  }
 },
 "nbformat": 4,
 "nbformat_minor": 2
}
