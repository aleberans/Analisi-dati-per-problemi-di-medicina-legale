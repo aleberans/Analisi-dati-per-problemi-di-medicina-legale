{
 "cells": [
  {
   "cell_type": "code",
   "execution_count": 1,
   "metadata": {},
   "outputs": [],
   "source": [
    "def warn(*args, **kwargs):\n",
    "    pass\n",
    "import warnings\n",
    "warnings.warn = warn\n",
    "\n",
    "from sklearn.datasets import load_breast_cancer, load_iris\n",
    "from sklearn.svm import SVC\n",
    "import numpy as np\n",
    "from sklearn.model_selection import train_test_split, cross_val_score\n",
    "import matplotlib.pyplot as plt\n",
    "%matplotlib inline\n",
    "from sklearn.metrics import accuracy_score, confusion_matrix\n",
    "from statistics import mean\n",
    "from scikitplot.metrics import plot_confusion_matrix\n",
    "from sklearn.preprocessing import StandardScaler, RobustScaler, QuantileTransformer\n",
    "from sklearn.decomposition import PCA\n",
    "from sklearn.pipeline import Pipeline\n",
    "from sklearn.model_selection import GridSearchCV\n",
    "from sklearn.manifold import TSNE\n",
    "from sklearn.feature_selection import SelectKBest, f_regression\n",
    "from sklearn.tree import DecisionTreeClassifier\n",
    "from sklearn.ensemble import RandomForestClassifier\n",
    "import logging\n",
    "from sklearn.discriminant_analysis import LinearDiscriminantAnalysis\n",
    "from sklearn.naive_bayes import GaussianNB\n",
    "import pandas as pd\n",
    "from sklearn.neural_network import MLPClassifier\n",
    "import time"
   ]
  },
  {
   "cell_type": "code",
   "execution_count": 2,
   "metadata": {},
   "outputs": [],
   "source": [
    "import logging\n",
    "\n",
    "# create logger with 'spam_application'\n",
    "logger = logging.getLogger('spam_application')\n",
    "logger.setLevel(logging.DEBUG)\n",
    "# create file handler which logs even debug messages\n",
    "fh = logging.FileHandler('risultati.log')\n",
    "fh.setLevel(logging.INFO)\n",
    "logger.addHandler(fh)\n"
   ]
  },
  {
   "cell_type": "code",
   "execution_count": 3,
   "metadata": {},
   "outputs": [],
   "source": [
    "def addestraNuovo(nomeDataset, model_class, X, y, iperparametri, dim=1, riduci_dimensionalità=False):\n",
    "    X_train, X_test, y_train, y_test = train_test_split(X,y,test_size=0.3, random_state=30, stratify=y)\n",
    "    \n",
    "    #standardizzo i dati\n",
    "    sc = StandardScaler()\n",
    "    X_train_standardizzato = sc.fit_transform(X_train)\n",
    "    X_test_standardizzato = sc.fit_transform(X_test)\n",
    "    \n",
    "    #applico la riduzione della dimensionalita'\n",
    "    if riduci_dimensionalità:\n",
    "        pca = PCA(n_components = dim)\n",
    "    \n",
    "        X_train_ridotto = pca.fit_transform(X_train_standardizzato)\n",
    "        X_test_ridotto = pca.fit_transform(X_test_standardizzato)\n",
    "\n",
    "        model = model_class(**iperparametri)\n",
    "        model.fit(X_train_ridotto, y_train)\n",
    "    \n",
    "        y_pred = model.predict(X_test_ridotto)\n",
    "    else:\n",
    "        model = model_class(**iperparametri)\n",
    "        model.fit(X_train_standardizzato, y_train)\n",
    "    \n",
    "        y_pred = model.predict(X_test_standardizzato)\n",
    "    \n",
    "    #calcolo lo score\n",
    "    score = accuracy_score(y_test, y_pred)\n",
    "    \n",
    "\n",
    "    plot_confusion_matrix(y_test, y_pred)\n",
    "    plt.show()\n",
    "    #logger.info(f'Addestrato {nomeDataset} standardizzando i dati con una SVC con uno score di {scoreStandardizzato} e iperparametri: C {c}, gamma {gamma}, kernel {kernel}, numero dimensioni {dim}')\n",
    "    return(f'Lo score e stato calcolato standardizzando i dati, score: {score}')\n"
   ]
  },
  {
   "cell_type": "code",
   "execution_count": 5,
   "metadata": {},
   "outputs": [],
   "source": [
    "def trovaIperparametri(X, y, model, numero_dimensioni):\n",
    "    \n",
    "    start_time = time.time()\n",
    "    X_train, X_test, y_train, y_test = train_test_split(X, y, test_size=0.3, random_state=30, stratify=y)\n",
    "\n",
    "    if model == SVC:\n",
    "        steps = [\n",
    "            ('scaler', StandardScaler()),\n",
    "            ('reduce_dim', PCA()),\n",
    "            ('SVM', SVC()), \n",
    "        ]\n",
    "\n",
    "        pipeline = Pipeline(steps)\n",
    "\n",
    "        valori_C = np.arange(0.1, 1.0, 0.1)\n",
    "        valori_gamma = [0.1, 0.01]\n",
    "        valori_kernel = ['linear', 'poly', 'rbf', 'sigmoid']\n",
    "\n",
    "        params = { 'SVM__C': valori_C,\n",
    "                  'SVM__gamma': valori_gamma,\n",
    "                  'SVM__kernel': valori_kernel,\n",
    "                  'reduce_dim__n_components': np.arange(1, numero_dimensioni, 1),\n",
    "                }\n",
    "    elif model == DecisionTreeClassifier:\n",
    "        \n",
    "        steps = [\n",
    "            ('scaler', StandardScaler()),\n",
    "            ('reduce_dim', PCA()),\n",
    "            ('tree', DecisionTreeClassifier()),\n",
    "        ]\n",
    "        \n",
    "        pipeline= Pipeline(steps)\n",
    "        \n",
    "        params = {'reduce_dim__n_components': np.arange(1, numero_dimensioni, 1),\n",
    "                  'tree__criterion': ['gini', 'entropy'],\n",
    "                 }\n",
    "    \n",
    "    elif model == RandomForestClassifier:\n",
    "        \n",
    "        steps = [\n",
    "            ('scaler', StandardScaler()),\n",
    "            ('reduce_dim', PCA()),\n",
    "            ('random_forest', RandomForestClassifier()),\n",
    "        ]\n",
    "        \n",
    "        pipeline = Pipeline(steps)\n",
    "        \n",
    "        params = {'reduce_dim__n_components': np.arange(1, numero_dimensioni, 1),\n",
    "                  'random_forest__n_estimators': np.arange(10, 100, 10),\n",
    "                 }\n",
    "    \n",
    "    elif model == LinearDiscriminantAnalysis:\n",
    "        \n",
    "        steps = [\n",
    "            ('scaler', StandardScaler()),\n",
    "            ('reduce_dim', PCA()),\n",
    "            ('linear_discriminant_analysis', LinearDiscriminantAnalysis()),\n",
    "        ]\n",
    "        \n",
    "        pipeline = Pipeline(steps)\n",
    "        \n",
    "        params = {'reduce_dim__n_components': np.arange(1, numero_dimensioni, 1),\n",
    "                  'linear_discriminant_analysis__solver': ['svd', 'lsqr', 'eigen'],\n",
    "                  \n",
    "                 }\n",
    "    elif model == GaussianNB:\n",
    "        steps = [\n",
    "            ('scaler', StandardScaler()),\n",
    "            ('reduce_dim', PCA()),\n",
    "            ('linear_discriminant_analysis', LinearDiscriminantAnalysis()),\n",
    "        ]\n",
    "        \n",
    "        pipeline = Pipeline(steps)\n",
    "        \n",
    "        params = {'reduce_dim__n_components': np.arange(1, numero_dimensioni, 1),\n",
    "\n",
    "                 }\n",
    "        \n",
    "    elif model == MLPClassifier:  \n",
    "        \n",
    "        steps = [\n",
    "            ('scaler', StandardScaler()),\n",
    "            ('reduce_dim', PCA()),\n",
    "            ('mlpClassifier', MLPClassifier()), \n",
    "        ]\n",
    "        \n",
    "        pipeline = Pipeline(steps)\n",
    "        \n",
    "        params = {'reduce_dim__n_components': np.arange(1, numero_dimensioni, 1),\n",
    "                  'mlpClassifier__learning_rate': ['constant', 'invscaling', 'adaptive'],\n",
    "                  'mlpClassifier__learning_rate_init' : [0.0001, 0.001, 0.01],\n",
    "                  'mlpClassifier__activation' : ['relu', 'logistic'],\n",
    "                  \n",
    "                 }\n",
    "        \n",
    "    grid = GridSearchCV(pipeline, param_grid=params, cv=3)\n",
    "    \n",
    "    grid.fit(X_train, y_train)\n",
    "    \n",
    "    print(\"--- %s seconds ---\" % (time.time() - start_time))\n",
    "    return grid.best_params_"
   ]
  },
  {
   "cell_type": "code",
   "execution_count": 6,
   "metadata": {},
   "outputs": [
    {
     "data": {
      "text/html": [
       "<div>\n",
       "<style scoped>\n",
       "    .dataframe tbody tr th:only-of-type {\n",
       "        vertical-align: middle;\n",
       "    }\n",
       "\n",
       "    .dataframe tbody tr th {\n",
       "        vertical-align: top;\n",
       "    }\n",
       "\n",
       "    .dataframe thead th {\n",
       "        text-align: right;\n",
       "    }\n",
       "</style>\n",
       "<table border=\"1\" class=\"dataframe\">\n",
       "  <thead>\n",
       "    <tr style=\"text-align: right;\">\n",
       "      <th></th>\n",
       "      <th>VERBALE</th>\n",
       "      <th>DATA</th>\n",
       "      <th>SESSO</th>\n",
       "      <th>ANNI</th>\n",
       "      <th>PESO</th>\n",
       "      <th>ALTEZZA</th>\n",
       "      <th>BMI</th>\n",
       "      <th>Mezzo</th>\n",
       "      <th>Testa:Neurocranio</th>\n",
       "      <th>Testa: Splancnocranio</th>\n",
       "      <th>...</th>\n",
       "      <th>Scheletro: Rachide cervicale</th>\n",
       "      <th>Scheletro: Rachide toracico</th>\n",
       "      <th>Scheletro: Rachide lombare</th>\n",
       "      <th>Scheletro: Bacino e sacro</th>\n",
       "      <th>Scheletro: Complesso sterno/claveo/costale</th>\n",
       "      <th>Tot Testa</th>\n",
       "      <th>Tot Torace</th>\n",
       "      <th>Tot Addome</th>\n",
       "      <th>Tot Scheletro</th>\n",
       "      <th>Totale</th>\n",
       "    </tr>\n",
       "  </thead>\n",
       "  <tbody>\n",
       "    <tr>\n",
       "      <th>0</th>\n",
       "      <td>85567</td>\n",
       "      <td>1999-10-29</td>\n",
       "      <td>0</td>\n",
       "      <td>81</td>\n",
       "      <td>84.0</td>\n",
       "      <td>1.75</td>\n",
       "      <td>27.428571</td>\n",
       "      <td>0</td>\n",
       "      <td>1</td>\n",
       "      <td>0</td>\n",
       "      <td>...</td>\n",
       "      <td>0</td>\n",
       "      <td>3</td>\n",
       "      <td>0</td>\n",
       "      <td>3</td>\n",
       "      <td>3</td>\n",
       "      <td>2</td>\n",
       "      <td>0</td>\n",
       "      <td>3</td>\n",
       "      <td>9</td>\n",
       "      <td>14</td>\n",
       "    </tr>\n",
       "    <tr>\n",
       "      <th>1</th>\n",
       "      <td>85829</td>\n",
       "      <td>2000-01-14</td>\n",
       "      <td>1</td>\n",
       "      <td>69</td>\n",
       "      <td>69.0</td>\n",
       "      <td>1.62</td>\n",
       "      <td>26.291724</td>\n",
       "      <td>1</td>\n",
       "      <td>4</td>\n",
       "      <td>4</td>\n",
       "      <td>...</td>\n",
       "      <td>0</td>\n",
       "      <td>0</td>\n",
       "      <td>0</td>\n",
       "      <td>0</td>\n",
       "      <td>4</td>\n",
       "      <td>20</td>\n",
       "      <td>7</td>\n",
       "      <td>1</td>\n",
       "      <td>4</td>\n",
       "      <td>32</td>\n",
       "    </tr>\n",
       "    <tr>\n",
       "      <th>2</th>\n",
       "      <td>85977</td>\n",
       "      <td>2000-03-10</td>\n",
       "      <td>1</td>\n",
       "      <td>71</td>\n",
       "      <td>67.0</td>\n",
       "      <td>1.55</td>\n",
       "      <td>27.887617</td>\n",
       "      <td>1</td>\n",
       "      <td>2</td>\n",
       "      <td>0</td>\n",
       "      <td>...</td>\n",
       "      <td>0</td>\n",
       "      <td>0</td>\n",
       "      <td>0</td>\n",
       "      <td>0</td>\n",
       "      <td>4</td>\n",
       "      <td>6</td>\n",
       "      <td>0</td>\n",
       "      <td>0</td>\n",
       "      <td>4</td>\n",
       "      <td>10</td>\n",
       "    </tr>\n",
       "    <tr>\n",
       "      <th>3</th>\n",
       "      <td>86220</td>\n",
       "      <td>2000-06-14</td>\n",
       "      <td>1</td>\n",
       "      <td>54</td>\n",
       "      <td>60.0</td>\n",
       "      <td>1.59</td>\n",
       "      <td>23.733238</td>\n",
       "      <td>1</td>\n",
       "      <td>4</td>\n",
       "      <td>0</td>\n",
       "      <td>...</td>\n",
       "      <td>0</td>\n",
       "      <td>0</td>\n",
       "      <td>0</td>\n",
       "      <td>0</td>\n",
       "      <td>4</td>\n",
       "      <td>5</td>\n",
       "      <td>3</td>\n",
       "      <td>2</td>\n",
       "      <td>4</td>\n",
       "      <td>14</td>\n",
       "    </tr>\n",
       "    <tr>\n",
       "      <th>4</th>\n",
       "      <td>86247</td>\n",
       "      <td>2000-06-22</td>\n",
       "      <td>1</td>\n",
       "      <td>78</td>\n",
       "      <td>69.0</td>\n",
       "      <td>1.67</td>\n",
       "      <td>24.740937</td>\n",
       "      <td>1</td>\n",
       "      <td>2</td>\n",
       "      <td>0</td>\n",
       "      <td>...</td>\n",
       "      <td>0</td>\n",
       "      <td>0</td>\n",
       "      <td>0</td>\n",
       "      <td>0</td>\n",
       "      <td>4</td>\n",
       "      <td>2</td>\n",
       "      <td>0</td>\n",
       "      <td>2</td>\n",
       "      <td>4</td>\n",
       "      <td>8</td>\n",
       "    </tr>\n",
       "    <tr>\n",
       "      <th>...</th>\n",
       "      <td>...</td>\n",
       "      <td>...</td>\n",
       "      <td>...</td>\n",
       "      <td>...</td>\n",
       "      <td>...</td>\n",
       "      <td>...</td>\n",
       "      <td>...</td>\n",
       "      <td>...</td>\n",
       "      <td>...</td>\n",
       "      <td>...</td>\n",
       "      <td>...</td>\n",
       "      <td>...</td>\n",
       "      <td>...</td>\n",
       "      <td>...</td>\n",
       "      <td>...</td>\n",
       "      <td>...</td>\n",
       "      <td>...</td>\n",
       "      <td>...</td>\n",
       "      <td>...</td>\n",
       "      <td>...</td>\n",
       "      <td>...</td>\n",
       "    </tr>\n",
       "    <tr>\n",
       "      <th>125</th>\n",
       "      <td>101618</td>\n",
       "      <td>2019-05-08</td>\n",
       "      <td>1</td>\n",
       "      <td>82</td>\n",
       "      <td>80.2</td>\n",
       "      <td>1.62</td>\n",
       "      <td>30.559366</td>\n",
       "      <td>0</td>\n",
       "      <td>1</td>\n",
       "      <td>0</td>\n",
       "      <td>...</td>\n",
       "      <td>0</td>\n",
       "      <td>0</td>\n",
       "      <td>0</td>\n",
       "      <td>0</td>\n",
       "      <td>0</td>\n",
       "      <td>1</td>\n",
       "      <td>2</td>\n",
       "      <td>0</td>\n",
       "      <td>0</td>\n",
       "      <td>3</td>\n",
       "    </tr>\n",
       "    <tr>\n",
       "      <th>126</th>\n",
       "      <td>101288E</td>\n",
       "      <td>2018-11-07</td>\n",
       "      <td>1</td>\n",
       "      <td>70</td>\n",
       "      <td>75.6</td>\n",
       "      <td>1.57</td>\n",
       "      <td>30.670615</td>\n",
       "      <td>0</td>\n",
       "      <td>2</td>\n",
       "      <td>0</td>\n",
       "      <td>...</td>\n",
       "      <td>0</td>\n",
       "      <td>0</td>\n",
       "      <td>0</td>\n",
       "      <td>0</td>\n",
       "      <td>3</td>\n",
       "      <td>2</td>\n",
       "      <td>0</td>\n",
       "      <td>0</td>\n",
       "      <td>3</td>\n",
       "      <td>5</td>\n",
       "    </tr>\n",
       "    <tr>\n",
       "      <th>127</th>\n",
       "      <td>E-97586</td>\n",
       "      <td>2013-05-14</td>\n",
       "      <td>0</td>\n",
       "      <td>45</td>\n",
       "      <td>45.0</td>\n",
       "      <td>1.77</td>\n",
       "      <td>14.363689</td>\n",
       "      <td>1</td>\n",
       "      <td>0</td>\n",
       "      <td>0</td>\n",
       "      <td>...</td>\n",
       "      <td>0</td>\n",
       "      <td>0</td>\n",
       "      <td>0</td>\n",
       "      <td>4</td>\n",
       "      <td>4</td>\n",
       "      <td>0</td>\n",
       "      <td>1</td>\n",
       "      <td>0</td>\n",
       "      <td>8</td>\n",
       "      <td>9</td>\n",
       "    </tr>\n",
       "    <tr>\n",
       "      <th>128</th>\n",
       "      <td>X</td>\n",
       "      <td>2018-01-03</td>\n",
       "      <td>0</td>\n",
       "      <td>54</td>\n",
       "      <td>89.6</td>\n",
       "      <td>1.68</td>\n",
       "      <td>31.746032</td>\n",
       "      <td>0</td>\n",
       "      <td>0</td>\n",
       "      <td>2</td>\n",
       "      <td>...</td>\n",
       "      <td>0</td>\n",
       "      <td>0</td>\n",
       "      <td>0</td>\n",
       "      <td>2</td>\n",
       "      <td>4</td>\n",
       "      <td>2</td>\n",
       "      <td>2</td>\n",
       "      <td>3</td>\n",
       "      <td>6</td>\n",
       "      <td>13</td>\n",
       "    </tr>\n",
       "    <tr>\n",
       "      <th>129</th>\n",
       "      <td>X1</td>\n",
       "      <td>2018-02-14</td>\n",
       "      <td>1</td>\n",
       "      <td>86</td>\n",
       "      <td>50.0</td>\n",
       "      <td>1.55</td>\n",
       "      <td>20.811655</td>\n",
       "      <td>0</td>\n",
       "      <td>1</td>\n",
       "      <td>1</td>\n",
       "      <td>...</td>\n",
       "      <td>0</td>\n",
       "      <td>1</td>\n",
       "      <td>0</td>\n",
       "      <td>3</td>\n",
       "      <td>4</td>\n",
       "      <td>3</td>\n",
       "      <td>2</td>\n",
       "      <td>3</td>\n",
       "      <td>8</td>\n",
       "      <td>16</td>\n",
       "    </tr>\n",
       "  </tbody>\n",
       "</table>\n",
       "<p>130 rows × 33 columns</p>\n",
       "</div>"
      ],
      "text/plain": [
       "     VERBALE       DATA  SESSO  ANNI  PESO  ALTEZZA        BMI  Mezzo  \\\n",
       "0      85567 1999-10-29      0    81  84.0     1.75  27.428571      0   \n",
       "1      85829 2000-01-14      1    69  69.0     1.62  26.291724      1   \n",
       "2      85977 2000-03-10      1    71  67.0     1.55  27.887617      1   \n",
       "3      86220 2000-06-14      1    54  60.0     1.59  23.733238      1   \n",
       "4      86247 2000-06-22      1    78  69.0     1.67  24.740937      1   \n",
       "..       ...        ...    ...   ...   ...      ...        ...    ...   \n",
       "125   101618 2019-05-08      1    82  80.2     1.62  30.559366      0   \n",
       "126  101288E 2018-11-07      1    70  75.6     1.57  30.670615      0   \n",
       "127  E-97586 2013-05-14      0    45  45.0     1.77  14.363689      1   \n",
       "128        X 2018-01-03      0    54  89.6     1.68  31.746032      0   \n",
       "129       X1 2018-02-14      1    86  50.0     1.55  20.811655      0   \n",
       "\n",
       "     Testa:Neurocranio  Testa: Splancnocranio  ...  \\\n",
       "0                    1                      0  ...   \n",
       "1                    4                      4  ...   \n",
       "2                    2                      0  ...   \n",
       "3                    4                      0  ...   \n",
       "4                    2                      0  ...   \n",
       "..                 ...                    ...  ...   \n",
       "125                  1                      0  ...   \n",
       "126                  2                      0  ...   \n",
       "127                  0                      0  ...   \n",
       "128                  0                      2  ...   \n",
       "129                  1                      1  ...   \n",
       "\n",
       "     Scheletro: Rachide cervicale  Scheletro: Rachide toracico  \\\n",
       "0                               0                            3   \n",
       "1                               0                            0   \n",
       "2                               0                            0   \n",
       "3                               0                            0   \n",
       "4                               0                            0   \n",
       "..                            ...                          ...   \n",
       "125                             0                            0   \n",
       "126                             0                            0   \n",
       "127                             0                            0   \n",
       "128                             0                            0   \n",
       "129                             0                            1   \n",
       "\n",
       "     Scheletro: Rachide lombare  Scheletro: Bacino e sacro  \\\n",
       "0                             0                          3   \n",
       "1                             0                          0   \n",
       "2                             0                          0   \n",
       "3                             0                          0   \n",
       "4                             0                          0   \n",
       "..                          ...                        ...   \n",
       "125                           0                          0   \n",
       "126                           0                          0   \n",
       "127                           0                          4   \n",
       "128                           0                          2   \n",
       "129                           0                          3   \n",
       "\n",
       "     Scheletro: Complesso sterno/claveo/costale  Tot Testa  Tot Torace  \\\n",
       "0                                             3          2           0   \n",
       "1                                             4         20           7   \n",
       "2                                             4          6           0   \n",
       "3                                             4          5           3   \n",
       "4                                             4          2           0   \n",
       "..                                          ...        ...         ...   \n",
       "125                                           0          1           2   \n",
       "126                                           3          2           0   \n",
       "127                                           4          0           1   \n",
       "128                                           4          2           2   \n",
       "129                                           4          3           2   \n",
       "\n",
       "     Tot Addome  Tot Scheletro  Totale  \n",
       "0             3              9      14  \n",
       "1             1              4      32  \n",
       "2             0              4      10  \n",
       "3             2              4      14  \n",
       "4             2              4       8  \n",
       "..          ...            ...     ...  \n",
       "125           0              0       3  \n",
       "126           0              3       5  \n",
       "127           0              8       9  \n",
       "128           3              6      13  \n",
       "129           3              8      16  \n",
       "\n",
       "[130 rows x 33 columns]"
      ]
     },
     "execution_count": 6,
     "metadata": {},
     "output_type": "execute_result"
    }
   ],
   "source": [
    "dataset = pd.read_excel('IncidentiModificato.xlsx', sheet_name='Foglio1')\n",
    "dataset"
   ]
  },
  {
   "cell_type": "code",
   "execution_count": 14,
   "metadata": {},
   "outputs": [
    {
     "name": "stdout",
     "output_type": "stream",
     "text": [
      "Valori del dataset corretti\n"
     ]
    }
   ],
   "source": [
    "def controllaDataset(dataset):\n",
    "    #controllo che i verbali siano valori unici\n",
    "    if (len(dataset['VERBALE']) != len(dataset['VERBALE'].unique())):\n",
    "        raise Exception('I verbali non possono essere usati come indice')\n",
    "\n",
    "    #controllo i valori degli anni\n",
    "    anni = dataset['ANNI']\n",
    "    for anno in anni:\n",
    "        if anno < 1 or anno > 120:\n",
    "            raise Exception(f'Anno inserito non valido {anno}')\n",
    "    \n",
    "    #controllo i valori dei pesi\n",
    "    pesi = dataset['PESO']\n",
    "    for peso in pesi:\n",
    "        if peso < 30 or peso > 200:\n",
    "            raise Exception(f'Peso inserito non valido {peso}')\n",
    "    \n",
    "    #controllo i valori dell'altezza\n",
    "    altezze = dataset['ALTEZZA']\n",
    "    for altezza in altezze:\n",
    "        if altezza < 1.00 or altezza > 2.10:\n",
    "            raise Exception(f'Altezza inserito non valida {altezza}')\n",
    "    \n",
    "    #controllo del BMI\n",
    "    valori_BMI = dataset['BMI']\n",
    "    for bmi in valori_BMI:\n",
    "        if bmi < 10.0 or bmi > 50.0:\n",
    "            raise Exception(f'bmi inserito non valido {bmi}')\n",
    "\n",
    "    print(\"Valori del dataset corretti\")\n",
    "    \n",
    "\n",
    "controllaDataset(dataset)"
   ]
  },
  {
   "cell_type": "code",
   "execution_count": 9,
   "metadata": {},
   "outputs": [],
   "source": [
    "dataset = pd.read_excel('IncidentiModificato.xlsx', sheet_name='Foglio1', index_col=0)"
   ]
  },
  {
   "cell_type": "code",
   "execution_count": 10,
   "metadata": {},
   "outputs": [
    {
     "data": {
      "text/html": [
       "<div>\n",
       "<style scoped>\n",
       "    .dataframe tbody tr th:only-of-type {\n",
       "        vertical-align: middle;\n",
       "    }\n",
       "\n",
       "    .dataframe tbody tr th {\n",
       "        vertical-align: top;\n",
       "    }\n",
       "\n",
       "    .dataframe thead th {\n",
       "        text-align: right;\n",
       "    }\n",
       "</style>\n",
       "<table border=\"1\" class=\"dataframe\">\n",
       "  <thead>\n",
       "    <tr style=\"text-align: right;\">\n",
       "      <th></th>\n",
       "      <th>DATA</th>\n",
       "      <th>SESSO</th>\n",
       "      <th>ANNI</th>\n",
       "      <th>PESO</th>\n",
       "      <th>ALTEZZA</th>\n",
       "      <th>BMI</th>\n",
       "      <th>Mezzo</th>\n",
       "      <th>Testa:Neurocranio</th>\n",
       "      <th>Testa: Splancnocranio</th>\n",
       "      <th>Testa: Telencefalo</th>\n",
       "      <th>...</th>\n",
       "      <th>Scheletro: Rachide cervicale</th>\n",
       "      <th>Scheletro: Rachide toracico</th>\n",
       "      <th>Scheletro: Rachide lombare</th>\n",
       "      <th>Scheletro: Bacino e sacro</th>\n",
       "      <th>Scheletro: Complesso sterno/claveo/costale</th>\n",
       "      <th>Tot Testa</th>\n",
       "      <th>Tot Torace</th>\n",
       "      <th>Tot Addome</th>\n",
       "      <th>Tot Scheletro</th>\n",
       "      <th>Totale</th>\n",
       "    </tr>\n",
       "    <tr>\n",
       "      <th>VERBALE</th>\n",
       "      <th></th>\n",
       "      <th></th>\n",
       "      <th></th>\n",
       "      <th></th>\n",
       "      <th></th>\n",
       "      <th></th>\n",
       "      <th></th>\n",
       "      <th></th>\n",
       "      <th></th>\n",
       "      <th></th>\n",
       "      <th></th>\n",
       "      <th></th>\n",
       "      <th></th>\n",
       "      <th></th>\n",
       "      <th></th>\n",
       "      <th></th>\n",
       "      <th></th>\n",
       "      <th></th>\n",
       "      <th></th>\n",
       "      <th></th>\n",
       "      <th></th>\n",
       "    </tr>\n",
       "  </thead>\n",
       "  <tbody>\n",
       "    <tr>\n",
       "      <th>85567</th>\n",
       "      <td>1999-10-29</td>\n",
       "      <td>0</td>\n",
       "      <td>81</td>\n",
       "      <td>84.0</td>\n",
       "      <td>1.75</td>\n",
       "      <td>27.428571</td>\n",
       "      <td>0</td>\n",
       "      <td>1</td>\n",
       "      <td>0</td>\n",
       "      <td>0</td>\n",
       "      <td>...</td>\n",
       "      <td>0</td>\n",
       "      <td>3</td>\n",
       "      <td>0</td>\n",
       "      <td>3</td>\n",
       "      <td>3</td>\n",
       "      <td>2</td>\n",
       "      <td>0</td>\n",
       "      <td>3</td>\n",
       "      <td>9</td>\n",
       "      <td>14</td>\n",
       "    </tr>\n",
       "    <tr>\n",
       "      <th>85829</th>\n",
       "      <td>2000-01-14</td>\n",
       "      <td>1</td>\n",
       "      <td>69</td>\n",
       "      <td>69.0</td>\n",
       "      <td>1.62</td>\n",
       "      <td>26.291724</td>\n",
       "      <td>1</td>\n",
       "      <td>4</td>\n",
       "      <td>4</td>\n",
       "      <td>4</td>\n",
       "      <td>...</td>\n",
       "      <td>0</td>\n",
       "      <td>0</td>\n",
       "      <td>0</td>\n",
       "      <td>0</td>\n",
       "      <td>4</td>\n",
       "      <td>20</td>\n",
       "      <td>7</td>\n",
       "      <td>1</td>\n",
       "      <td>4</td>\n",
       "      <td>32</td>\n",
       "    </tr>\n",
       "    <tr>\n",
       "      <th>85977</th>\n",
       "      <td>2000-03-10</td>\n",
       "      <td>1</td>\n",
       "      <td>71</td>\n",
       "      <td>67.0</td>\n",
       "      <td>1.55</td>\n",
       "      <td>27.887617</td>\n",
       "      <td>1</td>\n",
       "      <td>2</td>\n",
       "      <td>0</td>\n",
       "      <td>1</td>\n",
       "      <td>...</td>\n",
       "      <td>0</td>\n",
       "      <td>0</td>\n",
       "      <td>0</td>\n",
       "      <td>0</td>\n",
       "      <td>4</td>\n",
       "      <td>6</td>\n",
       "      <td>0</td>\n",
       "      <td>0</td>\n",
       "      <td>4</td>\n",
       "      <td>10</td>\n",
       "    </tr>\n",
       "    <tr>\n",
       "      <th>86220</th>\n",
       "      <td>2000-06-14</td>\n",
       "      <td>1</td>\n",
       "      <td>54</td>\n",
       "      <td>60.0</td>\n",
       "      <td>1.59</td>\n",
       "      <td>23.733238</td>\n",
       "      <td>1</td>\n",
       "      <td>4</td>\n",
       "      <td>0</td>\n",
       "      <td>0</td>\n",
       "      <td>...</td>\n",
       "      <td>0</td>\n",
       "      <td>0</td>\n",
       "      <td>0</td>\n",
       "      <td>0</td>\n",
       "      <td>4</td>\n",
       "      <td>5</td>\n",
       "      <td>3</td>\n",
       "      <td>2</td>\n",
       "      <td>4</td>\n",
       "      <td>14</td>\n",
       "    </tr>\n",
       "    <tr>\n",
       "      <th>86247</th>\n",
       "      <td>2000-06-22</td>\n",
       "      <td>1</td>\n",
       "      <td>78</td>\n",
       "      <td>69.0</td>\n",
       "      <td>1.67</td>\n",
       "      <td>24.740937</td>\n",
       "      <td>1</td>\n",
       "      <td>2</td>\n",
       "      <td>0</td>\n",
       "      <td>0</td>\n",
       "      <td>...</td>\n",
       "      <td>0</td>\n",
       "      <td>0</td>\n",
       "      <td>0</td>\n",
       "      <td>0</td>\n",
       "      <td>4</td>\n",
       "      <td>2</td>\n",
       "      <td>0</td>\n",
       "      <td>2</td>\n",
       "      <td>4</td>\n",
       "      <td>8</td>\n",
       "    </tr>\n",
       "    <tr>\n",
       "      <th>...</th>\n",
       "      <td>...</td>\n",
       "      <td>...</td>\n",
       "      <td>...</td>\n",
       "      <td>...</td>\n",
       "      <td>...</td>\n",
       "      <td>...</td>\n",
       "      <td>...</td>\n",
       "      <td>...</td>\n",
       "      <td>...</td>\n",
       "      <td>...</td>\n",
       "      <td>...</td>\n",
       "      <td>...</td>\n",
       "      <td>...</td>\n",
       "      <td>...</td>\n",
       "      <td>...</td>\n",
       "      <td>...</td>\n",
       "      <td>...</td>\n",
       "      <td>...</td>\n",
       "      <td>...</td>\n",
       "      <td>...</td>\n",
       "      <td>...</td>\n",
       "    </tr>\n",
       "    <tr>\n",
       "      <th>101618</th>\n",
       "      <td>2019-05-08</td>\n",
       "      <td>1</td>\n",
       "      <td>82</td>\n",
       "      <td>80.2</td>\n",
       "      <td>1.62</td>\n",
       "      <td>30.559366</td>\n",
       "      <td>0</td>\n",
       "      <td>1</td>\n",
       "      <td>0</td>\n",
       "      <td>0</td>\n",
       "      <td>...</td>\n",
       "      <td>0</td>\n",
       "      <td>0</td>\n",
       "      <td>0</td>\n",
       "      <td>0</td>\n",
       "      <td>0</td>\n",
       "      <td>1</td>\n",
       "      <td>2</td>\n",
       "      <td>0</td>\n",
       "      <td>0</td>\n",
       "      <td>3</td>\n",
       "    </tr>\n",
       "    <tr>\n",
       "      <th>101288E</th>\n",
       "      <td>2018-11-07</td>\n",
       "      <td>1</td>\n",
       "      <td>70</td>\n",
       "      <td>75.6</td>\n",
       "      <td>1.57</td>\n",
       "      <td>30.670615</td>\n",
       "      <td>0</td>\n",
       "      <td>2</td>\n",
       "      <td>0</td>\n",
       "      <td>0</td>\n",
       "      <td>...</td>\n",
       "      <td>0</td>\n",
       "      <td>0</td>\n",
       "      <td>0</td>\n",
       "      <td>0</td>\n",
       "      <td>3</td>\n",
       "      <td>2</td>\n",
       "      <td>0</td>\n",
       "      <td>0</td>\n",
       "      <td>3</td>\n",
       "      <td>5</td>\n",
       "    </tr>\n",
       "    <tr>\n",
       "      <th>E-97586</th>\n",
       "      <td>2013-05-14</td>\n",
       "      <td>0</td>\n",
       "      <td>45</td>\n",
       "      <td>45.0</td>\n",
       "      <td>1.77</td>\n",
       "      <td>14.363689</td>\n",
       "      <td>1</td>\n",
       "      <td>0</td>\n",
       "      <td>0</td>\n",
       "      <td>0</td>\n",
       "      <td>...</td>\n",
       "      <td>0</td>\n",
       "      <td>0</td>\n",
       "      <td>0</td>\n",
       "      <td>4</td>\n",
       "      <td>4</td>\n",
       "      <td>0</td>\n",
       "      <td>1</td>\n",
       "      <td>0</td>\n",
       "      <td>8</td>\n",
       "      <td>9</td>\n",
       "    </tr>\n",
       "    <tr>\n",
       "      <th>X</th>\n",
       "      <td>2018-01-03</td>\n",
       "      <td>0</td>\n",
       "      <td>54</td>\n",
       "      <td>89.6</td>\n",
       "      <td>1.68</td>\n",
       "      <td>31.746032</td>\n",
       "      <td>0</td>\n",
       "      <td>0</td>\n",
       "      <td>2</td>\n",
       "      <td>0</td>\n",
       "      <td>...</td>\n",
       "      <td>0</td>\n",
       "      <td>0</td>\n",
       "      <td>0</td>\n",
       "      <td>2</td>\n",
       "      <td>4</td>\n",
       "      <td>2</td>\n",
       "      <td>2</td>\n",
       "      <td>3</td>\n",
       "      <td>6</td>\n",
       "      <td>13</td>\n",
       "    </tr>\n",
       "    <tr>\n",
       "      <th>X1</th>\n",
       "      <td>2018-02-14</td>\n",
       "      <td>1</td>\n",
       "      <td>86</td>\n",
       "      <td>50.0</td>\n",
       "      <td>1.55</td>\n",
       "      <td>20.811655</td>\n",
       "      <td>0</td>\n",
       "      <td>1</td>\n",
       "      <td>1</td>\n",
       "      <td>0</td>\n",
       "      <td>...</td>\n",
       "      <td>0</td>\n",
       "      <td>1</td>\n",
       "      <td>0</td>\n",
       "      <td>3</td>\n",
       "      <td>4</td>\n",
       "      <td>3</td>\n",
       "      <td>2</td>\n",
       "      <td>3</td>\n",
       "      <td>8</td>\n",
       "      <td>16</td>\n",
       "    </tr>\n",
       "  </tbody>\n",
       "</table>\n",
       "<p>130 rows × 32 columns</p>\n",
       "</div>"
      ],
      "text/plain": [
       "              DATA  SESSO  ANNI  PESO  ALTEZZA        BMI  Mezzo  \\\n",
       "VERBALE                                                            \n",
       "85567   1999-10-29      0    81  84.0     1.75  27.428571      0   \n",
       "85829   2000-01-14      1    69  69.0     1.62  26.291724      1   \n",
       "85977   2000-03-10      1    71  67.0     1.55  27.887617      1   \n",
       "86220   2000-06-14      1    54  60.0     1.59  23.733238      1   \n",
       "86247   2000-06-22      1    78  69.0     1.67  24.740937      1   \n",
       "...            ...    ...   ...   ...      ...        ...    ...   \n",
       "101618  2019-05-08      1    82  80.2     1.62  30.559366      0   \n",
       "101288E 2018-11-07      1    70  75.6     1.57  30.670615      0   \n",
       "E-97586 2013-05-14      0    45  45.0     1.77  14.363689      1   \n",
       "X       2018-01-03      0    54  89.6     1.68  31.746032      0   \n",
       "X1      2018-02-14      1    86  50.0     1.55  20.811655      0   \n",
       "\n",
       "         Testa:Neurocranio  Testa: Splancnocranio  Testa: Telencefalo  ...  \\\n",
       "VERBALE                                                                ...   \n",
       "85567                    1                      0                   0  ...   \n",
       "85829                    4                      4                   4  ...   \n",
       "85977                    2                      0                   1  ...   \n",
       "86220                    4                      0                   0  ...   \n",
       "86247                    2                      0                   0  ...   \n",
       "...                    ...                    ...                 ...  ...   \n",
       "101618                   1                      0                   0  ...   \n",
       "101288E                  2                      0                   0  ...   \n",
       "E-97586                  0                      0                   0  ...   \n",
       "X                        0                      2                   0  ...   \n",
       "X1                       1                      1                   0  ...   \n",
       "\n",
       "         Scheletro: Rachide cervicale  Scheletro: Rachide toracico  \\\n",
       "VERBALE                                                              \n",
       "85567                               0                            3   \n",
       "85829                               0                            0   \n",
       "85977                               0                            0   \n",
       "86220                               0                            0   \n",
       "86247                               0                            0   \n",
       "...                               ...                          ...   \n",
       "101618                              0                            0   \n",
       "101288E                             0                            0   \n",
       "E-97586                             0                            0   \n",
       "X                                   0                            0   \n",
       "X1                                  0                            1   \n",
       "\n",
       "         Scheletro: Rachide lombare  Scheletro: Bacino e sacro  \\\n",
       "VERBALE                                                          \n",
       "85567                             0                          3   \n",
       "85829                             0                          0   \n",
       "85977                             0                          0   \n",
       "86220                             0                          0   \n",
       "86247                             0                          0   \n",
       "...                             ...                        ...   \n",
       "101618                            0                          0   \n",
       "101288E                           0                          0   \n",
       "E-97586                           0                          4   \n",
       "X                                 0                          2   \n",
       "X1                                0                          3   \n",
       "\n",
       "         Scheletro: Complesso sterno/claveo/costale  Tot Testa  Tot Torace  \\\n",
       "VERBALE                                                                      \n",
       "85567                                             3          2           0   \n",
       "85829                                             4         20           7   \n",
       "85977                                             4          6           0   \n",
       "86220                                             4          5           3   \n",
       "86247                                             4          2           0   \n",
       "...                                             ...        ...         ...   \n",
       "101618                                            0          1           2   \n",
       "101288E                                           3          2           0   \n",
       "E-97586                                           4          0           1   \n",
       "X                                                 4          2           2   \n",
       "X1                                                4          3           2   \n",
       "\n",
       "         Tot Addome  Tot Scheletro  Totale  \n",
       "VERBALE                                     \n",
       "85567             3              9      14  \n",
       "85829             1              4      32  \n",
       "85977             0              4      10  \n",
       "86220             2              4      14  \n",
       "86247             2              4       8  \n",
       "...             ...            ...     ...  \n",
       "101618            0              0       3  \n",
       "101288E           0              3       5  \n",
       "E-97586           0              8       9  \n",
       "X                 3              6      13  \n",
       "X1                3              8      16  \n",
       "\n",
       "[130 rows x 32 columns]"
      ]
     },
     "execution_count": 10,
     "metadata": {},
     "output_type": "execute_result"
    }
   ],
   "source": [
    "dataset"
   ]
  },
  {
   "cell_type": "code",
   "execution_count": 11,
   "metadata": {},
   "outputs": [
    {
     "ename": "KeyError",
     "evalue": "'VERBALE'",
     "output_type": "error",
     "traceback": [
      "\u001b[0;31m---------------------------------------------------------------------------\u001b[0m",
      "\u001b[0;31mKeyError\u001b[0m                                  Traceback (most recent call last)",
      "\u001b[0;32m~/anaconda3/envs/Tesi/lib/python3.7/site-packages/pandas/core/indexes/base.py\u001b[0m in \u001b[0;36mget_loc\u001b[0;34m(self, key, method, tolerance)\u001b[0m\n\u001b[1;32m   2896\u001b[0m             \u001b[0;32mtry\u001b[0m\u001b[0;34m:\u001b[0m\u001b[0;34m\u001b[0m\u001b[0;34m\u001b[0m\u001b[0m\n\u001b[0;32m-> 2897\u001b[0;31m                 \u001b[0;32mreturn\u001b[0m \u001b[0mself\u001b[0m\u001b[0;34m.\u001b[0m\u001b[0m_engine\u001b[0m\u001b[0;34m.\u001b[0m\u001b[0mget_loc\u001b[0m\u001b[0;34m(\u001b[0m\u001b[0mkey\u001b[0m\u001b[0;34m)\u001b[0m\u001b[0;34m\u001b[0m\u001b[0;34m\u001b[0m\u001b[0m\n\u001b[0m\u001b[1;32m   2898\u001b[0m             \u001b[0;32mexcept\u001b[0m \u001b[0mKeyError\u001b[0m\u001b[0;34m:\u001b[0m\u001b[0;34m\u001b[0m\u001b[0;34m\u001b[0m\u001b[0m\n",
      "\u001b[0;32mpandas/_libs/index.pyx\u001b[0m in \u001b[0;36mpandas._libs.index.IndexEngine.get_loc\u001b[0;34m()\u001b[0m\n",
      "\u001b[0;32mpandas/_libs/index.pyx\u001b[0m in \u001b[0;36mpandas._libs.index.IndexEngine.get_loc\u001b[0;34m()\u001b[0m\n",
      "\u001b[0;32mpandas/_libs/hashtable_class_helper.pxi\u001b[0m in \u001b[0;36mpandas._libs.hashtable.PyObjectHashTable.get_item\u001b[0;34m()\u001b[0m\n",
      "\u001b[0;32mpandas/_libs/hashtable_class_helper.pxi\u001b[0m in \u001b[0;36mpandas._libs.hashtable.PyObjectHashTable.get_item\u001b[0;34m()\u001b[0m\n",
      "\u001b[0;31mKeyError\u001b[0m: 'VERBALE'",
      "\nDuring handling of the above exception, another exception occurred:\n",
      "\u001b[0;31mKeyError\u001b[0m                                  Traceback (most recent call last)",
      "\u001b[0;32m<ipython-input-11-6a681360c35b>\u001b[0m in \u001b[0;36m<module>\u001b[0;34m\u001b[0m\n\u001b[0;32m----> 1\u001b[0;31m \u001b[0mdataset\u001b[0m\u001b[0;34m[\u001b[0m\u001b[0;34m'VERBALE'\u001b[0m\u001b[0;34m]\u001b[0m\u001b[0;34m\u001b[0m\u001b[0;34m\u001b[0m\u001b[0m\n\u001b[0m",
      "\u001b[0;32m~/anaconda3/envs/Tesi/lib/python3.7/site-packages/pandas/core/frame.py\u001b[0m in \u001b[0;36m__getitem__\u001b[0;34m(self, key)\u001b[0m\n\u001b[1;32m   2993\u001b[0m             \u001b[0;32mif\u001b[0m \u001b[0mself\u001b[0m\u001b[0;34m.\u001b[0m\u001b[0mcolumns\u001b[0m\u001b[0;34m.\u001b[0m\u001b[0mnlevels\u001b[0m \u001b[0;34m>\u001b[0m \u001b[0;36m1\u001b[0m\u001b[0;34m:\u001b[0m\u001b[0;34m\u001b[0m\u001b[0;34m\u001b[0m\u001b[0m\n\u001b[1;32m   2994\u001b[0m                 \u001b[0;32mreturn\u001b[0m \u001b[0mself\u001b[0m\u001b[0;34m.\u001b[0m\u001b[0m_getitem_multilevel\u001b[0m\u001b[0;34m(\u001b[0m\u001b[0mkey\u001b[0m\u001b[0;34m)\u001b[0m\u001b[0;34m\u001b[0m\u001b[0;34m\u001b[0m\u001b[0m\n\u001b[0;32m-> 2995\u001b[0;31m             \u001b[0mindexer\u001b[0m \u001b[0;34m=\u001b[0m \u001b[0mself\u001b[0m\u001b[0;34m.\u001b[0m\u001b[0mcolumns\u001b[0m\u001b[0;34m.\u001b[0m\u001b[0mget_loc\u001b[0m\u001b[0;34m(\u001b[0m\u001b[0mkey\u001b[0m\u001b[0;34m)\u001b[0m\u001b[0;34m\u001b[0m\u001b[0;34m\u001b[0m\u001b[0m\n\u001b[0m\u001b[1;32m   2996\u001b[0m             \u001b[0;32mif\u001b[0m \u001b[0mis_integer\u001b[0m\u001b[0;34m(\u001b[0m\u001b[0mindexer\u001b[0m\u001b[0;34m)\u001b[0m\u001b[0;34m:\u001b[0m\u001b[0;34m\u001b[0m\u001b[0;34m\u001b[0m\u001b[0m\n\u001b[1;32m   2997\u001b[0m                 \u001b[0mindexer\u001b[0m \u001b[0;34m=\u001b[0m \u001b[0;34m[\u001b[0m\u001b[0mindexer\u001b[0m\u001b[0;34m]\u001b[0m\u001b[0;34m\u001b[0m\u001b[0;34m\u001b[0m\u001b[0m\n",
      "\u001b[0;32m~/anaconda3/envs/Tesi/lib/python3.7/site-packages/pandas/core/indexes/base.py\u001b[0m in \u001b[0;36mget_loc\u001b[0;34m(self, key, method, tolerance)\u001b[0m\n\u001b[1;32m   2897\u001b[0m                 \u001b[0;32mreturn\u001b[0m \u001b[0mself\u001b[0m\u001b[0;34m.\u001b[0m\u001b[0m_engine\u001b[0m\u001b[0;34m.\u001b[0m\u001b[0mget_loc\u001b[0m\u001b[0;34m(\u001b[0m\u001b[0mkey\u001b[0m\u001b[0;34m)\u001b[0m\u001b[0;34m\u001b[0m\u001b[0;34m\u001b[0m\u001b[0m\n\u001b[1;32m   2898\u001b[0m             \u001b[0;32mexcept\u001b[0m \u001b[0mKeyError\u001b[0m\u001b[0;34m:\u001b[0m\u001b[0;34m\u001b[0m\u001b[0;34m\u001b[0m\u001b[0m\n\u001b[0;32m-> 2899\u001b[0;31m                 \u001b[0;32mreturn\u001b[0m \u001b[0mself\u001b[0m\u001b[0;34m.\u001b[0m\u001b[0m_engine\u001b[0m\u001b[0;34m.\u001b[0m\u001b[0mget_loc\u001b[0m\u001b[0;34m(\u001b[0m\u001b[0mself\u001b[0m\u001b[0;34m.\u001b[0m\u001b[0m_maybe_cast_indexer\u001b[0m\u001b[0;34m(\u001b[0m\u001b[0mkey\u001b[0m\u001b[0;34m)\u001b[0m\u001b[0;34m)\u001b[0m\u001b[0;34m\u001b[0m\u001b[0;34m\u001b[0m\u001b[0m\n\u001b[0m\u001b[1;32m   2900\u001b[0m         \u001b[0mindexer\u001b[0m \u001b[0;34m=\u001b[0m \u001b[0mself\u001b[0m\u001b[0;34m.\u001b[0m\u001b[0mget_indexer\u001b[0m\u001b[0;34m(\u001b[0m\u001b[0;34m[\u001b[0m\u001b[0mkey\u001b[0m\u001b[0;34m]\u001b[0m\u001b[0;34m,\u001b[0m \u001b[0mmethod\u001b[0m\u001b[0;34m=\u001b[0m\u001b[0mmethod\u001b[0m\u001b[0;34m,\u001b[0m \u001b[0mtolerance\u001b[0m\u001b[0;34m=\u001b[0m\u001b[0mtolerance\u001b[0m\u001b[0;34m)\u001b[0m\u001b[0;34m\u001b[0m\u001b[0;34m\u001b[0m\u001b[0m\n\u001b[1;32m   2901\u001b[0m         \u001b[0;32mif\u001b[0m \u001b[0mindexer\u001b[0m\u001b[0;34m.\u001b[0m\u001b[0mndim\u001b[0m \u001b[0;34m>\u001b[0m \u001b[0;36m1\u001b[0m \u001b[0;32mor\u001b[0m \u001b[0mindexer\u001b[0m\u001b[0;34m.\u001b[0m\u001b[0msize\u001b[0m \u001b[0;34m>\u001b[0m \u001b[0;36m1\u001b[0m\u001b[0;34m:\u001b[0m\u001b[0;34m\u001b[0m\u001b[0;34m\u001b[0m\u001b[0m\n",
      "\u001b[0;32mpandas/_libs/index.pyx\u001b[0m in \u001b[0;36mpandas._libs.index.IndexEngine.get_loc\u001b[0;34m()\u001b[0m\n",
      "\u001b[0;32mpandas/_libs/index.pyx\u001b[0m in \u001b[0;36mpandas._libs.index.IndexEngine.get_loc\u001b[0;34m()\u001b[0m\n",
      "\u001b[0;32mpandas/_libs/hashtable_class_helper.pxi\u001b[0m in \u001b[0;36mpandas._libs.hashtable.PyObjectHashTable.get_item\u001b[0;34m()\u001b[0m\n",
      "\u001b[0;32mpandas/_libs/hashtable_class_helper.pxi\u001b[0m in \u001b[0;36mpandas._libs.hashtable.PyObjectHashTable.get_item\u001b[0;34m()\u001b[0m\n",
      "\u001b[0;31mKeyError\u001b[0m: 'VERBALE'"
     ]
    }
   ],
   "source": [
    "dataset['VERBALE']"
   ]
  },
  {
   "cell_type": "code",
   "execution_count": 7,
   "metadata": {},
   "outputs": [
    {
     "data": {
      "text/html": [
       "<div>\n",
       "<style scoped>\n",
       "    .dataframe tbody tr th:only-of-type {\n",
       "        vertical-align: middle;\n",
       "    }\n",
       "\n",
       "    .dataframe tbody tr th {\n",
       "        vertical-align: top;\n",
       "    }\n",
       "\n",
       "    .dataframe thead th {\n",
       "        text-align: right;\n",
       "    }\n",
       "</style>\n",
       "<table border=\"1\" class=\"dataframe\">\n",
       "  <thead>\n",
       "    <tr style=\"text-align: right;\">\n",
       "      <th></th>\n",
       "      <th>SESSO</th>\n",
       "      <th>Mezzo</th>\n",
       "      <th>PESO</th>\n",
       "      <th>ALTEZZA</th>\n",
       "      <th>Tot Testa</th>\n",
       "      <th>Tot Torace</th>\n",
       "      <th>Tot Addome</th>\n",
       "      <th>Tot Scheletro</th>\n",
       "      <th>Totale</th>\n",
       "    </tr>\n",
       "    <tr>\n",
       "      <th>VERBALE</th>\n",
       "      <th></th>\n",
       "      <th></th>\n",
       "      <th></th>\n",
       "      <th></th>\n",
       "      <th></th>\n",
       "      <th></th>\n",
       "      <th></th>\n",
       "      <th></th>\n",
       "      <th></th>\n",
       "    </tr>\n",
       "  </thead>\n",
       "  <tbody>\n",
       "    <tr>\n",
       "      <th>85567</th>\n",
       "      <td>0</td>\n",
       "      <td>0</td>\n",
       "      <td>84.0</td>\n",
       "      <td>1.75</td>\n",
       "      <td>2</td>\n",
       "      <td>0</td>\n",
       "      <td>3</td>\n",
       "      <td>9</td>\n",
       "      <td>14</td>\n",
       "    </tr>\n",
       "    <tr>\n",
       "      <th>85829</th>\n",
       "      <td>1</td>\n",
       "      <td>1</td>\n",
       "      <td>69.0</td>\n",
       "      <td>1.62</td>\n",
       "      <td>20</td>\n",
       "      <td>7</td>\n",
       "      <td>1</td>\n",
       "      <td>4</td>\n",
       "      <td>32</td>\n",
       "    </tr>\n",
       "    <tr>\n",
       "      <th>85977</th>\n",
       "      <td>1</td>\n",
       "      <td>1</td>\n",
       "      <td>67.0</td>\n",
       "      <td>1.55</td>\n",
       "      <td>6</td>\n",
       "      <td>0</td>\n",
       "      <td>0</td>\n",
       "      <td>4</td>\n",
       "      <td>10</td>\n",
       "    </tr>\n",
       "    <tr>\n",
       "      <th>86220</th>\n",
       "      <td>1</td>\n",
       "      <td>1</td>\n",
       "      <td>60.0</td>\n",
       "      <td>1.59</td>\n",
       "      <td>5</td>\n",
       "      <td>3</td>\n",
       "      <td>2</td>\n",
       "      <td>4</td>\n",
       "      <td>14</td>\n",
       "    </tr>\n",
       "    <tr>\n",
       "      <th>86247</th>\n",
       "      <td>1</td>\n",
       "      <td>1</td>\n",
       "      <td>69.0</td>\n",
       "      <td>1.67</td>\n",
       "      <td>2</td>\n",
       "      <td>0</td>\n",
       "      <td>2</td>\n",
       "      <td>4</td>\n",
       "      <td>8</td>\n",
       "    </tr>\n",
       "    <tr>\n",
       "      <th>...</th>\n",
       "      <td>...</td>\n",
       "      <td>...</td>\n",
       "      <td>...</td>\n",
       "      <td>...</td>\n",
       "      <td>...</td>\n",
       "      <td>...</td>\n",
       "      <td>...</td>\n",
       "      <td>...</td>\n",
       "      <td>...</td>\n",
       "    </tr>\n",
       "    <tr>\n",
       "      <th>101618</th>\n",
       "      <td>1</td>\n",
       "      <td>0</td>\n",
       "      <td>80.2</td>\n",
       "      <td>1.62</td>\n",
       "      <td>1</td>\n",
       "      <td>2</td>\n",
       "      <td>0</td>\n",
       "      <td>0</td>\n",
       "      <td>3</td>\n",
       "    </tr>\n",
       "    <tr>\n",
       "      <th>101288E</th>\n",
       "      <td>1</td>\n",
       "      <td>0</td>\n",
       "      <td>75.6</td>\n",
       "      <td>1.57</td>\n",
       "      <td>2</td>\n",
       "      <td>0</td>\n",
       "      <td>0</td>\n",
       "      <td>3</td>\n",
       "      <td>5</td>\n",
       "    </tr>\n",
       "    <tr>\n",
       "      <th>E-97586</th>\n",
       "      <td>0</td>\n",
       "      <td>1</td>\n",
       "      <td>45.0</td>\n",
       "      <td>1.77</td>\n",
       "      <td>0</td>\n",
       "      <td>1</td>\n",
       "      <td>0</td>\n",
       "      <td>8</td>\n",
       "      <td>9</td>\n",
       "    </tr>\n",
       "    <tr>\n",
       "      <th>X</th>\n",
       "      <td>0</td>\n",
       "      <td>0</td>\n",
       "      <td>89.6</td>\n",
       "      <td>1.68</td>\n",
       "      <td>2</td>\n",
       "      <td>2</td>\n",
       "      <td>3</td>\n",
       "      <td>6</td>\n",
       "      <td>13</td>\n",
       "    </tr>\n",
       "    <tr>\n",
       "      <th>X1</th>\n",
       "      <td>1</td>\n",
       "      <td>0</td>\n",
       "      <td>50.0</td>\n",
       "      <td>1.55</td>\n",
       "      <td>3</td>\n",
       "      <td>2</td>\n",
       "      <td>3</td>\n",
       "      <td>8</td>\n",
       "      <td>16</td>\n",
       "    </tr>\n",
       "  </tbody>\n",
       "</table>\n",
       "<p>130 rows × 9 columns</p>\n",
       "</div>"
      ],
      "text/plain": [
       "         SESSO  Mezzo  PESO  ALTEZZA  Tot Testa  Tot Torace  Tot Addome  \\\n",
       "VERBALE                                                                   \n",
       "85567        0      0  84.0     1.75          2           0           3   \n",
       "85829        1      1  69.0     1.62         20           7           1   \n",
       "85977        1      1  67.0     1.55          6           0           0   \n",
       "86220        1      1  60.0     1.59          5           3           2   \n",
       "86247        1      1  69.0     1.67          2           0           2   \n",
       "...        ...    ...   ...      ...        ...         ...         ...   \n",
       "101618       1      0  80.2     1.62          1           2           0   \n",
       "101288E      1      0  75.6     1.57          2           0           0   \n",
       "E-97586      0      1  45.0     1.77          0           1           0   \n",
       "X            0      0  89.6     1.68          2           2           3   \n",
       "X1           1      0  50.0     1.55          3           2           3   \n",
       "\n",
       "         Tot Scheletro  Totale  \n",
       "VERBALE                         \n",
       "85567                9      14  \n",
       "85829                4      32  \n",
       "85977                4      10  \n",
       "86220                4      14  \n",
       "86247                4       8  \n",
       "...                ...     ...  \n",
       "101618               0       3  \n",
       "101288E              3       5  \n",
       "E-97586              8       9  \n",
       "X                    6      13  \n",
       "X1                   8      16  \n",
       "\n",
       "[130 rows x 9 columns]"
      ]
     },
     "execution_count": 7,
     "metadata": {},
     "output_type": "execute_result"
    }
   ],
   "source": [
    "datasetTotali = dataset[['SESSO', 'Mezzo', 'PESO', 'ALTEZZA', 'Tot Testa', 'Tot Torace', 'Tot Addome', 'Tot Scheletro', 'Totale']]\n",
    "datasetTotali"
   ]
  },
  {
   "cell_type": "code",
   "execution_count": 8,
   "metadata": {},
   "outputs": [],
   "source": [
    "#Dataframe con X senza Mezzo e senza la data\n",
    "# y solo mezzo\n",
    "Xtotale = datasetTotali.drop('Mezzo', 1)\n",
    "ytotale = datasetTotali['Mezzo']"
   ]
  },
  {
   "cell_type": "code",
   "execution_count": 9,
   "metadata": {},
   "outputs": [
    {
     "data": {
      "text/plain": [
       "(130, 8)"
      ]
     },
     "execution_count": 9,
     "metadata": {},
     "output_type": "execute_result"
    }
   ],
   "source": [
    "Xtotale.shape\n"
   ]
  },
  {
   "cell_type": "code",
   "execution_count": 12,
   "metadata": {},
   "outputs": [
    {
     "name": "stdout",
     "output_type": "stream",
     "text": [
      "--- 30.06228017807007 seconds ---\n"
     ]
    },
    {
     "data": {
      "text/plain": [
       "{'mlpClassifier__activation': 'logistic',\n",
       " 'mlpClassifier__learning_rate': 'adaptive',\n",
       " 'mlpClassifier__learning_rate_init': 0.01,\n",
       " 'reduce_dim__n_components': 1}"
      ]
     },
     "execution_count": 12,
     "metadata": {},
     "output_type": "execute_result"
    }
   ],
   "source": [
    "trovaIperparametri(model=MLPClassifier, numero_dimensioni=8, X=Xtotale, y=ytotale)"
   ]
  },
  {
   "cell_type": "code",
   "execution_count": 40,
   "metadata": {},
   "outputs": [
    {
     "data": {
      "image/png": "[encoded data removed]",
      "text/plain": [
       "<Figure size 432x288 with 2 Axes>"
      ]
     },
     "metadata": {
      "needs_background": "light"
     },
     "output_type": "display_data"
    },
    {
     "data": {
      "text/plain": [
       "'Lo score e stato calcolato standardizzando i dati, score: 0.5384615384615384'"
      ]
     },
     "execution_count": 40,
     "metadata": {},
     "output_type": "execute_result"
    }
   ],
   "source": [
    "#uso 3 layer rispettivamente da 4,4,1 e senza riduzuzione dimensionalità\n",
    "addestraNuovo(nomeDataset='Incidenti', model_class=MLPClassifier, X=Xtotale, y=ytotale, riduci_dimensionalità=False, iperparametri={'activation':'relu', 'learning_rate':'adaptive','alpha':0.001, 'learning_rate_init':0.01, 'max_iter':500, 'momentum':1, 'hidden_layer_sizes':(4,4,1)})"
   ]
  },
  {
   "cell_type": "code",
   "execution_count": 41,
   "metadata": {},
   "outputs": [
    {
     "data": {
      "image/png": "[encoded data removed]",
      "text/plain": [
       "<Figure size 432x288 with 2 Axes>"
      ]
     },
     "metadata": {
      "needs_background": "light"
     },
     "output_type": "display_data"
    },
    {
     "data": {
      "text/plain": [
       "'Lo score e stato calcolato standardizzando i dati, score: 0.7435897435897436'"
      ]
     },
     "execution_count": 41,
     "metadata": {},
     "output_type": "execute_result"
    }
   ],
   "source": [
    "#uso 3 layer risp da 4,4,1 con riduzione dimensionalità\n",
    "addestraNuovo(nomeDataset='Incidenti', model_class=MLPClassifier, X=Xtotale, y=ytotale, riduci_dimensionalità=True, dim=1, iperparametri={'activation':'relu','alpha':0.001, 'learning_rate':'adaptive', 'learning_rate_init':0.01, 'max_iter':500, 'momentum':1, 'hidden_layer_sizes':(4,4,1)})"
   ]
  },
  {
   "cell_type": "code",
   "execution_count": 12,
   "metadata": {},
   "outputs": [
    {
     "name": "stdout",
     "output_type": "stream",
     "text": [
      "--- 8.413557291030884 seconds ---\n"
     ]
    },
    {
     "data": {
      "text/plain": [
       "{'SVM__C': 0.7000000000000001,\n",
       " 'SVM__gamma': 0.1,\n",
       " 'SVM__kernel': 'sigmoid',\n",
       " 'reduce_dim__n_components': 1}"
      ]
     },
     "execution_count": 12,
     "metadata": {},
     "output_type": "execute_result"
    }
   ],
   "source": [
    "#trovo iperparametri per una SVC\n",
    "\n",
    "trovaIperparametri(model=SVC, X=Xtotale, y=ytotale, numero_dimensioni=9)"
   ]
  },
  {
   "cell_type": "code",
   "execution_count": 47,
   "metadata": {},
   "outputs": [
    {
     "data": {
      "image/png": "[encoded data removed]",
      "text/plain": [
       "<Figure size 432x288 with 2 Axes>"
      ]
     },
     "metadata": {
      "needs_background": "light"
     },
     "output_type": "display_data"
    },
    {
     "data": {
      "text/plain": [
       "'Lo score e stato calcolato standardizzando i dati, score: 0.6666666666666666'"
      ]
     },
     "execution_count": 47,
     "metadata": {},
     "output_type": "execute_result"
    }
   ],
   "source": [
    "#senza riduzione dimensionalità\n",
    "addestraNuovo(nomeDataset='Incidenti', model_class=SVC, X=Xtotale, y=ytotale, riduci_dimensionalità=False, iperparametri={'C':0.7, 'gamma':0.1, 'kernel':'sigmoid'})"
   ]
  },
  {
   "cell_type": "code",
   "execution_count": 48,
   "metadata": {},
   "outputs": [
    {
     "data": {
      "image/png": "[encoded data removed]",
      "text/plain": [
       "<Figure size 432x288 with 2 Axes>"
      ]
     },
     "metadata": {
      "needs_background": "light"
     },
     "output_type": "display_data"
    },
    {
     "data": {
      "text/plain": [
       "'Lo score e stato calcolato standardizzando i dati, score: 0.6923076923076923'"
      ]
     },
     "execution_count": 48,
     "metadata": {},
     "output_type": "execute_result"
    }
   ],
   "source": [
    "#con riduzione dimensionalità\n",
    "addestraNuovo(nomeDataset='Incidenti', model_class=SVC, X=Xtotale, y=ytotale, riduci_dimensionalità=True, dim=1, iperparametri={'C':0.7, 'gamma':0.1, 'kernel':'sigmoid'})"
   ]
  },
  {
   "cell_type": "code",
   "execution_count": 14,
   "metadata": {},
   "outputs": [
    {
     "name": "stdout",
     "output_type": "stream",
     "text": [
      "--- 11.88661003112793 seconds ---\n"
     ]
    },
    {
     "data": {
      "text/plain": [
       "{'random_forest__n_estimators': 80, 'reduce_dim__n_components': 7}"
      ]
     },
     "execution_count": 14,
     "metadata": {},
     "output_type": "execute_result"
    }
   ],
   "source": [
    "#trovo iperparametri per un randomForest\n",
    "trovaIperparametri(model=RandomForestClassifier, X=Xtotale, y=ytotale, numero_dimensioni=9)"
   ]
  },
  {
   "cell_type": "code",
   "execution_count": 15,
   "metadata": {},
   "outputs": [
    {
     "data": {
      "image/png": "[encoded data removed]",
      "text/plain": [
       "<Figure size 432x288 with 2 Axes>"
      ]
     },
     "metadata": {
      "needs_background": "light"
     },
     "output_type": "display_data"
    },
    {
     "data": {
      "text/plain": [
       "'Lo score e stato calcolato standardizzando i dati, score: 0.6923076923076923'"
      ]
     },
     "execution_count": 15,
     "metadata": {},
     "output_type": "execute_result"
    }
   ],
   "source": [
    "addestra(nomeDataset='Incidenti',model=RandomForestClassifier, X=Xtotale, y=ytotale,iperparametri={'n_estimators':40, 'dim':6})"
   ]
  },
  {
   "cell_type": "code",
   "execution_count": 16,
   "metadata": {},
   "outputs": [
    {
     "name": "stdout",
     "output_type": "stream",
     "text": [
      "--- 0.23594951629638672 seconds ---\n"
     ]
    },
    {
     "data": {
      "text/plain": [
       "{'reduce_dim__n_components': 8, 'tree__criterion': 'gini'}"
      ]
     },
     "execution_count": 16,
     "metadata": {},
     "output_type": "execute_result"
    }
   ],
   "source": [
    "trovaIperparametri(model=DecisionTreeClassifier, X=Xtotale, y=ytotale, numero_dimensioni=9)"
   ]
  },
  {
   "cell_type": "code",
   "execution_count": 17,
   "metadata": {},
   "outputs": [
    {
     "data": {
      "image/png": "[encoded data removed]",
      "text/plain": [
       "<Figure size 432x288 with 2 Axes>"
      ]
     },
     "metadata": {
      "needs_background": "light"
     },
     "output_type": "display_data"
    },
    {
     "data": {
      "text/plain": [
       "'Lo score e stato calcolato standardizzando i dati, score: 0.5128205128205128'"
      ]
     },
     "execution_count": 17,
     "metadata": {},
     "output_type": "execute_result"
    }
   ],
   "source": [
    "addestra(nomeDataset='Incidenti',model=DecisionTreeClassifier, X=Xtotale, y=ytotale,iperparametri={'criterio':'gini', 'dim':6})"
   ]
  },
  {
   "cell_type": "code",
   "execution_count": 18,
   "metadata": {},
   "outputs": [
    {
     "name": "stdout",
     "output_type": "stream",
     "text": [
      "--- 0.3780517578125 seconds ---\n"
     ]
    },
    {
     "data": {
      "text/plain": [
       "{'linear_discriminant_analysis__solver': 'svd', 'reduce_dim__n_components': 1}"
      ]
     },
     "execution_count": 18,
     "metadata": {},
     "output_type": "execute_result"
    }
   ],
   "source": [
    "trovaIperparametri(model=LinearDiscriminantAnalysis, X=Xtotale, y=ytotale, numero_dimensioni=9)"
   ]
  },
  {
   "cell_type": "code",
   "execution_count": 19,
   "metadata": {},
   "outputs": [
    {
     "data": {
      "image/png": "[encoded data removed]",
      "text/plain": [
       "<Figure size 432x288 with 2 Axes>"
      ]
     },
     "metadata": {
      "needs_background": "light"
     },
     "output_type": "display_data"
    },
    {
     "data": {
      "text/plain": [
       "'Lo score e stato calcolato standardizzando i dati, score: 0.717948717948718'"
      ]
     },
     "execution_count": 19,
     "metadata": {},
     "output_type": "execute_result"
    }
   ],
   "source": [
    "addestra(nomeDataset='Incidenti',model=LinearDiscriminantAnalysis,  X=Xtotale, y=ytotale, iperparametri={'solver':'svd', 'dim':1})"
   ]
  },
  {
   "cell_type": "code",
   "execution_count": 20,
   "metadata": {},
   "outputs": [
    {
     "name": "stdout",
     "output_type": "stream",
     "text": [
      "--- 0.12740159034729004 seconds ---\n"
     ]
    },
    {
     "data": {
      "text/plain": [
       "{'reduce_dim__n_components': 1}"
      ]
     },
     "execution_count": 20,
     "metadata": {},
     "output_type": "execute_result"
    }
   ],
   "source": [
    "trovaIperparametri(model=GaussianNB, X=Xtotale, y=ytotale, numero_dimensioni=9)"
   ]
  },
  {
   "cell_type": "code",
   "execution_count": 21,
   "metadata": {},
   "outputs": [
    {
     "data": {
      "image/png": "[encoded data removed]",
      "text/plain": [
       "<Figure size 432x288 with 2 Axes>"
      ]
     },
     "metadata": {
      "needs_background": "light"
     },
     "output_type": "display_data"
    },
    {
     "data": {
      "text/plain": [
       "'Lo score e stato calcolato standardizzando i dati, score: 0.6666666666666666'"
      ]
     },
     "execution_count": 21,
     "metadata": {},
     "output_type": "execute_result"
    }
   ],
   "source": [
    "addestra(nomeDataset='Incidenti', model=GaussianNB, X=Xtotale, y=ytotale, iperparametri={'dim':1})"
   ]
  },
  {
   "cell_type": "code",
   "execution_count": 22,
   "metadata": {},
   "outputs": [],
   "source": [
    "#usando solo i totali il modello con le maggiori prestazioni è LinearDiscriminantAnalysis con un punteggio di 0.71\n",
    "#segue SVC con circa 0.69"
   ]
  },
  {
   "cell_type": "code",
   "execution_count": 23,
   "metadata": {},
   "outputs": [
    {
     "data": {
      "text/html": [
       "<div>\n",
       "<style scoped>\n",
       "    .dataframe tbody tr th:only-of-type {\n",
       "        vertical-align: middle;\n",
       "    }\n",
       "\n",
       "    .dataframe tbody tr th {\n",
       "        vertical-align: top;\n",
       "    }\n",
       "\n",
       "    .dataframe thead th {\n",
       "        text-align: right;\n",
       "    }\n",
       "</style>\n",
       "<table border=\"1\" class=\"dataframe\">\n",
       "  <thead>\n",
       "    <tr style=\"text-align: right;\">\n",
       "      <th></th>\n",
       "      <th>SESSO</th>\n",
       "      <th>ANNI</th>\n",
       "      <th>PESO</th>\n",
       "      <th>ALTEZZA</th>\n",
       "      <th>BMI</th>\n",
       "      <th>Testa:Neurocranio</th>\n",
       "      <th>Testa: Splancnocranio</th>\n",
       "      <th>Testa: Telencefalo</th>\n",
       "      <th>Testa: Cervelletto</th>\n",
       "      <th>Testa:Tronco encefalico</th>\n",
       "      <th>...</th>\n",
       "      <th>Scheletro: Rachide cervicale</th>\n",
       "      <th>Scheletro: Rachide toracico</th>\n",
       "      <th>Scheletro: Rachide lombare</th>\n",
       "      <th>Scheletro: Bacino e sacro</th>\n",
       "      <th>Scheletro: Complesso sterno/claveo/costale</th>\n",
       "      <th>Tot Testa</th>\n",
       "      <th>Tot Torace</th>\n",
       "      <th>Tot Addome</th>\n",
       "      <th>Tot Scheletro</th>\n",
       "      <th>Totale</th>\n",
       "    </tr>\n",
       "    <tr>\n",
       "      <th>VERBALE</th>\n",
       "      <th></th>\n",
       "      <th></th>\n",
       "      <th></th>\n",
       "      <th></th>\n",
       "      <th></th>\n",
       "      <th></th>\n",
       "      <th></th>\n",
       "      <th></th>\n",
       "      <th></th>\n",
       "      <th></th>\n",
       "      <th></th>\n",
       "      <th></th>\n",
       "      <th></th>\n",
       "      <th></th>\n",
       "      <th></th>\n",
       "      <th></th>\n",
       "      <th></th>\n",
       "      <th></th>\n",
       "      <th></th>\n",
       "      <th></th>\n",
       "      <th></th>\n",
       "    </tr>\n",
       "  </thead>\n",
       "  <tbody>\n",
       "    <tr>\n",
       "      <th>85567</th>\n",
       "      <td>0</td>\n",
       "      <td>81</td>\n",
       "      <td>84.0</td>\n",
       "      <td>1.75</td>\n",
       "      <td>27.428571</td>\n",
       "      <td>1</td>\n",
       "      <td>0</td>\n",
       "      <td>0</td>\n",
       "      <td>0</td>\n",
       "      <td>1</td>\n",
       "      <td>...</td>\n",
       "      <td>0</td>\n",
       "      <td>3</td>\n",
       "      <td>0</td>\n",
       "      <td>3</td>\n",
       "      <td>3</td>\n",
       "      <td>2</td>\n",
       "      <td>0</td>\n",
       "      <td>3</td>\n",
       "      <td>9</td>\n",
       "      <td>14</td>\n",
       "    </tr>\n",
       "    <tr>\n",
       "      <th>85829</th>\n",
       "      <td>1</td>\n",
       "      <td>69</td>\n",
       "      <td>69.0</td>\n",
       "      <td>1.62</td>\n",
       "      <td>26.291724</td>\n",
       "      <td>4</td>\n",
       "      <td>4</td>\n",
       "      <td>4</td>\n",
       "      <td>4</td>\n",
       "      <td>4</td>\n",
       "      <td>...</td>\n",
       "      <td>0</td>\n",
       "      <td>0</td>\n",
       "      <td>0</td>\n",
       "      <td>0</td>\n",
       "      <td>4</td>\n",
       "      <td>20</td>\n",
       "      <td>7</td>\n",
       "      <td>1</td>\n",
       "      <td>4</td>\n",
       "      <td>32</td>\n",
       "    </tr>\n",
       "    <tr>\n",
       "      <th>85977</th>\n",
       "      <td>1</td>\n",
       "      <td>71</td>\n",
       "      <td>67.0</td>\n",
       "      <td>1.55</td>\n",
       "      <td>27.887617</td>\n",
       "      <td>2</td>\n",
       "      <td>0</td>\n",
       "      <td>1</td>\n",
       "      <td>1</td>\n",
       "      <td>2</td>\n",
       "      <td>...</td>\n",
       "      <td>0</td>\n",
       "      <td>0</td>\n",
       "      <td>0</td>\n",
       "      <td>0</td>\n",
       "      <td>4</td>\n",
       "      <td>6</td>\n",
       "      <td>0</td>\n",
       "      <td>0</td>\n",
       "      <td>4</td>\n",
       "      <td>10</td>\n",
       "    </tr>\n",
       "    <tr>\n",
       "      <th>86220</th>\n",
       "      <td>1</td>\n",
       "      <td>54</td>\n",
       "      <td>60.0</td>\n",
       "      <td>1.59</td>\n",
       "      <td>23.733238</td>\n",
       "      <td>4</td>\n",
       "      <td>0</td>\n",
       "      <td>0</td>\n",
       "      <td>1</td>\n",
       "      <td>0</td>\n",
       "      <td>...</td>\n",
       "      <td>0</td>\n",
       "      <td>0</td>\n",
       "      <td>0</td>\n",
       "      <td>0</td>\n",
       "      <td>4</td>\n",
       "      <td>5</td>\n",
       "      <td>3</td>\n",
       "      <td>2</td>\n",
       "      <td>4</td>\n",
       "      <td>14</td>\n",
       "    </tr>\n",
       "    <tr>\n",
       "      <th>86247</th>\n",
       "      <td>1</td>\n",
       "      <td>78</td>\n",
       "      <td>69.0</td>\n",
       "      <td>1.67</td>\n",
       "      <td>24.740937</td>\n",
       "      <td>2</td>\n",
       "      <td>0</td>\n",
       "      <td>0</td>\n",
       "      <td>0</td>\n",
       "      <td>0</td>\n",
       "      <td>...</td>\n",
       "      <td>0</td>\n",
       "      <td>0</td>\n",
       "      <td>0</td>\n",
       "      <td>0</td>\n",
       "      <td>4</td>\n",
       "      <td>2</td>\n",
       "      <td>0</td>\n",
       "      <td>2</td>\n",
       "      <td>4</td>\n",
       "      <td>8</td>\n",
       "    </tr>\n",
       "    <tr>\n",
       "      <th>...</th>\n",
       "      <td>...</td>\n",
       "      <td>...</td>\n",
       "      <td>...</td>\n",
       "      <td>...</td>\n",
       "      <td>...</td>\n",
       "      <td>...</td>\n",
       "      <td>...</td>\n",
       "      <td>...</td>\n",
       "      <td>...</td>\n",
       "      <td>...</td>\n",
       "      <td>...</td>\n",
       "      <td>...</td>\n",
       "      <td>...</td>\n",
       "      <td>...</td>\n",
       "      <td>...</td>\n",
       "      <td>...</td>\n",
       "      <td>...</td>\n",
       "      <td>...</td>\n",
       "      <td>...</td>\n",
       "      <td>...</td>\n",
       "      <td>...</td>\n",
       "    </tr>\n",
       "    <tr>\n",
       "      <th>101618</th>\n",
       "      <td>1</td>\n",
       "      <td>82</td>\n",
       "      <td>80.2</td>\n",
       "      <td>1.62</td>\n",
       "      <td>30.559366</td>\n",
       "      <td>1</td>\n",
       "      <td>0</td>\n",
       "      <td>0</td>\n",
       "      <td>0</td>\n",
       "      <td>0</td>\n",
       "      <td>...</td>\n",
       "      <td>0</td>\n",
       "      <td>0</td>\n",
       "      <td>0</td>\n",
       "      <td>0</td>\n",
       "      <td>0</td>\n",
       "      <td>1</td>\n",
       "      <td>2</td>\n",
       "      <td>0</td>\n",
       "      <td>0</td>\n",
       "      <td>3</td>\n",
       "    </tr>\n",
       "    <tr>\n",
       "      <th>101288E</th>\n",
       "      <td>1</td>\n",
       "      <td>70</td>\n",
       "      <td>75.6</td>\n",
       "      <td>1.57</td>\n",
       "      <td>30.670615</td>\n",
       "      <td>2</td>\n",
       "      <td>0</td>\n",
       "      <td>0</td>\n",
       "      <td>0</td>\n",
       "      <td>0</td>\n",
       "      <td>...</td>\n",
       "      <td>0</td>\n",
       "      <td>0</td>\n",
       "      <td>0</td>\n",
       "      <td>0</td>\n",
       "      <td>3</td>\n",
       "      <td>2</td>\n",
       "      <td>0</td>\n",
       "      <td>0</td>\n",
       "      <td>3</td>\n",
       "      <td>5</td>\n",
       "    </tr>\n",
       "    <tr>\n",
       "      <th>E-97586</th>\n",
       "      <td>0</td>\n",
       "      <td>45</td>\n",
       "      <td>45.0</td>\n",
       "      <td>1.77</td>\n",
       "      <td>14.363689</td>\n",
       "      <td>0</td>\n",
       "      <td>0</td>\n",
       "      <td>0</td>\n",
       "      <td>0</td>\n",
       "      <td>0</td>\n",
       "      <td>...</td>\n",
       "      <td>0</td>\n",
       "      <td>0</td>\n",
       "      <td>0</td>\n",
       "      <td>4</td>\n",
       "      <td>4</td>\n",
       "      <td>0</td>\n",
       "      <td>1</td>\n",
       "      <td>0</td>\n",
       "      <td>8</td>\n",
       "      <td>9</td>\n",
       "    </tr>\n",
       "    <tr>\n",
       "      <th>X</th>\n",
       "      <td>0</td>\n",
       "      <td>54</td>\n",
       "      <td>89.6</td>\n",
       "      <td>1.68</td>\n",
       "      <td>31.746032</td>\n",
       "      <td>0</td>\n",
       "      <td>2</td>\n",
       "      <td>0</td>\n",
       "      <td>0</td>\n",
       "      <td>0</td>\n",
       "      <td>...</td>\n",
       "      <td>0</td>\n",
       "      <td>0</td>\n",
       "      <td>0</td>\n",
       "      <td>2</td>\n",
       "      <td>4</td>\n",
       "      <td>2</td>\n",
       "      <td>2</td>\n",
       "      <td>3</td>\n",
       "      <td>6</td>\n",
       "      <td>13</td>\n",
       "    </tr>\n",
       "    <tr>\n",
       "      <th>X1</th>\n",
       "      <td>1</td>\n",
       "      <td>86</td>\n",
       "      <td>50.0</td>\n",
       "      <td>1.55</td>\n",
       "      <td>20.811655</td>\n",
       "      <td>1</td>\n",
       "      <td>1</td>\n",
       "      <td>0</td>\n",
       "      <td>0</td>\n",
       "      <td>1</td>\n",
       "      <td>...</td>\n",
       "      <td>0</td>\n",
       "      <td>1</td>\n",
       "      <td>0</td>\n",
       "      <td>3</td>\n",
       "      <td>4</td>\n",
       "      <td>3</td>\n",
       "      <td>2</td>\n",
       "      <td>3</td>\n",
       "      <td>8</td>\n",
       "      <td>16</td>\n",
       "    </tr>\n",
       "  </tbody>\n",
       "</table>\n",
       "<p>130 rows × 30 columns</p>\n",
       "</div>"
      ],
      "text/plain": [
       "         SESSO  ANNI  PESO  ALTEZZA        BMI  Testa:Neurocranio  \\\n",
       "VERBALE                                                             \n",
       "85567        0    81  84.0     1.75  27.428571                  1   \n",
       "85829        1    69  69.0     1.62  26.291724                  4   \n",
       "85977        1    71  67.0     1.55  27.887617                  2   \n",
       "86220        1    54  60.0     1.59  23.733238                  4   \n",
       "86247        1    78  69.0     1.67  24.740937                  2   \n",
       "...        ...   ...   ...      ...        ...                ...   \n",
       "101618       1    82  80.2     1.62  30.559366                  1   \n",
       "101288E      1    70  75.6     1.57  30.670615                  2   \n",
       "E-97586      0    45  45.0     1.77  14.363689                  0   \n",
       "X            0    54  89.6     1.68  31.746032                  0   \n",
       "X1           1    86  50.0     1.55  20.811655                  1   \n",
       "\n",
       "         Testa: Splancnocranio  Testa: Telencefalo  Testa: Cervelletto  \\\n",
       "VERBALE                                                                  \n",
       "85567                        0                   0                   0   \n",
       "85829                        4                   4                   4   \n",
       "85977                        0                   1                   1   \n",
       "86220                        0                   0                   1   \n",
       "86247                        0                   0                   0   \n",
       "...                        ...                 ...                 ...   \n",
       "101618                       0                   0                   0   \n",
       "101288E                      0                   0                   0   \n",
       "E-97586                      0                   0                   0   \n",
       "X                            2                   0                   0   \n",
       "X1                           1                   0                   0   \n",
       "\n",
       "         Testa:Tronco encefalico  ...  Scheletro: Rachide cervicale  \\\n",
       "VERBALE                           ...                                 \n",
       "85567                          1  ...                             0   \n",
       "85829                          4  ...                             0   \n",
       "85977                          2  ...                             0   \n",
       "86220                          0  ...                             0   \n",
       "86247                          0  ...                             0   \n",
       "...                          ...  ...                           ...   \n",
       "101618                         0  ...                             0   \n",
       "101288E                        0  ...                             0   \n",
       "E-97586                        0  ...                             0   \n",
       "X                              0  ...                             0   \n",
       "X1                             1  ...                             0   \n",
       "\n",
       "         Scheletro: Rachide toracico  Scheletro: Rachide lombare  \\\n",
       "VERBALE                                                            \n",
       "85567                              3                           0   \n",
       "85829                              0                           0   \n",
       "85977                              0                           0   \n",
       "86220                              0                           0   \n",
       "86247                              0                           0   \n",
       "...                              ...                         ...   \n",
       "101618                             0                           0   \n",
       "101288E                            0                           0   \n",
       "E-97586                            0                           0   \n",
       "X                                  0                           0   \n",
       "X1                                 1                           0   \n",
       "\n",
       "         Scheletro: Bacino e sacro  \\\n",
       "VERBALE                              \n",
       "85567                            3   \n",
       "85829                            0   \n",
       "85977                            0   \n",
       "86220                            0   \n",
       "86247                            0   \n",
       "...                            ...   \n",
       "101618                           0   \n",
       "101288E                          0   \n",
       "E-97586                          4   \n",
       "X                                2   \n",
       "X1                               3   \n",
       "\n",
       "         Scheletro: Complesso sterno/claveo/costale  Tot Testa  Tot Torace  \\\n",
       "VERBALE                                                                      \n",
       "85567                                             3          2           0   \n",
       "85829                                             4         20           7   \n",
       "85977                                             4          6           0   \n",
       "86220                                             4          5           3   \n",
       "86247                                             4          2           0   \n",
       "...                                             ...        ...         ...   \n",
       "101618                                            0          1           2   \n",
       "101288E                                           3          2           0   \n",
       "E-97586                                           4          0           1   \n",
       "X                                                 4          2           2   \n",
       "X1                                                4          3           2   \n",
       "\n",
       "         Tot Addome  Tot Scheletro  Totale  \n",
       "VERBALE                                     \n",
       "85567             3              9      14  \n",
       "85829             1              4      32  \n",
       "85977             0              4      10  \n",
       "86220             2              4      14  \n",
       "86247             2              4       8  \n",
       "...             ...            ...     ...  \n",
       "101618            0              0       3  \n",
       "101288E           0              3       5  \n",
       "E-97586           0              8       9  \n",
       "X                 3              6      13  \n",
       "X1                3              8      16  \n",
       "\n",
       "[130 rows x 30 columns]"
      ]
     },
     "execution_count": 23,
     "metadata": {},
     "output_type": "execute_result"
    }
   ],
   "source": [
    "#Uso piu dettaglio\n",
    "#Dataframe con X senza Mezzo e senza la data\n",
    "# y solo mezzo\n",
    "Xdettagli = dataset.drop('Mezzo', 1)\n",
    "ydettagli = dataset['Mezzo']\n",
    "Xdettagli = Xdettagli.drop('DATA', 1)\n",
    "Xdettagli"
   ]
  },
  {
   "cell_type": "code",
   "execution_count": 24,
   "metadata": {},
   "outputs": [
    {
     "data": {
      "text/plain": [
       "(130, 30)"
      ]
     },
     "execution_count": 24,
     "metadata": {},
     "output_type": "execute_result"
    }
   ],
   "source": [
    "Xdettagli.shape"
   ]
  },
  {
   "cell_type": "code",
   "execution_count": 25,
   "metadata": {},
   "outputs": [
    {
     "name": "stdout",
     "output_type": "stream",
     "text": [
      "--- 158.24504232406616 seconds ---\n"
     ]
    },
    {
     "data": {
      "text/plain": [
       "{'mlpClassifier__activation': 'relu',\n",
       " 'mlpClassifier__learning_rate': 'constant',\n",
       " 'mlpClassifier__learning_rate_init': 0.0001,\n",
       " 'reduce_dim__n_components': 16}"
      ]
     },
     "execution_count": 25,
     "metadata": {},
     "output_type": "execute_result"
    }
   ],
   "source": [
    "trovaIperparametri(model=MLPClassifier, numero_dimensioni=30, X=Xdettagli, y=ydettagli)"
   ]
  },
  {
   "cell_type": "code",
   "execution_count": 26,
   "metadata": {},
   "outputs": [
    {
     "data": {
      "image/png": "[encoded data removed]",
      "text/plain": [
       "<Figure size 432x288 with 2 Axes>"
      ]
     },
     "metadata": {
      "needs_background": "light"
     },
     "output_type": "display_data"
    },
    {
     "data": {
      "text/plain": [
       "'Lo score e stato calcolato standardizzando i dati, score: 0.7435897435897436'"
      ]
     },
     "execution_count": 26,
     "metadata": {},
     "output_type": "execute_result"
    }
   ],
   "source": [
    "#addestro usando due livelli da 50\n",
    "\n",
    "addestra(nomeDataset='Incidenti',model=MLPClassifier, X=Xdettagli, y=ydettagli, iperparametri={'activation':'relu', 'learning_rate':'constant', 'learning_rate_init':0.001, 'dim':1, 'max_iter':500, 'momentum':1, 'hidden_layer_sizes':(50, 50)})"
   ]
  },
  {
   "cell_type": "code",
   "execution_count": 27,
   "metadata": {},
   "outputs": [
    {
     "name": "stdout",
     "output_type": "stream",
     "text": [
      "--- 34.438016176223755 seconds ---\n"
     ]
    },
    {
     "data": {
      "text/plain": [
       "{'SVM__C': 0.7000000000000001,\n",
       " 'SVM__gamma': 0.1,\n",
       " 'SVM__kernel': 'linear',\n",
       " 'reduce_dim__n_components': 22}"
      ]
     },
     "execution_count": 27,
     "metadata": {},
     "output_type": "execute_result"
    }
   ],
   "source": [
    "#trovo iperparametri per una SVC\n",
    "\n",
    "trovaIperparametri(model=SVC, X=Xdettagli, y=ydettagli, numero_dimensioni=30)"
   ]
  },
  {
   "cell_type": "code",
   "execution_count": 28,
   "metadata": {},
   "outputs": [
    {
     "data": {
      "image/png": "[encoded data removed]",
      "text/plain": [
       "<Figure size 432x288 with 2 Axes>"
      ]
     },
     "metadata": {
      "needs_background": "light"
     },
     "output_type": "display_data"
    },
    {
     "data": {
      "text/plain": [
       "'Lo score e stato calcolato standardizzando i dati, score: 0.5641025641025641'"
      ]
     },
     "execution_count": 28,
     "metadata": {},
     "output_type": "execute_result"
    }
   ],
   "source": [
    "#addestro una SVC\n",
    "addestra(nomeDataset='Incidenti',model=SVC, X=Xdettagli, y=ydettagli, iperparametri={'C':0.7, 'gamma':0.1, 'kernel':'linear', 'dim':22})"
   ]
  },
  {
   "cell_type": "code",
   "execution_count": 29,
   "metadata": {},
   "outputs": [
    {
     "name": "stdout",
     "output_type": "stream",
     "text": [
      "--- 44.15233492851257 seconds ---\n"
     ]
    },
    {
     "data": {
      "text/plain": [
       "{'random_forest__n_estimators': 90, 'reduce_dim__n_components': 20}"
      ]
     },
     "execution_count": 29,
     "metadata": {},
     "output_type": "execute_result"
    }
   ],
   "source": [
    "#trovo iperparametri per un randomForest\n",
    "trovaIperparametri(model=RandomForestClassifier, X=Xdettagli, y=ydettagli, numero_dimensioni=30)"
   ]
  },
  {
   "cell_type": "code",
   "execution_count": 30,
   "metadata": {},
   "outputs": [
    {
     "data": {
      "image/png": "[encoded data removed]",
      "text/plain": [
       "<Figure size 432x288 with 2 Axes>"
      ]
     },
     "metadata": {
      "needs_background": "light"
     },
     "output_type": "display_data"
    },
    {
     "data": {
      "text/plain": [
       "'Lo score e stato calcolato standardizzando i dati, score: 0.6666666666666666'"
      ]
     },
     "execution_count": 30,
     "metadata": {},
     "output_type": "execute_result"
    }
   ],
   "source": [
    "#addestra un randomForest\n",
    "addestra(nomeDataset='Incidenti',model=RandomForestClassifier, X=Xdettagli, y=ydettagli, iperparametri={'n_estimators':80, 'dim':19})"
   ]
  },
  {
   "cell_type": "code",
   "execution_count": 31,
   "metadata": {},
   "outputs": [
    {
     "name": "stdout",
     "output_type": "stream",
     "text": [
      "--- 1.4766349792480469 seconds ---\n"
     ]
    },
    {
     "data": {
      "text/plain": [
       "{'linear_discriminant_analysis__solver': 'svd', 'reduce_dim__n_components': 1}"
      ]
     },
     "execution_count": 31,
     "metadata": {},
     "output_type": "execute_result"
    }
   ],
   "source": [
    "#cerco gli iperparametri per un LinearDiscriminantAnalysis\n",
    "trovaIperparametri(model=LinearDiscriminantAnalysis, X=Xdettagli, y=ydettagli, numero_dimensioni=30)"
   ]
  },
  {
   "cell_type": "code",
   "execution_count": 32,
   "metadata": {},
   "outputs": [
    {
     "data": {
      "image/png": "[encoded data removed]",
      "text/plain": [
       "<Figure size 432x288 with 2 Axes>"
      ]
     },
     "metadata": {
      "needs_background": "light"
     },
     "output_type": "display_data"
    },
    {
     "data": {
      "text/plain": [
       "'Lo score e stato calcolato standardizzando i dati, score: 0.7948717948717948'"
      ]
     },
     "execution_count": 32,
     "metadata": {},
     "output_type": "execute_result"
    }
   ],
   "source": [
    "#addestra un LinearDiscriminantAnalysis#\n",
    "addestra(nomeDataset='Incidenti', model=LinearDiscriminantAnalysis, X=Xdettagli, y=ydettagli, iperparametri={'solver':'svd' , 'dim':1})"
   ]
  },
  {
   "cell_type": "code",
   "execution_count": 33,
   "metadata": {},
   "outputs": [
    {
     "name": "stdout",
     "output_type": "stream",
     "text": [
      "--- 0.13291621208190918 seconds ---\n"
     ]
    },
    {
     "data": {
      "text/plain": [
       "{'reduce_dim__n_components': 1}"
      ]
     },
     "execution_count": 33,
     "metadata": {},
     "output_type": "execute_result"
    }
   ],
   "source": [
    "#trovo iperparametri per un GaussianNB\n",
    "trovaIperparametri(model=GaussianNB, X=Xtotale, y=ytotale, numero_dimensioni=9)"
   ]
  },
  {
   "cell_type": "code",
   "execution_count": 34,
   "metadata": {},
   "outputs": [
    {
     "data": {
      "image/png": "[encoded data removed]",
      "text/plain": [
       "<Figure size 432x288 with 2 Axes>"
      ]
     },
     "metadata": {
      "needs_background": "light"
     },
     "output_type": "display_data"
    },
    {
     "data": {
      "text/plain": [
       "'Lo score e stato calcolato standardizzando i dati, score: 0.6666666666666666'"
      ]
     },
     "execution_count": 34,
     "metadata": {},
     "output_type": "execute_result"
    }
   ],
   "source": [
    "#addestra un GaussianNB\n",
    "addestra(nomeDataset='prova', model=GaussianNB, X=Xtotale, y=ytotale, iperparametri={'dim':1})"
   ]
  },
  {
   "cell_type": "code",
   "execution_count": 35,
   "metadata": {},
   "outputs": [],
   "source": [
    "#i modelli con le maggiori prestazioni sono MLP ma impiega assai a trovare gli iperparametri e LinearDiscriminantAnalysis"
   ]
  }
 ],
 "metadata": {
  "kernelspec": {
   "display_name": "Python 3",
   "language": "python",
   "name": "python3"
  },
  "language_info": {
   "codemirror_mode": {
    "name": "ipython",
    "version": 3
   },
   "file_extension": ".py",
   "mimetype": "text/x-python",
   "name": "python",
   "nbconvert_exporter": "python",
   "pygments_lexer": "ipython3",
   "version": "3.7.6"
  }
 },
 "nbformat": 4,
 "nbformat_minor": 2
}
