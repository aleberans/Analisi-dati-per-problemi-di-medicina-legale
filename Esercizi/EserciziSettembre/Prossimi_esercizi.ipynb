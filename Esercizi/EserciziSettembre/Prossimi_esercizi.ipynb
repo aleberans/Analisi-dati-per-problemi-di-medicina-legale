{
 "cells": [
  {
   "cell_type": "code",
   "execution_count": 1,
   "metadata": {},
   "outputs": [],
   "source": [
    "from sklearn.svm import SVC \n",
    "from sklearn import datasets\n",
    "import numpy as np\n",
    "from sklearn.metrics import accuracy_score\n",
    "import numpy as np\n",
    "from sklearn.model_selection import train_test_split\n",
    "from scikitplot.metrics import plot_confusion_matrix\n",
    "import matplotlib.pyplot as plt\n",
    "\n"
   ]
  },
  {
   "cell_type": "code",
   "execution_count": 4,
   "metadata": {},
   "outputs": [
    {
     "name": "stdout",
     "output_type": "stream",
     "text": [
      " [[5.1, 2.4, 1.3, 0.2]] la predizione conferma che sia setosa\n",
      " [[5.9, 3.0, 5.1, 1.8]] la predizione smentisce che sia setosa\n",
      " [[5.1, 2.4, 1.3, 0.2]] la predizione smentisce che sia setosa\n",
      " [[5.9, 3.0, 5.1, 1.8]] la predizione smentisce che sia setosa\n"
     ]
    }
   ],
   "source": [
    "#riscrivo y in modo che tutti gli elementi che prima avevano come etichetta 0 (setosa) ora hanno 1 e il resto abbia -1\n",
    "iris = datasets.load_iris()\n",
    "X = iris['data']\n",
    "y = iris['target']\n",
    "\n",
    "for number in range(0, len(y)):\n",
    "    if y[number] == 0:\n",
    "        y[number] = +1\n",
    "    else:\n",
    "        y[number] = -1\n",
    "        \n",
    "is_setosa = [[5.1, 2.4, 1.3, 0.2]]\n",
    "not_setosa = [[5.9, 3., 5.1, 1.8]]\n",
    "\n",
    "def controlla(array, g, c):\n",
    "    model = SVC(gamma=g, C=c)\n",
    "    model.fit(X, y)\n",
    "    predizione = model.predict(array)\n",
    "    if(predizione[0] == 1):\n",
    "        return print(f' {array} la predizione conferma che sia setosa')\n",
    "    else:\n",
    "        return print(f' {array} la predizione smentisce che sia setosa')\n",
    "    \n",
    "controlla(is_setosa, 1, 1)\n",
    "controlla(not_setosa, 1, 1)\n",
    "controlla(is_setosa, 0.0001, 1)\n",
    "controlla(not_setosa, 0.0001, 1)"
   ]
  },
  {
   "cell_type": "code",
   "execution_count": 46,
   "metadata": {},
   "outputs": [
    {
     "name": "stdout",
     "output_type": "stream",
     "text": [
      " [[5.7, 2.8, 4.5, 1.3]] la predizione conferma che sia versicolor\n",
      " [[5.9, 3.0, 5.1, 1.8]] la predizione smentisce che sia versicolor\n",
      " [[5.7, 2.8, 4.5, 1.3]] la predizione smentisce che sia versicolor\n",
      " [[5.9, 3.0, 5.1, 1.8]] la predizione smentisce che sia versicolor\n"
     ]
    }
   ],
   "source": [
    "#riscrivo y in modo che tutti gli elementi che prima avevano come etichetta 1 (versicolor) ora hanno 1 e il resto abbia -1\n",
    "iris = datasets.load_iris()\n",
    "X = iris['data']\n",
    "y = iris['target']\n",
    "\n",
    "for number in range(0, len(y)):\n",
    "    if y[number] == 1:\n",
    "        y[number] = +1\n",
    "    else:\n",
    "        y[number] = -1\n",
    "\n",
    "is_versicolor = [[5.7, 2.8, 4.5, 1.3]]\n",
    "not_versicolor = [[5.9, 3., 5.1, 1.8]]\n",
    "\n",
    "\n",
    "def controlla(array, g, c):\n",
    "    model = SVC(gamma=g, C=c)\n",
    "    model.fit(X, y)\n",
    "    predizione = model.predict(array)\n",
    "    if(predizione[0] == 1):\n",
    "        return print(f' {array} la predizione conferma che sia versicolor')\n",
    "    else:\n",
    "        return print(f' {array} la predizione smentisce che sia versicolor')\n",
    "    \n",
    "controlla(is_versicolor, 1, 1)\n",
    "controlla(not_versicolor, 1, 1)\n",
    "controlla(is_versicolor, 0.0001, 1)\n",
    "controlla(not_versicolor, 0.0001, 1)"
   ]
  },
  {
   "cell_type": "code",
   "execution_count": 52,
   "metadata": {},
   "outputs": [
    {
     "name": "stdout",
     "output_type": "stream",
     "text": [
      " [[6.3, 3.3, 6.0, 2.5]] la predizione conferma che sia virginica\n",
      " [[5.7, 2.8, 4.5, 1.3]] la predizione smentisce che sia virginica\n",
      " [[6.3, 3.3, 6.0, 2.5]] la predizione smentisce che sia virginica\n",
      " [[5.7, 2.8, 4.5, 1.3]] la predizione smentisce che sia virginica\n"
     ]
    }
   ],
   "source": [
    "#riscrivo y in modo che tutti gli elementi che prima avevano come etichetta 2 (virginica) ora hanno 1 e il resto abbia -1\n",
    "iris = datasets.load_iris()\n",
    "X = iris['data']\n",
    "y = iris['target']\n",
    "\n",
    "for number in range(0, len(y)):\n",
    "    if y[number] == 2:\n",
    "        y[number] = +1\n",
    "    else:\n",
    "        y[number] = -1\n",
    "\n",
    "is_virginica = [[6.3, 3.3, 6.  ,2.5]]\n",
    "not_virginica = [[5.7, 2.8, 4.5, 1.3]]\n",
    "\n",
    "\n",
    "def controlla(array, g, c):\n",
    "    model = SVC(gamma=g, C=c)\n",
    "    model.fit(X, y)\n",
    "    predizione = model.predict(array)\n",
    "    if(predizione[0] == 1):\n",
    "        return print(f' {array} la predizione conferma che sia virginica')\n",
    "    else:\n",
    "        return print(f' {array} la predizione smentisce che sia virginica')\n",
    "    \n",
    "controlla(is_virginica, 1, 1)\n",
    "controlla(not_virginica, 1, 1)\n",
    "controlla(is_virginica, 0.0001, 1)\n",
    "controlla(not_virginica, 0.0001, 1)"
   ]
  },
  {
   "cell_type": "code",
   "execution_count": null,
   "metadata": {},
   "outputs": [],
   "source": []
  }
 ],
 "metadata": {
  "kernelspec": {
   "display_name": "Python 3",
   "language": "python",
   "name": "python3"
  },
  "language_info": {
   "codemirror_mode": {
    "name": "ipython",
    "version": 3
   },
   "file_extension": ".py",
   "mimetype": "text/x-python",
   "name": "python",
   "nbconvert_exporter": "python",
   "pygments_lexer": "ipython3",
   "version": "3.7.4"
  }
 },
 "nbformat": 4,
 "nbformat_minor": 2
}
