{
 "cells": [
  {
   "cell_type": "code",
   "execution_count": 2,
   "metadata": {},
   "outputs": [
    {
     "data": {
      "text/html": [
       "<div>\n",
       "<style scoped>\n",
       "    .dataframe tbody tr th:only-of-type {\n",
       "        vertical-align: middle;\n",
       "    }\n",
       "\n",
       "    .dataframe tbody tr th {\n",
       "        vertical-align: top;\n",
       "    }\n",
       "\n",
       "    .dataframe thead th {\n",
       "        text-align: right;\n",
       "    }\n",
       "</style>\n",
       "<table border=\"1\" class=\"dataframe\">\n",
       "  <thead>\n",
       "    <tr style=\"text-align: right;\">\n",
       "      <th></th>\n",
       "      <th>DATA</th>\n",
       "      <th>SESSO</th>\n",
       "      <th>ANNI</th>\n",
       "      <th>PESO</th>\n",
       "      <th>ALTEZZA</th>\n",
       "      <th>BMI</th>\n",
       "      <th>Mezzo</th>\n",
       "      <th>Testa:Neurocranio</th>\n",
       "      <th>Testa:Splancnocranio</th>\n",
       "      <th>Testa:Telencefalo</th>\n",
       "      <th>...</th>\n",
       "      <th>Scheletro:Rachide-cervicale</th>\n",
       "      <th>Scheletro:Rachide-toracico</th>\n",
       "      <th>Scheletro:Rachide-lombare</th>\n",
       "      <th>Scheletro:Bacino-e-sacro</th>\n",
       "      <th>Scheletro:Complesso-sterno/claveo/costale</th>\n",
       "      <th>Tot Testa</th>\n",
       "      <th>Tot Torace</th>\n",
       "      <th>Tot Addome</th>\n",
       "      <th>Tot Scheletro</th>\n",
       "      <th>Totale</th>\n",
       "    </tr>\n",
       "    <tr>\n",
       "      <th>VERBALE</th>\n",
       "      <th></th>\n",
       "      <th></th>\n",
       "      <th></th>\n",
       "      <th></th>\n",
       "      <th></th>\n",
       "      <th></th>\n",
       "      <th></th>\n",
       "      <th></th>\n",
       "      <th></th>\n",
       "      <th></th>\n",
       "      <th></th>\n",
       "      <th></th>\n",
       "      <th></th>\n",
       "      <th></th>\n",
       "      <th></th>\n",
       "      <th></th>\n",
       "      <th></th>\n",
       "      <th></th>\n",
       "      <th></th>\n",
       "      <th></th>\n",
       "      <th></th>\n",
       "    </tr>\n",
       "  </thead>\n",
       "  <tbody>\n",
       "    <tr>\n",
       "      <td>85567</td>\n",
       "      <td>1999-10-29</td>\n",
       "      <td>0</td>\n",
       "      <td>81</td>\n",
       "      <td>84.0</td>\n",
       "      <td>1.75</td>\n",
       "      <td>27.428571</td>\n",
       "      <td>0</td>\n",
       "      <td>1</td>\n",
       "      <td>0</td>\n",
       "      <td>0</td>\n",
       "      <td>...</td>\n",
       "      <td>0</td>\n",
       "      <td>3</td>\n",
       "      <td>0</td>\n",
       "      <td>3</td>\n",
       "      <td>3</td>\n",
       "      <td>2</td>\n",
       "      <td>0</td>\n",
       "      <td>3</td>\n",
       "      <td>9</td>\n",
       "      <td>14</td>\n",
       "    </tr>\n",
       "    <tr>\n",
       "      <td>85829</td>\n",
       "      <td>2000-01-14</td>\n",
       "      <td>1</td>\n",
       "      <td>69</td>\n",
       "      <td>69.0</td>\n",
       "      <td>1.62</td>\n",
       "      <td>26.291724</td>\n",
       "      <td>1</td>\n",
       "      <td>4</td>\n",
       "      <td>4</td>\n",
       "      <td>4</td>\n",
       "      <td>...</td>\n",
       "      <td>0</td>\n",
       "      <td>0</td>\n",
       "      <td>0</td>\n",
       "      <td>0</td>\n",
       "      <td>4</td>\n",
       "      <td>20</td>\n",
       "      <td>7</td>\n",
       "      <td>1</td>\n",
       "      <td>4</td>\n",
       "      <td>32</td>\n",
       "    </tr>\n",
       "    <tr>\n",
       "      <td>85977</td>\n",
       "      <td>2000-03-10</td>\n",
       "      <td>1</td>\n",
       "      <td>71</td>\n",
       "      <td>67.0</td>\n",
       "      <td>1.55</td>\n",
       "      <td>27.887617</td>\n",
       "      <td>1</td>\n",
       "      <td>2</td>\n",
       "      <td>0</td>\n",
       "      <td>1</td>\n",
       "      <td>...</td>\n",
       "      <td>0</td>\n",
       "      <td>0</td>\n",
       "      <td>0</td>\n",
       "      <td>0</td>\n",
       "      <td>4</td>\n",
       "      <td>6</td>\n",
       "      <td>0</td>\n",
       "      <td>0</td>\n",
       "      <td>4</td>\n",
       "      <td>10</td>\n",
       "    </tr>\n",
       "    <tr>\n",
       "      <td>86220</td>\n",
       "      <td>2000-06-14</td>\n",
       "      <td>1</td>\n",
       "      <td>54</td>\n",
       "      <td>60.0</td>\n",
       "      <td>1.59</td>\n",
       "      <td>23.733238</td>\n",
       "      <td>1</td>\n",
       "      <td>4</td>\n",
       "      <td>0</td>\n",
       "      <td>0</td>\n",
       "      <td>...</td>\n",
       "      <td>0</td>\n",
       "      <td>0</td>\n",
       "      <td>0</td>\n",
       "      <td>0</td>\n",
       "      <td>4</td>\n",
       "      <td>5</td>\n",
       "      <td>3</td>\n",
       "      <td>2</td>\n",
       "      <td>4</td>\n",
       "      <td>14</td>\n",
       "    </tr>\n",
       "    <tr>\n",
       "      <td>86247</td>\n",
       "      <td>2000-06-22</td>\n",
       "      <td>1</td>\n",
       "      <td>78</td>\n",
       "      <td>69.0</td>\n",
       "      <td>1.67</td>\n",
       "      <td>24.740937</td>\n",
       "      <td>1</td>\n",
       "      <td>2</td>\n",
       "      <td>0</td>\n",
       "      <td>0</td>\n",
       "      <td>...</td>\n",
       "      <td>0</td>\n",
       "      <td>0</td>\n",
       "      <td>0</td>\n",
       "      <td>0</td>\n",
       "      <td>4</td>\n",
       "      <td>2</td>\n",
       "      <td>0</td>\n",
       "      <td>2</td>\n",
       "      <td>4</td>\n",
       "      <td>8</td>\n",
       "    </tr>\n",
       "  </tbody>\n",
       "</table>\n",
       "<p>5 rows × 32 columns</p>\n",
       "</div>"
      ],
      "text/plain": [
       "              DATA  SESSO  ANNI  PESO  ALTEZZA        BMI  Mezzo  \\\n",
       "VERBALE                                                            \n",
       "85567   1999-10-29      0    81  84.0     1.75  27.428571      0   \n",
       "85829   2000-01-14      1    69  69.0     1.62  26.291724      1   \n",
       "85977   2000-03-10      1    71  67.0     1.55  27.887617      1   \n",
       "86220   2000-06-14      1    54  60.0     1.59  23.733238      1   \n",
       "86247   2000-06-22      1    78  69.0     1.67  24.740937      1   \n",
       "\n",
       "         Testa:Neurocranio  Testa:Splancnocranio  Testa:Telencefalo  ...  \\\n",
       "VERBALE                                                              ...   \n",
       "85567                    1                     0                  0  ...   \n",
       "85829                    4                     4                  4  ...   \n",
       "85977                    2                     0                  1  ...   \n",
       "86220                    4                     0                  0  ...   \n",
       "86247                    2                     0                  0  ...   \n",
       "\n",
       "         Scheletro:Rachide-cervicale  Scheletro:Rachide-toracico  \\\n",
       "VERBALE                                                            \n",
       "85567                              0                           3   \n",
       "85829                              0                           0   \n",
       "85977                              0                           0   \n",
       "86220                              0                           0   \n",
       "86247                              0                           0   \n",
       "\n",
       "         Scheletro:Rachide-lombare  Scheletro:Bacino-e-sacro  \\\n",
       "VERBALE                                                        \n",
       "85567                            0                         3   \n",
       "85829                            0                         0   \n",
       "85977                            0                         0   \n",
       "86220                            0                         0   \n",
       "86247                            0                         0   \n",
       "\n",
       "         Scheletro:Complesso-sterno/claveo/costale  Tot Testa  Tot Torace  \\\n",
       "VERBALE                                                                     \n",
       "85567                                            3          2           0   \n",
       "85829                                            4         20           7   \n",
       "85977                                            4          6           0   \n",
       "86220                                            4          5           3   \n",
       "86247                                            4          2           0   \n",
       "\n",
       "         Tot Addome  Tot Scheletro  Totale  \n",
       "VERBALE                                     \n",
       "85567             3              9      14  \n",
       "85829             1              4      32  \n",
       "85977             0              4      10  \n",
       "86220             2              4      14  \n",
       "86247             2              4       8  \n",
       "\n",
       "[5 rows x 32 columns]"
      ]
     },
     "execution_count": 2,
     "metadata": {},
     "output_type": "execute_result"
    }
   ],
   "source": [
    "import pandas as pd\n",
    "dataset = pd.read_excel('IncidentiModificato.xlsx', sheet_name='Foglio1', index_col=0)\n",
    "dataset.head()"
   ]
  },
  {
   "cell_type": "code",
   "execution_count": 3,
   "metadata": {},
   "outputs": [
    {
     "data": {
      "text/plain": [
       "130"
      ]
     },
     "execution_count": 3,
     "metadata": {},
     "output_type": "execute_result"
    }
   ],
   "source": [
    "len(dataset)"
   ]
  },
  {
   "cell_type": "code",
   "execution_count": 6,
   "metadata": {},
   "outputs": [
    {
     "data": {
      "text/plain": [
       "Index([    85567,     85829,     85977,     86220,     86247,     86421,\n",
       "           86839,     86876,     86878,     90056,\n",
       "       ...\n",
       "          101097,    101180,    101189,    101544,    101583,    101618,\n",
       "       '101288E', 'E-97586',       'X',      'X1'],\n",
       "      dtype='object', name='VERBALE', length=130)"
      ]
     },
     "execution_count": 6,
     "metadata": {},
     "output_type": "execute_result"
    }
   ],
   "source": [
    "dataset.index.unique()"
   ]
  },
  {
   "cell_type": "code",
   "execution_count": 8,
   "metadata": {},
   "outputs": [
    {
     "name": "stdout",
     "output_type": "stream",
     "text": [
      "Valori del dataset corretti\n"
     ]
    }
   ],
   "source": [
    "def controllaDataset(dataset):\n",
    "    #controllo che i verbali siano valori unici\n",
    "    if (len(dataset.index) != len(dataset.index.unique())):\n",
    "        raise Exception('I verbali non possono essere usati come indice')\n",
    "\n",
    "    #controllo i valori degli anni\n",
    "    anni = dataset['ANNI']\n",
    "    for anno in anni:\n",
    "        if anno < 1 or anno > 95:\n",
    "            raise Exception(f'Anno inserito non valido {anno}')\n",
    "    \n",
    "    #controllo i valori dei pesi\n",
    "    pesi = dataset['PESO']\n",
    "    for peso in pesi:\n",
    "        if peso < 30 or peso > 120:\n",
    "            raise Exception(f'Peso inserito non valido {peso}')\n",
    "    \n",
    "    #controllo i valori dell'altezza\n",
    "    altezze = dataset['ALTEZZA']\n",
    "    for altezza in altezze:\n",
    "        if altezza < 1.00 or altezza > 2.10:\n",
    "            raise Exception(f'Altezza inserito non valida {altezza}')\n",
    "    \n",
    "    #controllo del BMI\n",
    "    valori_BMI = dataset['BMI']\n",
    "    for bmi in valori_BMI:\n",
    "        if bmi < 10.0 or bmi > 50.0:\n",
    "            raise Exception(f'bmi inserito non valido {bmi}')\n",
    "            \n",
    "    #controllo altri valori compresi tra 0 e 4\n",
    "    dataset_valori_0_4 = dataset['Testa:Neurocranio']\n",
    "    for valore in dataset_valori_0_4:\n",
    "        if valore < 0 or valore > 4:\n",
    "            raise Exception(f'{valore} non compresa tra 0 e 4')\n",
    "            \n",
    "\n",
    "    print(\"Valori del dataset corretti\")\n",
    "    \n",
    "\n",
    "controllaDataset(dataset)"
   ]
  },
  {
   "cell_type": "code",
   "execution_count": 3,
   "metadata": {},
   "outputs": [],
   "source": [
    "import numpy as np\n",
    "\n",
    "from sklearn.preprocessing import StandardScaler\n",
    "from sklearn.decomposition import PCA\n",
    "from sklearn.model_selection import GridSearchCV, cross_val_score\n",
    "\n",
    "def addestra(model_class, X, y, model_selection_grid, dim_reduction=None):\n",
    "    sc = StandardScaler()\n",
    "    X_std = sc.fit_transform(X)\n",
    "    \n",
    "    if dim_reduction is not None: \n",
    "        reducer = dim_reduction\n",
    "        X_std = reducer.fit_transform(X_std)\n",
    "\n",
    "    clf = GridSearchCV(estimator=model_class(), param_grid=model_selection_grid, cv=9, iid=True)\n",
    "    return cross_val_score(clf, X_std, y, cv=9)"
   ]
  },
  {
   "cell_type": "markdown",
   "metadata": {},
   "source": [
    "## Iniziamo considerando solo i totali per distretto"
   ]
  },
  {
   "cell_type": "code",
   "execution_count": 39,
   "metadata": {},
   "outputs": [],
   "source": [
    "X = dataset[['SESSO', 'ANNI', 'PESO', 'ALTEZZA', 'Tot Testa', 'Tot Torace', 'Tot Addome', 'Tot Scheletro']]\n",
    "y = dataset['Mezzo']"
   ]
  },
  {
   "cell_type": "code",
   "execution_count": 55,
   "metadata": {
    "scrolled": false
   },
   "outputs": [
    {
     "data": {
      "text/plain": [
       "0.6667480667480667"
      ]
     },
     "execution_count": 55,
     "metadata": {},
     "output_type": "execute_result"
    }
   ],
   "source": [
    "from sklearn.svm import SVC\n",
    "\n",
    "c_space = np.logspace(-4, 3, 10)\n",
    "gamma_space = np.logspace(-4, 3, 10)\n",
    "\n",
    "model_selection_grid = [\n",
    "  {'C': c_space, 'kernel': ['linear'], 'gamma': ['auto']},\n",
    "  {'C': c_space, 'gamma': gamma_space, 'kernel': ['rbf']},\n",
    "  {'C': c_space, 'gamma': ['auto', 'scale'], 'kernel': ['rbf']},\n",
    "  {'C': c_space, 'degree': [2, 3, 5, 9], 'kernel': ['poly'], 'gamma': ['auto']},\n",
    " ]\n",
    "\n",
    "np.mean(addestra(SVC, X, y, model_selection_grid))"
   ]
  },
  {
   "cell_type": "code",
   "execution_count": 56,
   "metadata": {},
   "outputs": [
    {
     "data": {
      "text/plain": [
       "0.5774114774114775"
      ]
     },
     "execution_count": 56,
     "metadata": {},
     "output_type": "execute_result"
    }
   ],
   "source": [
    "from sklearn.tree import DecisionTreeClassifier\n",
    "\n",
    "model_selection_grid = {'criterion': ['gini', 'entropy'],\n",
    "                        'max_leaf_nodes': [None, 2, 5, 10, 50, 100],\n",
    "                        'max_features': [None, 'sqrt', 'log2'],\n",
    "                        'max_depth': [None, 2, 5, 10]}\n",
    "\n",
    "np.mean(addestra(DecisionTreeClassifier, X, y, model_selection_grid))"
   ]
  },
  {
   "cell_type": "code",
   "execution_count": 57,
   "metadata": {},
   "outputs": [
    {
     "data": {
      "text/plain": [
       "0.6297110297110297"
      ]
     },
     "execution_count": 57,
     "metadata": {},
     "output_type": "execute_result"
    }
   ],
   "source": [
    "from sklearn.ensemble import RandomForestClassifier\n",
    "\n",
    "model_selection_grid = {'n_estimators': [5, 10, 50, 100, 200],\n",
    "                        'criterion': ['gini', 'entropy'],\n",
    "                        'max_leaf_nodes': [None, 2, 5, 10, 50, 100],\n",
    "                        'max_features': [None, 'sqrt', 'log2'],\n",
    "                        'max_depth': [None, 2, 5, 10]}\n",
    "\n",
    "np.mean(addestra(RandomForestClassifier, X, y, model_selection_grid))"
   ]
  },
  {
   "cell_type": "code",
   "execution_count": 58,
   "metadata": {},
   "outputs": [
    {
     "data": {
      "text/plain": [
       "0.706064306064306"
      ]
     },
     "execution_count": 58,
     "metadata": {},
     "output_type": "execute_result"
    }
   ],
   "source": [
    "from sklearn.naive_bayes import GaussianNB\n",
    "\n",
    "model_selection_grid = {}\n",
    "\n",
    "np.mean(addestra(GaussianNB, X, y, model_selection_grid))"
   ]
  },
  {
   "cell_type": "code",
   "execution_count": 59,
   "metadata": {},
   "outputs": [
    {
     "data": {
      "text/plain": [
       "0.7192104192104192"
      ]
     },
     "execution_count": 59,
     "metadata": {},
     "output_type": "execute_result"
    }
   ],
   "source": [
    "from sklearn.discriminant_analysis import LinearDiscriminantAnalysis\n",
    "\n",
    "model_selection_grid = {}\n",
    "\n",
    "np.mean(addestra(LinearDiscriminantAnalysis, X, y, model_selection_grid))"
   ]
  },
  {
   "cell_type": "code",
   "execution_count": 63,
   "metadata": {
    "scrolled": false
   },
   "outputs": [
    {
     "data": {
      "text/plain": [
       "0.6507936507936508"
      ]
     },
     "execution_count": 63,
     "metadata": {},
     "output_type": "execute_result"
    }
   ],
   "source": [
    "from sklearn.neural_network import MLPClassifier\n",
    "\n",
    "model_selection_grid = {'max_iter': [5000],\n",
    "                        'hidden_layer_sizes': [[2], [4], [6], [10], [20], [4, 4], [10, 10]],\n",
    "                        'activation': ['identity', 'logistic', 'tanh', 'relu']}\n",
    "\n",
    "np.mean(addestra(MLPClassifier, X, y, model_selection_grid))"
   ]
  },
  {
   "cell_type": "markdown",
   "metadata": {},
   "source": [
    "## Aumentiamo la precisione, scendendo nei cinque livelli di ogni distretto"
   ]
  },
  {
   "cell_type": "code",
   "execution_count": 4,
   "metadata": {},
   "outputs": [],
   "source": [
    "selected_cols = ['Testa:Neurocranio',\n",
    "                 'Testa:Splancnocranio',\n",
    "                 'Testa:Telencefalo',\n",
    "                 'Testa:Cervelletto',\n",
    "                 'Testa:Tronco-encefalico',\n",
    "                 'Torace:Polmoni',\n",
    "                 'Torace:Trachea/bronchi',\n",
    "                 'Torace:Cuore',\n",
    "                 'Torace:Aorta-toracica',\n",
    "                 'Torace:Diaframma',\n",
    "                 'Addome:Fegato',\n",
    "                 'Addome:Milza',\n",
    "                 'Addome:Aorta-addominale',\n",
    "                 'Addome:Reni',\n",
    "                 'Addome:Mesentere',\n",
    "                 'Scheletro:Rachide-cervicale',\n",
    "                 'Scheletro:Rachide-toracico',\n",
    "                 'Scheletro:Rachide-lombare',\n",
    "                 'Scheletro:Bacino-e-sacro',\n",
    "                 'Scheletro:Complesso-sterno/claveo/costale']\n",
    "\n",
    "X = dataset[selected_cols]\n",
    "y = dataset['Mezzo']"
   ]
  },
  {
   "cell_type": "markdown",
   "metadata": {},
   "source": [
    "Iniziamo facendo un controllo su quanto sia possibile ridurre la dimensione dei dati"
   ]
  },
  {
   "cell_type": "code",
   "execution_count": 70,
   "metadata": {},
   "outputs": [
    {
     "data": {
      "text/plain": [
       "PCA(copy=True, iterated_power='auto', n_components=20, random_state=None,\n",
       "    svd_solver='auto', tol=0.0, whiten=False)"
      ]
     },
     "execution_count": 70,
     "metadata": {},
     "output_type": "execute_result"
    }
   ],
   "source": [
    "pca = PCA(n_components = 20)\n",
    "pca.fit(X)"
   ]
  },
  {
   "cell_type": "code",
   "execution_count": 73,
   "metadata": {},
   "outputs": [
    {
     "data": {
      "image/png": "[encoded data removed]",
      "text/plain": [
       "<Figure size 432x288 with 1 Axes>"
      ]
     },
     "metadata": {
      "needs_background": "light"
     },
     "output_type": "display_data"
    }
   ],
   "source": [
    "%matplotlib inline\n",
    "\n",
    "from matplotlib import pyplot as plt\n",
    "\n",
    "plt.plot(range(20), pca.explained_variance_ratio_.cumsum())\n",
    "plt.show()"
   ]
  },
  {
   "cell_type": "code",
   "execution_count": 74,
   "metadata": {},
   "outputs": [
    {
     "data": {
      "text/plain": [
       "array([0.2590028 , 0.4424267 , 0.51161017, 0.57652743, 0.63390248,\n",
       "       0.68359398, 0.72846105, 0.7680911 , 0.80302776, 0.83411104,\n",
       "       0.8604245 , 0.88623497, 0.91098428, 0.9328969 , 0.94926481,\n",
       "       0.96485529, 0.97790404, 0.99078593, 0.99608975, 1.        ])"
      ]
     },
     "execution_count": 74,
     "metadata": {},
     "output_type": "execute_result"
    }
   ],
   "source": [
    "pca.explained_variance_ratio_.cumsum()"
   ]
  },
  {
   "cell_type": "code",
   "execution_count": 75,
   "metadata": {},
   "outputs": [
    {
     "data": {
      "text/plain": [
       "0.9109842843806883"
      ]
     },
     "execution_count": 75,
     "metadata": {},
     "output_type": "execute_result"
    }
   ],
   "source": [
    "pca.explained_variance_ratio_.cumsum()[12]"
   ]
  },
  {
   "cell_type": "markdown",
   "metadata": {},
   "source": [
    "Scendendo quindi da 20 a 13 feature si mantiene più del 90% della varianza"
   ]
  },
  {
   "cell_type": "markdown",
   "metadata": {},
   "source": [
    "### Iniziamo comunque con tutte le 20 feature"
   ]
  },
  {
   "cell_type": "code",
   "execution_count": 76,
   "metadata": {},
   "outputs": [
    {
     "data": {
      "text/plain": [
       "0.6703296703296704"
      ]
     },
     "execution_count": 76,
     "metadata": {},
     "output_type": "execute_result"
    }
   ],
   "source": [
    "c_space = np.logspace(-4, 3, 10)\n",
    "gamma_space = np.logspace(-4, 3, 10)\n",
    "\n",
    "model_selection_grid = [\n",
    "  {'C': c_space, 'kernel': ['linear'], 'gamma': ['auto']},\n",
    "  {'C': c_space, 'gamma': gamma_space, 'kernel': ['rbf']},\n",
    "  {'C': c_space, 'gamma': ['auto', 'scale'], 'kernel': ['rbf']},\n",
    "  {'C': c_space, 'degree': [2, 3, 5, 9], 'kernel': ['poly'], 'gamma': ['auto']},\n",
    " ]\n",
    "\n",
    "np.mean(addestra(SVC, X, y, model_selection_grid))"
   ]
  },
  {
   "cell_type": "code",
   "execution_count": 77,
   "metadata": {},
   "outputs": [
    {
     "data": {
      "text/plain": [
       "0.6332519332519332"
      ]
     },
     "execution_count": 77,
     "metadata": {},
     "output_type": "execute_result"
    }
   ],
   "source": [
    "from sklearn.tree import DecisionTreeClassifier\n",
    "\n",
    "model_selection_grid = {'criterion': ['gini', 'entropy'],\n",
    "                        'max_leaf_nodes': [None, 2, 5, 10, 50, 100],\n",
    "                        'max_features': [None, 'sqrt', 'log2'],\n",
    "                        'max_depth': [None, 2, 5, 10]}\n",
    "\n",
    "np.mean(addestra(DecisionTreeClassifier, X, y, model_selection_grid))"
   ]
  },
  {
   "cell_type": "code",
   "execution_count": 78,
   "metadata": {},
   "outputs": [
    {
     "data": {
      "text/plain": [
       "0.677045177045177"
      ]
     },
     "execution_count": 78,
     "metadata": {},
     "output_type": "execute_result"
    }
   ],
   "source": [
    "from sklearn.ensemble import RandomForestClassifier\n",
    "\n",
    "model_selection_grid = {'n_estimators': [5, 10, 50, 100, 200],\n",
    "                        'criterion': ['gini', 'entropy'],\n",
    "                        'max_leaf_nodes': [None, 2, 5, 10, 50, 100],\n",
    "                        'max_features': [None, 'sqrt', 'log2'],\n",
    "                        'max_depth': [None, 2, 5, 10]}\n",
    "\n",
    "np.mean(addestra(RandomForestClassifier, X, y, model_selection_grid))"
   ]
  },
  {
   "cell_type": "code",
   "execution_count": 79,
   "metadata": {},
   "outputs": [
    {
     "data": {
      "text/plain": [
       "0.6359788359788361"
      ]
     },
     "execution_count": 79,
     "metadata": {},
     "output_type": "execute_result"
    }
   ],
   "source": [
    "from sklearn.naive_bayes import GaussianNB\n",
    "\n",
    "model_selection_grid = {}\n",
    "\n",
    "np.mean(addestra(GaussianNB, X, y, model_selection_grid))"
   ]
  },
  {
   "cell_type": "code",
   "execution_count": 80,
   "metadata": {},
   "outputs": [
    {
     "data": {
      "text/plain": [
       "0.6433862433862434"
      ]
     },
     "execution_count": 80,
     "metadata": {},
     "output_type": "execute_result"
    }
   ],
   "source": [
    "from sklearn.discriminant_analysis import LinearDiscriminantAnalysis\n",
    "\n",
    "model_selection_grid = {}\n",
    "\n",
    "np.mean(addestra(LinearDiscriminantAnalysis, X, y, model_selection_grid))"
   ]
  },
  {
   "cell_type": "code",
   "execution_count": 81,
   "metadata": {
    "scrolled": false
   },
   "outputs": [
    {
     "data": {
      "text/plain": [
       "0.6787138787138787"
      ]
     },
     "execution_count": 81,
     "metadata": {},
     "output_type": "execute_result"
    }
   ],
   "source": [
    "from sklearn.neural_network import MLPClassifier\n",
    "\n",
    "model_selection_grid = {'max_iter': [5000],\n",
    "                        'hidden_layer_sizes': [[2], [4], [6], [10], [20], [4, 4], [10, 10]],\n",
    "                        'activation': ['identity', 'logistic', 'tanh', 'relu']}\n",
    "\n",
    "np.mean(addestra(MLPClassifier, X, y, model_selection_grid))"
   ]
  },
  {
   "cell_type": "markdown",
   "metadata": {},
   "source": [
    "### Scendiamo a 13 feature con PCA"
   ]
  },
  {
   "cell_type": "code",
   "execution_count": 84,
   "metadata": {},
   "outputs": [
    {
     "data": {
      "text/plain": [
       "0.6702482702482703"
      ]
     },
     "execution_count": 84,
     "metadata": {},
     "output_type": "execute_result"
    }
   ],
   "source": [
    "c_space = np.logspace(-4, 3, 10)\n",
    "gamma_space = np.logspace(-4, 3, 10)\n",
    "\n",
    "model_selection_grid = [\n",
    "  {'C': c_space, 'kernel': ['linear'], 'gamma': ['auto']},\n",
    "  {'C': c_space, 'gamma': gamma_space, 'kernel': ['rbf']},\n",
    "  {'C': c_space, 'gamma': ['auto', 'scale'], 'kernel': ['rbf']},\n",
    "  {'C': c_space, 'degree': [2, 3, 5, 9], 'kernel': ['poly'], 'gamma': ['auto']},\n",
    " ]\n",
    "\n",
    "np.mean(addestra(SVC, X, y, model_selection_grid, dim_reduction=PCA(n_components=13)))"
   ]
  },
  {
   "cell_type": "code",
   "execution_count": 85,
   "metadata": {},
   "outputs": [
    {
     "data": {
      "text/plain": [
       "0.6087098087098087"
      ]
     },
     "execution_count": 85,
     "metadata": {},
     "output_type": "execute_result"
    }
   ],
   "source": [
    "from sklearn.tree import DecisionTreeClassifier\n",
    "\n",
    "model_selection_grid = {'criterion': ['gini', 'entropy'],\n",
    "                        'max_leaf_nodes': [None, 2, 5, 10, 50, 100],\n",
    "                        'max_features': [None, 'sqrt', 'log2'],\n",
    "                        'max_depth': [None, 2, 5, 10]}\n",
    "\n",
    "np.mean(addestra(DecisionTreeClassifier, X, y, model_selection_grid, dim_reduction=PCA(n_components=13)))"
   ]
  },
  {
   "cell_type": "code",
   "execution_count": 86,
   "metadata": {},
   "outputs": [
    {
     "data": {
      "text/plain": [
       "0.7105413105413105"
      ]
     },
     "execution_count": 86,
     "metadata": {},
     "output_type": "execute_result"
    }
   ],
   "source": [
    "from sklearn.ensemble import RandomForestClassifier\n",
    "\n",
    "model_selection_grid = {'n_estimators': [5, 10, 50, 100, 200],\n",
    "                        'criterion': ['gini', 'entropy'],\n",
    "                        'max_leaf_nodes': [None, 2, 5, 10, 50, 100],\n",
    "                        'max_features': [None, 'sqrt', 'log2'],\n",
    "                        'max_depth': [None, 2, 5, 10]}\n",
    "\n",
    "np.mean(addestra(RandomForestClassifier, X, y, model_selection_grid, dim_reduction=PCA(n_components=13)))"
   ]
  },
  {
   "cell_type": "code",
   "execution_count": 87,
   "metadata": {},
   "outputs": [
    {
     "data": {
      "text/plain": [
       "0.665079365079365"
      ]
     },
     "execution_count": 87,
     "metadata": {},
     "output_type": "execute_result"
    }
   ],
   "source": [
    "from sklearn.naive_bayes import GaussianNB\n",
    "\n",
    "model_selection_grid = {}\n",
    "\n",
    "np.mean(addestra(GaussianNB, X, y, model_selection_grid, dim_reduction=PCA(n_components=13)))"
   ]
  },
  {
   "cell_type": "code",
   "execution_count": 88,
   "metadata": {},
   "outputs": [
    {
     "data": {
      "text/plain": [
       "0.5881155881155881"
      ]
     },
     "execution_count": 88,
     "metadata": {},
     "output_type": "execute_result"
    }
   ],
   "source": [
    "from sklearn.discriminant_analysis import LinearDiscriminantAnalysis\n",
    "\n",
    "model_selection_grid = {}\n",
    "\n",
    "np.mean(addestra(LinearDiscriminantAnalysis, X, y, model_selection_grid, dim_reduction=PCA(n_components=13)))"
   ]
  },
  {
   "cell_type": "code",
   "execution_count": 89,
   "metadata": {
    "scrolled": false
   },
   "outputs": [
    {
     "data": {
      "text/plain": [
       "0.5733007733007733"
      ]
     },
     "execution_count": 89,
     "metadata": {},
     "output_type": "execute_result"
    }
   ],
   "source": [
    "from sklearn.neural_network import MLPClassifier\n",
    "\n",
    "model_selection_grid = {'max_iter': [5000],\n",
    "                        'hidden_layer_sizes': [[2], [4], [6], [10], [20], [4, 4], [10, 10]],\n",
    "                        'activation': ['identity', 'logistic', 'tanh', 'relu']}\n",
    "\n",
    "np.mean(addestra(MLPClassifier, X, y, model_selection_grid, dim_reduction=PCA(n_components=13)))"
   ]
  },
  {
   "cell_type": "markdown",
   "metadata": {},
   "source": [
    "### Proviamo a ridurre le componenti a 10 con t-SNE"
   ]
  },
  {
   "cell_type": "code",
   "execution_count": 5,
   "metadata": {},
   "outputs": [],
   "source": [
    "from sklearn.manifold import TSNE"
   ]
  },
  {
   "cell_type": "code",
   "execution_count": 6,
   "metadata": {},
   "outputs": [
    {
     "data": {
      "text/plain": [
       "0.46182336182336187"
      ]
     },
     "execution_count": 6,
     "metadata": {},
     "output_type": "execute_result"
    }
   ],
   "source": [
    "from sklearn.svm import SVC\n",
    "\n",
    "c_space = np.logspace(-4, 3, 10)\n",
    "gamma_space = np.logspace(-4, 3, 10)\n",
    "\n",
    "model_selection_grid = [\n",
    "  {'C': c_space, 'kernel': ['linear'], 'gamma': ['auto']},\n",
    "  {'C': c_space, 'gamma': gamma_space, 'kernel': ['rbf']},\n",
    "  {'C': c_space, 'gamma': ['auto', 'scale'], 'kernel': ['rbf']},\n",
    "  {'C': c_space, 'degree': [2, 3, 5, 9], 'kernel': ['poly'], 'gamma': ['auto']},\n",
    " ]\n",
    "\n",
    "np.mean(addestra(SVC, X, y, model_selection_grid, dim_reduction=TSNE(n_components=10, method='exact')))"
   ]
  },
  {
   "cell_type": "code",
   "execution_count": 6,
   "metadata": {},
   "outputs": [
    {
     "data": {
      "text/plain": [
       "0.5164835164835164"
      ]
     },
     "execution_count": 6,
     "metadata": {},
     "output_type": "execute_result"
    }
   ],
   "source": [
    "from sklearn.tree import DecisionTreeClassifier\n",
    "\n",
    "model_selection_grid = {'criterion': ['gini', 'entropy'],\n",
    "                        'max_leaf_nodes': [None, 2, 5, 10, 50, 100],\n",
    "                        'max_features': [None, 'sqrt', 'log2'],\n",
    "                        'max_depth': [None, 2, 5, 10]}\n",
    "\n",
    "np.mean(addestra(DecisionTreeClassifier, X, y, model_selection_grid, dim_reduction=TSNE(n_components=3)))"
   ]
  },
  {
   "cell_type": "code",
   "execution_count": 7,
   "metadata": {},
   "outputs": [
    {
     "data": {
      "text/plain": [
       "0.46923076923076923"
      ]
     },
     "execution_count": 7,
     "metadata": {},
     "output_type": "execute_result"
    }
   ],
   "source": [
    "from sklearn.ensemble import RandomForestClassifier\n",
    "\n",
    "model_selection_grid = {'n_estimators': [5, 10, 50, 100, 200],\n",
    "                        'criterion': ['gini', 'entropy'],\n",
    "                        'max_leaf_nodes': [None, 2, 5, 10, 50, 100],\n",
    "                        'max_features': [None, 'sqrt', 'log2'],\n",
    "                        'max_depth': [None, 2, 5, 10]}\n",
    "\n",
    "np.mean(addestra(RandomForestClassifier, X, y, model_selection_grid, dim_reduction=TSNE(n_components=3)))"
   ]
  },
  {
   "cell_type": "code",
   "execution_count": 9,
   "metadata": {},
   "outputs": [
    {
     "data": {
      "text/plain": [
       "0.5564509564509564"
      ]
     },
     "execution_count": 9,
     "metadata": {},
     "output_type": "execute_result"
    }
   ],
   "source": [
    "from sklearn.naive_bayes import GaussianNB\n",
    "\n",
    "model_selection_grid = {}\n",
    "\n",
    "np.mean(addestra(GaussianNB, X, y, model_selection_grid, dim_reduction=TSNE(n_components=3)))"
   ]
  },
  {
   "cell_type": "code",
   "execution_count": 10,
   "metadata": {},
   "outputs": [
    {
     "data": {
      "text/plain": [
       "0.5705331705331704"
      ]
     },
     "execution_count": 10,
     "metadata": {},
     "output_type": "execute_result"
    }
   ],
   "source": [
    "from sklearn.discriminant_analysis import LinearDiscriminantAnalysis\n",
    "\n",
    "model_selection_grid = {}\n",
    "\n",
    "np.mean(addestra(LinearDiscriminantAnalysis, X, y, model_selection_grid, dim_reduction=TSNE(n_components=3)))"
   ]
  },
  {
   "cell_type": "code",
   "execution_count": 8,
   "metadata": {
    "scrolled": false
   },
   "outputs": [
    {
     "data": {
      "text/plain": [
       "0.522914122914123"
      ]
     },
     "execution_count": 8,
     "metadata": {},
     "output_type": "execute_result"
    }
   ],
   "source": [
    "from sklearn.neural_network import MLPClassifier\n",
    "\n",
    "model_selection_grid = {'max_iter': [5000],\n",
    "                        'hidden_layer_sizes': [[2], [4], [6], [10], [20], [4, 4], [10, 10]],\n",
    "                        'activation': ['identity', 'logistic', 'tanh', 'relu']}\n",
    "\n",
    "np.mean(addestra(MLPClassifier, X, y, model_selection_grid, dim_reduction=TSNE(n_components=3)))"
   ]
  },
  {
   "cell_type": "code",
   "execution_count": null,
   "metadata": {},
   "outputs": [],
   "source": []
  }
 ],
 "metadata": {
  "kernelspec": {
   "display_name": "Python 3",
   "language": "python",
   "name": "python3"
  },
  "language_info": {
   "codemirror_mode": {
    "name": "ipython",
    "version": 3
   },
   "file_extension": ".py",
   "mimetype": "text/x-python",
   "name": "python",
   "nbconvert_exporter": "python",
   "pygments_lexer": "ipython3",
   "version": "3.7.4"
  },
  "latex_envs": {
   "LaTeX_envs_menu_present": true,
   "autoclose": true,
   "autocomplete": true,
   "bibliofile": "biblio.bib",
   "cite_by": "apalike",
   "current_citInitial": 1,
   "eqLabelWithNumbers": true,
   "eqNumInitial": 1,
   "hotkeys": {
    "equation": "Ctrl-E",
    "itemize": "Ctrl-I"
   },
   "labels_anchors": false,
   "latex_user_defs": false,
   "report_style_numbering": true,
   "user_envs_cfg": false
  }
 },
 "nbformat": 4,
 "nbformat_minor": 2
}
