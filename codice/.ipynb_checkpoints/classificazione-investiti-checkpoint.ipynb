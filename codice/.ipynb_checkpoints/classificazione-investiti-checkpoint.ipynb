{
 "cells": [
  {
   "cell_type": "code",
   "execution_count": 1,
   "metadata": {},
   "outputs": [],
   "source": [
    "import logging\n",
    "#for handler in logging.root.handlers[:]:\n",
    "    #logging.root.removeHandler(handler)\n",
    "\n",
    "logging.basicConfig(\n",
    "    level=logging.INFO,\n",
    "    handlers=[logging.FileHandler(filename='Punteggi.log')])\n",
    "logger = logging.getLogger('Risultati')"
   ]
  },
  {
   "cell_type": "code",
   "execution_count": 2,
   "metadata": {},
   "outputs": [
    {
     "data": {
      "text/html": [
       "<div>\n",
       "<style scoped>\n",
       "    .dataframe tbody tr th:only-of-type {\n",
       "        vertical-align: middle;\n",
       "    }\n",
       "\n",
       "    .dataframe tbody tr th {\n",
       "        vertical-align: top;\n",
       "    }\n",
       "\n",
       "    .dataframe thead th {\n",
       "        text-align: right;\n",
       "    }\n",
       "</style>\n",
       "<table border=\"1\" class=\"dataframe\">\n",
       "  <thead>\n",
       "    <tr style=\"text-align: right;\">\n",
       "      <th></th>\n",
       "      <th>DATA</th>\n",
       "      <th>SESSO</th>\n",
       "      <th>ANNI</th>\n",
       "      <th>PESO</th>\n",
       "      <th>ALTEZZA</th>\n",
       "      <th>BMI</th>\n",
       "      <th>Mezzo</th>\n",
       "      <th>Testa:Neurocranio</th>\n",
       "      <th>Testa:Splancnocranio</th>\n",
       "      <th>Testa:Telencefalo</th>\n",
       "      <th>...</th>\n",
       "      <th>Scheletro:Rachide-cervicale</th>\n",
       "      <th>Scheletro:Rachide-toracico</th>\n",
       "      <th>Scheletro:Rachide-lombare</th>\n",
       "      <th>Scheletro:Bacino-e-sacro</th>\n",
       "      <th>Scheletro:Complesso-sterno/claveo/costale</th>\n",
       "      <th>Tot Testa</th>\n",
       "      <th>Tot Torace</th>\n",
       "      <th>Tot Addome</th>\n",
       "      <th>Tot Scheletro</th>\n",
       "      <th>Totale</th>\n",
       "    </tr>\n",
       "    <tr>\n",
       "      <th>VERBALE</th>\n",
       "      <th></th>\n",
       "      <th></th>\n",
       "      <th></th>\n",
       "      <th></th>\n",
       "      <th></th>\n",
       "      <th></th>\n",
       "      <th></th>\n",
       "      <th></th>\n",
       "      <th></th>\n",
       "      <th></th>\n",
       "      <th></th>\n",
       "      <th></th>\n",
       "      <th></th>\n",
       "      <th></th>\n",
       "      <th></th>\n",
       "      <th></th>\n",
       "      <th></th>\n",
       "      <th></th>\n",
       "      <th></th>\n",
       "      <th></th>\n",
       "      <th></th>\n",
       "    </tr>\n",
       "  </thead>\n",
       "  <tbody>\n",
       "    <tr>\n",
       "      <th>85567</th>\n",
       "      <td>1999-10-29</td>\n",
       "      <td>0</td>\n",
       "      <td>81</td>\n",
       "      <td>84.0</td>\n",
       "      <td>1.75</td>\n",
       "      <td>27.428571</td>\n",
       "      <td>0</td>\n",
       "      <td>1</td>\n",
       "      <td>0</td>\n",
       "      <td>0</td>\n",
       "      <td>...</td>\n",
       "      <td>0</td>\n",
       "      <td>3</td>\n",
       "      <td>0</td>\n",
       "      <td>3</td>\n",
       "      <td>3</td>\n",
       "      <td>2</td>\n",
       "      <td>0</td>\n",
       "      <td>3</td>\n",
       "      <td>9</td>\n",
       "      <td>14</td>\n",
       "    </tr>\n",
       "    <tr>\n",
       "      <th>85829</th>\n",
       "      <td>2000-01-14</td>\n",
       "      <td>1</td>\n",
       "      <td>69</td>\n",
       "      <td>69.0</td>\n",
       "      <td>1.62</td>\n",
       "      <td>26.291724</td>\n",
       "      <td>1</td>\n",
       "      <td>4</td>\n",
       "      <td>4</td>\n",
       "      <td>4</td>\n",
       "      <td>...</td>\n",
       "      <td>0</td>\n",
       "      <td>0</td>\n",
       "      <td>0</td>\n",
       "      <td>0</td>\n",
       "      <td>4</td>\n",
       "      <td>20</td>\n",
       "      <td>7</td>\n",
       "      <td>1</td>\n",
       "      <td>4</td>\n",
       "      <td>32</td>\n",
       "    </tr>\n",
       "    <tr>\n",
       "      <th>85977</th>\n",
       "      <td>2000-03-10</td>\n",
       "      <td>1</td>\n",
       "      <td>71</td>\n",
       "      <td>67.0</td>\n",
       "      <td>1.55</td>\n",
       "      <td>27.887617</td>\n",
       "      <td>1</td>\n",
       "      <td>2</td>\n",
       "      <td>0</td>\n",
       "      <td>1</td>\n",
       "      <td>...</td>\n",
       "      <td>0</td>\n",
       "      <td>0</td>\n",
       "      <td>0</td>\n",
       "      <td>0</td>\n",
       "      <td>4</td>\n",
       "      <td>6</td>\n",
       "      <td>0</td>\n",
       "      <td>0</td>\n",
       "      <td>4</td>\n",
       "      <td>10</td>\n",
       "    </tr>\n",
       "    <tr>\n",
       "      <th>86220</th>\n",
       "      <td>2000-06-14</td>\n",
       "      <td>1</td>\n",
       "      <td>54</td>\n",
       "      <td>60.0</td>\n",
       "      <td>1.59</td>\n",
       "      <td>23.733238</td>\n",
       "      <td>1</td>\n",
       "      <td>4</td>\n",
       "      <td>0</td>\n",
       "      <td>0</td>\n",
       "      <td>...</td>\n",
       "      <td>0</td>\n",
       "      <td>0</td>\n",
       "      <td>0</td>\n",
       "      <td>0</td>\n",
       "      <td>4</td>\n",
       "      <td>5</td>\n",
       "      <td>3</td>\n",
       "      <td>2</td>\n",
       "      <td>4</td>\n",
       "      <td>14</td>\n",
       "    </tr>\n",
       "    <tr>\n",
       "      <th>86247</th>\n",
       "      <td>2000-06-22</td>\n",
       "      <td>1</td>\n",
       "      <td>78</td>\n",
       "      <td>69.0</td>\n",
       "      <td>1.67</td>\n",
       "      <td>24.740937</td>\n",
       "      <td>1</td>\n",
       "      <td>2</td>\n",
       "      <td>0</td>\n",
       "      <td>0</td>\n",
       "      <td>...</td>\n",
       "      <td>0</td>\n",
       "      <td>0</td>\n",
       "      <td>0</td>\n",
       "      <td>0</td>\n",
       "      <td>4</td>\n",
       "      <td>2</td>\n",
       "      <td>0</td>\n",
       "      <td>2</td>\n",
       "      <td>4</td>\n",
       "      <td>8</td>\n",
       "    </tr>\n",
       "  </tbody>\n",
       "</table>\n",
       "<p>5 rows × 32 columns</p>\n",
       "</div>"
      ],
      "text/plain": [
       "              DATA  SESSO  ANNI  PESO  ALTEZZA        BMI  Mezzo  \\\n",
       "VERBALE                                                            \n",
       "85567   1999-10-29      0    81  84.0     1.75  27.428571      0   \n",
       "85829   2000-01-14      1    69  69.0     1.62  26.291724      1   \n",
       "85977   2000-03-10      1    71  67.0     1.55  27.887617      1   \n",
       "86220   2000-06-14      1    54  60.0     1.59  23.733238      1   \n",
       "86247   2000-06-22      1    78  69.0     1.67  24.740937      1   \n",
       "\n",
       "         Testa:Neurocranio  Testa:Splancnocranio  Testa:Telencefalo  ...  \\\n",
       "VERBALE                                                              ...   \n",
       "85567                    1                     0                  0  ...   \n",
       "85829                    4                     4                  4  ...   \n",
       "85977                    2                     0                  1  ...   \n",
       "86220                    4                     0                  0  ...   \n",
       "86247                    2                     0                  0  ...   \n",
       "\n",
       "         Scheletro:Rachide-cervicale  Scheletro:Rachide-toracico  \\\n",
       "VERBALE                                                            \n",
       "85567                              0                           3   \n",
       "85829                              0                           0   \n",
       "85977                              0                           0   \n",
       "86220                              0                           0   \n",
       "86247                              0                           0   \n",
       "\n",
       "         Scheletro:Rachide-lombare  Scheletro:Bacino-e-sacro  \\\n",
       "VERBALE                                                        \n",
       "85567                            0                         3   \n",
       "85829                            0                         0   \n",
       "85977                            0                         0   \n",
       "86220                            0                         0   \n",
       "86247                            0                         0   \n",
       "\n",
       "         Scheletro:Complesso-sterno/claveo/costale  Tot Testa  Tot Torace  \\\n",
       "VERBALE                                                                     \n",
       "85567                                            3          2           0   \n",
       "85829                                            4         20           7   \n",
       "85977                                            4          6           0   \n",
       "86220                                            4          5           3   \n",
       "86247                                            4          2           0   \n",
       "\n",
       "         Tot Addome  Tot Scheletro  Totale  \n",
       "VERBALE                                     \n",
       "85567             3              9      14  \n",
       "85829             1              4      32  \n",
       "85977             0              4      10  \n",
       "86220             2              4      14  \n",
       "86247             2              4       8  \n",
       "\n",
       "[5 rows x 32 columns]"
      ]
     },
     "execution_count": 2,
     "metadata": {},
     "output_type": "execute_result"
    }
   ],
   "source": [
    "import pandas as pd\n",
    "dataset = pd.read_excel('IncidentiModificato.xlsx', sheet_name='Foglio1', index_col=0)\n",
    "dataset.head()"
   ]
  },
  {
   "cell_type": "code",
   "execution_count": 3,
   "metadata": {},
   "outputs": [
    {
     "data": {
      "text/plain": [
       "130"
      ]
     },
     "execution_count": 3,
     "metadata": {},
     "output_type": "execute_result"
    }
   ],
   "source": [
    "len(dataset)"
   ]
  },
  {
   "cell_type": "code",
   "execution_count": 4,
   "metadata": {},
   "outputs": [
    {
     "data": {
      "text/plain": [
       "Index([    85567,     85829,     85977,     86220,     86247,     86421,\n",
       "           86839,     86876,     86878,     90056,\n",
       "       ...\n",
       "          101097,    101180,    101189,    101544,    101583,    101618,\n",
       "       '101288E', 'E-97586',       'X',      'X1'],\n",
       "      dtype='object', name='VERBALE', length=130)"
      ]
     },
     "execution_count": 4,
     "metadata": {},
     "output_type": "execute_result"
    }
   ],
   "source": [
    "dataset.index.unique()"
   ]
  },
  {
   "cell_type": "code",
   "execution_count": 5,
   "metadata": {},
   "outputs": [
    {
     "name": "stdout",
     "output_type": "stream",
     "text": [
      "Valori del dataset corretti\n"
     ]
    }
   ],
   "source": [
    "def checkDataset(dataset):\n",
    "    #controllo che i verbali siano valori unici\n",
    "    if (len(dataset.index) != len(dataset.index.unique())):\n",
    "        raise Exception('I verbali non possono essere usati come indice')\n",
    "\n",
    "    #controllo i valori degli anni\n",
    "    anni = dataset['ANNI']\n",
    "    for anno in anni:\n",
    "        if anno < 1 or anno > 95:\n",
    "            raise Exception(f'Anno inserito non valido {anno}')\n",
    "    \n",
    "    #controllo i valori dei pesi\n",
    "    pesi = dataset['PESO']\n",
    "    for peso in pesi:\n",
    "        if peso < 30 or peso > 120:\n",
    "            raise Exception(f'Peso inserito non valido {peso}')\n",
    "    \n",
    "    #controllo i valori dell'altezza\n",
    "    altezze = dataset['ALTEZZA']\n",
    "    for altezza in altezze:\n",
    "        if altezza < 1.00 or altezza > 2.10:\n",
    "            raise Exception(f'Altezza inserito non valida {altezza}')\n",
    "    \n",
    "    #controllo del BMI\n",
    "    valori_BMI = dataset['BMI']\n",
    "    for bmi in valori_BMI:\n",
    "        if bmi < 10.0 or bmi > 50.0:\n",
    "            raise Exception(f'bmi inserito non valido {bmi}')\n",
    "            \n",
    "    #controllo altri valori compresi tra 0 e 4\n",
    "    dataset_valori_0_4 = dataset['Testa:Neurocranio']\n",
    "    for valore in dataset_valori_0_4:\n",
    "        if valore < 0 or valore > 4:\n",
    "            raise Exception(f'{valore} non compresa tra 0 e 4')\n",
    "            \n",
    "\n",
    "    print(\"Valori del dataset corretti\")\n",
    "    \n",
    "\n",
    "checkDataset(dataset)"
   ]
  },
  {
   "cell_type": "code",
   "execution_count": 6,
   "metadata": {},
   "outputs": [],
   "source": [
    "import numpy as np\n",
    "\n",
    "from sklearn.preprocessing import StandardScaler, MinMaxScaler, RobustScaler\n",
    "from sklearn.decomposition import PCA\n",
    "from sklearn.model_selection import GridSearchCV, cross_val_score\n",
    "import time\n",
    "from random import seed\n",
    "import numpy as np\n",
    "import datetime\n",
    "from sklearn.svm import SVC\n",
    "from sklearn.tree import DecisionTreeClassifier\n",
    "from sklearn.naive_bayes import GaussianNB\n",
    "from sklearn.ensemble import RandomForestClassifier\n",
    "from sklearn.discriminant_analysis import LinearDiscriminantAnalysis\n",
    "from sklearn.neural_network import MLPClassifier\n",
    "from tqdm.notebook import tnrange\n",
    "\n",
    "np.random.seed(42)\n",
    "\n",
    "model_to_string_extended = {SVC: 'SVC', DecisionTreeClassifier: 'DecisionTreeClassifier', RandomForestClassifier:'RandomForestClassifier', GaussianNB: 'GaussianNB', LinearDiscriminantAnalysis: 'LinearDiscriminantAnalysis', MLPClassifier: 'MLPClassifier'}\n",
    "\n",
    "def addestra(model_class, X, y, model_selection_grid, num_fold_grid_search, num_fold_cross_val, nome_dataset, logger_name=None, scaling=StandardScaler(), dim_reduction=None):\n",
    "    \n",
    "    for i in tnrange(1, desc=model_to_string_extended[model_class]):\n",
    "        start_time = time.time()\n",
    "\n",
    "        date_inizio = datetime.datetime.now().strftime(\"%d.%b %Y %H:%M:%S\")\n",
    "        if logger_name is not None: logger_name.info(f'INIZIO ADDESTRAMENTO alle {date_inizio}') \n",
    "\n",
    "        X_std = scaling.fit_transform(X)  if scaling is not None else X\n",
    "\n",
    "        X_std = dim_reduction.fit_transform(X_std) if dim_reduction is not None else X_std\n",
    "\n",
    "        clf = GridSearchCV(estimator=model_class(), param_grid=model_selection_grid, cv=num_fold_grid_search, n_jobs=-1, refit=True)\n",
    "        clf.fit(X_std, y)\n",
    "        val = cross_val_score(clf, X_std, y, cv=num_fold_cross_val)\n",
    "\n",
    "        if logger_name is not None:\n",
    "            logger_name.info(f'DATASET in uso: {nome_dataset}')\n",
    "            logger_name.info(f'MODELLO: {model_to_string_extended[model_class]}')\n",
    "            logger_name.info(f'SCALER: {scaling}')\n",
    "            logger_name.info(f'RIDUZIONE DIMENSIONALITA {dim_reduction}')\n",
    "            logger_name.info(f'IPERPARAMETRI: {clf.best_params_}')\n",
    "            logger_name.info(f'SCORE: {np.mean(val)}')\n",
    "\n",
    "        end_time = time.time()\n",
    "        data_fine = datetime.datetime.now().strftime(\"%d.%b %Y %H:%M:%S\")\n",
    "        if logger_name is not None:\n",
    "            logger_name.info(f'FINE ADDESTRAMENTO alle {data_fine}, tempo di calcolo totale in secondi: {end_time-start_time}')\n",
    "    return val\n"
   ]
  },
  {
   "cell_type": "markdown",
   "metadata": {},
   "source": [
    "## Iniziamo considerando solo i totali per distretto"
   ]
  },
  {
   "cell_type": "code",
   "execution_count": 7,
   "metadata": {},
   "outputs": [],
   "source": [
    "X_total = dataset[['SESSO', 'ANNI', 'PESO', 'ALTEZZA', 'Tot Testa', 'Tot Torace', 'Tot Addome', 'Tot Scheletro']]\n",
    "y_total = dataset['Mezzo']"
   ]
  },
  {
   "cell_type": "code",
   "execution_count": 8,
   "metadata": {},
   "outputs": [],
   "source": [
    "models = [SVC, DecisionTreeClassifier, RandomForestClassifier, GaussianNB, LinearDiscriminantAnalysis, MLPClassifier]\n",
    "model_to_string = {SVC: 'SVC', DecisionTreeClassifier: 'DT', RandomForestClassifier:'RF', GaussianNB: 'NB', LinearDiscriminantAnalysis: 'LD', MLPClassifier: 'MLP'}\n",
    "\n",
    "c_space = np.logspace(-4, 3, 10)\n",
    "gamma_space = np.logspace(-4, 3, 10)\n",
    "\n",
    "model_selection_grid_SVC = [\n",
    "  {'C': c_space, 'kernel': ['linear'], 'gamma': ['auto']},\n",
    "  {'C': c_space, 'gamma': gamma_space, 'kernel': ['rbf']},\n",
    "  {'C': c_space, 'gamma': ['auto', 'scale'], 'kernel': ['rbf']},\n",
    "  {'C': c_space, 'degree': [2, 3, 5, 9], 'kernel': ['poly'], 'gamma': ['auto']},\n",
    " ]\n",
    "\n",
    "model_selection_grid_DT = {'criterion': ['gini', 'entropy'],\n",
    "                        'max_leaf_nodes': [None, 2, 5, 10, 50, 100],\n",
    "                        'max_features': [None, 'sqrt', 'log2'],\n",
    "                        'max_depth': [None, 2, 5, 10]}\n",
    "\n",
    "\n",
    "\n",
    "model_selection_grid_RF = {'n_estimators': [5, 10, 50, 100, 200],\n",
    "                        'criterion': ['gini', 'entropy'],\n",
    "                        'max_leaf_nodes': [None, 2, 5, 10, 50, 100],\n",
    "                        'max_features': [None, 'sqrt', 'log2'],\n",
    "                        'max_depth': [None, 2, 5, 10]}\n",
    "\n",
    "model_selection_grid_NB = {}\n",
    "model_selection_grid_LD = {}\n",
    "\n",
    "model_selection_grid_MLP = {'max_iter': [5000],\n",
    "                        'hidden_layer_sizes': [[2], [4], [6], [10], [20], [4, 4], [10, 10]],\n",
    "                        'activation': ['identity', 'logistic', 'tanh', 'relu']}\n",
    "\n",
    "grids = [model_selection_grid_SVC, model_selection_grid_DT, model_selection_grid_RF, model_selection_grid_NB, model_selection_grid_LD, model_selection_grid_MLP]"
   ]
  },
  {
   "cell_type": "code",
   "execution_count": 9,
   "metadata": {},
   "outputs": [],
   "source": [
    "import os.path\n",
    "import json\n",
    "\n",
    "def add_column_to_results(result_dict, column_name, serialized_results_filename,\n",
    "                          X, y, models, grids, scaling=StandardScaler(), dim_reduction=None, logger_name=logger):\n",
    "    \n",
    "    if column_name not in result_dict:\n",
    "        if os.path.exists(serialized_results_filename):\n",
    "            with open(serialized_results_filename, 'r') as fp:\n",
    "                saved_dict = json.load(fp)\n",
    "                if column_name in saved_dict:\n",
    "                    result_dict[column_name] = saved_dict[column_name]\n",
    "                else:\n",
    "                    result_dict[column_name] = {model_to_string[m]: np.mean(addestra(m,\n",
    "                                                                             X,\n",
    "                                                                             y,\n",
    "                                                                             g,\n",
    "                                                                             9,\n",
    "                                                                             9,\n",
    "                                                                             scaling=scaling,\n",
    "                                                                             dim_reduction=dim_reduction,\n",
    "                                                                             nome_dataset=column_name,\n",
    "                                                                             logger_name=logger_name))\n",
    "                                                 for m, g in zip(models, grids)}\n",
    "                    with open(serialized_results_filename, 'w', encoding='utf-8') as fp:\n",
    "                        json.dump(result_dict, fp, ensure_ascii=False, indent=4)\n",
    "        #Se il file json non esiste ancora non fa nulla, ho aggiunto allora un ramo else che lo crea per la prima volta\n",
    "        else:\n",
    "            result_dict[column_name] = {model_to_string[m]: np.mean(addestra(m,\n",
    "                                                                                 X,\n",
    "                                                                                 y,\n",
    "                                                                                 g,\n",
    "                                                                                 9,\n",
    "                                                                                 9,\n",
    "                                                                                 scaling=scaling,\n",
    "                                                                                 dim_reduction=dim_reduction,\n",
    "                                                                                 nome_dataset=column_name,\n",
    "                                                                                 logger_name=logger_name))\n",
    "                                                 for m, g in zip(models, grids)}\n",
    "            with open(serialized_results_filename, 'w', encoding='utf-8') as fp:\n",
    "                json.dump(result_dict, fp, ensure_ascii=False, indent=4)"
   ]
  },
  {
   "cell_type": "code",
   "execution_count": 10,
   "metadata": {},
   "outputs": [],
   "source": [
    "risultatiStandardScaler = {}\n"
   ]
  },
  {
   "cell_type": "code",
   "execution_count": 11,
   "metadata": {},
   "outputs": [
    {
     "data": {
      "application/vnd.jupyter.widget-view+json": {
       "model_id": "82bb3790a3a2464aba5045c81d4542cd",
       "version_major": 2,
       "version_minor": 0
      },
      "text/plain": [
       "HBox(children=(FloatProgress(value=0.0, description='SVC', max=1.0, style=ProgressStyle(description_width='ini…"
      ]
     },
     "metadata": {},
     "output_type": "display_data"
    },
    {
     "name": "stdout",
     "output_type": "stream",
     "text": [
      "\n"
     ]
    },
    {
     "data": {
      "application/vnd.jupyter.widget-view+json": {
       "model_id": "a20724302863417eb6de96a0fe1fb1b6",
       "version_major": 2,
       "version_minor": 0
      },
      "text/plain": [
       "HBox(children=(FloatProgress(value=0.0, description='DecisionTreeClassifier', max=1.0, style=ProgressStyle(des…"
      ]
     },
     "metadata": {},
     "output_type": "display_data"
    },
    {
     "name": "stdout",
     "output_type": "stream",
     "text": [
      "\n"
     ]
    },
    {
     "data": {
      "application/vnd.jupyter.widget-view+json": {
       "model_id": "02e12c329ac84f59b03881df4489fc01",
       "version_major": 2,
       "version_minor": 0
      },
      "text/plain": [
       "HBox(children=(FloatProgress(value=0.0, description='RandomForestClassifier', max=1.0, style=ProgressStyle(des…"
      ]
     },
     "metadata": {},
     "output_type": "display_data"
    },
    {
     "name": "stdout",
     "output_type": "stream",
     "text": [
      "\n"
     ]
    },
    {
     "data": {
      "application/vnd.jupyter.widget-view+json": {
       "model_id": "c7cc5027af574925aa290ed179a8a32b",
       "version_major": 2,
       "version_minor": 0
      },
      "text/plain": [
       "HBox(children=(FloatProgress(value=0.0, description='GaussianNB', max=1.0, style=ProgressStyle(description_wid…"
      ]
     },
     "metadata": {},
     "output_type": "display_data"
    },
    {
     "name": "stdout",
     "output_type": "stream",
     "text": [
      "\n"
     ]
    },
    {
     "data": {
      "application/vnd.jupyter.widget-view+json": {
       "model_id": "a20d3b74749b4017b6eb2d9b9279431a",
       "version_major": 2,
       "version_minor": 0
      },
      "text/plain": [
       "HBox(children=(FloatProgress(value=0.0, description='LinearDiscriminantAnalysis', max=1.0, style=ProgressStyle…"
      ]
     },
     "metadata": {},
     "output_type": "display_data"
    },
    {
     "name": "stdout",
     "output_type": "stream",
     "text": [
      "\n"
     ]
    },
    {
     "data": {
      "application/vnd.jupyter.widget-view+json": {
       "model_id": "dfbf5a1289e74ff8a0196b884e3eb0bf",
       "version_major": 2,
       "version_minor": 0
      },
      "text/plain": [
       "HBox(children=(FloatProgress(value=0.0, description='MLPClassifier', max=1.0, style=ProgressStyle(description_…"
      ]
     },
     "metadata": {},
     "output_type": "display_data"
    },
    {
     "name": "stdout",
     "output_type": "stream",
     "text": [
      "\n"
     ]
    }
   ],
   "source": [
    "add_column_to_results(risultatiStandardScaler, 'Totali', 'RisultatiStandardScaler.json', X_total, y_total, models, grids, logger_name=logger)"
   ]
  },
  {
   "cell_type": "markdown",
   "metadata": {},
   "source": [
    "# Proviamo considerando anche il BMI"
   ]
  },
  {
   "cell_type": "code",
   "execution_count": 12,
   "metadata": {},
   "outputs": [],
   "source": [
    "X_total_with_BMI = dataset[['SESSO', 'ANNI', 'PESO', 'ALTEZZA', 'BMI', 'Tot Testa', 'Tot Torace', 'Tot Addome', 'Tot Scheletro']]\n",
    "y_total_with_BMI = dataset['Mezzo']"
   ]
  },
  {
   "cell_type": "code",
   "execution_count": 13,
   "metadata": {},
   "outputs": [
    {
     "data": {
      "application/vnd.jupyter.widget-view+json": {
       "model_id": "e68d93b3662d4236bdae617e37ef41e1",
       "version_major": 2,
       "version_minor": 0
      },
      "text/plain": [
       "HBox(children=(FloatProgress(value=0.0, description='SVC', max=1.0, style=ProgressStyle(description_width='ini…"
      ]
     },
     "metadata": {},
     "output_type": "display_data"
    },
    {
     "name": "stdout",
     "output_type": "stream",
     "text": [
      "\n"
     ]
    },
    {
     "data": {
      "application/vnd.jupyter.widget-view+json": {
       "model_id": "21ef94c7185a4d3a93730faf334e8b67",
       "version_major": 2,
       "version_minor": 0
      },
      "text/plain": [
       "HBox(children=(FloatProgress(value=0.0, description='DecisionTreeClassifier', max=1.0, style=ProgressStyle(des…"
      ]
     },
     "metadata": {},
     "output_type": "display_data"
    },
    {
     "name": "stdout",
     "output_type": "stream",
     "text": [
      "\n"
     ]
    },
    {
     "data": {
      "application/vnd.jupyter.widget-view+json": {
       "model_id": "785bd9f6e891406998702b035c45cb14",
       "version_major": 2,
       "version_minor": 0
      },
      "text/plain": [
       "HBox(children=(FloatProgress(value=0.0, description='RandomForestClassifier', max=1.0, style=ProgressStyle(des…"
      ]
     },
     "metadata": {},
     "output_type": "display_data"
    },
    {
     "name": "stdout",
     "output_type": "stream",
     "text": [
      "\n"
     ]
    },
    {
     "data": {
      "application/vnd.jupyter.widget-view+json": {
       "model_id": "8e910ecef5ab49b2924be534bf41250a",
       "version_major": 2,
       "version_minor": 0
      },
      "text/plain": [
       "HBox(children=(FloatProgress(value=0.0, description='GaussianNB', max=1.0, style=ProgressStyle(description_wid…"
      ]
     },
     "metadata": {},
     "output_type": "display_data"
    },
    {
     "name": "stdout",
     "output_type": "stream",
     "text": [
      "\n"
     ]
    },
    {
     "data": {
      "application/vnd.jupyter.widget-view+json": {
       "model_id": "85802b4b8f064e1e8cc2afbffea07631",
       "version_major": 2,
       "version_minor": 0
      },
      "text/plain": [
       "HBox(children=(FloatProgress(value=0.0, description='LinearDiscriminantAnalysis', max=1.0, style=ProgressStyle…"
      ]
     },
     "metadata": {},
     "output_type": "display_data"
    },
    {
     "name": "stdout",
     "output_type": "stream",
     "text": [
      "\n"
     ]
    },
    {
     "data": {
      "application/vnd.jupyter.widget-view+json": {
       "model_id": "cf264abb109c42c897e6fb146ecdd260",
       "version_major": 2,
       "version_minor": 0
      },
      "text/plain": [
       "HBox(children=(FloatProgress(value=0.0, description='MLPClassifier', max=1.0, style=ProgressStyle(description_…"
      ]
     },
     "metadata": {},
     "output_type": "display_data"
    },
    {
     "name": "stdout",
     "output_type": "stream",
     "text": [
      "\n"
     ]
    }
   ],
   "source": [
    "add_column_to_results(risultatiStandardScaler, 'Totali_with_BMI', 'RisultatiStandardScaler.json', X_total_with_BMI, y_total_with_BMI, models, grids, logger_name=logger)"
   ]
  },
  {
   "cell_type": "markdown",
   "metadata": {},
   "source": [
    "# Usiamo la DATA senza BMI"
   ]
  },
  {
   "cell_type": "code",
   "execution_count": 14,
   "metadata": {},
   "outputs": [
    {
     "name": "stdout",
     "output_type": "stream",
     "text": [
      "La prima data del dataset è:  1999-10-29T00:00:00.000000000\n"
     ]
    }
   ],
   "source": [
    "date_ordinate = dataset['DATA'].sort_values()\n",
    "prima_data = date_ordinate.values[0]\n",
    "print(\"La prima data del dataset è: \", prima_data)"
   ]
  },
  {
   "cell_type": "code",
   "execution_count": 15,
   "metadata": {},
   "outputs": [],
   "source": [
    "import datetime as dt\n",
    "\n",
    "dataset.DATA = dataset.DATA.apply(lambda d: (d - dt.datetime(1970,1,1)).days)"
   ]
  },
  {
   "cell_type": "code",
   "execution_count": 16,
   "metadata": {},
   "outputs": [
    {
     "data": {
      "text/html": [
       "<div>\n",
       "<style scoped>\n",
       "    .dataframe tbody tr th:only-of-type {\n",
       "        vertical-align: middle;\n",
       "    }\n",
       "\n",
       "    .dataframe tbody tr th {\n",
       "        vertical-align: top;\n",
       "    }\n",
       "\n",
       "    .dataframe thead th {\n",
       "        text-align: right;\n",
       "    }\n",
       "</style>\n",
       "<table border=\"1\" class=\"dataframe\">\n",
       "  <thead>\n",
       "    <tr style=\"text-align: right;\">\n",
       "      <th></th>\n",
       "      <th>DATA</th>\n",
       "      <th>SESSO</th>\n",
       "      <th>ANNI</th>\n",
       "      <th>PESO</th>\n",
       "      <th>ALTEZZA</th>\n",
       "      <th>BMI</th>\n",
       "      <th>Mezzo</th>\n",
       "      <th>Testa:Neurocranio</th>\n",
       "      <th>Testa:Splancnocranio</th>\n",
       "      <th>Testa:Telencefalo</th>\n",
       "      <th>...</th>\n",
       "      <th>Scheletro:Rachide-cervicale</th>\n",
       "      <th>Scheletro:Rachide-toracico</th>\n",
       "      <th>Scheletro:Rachide-lombare</th>\n",
       "      <th>Scheletro:Bacino-e-sacro</th>\n",
       "      <th>Scheletro:Complesso-sterno/claveo/costale</th>\n",
       "      <th>Tot Testa</th>\n",
       "      <th>Tot Torace</th>\n",
       "      <th>Tot Addome</th>\n",
       "      <th>Tot Scheletro</th>\n",
       "      <th>Totale</th>\n",
       "    </tr>\n",
       "    <tr>\n",
       "      <th>VERBALE</th>\n",
       "      <th></th>\n",
       "      <th></th>\n",
       "      <th></th>\n",
       "      <th></th>\n",
       "      <th></th>\n",
       "      <th></th>\n",
       "      <th></th>\n",
       "      <th></th>\n",
       "      <th></th>\n",
       "      <th></th>\n",
       "      <th></th>\n",
       "      <th></th>\n",
       "      <th></th>\n",
       "      <th></th>\n",
       "      <th></th>\n",
       "      <th></th>\n",
       "      <th></th>\n",
       "      <th></th>\n",
       "      <th></th>\n",
       "      <th></th>\n",
       "      <th></th>\n",
       "    </tr>\n",
       "  </thead>\n",
       "  <tbody>\n",
       "    <tr>\n",
       "      <th>85567</th>\n",
       "      <td>10893</td>\n",
       "      <td>0</td>\n",
       "      <td>81</td>\n",
       "      <td>84.0</td>\n",
       "      <td>1.75</td>\n",
       "      <td>27.428571</td>\n",
       "      <td>0</td>\n",
       "      <td>1</td>\n",
       "      <td>0</td>\n",
       "      <td>0</td>\n",
       "      <td>...</td>\n",
       "      <td>0</td>\n",
       "      <td>3</td>\n",
       "      <td>0</td>\n",
       "      <td>3</td>\n",
       "      <td>3</td>\n",
       "      <td>2</td>\n",
       "      <td>0</td>\n",
       "      <td>3</td>\n",
       "      <td>9</td>\n",
       "      <td>14</td>\n",
       "    </tr>\n",
       "    <tr>\n",
       "      <th>85829</th>\n",
       "      <td>10970</td>\n",
       "      <td>1</td>\n",
       "      <td>69</td>\n",
       "      <td>69.0</td>\n",
       "      <td>1.62</td>\n",
       "      <td>26.291724</td>\n",
       "      <td>1</td>\n",
       "      <td>4</td>\n",
       "      <td>4</td>\n",
       "      <td>4</td>\n",
       "      <td>...</td>\n",
       "      <td>0</td>\n",
       "      <td>0</td>\n",
       "      <td>0</td>\n",
       "      <td>0</td>\n",
       "      <td>4</td>\n",
       "      <td>20</td>\n",
       "      <td>7</td>\n",
       "      <td>1</td>\n",
       "      <td>4</td>\n",
       "      <td>32</td>\n",
       "    </tr>\n",
       "    <tr>\n",
       "      <th>85977</th>\n",
       "      <td>11026</td>\n",
       "      <td>1</td>\n",
       "      <td>71</td>\n",
       "      <td>67.0</td>\n",
       "      <td>1.55</td>\n",
       "      <td>27.887617</td>\n",
       "      <td>1</td>\n",
       "      <td>2</td>\n",
       "      <td>0</td>\n",
       "      <td>1</td>\n",
       "      <td>...</td>\n",
       "      <td>0</td>\n",
       "      <td>0</td>\n",
       "      <td>0</td>\n",
       "      <td>0</td>\n",
       "      <td>4</td>\n",
       "      <td>6</td>\n",
       "      <td>0</td>\n",
       "      <td>0</td>\n",
       "      <td>4</td>\n",
       "      <td>10</td>\n",
       "    </tr>\n",
       "    <tr>\n",
       "      <th>86220</th>\n",
       "      <td>11122</td>\n",
       "      <td>1</td>\n",
       "      <td>54</td>\n",
       "      <td>60.0</td>\n",
       "      <td>1.59</td>\n",
       "      <td>23.733238</td>\n",
       "      <td>1</td>\n",
       "      <td>4</td>\n",
       "      <td>0</td>\n",
       "      <td>0</td>\n",
       "      <td>...</td>\n",
       "      <td>0</td>\n",
       "      <td>0</td>\n",
       "      <td>0</td>\n",
       "      <td>0</td>\n",
       "      <td>4</td>\n",
       "      <td>5</td>\n",
       "      <td>3</td>\n",
       "      <td>2</td>\n",
       "      <td>4</td>\n",
       "      <td>14</td>\n",
       "    </tr>\n",
       "    <tr>\n",
       "      <th>86247</th>\n",
       "      <td>11130</td>\n",
       "      <td>1</td>\n",
       "      <td>78</td>\n",
       "      <td>69.0</td>\n",
       "      <td>1.67</td>\n",
       "      <td>24.740937</td>\n",
       "      <td>1</td>\n",
       "      <td>2</td>\n",
       "      <td>0</td>\n",
       "      <td>0</td>\n",
       "      <td>...</td>\n",
       "      <td>0</td>\n",
       "      <td>0</td>\n",
       "      <td>0</td>\n",
       "      <td>0</td>\n",
       "      <td>4</td>\n",
       "      <td>2</td>\n",
       "      <td>0</td>\n",
       "      <td>2</td>\n",
       "      <td>4</td>\n",
       "      <td>8</td>\n",
       "    </tr>\n",
       "  </tbody>\n",
       "</table>\n",
       "<p>5 rows × 32 columns</p>\n",
       "</div>"
      ],
      "text/plain": [
       "          DATA  SESSO  ANNI  PESO  ALTEZZA        BMI  Mezzo  \\\n",
       "VERBALE                                                        \n",
       "85567    10893      0    81  84.0     1.75  27.428571      0   \n",
       "85829    10970      1    69  69.0     1.62  26.291724      1   \n",
       "85977    11026      1    71  67.0     1.55  27.887617      1   \n",
       "86220    11122      1    54  60.0     1.59  23.733238      1   \n",
       "86247    11130      1    78  69.0     1.67  24.740937      1   \n",
       "\n",
       "         Testa:Neurocranio  Testa:Splancnocranio  Testa:Telencefalo  ...  \\\n",
       "VERBALE                                                              ...   \n",
       "85567                    1                     0                  0  ...   \n",
       "85829                    4                     4                  4  ...   \n",
       "85977                    2                     0                  1  ...   \n",
       "86220                    4                     0                  0  ...   \n",
       "86247                    2                     0                  0  ...   \n",
       "\n",
       "         Scheletro:Rachide-cervicale  Scheletro:Rachide-toracico  \\\n",
       "VERBALE                                                            \n",
       "85567                              0                           3   \n",
       "85829                              0                           0   \n",
       "85977                              0                           0   \n",
       "86220                              0                           0   \n",
       "86247                              0                           0   \n",
       "\n",
       "         Scheletro:Rachide-lombare  Scheletro:Bacino-e-sacro  \\\n",
       "VERBALE                                                        \n",
       "85567                            0                         3   \n",
       "85829                            0                         0   \n",
       "85977                            0                         0   \n",
       "86220                            0                         0   \n",
       "86247                            0                         0   \n",
       "\n",
       "         Scheletro:Complesso-sterno/claveo/costale  Tot Testa  Tot Torace  \\\n",
       "VERBALE                                                                     \n",
       "85567                                            3          2           0   \n",
       "85829                                            4         20           7   \n",
       "85977                                            4          6           0   \n",
       "86220                                            4          5           3   \n",
       "86247                                            4          2           0   \n",
       "\n",
       "         Tot Addome  Tot Scheletro  Totale  \n",
       "VERBALE                                     \n",
       "85567             3              9      14  \n",
       "85829             1              4      32  \n",
       "85977             0              4      10  \n",
       "86220             2              4      14  \n",
       "86247             2              4       8  \n",
       "\n",
       "[5 rows x 32 columns]"
      ]
     },
     "execution_count": 16,
     "metadata": {},
     "output_type": "execute_result"
    }
   ],
   "source": [
    "dataset.head()"
   ]
  },
  {
   "cell_type": "code",
   "execution_count": 17,
   "metadata": {},
   "outputs": [
    {
     "data": {
      "application/vnd.jupyter.widget-view+json": {
       "model_id": "db957f0d0d754bbd9ffcc2411006f159",
       "version_major": 2,
       "version_minor": 0
      },
      "text/plain": [
       "HBox(children=(FloatProgress(value=0.0, description='SVC', max=1.0, style=ProgressStyle(description_width='ini…"
      ]
     },
     "metadata": {},
     "output_type": "display_data"
    },
    {
     "name": "stdout",
     "output_type": "stream",
     "text": [
      "\n"
     ]
    },
    {
     "data": {
      "application/vnd.jupyter.widget-view+json": {
       "model_id": "e9bf7a3ac8104cb2bfd19bbe0b7c73cc",
       "version_major": 2,
       "version_minor": 0
      },
      "text/plain": [
       "HBox(children=(FloatProgress(value=0.0, description='DecisionTreeClassifier', max=1.0, style=ProgressStyle(des…"
      ]
     },
     "metadata": {},
     "output_type": "display_data"
    },
    {
     "name": "stdout",
     "output_type": "stream",
     "text": [
      "\n"
     ]
    },
    {
     "data": {
      "application/vnd.jupyter.widget-view+json": {
       "model_id": "6ef6a26522474c5198551a3de37e9e1d",
       "version_major": 2,
       "version_minor": 0
      },
      "text/plain": [
       "HBox(children=(FloatProgress(value=0.0, description='RandomForestClassifier', max=1.0, style=ProgressStyle(des…"
      ]
     },
     "metadata": {},
     "output_type": "display_data"
    },
    {
     "name": "stdout",
     "output_type": "stream",
     "text": [
      "\n"
     ]
    },
    {
     "data": {
      "application/vnd.jupyter.widget-view+json": {
       "model_id": "9a5b1b4ace2c4dbb980d520bd042ae3b",
       "version_major": 2,
       "version_minor": 0
      },
      "text/plain": [
       "HBox(children=(FloatProgress(value=0.0, description='GaussianNB', max=1.0, style=ProgressStyle(description_wid…"
      ]
     },
     "metadata": {},
     "output_type": "display_data"
    },
    {
     "name": "stdout",
     "output_type": "stream",
     "text": [
      "\n"
     ]
    },
    {
     "data": {
      "application/vnd.jupyter.widget-view+json": {
       "model_id": "903960e68bba49c894a1d2c7566a6ea4",
       "version_major": 2,
       "version_minor": 0
      },
      "text/plain": [
       "HBox(children=(FloatProgress(value=0.0, description='LinearDiscriminantAnalysis', max=1.0, style=ProgressStyle…"
      ]
     },
     "metadata": {},
     "output_type": "display_data"
    },
    {
     "name": "stdout",
     "output_type": "stream",
     "text": [
      "\n"
     ]
    },
    {
     "data": {
      "application/vnd.jupyter.widget-view+json": {
       "model_id": "fdb4827bebda4945b2aa65bf9bcdfe2f",
       "version_major": 2,
       "version_minor": 0
      },
      "text/plain": [
       "HBox(children=(FloatProgress(value=0.0, description='MLPClassifier', max=1.0, style=ProgressStyle(description_…"
      ]
     },
     "metadata": {},
     "output_type": "display_data"
    },
    {
     "name": "stdout",
     "output_type": "stream",
     "text": [
      "\n"
     ]
    }
   ],
   "source": [
    "X_total_with_data = dataset[['DATA', 'SESSO', 'ANNI', 'PESO', 'ALTEZZA', 'Tot Testa', 'Tot Torace', 'Tot Addome', 'Tot Scheletro']]\n",
    "y_total_with_data = dataset['Mezzo']\n",
    "\n",
    "add_column_to_results(risultatiStandardScaler, 'Totali_with_DATA', 'RisultatiStandardScaler.json', X_total_with_data, y_total_with_data, models, grids, logger_name=logger)"
   ]
  },
  {
   "cell_type": "markdown",
   "metadata": {},
   "source": [
    "# Usiamo ora sia il bmi che la data"
   ]
  },
  {
   "cell_type": "code",
   "execution_count": 18,
   "metadata": {},
   "outputs": [
    {
     "data": {
      "application/vnd.jupyter.widget-view+json": {
       "model_id": "f4cca90145ec45a9972a7c4ac848dcef",
       "version_major": 2,
       "version_minor": 0
      },
      "text/plain": [
       "HBox(children=(FloatProgress(value=0.0, description='SVC', max=1.0, style=ProgressStyle(description_width='ini…"
      ]
     },
     "metadata": {},
     "output_type": "display_data"
    },
    {
     "name": "stdout",
     "output_type": "stream",
     "text": [
      "\n"
     ]
    },
    {
     "data": {
      "application/vnd.jupyter.widget-view+json": {
       "model_id": "8b3908f416b24575a03f9bfd38dba5c0",
       "version_major": 2,
       "version_minor": 0
      },
      "text/plain": [
       "HBox(children=(FloatProgress(value=0.0, description='DecisionTreeClassifier', max=1.0, style=ProgressStyle(des…"
      ]
     },
     "metadata": {},
     "output_type": "display_data"
    },
    {
     "name": "stdout",
     "output_type": "stream",
     "text": [
      "\n"
     ]
    },
    {
     "data": {
      "application/vnd.jupyter.widget-view+json": {
       "model_id": "e36bbdab78864e98bb377fa6878f0122",
       "version_major": 2,
       "version_minor": 0
      },
      "text/plain": [
       "HBox(children=(FloatProgress(value=0.0, description='RandomForestClassifier', max=1.0, style=ProgressStyle(des…"
      ]
     },
     "metadata": {},
     "output_type": "display_data"
    },
    {
     "name": "stdout",
     "output_type": "stream",
     "text": [
      "\n"
     ]
    },
    {
     "data": {
      "application/vnd.jupyter.widget-view+json": {
       "model_id": "284b5aa8dfdb423683d092d85b870a91",
       "version_major": 2,
       "version_minor": 0
      },
      "text/plain": [
       "HBox(children=(FloatProgress(value=0.0, description='GaussianNB', max=1.0, style=ProgressStyle(description_wid…"
      ]
     },
     "metadata": {},
     "output_type": "display_data"
    },
    {
     "name": "stdout",
     "output_type": "stream",
     "text": [
      "\n"
     ]
    },
    {
     "data": {
      "application/vnd.jupyter.widget-view+json": {
       "model_id": "141524cc827144bfbbe2c85ffd34f674",
       "version_major": 2,
       "version_minor": 0
      },
      "text/plain": [
       "HBox(children=(FloatProgress(value=0.0, description='LinearDiscriminantAnalysis', max=1.0, style=ProgressStyle…"
      ]
     },
     "metadata": {},
     "output_type": "display_data"
    },
    {
     "name": "stdout",
     "output_type": "stream",
     "text": [
      "\n"
     ]
    },
    {
     "data": {
      "application/vnd.jupyter.widget-view+json": {
       "model_id": "f58fc7035a5a4ee5bed8d4cda4f94447",
       "version_major": 2,
       "version_minor": 0
      },
      "text/plain": [
       "HBox(children=(FloatProgress(value=0.0, description='MLPClassifier', max=1.0, style=ProgressStyle(description_…"
      ]
     },
     "metadata": {},
     "output_type": "display_data"
    },
    {
     "name": "stdout",
     "output_type": "stream",
     "text": [
      "\n"
     ]
    }
   ],
   "source": [
    "X_total_with_data_and_BMI = dataset[['DATA', 'SESSO', 'ANNI', 'PESO', 'ALTEZZA', 'BMI', 'Tot Testa', 'Tot Torace', 'Tot Addome', 'Tot Scheletro']]\n",
    "y_total_with_data_and_BMI = dataset['Mezzo']\n",
    "\n",
    "add_column_to_results(risultatiStandardScaler, 'Totali_with_DATA_and_BMI', 'RisultatiStandardScaler.json', X_total_with_data_and_BMI, y_total_with_data_and_BMI, models, grids, logger_name=logger)"
   ]
  },
  {
   "cell_type": "markdown",
   "metadata": {},
   "source": [
    "## Aumentiamo la precisione, scendendo nei cinque livelli di ogni distretto"
   ]
  },
  {
   "cell_type": "code",
   "execution_count": 19,
   "metadata": {},
   "outputs": [],
   "source": [
    "selected_cols = ['Testa:Neurocranio',\n",
    "                 'Testa:Splancnocranio',\n",
    "                 'Testa:Telencefalo',\n",
    "                 'Testa:Cervelletto',\n",
    "                 'Testa:Tronco-encefalico',\n",
    "                 'Torace:Polmoni',\n",
    "                 'Torace:Trachea/bronchi',\n",
    "                 'Torace:Cuore',\n",
    "                 'Torace:Aorta-toracica',\n",
    "                 'Torace:Diaframma',\n",
    "                 'Addome:Fegato',\n",
    "                 'Addome:Milza',\n",
    "                 'Addome:Aorta-addominale',\n",
    "                 'Addome:Reni',\n",
    "                 'Addome:Mesentere',\n",
    "                 'Scheletro:Rachide-cervicale',\n",
    "                 'Scheletro:Rachide-toracico',\n",
    "                 'Scheletro:Rachide-lombare',\n",
    "                 'Scheletro:Bacino-e-sacro',\n",
    "                 'Scheletro:Complesso-sterno/claveo/costale']\n",
    "\n",
    "X_details = dataset[selected_cols]\n",
    "y_details = dataset['Mezzo']"
   ]
  },
  {
   "cell_type": "markdown",
   "metadata": {},
   "source": [
    "Iniziamo facendo un controllo su quanto sia possibile ridurre la dimensione dei dati"
   ]
  },
  {
   "cell_type": "code",
   "execution_count": 20,
   "metadata": {},
   "outputs": [
    {
     "data": {
      "text/plain": [
       "PCA(copy=True, iterated_power='auto', n_components=20, random_state=None,\n",
       "    svd_solver='auto', tol=0.0, whiten=False)"
      ]
     },
     "execution_count": 20,
     "metadata": {},
     "output_type": "execute_result"
    }
   ],
   "source": [
    "pca = PCA(n_components = 20)\n",
    "pca.fit(X_details)"
   ]
  },
  {
   "cell_type": "code",
   "execution_count": 21,
   "metadata": {},
   "outputs": [
    {
     "data": {
      "image/png": "[encoded data removed]",
      "text/plain": [
       "<Figure size 432x288 with 1 Axes>"
      ]
     },
     "metadata": {
      "needs_background": "light"
     },
     "output_type": "display_data"
    }
   ],
   "source": [
    "%matplotlib inline\n",
    "\n",
    "from matplotlib import pyplot as plt\n",
    "\n",
    "plt.plot(range(20), pca.explained_variance_ratio_.cumsum())\n",
    "plt.show()"
   ]
  },
  {
   "cell_type": "code",
   "execution_count": 22,
   "metadata": {},
   "outputs": [
    {
     "data": {
      "text/plain": [
       "array([0.2590028 , 0.4424267 , 0.51161017, 0.57652743, 0.63390248,\n",
       "       0.68359398, 0.72846105, 0.7680911 , 0.80302776, 0.83411104,\n",
       "       0.8604245 , 0.88623497, 0.91098428, 0.9328969 , 0.94926481,\n",
       "       0.96485529, 0.97790404, 0.99078593, 0.99608975, 1.        ])"
      ]
     },
     "execution_count": 22,
     "metadata": {},
     "output_type": "execute_result"
    }
   ],
   "source": [
    "pca.explained_variance_ratio_.cumsum()"
   ]
  },
  {
   "cell_type": "code",
   "execution_count": 23,
   "metadata": {},
   "outputs": [
    {
     "data": {
      "text/plain": [
       "0.9109842843806883"
      ]
     },
     "execution_count": 23,
     "metadata": {},
     "output_type": "execute_result"
    }
   ],
   "source": [
    "pca.explained_variance_ratio_.cumsum()[12]"
   ]
  },
  {
   "cell_type": "markdown",
   "metadata": {},
   "source": [
    "Scendendo quindi da 20 a 13 feature si mantiene più del 90% della varianza"
   ]
  },
  {
   "cell_type": "markdown",
   "metadata": {},
   "source": [
    "### Iniziamo comunque con tutte le 20 feature"
   ]
  },
  {
   "cell_type": "code",
   "execution_count": 24,
   "metadata": {},
   "outputs": [
    {
     "data": {
      "application/vnd.jupyter.widget-view+json": {
       "model_id": "ce46cac651e847a9a95bd373b7b5196a",
       "version_major": 2,
       "version_minor": 0
      },
      "text/plain": [
       "HBox(children=(FloatProgress(value=0.0, description='SVC', max=1.0, style=ProgressStyle(description_width='ini…"
      ]
     },
     "metadata": {},
     "output_type": "display_data"
    },
    {
     "name": "stdout",
     "output_type": "stream",
     "text": [
      "\n"
     ]
    },
    {
     "data": {
      "application/vnd.jupyter.widget-view+json": {
       "model_id": "33be2d2179a04973887b224ba090aa2f",
       "version_major": 2,
       "version_minor": 0
      },
      "text/plain": [
       "HBox(children=(FloatProgress(value=0.0, description='DecisionTreeClassifier', max=1.0, style=ProgressStyle(des…"
      ]
     },
     "metadata": {},
     "output_type": "display_data"
    },
    {
     "name": "stdout",
     "output_type": "stream",
     "text": [
      "\n"
     ]
    },
    {
     "data": {
      "application/vnd.jupyter.widget-view+json": {
       "model_id": "76c6d6e7c94f4ddf848894a0eccaeba6",
       "version_major": 2,
       "version_minor": 0
      },
      "text/plain": [
       "HBox(children=(FloatProgress(value=0.0, description='RandomForestClassifier', max=1.0, style=ProgressStyle(des…"
      ]
     },
     "metadata": {},
     "output_type": "display_data"
    },
    {
     "name": "stdout",
     "output_type": "stream",
     "text": [
      "\n"
     ]
    },
    {
     "data": {
      "application/vnd.jupyter.widget-view+json": {
       "model_id": "89c96e43f60a4197a8545202717e91a5",
       "version_major": 2,
       "version_minor": 0
      },
      "text/plain": [
       "HBox(children=(FloatProgress(value=0.0, description='GaussianNB', max=1.0, style=ProgressStyle(description_wid…"
      ]
     },
     "metadata": {},
     "output_type": "display_data"
    },
    {
     "name": "stdout",
     "output_type": "stream",
     "text": [
      "\n"
     ]
    },
    {
     "data": {
      "application/vnd.jupyter.widget-view+json": {
       "model_id": "ae0299f52bf04eeca580ea4d8c8e842a",
       "version_major": 2,
       "version_minor": 0
      },
      "text/plain": [
       "HBox(children=(FloatProgress(value=0.0, description='LinearDiscriminantAnalysis', max=1.0, style=ProgressStyle…"
      ]
     },
     "metadata": {},
     "output_type": "display_data"
    },
    {
     "name": "stdout",
     "output_type": "stream",
     "text": [
      "\n"
     ]
    },
    {
     "data": {
      "application/vnd.jupyter.widget-view+json": {
       "model_id": "7a66ec39122a4b80949820e4379812ad",
       "version_major": 2,
       "version_minor": 0
      },
      "text/plain": [
       "HBox(children=(FloatProgress(value=0.0, description='MLPClassifier', max=1.0, style=ProgressStyle(description_…"
      ]
     },
     "metadata": {},
     "output_type": "display_data"
    },
    {
     "name": "stdout",
     "output_type": "stream",
     "text": [
      "\n"
     ]
    }
   ],
   "source": [
    "add_column_to_results(risultatiStandardScaler, 'Details', 'RisultatiStandardScaler.json', X_details, y_details, models, grids, logger_name=logger)"
   ]
  },
  {
   "cell_type": "markdown",
   "metadata": {},
   "source": [
    "### Usiamo 5, 10, 13 e 15 feature con PCA"
   ]
  },
  {
   "cell_type": "code",
   "execution_count": 25,
   "metadata": {},
   "outputs": [
    {
     "data": {
      "application/vnd.jupyter.widget-view+json": {
       "model_id": "276f008a170b4f6089c400c83cdf9f7b",
       "version_major": 2,
       "version_minor": 0
      },
      "text/plain": [
       "HBox(children=(FloatProgress(value=0.0, description='SVC', max=1.0, style=ProgressStyle(description_width='ini…"
      ]
     },
     "metadata": {},
     "output_type": "display_data"
    },
    {
     "name": "stdout",
     "output_type": "stream",
     "text": [
      "\n"
     ]
    },
    {
     "data": {
      "application/vnd.jupyter.widget-view+json": {
       "model_id": "daba39881668433cb207970331250bd4",
       "version_major": 2,
       "version_minor": 0
      },
      "text/plain": [
       "HBox(children=(FloatProgress(value=0.0, description='DecisionTreeClassifier', max=1.0, style=ProgressStyle(des…"
      ]
     },
     "metadata": {},
     "output_type": "display_data"
    },
    {
     "name": "stdout",
     "output_type": "stream",
     "text": [
      "\n"
     ]
    },
    {
     "data": {
      "application/vnd.jupyter.widget-view+json": {
       "model_id": "ebb1e81e389943d9a436b187ed976aab",
       "version_major": 2,
       "version_minor": 0
      },
      "text/plain": [
       "HBox(children=(FloatProgress(value=0.0, description='RandomForestClassifier', max=1.0, style=ProgressStyle(des…"
      ]
     },
     "metadata": {},
     "output_type": "display_data"
    },
    {
     "name": "stdout",
     "output_type": "stream",
     "text": [
      "\n"
     ]
    },
    {
     "data": {
      "application/vnd.jupyter.widget-view+json": {
       "model_id": "6a83b392fa1f4494a6bd07dc4cfc2efd",
       "version_major": 2,
       "version_minor": 0
      },
      "text/plain": [
       "HBox(children=(FloatProgress(value=0.0, description='GaussianNB', max=1.0, style=ProgressStyle(description_wid…"
      ]
     },
     "metadata": {},
     "output_type": "display_data"
    },
    {
     "name": "stdout",
     "output_type": "stream",
     "text": [
      "\n"
     ]
    },
    {
     "data": {
      "application/vnd.jupyter.widget-view+json": {
       "model_id": "fc0664779d704025a90050816d656f30",
       "version_major": 2,
       "version_minor": 0
      },
      "text/plain": [
       "HBox(children=(FloatProgress(value=0.0, description='LinearDiscriminantAnalysis', max=1.0, style=ProgressStyle…"
      ]
     },
     "metadata": {},
     "output_type": "display_data"
    },
    {
     "name": "stdout",
     "output_type": "stream",
     "text": [
      "\n"
     ]
    },
    {
     "data": {
      "application/vnd.jupyter.widget-view+json": {
       "model_id": "945aa1030fcb4fffb9f01b797014c57d",
       "version_major": 2,
       "version_minor": 0
      },
      "text/plain": [
       "HBox(children=(FloatProgress(value=0.0, description='MLPClassifier', max=1.0, style=ProgressStyle(description_…"
      ]
     },
     "metadata": {},
     "output_type": "display_data"
    },
    {
     "name": "stdout",
     "output_type": "stream",
     "text": [
      "\n"
     ]
    },
    {
     "data": {
      "application/vnd.jupyter.widget-view+json": {
       "model_id": "e40cfcddd0b04aeeb1751719c576e35c",
       "version_major": 2,
       "version_minor": 0
      },
      "text/plain": [
       "HBox(children=(FloatProgress(value=0.0, description='SVC', max=1.0, style=ProgressStyle(description_width='ini…"
      ]
     },
     "metadata": {},
     "output_type": "display_data"
    },
    {
     "name": "stdout",
     "output_type": "stream",
     "text": [
      "\n"
     ]
    },
    {
     "data": {
      "application/vnd.jupyter.widget-view+json": {
       "model_id": "7b06975c91214aa188813f0307f8cc89",
       "version_major": 2,
       "version_minor": 0
      },
      "text/plain": [
       "HBox(children=(FloatProgress(value=0.0, description='DecisionTreeClassifier', max=1.0, style=ProgressStyle(des…"
      ]
     },
     "metadata": {},
     "output_type": "display_data"
    },
    {
     "name": "stdout",
     "output_type": "stream",
     "text": [
      "\n"
     ]
    },
    {
     "data": {
      "application/vnd.jupyter.widget-view+json": {
       "model_id": "a679c48c687444adbb34ff138592cebe",
       "version_major": 2,
       "version_minor": 0
      },
      "text/plain": [
       "HBox(children=(FloatProgress(value=0.0, description='RandomForestClassifier', max=1.0, style=ProgressStyle(des…"
      ]
     },
     "metadata": {},
     "output_type": "display_data"
    },
    {
     "name": "stdout",
     "output_type": "stream",
     "text": [
      "\n"
     ]
    },
    {
     "data": {
      "application/vnd.jupyter.widget-view+json": {
       "model_id": "2e3662a885fa45c28a8b8acb97d56f67",
       "version_major": 2,
       "version_minor": 0
      },
      "text/plain": [
       "HBox(children=(FloatProgress(value=0.0, description='GaussianNB', max=1.0, style=ProgressStyle(description_wid…"
      ]
     },
     "metadata": {},
     "output_type": "display_data"
    },
    {
     "name": "stdout",
     "output_type": "stream",
     "text": [
      "\n"
     ]
    },
    {
     "data": {
      "application/vnd.jupyter.widget-view+json": {
       "model_id": "5d54786f5f1847038465d6a285f1656b",
       "version_major": 2,
       "version_minor": 0
      },
      "text/plain": [
       "HBox(children=(FloatProgress(value=0.0, description='LinearDiscriminantAnalysis', max=1.0, style=ProgressStyle…"
      ]
     },
     "metadata": {},
     "output_type": "display_data"
    },
    {
     "name": "stdout",
     "output_type": "stream",
     "text": [
      "\n"
     ]
    },
    {
     "data": {
      "application/vnd.jupyter.widget-view+json": {
       "model_id": "bf8d1adc32df4eb7bc62f1a13114a00a",
       "version_major": 2,
       "version_minor": 0
      },
      "text/plain": [
       "HBox(children=(FloatProgress(value=0.0, description='MLPClassifier', max=1.0, style=ProgressStyle(description_…"
      ]
     },
     "metadata": {},
     "output_type": "display_data"
    },
    {
     "name": "stdout",
     "output_type": "stream",
     "text": [
      "\n"
     ]
    },
    {
     "data": {
      "application/vnd.jupyter.widget-view+json": {
       "model_id": "d836107f8e584d00b4f09c664c2af473",
       "version_major": 2,
       "version_minor": 0
      },
      "text/plain": [
       "HBox(children=(FloatProgress(value=0.0, description='SVC', max=1.0, style=ProgressStyle(description_width='ini…"
      ]
     },
     "metadata": {},
     "output_type": "display_data"
    },
    {
     "name": "stdout",
     "output_type": "stream",
     "text": [
      "\n"
     ]
    },
    {
     "data": {
      "application/vnd.jupyter.widget-view+json": {
       "model_id": "1dfc0c95f2ef4035878e7b829f785106",
       "version_major": 2,
       "version_minor": 0
      },
      "text/plain": [
       "HBox(children=(FloatProgress(value=0.0, description='DecisionTreeClassifier', max=1.0, style=ProgressStyle(des…"
      ]
     },
     "metadata": {},
     "output_type": "display_data"
    },
    {
     "name": "stdout",
     "output_type": "stream",
     "text": [
      "\n"
     ]
    },
    {
     "data": {
      "application/vnd.jupyter.widget-view+json": {
       "model_id": "f542a1249b5d45948eedbf880fdf8d04",
       "version_major": 2,
       "version_minor": 0
      },
      "text/plain": [
       "HBox(children=(FloatProgress(value=0.0, description='RandomForestClassifier', max=1.0, style=ProgressStyle(des…"
      ]
     },
     "metadata": {},
     "output_type": "display_data"
    },
    {
     "name": "stdout",
     "output_type": "stream",
     "text": [
      "\n"
     ]
    },
    {
     "data": {
      "application/vnd.jupyter.widget-view+json": {
       "model_id": "a864e94f207642b5b9ffffe032c92dcb",
       "version_major": 2,
       "version_minor": 0
      },
      "text/plain": [
       "HBox(children=(FloatProgress(value=0.0, description='GaussianNB', max=1.0, style=ProgressStyle(description_wid…"
      ]
     },
     "metadata": {},
     "output_type": "display_data"
    },
    {
     "name": "stdout",
     "output_type": "stream",
     "text": [
      "\n"
     ]
    },
    {
     "data": {
      "application/vnd.jupyter.widget-view+json": {
       "model_id": "237753dbd31949268981bf4b32f1b3b2",
       "version_major": 2,
       "version_minor": 0
      },
      "text/plain": [
       "HBox(children=(FloatProgress(value=0.0, description='LinearDiscriminantAnalysis', max=1.0, style=ProgressStyle…"
      ]
     },
     "metadata": {},
     "output_type": "display_data"
    },
    {
     "name": "stdout",
     "output_type": "stream",
     "text": [
      "\n"
     ]
    },
    {
     "data": {
      "application/vnd.jupyter.widget-view+json": {
       "model_id": "6a6d2015200549269c5279b3b89c3bb0",
       "version_major": 2,
       "version_minor": 0
      },
      "text/plain": [
       "HBox(children=(FloatProgress(value=0.0, description='MLPClassifier', max=1.0, style=ProgressStyle(description_…"
      ]
     },
     "metadata": {},
     "output_type": "display_data"
    },
    {
     "name": "stdout",
     "output_type": "stream",
     "text": [
      "\n"
     ]
    },
    {
     "data": {
      "application/vnd.jupyter.widget-view+json": {
       "model_id": "0ecc7f092ab94f6fa22e295fdf5a8cca",
       "version_major": 2,
       "version_minor": 0
      },
      "text/plain": [
       "HBox(children=(FloatProgress(value=0.0, description='SVC', max=1.0, style=ProgressStyle(description_width='ini…"
      ]
     },
     "metadata": {},
     "output_type": "display_data"
    },
    {
     "name": "stdout",
     "output_type": "stream",
     "text": [
      "\n"
     ]
    },
    {
     "data": {
      "application/vnd.jupyter.widget-view+json": {
       "model_id": "cfa47ff618bc42838e859f470d5aaaad",
       "version_major": 2,
       "version_minor": 0
      },
      "text/plain": [
       "HBox(children=(FloatProgress(value=0.0, description='DecisionTreeClassifier', max=1.0, style=ProgressStyle(des…"
      ]
     },
     "metadata": {},
     "output_type": "display_data"
    },
    {
     "name": "stdout",
     "output_type": "stream",
     "text": [
      "\n"
     ]
    },
    {
     "data": {
      "application/vnd.jupyter.widget-view+json": {
       "model_id": "3c182954b0b14a08a31dbe78d5bc7ee6",
       "version_major": 2,
       "version_minor": 0
      },
      "text/plain": [
       "HBox(children=(FloatProgress(value=0.0, description='RandomForestClassifier', max=1.0, style=ProgressStyle(des…"
      ]
     },
     "metadata": {},
     "output_type": "display_data"
    },
    {
     "name": "stdout",
     "output_type": "stream",
     "text": [
      "\n"
     ]
    },
    {
     "data": {
      "application/vnd.jupyter.widget-view+json": {
       "model_id": "39834cd749ab4043bc5144bb0923daf0",
       "version_major": 2,
       "version_minor": 0
      },
      "text/plain": [
       "HBox(children=(FloatProgress(value=0.0, description='GaussianNB', max=1.0, style=ProgressStyle(description_wid…"
      ]
     },
     "metadata": {},
     "output_type": "display_data"
    },
    {
     "name": "stdout",
     "output_type": "stream",
     "text": [
      "\n"
     ]
    },
    {
     "data": {
      "application/vnd.jupyter.widget-view+json": {
       "model_id": "903a0fe39c0f42baa6d270a7ca0b13c7",
       "version_major": 2,
       "version_minor": 0
      },
      "text/plain": [
       "HBox(children=(FloatProgress(value=0.0, description='LinearDiscriminantAnalysis', max=1.0, style=ProgressStyle…"
      ]
     },
     "metadata": {},
     "output_type": "display_data"
    },
    {
     "name": "stdout",
     "output_type": "stream",
     "text": [
      "\n"
     ]
    },
    {
     "data": {
      "application/vnd.jupyter.widget-view+json": {
       "model_id": "2b82b1f579a94a2eaf005f07720c0f10",
       "version_major": 2,
       "version_minor": 0
      },
      "text/plain": [
       "HBox(children=(FloatProgress(value=0.0, description='MLPClassifier', max=1.0, style=ProgressStyle(description_…"
      ]
     },
     "metadata": {},
     "output_type": "display_data"
    },
    {
     "name": "stdout",
     "output_type": "stream",
     "text": [
      "\n"
     ]
    }
   ],
   "source": [
    "for d in [5, 10, 13, 15]:\n",
    "    add_column_to_results(risultatiStandardScaler,\n",
    "                          'Details_reduce_PCA_{}_dim'.format(d),\n",
    "                          'RisultatiStandardScaler.json',\n",
    "                          X_details, y_details,\n",
    "                          models, grids,\n",
    "                          logger_name=logger,\n",
    "                          dim_reduction=PCA(n_components=d))"
   ]
  },
  {
   "cell_type": "markdown",
   "metadata": {},
   "source": [
    "### Proviamo a ridurre le componenti a 5 con t-SNE"
   ]
  },
  {
   "cell_type": "code",
   "execution_count": 26,
   "metadata": {},
   "outputs": [],
   "source": [
    "from sklearn.manifold import TSNE"
   ]
  },
  {
   "cell_type": "code",
   "execution_count": 27,
   "metadata": {
    "scrolled": true
   },
   "outputs": [],
   "source": [
    "#Dopo 13 ore non ha ancora finito\n",
    "\n",
    "#if addNew('Details_reduce_TSNE_5_dim', risultatiStandardScaler):\n",
    "    #logger.info('DATASET IN USO: Details_reduce_TSNE_5_dim')\n",
    "    #risultatiStandardScaler['Details_reduce_TSNE_5_dim'] = {model_to_string[m]: np.mean(addestra(m, X_details, y_details, g, 9, 9, logger_name=logger, dim_reduction=TSNE(n_components=5, method='exact'))) for m, g in zip(models, grids)}"
   ]
  },
  {
   "cell_type": "markdown",
   "metadata": {},
   "source": [
    "### Proviamo a ridurre le componenti a 10 con t-SNE"
   ]
  },
  {
   "cell_type": "code",
   "execution_count": 28,
   "metadata": {},
   "outputs": [],
   "source": [
    "#impiega troppo tempo\n",
    "#if addNew('Details_reduce_TSNE_10_dim', risultatiStandardScaler):\n",
    "    #risultatiStandardScaler['Details_reduce_TSNE_10_dim'] = {model_to_string[m]: np.mean(addestra(m, X_details, y_details, g, 9, 9, nome_dataset='Details_reduce_TSNE_10_dim', logger_name=logger, dim_reduction=TSNE(n_components=10, method='exact'))) for m, g in zip(models, grids)}"
   ]
  },
  {
   "cell_type": "markdown",
   "metadata": {},
   "source": [
    "### Proviamo a ridurre le componenti a 13 e 15 con t-SNE"
   ]
  },
  {
   "cell_type": "code",
   "execution_count": 29,
   "metadata": {},
   "outputs": [
    {
     "data": {
      "application/vnd.jupyter.widget-view+json": {
       "model_id": "7381c451f08d44c7acf049bb1275b5f7",
       "version_major": 2,
       "version_minor": 0
      },
      "text/plain": [
       "HBox(children=(FloatProgress(value=0.0, description='SVC', max=1.0, style=ProgressStyle(description_width='ini…"
      ]
     },
     "metadata": {},
     "output_type": "display_data"
    },
    {
     "name": "stdout",
     "output_type": "stream",
     "text": [
      "\n"
     ]
    },
    {
     "data": {
      "application/vnd.jupyter.widget-view+json": {
       "model_id": "e0f1a62e7f6e42249122f9f211911cb6",
       "version_major": 2,
       "version_minor": 0
      },
      "text/plain": [
       "HBox(children=(FloatProgress(value=0.0, description='DecisionTreeClassifier', max=1.0, style=ProgressStyle(des…"
      ]
     },
     "metadata": {},
     "output_type": "display_data"
    },
    {
     "name": "stdout",
     "output_type": "stream",
     "text": [
      "\n"
     ]
    },
    {
     "data": {
      "application/vnd.jupyter.widget-view+json": {
       "model_id": "92f4a9ed20e4495cb32ac4fda0409e6e",
       "version_major": 2,
       "version_minor": 0
      },
      "text/plain": [
       "HBox(children=(FloatProgress(value=0.0, description='RandomForestClassifier', max=1.0, style=ProgressStyle(des…"
      ]
     },
     "metadata": {},
     "output_type": "display_data"
    },
    {
     "name": "stdout",
     "output_type": "stream",
     "text": [
      "\n"
     ]
    },
    {
     "data": {
      "application/vnd.jupyter.widget-view+json": {
       "model_id": "cd0c00fa28bf45139adac4268c62c831",
       "version_major": 2,
       "version_minor": 0
      },
      "text/plain": [
       "HBox(children=(FloatProgress(value=0.0, description='GaussianNB', max=1.0, style=ProgressStyle(description_wid…"
      ]
     },
     "metadata": {},
     "output_type": "display_data"
    },
    {
     "name": "stdout",
     "output_type": "stream",
     "text": [
      "\n"
     ]
    },
    {
     "data": {
      "application/vnd.jupyter.widget-view+json": {
       "model_id": "8985f91f40424d34bf81e8a8f76e0daa",
       "version_major": 2,
       "version_minor": 0
      },
      "text/plain": [
       "HBox(children=(FloatProgress(value=0.0, description='LinearDiscriminantAnalysis', max=1.0, style=ProgressStyle…"
      ]
     },
     "metadata": {},
     "output_type": "display_data"
    },
    {
     "name": "stdout",
     "output_type": "stream",
     "text": [
      "\n"
     ]
    },
    {
     "data": {
      "application/vnd.jupyter.widget-view+json": {
       "model_id": "684a6c03ea834749b7827c41daa78b6e",
       "version_major": 2,
       "version_minor": 0
      },
      "text/plain": [
       "HBox(children=(FloatProgress(value=0.0, description='MLPClassifier', max=1.0, style=ProgressStyle(description_…"
      ]
     },
     "metadata": {},
     "output_type": "display_data"
    },
    {
     "name": "stdout",
     "output_type": "stream",
     "text": [
      "\n"
     ]
    },
    {
     "data": {
      "application/vnd.jupyter.widget-view+json": {
       "model_id": "06b3e1a7ed96476eabe98fe797432bf2",
       "version_major": 2,
       "version_minor": 0
      },
      "text/plain": [
       "HBox(children=(FloatProgress(value=0.0, description='SVC', max=1.0, style=ProgressStyle(description_width='ini…"
      ]
     },
     "metadata": {},
     "output_type": "display_data"
    },
    {
     "name": "stdout",
     "output_type": "stream",
     "text": [
      "\n"
     ]
    },
    {
     "data": {
      "application/vnd.jupyter.widget-view+json": {
       "model_id": "4a8033c7709f4bd090ada52010391990",
       "version_major": 2,
       "version_minor": 0
      },
      "text/plain": [
       "HBox(children=(FloatProgress(value=0.0, description='DecisionTreeClassifier', max=1.0, style=ProgressStyle(des…"
      ]
     },
     "metadata": {},
     "output_type": "display_data"
    },
    {
     "name": "stdout",
     "output_type": "stream",
     "text": [
      "\n"
     ]
    },
    {
     "data": {
      "application/vnd.jupyter.widget-view+json": {
       "model_id": "531218432cc14441b470c8641959682a",
       "version_major": 2,
       "version_minor": 0
      },
      "text/plain": [
       "HBox(children=(FloatProgress(value=0.0, description='RandomForestClassifier', max=1.0, style=ProgressStyle(des…"
      ]
     },
     "metadata": {},
     "output_type": "display_data"
    },
    {
     "name": "stdout",
     "output_type": "stream",
     "text": [
      "\n"
     ]
    },
    {
     "data": {
      "application/vnd.jupyter.widget-view+json": {
       "model_id": "e63f4e528c9c44ff8d1422494981566d",
       "version_major": 2,
       "version_minor": 0
      },
      "text/plain": [
       "HBox(children=(FloatProgress(value=0.0, description='GaussianNB', max=1.0, style=ProgressStyle(description_wid…"
      ]
     },
     "metadata": {},
     "output_type": "display_data"
    },
    {
     "name": "stdout",
     "output_type": "stream",
     "text": [
      "\n"
     ]
    },
    {
     "data": {
      "application/vnd.jupyter.widget-view+json": {
       "model_id": "9be00eea0606402e9bfc8774b5a2a025",
       "version_major": 2,
       "version_minor": 0
      },
      "text/plain": [
       "HBox(children=(FloatProgress(value=0.0, description='LinearDiscriminantAnalysis', max=1.0, style=ProgressStyle…"
      ]
     },
     "metadata": {},
     "output_type": "display_data"
    },
    {
     "name": "stdout",
     "output_type": "stream",
     "text": [
      "\n"
     ]
    },
    {
     "data": {
      "application/vnd.jupyter.widget-view+json": {
       "model_id": "49d5d2268542476a8d9ab6f5ba7a7631",
       "version_major": 2,
       "version_minor": 0
      },
      "text/plain": [
       "HBox(children=(FloatProgress(value=0.0, description='MLPClassifier', max=1.0, style=ProgressStyle(description_…"
      ]
     },
     "metadata": {},
     "output_type": "display_data"
    },
    {
     "name": "stdout",
     "output_type": "stream",
     "text": [
      "\n"
     ]
    }
   ],
   "source": [
    "for d in [13, 15]:\n",
    "    add_column_to_results(risultatiStandardScaler,\n",
    "                          'Details_reduce_TSNE_{}_dim'.format(d),\n",
    "                          'RisultatiStandardScaler.json',\n",
    "                          X_details, y_details,\n",
    "                          models, grids,\n",
    "                          logger_name=logger,\n",
    "                          dim_reduction=TSNE(n_components=d, method='exact'))"
   ]
  },
  {
   "cell_type": "markdown",
   "metadata": {},
   "source": [
    "### Applichiamo prima PCA e poi t-SNE"
   ]
  },
  {
   "cell_type": "code",
   "execution_count": 30,
   "metadata": {},
   "outputs": [],
   "source": [
    "class PCA_and_tSNE:\n",
    "    \n",
    "    def __init__(self, pca_components, tsne_components):\n",
    "        self.pca_components = pca_components\n",
    "        self.tsne_components = tsne_components\n",
    "        \n",
    "    def fit_transform(self, X):\n",
    "        pca = PCA(n_components=self.pca_components)\n",
    "        X_pca = pca.fit_transform(X)\n",
    "        tsne = TSNE(n_components=self.tsne_components, method='exact')\n",
    "        X_pca_tsne = tsne.fit_transform(X_pca)\n",
    "        return X_pca_tsne"
   ]
  },
  {
   "cell_type": "markdown",
   "metadata": {},
   "source": [
    "### Usiamo riduzione PCA con 15 dimensioni e poi TSNE con 10"
   ]
  },
  {
   "cell_type": "code",
   "execution_count": 31,
   "metadata": {},
   "outputs": [
    {
     "data": {
      "text/plain": [
       "\"add_column_to_results(risultatiStandardScaler,\\n                          'Details_reduce_PCA_15_dim_tSNE_10_dim',\\n                          'RisultatiStandardScaler.json',\\n                          X_details, y_details,\\n                          models, grids,\\n                          logger_name=logger,\\n                          dim_reduction=PCA_and_tSNE(15, 10))\""
      ]
     },
     "execution_count": 31,
     "metadata": {},
     "output_type": "execute_result"
    }
   ],
   "source": [
    "#Dopo 8 ore non ha ancora finito\n",
    "\n",
    "'''add_column_to_results(risultatiStandardScaler,\n",
    "                          'Details_reduce_PCA_15_dim_tSNE_10_dim',\n",
    "                          'RisultatiStandardScaler.json',\n",
    "                          X_details, y_details,\n",
    "                          models, grids,\n",
    "                          logger_name=logger,\n",
    "                          dim_reduction=PCA_and_tSNE(15, 10))'''"
   ]
  },
  {
   "cell_type": "markdown",
   "metadata": {},
   "source": [
    "### Usiamo riduzione PCA con 10 dimensioni e poi TSNE con 5"
   ]
  },
  {
   "cell_type": "code",
   "execution_count": 32,
   "metadata": {},
   "outputs": [
    {
     "data": {
      "text/plain": [
       "\"add_column_to_results(risultatiStandardScaler,\\n                          'Details_reduce_PCA_10_dim_tSNE_5_dim',\\n                          'RisultatiStandardScaler.json',\\n                          X_details, y_details,\\n                          models, grids,\\n                          logger_name=logger,\\n                          dim_reduction=PCA_and_tSNE(10, 5))\""
      ]
     },
     "execution_count": 32,
     "metadata": {},
     "output_type": "execute_result"
    }
   ],
   "source": [
    "#Da provare\n",
    "\n",
    "'''add_column_to_results(risultatiStandardScaler,\n",
    "                          'Details_reduce_PCA_10_dim_tSNE_5_dim',\n",
    "                          'RisultatiStandardScaler.json',\n",
    "                          X_details, y_details,\n",
    "                          models, grids,\n",
    "                          logger_name=logger,\n",
    "                          dim_reduction=PCA_and_tSNE(10, 5))'''"
   ]
  },
  {
   "cell_type": "markdown",
   "metadata": {},
   "source": [
    "# Visualizzo tabella riassuntiva Usando come scaler StandardScaler"
   ]
  },
  {
   "cell_type": "code",
   "execution_count": 33,
   "metadata": {},
   "outputs": [],
   "source": [
    "import json\n",
    "    \n",
    "def float_formatter(x): return '{:.2f}'.format(x)\n",
    "\n",
    "def highlight_maxs(s):\n",
    "#Formatter function highlighting in yellow the maximal value in a DataFrame row\n",
    "    \n",
    "    is_max = s ==s.max()\n",
    "    return ['background-color: yellow' if v else '' for v in is_max]\n",
    "\n",
    "\n",
    "\n",
    "def highlight_max(data, color='darkorange'):\n",
    "#highlight the maximum in a Series or DataFrame\n",
    "\n",
    "    attr = 'background-color: {}'.format(color)\n",
    "    if data.ndim == 1:  # Series from .apply(axis=0) or axis=1\n",
    "        is_max = data == data.max()\n",
    "        return [attr if v else '' for v in is_max]\n",
    "    else:  # from .apply(axis=None)\n",
    "        is_max = data == data.max().max()\n",
    "        return pd.DataFrame(np.where(is_max, attr, ''),\n",
    "                            index=data.index, columns=data.columns)"
   ]
  },
  {
   "cell_type": "code",
   "execution_count": 34,
   "metadata": {},
   "outputs": [
    {
     "data": {
      "text/html": [
       "<style  type=\"text/css\" >\n",
       "    #T_ce4fbc5e_4c8e_11ea_a067_676b705b9987row0_col2 {\n",
       "            background-color:  yellow;\n",
       "        }    #T_ce4fbc5e_4c8e_11ea_a067_676b705b9987row1_col4 {\n",
       "            background-color:  yellow;\n",
       "        }    #T_ce4fbc5e_4c8e_11ea_a067_676b705b9987row2_col7 {\n",
       "            background-color:  yellow;\n",
       "        }    #T_ce4fbc5e_4c8e_11ea_a067_676b705b9987row3_col3 {\n",
       "            background-color:  yellow;\n",
       "        }    #T_ce4fbc5e_4c8e_11ea_a067_676b705b9987row4_col2 {\n",
       "            background-color:  yellow;\n",
       "        }    #T_ce4fbc5e_4c8e_11ea_a067_676b705b9987row5_col2 {\n",
       "            background-color:  yellow;\n",
       "        }</style><table id=\"T_ce4fbc5e_4c8e_11ea_a067_676b705b9987\" ><thead>    <tr>        <th class=\"blank level0\" ></th>        <th class=\"col_heading level0 col0\" >Totali</th>        <th class=\"col_heading level0 col1\" >Totali_with_BMI</th>        <th class=\"col_heading level0 col2\" >Totali_with_DATA</th>        <th class=\"col_heading level0 col3\" >Totali_with_DATA_and_BMI</th>        <th class=\"col_heading level0 col4\" >Details</th>        <th class=\"col_heading level0 col5\" >Details_reduce_PCA_5_dim</th>        <th class=\"col_heading level0 col6\" >Details_reduce_PCA_10_dim</th>        <th class=\"col_heading level0 col7\" >Details_reduce_PCA_13_dim</th>        <th class=\"col_heading level0 col8\" >Details_reduce_PCA_15_dim</th>        <th class=\"col_heading level0 col9\" >Details_reduce_TSNE_13_dim</th>        <th class=\"col_heading level0 col10\" >Details_reduce_TSNE_15_dim</th>    </tr></thead><tbody>\n",
       "                <tr>\n",
       "                        <th id=\"T_ce4fbc5e_4c8e_11ea_a067_676b705b9987level0_row0\" class=\"row_heading level0 row0\" >SVC</th>\n",
       "                        <td id=\"T_ce4fbc5e_4c8e_11ea_a067_676b705b9987row0_col0\" class=\"data row0 col0\" >0.66</td>\n",
       "                        <td id=\"T_ce4fbc5e_4c8e_11ea_a067_676b705b9987row0_col1\" class=\"data row0 col1\" >0.67</td>\n",
       "                        <td id=\"T_ce4fbc5e_4c8e_11ea_a067_676b705b9987row0_col2\" class=\"data row0 col2\" >0.77</td>\n",
       "                        <td id=\"T_ce4fbc5e_4c8e_11ea_a067_676b705b9987row0_col3\" class=\"data row0 col3\" >0.74</td>\n",
       "                        <td id=\"T_ce4fbc5e_4c8e_11ea_a067_676b705b9987row0_col4\" class=\"data row0 col4\" >0.69</td>\n",
       "                        <td id=\"T_ce4fbc5e_4c8e_11ea_a067_676b705b9987row0_col5\" class=\"data row0 col5\" >0.64</td>\n",
       "                        <td id=\"T_ce4fbc5e_4c8e_11ea_a067_676b705b9987row0_col6\" class=\"data row0 col6\" >0.69</td>\n",
       "                        <td id=\"T_ce4fbc5e_4c8e_11ea_a067_676b705b9987row0_col7\" class=\"data row0 col7\" >0.68</td>\n",
       "                        <td id=\"T_ce4fbc5e_4c8e_11ea_a067_676b705b9987row0_col8\" class=\"data row0 col8\" >0.72</td>\n",
       "                        <td id=\"T_ce4fbc5e_4c8e_11ea_a067_676b705b9987row0_col9\" class=\"data row0 col9\" >0.52</td>\n",
       "                        <td id=\"T_ce4fbc5e_4c8e_11ea_a067_676b705b9987row0_col10\" class=\"data row0 col10\" >0.53</td>\n",
       "            </tr>\n",
       "            <tr>\n",
       "                        <th id=\"T_ce4fbc5e_4c8e_11ea_a067_676b705b9987level0_row1\" class=\"row_heading level0 row1\" >DT</th>\n",
       "                        <td id=\"T_ce4fbc5e_4c8e_11ea_a067_676b705b9987row1_col0\" class=\"data row1 col0\" >0.56</td>\n",
       "                        <td id=\"T_ce4fbc5e_4c8e_11ea_a067_676b705b9987row1_col1\" class=\"data row1 col1\" >0.56</td>\n",
       "                        <td id=\"T_ce4fbc5e_4c8e_11ea_a067_676b705b9987row1_col2\" class=\"data row1 col2\" >0.61</td>\n",
       "                        <td id=\"T_ce4fbc5e_4c8e_11ea_a067_676b705b9987row1_col3\" class=\"data row1 col3\" >0.63</td>\n",
       "                        <td id=\"T_ce4fbc5e_4c8e_11ea_a067_676b705b9987row1_col4\" class=\"data row1 col4\" >0.68</td>\n",
       "                        <td id=\"T_ce4fbc5e_4c8e_11ea_a067_676b705b9987row1_col5\" class=\"data row1 col5\" >0.60</td>\n",
       "                        <td id=\"T_ce4fbc5e_4c8e_11ea_a067_676b705b9987row1_col6\" class=\"data row1 col6\" >0.68</td>\n",
       "                        <td id=\"T_ce4fbc5e_4c8e_11ea_a067_676b705b9987row1_col7\" class=\"data row1 col7\" >0.65</td>\n",
       "                        <td id=\"T_ce4fbc5e_4c8e_11ea_a067_676b705b9987row1_col8\" class=\"data row1 col8\" >0.58</td>\n",
       "                        <td id=\"T_ce4fbc5e_4c8e_11ea_a067_676b705b9987row1_col9\" class=\"data row1 col9\" >0.44</td>\n",
       "                        <td id=\"T_ce4fbc5e_4c8e_11ea_a067_676b705b9987row1_col10\" class=\"data row1 col10\" >0.51</td>\n",
       "            </tr>\n",
       "            <tr>\n",
       "                        <th id=\"T_ce4fbc5e_4c8e_11ea_a067_676b705b9987level0_row2\" class=\"row_heading level0 row2\" >RF</th>\n",
       "                        <td id=\"T_ce4fbc5e_4c8e_11ea_a067_676b705b9987row2_col0\" class=\"data row2 col0\" >0.65</td>\n",
       "                        <td id=\"T_ce4fbc5e_4c8e_11ea_a067_676b705b9987row2_col1\" class=\"data row2 col1\" >0.64</td>\n",
       "                        <td id=\"T_ce4fbc5e_4c8e_11ea_a067_676b705b9987row2_col2\" class=\"data row2 col2\" >0.58</td>\n",
       "                        <td id=\"T_ce4fbc5e_4c8e_11ea_a067_676b705b9987row2_col3\" class=\"data row2 col3\" >0.60</td>\n",
       "                        <td id=\"T_ce4fbc5e_4c8e_11ea_a067_676b705b9987row2_col4\" class=\"data row2 col4\" >0.68</td>\n",
       "                        <td id=\"T_ce4fbc5e_4c8e_11ea_a067_676b705b9987row2_col5\" class=\"data row2 col5\" >0.60</td>\n",
       "                        <td id=\"T_ce4fbc5e_4c8e_11ea_a067_676b705b9987row2_col6\" class=\"data row2 col6\" >0.70</td>\n",
       "                        <td id=\"T_ce4fbc5e_4c8e_11ea_a067_676b705b9987row2_col7\" class=\"data row2 col7\" >0.70</td>\n",
       "                        <td id=\"T_ce4fbc5e_4c8e_11ea_a067_676b705b9987row2_col8\" class=\"data row2 col8\" >0.64</td>\n",
       "                        <td id=\"T_ce4fbc5e_4c8e_11ea_a067_676b705b9987row2_col9\" class=\"data row2 col9\" >0.52</td>\n",
       "                        <td id=\"T_ce4fbc5e_4c8e_11ea_a067_676b705b9987row2_col10\" class=\"data row2 col10\" >0.56</td>\n",
       "            </tr>\n",
       "            <tr>\n",
       "                        <th id=\"T_ce4fbc5e_4c8e_11ea_a067_676b705b9987level0_row3\" class=\"row_heading level0 row3\" >NB</th>\n",
       "                        <td id=\"T_ce4fbc5e_4c8e_11ea_a067_676b705b9987row3_col0\" class=\"data row3 col0\" >0.69</td>\n",
       "                        <td id=\"T_ce4fbc5e_4c8e_11ea_a067_676b705b9987row3_col1\" class=\"data row3 col1\" >0.69</td>\n",
       "                        <td id=\"T_ce4fbc5e_4c8e_11ea_a067_676b705b9987row3_col2\" class=\"data row3 col2\" >0.73</td>\n",
       "                        <td id=\"T_ce4fbc5e_4c8e_11ea_a067_676b705b9987row3_col3\" class=\"data row3 col3\" >0.75</td>\n",
       "                        <td id=\"T_ce4fbc5e_4c8e_11ea_a067_676b705b9987row3_col4\" class=\"data row3 col4\" >0.63</td>\n",
       "                        <td id=\"T_ce4fbc5e_4c8e_11ea_a067_676b705b9987row3_col5\" class=\"data row3 col5\" >0.62</td>\n",
       "                        <td id=\"T_ce4fbc5e_4c8e_11ea_a067_676b705b9987row3_col6\" class=\"data row3 col6\" >0.66</td>\n",
       "                        <td id=\"T_ce4fbc5e_4c8e_11ea_a067_676b705b9987row3_col7\" class=\"data row3 col7\" >0.68</td>\n",
       "                        <td id=\"T_ce4fbc5e_4c8e_11ea_a067_676b705b9987row3_col8\" class=\"data row3 col8\" >0.65</td>\n",
       "                        <td id=\"T_ce4fbc5e_4c8e_11ea_a067_676b705b9987row3_col9\" class=\"data row3 col9\" >0.56</td>\n",
       "                        <td id=\"T_ce4fbc5e_4c8e_11ea_a067_676b705b9987row3_col10\" class=\"data row3 col10\" >0.58</td>\n",
       "            </tr>\n",
       "            <tr>\n",
       "                        <th id=\"T_ce4fbc5e_4c8e_11ea_a067_676b705b9987level0_row4\" class=\"row_heading level0 row4\" >LD</th>\n",
       "                        <td id=\"T_ce4fbc5e_4c8e_11ea_a067_676b705b9987row4_col0\" class=\"data row4 col0\" >0.71</td>\n",
       "                        <td id=\"T_ce4fbc5e_4c8e_11ea_a067_676b705b9987row4_col1\" class=\"data row4 col1\" >0.69</td>\n",
       "                        <td id=\"T_ce4fbc5e_4c8e_11ea_a067_676b705b9987row4_col2\" class=\"data row4 col2\" >0.73</td>\n",
       "                        <td id=\"T_ce4fbc5e_4c8e_11ea_a067_676b705b9987row4_col3\" class=\"data row4 col3\" >0.72</td>\n",
       "                        <td id=\"T_ce4fbc5e_4c8e_11ea_a067_676b705b9987row4_col4\" class=\"data row4 col4\" >0.64</td>\n",
       "                        <td id=\"T_ce4fbc5e_4c8e_11ea_a067_676b705b9987row4_col5\" class=\"data row4 col5\" >0.65</td>\n",
       "                        <td id=\"T_ce4fbc5e_4c8e_11ea_a067_676b705b9987row4_col6\" class=\"data row4 col6\" >0.61</td>\n",
       "                        <td id=\"T_ce4fbc5e_4c8e_11ea_a067_676b705b9987row4_col7\" class=\"data row4 col7\" >0.59</td>\n",
       "                        <td id=\"T_ce4fbc5e_4c8e_11ea_a067_676b705b9987row4_col8\" class=\"data row4 col8\" >0.59</td>\n",
       "                        <td id=\"T_ce4fbc5e_4c8e_11ea_a067_676b705b9987row4_col9\" class=\"data row4 col9\" >0.48</td>\n",
       "                        <td id=\"T_ce4fbc5e_4c8e_11ea_a067_676b705b9987row4_col10\" class=\"data row4 col10\" >0.49</td>\n",
       "            </tr>\n",
       "            <tr>\n",
       "                        <th id=\"T_ce4fbc5e_4c8e_11ea_a067_676b705b9987level0_row5\" class=\"row_heading level0 row5\" >MLP</th>\n",
       "                        <td id=\"T_ce4fbc5e_4c8e_11ea_a067_676b705b9987row5_col0\" class=\"data row5 col0\" >0.70</td>\n",
       "                        <td id=\"T_ce4fbc5e_4c8e_11ea_a067_676b705b9987row5_col1\" class=\"data row5 col1\" >0.69</td>\n",
       "                        <td id=\"T_ce4fbc5e_4c8e_11ea_a067_676b705b9987row5_col2\" class=\"data row5 col2\" >0.74</td>\n",
       "                        <td id=\"T_ce4fbc5e_4c8e_11ea_a067_676b705b9987row5_col3\" class=\"data row5 col3\" >0.72</td>\n",
       "                        <td id=\"T_ce4fbc5e_4c8e_11ea_a067_676b705b9987row5_col4\" class=\"data row5 col4\" >0.63</td>\n",
       "                        <td id=\"T_ce4fbc5e_4c8e_11ea_a067_676b705b9987row5_col5\" class=\"data row5 col5\" >0.63</td>\n",
       "                        <td id=\"T_ce4fbc5e_4c8e_11ea_a067_676b705b9987row5_col6\" class=\"data row5 col6\" >0.62</td>\n",
       "                        <td id=\"T_ce4fbc5e_4c8e_11ea_a067_676b705b9987row5_col7\" class=\"data row5 col7\" >0.62</td>\n",
       "                        <td id=\"T_ce4fbc5e_4c8e_11ea_a067_676b705b9987row5_col8\" class=\"data row5 col8\" >0.65</td>\n",
       "                        <td id=\"T_ce4fbc5e_4c8e_11ea_a067_676b705b9987row5_col9\" class=\"data row5 col9\" >0.39</td>\n",
       "                        <td id=\"T_ce4fbc5e_4c8e_11ea_a067_676b705b9987row5_col10\" class=\"data row5 col10\" >0.48</td>\n",
       "            </tr>\n",
       "    </tbody></table>"
      ],
      "text/plain": [
       "<pandas.io.formats.style.Styler at 0x7fa17446e410>"
      ]
     },
     "execution_count": 34,
     "metadata": {},
     "output_type": "execute_result"
    }
   ],
   "source": [
    "tableStandardScaler = pd.DataFrame(risultatiStandardScaler)\n",
    "tableStandardScaler.style.apply(highlight_maxs, axis=1).format(float_formatter)"
   ]
  },
  {
   "cell_type": "code",
   "execution_count": 35,
   "metadata": {},
   "outputs": [
    {
     "data": {
      "text/html": [
       "<style  type=\"text/css\" >\n",
       "    #T_ce5557cc_4c8e_11ea_a067_676b705b9987row0_col2 {\n",
       "            background-color:  darkorange;\n",
       "        }</style><table id=\"T_ce5557cc_4c8e_11ea_a067_676b705b9987\" ><thead>    <tr>        <th class=\"blank level0\" ></th>        <th class=\"col_heading level0 col0\" >Totali</th>        <th class=\"col_heading level0 col1\" >Totali_with_BMI</th>        <th class=\"col_heading level0 col2\" >Totali_with_DATA</th>        <th class=\"col_heading level0 col3\" >Totali_with_DATA_and_BMI</th>        <th class=\"col_heading level0 col4\" >Details</th>        <th class=\"col_heading level0 col5\" >Details_reduce_PCA_5_dim</th>        <th class=\"col_heading level0 col6\" >Details_reduce_PCA_10_dim</th>        <th class=\"col_heading level0 col7\" >Details_reduce_PCA_13_dim</th>        <th class=\"col_heading level0 col8\" >Details_reduce_PCA_15_dim</th>        <th class=\"col_heading level0 col9\" >Details_reduce_TSNE_13_dim</th>        <th class=\"col_heading level0 col10\" >Details_reduce_TSNE_15_dim</th>    </tr></thead><tbody>\n",
       "                <tr>\n",
       "                        <th id=\"T_ce5557cc_4c8e_11ea_a067_676b705b9987level0_row0\" class=\"row_heading level0 row0\" >SVC</th>\n",
       "                        <td id=\"T_ce5557cc_4c8e_11ea_a067_676b705b9987row0_col0\" class=\"data row0 col0\" >0.66</td>\n",
       "                        <td id=\"T_ce5557cc_4c8e_11ea_a067_676b705b9987row0_col1\" class=\"data row0 col1\" >0.67</td>\n",
       "                        <td id=\"T_ce5557cc_4c8e_11ea_a067_676b705b9987row0_col2\" class=\"data row0 col2\" >0.77</td>\n",
       "                        <td id=\"T_ce5557cc_4c8e_11ea_a067_676b705b9987row0_col3\" class=\"data row0 col3\" >0.74</td>\n",
       "                        <td id=\"T_ce5557cc_4c8e_11ea_a067_676b705b9987row0_col4\" class=\"data row0 col4\" >0.69</td>\n",
       "                        <td id=\"T_ce5557cc_4c8e_11ea_a067_676b705b9987row0_col5\" class=\"data row0 col5\" >0.64</td>\n",
       "                        <td id=\"T_ce5557cc_4c8e_11ea_a067_676b705b9987row0_col6\" class=\"data row0 col6\" >0.69</td>\n",
       "                        <td id=\"T_ce5557cc_4c8e_11ea_a067_676b705b9987row0_col7\" class=\"data row0 col7\" >0.68</td>\n",
       "                        <td id=\"T_ce5557cc_4c8e_11ea_a067_676b705b9987row0_col8\" class=\"data row0 col8\" >0.72</td>\n",
       "                        <td id=\"T_ce5557cc_4c8e_11ea_a067_676b705b9987row0_col9\" class=\"data row0 col9\" >0.52</td>\n",
       "                        <td id=\"T_ce5557cc_4c8e_11ea_a067_676b705b9987row0_col10\" class=\"data row0 col10\" >0.53</td>\n",
       "            </tr>\n",
       "            <tr>\n",
       "                        <th id=\"T_ce5557cc_4c8e_11ea_a067_676b705b9987level0_row1\" class=\"row_heading level0 row1\" >DT</th>\n",
       "                        <td id=\"T_ce5557cc_4c8e_11ea_a067_676b705b9987row1_col0\" class=\"data row1 col0\" >0.56</td>\n",
       "                        <td id=\"T_ce5557cc_4c8e_11ea_a067_676b705b9987row1_col1\" class=\"data row1 col1\" >0.56</td>\n",
       "                        <td id=\"T_ce5557cc_4c8e_11ea_a067_676b705b9987row1_col2\" class=\"data row1 col2\" >0.61</td>\n",
       "                        <td id=\"T_ce5557cc_4c8e_11ea_a067_676b705b9987row1_col3\" class=\"data row1 col3\" >0.63</td>\n",
       "                        <td id=\"T_ce5557cc_4c8e_11ea_a067_676b705b9987row1_col4\" class=\"data row1 col4\" >0.68</td>\n",
       "                        <td id=\"T_ce5557cc_4c8e_11ea_a067_676b705b9987row1_col5\" class=\"data row1 col5\" >0.60</td>\n",
       "                        <td id=\"T_ce5557cc_4c8e_11ea_a067_676b705b9987row1_col6\" class=\"data row1 col6\" >0.68</td>\n",
       "                        <td id=\"T_ce5557cc_4c8e_11ea_a067_676b705b9987row1_col7\" class=\"data row1 col7\" >0.65</td>\n",
       "                        <td id=\"T_ce5557cc_4c8e_11ea_a067_676b705b9987row1_col8\" class=\"data row1 col8\" >0.58</td>\n",
       "                        <td id=\"T_ce5557cc_4c8e_11ea_a067_676b705b9987row1_col9\" class=\"data row1 col9\" >0.44</td>\n",
       "                        <td id=\"T_ce5557cc_4c8e_11ea_a067_676b705b9987row1_col10\" class=\"data row1 col10\" >0.51</td>\n",
       "            </tr>\n",
       "            <tr>\n",
       "                        <th id=\"T_ce5557cc_4c8e_11ea_a067_676b705b9987level0_row2\" class=\"row_heading level0 row2\" >RF</th>\n",
       "                        <td id=\"T_ce5557cc_4c8e_11ea_a067_676b705b9987row2_col0\" class=\"data row2 col0\" >0.65</td>\n",
       "                        <td id=\"T_ce5557cc_4c8e_11ea_a067_676b705b9987row2_col1\" class=\"data row2 col1\" >0.64</td>\n",
       "                        <td id=\"T_ce5557cc_4c8e_11ea_a067_676b705b9987row2_col2\" class=\"data row2 col2\" >0.58</td>\n",
       "                        <td id=\"T_ce5557cc_4c8e_11ea_a067_676b705b9987row2_col3\" class=\"data row2 col3\" >0.60</td>\n",
       "                        <td id=\"T_ce5557cc_4c8e_11ea_a067_676b705b9987row2_col4\" class=\"data row2 col4\" >0.68</td>\n",
       "                        <td id=\"T_ce5557cc_4c8e_11ea_a067_676b705b9987row2_col5\" class=\"data row2 col5\" >0.60</td>\n",
       "                        <td id=\"T_ce5557cc_4c8e_11ea_a067_676b705b9987row2_col6\" class=\"data row2 col6\" >0.70</td>\n",
       "                        <td id=\"T_ce5557cc_4c8e_11ea_a067_676b705b9987row2_col7\" class=\"data row2 col7\" >0.70</td>\n",
       "                        <td id=\"T_ce5557cc_4c8e_11ea_a067_676b705b9987row2_col8\" class=\"data row2 col8\" >0.64</td>\n",
       "                        <td id=\"T_ce5557cc_4c8e_11ea_a067_676b705b9987row2_col9\" class=\"data row2 col9\" >0.52</td>\n",
       "                        <td id=\"T_ce5557cc_4c8e_11ea_a067_676b705b9987row2_col10\" class=\"data row2 col10\" >0.56</td>\n",
       "            </tr>\n",
       "            <tr>\n",
       "                        <th id=\"T_ce5557cc_4c8e_11ea_a067_676b705b9987level0_row3\" class=\"row_heading level0 row3\" >NB</th>\n",
       "                        <td id=\"T_ce5557cc_4c8e_11ea_a067_676b705b9987row3_col0\" class=\"data row3 col0\" >0.69</td>\n",
       "                        <td id=\"T_ce5557cc_4c8e_11ea_a067_676b705b9987row3_col1\" class=\"data row3 col1\" >0.69</td>\n",
       "                        <td id=\"T_ce5557cc_4c8e_11ea_a067_676b705b9987row3_col2\" class=\"data row3 col2\" >0.73</td>\n",
       "                        <td id=\"T_ce5557cc_4c8e_11ea_a067_676b705b9987row3_col3\" class=\"data row3 col3\" >0.75</td>\n",
       "                        <td id=\"T_ce5557cc_4c8e_11ea_a067_676b705b9987row3_col4\" class=\"data row3 col4\" >0.63</td>\n",
       "                        <td id=\"T_ce5557cc_4c8e_11ea_a067_676b705b9987row3_col5\" class=\"data row3 col5\" >0.62</td>\n",
       "                        <td id=\"T_ce5557cc_4c8e_11ea_a067_676b705b9987row3_col6\" class=\"data row3 col6\" >0.66</td>\n",
       "                        <td id=\"T_ce5557cc_4c8e_11ea_a067_676b705b9987row3_col7\" class=\"data row3 col7\" >0.68</td>\n",
       "                        <td id=\"T_ce5557cc_4c8e_11ea_a067_676b705b9987row3_col8\" class=\"data row3 col8\" >0.65</td>\n",
       "                        <td id=\"T_ce5557cc_4c8e_11ea_a067_676b705b9987row3_col9\" class=\"data row3 col9\" >0.56</td>\n",
       "                        <td id=\"T_ce5557cc_4c8e_11ea_a067_676b705b9987row3_col10\" class=\"data row3 col10\" >0.58</td>\n",
       "            </tr>\n",
       "            <tr>\n",
       "                        <th id=\"T_ce5557cc_4c8e_11ea_a067_676b705b9987level0_row4\" class=\"row_heading level0 row4\" >LD</th>\n",
       "                        <td id=\"T_ce5557cc_4c8e_11ea_a067_676b705b9987row4_col0\" class=\"data row4 col0\" >0.71</td>\n",
       "                        <td id=\"T_ce5557cc_4c8e_11ea_a067_676b705b9987row4_col1\" class=\"data row4 col1\" >0.69</td>\n",
       "                        <td id=\"T_ce5557cc_4c8e_11ea_a067_676b705b9987row4_col2\" class=\"data row4 col2\" >0.73</td>\n",
       "                        <td id=\"T_ce5557cc_4c8e_11ea_a067_676b705b9987row4_col3\" class=\"data row4 col3\" >0.72</td>\n",
       "                        <td id=\"T_ce5557cc_4c8e_11ea_a067_676b705b9987row4_col4\" class=\"data row4 col4\" >0.64</td>\n",
       "                        <td id=\"T_ce5557cc_4c8e_11ea_a067_676b705b9987row4_col5\" class=\"data row4 col5\" >0.65</td>\n",
       "                        <td id=\"T_ce5557cc_4c8e_11ea_a067_676b705b9987row4_col6\" class=\"data row4 col6\" >0.61</td>\n",
       "                        <td id=\"T_ce5557cc_4c8e_11ea_a067_676b705b9987row4_col7\" class=\"data row4 col7\" >0.59</td>\n",
       "                        <td id=\"T_ce5557cc_4c8e_11ea_a067_676b705b9987row4_col8\" class=\"data row4 col8\" >0.59</td>\n",
       "                        <td id=\"T_ce5557cc_4c8e_11ea_a067_676b705b9987row4_col9\" class=\"data row4 col9\" >0.48</td>\n",
       "                        <td id=\"T_ce5557cc_4c8e_11ea_a067_676b705b9987row4_col10\" class=\"data row4 col10\" >0.49</td>\n",
       "            </tr>\n",
       "            <tr>\n",
       "                        <th id=\"T_ce5557cc_4c8e_11ea_a067_676b705b9987level0_row5\" class=\"row_heading level0 row5\" >MLP</th>\n",
       "                        <td id=\"T_ce5557cc_4c8e_11ea_a067_676b705b9987row5_col0\" class=\"data row5 col0\" >0.70</td>\n",
       "                        <td id=\"T_ce5557cc_4c8e_11ea_a067_676b705b9987row5_col1\" class=\"data row5 col1\" >0.69</td>\n",
       "                        <td id=\"T_ce5557cc_4c8e_11ea_a067_676b705b9987row5_col2\" class=\"data row5 col2\" >0.74</td>\n",
       "                        <td id=\"T_ce5557cc_4c8e_11ea_a067_676b705b9987row5_col3\" class=\"data row5 col3\" >0.72</td>\n",
       "                        <td id=\"T_ce5557cc_4c8e_11ea_a067_676b705b9987row5_col4\" class=\"data row5 col4\" >0.63</td>\n",
       "                        <td id=\"T_ce5557cc_4c8e_11ea_a067_676b705b9987row5_col5\" class=\"data row5 col5\" >0.63</td>\n",
       "                        <td id=\"T_ce5557cc_4c8e_11ea_a067_676b705b9987row5_col6\" class=\"data row5 col6\" >0.62</td>\n",
       "                        <td id=\"T_ce5557cc_4c8e_11ea_a067_676b705b9987row5_col7\" class=\"data row5 col7\" >0.62</td>\n",
       "                        <td id=\"T_ce5557cc_4c8e_11ea_a067_676b705b9987row5_col8\" class=\"data row5 col8\" >0.65</td>\n",
       "                        <td id=\"T_ce5557cc_4c8e_11ea_a067_676b705b9987row5_col9\" class=\"data row5 col9\" >0.39</td>\n",
       "                        <td id=\"T_ce5557cc_4c8e_11ea_a067_676b705b9987row5_col10\" class=\"data row5 col10\" >0.48</td>\n",
       "            </tr>\n",
       "    </tbody></table>"
      ],
      "text/plain": [
       "<pandas.io.formats.style.Styler at 0x7fa16c1a6f10>"
      ]
     },
     "execution_count": 35,
     "metadata": {},
     "output_type": "execute_result"
    }
   ],
   "source": [
    "tableStandardScaler = pd.DataFrame(risultatiStandardScaler)\n",
    "tableStandardScaler.style.apply(highlight_max, axis=None).format(float_formatter)"
   ]
  },
  {
   "cell_type": "markdown",
   "metadata": {},
   "source": [
    "# Visualizzo il massimo score possibile relativo ad ogni dataset"
   ]
  },
  {
   "cell_type": "code",
   "execution_count": 36,
   "metadata": {},
   "outputs": [
    {
     "data": {
      "text/html": [
       "<style  type=\"text/css\" >\n",
       "    #T_ce57e910_4c8e_11ea_a067_676b705b9987row2_col0 {\n",
       "            background-color:  darkorange;\n",
       "        }</style><table id=\"T_ce57e910_4c8e_11ea_a067_676b705b9987\" ><thead>    <tr>        <th class=\"blank level0\" ></th>        <th class=\"col_heading level0 col0\" >StandardScaler</th>    </tr></thead><tbody>\n",
       "                <tr>\n",
       "                        <th id=\"T_ce57e910_4c8e_11ea_a067_676b705b9987level0_row0\" class=\"row_heading level0 row0\" >Totali</th>\n",
       "                        <td id=\"T_ce57e910_4c8e_11ea_a067_676b705b9987row0_col0\" class=\"data row0 col0\" >0.71</td>\n",
       "            </tr>\n",
       "            <tr>\n",
       "                        <th id=\"T_ce57e910_4c8e_11ea_a067_676b705b9987level0_row1\" class=\"row_heading level0 row1\" >Totali_with_BMI</th>\n",
       "                        <td id=\"T_ce57e910_4c8e_11ea_a067_676b705b9987row1_col0\" class=\"data row1 col0\" >0.69</td>\n",
       "            </tr>\n",
       "            <tr>\n",
       "                        <th id=\"T_ce57e910_4c8e_11ea_a067_676b705b9987level0_row2\" class=\"row_heading level0 row2\" >Totali_with_DATA</th>\n",
       "                        <td id=\"T_ce57e910_4c8e_11ea_a067_676b705b9987row2_col0\" class=\"data row2 col0\" >0.77</td>\n",
       "            </tr>\n",
       "            <tr>\n",
       "                        <th id=\"T_ce57e910_4c8e_11ea_a067_676b705b9987level0_row3\" class=\"row_heading level0 row3\" >Totali_with_DATA_and_BMI</th>\n",
       "                        <td id=\"T_ce57e910_4c8e_11ea_a067_676b705b9987row3_col0\" class=\"data row3 col0\" >0.75</td>\n",
       "            </tr>\n",
       "            <tr>\n",
       "                        <th id=\"T_ce57e910_4c8e_11ea_a067_676b705b9987level0_row4\" class=\"row_heading level0 row4\" >Details</th>\n",
       "                        <td id=\"T_ce57e910_4c8e_11ea_a067_676b705b9987row4_col0\" class=\"data row4 col0\" >0.69</td>\n",
       "            </tr>\n",
       "            <tr>\n",
       "                        <th id=\"T_ce57e910_4c8e_11ea_a067_676b705b9987level0_row5\" class=\"row_heading level0 row5\" >Details_reduce_PCA_5_dim</th>\n",
       "                        <td id=\"T_ce57e910_4c8e_11ea_a067_676b705b9987row5_col0\" class=\"data row5 col0\" >0.65</td>\n",
       "            </tr>\n",
       "            <tr>\n",
       "                        <th id=\"T_ce57e910_4c8e_11ea_a067_676b705b9987level0_row6\" class=\"row_heading level0 row6\" >Details_reduce_PCA_10_dim</th>\n",
       "                        <td id=\"T_ce57e910_4c8e_11ea_a067_676b705b9987row6_col0\" class=\"data row6 col0\" >0.70</td>\n",
       "            </tr>\n",
       "            <tr>\n",
       "                        <th id=\"T_ce57e910_4c8e_11ea_a067_676b705b9987level0_row7\" class=\"row_heading level0 row7\" >Details_reduce_PCA_13_dim</th>\n",
       "                        <td id=\"T_ce57e910_4c8e_11ea_a067_676b705b9987row7_col0\" class=\"data row7 col0\" >0.70</td>\n",
       "            </tr>\n",
       "            <tr>\n",
       "                        <th id=\"T_ce57e910_4c8e_11ea_a067_676b705b9987level0_row8\" class=\"row_heading level0 row8\" >Details_reduce_PCA_15_dim</th>\n",
       "                        <td id=\"T_ce57e910_4c8e_11ea_a067_676b705b9987row8_col0\" class=\"data row8 col0\" >0.72</td>\n",
       "            </tr>\n",
       "            <tr>\n",
       "                        <th id=\"T_ce57e910_4c8e_11ea_a067_676b705b9987level0_row9\" class=\"row_heading level0 row9\" >Details_reduce_TSNE_13_dim</th>\n",
       "                        <td id=\"T_ce57e910_4c8e_11ea_a067_676b705b9987row9_col0\" class=\"data row9 col0\" >0.56</td>\n",
       "            </tr>\n",
       "            <tr>\n",
       "                        <th id=\"T_ce57e910_4c8e_11ea_a067_676b705b9987level0_row10\" class=\"row_heading level0 row10\" >Details_reduce_TSNE_15_dim</th>\n",
       "                        <td id=\"T_ce57e910_4c8e_11ea_a067_676b705b9987row10_col0\" class=\"data row10 col0\" >0.58</td>\n",
       "            </tr>\n",
       "    </tbody></table>"
      ],
      "text/plain": [
       "<pandas.io.formats.style.Styler at 0x7fa17431b210>"
      ]
     },
     "execution_count": 36,
     "metadata": {},
     "output_type": "execute_result"
    }
   ],
   "source": [
    "tableMaxStandardScaler = pd.DataFrame(tableStandardScaler.max(), columns=['StandardScaler'])\n",
    "tableMaxStandardScaler.style.apply(highlight_max, axis=0).format(float_formatter)"
   ]
  },
  {
   "cell_type": "markdown",
   "metadata": {},
   "source": [
    "##### Lo score massimo calcolato usando StandardScaler è stato ottenuto usando 'Total_with_DATA' con SVC ed è di 0.77"
   ]
  },
  {
   "cell_type": "markdown",
   "metadata": {},
   "source": [
    "# Usando come scaler MinMaxScaler"
   ]
  },
  {
   "cell_type": "code",
   "execution_count": 37,
   "metadata": {},
   "outputs": [],
   "source": [
    "from sklearn.preprocessing import MinMaxScaler\n",
    "\n",
    "risultati_minMax_scaler = {}"
   ]
  },
  {
   "cell_type": "code",
   "execution_count": 54,
   "metadata": {},
   "outputs": [],
   "source": [
    "from sklearn.preprocessing import MinMaxScaler\n",
    "\n",
    "\n",
    "add_column_to_results(risultati_minMax_scaler, 'Totali', 'RisultatiMinMaxScaler.json', X_total, y_total, models, grids, scaling=MinMaxScaler(), logger_name=logger)"
   ]
  },
  {
   "cell_type": "code",
   "execution_count": 39,
   "metadata": {
    "scrolled": false
   },
   "outputs": [
    {
     "data": {
      "application/vnd.jupyter.widget-view+json": {
       "model_id": "774563f85e3141faa4b3a281f6000417",
       "version_major": 2,
       "version_minor": 0
      },
      "text/plain": [
       "HBox(children=(FloatProgress(value=0.0, description='SVC', max=1.0, style=ProgressStyle(description_width='ini…"
      ]
     },
     "metadata": {},
     "output_type": "display_data"
    },
    {
     "name": "stdout",
     "output_type": "stream",
     "text": [
      "\n"
     ]
    },
    {
     "data": {
      "application/vnd.jupyter.widget-view+json": {
       "model_id": "d402d2fc8f87429d92f20bd67d4f15cc",
       "version_major": 2,
       "version_minor": 0
      },
      "text/plain": [
       "HBox(children=(FloatProgress(value=0.0, description='DecisionTreeClassifier', max=1.0, style=ProgressStyle(des…"
      ]
     },
     "metadata": {},
     "output_type": "display_data"
    },
    {
     "name": "stdout",
     "output_type": "stream",
     "text": [
      "\n"
     ]
    },
    {
     "data": {
      "application/vnd.jupyter.widget-view+json": {
       "model_id": "b4934b8983f04130866917bc95da9017",
       "version_major": 2,
       "version_minor": 0
      },
      "text/plain": [
       "HBox(children=(FloatProgress(value=0.0, description='RandomForestClassifier', max=1.0, style=ProgressStyle(des…"
      ]
     },
     "metadata": {},
     "output_type": "display_data"
    },
    {
     "name": "stdout",
     "output_type": "stream",
     "text": [
      "\n"
     ]
    },
    {
     "data": {
      "application/vnd.jupyter.widget-view+json": {
       "model_id": "adc546130fb14af6b00b6a108d4bcff8",
       "version_major": 2,
       "version_minor": 0
      },
      "text/plain": [
       "HBox(children=(FloatProgress(value=0.0, description='GaussianNB', max=1.0, style=ProgressStyle(description_wid…"
      ]
     },
     "metadata": {},
     "output_type": "display_data"
    },
    {
     "name": "stdout",
     "output_type": "stream",
     "text": [
      "\n"
     ]
    },
    {
     "data": {
      "application/vnd.jupyter.widget-view+json": {
       "model_id": "9349906f15c2443ea2215385fe54ae9e",
       "version_major": 2,
       "version_minor": 0
      },
      "text/plain": [
       "HBox(children=(FloatProgress(value=0.0, description='LinearDiscriminantAnalysis', max=1.0, style=ProgressStyle…"
      ]
     },
     "metadata": {},
     "output_type": "display_data"
    },
    {
     "name": "stdout",
     "output_type": "stream",
     "text": [
      "\n"
     ]
    },
    {
     "data": {
      "application/vnd.jupyter.widget-view+json": {
       "model_id": "b7f5473639704adf916ed0e63a270f01",
       "version_major": 2,
       "version_minor": 0
      },
      "text/plain": [
       "HBox(children=(FloatProgress(value=0.0, description='MLPClassifier', max=1.0, style=ProgressStyle(description_…"
      ]
     },
     "metadata": {},
     "output_type": "display_data"
    },
    {
     "name": "stdout",
     "output_type": "stream",
     "text": [
      "\n"
     ]
    }
   ],
   "source": [
    "add_column_to_results(risultati_minMax_scaler, 'Totali_with_BMI', 'RisultatiMinMaxScaler.json', X_total_with_BMI, y_total_with_BMI, models, grids, scaling=MinMaxScaler(), logger_name=logger)"
   ]
  },
  {
   "cell_type": "code",
   "execution_count": 40,
   "metadata": {},
   "outputs": [
    {
     "data": {
      "application/vnd.jupyter.widget-view+json": {
       "model_id": "06bf716612364c919bde095f4b2eb64d",
       "version_major": 2,
       "version_minor": 0
      },
      "text/plain": [
       "HBox(children=(FloatProgress(value=0.0, description='SVC', max=1.0, style=ProgressStyle(description_width='ini…"
      ]
     },
     "metadata": {},
     "output_type": "display_data"
    },
    {
     "name": "stdout",
     "output_type": "stream",
     "text": [
      "\n"
     ]
    },
    {
     "data": {
      "application/vnd.jupyter.widget-view+json": {
       "model_id": "8e2c9a0a38bc4b1a953c9e6c80a9c322",
       "version_major": 2,
       "version_minor": 0
      },
      "text/plain": [
       "HBox(children=(FloatProgress(value=0.0, description='DecisionTreeClassifier', max=1.0, style=ProgressStyle(des…"
      ]
     },
     "metadata": {},
     "output_type": "display_data"
    },
    {
     "name": "stdout",
     "output_type": "stream",
     "text": [
      "\n"
     ]
    },
    {
     "data": {
      "application/vnd.jupyter.widget-view+json": {
       "model_id": "5ccba9179d234957a1ab549bce6ad37d",
       "version_major": 2,
       "version_minor": 0
      },
      "text/plain": [
       "HBox(children=(FloatProgress(value=0.0, description='RandomForestClassifier', max=1.0, style=ProgressStyle(des…"
      ]
     },
     "metadata": {},
     "output_type": "display_data"
    },
    {
     "name": "stdout",
     "output_type": "stream",
     "text": [
      "\n"
     ]
    },
    {
     "data": {
      "application/vnd.jupyter.widget-view+json": {
       "model_id": "b0d852e5355a434daea31f4c03fb7df7",
       "version_major": 2,
       "version_minor": 0
      },
      "text/plain": [
       "HBox(children=(FloatProgress(value=0.0, description='GaussianNB', max=1.0, style=ProgressStyle(description_wid…"
      ]
     },
     "metadata": {},
     "output_type": "display_data"
    },
    {
     "name": "stdout",
     "output_type": "stream",
     "text": [
      "\n"
     ]
    },
    {
     "data": {
      "application/vnd.jupyter.widget-view+json": {
       "model_id": "b484f9dcee08498288395380d52fc2e9",
       "version_major": 2,
       "version_minor": 0
      },
      "text/plain": [
       "HBox(children=(FloatProgress(value=0.0, description='LinearDiscriminantAnalysis', max=1.0, style=ProgressStyle…"
      ]
     },
     "metadata": {},
     "output_type": "display_data"
    },
    {
     "name": "stdout",
     "output_type": "stream",
     "text": [
      "\n"
     ]
    },
    {
     "data": {
      "application/vnd.jupyter.widget-view+json": {
       "model_id": "0cc9c8d136324af2adf0400888480c6d",
       "version_major": 2,
       "version_minor": 0
      },
      "text/plain": [
       "HBox(children=(FloatProgress(value=0.0, description='MLPClassifier', max=1.0, style=ProgressStyle(description_…"
      ]
     },
     "metadata": {},
     "output_type": "display_data"
    },
    {
     "name": "stdout",
     "output_type": "stream",
     "text": [
      "\n"
     ]
    }
   ],
   "source": [
    "add_column_to_results(risultati_minMax_scaler, 'Totali_with_DATA', 'RisultatiMinMaxScaler.json', X_total_with_data, y_total_with_data, models, grids, scaling=MinMaxScaler(), logger_name=logger)"
   ]
  },
  {
   "cell_type": "code",
   "execution_count": 41,
   "metadata": {},
   "outputs": [
    {
     "data": {
      "application/vnd.jupyter.widget-view+json": {
       "model_id": "a69ec57a18794782b87607dd323c1f09",
       "version_major": 2,
       "version_minor": 0
      },
      "text/plain": [
       "HBox(children=(FloatProgress(value=0.0, description='SVC', max=1.0, style=ProgressStyle(description_width='ini…"
      ]
     },
     "metadata": {},
     "output_type": "display_data"
    },
    {
     "name": "stdout",
     "output_type": "stream",
     "text": [
      "\n"
     ]
    },
    {
     "data": {
      "application/vnd.jupyter.widget-view+json": {
       "model_id": "57ad9b212a3249a9bd49394ef19bf7ae",
       "version_major": 2,
       "version_minor": 0
      },
      "text/plain": [
       "HBox(children=(FloatProgress(value=0.0, description='DecisionTreeClassifier', max=1.0, style=ProgressStyle(des…"
      ]
     },
     "metadata": {},
     "output_type": "display_data"
    },
    {
     "name": "stdout",
     "output_type": "stream",
     "text": [
      "\n"
     ]
    },
    {
     "data": {
      "application/vnd.jupyter.widget-view+json": {
       "model_id": "62d41fcfb39c474a9937ba8fe398a009",
       "version_major": 2,
       "version_minor": 0
      },
      "text/plain": [
       "HBox(children=(FloatProgress(value=0.0, description='RandomForestClassifier', max=1.0, style=ProgressStyle(des…"
      ]
     },
     "metadata": {},
     "output_type": "display_data"
    },
    {
     "name": "stdout",
     "output_type": "stream",
     "text": [
      "\n"
     ]
    },
    {
     "data": {
      "application/vnd.jupyter.widget-view+json": {
       "model_id": "17377cdd9d514b0dba5a235ca66b57da",
       "version_major": 2,
       "version_minor": 0
      },
      "text/plain": [
       "HBox(children=(FloatProgress(value=0.0, description='GaussianNB', max=1.0, style=ProgressStyle(description_wid…"
      ]
     },
     "metadata": {},
     "output_type": "display_data"
    },
    {
     "name": "stdout",
     "output_type": "stream",
     "text": [
      "\n"
     ]
    },
    {
     "data": {
      "application/vnd.jupyter.widget-view+json": {
       "model_id": "d9bf9c1f5f3e4f2090e3081ae5c69b4e",
       "version_major": 2,
       "version_minor": 0
      },
      "text/plain": [
       "HBox(children=(FloatProgress(value=0.0, description='LinearDiscriminantAnalysis', max=1.0, style=ProgressStyle…"
      ]
     },
     "metadata": {},
     "output_type": "display_data"
    },
    {
     "name": "stdout",
     "output_type": "stream",
     "text": [
      "\n"
     ]
    },
    {
     "data": {
      "application/vnd.jupyter.widget-view+json": {
       "model_id": "3b87c10c85544a3c80a58dca9a75010d",
       "version_major": 2,
       "version_minor": 0
      },
      "text/plain": [
       "HBox(children=(FloatProgress(value=0.0, description='MLPClassifier', max=1.0, style=ProgressStyle(description_…"
      ]
     },
     "metadata": {},
     "output_type": "display_data"
    },
    {
     "name": "stdout",
     "output_type": "stream",
     "text": [
      "\n"
     ]
    }
   ],
   "source": [
    "add_column_to_results(risultati_minMax_scaler, 'Totali_with_DATA_and_BMI', 'RisultatiMinMaxScaler.json', X_total_with_data_and_BMI, y_total_with_data_and_BMI, models, grids, scaling=MinMaxScaler(), logger_name=logger)"
   ]
  },
  {
   "cell_type": "code",
   "execution_count": 42,
   "metadata": {
    "scrolled": false
   },
   "outputs": [
    {
     "data": {
      "application/vnd.jupyter.widget-view+json": {
       "model_id": "efdc0c37c296425bae96623f65e4e9de",
       "version_major": 2,
       "version_minor": 0
      },
      "text/plain": [
       "HBox(children=(FloatProgress(value=0.0, description='SVC', max=1.0, style=ProgressStyle(description_width='ini…"
      ]
     },
     "metadata": {},
     "output_type": "display_data"
    },
    {
     "name": "stdout",
     "output_type": "stream",
     "text": [
      "\n"
     ]
    },
    {
     "data": {
      "application/vnd.jupyter.widget-view+json": {
       "model_id": "2c0626f2a50e45709df60e19919a1b1c",
       "version_major": 2,
       "version_minor": 0
      },
      "text/plain": [
       "HBox(children=(FloatProgress(value=0.0, description='DecisionTreeClassifier', max=1.0, style=ProgressStyle(des…"
      ]
     },
     "metadata": {},
     "output_type": "display_data"
    },
    {
     "name": "stdout",
     "output_type": "stream",
     "text": [
      "\n"
     ]
    },
    {
     "data": {
      "application/vnd.jupyter.widget-view+json": {
       "model_id": "dcc0aff55c57434fada814f69a88a25d",
       "version_major": 2,
       "version_minor": 0
      },
      "text/plain": [
       "HBox(children=(FloatProgress(value=0.0, description='RandomForestClassifier', max=1.0, style=ProgressStyle(des…"
      ]
     },
     "metadata": {},
     "output_type": "display_data"
    },
    {
     "name": "stdout",
     "output_type": "stream",
     "text": [
      "\n"
     ]
    },
    {
     "data": {
      "application/vnd.jupyter.widget-view+json": {
       "model_id": "be030bc7752e46a0b8da4db85370be82",
       "version_major": 2,
       "version_minor": 0
      },
      "text/plain": [
       "HBox(children=(FloatProgress(value=0.0, description='GaussianNB', max=1.0, style=ProgressStyle(description_wid…"
      ]
     },
     "metadata": {},
     "output_type": "display_data"
    },
    {
     "name": "stdout",
     "output_type": "stream",
     "text": [
      "\n"
     ]
    },
    {
     "data": {
      "application/vnd.jupyter.widget-view+json": {
       "model_id": "e15bb1b064214d2c880cbcdb975ab7cc",
       "version_major": 2,
       "version_minor": 0
      },
      "text/plain": [
       "HBox(children=(FloatProgress(value=0.0, description='LinearDiscriminantAnalysis', max=1.0, style=ProgressStyle…"
      ]
     },
     "metadata": {},
     "output_type": "display_data"
    },
    {
     "name": "stdout",
     "output_type": "stream",
     "text": [
      "\n"
     ]
    },
    {
     "data": {
      "application/vnd.jupyter.widget-view+json": {
       "model_id": "0b7d4bcaa616490cb6d439877b2d0a7a",
       "version_major": 2,
       "version_minor": 0
      },
      "text/plain": [
       "HBox(children=(FloatProgress(value=0.0, description='MLPClassifier', max=1.0, style=ProgressStyle(description_…"
      ]
     },
     "metadata": {},
     "output_type": "display_data"
    },
    {
     "name": "stdout",
     "output_type": "stream",
     "text": [
      "\n"
     ]
    }
   ],
   "source": [
    "add_column_to_results(risultati_minMax_scaler, 'Details', 'RisultatiMinMaxScaler.json', X_details, y_details, models, grids, scaling=MinMaxScaler(), logger_name=logger)"
   ]
  },
  {
   "cell_type": "code",
   "execution_count": 43,
   "metadata": {},
   "outputs": [
    {
     "data": {
      "application/vnd.jupyter.widget-view+json": {
       "model_id": "d5281daffb2749fb9b370f6872082e19",
       "version_major": 2,
       "version_minor": 0
      },
      "text/plain": [
       "HBox(children=(FloatProgress(value=0.0, description='SVC', max=1.0, style=ProgressStyle(description_width='ini…"
      ]
     },
     "metadata": {},
     "output_type": "display_data"
    },
    {
     "name": "stdout",
     "output_type": "stream",
     "text": [
      "\n"
     ]
    },
    {
     "data": {
      "application/vnd.jupyter.widget-view+json": {
       "model_id": "f19cd7962dc94885a6cde7bb0cefcc61",
       "version_major": 2,
       "version_minor": 0
      },
      "text/plain": [
       "HBox(children=(FloatProgress(value=0.0, description='DecisionTreeClassifier', max=1.0, style=ProgressStyle(des…"
      ]
     },
     "metadata": {},
     "output_type": "display_data"
    },
    {
     "name": "stdout",
     "output_type": "stream",
     "text": [
      "\n"
     ]
    },
    {
     "data": {
      "application/vnd.jupyter.widget-view+json": {
       "model_id": "5e771cc2bb5a4cc3828950142c964914",
       "version_major": 2,
       "version_minor": 0
      },
      "text/plain": [
       "HBox(children=(FloatProgress(value=0.0, description='RandomForestClassifier', max=1.0, style=ProgressStyle(des…"
      ]
     },
     "metadata": {},
     "output_type": "display_data"
    },
    {
     "name": "stdout",
     "output_type": "stream",
     "text": [
      "\n"
     ]
    },
    {
     "data": {
      "application/vnd.jupyter.widget-view+json": {
       "model_id": "708c3311c48f4e0e845c1b4f4401aae7",
       "version_major": 2,
       "version_minor": 0
      },
      "text/plain": [
       "HBox(children=(FloatProgress(value=0.0, description='GaussianNB', max=1.0, style=ProgressStyle(description_wid…"
      ]
     },
     "metadata": {},
     "output_type": "display_data"
    },
    {
     "name": "stdout",
     "output_type": "stream",
     "text": [
      "\n"
     ]
    },
    {
     "data": {
      "application/vnd.jupyter.widget-view+json": {
       "model_id": "6d84fddce9454f53b65ba6b2a4de7b15",
       "version_major": 2,
       "version_minor": 0
      },
      "text/plain": [
       "HBox(children=(FloatProgress(value=0.0, description='LinearDiscriminantAnalysis', max=1.0, style=ProgressStyle…"
      ]
     },
     "metadata": {},
     "output_type": "display_data"
    },
    {
     "name": "stdout",
     "output_type": "stream",
     "text": [
      "\n"
     ]
    },
    {
     "data": {
      "application/vnd.jupyter.widget-view+json": {
       "model_id": "1fca1ed899c444ef888384896708bd08",
       "version_major": 2,
       "version_minor": 0
      },
      "text/plain": [
       "HBox(children=(FloatProgress(value=0.0, description='MLPClassifier', max=1.0, style=ProgressStyle(description_…"
      ]
     },
     "metadata": {},
     "output_type": "display_data"
    },
    {
     "name": "stdout",
     "output_type": "stream",
     "text": [
      "\n"
     ]
    },
    {
     "data": {
      "application/vnd.jupyter.widget-view+json": {
       "model_id": "58bedcf6ee4943ada2c4a2977d71325b",
       "version_major": 2,
       "version_minor": 0
      },
      "text/plain": [
       "HBox(children=(FloatProgress(value=0.0, description='SVC', max=1.0, style=ProgressStyle(description_width='ini…"
      ]
     },
     "metadata": {},
     "output_type": "display_data"
    },
    {
     "name": "stdout",
     "output_type": "stream",
     "text": [
      "\n"
     ]
    },
    {
     "data": {
      "application/vnd.jupyter.widget-view+json": {
       "model_id": "6f2e284df6fc43a3b5503d9dead413fc",
       "version_major": 2,
       "version_minor": 0
      },
      "text/plain": [
       "HBox(children=(FloatProgress(value=0.0, description='DecisionTreeClassifier', max=1.0, style=ProgressStyle(des…"
      ]
     },
     "metadata": {},
     "output_type": "display_data"
    },
    {
     "name": "stdout",
     "output_type": "stream",
     "text": [
      "\n"
     ]
    },
    {
     "data": {
      "application/vnd.jupyter.widget-view+json": {
       "model_id": "ddd3f2575c454d44b8612e630662c2b2",
       "version_major": 2,
       "version_minor": 0
      },
      "text/plain": [
       "HBox(children=(FloatProgress(value=0.0, description='RandomForestClassifier', max=1.0, style=ProgressStyle(des…"
      ]
     },
     "metadata": {},
     "output_type": "display_data"
    },
    {
     "name": "stdout",
     "output_type": "stream",
     "text": [
      "\n"
     ]
    },
    {
     "data": {
      "application/vnd.jupyter.widget-view+json": {
       "model_id": "98e0bd2802c648eeb908ab25bc0fed8e",
       "version_major": 2,
       "version_minor": 0
      },
      "text/plain": [
       "HBox(children=(FloatProgress(value=0.0, description='GaussianNB', max=1.0, style=ProgressStyle(description_wid…"
      ]
     },
     "metadata": {},
     "output_type": "display_data"
    },
    {
     "name": "stdout",
     "output_type": "stream",
     "text": [
      "\n"
     ]
    },
    {
     "data": {
      "application/vnd.jupyter.widget-view+json": {
       "model_id": "9239290c34804e15bea57b68dd216196",
       "version_major": 2,
       "version_minor": 0
      },
      "text/plain": [
       "HBox(children=(FloatProgress(value=0.0, description='LinearDiscriminantAnalysis', max=1.0, style=ProgressStyle…"
      ]
     },
     "metadata": {},
     "output_type": "display_data"
    },
    {
     "name": "stdout",
     "output_type": "stream",
     "text": [
      "\n"
     ]
    },
    {
     "data": {
      "application/vnd.jupyter.widget-view+json": {
       "model_id": "fcdf90ce1d924d9cac20a376cf7cb7c9",
       "version_major": 2,
       "version_minor": 0
      },
      "text/plain": [
       "HBox(children=(FloatProgress(value=0.0, description='MLPClassifier', max=1.0, style=ProgressStyle(description_…"
      ]
     },
     "metadata": {},
     "output_type": "display_data"
    },
    {
     "name": "stdout",
     "output_type": "stream",
     "text": [
      "\n"
     ]
    },
    {
     "data": {
      "application/vnd.jupyter.widget-view+json": {
       "model_id": "14cf069153f24a98a253ee20e4eb0858",
       "version_major": 2,
       "version_minor": 0
      },
      "text/plain": [
       "HBox(children=(FloatProgress(value=0.0, description='SVC', max=1.0, style=ProgressStyle(description_width='ini…"
      ]
     },
     "metadata": {},
     "output_type": "display_data"
    },
    {
     "name": "stdout",
     "output_type": "stream",
     "text": [
      "\n"
     ]
    },
    {
     "data": {
      "application/vnd.jupyter.widget-view+json": {
       "model_id": "c4cb53ebbed54c018d83bbf3bf7a3a55",
       "version_major": 2,
       "version_minor": 0
      },
      "text/plain": [
       "HBox(children=(FloatProgress(value=0.0, description='DecisionTreeClassifier', max=1.0, style=ProgressStyle(des…"
      ]
     },
     "metadata": {},
     "output_type": "display_data"
    },
    {
     "name": "stdout",
     "output_type": "stream",
     "text": [
      "\n"
     ]
    },
    {
     "data": {
      "application/vnd.jupyter.widget-view+json": {
       "model_id": "dbe1a428e70849ea904ed7cd894c0d62",
       "version_major": 2,
       "version_minor": 0
      },
      "text/plain": [
       "HBox(children=(FloatProgress(value=0.0, description='RandomForestClassifier', max=1.0, style=ProgressStyle(des…"
      ]
     },
     "metadata": {},
     "output_type": "display_data"
    },
    {
     "name": "stdout",
     "output_type": "stream",
     "text": [
      "\n"
     ]
    },
    {
     "data": {
      "application/vnd.jupyter.widget-view+json": {
       "model_id": "80cb9e698f614737a33ad6912ab00899",
       "version_major": 2,
       "version_minor": 0
      },
      "text/plain": [
       "HBox(children=(FloatProgress(value=0.0, description='GaussianNB', max=1.0, style=ProgressStyle(description_wid…"
      ]
     },
     "metadata": {},
     "output_type": "display_data"
    },
    {
     "name": "stdout",
     "output_type": "stream",
     "text": [
      "\n"
     ]
    },
    {
     "data": {
      "application/vnd.jupyter.widget-view+json": {
       "model_id": "99f00edcab3441d8963f498d6d4429f0",
       "version_major": 2,
       "version_minor": 0
      },
      "text/plain": [
       "HBox(children=(FloatProgress(value=0.0, description='LinearDiscriminantAnalysis', max=1.0, style=ProgressStyle…"
      ]
     },
     "metadata": {},
     "output_type": "display_data"
    },
    {
     "name": "stdout",
     "output_type": "stream",
     "text": [
      "\n"
     ]
    },
    {
     "data": {
      "application/vnd.jupyter.widget-view+json": {
       "model_id": "bf4272d5de124acba71cd7c01e1b460a",
       "version_major": 2,
       "version_minor": 0
      },
      "text/plain": [
       "HBox(children=(FloatProgress(value=0.0, description='MLPClassifier', max=1.0, style=ProgressStyle(description_…"
      ]
     },
     "metadata": {},
     "output_type": "display_data"
    },
    {
     "name": "stdout",
     "output_type": "stream",
     "text": [
      "\n"
     ]
    },
    {
     "data": {
      "application/vnd.jupyter.widget-view+json": {
       "model_id": "ced8a1eeefb947e69bca7e0bbe00e8a9",
       "version_major": 2,
       "version_minor": 0
      },
      "text/plain": [
       "HBox(children=(FloatProgress(value=0.0, description='SVC', max=1.0, style=ProgressStyle(description_width='ini…"
      ]
     },
     "metadata": {},
     "output_type": "display_data"
    },
    {
     "name": "stdout",
     "output_type": "stream",
     "text": [
      "\n"
     ]
    },
    {
     "data": {
      "application/vnd.jupyter.widget-view+json": {
       "model_id": "c2aefe0ec1814b5289fae2d3030b40e6",
       "version_major": 2,
       "version_minor": 0
      },
      "text/plain": [
       "HBox(children=(FloatProgress(value=0.0, description='DecisionTreeClassifier', max=1.0, style=ProgressStyle(des…"
      ]
     },
     "metadata": {},
     "output_type": "display_data"
    },
    {
     "name": "stdout",
     "output_type": "stream",
     "text": [
      "\n"
     ]
    },
    {
     "data": {
      "application/vnd.jupyter.widget-view+json": {
       "model_id": "54c4e50f4a82422abe93bf8630a5c906",
       "version_major": 2,
       "version_minor": 0
      },
      "text/plain": [
       "HBox(children=(FloatProgress(value=0.0, description='RandomForestClassifier', max=1.0, style=ProgressStyle(des…"
      ]
     },
     "metadata": {},
     "output_type": "display_data"
    },
    {
     "name": "stdout",
     "output_type": "stream",
     "text": [
      "\n"
     ]
    },
    {
     "data": {
      "application/vnd.jupyter.widget-view+json": {
       "model_id": "f32a80ae943e42d98fc1d28ff2a0e6e7",
       "version_major": 2,
       "version_minor": 0
      },
      "text/plain": [
       "HBox(children=(FloatProgress(value=0.0, description='GaussianNB', max=1.0, style=ProgressStyle(description_wid…"
      ]
     },
     "metadata": {},
     "output_type": "display_data"
    },
    {
     "name": "stdout",
     "output_type": "stream",
     "text": [
      "\n"
     ]
    },
    {
     "data": {
      "application/vnd.jupyter.widget-view+json": {
       "model_id": "f3273822576d45df889792f55f929217",
       "version_major": 2,
       "version_minor": 0
      },
      "text/plain": [
       "HBox(children=(FloatProgress(value=0.0, description='LinearDiscriminantAnalysis', max=1.0, style=ProgressStyle…"
      ]
     },
     "metadata": {},
     "output_type": "display_data"
    },
    {
     "name": "stdout",
     "output_type": "stream",
     "text": [
      "\n"
     ]
    },
    {
     "data": {
      "application/vnd.jupyter.widget-view+json": {
       "model_id": "c340da2ebdbf4208b0079c3044547da3",
       "version_major": 2,
       "version_minor": 0
      },
      "text/plain": [
       "HBox(children=(FloatProgress(value=0.0, description='MLPClassifier', max=1.0, style=ProgressStyle(description_…"
      ]
     },
     "metadata": {},
     "output_type": "display_data"
    },
    {
     "name": "stdout",
     "output_type": "stream",
     "text": [
      "\n"
     ]
    }
   ],
   "source": [
    "for d in [5, 10, 13, 15]:\n",
    "    add_column_to_results(risultati_minMax_scaler,\n",
    "                          'Details_reduce_PCA_{}_dim'.format(d),\n",
    "                          'RisultatiMinMaxScaler.json',\n",
    "                          X_details, y_details,\n",
    "                          models, grids,\n",
    "                          logger_name=logger,\n",
    "                          scaling=MinMaxScaler(),\n",
    "                          dim_reduction=PCA(n_components=d))"
   ]
  },
  {
   "cell_type": "code",
   "execution_count": 44,
   "metadata": {},
   "outputs": [],
   "source": [
    "#Dopo 5 ore non ha ancora finito\n",
    "\n",
    "#if addNew('Details_reduce_TSNE_5_dim', risultati_minMax_scaler):\n",
    "    #risultati_minMax_scaler['Details_reduce_TSNE_5_dim'] = {model_to_string[m]: np.mean(addestra(m, X_details, y_details, g, 9, 9, nome_dataset='Details_reduce_TSNE_5_dim', logger_name=logger, scaling=MinMaxScaler(), dim_reduction=TSNE(n_components=5, method='exact'))) for m, g in zip(models, grids)}"
   ]
  },
  {
   "cell_type": "code",
   "execution_count": 45,
   "metadata": {},
   "outputs": [],
   "source": [
    "#Dopo 4 ore non ha ancora finito\n",
    "\n",
    "#if addNew('Details_reduce_TSNE_10_dim', risultati_minMax_scaler):\n",
    "    #risultati_minMax_scaler['Details_reduce_TSNE_10_dim'] = {model_to_string[m]: np.mean(addestra(m, X_details, y_details, g, nome_dataset='Details_reduce_TSNE_10_dim',  9, 9, logger_name=logger, scaling=MinMaxScaler(), dim_reduction=TSNE(n_components=10, method='exact'))) for m, g in zip(models, grids)}"
   ]
  },
  {
   "cell_type": "code",
   "execution_count": 46,
   "metadata": {},
   "outputs": [
    {
     "data": {
      "text/plain": [
       "\"add_column_to_results(risultati_minMax_scaler,\\n                          'Details_reduce_PCA_15_dim_tSNE_10_dim',\\n                          'RisultatiMinMaxScaler.json',\\n                          X_details, y_details,\\n                          models, grids,\\n                          dim_reduction=PCA_and_tSNE(15, 10))\""
      ]
     },
     "execution_count": 46,
     "metadata": {},
     "output_type": "execute_result"
    }
   ],
   "source": [
    "#DA PROVARE\n",
    "'''add_column_to_results(risultati_minMax_scaler,\n",
    "                          'Details_reduce_PCA_15_dim_tSNE_10_dim',\n",
    "                          'RisultatiMinMaxScaler.json',\n",
    "                          X_details, y_details,\n",
    "                          models, grids,\n",
    "                          dim_reduction=PCA_and_tSNE(15, 10))'''"
   ]
  },
  {
   "cell_type": "code",
   "execution_count": 47,
   "metadata": {},
   "outputs": [
    {
     "data": {
      "text/plain": [
       "\"add_column_to_results(risultati_minMax_scaler,\\n                          'Details_reduce_PCA_10_dim_tSNE_5_dim',\\n                          'RisultatiMinMaxScaler.json',\\n                          X_details, y_details,\\n                          models, grids,\\n                          dim_reduction=PCA_and_tSNE(10, 5))\""
      ]
     },
     "execution_count": 47,
     "metadata": {},
     "output_type": "execute_result"
    }
   ],
   "source": [
    "#DA PROVARE\n",
    "'''add_column_to_results(risultati_minMax_scaler,\n",
    "                          'Details_reduce_PCA_10_dim_tSNE_5_dim',\n",
    "                          'RisultatiMinMaxScaler.json',\n",
    "                          X_details, y_details,\n",
    "                          models, grids,\n",
    "                          dim_reduction=PCA_and_tSNE(10, 5))'''"
   ]
  },
  {
   "cell_type": "code",
   "execution_count": 48,
   "metadata": {},
   "outputs": [
    {
     "data": {
      "application/vnd.jupyter.widget-view+json": {
       "model_id": "90681717b8be46a4ba425c4f2c411193",
       "version_major": 2,
       "version_minor": 0
      },
      "text/plain": [
       "HBox(children=(FloatProgress(value=0.0, description='SVC', max=1.0, style=ProgressStyle(description_width='ini…"
      ]
     },
     "metadata": {},
     "output_type": "display_data"
    },
    {
     "name": "stdout",
     "output_type": "stream",
     "text": [
      "\n"
     ]
    },
    {
     "data": {
      "application/vnd.jupyter.widget-view+json": {
       "model_id": "5e6f636c5045471c9ec1bdce1b190432",
       "version_major": 2,
       "version_minor": 0
      },
      "text/plain": [
       "HBox(children=(FloatProgress(value=0.0, description='DecisionTreeClassifier', max=1.0, style=ProgressStyle(des…"
      ]
     },
     "metadata": {},
     "output_type": "display_data"
    },
    {
     "name": "stdout",
     "output_type": "stream",
     "text": [
      "\n"
     ]
    },
    {
     "data": {
      "application/vnd.jupyter.widget-view+json": {
       "model_id": "c28702751bb948d6931f48121b74f773",
       "version_major": 2,
       "version_minor": 0
      },
      "text/plain": [
       "HBox(children=(FloatProgress(value=0.0, description='RandomForestClassifier', max=1.0, style=ProgressStyle(des…"
      ]
     },
     "metadata": {},
     "output_type": "display_data"
    },
    {
     "name": "stdout",
     "output_type": "stream",
     "text": [
      "\n"
     ]
    },
    {
     "data": {
      "application/vnd.jupyter.widget-view+json": {
       "model_id": "82ec5fe6102546cd958958d30bb0f365",
       "version_major": 2,
       "version_minor": 0
      },
      "text/plain": [
       "HBox(children=(FloatProgress(value=0.0, description='GaussianNB', max=1.0, style=ProgressStyle(description_wid…"
      ]
     },
     "metadata": {},
     "output_type": "display_data"
    },
    {
     "name": "stdout",
     "output_type": "stream",
     "text": [
      "\n"
     ]
    },
    {
     "data": {
      "application/vnd.jupyter.widget-view+json": {
       "model_id": "5636b49c773040a3aef64d3d9cb9f787",
       "version_major": 2,
       "version_minor": 0
      },
      "text/plain": [
       "HBox(children=(FloatProgress(value=0.0, description='LinearDiscriminantAnalysis', max=1.0, style=ProgressStyle…"
      ]
     },
     "metadata": {},
     "output_type": "display_data"
    },
    {
     "name": "stdout",
     "output_type": "stream",
     "text": [
      "\n"
     ]
    },
    {
     "data": {
      "application/vnd.jupyter.widget-view+json": {
       "model_id": "fa8fd57bd2ce4d70b23a0f180eaad1fa",
       "version_major": 2,
       "version_minor": 0
      },
      "text/plain": [
       "HBox(children=(FloatProgress(value=0.0, description='MLPClassifier', max=1.0, style=ProgressStyle(description_…"
      ]
     },
     "metadata": {},
     "output_type": "display_data"
    },
    {
     "name": "stdout",
     "output_type": "stream",
     "text": [
      "\n"
     ]
    }
   ],
   "source": [
    "from sklearn.manifold import TSNE\n",
    "\n",
    "add_column_to_results(risultati_minMax_scaler, 'Details_reduce_TSNE_13_dim', 'RisultatiMinMaxScaler.json', X_details, y_details, models, grids, scaling=MinMaxScaler(), logger_name=logger, dim_reduction=TSNE(n_components=13, method='exact'))"
   ]
  },
  {
   "cell_type": "code",
   "execution_count": 49,
   "metadata": {},
   "outputs": [
    {
     "data": {
      "application/vnd.jupyter.widget-view+json": {
       "model_id": "1c80e1bba46c4277a4f0496a3b0c17de",
       "version_major": 2,
       "version_minor": 0
      },
      "text/plain": [
       "HBox(children=(FloatProgress(value=0.0, description='SVC', max=1.0, style=ProgressStyle(description_width='ini…"
      ]
     },
     "metadata": {},
     "output_type": "display_data"
    },
    {
     "name": "stdout",
     "output_type": "stream",
     "text": [
      "\n"
     ]
    },
    {
     "data": {
      "application/vnd.jupyter.widget-view+json": {
       "model_id": "7969323ef6944539b38951f619891fb0",
       "version_major": 2,
       "version_minor": 0
      },
      "text/plain": [
       "HBox(children=(FloatProgress(value=0.0, description='DecisionTreeClassifier', max=1.0, style=ProgressStyle(des…"
      ]
     },
     "metadata": {},
     "output_type": "display_data"
    },
    {
     "name": "stdout",
     "output_type": "stream",
     "text": [
      "\n"
     ]
    },
    {
     "data": {
      "application/vnd.jupyter.widget-view+json": {
       "model_id": "6786711f17a1436fb3561e1ce7c3e65e",
       "version_major": 2,
       "version_minor": 0
      },
      "text/plain": [
       "HBox(children=(FloatProgress(value=0.0, description='RandomForestClassifier', max=1.0, style=ProgressStyle(des…"
      ]
     },
     "metadata": {},
     "output_type": "display_data"
    },
    {
     "name": "stdout",
     "output_type": "stream",
     "text": [
      "\n"
     ]
    },
    {
     "data": {
      "application/vnd.jupyter.widget-view+json": {
       "model_id": "d4bb58e08ec24a62bc680ba0ea0e6117",
       "version_major": 2,
       "version_minor": 0
      },
      "text/plain": [
       "HBox(children=(FloatProgress(value=0.0, description='GaussianNB', max=1.0, style=ProgressStyle(description_wid…"
      ]
     },
     "metadata": {},
     "output_type": "display_data"
    },
    {
     "name": "stdout",
     "output_type": "stream",
     "text": [
      "\n"
     ]
    },
    {
     "data": {
      "application/vnd.jupyter.widget-view+json": {
       "model_id": "ca667f2d2a24400f8e83c2096ae61534",
       "version_major": 2,
       "version_minor": 0
      },
      "text/plain": [
       "HBox(children=(FloatProgress(value=0.0, description='LinearDiscriminantAnalysis', max=1.0, style=ProgressStyle…"
      ]
     },
     "metadata": {},
     "output_type": "display_data"
    },
    {
     "name": "stdout",
     "output_type": "stream",
     "text": [
      "\n"
     ]
    },
    {
     "data": {
      "application/vnd.jupyter.widget-view+json": {
       "model_id": "5a33926b0b9b495d8bc76a74e6e91cdf",
       "version_major": 2,
       "version_minor": 0
      },
      "text/plain": [
       "HBox(children=(FloatProgress(value=0.0, description='MLPClassifier', max=1.0, style=ProgressStyle(description_…"
      ]
     },
     "metadata": {},
     "output_type": "display_data"
    },
    {
     "name": "stdout",
     "output_type": "stream",
     "text": [
      "\n"
     ]
    }
   ],
   "source": [
    "add_column_to_results(risultati_minMax_scaler, 'Details_reduce_TSNE_15_dim', 'RisultatiMinMaxScaler.json', X_details, y_details, models, grids, scaling=MinMaxScaler(), logger_name=logger, dim_reduction=TSNE(n_components=15, method='exact'))"
   ]
  },
  {
   "cell_type": "markdown",
   "metadata": {},
   "source": [
    "# Visualizzo tabella riassuntiva Usando come scaler MinMaxScaler"
   ]
  },
  {
   "cell_type": "code",
   "execution_count": 53,
   "metadata": {},
   "outputs": [
    {
     "data": {
      "text/html": [
       "<style  type=\"text/css\" >\n",
       "    #T_75caf4c8_4cbf_11ea_a067_676b705b9987row0_col2 {\n",
       "            background-color:  yellow;\n",
       "        }    #T_75caf4c8_4cbf_11ea_a067_676b705b9987row0_col4 {\n",
       "            background-color:  yellow;\n",
       "        }    #T_75caf4c8_4cbf_11ea_a067_676b705b9987row0_col5 {\n",
       "            background-color:  yellow;\n",
       "        }    #T_75caf4c8_4cbf_11ea_a067_676b705b9987row0_col8 {\n",
       "            background-color:  yellow;\n",
       "        }    #T_75caf4c8_4cbf_11ea_a067_676b705b9987row0_col9 {\n",
       "            background-color:  yellow;\n",
       "        }    #T_75caf4c8_4cbf_11ea_a067_676b705b9987row2_col6 {\n",
       "            background-color:  yellow;\n",
       "        }    #T_75caf4c8_4cbf_11ea_a067_676b705b9987row2_col7 {\n",
       "            background-color:  yellow;\n",
       "        }    #T_75caf4c8_4cbf_11ea_a067_676b705b9987row3_col10 {\n",
       "            background-color:  yellow;\n",
       "        }    #T_75caf4c8_4cbf_11ea_a067_676b705b9987row4_col0 {\n",
       "            background-color:  yellow;\n",
       "        }    #T_75caf4c8_4cbf_11ea_a067_676b705b9987row4_col1 {\n",
       "            background-color:  yellow;\n",
       "        }    #T_75caf4c8_4cbf_11ea_a067_676b705b9987row5_col3 {\n",
       "            background-color:  yellow;\n",
       "        }</style><table id=\"T_75caf4c8_4cbf_11ea_a067_676b705b9987\" ><thead>    <tr>        <th class=\"blank level0\" ></th>        <th class=\"col_heading level0 col0\" >Totali</th>        <th class=\"col_heading level0 col1\" >Totali_with_BMI</th>        <th class=\"col_heading level0 col2\" >Totali_with_DATA</th>        <th class=\"col_heading level0 col3\" >Totali_with_DATA_and_BMI</th>        <th class=\"col_heading level0 col4\" >Details</th>        <th class=\"col_heading level0 col5\" >Details_reduce_PCA_5_dim</th>        <th class=\"col_heading level0 col6\" >Details_reduce_PCA_10_dim</th>        <th class=\"col_heading level0 col7\" >Details_reduce_PCA_13_dim</th>        <th class=\"col_heading level0 col8\" >Details_reduce_PCA_15_dim</th>        <th class=\"col_heading level0 col9\" >Details_reduce_TSNE_13_dim</th>        <th class=\"col_heading level0 col10\" >Details_reduce_TSNE_15_dim</th>    </tr></thead><tbody>\n",
       "                <tr>\n",
       "                        <th id=\"T_75caf4c8_4cbf_11ea_a067_676b705b9987level0_row0\" class=\"row_heading level0 row0\" >SVC</th>\n",
       "                        <td id=\"T_75caf4c8_4cbf_11ea_a067_676b705b9987row0_col0\" class=\"data row0 col0\" >0.67</td>\n",
       "                        <td id=\"T_75caf4c8_4cbf_11ea_a067_676b705b9987row0_col1\" class=\"data row0 col1\" >0.62</td>\n",
       "                        <td id=\"T_75caf4c8_4cbf_11ea_a067_676b705b9987row0_col2\" class=\"data row0 col2\" >0.74</td>\n",
       "                        <td id=\"T_75caf4c8_4cbf_11ea_a067_676b705b9987row0_col3\" class=\"data row0 col3\" >0.74</td>\n",
       "                        <td id=\"T_75caf4c8_4cbf_11ea_a067_676b705b9987row0_col4\" class=\"data row0 col4\" >0.74</td>\n",
       "                        <td id=\"T_75caf4c8_4cbf_11ea_a067_676b705b9987row0_col5\" class=\"data row0 col5\" >0.70</td>\n",
       "                        <td id=\"T_75caf4c8_4cbf_11ea_a067_676b705b9987row0_col6\" class=\"data row0 col6\" >0.65</td>\n",
       "                        <td id=\"T_75caf4c8_4cbf_11ea_a067_676b705b9987row0_col7\" class=\"data row0 col7\" >0.67</td>\n",
       "                        <td id=\"T_75caf4c8_4cbf_11ea_a067_676b705b9987row0_col8\" class=\"data row0 col8\" >0.70</td>\n",
       "                        <td id=\"T_75caf4c8_4cbf_11ea_a067_676b705b9987row0_col9\" class=\"data row0 col9\" >0.58</td>\n",
       "                        <td id=\"T_75caf4c8_4cbf_11ea_a067_676b705b9987row0_col10\" class=\"data row0 col10\" >0.42</td>\n",
       "            </tr>\n",
       "            <tr>\n",
       "                        <th id=\"T_75caf4c8_4cbf_11ea_a067_676b705b9987level0_row1\" class=\"row_heading level0 row1\" >DT</th>\n",
       "                        <td id=\"T_75caf4c8_4cbf_11ea_a067_676b705b9987row1_col0\" class=\"data row1 col0\" >0.62</td>\n",
       "                        <td id=\"T_75caf4c8_4cbf_11ea_a067_676b705b9987row1_col1\" class=\"data row1 col1\" >0.55</td>\n",
       "                        <td id=\"T_75caf4c8_4cbf_11ea_a067_676b705b9987row1_col2\" class=\"data row1 col2\" >0.65</td>\n",
       "                        <td id=\"T_75caf4c8_4cbf_11ea_a067_676b705b9987row1_col3\" class=\"data row1 col3\" >0.64</td>\n",
       "                        <td id=\"T_75caf4c8_4cbf_11ea_a067_676b705b9987row1_col4\" class=\"data row1 col4\" >0.70</td>\n",
       "                        <td id=\"T_75caf4c8_4cbf_11ea_a067_676b705b9987row1_col5\" class=\"data row1 col5\" >0.62</td>\n",
       "                        <td id=\"T_75caf4c8_4cbf_11ea_a067_676b705b9987row1_col6\" class=\"data row1 col6\" >0.61</td>\n",
       "                        <td id=\"T_75caf4c8_4cbf_11ea_a067_676b705b9987row1_col7\" class=\"data row1 col7\" >0.57</td>\n",
       "                        <td id=\"T_75caf4c8_4cbf_11ea_a067_676b705b9987row1_col8\" class=\"data row1 col8\" >0.59</td>\n",
       "                        <td id=\"T_75caf4c8_4cbf_11ea_a067_676b705b9987row1_col9\" class=\"data row1 col9\" >0.52</td>\n",
       "                        <td id=\"T_75caf4c8_4cbf_11ea_a067_676b705b9987row1_col10\" class=\"data row1 col10\" >0.56</td>\n",
       "            </tr>\n",
       "            <tr>\n",
       "                        <th id=\"T_75caf4c8_4cbf_11ea_a067_676b705b9987level0_row2\" class=\"row_heading level0 row2\" >RF</th>\n",
       "                        <td id=\"T_75caf4c8_4cbf_11ea_a067_676b705b9987row2_col0\" class=\"data row2 col0\" >0.61</td>\n",
       "                        <td id=\"T_75caf4c8_4cbf_11ea_a067_676b705b9987row2_col1\" class=\"data row2 col1\" >0.62</td>\n",
       "                        <td id=\"T_75caf4c8_4cbf_11ea_a067_676b705b9987row2_col2\" class=\"data row2 col2\" >0.62</td>\n",
       "                        <td id=\"T_75caf4c8_4cbf_11ea_a067_676b705b9987row2_col3\" class=\"data row2 col3\" >0.62</td>\n",
       "                        <td id=\"T_75caf4c8_4cbf_11ea_a067_676b705b9987row2_col4\" class=\"data row2 col4\" >0.67</td>\n",
       "                        <td id=\"T_75caf4c8_4cbf_11ea_a067_676b705b9987row2_col5\" class=\"data row2 col5\" >0.66</td>\n",
       "                        <td id=\"T_75caf4c8_4cbf_11ea_a067_676b705b9987row2_col6\" class=\"data row2 col6\" >0.66</td>\n",
       "                        <td id=\"T_75caf4c8_4cbf_11ea_a067_676b705b9987row2_col7\" class=\"data row2 col7\" >0.71</td>\n",
       "                        <td id=\"T_75caf4c8_4cbf_11ea_a067_676b705b9987row2_col8\" class=\"data row2 col8\" >0.68</td>\n",
       "                        <td id=\"T_75caf4c8_4cbf_11ea_a067_676b705b9987row2_col9\" class=\"data row2 col9\" >0.46</td>\n",
       "                        <td id=\"T_75caf4c8_4cbf_11ea_a067_676b705b9987row2_col10\" class=\"data row2 col10\" >0.52</td>\n",
       "            </tr>\n",
       "            <tr>\n",
       "                        <th id=\"T_75caf4c8_4cbf_11ea_a067_676b705b9987level0_row3\" class=\"row_heading level0 row3\" >NB</th>\n",
       "                        <td id=\"T_75caf4c8_4cbf_11ea_a067_676b705b9987row3_col0\" class=\"data row3 col0\" >0.69</td>\n",
       "                        <td id=\"T_75caf4c8_4cbf_11ea_a067_676b705b9987row3_col1\" class=\"data row3 col1\" >0.69</td>\n",
       "                        <td id=\"T_75caf4c8_4cbf_11ea_a067_676b705b9987row3_col2\" class=\"data row3 col2\" >0.73</td>\n",
       "                        <td id=\"T_75caf4c8_4cbf_11ea_a067_676b705b9987row3_col3\" class=\"data row3 col3\" >0.75</td>\n",
       "                        <td id=\"T_75caf4c8_4cbf_11ea_a067_676b705b9987row3_col4\" class=\"data row3 col4\" >0.63</td>\n",
       "                        <td id=\"T_75caf4c8_4cbf_11ea_a067_676b705b9987row3_col5\" class=\"data row3 col5\" >0.67</td>\n",
       "                        <td id=\"T_75caf4c8_4cbf_11ea_a067_676b705b9987row3_col6\" class=\"data row3 col6\" >0.65</td>\n",
       "                        <td id=\"T_75caf4c8_4cbf_11ea_a067_676b705b9987row3_col7\" class=\"data row3 col7\" >0.67</td>\n",
       "                        <td id=\"T_75caf4c8_4cbf_11ea_a067_676b705b9987row3_col8\" class=\"data row3 col8\" >0.67</td>\n",
       "                        <td id=\"T_75caf4c8_4cbf_11ea_a067_676b705b9987row3_col9\" class=\"data row3 col9\" >0.57</td>\n",
       "                        <td id=\"T_75caf4c8_4cbf_11ea_a067_676b705b9987row3_col10\" class=\"data row3 col10\" >0.59</td>\n",
       "            </tr>\n",
       "            <tr>\n",
       "                        <th id=\"T_75caf4c8_4cbf_11ea_a067_676b705b9987level0_row4\" class=\"row_heading level0 row4\" >LD</th>\n",
       "                        <td id=\"T_75caf4c8_4cbf_11ea_a067_676b705b9987row4_col0\" class=\"data row4 col0\" >0.71</td>\n",
       "                        <td id=\"T_75caf4c8_4cbf_11ea_a067_676b705b9987row4_col1\" class=\"data row4 col1\" >0.69</td>\n",
       "                        <td id=\"T_75caf4c8_4cbf_11ea_a067_676b705b9987row4_col2\" class=\"data row4 col2\" >0.73</td>\n",
       "                        <td id=\"T_75caf4c8_4cbf_11ea_a067_676b705b9987row4_col3\" class=\"data row4 col3\" >0.72</td>\n",
       "                        <td id=\"T_75caf4c8_4cbf_11ea_a067_676b705b9987row4_col4\" class=\"data row4 col4\" >0.64</td>\n",
       "                        <td id=\"T_75caf4c8_4cbf_11ea_a067_676b705b9987row4_col5\" class=\"data row4 col5\" >0.66</td>\n",
       "                        <td id=\"T_75caf4c8_4cbf_11ea_a067_676b705b9987row4_col6\" class=\"data row4 col6\" >0.62</td>\n",
       "                        <td id=\"T_75caf4c8_4cbf_11ea_a067_676b705b9987row4_col7\" class=\"data row4 col7\" >0.60</td>\n",
       "                        <td id=\"T_75caf4c8_4cbf_11ea_a067_676b705b9987row4_col8\" class=\"data row4 col8\" >0.62</td>\n",
       "                        <td id=\"T_75caf4c8_4cbf_11ea_a067_676b705b9987row4_col9\" class=\"data row4 col9\" >0.44</td>\n",
       "                        <td id=\"T_75caf4c8_4cbf_11ea_a067_676b705b9987row4_col10\" class=\"data row4 col10\" >0.40</td>\n",
       "            </tr>\n",
       "            <tr>\n",
       "                        <th id=\"T_75caf4c8_4cbf_11ea_a067_676b705b9987level0_row5\" class=\"row_heading level0 row5\" >MLP</th>\n",
       "                        <td id=\"T_75caf4c8_4cbf_11ea_a067_676b705b9987row5_col0\" class=\"data row5 col0\" >0.63</td>\n",
       "                        <td id=\"T_75caf4c8_4cbf_11ea_a067_676b705b9987row5_col1\" class=\"data row5 col1\" >0.65</td>\n",
       "                        <td id=\"T_75caf4c8_4cbf_11ea_a067_676b705b9987row5_col2\" class=\"data row5 col2\" >0.71</td>\n",
       "                        <td id=\"T_75caf4c8_4cbf_11ea_a067_676b705b9987row5_col3\" class=\"data row5 col3\" >0.77</td>\n",
       "                        <td id=\"T_75caf4c8_4cbf_11ea_a067_676b705b9987row5_col4\" class=\"data row5 col4\" >0.66</td>\n",
       "                        <td id=\"T_75caf4c8_4cbf_11ea_a067_676b705b9987row5_col5\" class=\"data row5 col5\" >0.65</td>\n",
       "                        <td id=\"T_75caf4c8_4cbf_11ea_a067_676b705b9987row5_col6\" class=\"data row5 col6\" >0.64</td>\n",
       "                        <td id=\"T_75caf4c8_4cbf_11ea_a067_676b705b9987row5_col7\" class=\"data row5 col7\" >0.61</td>\n",
       "                        <td id=\"T_75caf4c8_4cbf_11ea_a067_676b705b9987row5_col8\" class=\"data row5 col8\" >0.63</td>\n",
       "                        <td id=\"T_75caf4c8_4cbf_11ea_a067_676b705b9987row5_col9\" class=\"data row5 col9\" >0.52</td>\n",
       "                        <td id=\"T_75caf4c8_4cbf_11ea_a067_676b705b9987row5_col10\" class=\"data row5 col10\" >0.44</td>\n",
       "            </tr>\n",
       "    </tbody></table>"
      ],
      "text/plain": [
       "<pandas.io.formats.style.Styler at 0x7fa16c9ae890>"
      ]
     },
     "execution_count": 53,
     "metadata": {},
     "output_type": "execute_result"
    }
   ],
   "source": [
    "tableMinMaxScaler = pd.DataFrame(risultati_minMax_scaler)\n",
    "tableMinMaxScaler.style.apply(highlight_maxs, axis=0).format(float_formatter)"
   ]
  },
  {
   "cell_type": "code",
   "execution_count": 51,
   "metadata": {},
   "outputs": [
    {
     "data": {
      "text/html": [
       "<style  type=\"text/css\" >\n",
       "    #T_75c4bdf6_4cbf_11ea_a067_676b705b9987row5_col3 {\n",
       "            background-color:  darkorange;\n",
       "        }</style><table id=\"T_75c4bdf6_4cbf_11ea_a067_676b705b9987\" ><thead>    <tr>        <th class=\"blank level0\" ></th>        <th class=\"col_heading level0 col0\" >Totali</th>        <th class=\"col_heading level0 col1\" >Totali_with_BMI</th>        <th class=\"col_heading level0 col2\" >Totali_with_DATA</th>        <th class=\"col_heading level0 col3\" >Totali_with_DATA_and_BMI</th>        <th class=\"col_heading level0 col4\" >Details</th>        <th class=\"col_heading level0 col5\" >Details_reduce_PCA_5_dim</th>        <th class=\"col_heading level0 col6\" >Details_reduce_PCA_10_dim</th>        <th class=\"col_heading level0 col7\" >Details_reduce_PCA_13_dim</th>        <th class=\"col_heading level0 col8\" >Details_reduce_PCA_15_dim</th>        <th class=\"col_heading level0 col9\" >Details_reduce_TSNE_13_dim</th>        <th class=\"col_heading level0 col10\" >Details_reduce_TSNE_15_dim</th>    </tr></thead><tbody>\n",
       "                <tr>\n",
       "                        <th id=\"T_75c4bdf6_4cbf_11ea_a067_676b705b9987level0_row0\" class=\"row_heading level0 row0\" >SVC</th>\n",
       "                        <td id=\"T_75c4bdf6_4cbf_11ea_a067_676b705b9987row0_col0\" class=\"data row0 col0\" >0.67</td>\n",
       "                        <td id=\"T_75c4bdf6_4cbf_11ea_a067_676b705b9987row0_col1\" class=\"data row0 col1\" >0.62</td>\n",
       "                        <td id=\"T_75c4bdf6_4cbf_11ea_a067_676b705b9987row0_col2\" class=\"data row0 col2\" >0.74</td>\n",
       "                        <td id=\"T_75c4bdf6_4cbf_11ea_a067_676b705b9987row0_col3\" class=\"data row0 col3\" >0.74</td>\n",
       "                        <td id=\"T_75c4bdf6_4cbf_11ea_a067_676b705b9987row0_col4\" class=\"data row0 col4\" >0.74</td>\n",
       "                        <td id=\"T_75c4bdf6_4cbf_11ea_a067_676b705b9987row0_col5\" class=\"data row0 col5\" >0.70</td>\n",
       "                        <td id=\"T_75c4bdf6_4cbf_11ea_a067_676b705b9987row0_col6\" class=\"data row0 col6\" >0.65</td>\n",
       "                        <td id=\"T_75c4bdf6_4cbf_11ea_a067_676b705b9987row0_col7\" class=\"data row0 col7\" >0.67</td>\n",
       "                        <td id=\"T_75c4bdf6_4cbf_11ea_a067_676b705b9987row0_col8\" class=\"data row0 col8\" >0.70</td>\n",
       "                        <td id=\"T_75c4bdf6_4cbf_11ea_a067_676b705b9987row0_col9\" class=\"data row0 col9\" >0.58</td>\n",
       "                        <td id=\"T_75c4bdf6_4cbf_11ea_a067_676b705b9987row0_col10\" class=\"data row0 col10\" >0.42</td>\n",
       "            </tr>\n",
       "            <tr>\n",
       "                        <th id=\"T_75c4bdf6_4cbf_11ea_a067_676b705b9987level0_row1\" class=\"row_heading level0 row1\" >DT</th>\n",
       "                        <td id=\"T_75c4bdf6_4cbf_11ea_a067_676b705b9987row1_col0\" class=\"data row1 col0\" >0.62</td>\n",
       "                        <td id=\"T_75c4bdf6_4cbf_11ea_a067_676b705b9987row1_col1\" class=\"data row1 col1\" >0.55</td>\n",
       "                        <td id=\"T_75c4bdf6_4cbf_11ea_a067_676b705b9987row1_col2\" class=\"data row1 col2\" >0.65</td>\n",
       "                        <td id=\"T_75c4bdf6_4cbf_11ea_a067_676b705b9987row1_col3\" class=\"data row1 col3\" >0.64</td>\n",
       "                        <td id=\"T_75c4bdf6_4cbf_11ea_a067_676b705b9987row1_col4\" class=\"data row1 col4\" >0.70</td>\n",
       "                        <td id=\"T_75c4bdf6_4cbf_11ea_a067_676b705b9987row1_col5\" class=\"data row1 col5\" >0.62</td>\n",
       "                        <td id=\"T_75c4bdf6_4cbf_11ea_a067_676b705b9987row1_col6\" class=\"data row1 col6\" >0.61</td>\n",
       "                        <td id=\"T_75c4bdf6_4cbf_11ea_a067_676b705b9987row1_col7\" class=\"data row1 col7\" >0.57</td>\n",
       "                        <td id=\"T_75c4bdf6_4cbf_11ea_a067_676b705b9987row1_col8\" class=\"data row1 col8\" >0.59</td>\n",
       "                        <td id=\"T_75c4bdf6_4cbf_11ea_a067_676b705b9987row1_col9\" class=\"data row1 col9\" >0.52</td>\n",
       "                        <td id=\"T_75c4bdf6_4cbf_11ea_a067_676b705b9987row1_col10\" class=\"data row1 col10\" >0.56</td>\n",
       "            </tr>\n",
       "            <tr>\n",
       "                        <th id=\"T_75c4bdf6_4cbf_11ea_a067_676b705b9987level0_row2\" class=\"row_heading level0 row2\" >RF</th>\n",
       "                        <td id=\"T_75c4bdf6_4cbf_11ea_a067_676b705b9987row2_col0\" class=\"data row2 col0\" >0.61</td>\n",
       "                        <td id=\"T_75c4bdf6_4cbf_11ea_a067_676b705b9987row2_col1\" class=\"data row2 col1\" >0.62</td>\n",
       "                        <td id=\"T_75c4bdf6_4cbf_11ea_a067_676b705b9987row2_col2\" class=\"data row2 col2\" >0.62</td>\n",
       "                        <td id=\"T_75c4bdf6_4cbf_11ea_a067_676b705b9987row2_col3\" class=\"data row2 col3\" >0.62</td>\n",
       "                        <td id=\"T_75c4bdf6_4cbf_11ea_a067_676b705b9987row2_col4\" class=\"data row2 col4\" >0.67</td>\n",
       "                        <td id=\"T_75c4bdf6_4cbf_11ea_a067_676b705b9987row2_col5\" class=\"data row2 col5\" >0.66</td>\n",
       "                        <td id=\"T_75c4bdf6_4cbf_11ea_a067_676b705b9987row2_col6\" class=\"data row2 col6\" >0.66</td>\n",
       "                        <td id=\"T_75c4bdf6_4cbf_11ea_a067_676b705b9987row2_col7\" class=\"data row2 col7\" >0.71</td>\n",
       "                        <td id=\"T_75c4bdf6_4cbf_11ea_a067_676b705b9987row2_col8\" class=\"data row2 col8\" >0.68</td>\n",
       "                        <td id=\"T_75c4bdf6_4cbf_11ea_a067_676b705b9987row2_col9\" class=\"data row2 col9\" >0.46</td>\n",
       "                        <td id=\"T_75c4bdf6_4cbf_11ea_a067_676b705b9987row2_col10\" class=\"data row2 col10\" >0.52</td>\n",
       "            </tr>\n",
       "            <tr>\n",
       "                        <th id=\"T_75c4bdf6_4cbf_11ea_a067_676b705b9987level0_row3\" class=\"row_heading level0 row3\" >NB</th>\n",
       "                        <td id=\"T_75c4bdf6_4cbf_11ea_a067_676b705b9987row3_col0\" class=\"data row3 col0\" >0.69</td>\n",
       "                        <td id=\"T_75c4bdf6_4cbf_11ea_a067_676b705b9987row3_col1\" class=\"data row3 col1\" >0.69</td>\n",
       "                        <td id=\"T_75c4bdf6_4cbf_11ea_a067_676b705b9987row3_col2\" class=\"data row3 col2\" >0.73</td>\n",
       "                        <td id=\"T_75c4bdf6_4cbf_11ea_a067_676b705b9987row3_col3\" class=\"data row3 col3\" >0.75</td>\n",
       "                        <td id=\"T_75c4bdf6_4cbf_11ea_a067_676b705b9987row3_col4\" class=\"data row3 col4\" >0.63</td>\n",
       "                        <td id=\"T_75c4bdf6_4cbf_11ea_a067_676b705b9987row3_col5\" class=\"data row3 col5\" >0.67</td>\n",
       "                        <td id=\"T_75c4bdf6_4cbf_11ea_a067_676b705b9987row3_col6\" class=\"data row3 col6\" >0.65</td>\n",
       "                        <td id=\"T_75c4bdf6_4cbf_11ea_a067_676b705b9987row3_col7\" class=\"data row3 col7\" >0.67</td>\n",
       "                        <td id=\"T_75c4bdf6_4cbf_11ea_a067_676b705b9987row3_col8\" class=\"data row3 col8\" >0.67</td>\n",
       "                        <td id=\"T_75c4bdf6_4cbf_11ea_a067_676b705b9987row3_col9\" class=\"data row3 col9\" >0.57</td>\n",
       "                        <td id=\"T_75c4bdf6_4cbf_11ea_a067_676b705b9987row3_col10\" class=\"data row3 col10\" >0.59</td>\n",
       "            </tr>\n",
       "            <tr>\n",
       "                        <th id=\"T_75c4bdf6_4cbf_11ea_a067_676b705b9987level0_row4\" class=\"row_heading level0 row4\" >LD</th>\n",
       "                        <td id=\"T_75c4bdf6_4cbf_11ea_a067_676b705b9987row4_col0\" class=\"data row4 col0\" >0.71</td>\n",
       "                        <td id=\"T_75c4bdf6_4cbf_11ea_a067_676b705b9987row4_col1\" class=\"data row4 col1\" >0.69</td>\n",
       "                        <td id=\"T_75c4bdf6_4cbf_11ea_a067_676b705b9987row4_col2\" class=\"data row4 col2\" >0.73</td>\n",
       "                        <td id=\"T_75c4bdf6_4cbf_11ea_a067_676b705b9987row4_col3\" class=\"data row4 col3\" >0.72</td>\n",
       "                        <td id=\"T_75c4bdf6_4cbf_11ea_a067_676b705b9987row4_col4\" class=\"data row4 col4\" >0.64</td>\n",
       "                        <td id=\"T_75c4bdf6_4cbf_11ea_a067_676b705b9987row4_col5\" class=\"data row4 col5\" >0.66</td>\n",
       "                        <td id=\"T_75c4bdf6_4cbf_11ea_a067_676b705b9987row4_col6\" class=\"data row4 col6\" >0.62</td>\n",
       "                        <td id=\"T_75c4bdf6_4cbf_11ea_a067_676b705b9987row4_col7\" class=\"data row4 col7\" >0.60</td>\n",
       "                        <td id=\"T_75c4bdf6_4cbf_11ea_a067_676b705b9987row4_col8\" class=\"data row4 col8\" >0.62</td>\n",
       "                        <td id=\"T_75c4bdf6_4cbf_11ea_a067_676b705b9987row4_col9\" class=\"data row4 col9\" >0.44</td>\n",
       "                        <td id=\"T_75c4bdf6_4cbf_11ea_a067_676b705b9987row4_col10\" class=\"data row4 col10\" >0.40</td>\n",
       "            </tr>\n",
       "            <tr>\n",
       "                        <th id=\"T_75c4bdf6_4cbf_11ea_a067_676b705b9987level0_row5\" class=\"row_heading level0 row5\" >MLP</th>\n",
       "                        <td id=\"T_75c4bdf6_4cbf_11ea_a067_676b705b9987row5_col0\" class=\"data row5 col0\" >0.63</td>\n",
       "                        <td id=\"T_75c4bdf6_4cbf_11ea_a067_676b705b9987row5_col1\" class=\"data row5 col1\" >0.65</td>\n",
       "                        <td id=\"T_75c4bdf6_4cbf_11ea_a067_676b705b9987row5_col2\" class=\"data row5 col2\" >0.71</td>\n",
       "                        <td id=\"T_75c4bdf6_4cbf_11ea_a067_676b705b9987row5_col3\" class=\"data row5 col3\" >0.77</td>\n",
       "                        <td id=\"T_75c4bdf6_4cbf_11ea_a067_676b705b9987row5_col4\" class=\"data row5 col4\" >0.66</td>\n",
       "                        <td id=\"T_75c4bdf6_4cbf_11ea_a067_676b705b9987row5_col5\" class=\"data row5 col5\" >0.65</td>\n",
       "                        <td id=\"T_75c4bdf6_4cbf_11ea_a067_676b705b9987row5_col6\" class=\"data row5 col6\" >0.64</td>\n",
       "                        <td id=\"T_75c4bdf6_4cbf_11ea_a067_676b705b9987row5_col7\" class=\"data row5 col7\" >0.61</td>\n",
       "                        <td id=\"T_75c4bdf6_4cbf_11ea_a067_676b705b9987row5_col8\" class=\"data row5 col8\" >0.63</td>\n",
       "                        <td id=\"T_75c4bdf6_4cbf_11ea_a067_676b705b9987row5_col9\" class=\"data row5 col9\" >0.52</td>\n",
       "                        <td id=\"T_75c4bdf6_4cbf_11ea_a067_676b705b9987row5_col10\" class=\"data row5 col10\" >0.44</td>\n",
       "            </tr>\n",
       "    </tbody></table>"
      ],
      "text/plain": [
       "<pandas.io.formats.style.Styler at 0x7fa156d6db10>"
      ]
     },
     "execution_count": 51,
     "metadata": {},
     "output_type": "execute_result"
    }
   ],
   "source": [
    "tableMinMaxScaler.style.apply(highlight_max, axis=None).format(float_formatter)"
   ]
  },
  {
   "cell_type": "markdown",
   "metadata": {},
   "source": [
    "# Visualizzo il massimo score possibile relativo ad ogni dataset"
   ]
  },
  {
   "cell_type": "code",
   "execution_count": 52,
   "metadata": {},
   "outputs": [
    {
     "data": {
      "text/html": [
       "<style  type=\"text/css\" >\n",
       "    #T_75c6b37c_4cbf_11ea_a067_676b705b9987row3_col0 {\n",
       "            background-color:  darkorange;\n",
       "        }</style><table id=\"T_75c6b37c_4cbf_11ea_a067_676b705b9987\" ><thead>    <tr>        <th class=\"blank level0\" ></th>        <th class=\"col_heading level0 col0\" >MinMaxScaler</th>    </tr></thead><tbody>\n",
       "                <tr>\n",
       "                        <th id=\"T_75c6b37c_4cbf_11ea_a067_676b705b9987level0_row0\" class=\"row_heading level0 row0\" >Totali</th>\n",
       "                        <td id=\"T_75c6b37c_4cbf_11ea_a067_676b705b9987row0_col0\" class=\"data row0 col0\" >0.71</td>\n",
       "            </tr>\n",
       "            <tr>\n",
       "                        <th id=\"T_75c6b37c_4cbf_11ea_a067_676b705b9987level0_row1\" class=\"row_heading level0 row1\" >Totali_with_BMI</th>\n",
       "                        <td id=\"T_75c6b37c_4cbf_11ea_a067_676b705b9987row1_col0\" class=\"data row1 col0\" >0.69</td>\n",
       "            </tr>\n",
       "            <tr>\n",
       "                        <th id=\"T_75c6b37c_4cbf_11ea_a067_676b705b9987level0_row2\" class=\"row_heading level0 row2\" >Totali_with_DATA</th>\n",
       "                        <td id=\"T_75c6b37c_4cbf_11ea_a067_676b705b9987row2_col0\" class=\"data row2 col0\" >0.74</td>\n",
       "            </tr>\n",
       "            <tr>\n",
       "                        <th id=\"T_75c6b37c_4cbf_11ea_a067_676b705b9987level0_row3\" class=\"row_heading level0 row3\" >Totali_with_DATA_and_BMI</th>\n",
       "                        <td id=\"T_75c6b37c_4cbf_11ea_a067_676b705b9987row3_col0\" class=\"data row3 col0\" >0.77</td>\n",
       "            </tr>\n",
       "            <tr>\n",
       "                        <th id=\"T_75c6b37c_4cbf_11ea_a067_676b705b9987level0_row4\" class=\"row_heading level0 row4\" >Details</th>\n",
       "                        <td id=\"T_75c6b37c_4cbf_11ea_a067_676b705b9987row4_col0\" class=\"data row4 col0\" >0.74</td>\n",
       "            </tr>\n",
       "            <tr>\n",
       "                        <th id=\"T_75c6b37c_4cbf_11ea_a067_676b705b9987level0_row5\" class=\"row_heading level0 row5\" >Details_reduce_PCA_5_dim</th>\n",
       "                        <td id=\"T_75c6b37c_4cbf_11ea_a067_676b705b9987row5_col0\" class=\"data row5 col0\" >0.70</td>\n",
       "            </tr>\n",
       "            <tr>\n",
       "                        <th id=\"T_75c6b37c_4cbf_11ea_a067_676b705b9987level0_row6\" class=\"row_heading level0 row6\" >Details_reduce_PCA_10_dim</th>\n",
       "                        <td id=\"T_75c6b37c_4cbf_11ea_a067_676b705b9987row6_col0\" class=\"data row6 col0\" >0.66</td>\n",
       "            </tr>\n",
       "            <tr>\n",
       "                        <th id=\"T_75c6b37c_4cbf_11ea_a067_676b705b9987level0_row7\" class=\"row_heading level0 row7\" >Details_reduce_PCA_13_dim</th>\n",
       "                        <td id=\"T_75c6b37c_4cbf_11ea_a067_676b705b9987row7_col0\" class=\"data row7 col0\" >0.71</td>\n",
       "            </tr>\n",
       "            <tr>\n",
       "                        <th id=\"T_75c6b37c_4cbf_11ea_a067_676b705b9987level0_row8\" class=\"row_heading level0 row8\" >Details_reduce_PCA_15_dim</th>\n",
       "                        <td id=\"T_75c6b37c_4cbf_11ea_a067_676b705b9987row8_col0\" class=\"data row8 col0\" >0.70</td>\n",
       "            </tr>\n",
       "            <tr>\n",
       "                        <th id=\"T_75c6b37c_4cbf_11ea_a067_676b705b9987level0_row9\" class=\"row_heading level0 row9\" >Details_reduce_TSNE_13_dim</th>\n",
       "                        <td id=\"T_75c6b37c_4cbf_11ea_a067_676b705b9987row9_col0\" class=\"data row9 col0\" >0.58</td>\n",
       "            </tr>\n",
       "            <tr>\n",
       "                        <th id=\"T_75c6b37c_4cbf_11ea_a067_676b705b9987level0_row10\" class=\"row_heading level0 row10\" >Details_reduce_TSNE_15_dim</th>\n",
       "                        <td id=\"T_75c6b37c_4cbf_11ea_a067_676b705b9987row10_col0\" class=\"data row10 col0\" >0.59</td>\n",
       "            </tr>\n",
       "    </tbody></table>"
      ],
      "text/plain": [
       "<pandas.io.formats.style.Styler at 0x7fa156b5ce90>"
      ]
     },
     "execution_count": 52,
     "metadata": {},
     "output_type": "execute_result"
    }
   ],
   "source": [
    "tableMaxMinMasxScaler = pd.DataFrame(tableMinMaxScaler.max(), columns=['MinMaxScaler'])\n",
    "tableMaxMinMasxScaler.style.apply(highlight_max, axis=0).format(float_formatter)"
   ]
  },
  {
   "cell_type": "markdown",
   "metadata": {},
   "source": [
    "#### Lo score massimo calcolato usando MinMaxScaler è stato ottenuto usando 'Total_with_DATA' con MLP ed è di 0.77"
   ]
  },
  {
   "cell_type": "markdown",
   "metadata": {},
   "source": [
    "# Usando come scaler RobustScaler"
   ]
  },
  {
   "cell_type": "code",
   "execution_count": 55,
   "metadata": {},
   "outputs": [],
   "source": [
    "from sklearn.preprocessing import RobustScaler\n",
    "import pandas as pd\n",
    "\n",
    "risultati_RobustScaler = {}"
   ]
  },
  {
   "cell_type": "code",
   "execution_count": 56,
   "metadata": {},
   "outputs": [
    {
     "data": {
      "application/vnd.jupyter.widget-view+json": {
       "model_id": "f5366acace6d4a1ca5abf50e24031f02",
       "version_major": 2,
       "version_minor": 0
      },
      "text/plain": [
       "HBox(children=(FloatProgress(value=0.0, description='SVC', max=1.0, style=ProgressStyle(description_width='ini…"
      ]
     },
     "metadata": {},
     "output_type": "display_data"
    },
    {
     "name": "stdout",
     "output_type": "stream",
     "text": [
      "\n"
     ]
    },
    {
     "data": {
      "application/vnd.jupyter.widget-view+json": {
       "model_id": "1718dbe9458f4028a9fb856ec366da7a",
       "version_major": 2,
       "version_minor": 0
      },
      "text/plain": [
       "HBox(children=(FloatProgress(value=0.0, description='DecisionTreeClassifier', max=1.0, style=ProgressStyle(des…"
      ]
     },
     "metadata": {},
     "output_type": "display_data"
    },
    {
     "name": "stdout",
     "output_type": "stream",
     "text": [
      "\n"
     ]
    },
    {
     "data": {
      "application/vnd.jupyter.widget-view+json": {
       "model_id": "b513ac8902f44d838b5a59b2199554a4",
       "version_major": 2,
       "version_minor": 0
      },
      "text/plain": [
       "HBox(children=(FloatProgress(value=0.0, description='RandomForestClassifier', max=1.0, style=ProgressStyle(des…"
      ]
     },
     "metadata": {},
     "output_type": "display_data"
    },
    {
     "name": "stdout",
     "output_type": "stream",
     "text": [
      "\n"
     ]
    },
    {
     "data": {
      "application/vnd.jupyter.widget-view+json": {
       "model_id": "29872b04ce2d44179cac2dd36ca88209",
       "version_major": 2,
       "version_minor": 0
      },
      "text/plain": [
       "HBox(children=(FloatProgress(value=0.0, description='GaussianNB', max=1.0, style=ProgressStyle(description_wid…"
      ]
     },
     "metadata": {},
     "output_type": "display_data"
    },
    {
     "name": "stdout",
     "output_type": "stream",
     "text": [
      "\n"
     ]
    },
    {
     "data": {
      "application/vnd.jupyter.widget-view+json": {
       "model_id": "002a10ef0364426eb98574e80d455bf9",
       "version_major": 2,
       "version_minor": 0
      },
      "text/plain": [
       "HBox(children=(FloatProgress(value=0.0, description='LinearDiscriminantAnalysis', max=1.0, style=ProgressStyle…"
      ]
     },
     "metadata": {},
     "output_type": "display_data"
    },
    {
     "name": "stdout",
     "output_type": "stream",
     "text": [
      "\n"
     ]
    },
    {
     "data": {
      "application/vnd.jupyter.widget-view+json": {
       "model_id": "5a9eeb45640a4c66a60a1183716ffd9f",
       "version_major": 2,
       "version_minor": 0
      },
      "text/plain": [
       "HBox(children=(FloatProgress(value=0.0, description='MLPClassifier', max=1.0, style=ProgressStyle(description_…"
      ]
     },
     "metadata": {},
     "output_type": "display_data"
    },
    {
     "name": "stdout",
     "output_type": "stream",
     "text": [
      "\n"
     ]
    }
   ],
   "source": [
    "add_column_to_results(risultati_RobustScaler, 'Totali', 'RisultatiRobustScaler.json', X_total, y_total, models, grids, scaling=RobustScaler(), logger_name=logger)"
   ]
  },
  {
   "cell_type": "code",
   "execution_count": 57,
   "metadata": {},
   "outputs": [
    {
     "data": {
      "application/vnd.jupyter.widget-view+json": {
       "model_id": "7a6061886428412792e36f51eb85aa63",
       "version_major": 2,
       "version_minor": 0
      },
      "text/plain": [
       "HBox(children=(FloatProgress(value=0.0, description='SVC', max=1.0, style=ProgressStyle(description_width='ini…"
      ]
     },
     "metadata": {},
     "output_type": "display_data"
    },
    {
     "name": "stdout",
     "output_type": "stream",
     "text": [
      "\n"
     ]
    },
    {
     "data": {
      "application/vnd.jupyter.widget-view+json": {
       "model_id": "a3d434178d2044e2836ed2e93f73a6bd",
       "version_major": 2,
       "version_minor": 0
      },
      "text/plain": [
       "HBox(children=(FloatProgress(value=0.0, description='DecisionTreeClassifier', max=1.0, style=ProgressStyle(des…"
      ]
     },
     "metadata": {},
     "output_type": "display_data"
    },
    {
     "name": "stdout",
     "output_type": "stream",
     "text": [
      "\n"
     ]
    },
    {
     "data": {
      "application/vnd.jupyter.widget-view+json": {
       "model_id": "155c54ac10924baf924ff369a3cccb00",
       "version_major": 2,
       "version_minor": 0
      },
      "text/plain": [
       "HBox(children=(FloatProgress(value=0.0, description='RandomForestClassifier', max=1.0, style=ProgressStyle(des…"
      ]
     },
     "metadata": {},
     "output_type": "display_data"
    },
    {
     "name": "stdout",
     "output_type": "stream",
     "text": [
      "\n"
     ]
    },
    {
     "data": {
      "application/vnd.jupyter.widget-view+json": {
       "model_id": "2ce00c3712464ca3bd15657317d16155",
       "version_major": 2,
       "version_minor": 0
      },
      "text/plain": [
       "HBox(children=(FloatProgress(value=0.0, description='GaussianNB', max=1.0, style=ProgressStyle(description_wid…"
      ]
     },
     "metadata": {},
     "output_type": "display_data"
    },
    {
     "name": "stdout",
     "output_type": "stream",
     "text": [
      "\n"
     ]
    },
    {
     "data": {
      "application/vnd.jupyter.widget-view+json": {
       "model_id": "e661aae34569435ca16d57be1ced7cc3",
       "version_major": 2,
       "version_minor": 0
      },
      "text/plain": [
       "HBox(children=(FloatProgress(value=0.0, description='LinearDiscriminantAnalysis', max=1.0, style=ProgressStyle…"
      ]
     },
     "metadata": {},
     "output_type": "display_data"
    },
    {
     "name": "stdout",
     "output_type": "stream",
     "text": [
      "\n"
     ]
    },
    {
     "data": {
      "application/vnd.jupyter.widget-view+json": {
       "model_id": "e0c25a66008c4be1bb7437fca68c169e",
       "version_major": 2,
       "version_minor": 0
      },
      "text/plain": [
       "HBox(children=(FloatProgress(value=0.0, description='MLPClassifier', max=1.0, style=ProgressStyle(description_…"
      ]
     },
     "metadata": {},
     "output_type": "display_data"
    },
    {
     "name": "stdout",
     "output_type": "stream",
     "text": [
      "\n"
     ]
    }
   ],
   "source": [
    "add_column_to_results(risultati_RobustScaler, 'Totali_with_BMI', 'RisultatiRobustScaler.json', X_total_with_BMI, y_total_with_BMI, models, grids, scaling=RobustScaler(), logger_name=logger)"
   ]
  },
  {
   "cell_type": "code",
   "execution_count": 58,
   "metadata": {},
   "outputs": [
    {
     "data": {
      "application/vnd.jupyter.widget-view+json": {
       "model_id": "8c0716b72b6a47f1aaa4a990fc084ea5",
       "version_major": 2,
       "version_minor": 0
      },
      "text/plain": [
       "HBox(children=(FloatProgress(value=0.0, description='SVC', max=1.0, style=ProgressStyle(description_width='ini…"
      ]
     },
     "metadata": {},
     "output_type": "display_data"
    },
    {
     "name": "stdout",
     "output_type": "stream",
     "text": [
      "\n"
     ]
    },
    {
     "data": {
      "application/vnd.jupyter.widget-view+json": {
       "model_id": "80127177cff84a5b802766bd240ed813",
       "version_major": 2,
       "version_minor": 0
      },
      "text/plain": [
       "HBox(children=(FloatProgress(value=0.0, description='DecisionTreeClassifier', max=1.0, style=ProgressStyle(des…"
      ]
     },
     "metadata": {},
     "output_type": "display_data"
    },
    {
     "name": "stdout",
     "output_type": "stream",
     "text": [
      "\n"
     ]
    },
    {
     "data": {
      "application/vnd.jupyter.widget-view+json": {
       "model_id": "f2493bddddc849a6a68a724cace97d4e",
       "version_major": 2,
       "version_minor": 0
      },
      "text/plain": [
       "HBox(children=(FloatProgress(value=0.0, description='RandomForestClassifier', max=1.0, style=ProgressStyle(des…"
      ]
     },
     "metadata": {},
     "output_type": "display_data"
    },
    {
     "name": "stdout",
     "output_type": "stream",
     "text": [
      "\n"
     ]
    },
    {
     "data": {
      "application/vnd.jupyter.widget-view+json": {
       "model_id": "2702c8ac8d05485e9b657165b898e30f",
       "version_major": 2,
       "version_minor": 0
      },
      "text/plain": [
       "HBox(children=(FloatProgress(value=0.0, description='GaussianNB', max=1.0, style=ProgressStyle(description_wid…"
      ]
     },
     "metadata": {},
     "output_type": "display_data"
    },
    {
     "name": "stdout",
     "output_type": "stream",
     "text": [
      "\n"
     ]
    },
    {
     "data": {
      "application/vnd.jupyter.widget-view+json": {
       "model_id": "4edb3bdfe728456fb239969b9d5e968f",
       "version_major": 2,
       "version_minor": 0
      },
      "text/plain": [
       "HBox(children=(FloatProgress(value=0.0, description='LinearDiscriminantAnalysis', max=1.0, style=ProgressStyle…"
      ]
     },
     "metadata": {},
     "output_type": "display_data"
    },
    {
     "name": "stdout",
     "output_type": "stream",
     "text": [
      "\n"
     ]
    },
    {
     "data": {
      "application/vnd.jupyter.widget-view+json": {
       "model_id": "7c43f3516d474b518feabf53c2bec1b4",
       "version_major": 2,
       "version_minor": 0
      },
      "text/plain": [
       "HBox(children=(FloatProgress(value=0.0, description='MLPClassifier', max=1.0, style=ProgressStyle(description_…"
      ]
     },
     "metadata": {},
     "output_type": "display_data"
    },
    {
     "name": "stdout",
     "output_type": "stream",
     "text": [
      "\n"
     ]
    }
   ],
   "source": [
    "add_column_to_results(risultati_RobustScaler, 'Totali_with_DATA', 'RisultatiRobustScaler.json', X_total_with_data, y_total_with_data, models, grids, scaling=RobustScaler(), logger_name=logger)"
   ]
  },
  {
   "cell_type": "code",
   "execution_count": 59,
   "metadata": {},
   "outputs": [
    {
     "data": {
      "application/vnd.jupyter.widget-view+json": {
       "model_id": "36769046af2846ada0ec2a2ed3f25c25",
       "version_major": 2,
       "version_minor": 0
      },
      "text/plain": [
       "HBox(children=(FloatProgress(value=0.0, description='SVC', max=1.0, style=ProgressStyle(description_width='ini…"
      ]
     },
     "metadata": {},
     "output_type": "display_data"
    },
    {
     "name": "stdout",
     "output_type": "stream",
     "text": [
      "\n"
     ]
    },
    {
     "data": {
      "application/vnd.jupyter.widget-view+json": {
       "model_id": "c6ab109e1c094f92bfd5e9c0a3011e87",
       "version_major": 2,
       "version_minor": 0
      },
      "text/plain": [
       "HBox(children=(FloatProgress(value=0.0, description='DecisionTreeClassifier', max=1.0, style=ProgressStyle(des…"
      ]
     },
     "metadata": {},
     "output_type": "display_data"
    },
    {
     "name": "stdout",
     "output_type": "stream",
     "text": [
      "\n"
     ]
    },
    {
     "data": {
      "application/vnd.jupyter.widget-view+json": {
       "model_id": "cc0d1817108942df884bb5700547147d",
       "version_major": 2,
       "version_minor": 0
      },
      "text/plain": [
       "HBox(children=(FloatProgress(value=0.0, description='RandomForestClassifier', max=1.0, style=ProgressStyle(des…"
      ]
     },
     "metadata": {},
     "output_type": "display_data"
    },
    {
     "name": "stdout",
     "output_type": "stream",
     "text": [
      "\n"
     ]
    },
    {
     "data": {
      "application/vnd.jupyter.widget-view+json": {
       "model_id": "749430c5fa994d6898f8b2367e043c5d",
       "version_major": 2,
       "version_minor": 0
      },
      "text/plain": [
       "HBox(children=(FloatProgress(value=0.0, description='GaussianNB', max=1.0, style=ProgressStyle(description_wid…"
      ]
     },
     "metadata": {},
     "output_type": "display_data"
    },
    {
     "name": "stdout",
     "output_type": "stream",
     "text": [
      "\n"
     ]
    },
    {
     "data": {
      "application/vnd.jupyter.widget-view+json": {
       "model_id": "148172f6a92342a28950c028af503369",
       "version_major": 2,
       "version_minor": 0
      },
      "text/plain": [
       "HBox(children=(FloatProgress(value=0.0, description='LinearDiscriminantAnalysis', max=1.0, style=ProgressStyle…"
      ]
     },
     "metadata": {},
     "output_type": "display_data"
    },
    {
     "name": "stdout",
     "output_type": "stream",
     "text": [
      "\n"
     ]
    },
    {
     "data": {
      "application/vnd.jupyter.widget-view+json": {
       "model_id": "b40e9adc2812407bb15ef739f2ef218f",
       "version_major": 2,
       "version_minor": 0
      },
      "text/plain": [
       "HBox(children=(FloatProgress(value=0.0, description='MLPClassifier', max=1.0, style=ProgressStyle(description_…"
      ]
     },
     "metadata": {},
     "output_type": "display_data"
    },
    {
     "name": "stdout",
     "output_type": "stream",
     "text": [
      "\n"
     ]
    }
   ],
   "source": [
    "add_column_to_results(risultati_RobustScaler, 'Totali_with_DATA_and_BMI', 'RisultatiRobustScaler.json', X_total_with_data_and_BMI, y_total_with_data_and_BMI, models, grids, scaling=RobustScaler(), logger_name=logger)"
   ]
  },
  {
   "cell_type": "code",
   "execution_count": 60,
   "metadata": {},
   "outputs": [
    {
     "data": {
      "application/vnd.jupyter.widget-view+json": {
       "model_id": "bcbfdd1837f845258f34cf8ccd16945f",
       "version_major": 2,
       "version_minor": 0
      },
      "text/plain": [
       "HBox(children=(FloatProgress(value=0.0, description='SVC', max=1.0, style=ProgressStyle(description_width='ini…"
      ]
     },
     "metadata": {},
     "output_type": "display_data"
    },
    {
     "name": "stdout",
     "output_type": "stream",
     "text": [
      "\n"
     ]
    },
    {
     "data": {
      "application/vnd.jupyter.widget-view+json": {
       "model_id": "815aa75193fe427cae44a4dd9fa95c2d",
       "version_major": 2,
       "version_minor": 0
      },
      "text/plain": [
       "HBox(children=(FloatProgress(value=0.0, description='DecisionTreeClassifier', max=1.0, style=ProgressStyle(des…"
      ]
     },
     "metadata": {},
     "output_type": "display_data"
    },
    {
     "name": "stdout",
     "output_type": "stream",
     "text": [
      "\n"
     ]
    },
    {
     "data": {
      "application/vnd.jupyter.widget-view+json": {
       "model_id": "f7a4a37e34714620849ea90492f4f0b0",
       "version_major": 2,
       "version_minor": 0
      },
      "text/plain": [
       "HBox(children=(FloatProgress(value=0.0, description='RandomForestClassifier', max=1.0, style=ProgressStyle(des…"
      ]
     },
     "metadata": {},
     "output_type": "display_data"
    },
    {
     "name": "stdout",
     "output_type": "stream",
     "text": [
      "\n"
     ]
    },
    {
     "data": {
      "application/vnd.jupyter.widget-view+json": {
       "model_id": "0ebfe886275348628eb065dfd8f2190c",
       "version_major": 2,
       "version_minor": 0
      },
      "text/plain": [
       "HBox(children=(FloatProgress(value=0.0, description='GaussianNB', max=1.0, style=ProgressStyle(description_wid…"
      ]
     },
     "metadata": {},
     "output_type": "display_data"
    },
    {
     "name": "stdout",
     "output_type": "stream",
     "text": [
      "\n"
     ]
    },
    {
     "data": {
      "application/vnd.jupyter.widget-view+json": {
       "model_id": "9c6173991b3a480fa2978b5b5cb02af6",
       "version_major": 2,
       "version_minor": 0
      },
      "text/plain": [
       "HBox(children=(FloatProgress(value=0.0, description='LinearDiscriminantAnalysis', max=1.0, style=ProgressStyle…"
      ]
     },
     "metadata": {},
     "output_type": "display_data"
    },
    {
     "name": "stdout",
     "output_type": "stream",
     "text": [
      "\n"
     ]
    },
    {
     "data": {
      "application/vnd.jupyter.widget-view+json": {
       "model_id": "ced34666f6a94aceb8ccafa3195ae322",
       "version_major": 2,
       "version_minor": 0
      },
      "text/plain": [
       "HBox(children=(FloatProgress(value=0.0, description='MLPClassifier', max=1.0, style=ProgressStyle(description_…"
      ]
     },
     "metadata": {},
     "output_type": "display_data"
    },
    {
     "name": "stdout",
     "output_type": "stream",
     "text": [
      "\n"
     ]
    }
   ],
   "source": [
    "add_column_to_results(risultati_RobustScaler, 'Details', 'RisultatiRobustScaler.json', X_details, y_details, models, grids, scaling=RobustScaler(), logger_name=logger)"
   ]
  },
  {
   "cell_type": "code",
   "execution_count": 61,
   "metadata": {},
   "outputs": [
    {
     "data": {
      "application/vnd.jupyter.widget-view+json": {
       "model_id": "49ffaf32d37849a38217bae8141e997c",
       "version_major": 2,
       "version_minor": 0
      },
      "text/plain": [
       "HBox(children=(FloatProgress(value=0.0, description='SVC', max=1.0, style=ProgressStyle(description_width='ini…"
      ]
     },
     "metadata": {},
     "output_type": "display_data"
    },
    {
     "name": "stdout",
     "output_type": "stream",
     "text": [
      "\n"
     ]
    },
    {
     "data": {
      "application/vnd.jupyter.widget-view+json": {
       "model_id": "0dace5cf85dd4f1a901c797a8481a24c",
       "version_major": 2,
       "version_minor": 0
      },
      "text/plain": [
       "HBox(children=(FloatProgress(value=0.0, description='DecisionTreeClassifier', max=1.0, style=ProgressStyle(des…"
      ]
     },
     "metadata": {},
     "output_type": "display_data"
    },
    {
     "name": "stdout",
     "output_type": "stream",
     "text": [
      "\n"
     ]
    },
    {
     "data": {
      "application/vnd.jupyter.widget-view+json": {
       "model_id": "5141bc23fc5c4414bd7ca69ea57b35ee",
       "version_major": 2,
       "version_minor": 0
      },
      "text/plain": [
       "HBox(children=(FloatProgress(value=0.0, description='RandomForestClassifier', max=1.0, style=ProgressStyle(des…"
      ]
     },
     "metadata": {},
     "output_type": "display_data"
    },
    {
     "name": "stdout",
     "output_type": "stream",
     "text": [
      "\n"
     ]
    },
    {
     "data": {
      "application/vnd.jupyter.widget-view+json": {
       "model_id": "e1a34b0a48a143138c29edbaafb3e700",
       "version_major": 2,
       "version_minor": 0
      },
      "text/plain": [
       "HBox(children=(FloatProgress(value=0.0, description='GaussianNB', max=1.0, style=ProgressStyle(description_wid…"
      ]
     },
     "metadata": {},
     "output_type": "display_data"
    },
    {
     "name": "stdout",
     "output_type": "stream",
     "text": [
      "\n"
     ]
    },
    {
     "data": {
      "application/vnd.jupyter.widget-view+json": {
       "model_id": "c4c647a137e447a1b6de5a516480eea9",
       "version_major": 2,
       "version_minor": 0
      },
      "text/plain": [
       "HBox(children=(FloatProgress(value=0.0, description='LinearDiscriminantAnalysis', max=1.0, style=ProgressStyle…"
      ]
     },
     "metadata": {},
     "output_type": "display_data"
    },
    {
     "name": "stdout",
     "output_type": "stream",
     "text": [
      "\n"
     ]
    },
    {
     "data": {
      "application/vnd.jupyter.widget-view+json": {
       "model_id": "55519ad4ebcf406a8b4bc65186d82dc4",
       "version_major": 2,
       "version_minor": 0
      },
      "text/plain": [
       "HBox(children=(FloatProgress(value=0.0, description='MLPClassifier', max=1.0, style=ProgressStyle(description_…"
      ]
     },
     "metadata": {},
     "output_type": "display_data"
    },
    {
     "name": "stdout",
     "output_type": "stream",
     "text": [
      "\n"
     ]
    }
   ],
   "source": [
    "add_column_to_results(risultati_RobustScaler, 'Details_reduce_PCA_5_dim', 'RisultatiRobustScaler.json', X_details, y_details, models, grids, scaling=RobustScaler(), logger_name=logger, dim_reduction=PCA(n_components=5))"
   ]
  },
  {
   "cell_type": "code",
   "execution_count": 62,
   "metadata": {},
   "outputs": [
    {
     "data": {
      "application/vnd.jupyter.widget-view+json": {
       "model_id": "2d895e3681054909b6e4ec42da0ca068",
       "version_major": 2,
       "version_minor": 0
      },
      "text/plain": [
       "HBox(children=(FloatProgress(value=0.0, description='SVC', max=1.0, style=ProgressStyle(description_width='ini…"
      ]
     },
     "metadata": {},
     "output_type": "display_data"
    },
    {
     "name": "stdout",
     "output_type": "stream",
     "text": [
      "\n"
     ]
    },
    {
     "data": {
      "application/vnd.jupyter.widget-view+json": {
       "model_id": "e5dd88a2072d44e2ab21d163039274c9",
       "version_major": 2,
       "version_minor": 0
      },
      "text/plain": [
       "HBox(children=(FloatProgress(value=0.0, description='DecisionTreeClassifier', max=1.0, style=ProgressStyle(des…"
      ]
     },
     "metadata": {},
     "output_type": "display_data"
    },
    {
     "name": "stdout",
     "output_type": "stream",
     "text": [
      "\n"
     ]
    },
    {
     "data": {
      "application/vnd.jupyter.widget-view+json": {
       "model_id": "de12d020d1ee40e3b3bb9c5b9152863e",
       "version_major": 2,
       "version_minor": 0
      },
      "text/plain": [
       "HBox(children=(FloatProgress(value=0.0, description='RandomForestClassifier', max=1.0, style=ProgressStyle(des…"
      ]
     },
     "metadata": {},
     "output_type": "display_data"
    },
    {
     "name": "stdout",
     "output_type": "stream",
     "text": [
      "\n"
     ]
    },
    {
     "data": {
      "application/vnd.jupyter.widget-view+json": {
       "model_id": "0075d20963e54bf2854df6cdcf536d78",
       "version_major": 2,
       "version_minor": 0
      },
      "text/plain": [
       "HBox(children=(FloatProgress(value=0.0, description='GaussianNB', max=1.0, style=ProgressStyle(description_wid…"
      ]
     },
     "metadata": {},
     "output_type": "display_data"
    },
    {
     "name": "stdout",
     "output_type": "stream",
     "text": [
      "\n"
     ]
    },
    {
     "data": {
      "application/vnd.jupyter.widget-view+json": {
       "model_id": "6302d3d5dffc49638f9ae50cde2173a6",
       "version_major": 2,
       "version_minor": 0
      },
      "text/plain": [
       "HBox(children=(FloatProgress(value=0.0, description='LinearDiscriminantAnalysis', max=1.0, style=ProgressStyle…"
      ]
     },
     "metadata": {},
     "output_type": "display_data"
    },
    {
     "name": "stdout",
     "output_type": "stream",
     "text": [
      "\n"
     ]
    },
    {
     "data": {
      "application/vnd.jupyter.widget-view+json": {
       "model_id": "816add394c7b4c739737b2a05711e7a7",
       "version_major": 2,
       "version_minor": 0
      },
      "text/plain": [
       "HBox(children=(FloatProgress(value=0.0, description='MLPClassifier', max=1.0, style=ProgressStyle(description_…"
      ]
     },
     "metadata": {},
     "output_type": "display_data"
    },
    {
     "name": "stdout",
     "output_type": "stream",
     "text": [
      "\n"
     ]
    }
   ],
   "source": [
    "add_column_to_results(risultati_RobustScaler, 'Details_reduce_PCA_10_dim', 'RisultatiRobustScaler.json', X_details, y_details, models, grids, scaling=RobustScaler(), logger_name=logger, dim_reduction=PCA(n_components=10))"
   ]
  },
  {
   "cell_type": "code",
   "execution_count": 63,
   "metadata": {},
   "outputs": [
    {
     "data": {
      "application/vnd.jupyter.widget-view+json": {
       "model_id": "dbcbd7d17ba143f582a22ae1808d2a9c",
       "version_major": 2,
       "version_minor": 0
      },
      "text/plain": [
       "HBox(children=(FloatProgress(value=0.0, description='SVC', max=1.0, style=ProgressStyle(description_width='ini…"
      ]
     },
     "metadata": {},
     "output_type": "display_data"
    },
    {
     "name": "stdout",
     "output_type": "stream",
     "text": [
      "\n"
     ]
    },
    {
     "data": {
      "application/vnd.jupyter.widget-view+json": {
       "model_id": "ef43df6bfa55401183075c1a896125c9",
       "version_major": 2,
       "version_minor": 0
      },
      "text/plain": [
       "HBox(children=(FloatProgress(value=0.0, description='DecisionTreeClassifier', max=1.0, style=ProgressStyle(des…"
      ]
     },
     "metadata": {},
     "output_type": "display_data"
    },
    {
     "name": "stdout",
     "output_type": "stream",
     "text": [
      "\n"
     ]
    },
    {
     "data": {
      "application/vnd.jupyter.widget-view+json": {
       "model_id": "fc7e34c48f0647fdb8b2880f2d3e77d4",
       "version_major": 2,
       "version_minor": 0
      },
      "text/plain": [
       "HBox(children=(FloatProgress(value=0.0, description='RandomForestClassifier', max=1.0, style=ProgressStyle(des…"
      ]
     },
     "metadata": {},
     "output_type": "display_data"
    },
    {
     "name": "stdout",
     "output_type": "stream",
     "text": [
      "\n"
     ]
    },
    {
     "data": {
      "application/vnd.jupyter.widget-view+json": {
       "model_id": "6a7d3fb2d5e04951ad1ed561be64e7a6",
       "version_major": 2,
       "version_minor": 0
      },
      "text/plain": [
       "HBox(children=(FloatProgress(value=0.0, description='GaussianNB', max=1.0, style=ProgressStyle(description_wid…"
      ]
     },
     "metadata": {},
     "output_type": "display_data"
    },
    {
     "name": "stdout",
     "output_type": "stream",
     "text": [
      "\n"
     ]
    },
    {
     "data": {
      "application/vnd.jupyter.widget-view+json": {
       "model_id": "37ec6e88defe457bb2d1864b70d71463",
       "version_major": 2,
       "version_minor": 0
      },
      "text/plain": [
       "HBox(children=(FloatProgress(value=0.0, description='LinearDiscriminantAnalysis', max=1.0, style=ProgressStyle…"
      ]
     },
     "metadata": {},
     "output_type": "display_data"
    },
    {
     "name": "stdout",
     "output_type": "stream",
     "text": [
      "\n"
     ]
    },
    {
     "data": {
      "application/vnd.jupyter.widget-view+json": {
       "model_id": "80a88721ba35401fa2b2b7b37e47adae",
       "version_major": 2,
       "version_minor": 0
      },
      "text/plain": [
       "HBox(children=(FloatProgress(value=0.0, description='MLPClassifier', max=1.0, style=ProgressStyle(description_…"
      ]
     },
     "metadata": {},
     "output_type": "display_data"
    },
    {
     "name": "stdout",
     "output_type": "stream",
     "text": [
      "\n"
     ]
    }
   ],
   "source": [
    "add_column_to_results(risultati_RobustScaler, 'Details_reduce_PCA_13_dim', 'RisultatiRobustScaler.json', X_details, y_details, models, grids, scaling=RobustScaler(), logger_name=logger, dim_reduction=PCA(n_components=13))"
   ]
  },
  {
   "cell_type": "code",
   "execution_count": 64,
   "metadata": {},
   "outputs": [
    {
     "data": {
      "application/vnd.jupyter.widget-view+json": {
       "model_id": "0be7b92565c7448bbee32882fc466d54",
       "version_major": 2,
       "version_minor": 0
      },
      "text/plain": [
       "HBox(children=(FloatProgress(value=0.0, description='SVC', max=1.0, style=ProgressStyle(description_width='ini…"
      ]
     },
     "metadata": {},
     "output_type": "display_data"
    },
    {
     "name": "stdout",
     "output_type": "stream",
     "text": [
      "\n"
     ]
    },
    {
     "data": {
      "application/vnd.jupyter.widget-view+json": {
       "model_id": "63ca5d938ae54155af45f99cf635ba2c",
       "version_major": 2,
       "version_minor": 0
      },
      "text/plain": [
       "HBox(children=(FloatProgress(value=0.0, description='DecisionTreeClassifier', max=1.0, style=ProgressStyle(des…"
      ]
     },
     "metadata": {},
     "output_type": "display_data"
    },
    {
     "name": "stdout",
     "output_type": "stream",
     "text": [
      "\n"
     ]
    },
    {
     "data": {
      "application/vnd.jupyter.widget-view+json": {
       "model_id": "23a5b38cb0ef49f29667d6a19d48f9fb",
       "version_major": 2,
       "version_minor": 0
      },
      "text/plain": [
       "HBox(children=(FloatProgress(value=0.0, description='RandomForestClassifier', max=1.0, style=ProgressStyle(des…"
      ]
     },
     "metadata": {},
     "output_type": "display_data"
    },
    {
     "name": "stdout",
     "output_type": "stream",
     "text": [
      "\n"
     ]
    },
    {
     "data": {
      "application/vnd.jupyter.widget-view+json": {
       "model_id": "20804707d7e84251806c87e728e209fd",
       "version_major": 2,
       "version_minor": 0
      },
      "text/plain": [
       "HBox(children=(FloatProgress(value=0.0, description='GaussianNB', max=1.0, style=ProgressStyle(description_wid…"
      ]
     },
     "metadata": {},
     "output_type": "display_data"
    },
    {
     "name": "stdout",
     "output_type": "stream",
     "text": [
      "\n"
     ]
    },
    {
     "data": {
      "application/vnd.jupyter.widget-view+json": {
       "model_id": "46dcc514038e4c3188606e59b958a1f7",
       "version_major": 2,
       "version_minor": 0
      },
      "text/plain": [
       "HBox(children=(FloatProgress(value=0.0, description='LinearDiscriminantAnalysis', max=1.0, style=ProgressStyle…"
      ]
     },
     "metadata": {},
     "output_type": "display_data"
    },
    {
     "name": "stdout",
     "output_type": "stream",
     "text": [
      "\n"
     ]
    },
    {
     "data": {
      "application/vnd.jupyter.widget-view+json": {
       "model_id": "fa4fe86776ed418baf5d538e0be96b4d",
       "version_major": 2,
       "version_minor": 0
      },
      "text/plain": [
       "HBox(children=(FloatProgress(value=0.0, description='MLPClassifier', max=1.0, style=ProgressStyle(description_…"
      ]
     },
     "metadata": {},
     "output_type": "display_data"
    },
    {
     "name": "stdout",
     "output_type": "stream",
     "text": [
      "\n"
     ]
    }
   ],
   "source": [
    "add_column_to_results(risultati_RobustScaler, 'Details_reduce_PCA_15_dim', 'RisultatiRobustScaler.json', X_details, y_details, models, grids, scaling=RobustScaler(), logger_name=logger, dim_reduction=PCA(n_components=15))"
   ]
  },
  {
   "cell_type": "code",
   "execution_count": 65,
   "metadata": {},
   "outputs": [],
   "source": [
    "from sklearn.manifold import TSNE\n",
    "\n",
    "#impiega troppo tempo\n",
    "#if addNew('Details_reduce_TSNE_5_dim', risultati_RobustScaler):\n",
    "    #risultati_RobustScaler['Details_reduce_TSNE_5_dim'] = {model_to_string[m]: np.mean(addestra(m, X_details, y_details, g, 9, 9, nome_dataset='Details_reduce_TSNE_5_dim', logger_name=logger, scaling=RobustScaler(), dim_reduction=TSNE(n_components=5, method='exact'))) for m, g in zip(models, grids)}"
   ]
  },
  {
   "cell_type": "code",
   "execution_count": 66,
   "metadata": {},
   "outputs": [],
   "source": [
    "#impiega troppo tempo\n",
    "#if addNew('Details_reduce_TSNE_10_dim', risultati_RobustScaler):\n",
    "    #risultati_RobustScaler['Details_reduce_TSNE_10_dim'] = {model_to_string[m]: np.mean(addestra(m, X_details, y_details, g, 9, 9, nome_dataset='Details_reduce_TSNE_10_dim', useLogger=True, scaling=RobustScaler(), dim_reduction=TSNE(n_components=10, method='exact'))) for m, g in zip(models, grids)}"
   ]
  },
  {
   "cell_type": "code",
   "execution_count": 67,
   "metadata": {},
   "outputs": [
    {
     "data": {
      "text/plain": [
       "\"add_column_to_results(risultati_RobustScaler,\\n                          'Details_reduce_PCA_15_dim_tSNE_10_dim',\\n                          'RisultatiRobustScaler.json',\\n                          X_details, y_details,\\n                          models, grids,\\n                          dim_reduction=PCA_and_tSNE(15, 10))\""
      ]
     },
     "execution_count": 67,
     "metadata": {},
     "output_type": "execute_result"
    }
   ],
   "source": [
    "#DA PROVARE\n",
    "'''add_column_to_results(risultati_RobustScaler,\n",
    "                          'Details_reduce_PCA_15_dim_tSNE_10_dim',\n",
    "                          'RisultatiRobustScaler.json',\n",
    "                          X_details, y_details,\n",
    "                          models, grids,\n",
    "                          dim_reduction=PCA_and_tSNE(15, 10))'''"
   ]
  },
  {
   "cell_type": "code",
   "execution_count": 68,
   "metadata": {},
   "outputs": [
    {
     "data": {
      "text/plain": [
       "\"add_column_to_results(risultati_RobustScaler,\\n                          'Details_reduce_PCA_10_dim_tSNE_5_dim',\\n                          'RisultatiRobustScaler.json',\\n                          X_details, y_details,\\n                          models, grids,\\n                          dim_reduction=PCA_and_tSNE(10, 5))\""
      ]
     },
     "execution_count": 68,
     "metadata": {},
     "output_type": "execute_result"
    }
   ],
   "source": [
    "#DA PROVARE\n",
    "'''add_column_to_results(risultati_RobustScaler,\n",
    "                          'Details_reduce_PCA_10_dim_tSNE_5_dim',\n",
    "                          'RisultatiRobustScaler.json',\n",
    "                          X_details, y_details,\n",
    "                          models, grids,\n",
    "                          dim_reduction=PCA_and_tSNE(10, 5))'''"
   ]
  },
  {
   "cell_type": "code",
   "execution_count": 69,
   "metadata": {},
   "outputs": [
    {
     "data": {
      "application/vnd.jupyter.widget-view+json": {
       "model_id": "8ce6ea9577a54ec59aac544ef9b8bb72",
       "version_major": 2,
       "version_minor": 0
      },
      "text/plain": [
       "HBox(children=(FloatProgress(value=0.0, description='SVC', max=1.0, style=ProgressStyle(description_width='ini…"
      ]
     },
     "metadata": {},
     "output_type": "display_data"
    },
    {
     "name": "stdout",
     "output_type": "stream",
     "text": [
      "\n"
     ]
    },
    {
     "data": {
      "application/vnd.jupyter.widget-view+json": {
       "model_id": "f522631559b64fafbb6997d17b340222",
       "version_major": 2,
       "version_minor": 0
      },
      "text/plain": [
       "HBox(children=(FloatProgress(value=0.0, description='DecisionTreeClassifier', max=1.0, style=ProgressStyle(des…"
      ]
     },
     "metadata": {},
     "output_type": "display_data"
    },
    {
     "name": "stdout",
     "output_type": "stream",
     "text": [
      "\n"
     ]
    },
    {
     "data": {
      "application/vnd.jupyter.widget-view+json": {
       "model_id": "859dfc5f9b1946cea220743d2059253a",
       "version_major": 2,
       "version_minor": 0
      },
      "text/plain": [
       "HBox(children=(FloatProgress(value=0.0, description='RandomForestClassifier', max=1.0, style=ProgressStyle(des…"
      ]
     },
     "metadata": {},
     "output_type": "display_data"
    },
    {
     "name": "stdout",
     "output_type": "stream",
     "text": [
      "\n"
     ]
    },
    {
     "data": {
      "application/vnd.jupyter.widget-view+json": {
       "model_id": "3d110c5cb3764f3880b7dbf724fe760d",
       "version_major": 2,
       "version_minor": 0
      },
      "text/plain": [
       "HBox(children=(FloatProgress(value=0.0, description='GaussianNB', max=1.0, style=ProgressStyle(description_wid…"
      ]
     },
     "metadata": {},
     "output_type": "display_data"
    },
    {
     "name": "stdout",
     "output_type": "stream",
     "text": [
      "\n"
     ]
    },
    {
     "data": {
      "application/vnd.jupyter.widget-view+json": {
       "model_id": "c0d89a5953de4bc2aefa105153b29490",
       "version_major": 2,
       "version_minor": 0
      },
      "text/plain": [
       "HBox(children=(FloatProgress(value=0.0, description='LinearDiscriminantAnalysis', max=1.0, style=ProgressStyle…"
      ]
     },
     "metadata": {},
     "output_type": "display_data"
    },
    {
     "name": "stdout",
     "output_type": "stream",
     "text": [
      "\n"
     ]
    },
    {
     "data": {
      "application/vnd.jupyter.widget-view+json": {
       "model_id": "9674406985d449e6beed077135d0e64c",
       "version_major": 2,
       "version_minor": 0
      },
      "text/plain": [
       "HBox(children=(FloatProgress(value=0.0, description='MLPClassifier', max=1.0, style=ProgressStyle(description_…"
      ]
     },
     "metadata": {},
     "output_type": "display_data"
    },
    {
     "name": "stdout",
     "output_type": "stream",
     "text": [
      "\n"
     ]
    }
   ],
   "source": [
    "add_column_to_results(risultati_RobustScaler, 'Details_reduce_TSNE_13_dim', 'RisultatiRobustScaler.json', X_details, y_details, models, grids, scaling=RobustScaler(), logger_name=logger, dim_reduction=TSNE(n_components=13, method='exact'))"
   ]
  },
  {
   "cell_type": "code",
   "execution_count": 70,
   "metadata": {},
   "outputs": [
    {
     "data": {
      "application/vnd.jupyter.widget-view+json": {
       "model_id": "5777a88d43944f9786cb1a1bebd41b41",
       "version_major": 2,
       "version_minor": 0
      },
      "text/plain": [
       "HBox(children=(FloatProgress(value=0.0, description='SVC', max=1.0, style=ProgressStyle(description_width='ini…"
      ]
     },
     "metadata": {},
     "output_type": "display_data"
    },
    {
     "name": "stdout",
     "output_type": "stream",
     "text": [
      "\n"
     ]
    },
    {
     "data": {
      "application/vnd.jupyter.widget-view+json": {
       "model_id": "6d48c0a432a845ea99967d63aa8eb9e1",
       "version_major": 2,
       "version_minor": 0
      },
      "text/plain": [
       "HBox(children=(FloatProgress(value=0.0, description='DecisionTreeClassifier', max=1.0, style=ProgressStyle(des…"
      ]
     },
     "metadata": {},
     "output_type": "display_data"
    },
    {
     "name": "stdout",
     "output_type": "stream",
     "text": [
      "\n"
     ]
    },
    {
     "data": {
      "application/vnd.jupyter.widget-view+json": {
       "model_id": "2c68242add9240978201ca1b60072ccd",
       "version_major": 2,
       "version_minor": 0
      },
      "text/plain": [
       "HBox(children=(FloatProgress(value=0.0, description='RandomForestClassifier', max=1.0, style=ProgressStyle(des…"
      ]
     },
     "metadata": {},
     "output_type": "display_data"
    },
    {
     "name": "stdout",
     "output_type": "stream",
     "text": [
      "\n"
     ]
    },
    {
     "data": {
      "application/vnd.jupyter.widget-view+json": {
       "model_id": "e8fe7e5feefd4e9d9b522e36a8143b0f",
       "version_major": 2,
       "version_minor": 0
      },
      "text/plain": [
       "HBox(children=(FloatProgress(value=0.0, description='GaussianNB', max=1.0, style=ProgressStyle(description_wid…"
      ]
     },
     "metadata": {},
     "output_type": "display_data"
    },
    {
     "name": "stdout",
     "output_type": "stream",
     "text": [
      "\n"
     ]
    },
    {
     "data": {
      "application/vnd.jupyter.widget-view+json": {
       "model_id": "8ae4997170ef4d38adbaacf44f3a8a3c",
       "version_major": 2,
       "version_minor": 0
      },
      "text/plain": [
       "HBox(children=(FloatProgress(value=0.0, description='LinearDiscriminantAnalysis', max=1.0, style=ProgressStyle…"
      ]
     },
     "metadata": {},
     "output_type": "display_data"
    },
    {
     "name": "stdout",
     "output_type": "stream",
     "text": [
      "\n"
     ]
    },
    {
     "data": {
      "application/vnd.jupyter.widget-view+json": {
       "model_id": "e4135b66c87d4dfbb28d3aaf8f7017e8",
       "version_major": 2,
       "version_minor": 0
      },
      "text/plain": [
       "HBox(children=(FloatProgress(value=0.0, description='MLPClassifier', max=1.0, style=ProgressStyle(description_…"
      ]
     },
     "metadata": {},
     "output_type": "display_data"
    },
    {
     "name": "stdout",
     "output_type": "stream",
     "text": [
      "\n"
     ]
    }
   ],
   "source": [
    "add_column_to_results(risultati_RobustScaler, 'Details_reduce_TSNE_15_dim', 'RisultatiRobustScaler.json', X_details, y_details, models, grids, scaling=RobustScaler(), logger_name=logger, dim_reduction=TSNE(n_components=15, method='exact'))"
   ]
  },
  {
   "cell_type": "markdown",
   "metadata": {},
   "source": [
    "# Visualizzo tabella riassuntiva Usando come scaler RobustScaler"
   ]
  },
  {
   "cell_type": "code",
   "execution_count": null,
   "metadata": {},
   "outputs": [],
   "source": [
    "tableRobustScaler = pd.DataFrame(risultati_RobustScaler)\n",
    "tableRobustScaler.style.apply(highlight_maxs, axis=1).format(float_formatter)"
   ]
  },
  {
   "cell_type": "code",
   "execution_count": null,
   "metadata": {},
   "outputs": [],
   "source": [
    "tableRobustScaler.style.apply(highlight_max, axis=None).format(float_formatter)"
   ]
  },
  {
   "cell_type": "markdown",
   "metadata": {},
   "source": [
    "# Visualizzo il massimo score possibile relativo ad ogni dataset"
   ]
  },
  {
   "cell_type": "code",
   "execution_count": null,
   "metadata": {},
   "outputs": [],
   "source": [
    "tableMaxRobustScaler = pd.DataFrame(tableRobustScaler.max(), columns=['RobustScaler'])\n",
    "tableMaxRobustScaler.style.apply(highlight_max, axis=0).format(float_formatter)"
   ]
  },
  {
   "cell_type": "markdown",
   "metadata": {},
   "source": [
    "#### Lo score massimo calcolato usando RobustScaler è stato ottenuto usando 'Total_with_DATA_and_BMI' con SVC ed è di 0.77"
   ]
  },
  {
   "cell_type": "markdown",
   "metadata": {},
   "source": [
    "# Proviamo ora a non usare uno SCALER"
   ]
  },
  {
   "cell_type": "code",
   "execution_count": null,
   "metadata": {},
   "outputs": [],
   "source": [
    "risultati_senza_scaler = {}"
   ]
  },
  {
   "cell_type": "code",
   "execution_count": null,
   "metadata": {},
   "outputs": [],
   "source": [
    "for d in [5, 10, 13, 15]:\n",
    "    add_column_to_results(risultati_senza_scaler, 'Details_reduce_PCA_{}_dim'.format(d), 'RisultatiSenzaScaler.json', X_details, y_details, models, grids, logger_name=logger, scaling=None, dim_reduction=PCA(n_components=d))"
   ]
  },
  {
   "cell_type": "code",
   "execution_count": null,
   "metadata": {},
   "outputs": [],
   "source": [
    "#risultati_senza_scaler['Details_reduce_TSNE_5_dim'] = {model_to_string[m]: np.mean(addestra(m, X_details, y_details, g, 9, 9, nome_dataset='Details_reduce_TSNE_5_dim', logger_name=logger, scaling=None, dim_reduction=TSNE(n_components=5, method='exact'))) for m, g in zip(models, grids)}"
   ]
  },
  {
   "cell_type": "code",
   "execution_count": null,
   "metadata": {},
   "outputs": [],
   "source": [
    "#risultati_senza_scaler['Details_reduce_TSNE_10_dim'] = {model_to_string[m]: np.mean(addestra(m, X_details, y_details, g, 9, 9, nome_dataset='Details_reduce_TSNE_10_dim', logger_name=logger, scaling=None, dim_reduction=TSNE(n_components=10, method='exact'))) for m, g in zip(models, grids)}"
   ]
  },
  {
   "cell_type": "code",
   "execution_count": null,
   "metadata": {},
   "outputs": [],
   "source": [
    "add_column_to_results(risultati_senza_scaler,\n",
    "                          'Details_reduce_PCA_15_dim_tSNE_10_dim',\n",
    "                          'RisultatiSenzaScaler.json',\n",
    "                          X_details, y_details,\n",
    "                          models, grids,\n",
    "                          dim_reduction=PCA_and_tSNE(15, 10))"
   ]
  },
  {
   "cell_type": "code",
   "execution_count": null,
   "metadata": {},
   "outputs": [],
   "source": [
    "add_column_to_results(risultati_senza_scaler,\n",
    "                          'Details_reduce_PCA_15_dim_tSNE_10_dim',\n",
    "                          'RisultatiSenzaScaler.json',\n",
    "                          X_details, y_details,\n",
    "                          models, grids,\n",
    "                          dim_reduction=PCA_and_tSNE(10, 5))"
   ]
  },
  {
   "cell_type": "code",
   "execution_count": null,
   "metadata": {},
   "outputs": [],
   "source": [
    "for d in [13, 15]:\n",
    "        add_column_to_results(risultati_senza_scaler, 'Details_reduce_TSNE_{}_dim'.format(d), 'RisultatiSenzaScaler.json', X_details, y_details, models, grids, logger_name=logger, scaling=None, dim_reduction=TSNE(n_components=d, method='exact'))"
   ]
  },
  {
   "cell_type": "markdown",
   "metadata": {},
   "source": [
    "# Visualizzo tabella riassuntiva non usando uno scaler"
   ]
  },
  {
   "cell_type": "code",
   "execution_count": null,
   "metadata": {},
   "outputs": [],
   "source": [
    "table_senza_scaler = pd.DataFrame(risultati_senza_scaler)\n",
    "table_senza_scaler.style.apply(highlight_maxs, axis=1).format(float_formatter)"
   ]
  },
  {
   "cell_type": "code",
   "execution_count": null,
   "metadata": {},
   "outputs": [],
   "source": [
    "table_senza_scaler.style.apply(highlight_max, axis=1).format(float_formatter)"
   ]
  },
  {
   "cell_type": "markdown",
   "metadata": {},
   "source": [
    "# Visualizzo il massimo score possibile relativo ad ogni dataset"
   ]
  },
  {
   "cell_type": "code",
   "execution_count": null,
   "metadata": {},
   "outputs": [],
   "source": [
    "tableMaxSenzaScaler = pd.DataFrame(table_senza_scaler.max(), columns=['No_Scaler'])\n",
    "tableMaxSenzaScaler.style.apply(highlight_max, axis=0).format(float_formatter)"
   ]
  },
  {
   "cell_type": "markdown",
   "metadata": {},
   "source": [
    "#### Lo score massimo calcolato non usando uno Scaler è stato ottenuto usando 'Details_reduce_PCA_5_dim' con SVC ed è di 0.69"
   ]
  },
  {
   "cell_type": "markdown",
   "metadata": {},
   "source": [
    "# Analizziamo i risultati calcolati usando i diversi scaler"
   ]
  },
  {
   "cell_type": "code",
   "execution_count": null,
   "metadata": {},
   "outputs": [],
   "source": [
    "finale = tableMaxStandardScaler.join(tableMaxMinMasxScaler).join(tableMaxRobustScaler).join(tableMaxSenzaScaler)\n",
    "finale.style.apply(highlight_maxs, axis=0).format(float_formatter)"
   ]
  },
  {
   "cell_type": "code",
   "execution_count": null,
   "metadata": {},
   "outputs": [],
   "source": [
    "finale.style.apply(highlight_max, axis=None).format(float_formatter)"
   ]
  },
  {
   "cell_type": "code",
   "execution_count": 47,
   "metadata": {},
   "outputs": [
    {
     "data": {
      "application/vnd.jupyter.widget-view+json": {
       "model_id": "a8c085a0a1164b678f957eab4dcca88e",
       "version_major": 2,
       "version_minor": 0
      },
      "text/plain": [
       "HBox(children=(FloatProgress(value=0.0, description='ciao', max=10.0, style=ProgressStyle(description_width='i…"
      ]
     },
     "metadata": {},
     "output_type": "display_data"
    },
    {
     "name": "stdout",
     "output_type": "stream",
     "text": [
      "\n"
     ]
    }
   ],
   "source": [
    "for i in tnrange(10, desc='ciao'):\n",
    "    time.sleep(1)"
   ]
  }
 ],
 "metadata": {
  "kernelspec": {
   "display_name": "Python 3",
   "language": "python",
   "name": "python3"
  },
  "language_info": {
   "codemirror_mode": {
    "name": "ipython",
    "version": 3
   },
   "file_extension": ".py",
   "mimetype": "text/x-python",
   "name": "python",
   "nbconvert_exporter": "python",
   "pygments_lexer": "ipython3",
   "version": "3.7.4"
  },
  "latex_envs": {
   "LaTeX_envs_menu_present": true,
   "autoclose": true,
   "autocomplete": true,
   "bibliofile": "biblio.bib",
   "cite_by": "apalike",
   "current_citInitial": 1,
   "eqLabelWithNumbers": true,
   "eqNumInitial": 1,
   "hotkeys": {
    "equation": "Ctrl-E",
    "itemize": "Ctrl-I"
   },
   "labels_anchors": false,
   "latex_user_defs": false,
   "report_style_numbering": true,
   "user_envs_cfg": false
  }
 },
 "nbformat": 4,
 "nbformat_minor": 2
}
