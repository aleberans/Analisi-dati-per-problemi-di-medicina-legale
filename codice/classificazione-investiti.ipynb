{
 "cells": [
  {
   "cell_type": "code",
   "execution_count": 1,
   "metadata": {},
   "outputs": [
    {
     "data": {
      "text/html": [
       "<div>\n",
       "<style scoped>\n",
       "    .dataframe tbody tr th:only-of-type {\n",
       "        vertical-align: middle;\n",
       "    }\n",
       "\n",
       "    .dataframe tbody tr th {\n",
       "        vertical-align: top;\n",
       "    }\n",
       "\n",
       "    .dataframe thead th {\n",
       "        text-align: right;\n",
       "    }\n",
       "</style>\n",
       "<table border=\"1\" class=\"dataframe\">\n",
       "  <thead>\n",
       "    <tr style=\"text-align: right;\">\n",
       "      <th></th>\n",
       "      <th>DATA</th>\n",
       "      <th>SESSO</th>\n",
       "      <th>ANNI</th>\n",
       "      <th>PESO</th>\n",
       "      <th>ALTEZZA</th>\n",
       "      <th>BMI</th>\n",
       "      <th>Mezzo</th>\n",
       "      <th>Testa:Neurocranio</th>\n",
       "      <th>Testa:Splancnocranio</th>\n",
       "      <th>Testa:Telencefalo</th>\n",
       "      <th>...</th>\n",
       "      <th>Scheletro:Rachide-cervicale</th>\n",
       "      <th>Scheletro:Rachide-toracico</th>\n",
       "      <th>Scheletro:Rachide-lombare</th>\n",
       "      <th>Scheletro:Bacino-e-sacro</th>\n",
       "      <th>Scheletro:Complesso-sterno/claveo/costale</th>\n",
       "      <th>Tot Testa</th>\n",
       "      <th>Tot Torace</th>\n",
       "      <th>Tot Addome</th>\n",
       "      <th>Tot Scheletro</th>\n",
       "      <th>Totale</th>\n",
       "    </tr>\n",
       "    <tr>\n",
       "      <th>VERBALE</th>\n",
       "      <th></th>\n",
       "      <th></th>\n",
       "      <th></th>\n",
       "      <th></th>\n",
       "      <th></th>\n",
       "      <th></th>\n",
       "      <th></th>\n",
       "      <th></th>\n",
       "      <th></th>\n",
       "      <th></th>\n",
       "      <th></th>\n",
       "      <th></th>\n",
       "      <th></th>\n",
       "      <th></th>\n",
       "      <th></th>\n",
       "      <th></th>\n",
       "      <th></th>\n",
       "      <th></th>\n",
       "      <th></th>\n",
       "      <th></th>\n",
       "      <th></th>\n",
       "    </tr>\n",
       "  </thead>\n",
       "  <tbody>\n",
       "    <tr>\n",
       "      <th>85567</th>\n",
       "      <td>1999-10-29</td>\n",
       "      <td>0</td>\n",
       "      <td>81</td>\n",
       "      <td>84.0</td>\n",
       "      <td>1.75</td>\n",
       "      <td>27.428571</td>\n",
       "      <td>0</td>\n",
       "      <td>1</td>\n",
       "      <td>0</td>\n",
       "      <td>0</td>\n",
       "      <td>...</td>\n",
       "      <td>0</td>\n",
       "      <td>3</td>\n",
       "      <td>0</td>\n",
       "      <td>3</td>\n",
       "      <td>3</td>\n",
       "      <td>2</td>\n",
       "      <td>0</td>\n",
       "      <td>3</td>\n",
       "      <td>9</td>\n",
       "      <td>14</td>\n",
       "    </tr>\n",
       "    <tr>\n",
       "      <th>85829</th>\n",
       "      <td>2000-01-14</td>\n",
       "      <td>1</td>\n",
       "      <td>69</td>\n",
       "      <td>69.0</td>\n",
       "      <td>1.62</td>\n",
       "      <td>26.291724</td>\n",
       "      <td>1</td>\n",
       "      <td>4</td>\n",
       "      <td>4</td>\n",
       "      <td>4</td>\n",
       "      <td>...</td>\n",
       "      <td>0</td>\n",
       "      <td>0</td>\n",
       "      <td>0</td>\n",
       "      <td>0</td>\n",
       "      <td>4</td>\n",
       "      <td>20</td>\n",
       "      <td>7</td>\n",
       "      <td>1</td>\n",
       "      <td>4</td>\n",
       "      <td>32</td>\n",
       "    </tr>\n",
       "    <tr>\n",
       "      <th>85977</th>\n",
       "      <td>2000-03-10</td>\n",
       "      <td>1</td>\n",
       "      <td>71</td>\n",
       "      <td>67.0</td>\n",
       "      <td>1.55</td>\n",
       "      <td>27.887617</td>\n",
       "      <td>1</td>\n",
       "      <td>2</td>\n",
       "      <td>0</td>\n",
       "      <td>1</td>\n",
       "      <td>...</td>\n",
       "      <td>0</td>\n",
       "      <td>0</td>\n",
       "      <td>0</td>\n",
       "      <td>0</td>\n",
       "      <td>4</td>\n",
       "      <td>6</td>\n",
       "      <td>0</td>\n",
       "      <td>0</td>\n",
       "      <td>4</td>\n",
       "      <td>10</td>\n",
       "    </tr>\n",
       "    <tr>\n",
       "      <th>86220</th>\n",
       "      <td>2000-06-14</td>\n",
       "      <td>1</td>\n",
       "      <td>54</td>\n",
       "      <td>60.0</td>\n",
       "      <td>1.59</td>\n",
       "      <td>23.733238</td>\n",
       "      <td>1</td>\n",
       "      <td>4</td>\n",
       "      <td>0</td>\n",
       "      <td>0</td>\n",
       "      <td>...</td>\n",
       "      <td>0</td>\n",
       "      <td>0</td>\n",
       "      <td>0</td>\n",
       "      <td>0</td>\n",
       "      <td>4</td>\n",
       "      <td>5</td>\n",
       "      <td>3</td>\n",
       "      <td>2</td>\n",
       "      <td>4</td>\n",
       "      <td>14</td>\n",
       "    </tr>\n",
       "    <tr>\n",
       "      <th>86247</th>\n",
       "      <td>2000-06-22</td>\n",
       "      <td>1</td>\n",
       "      <td>78</td>\n",
       "      <td>69.0</td>\n",
       "      <td>1.67</td>\n",
       "      <td>24.740937</td>\n",
       "      <td>1</td>\n",
       "      <td>2</td>\n",
       "      <td>0</td>\n",
       "      <td>0</td>\n",
       "      <td>...</td>\n",
       "      <td>0</td>\n",
       "      <td>0</td>\n",
       "      <td>0</td>\n",
       "      <td>0</td>\n",
       "      <td>4</td>\n",
       "      <td>2</td>\n",
       "      <td>0</td>\n",
       "      <td>2</td>\n",
       "      <td>4</td>\n",
       "      <td>8</td>\n",
       "    </tr>\n",
       "  </tbody>\n",
       "</table>\n",
       "<p>5 rows × 32 columns</p>\n",
       "</div>"
      ],
      "text/plain": [
       "              DATA  SESSO  ANNI  PESO  ALTEZZA        BMI  Mezzo  \\\n",
       "VERBALE                                                            \n",
       "85567   1999-10-29      0    81  84.0     1.75  27.428571      0   \n",
       "85829   2000-01-14      1    69  69.0     1.62  26.291724      1   \n",
       "85977   2000-03-10      1    71  67.0     1.55  27.887617      1   \n",
       "86220   2000-06-14      1    54  60.0     1.59  23.733238      1   \n",
       "86247   2000-06-22      1    78  69.0     1.67  24.740937      1   \n",
       "\n",
       "         Testa:Neurocranio  Testa:Splancnocranio  Testa:Telencefalo  ...  \\\n",
       "VERBALE                                                              ...   \n",
       "85567                    1                     0                  0  ...   \n",
       "85829                    4                     4                  4  ...   \n",
       "85977                    2                     0                  1  ...   \n",
       "86220                    4                     0                  0  ...   \n",
       "86247                    2                     0                  0  ...   \n",
       "\n",
       "         Scheletro:Rachide-cervicale  Scheletro:Rachide-toracico  \\\n",
       "VERBALE                                                            \n",
       "85567                              0                           3   \n",
       "85829                              0                           0   \n",
       "85977                              0                           0   \n",
       "86220                              0                           0   \n",
       "86247                              0                           0   \n",
       "\n",
       "         Scheletro:Rachide-lombare  Scheletro:Bacino-e-sacro  \\\n",
       "VERBALE                                                        \n",
       "85567                            0                         3   \n",
       "85829                            0                         0   \n",
       "85977                            0                         0   \n",
       "86220                            0                         0   \n",
       "86247                            0                         0   \n",
       "\n",
       "         Scheletro:Complesso-sterno/claveo/costale  Tot Testa  Tot Torace  \\\n",
       "VERBALE                                                                     \n",
       "85567                                            3          2           0   \n",
       "85829                                            4         20           7   \n",
       "85977                                            4          6           0   \n",
       "86220                                            4          5           3   \n",
       "86247                                            4          2           0   \n",
       "\n",
       "         Tot Addome  Tot Scheletro  Totale  \n",
       "VERBALE                                     \n",
       "85567             3              9      14  \n",
       "85829             1              4      32  \n",
       "85977             0              4      10  \n",
       "86220             2              4      14  \n",
       "86247             2              4       8  \n",
       "\n",
       "[5 rows x 32 columns]"
      ]
     },
     "execution_count": 1,
     "metadata": {},
     "output_type": "execute_result"
    }
   ],
   "source": [
    "import pandas as pd\n",
    "dataset = pd.read_excel('IncidentiModificato.xlsx', sheet_name='Foglio1', index_col=0)\n",
    "dataset.head()"
   ]
  },
  {
   "cell_type": "code",
   "execution_count": 65,
   "metadata": {},
   "outputs": [
    {
     "data": {
      "text/html": [
       "<div>\n",
       "<style scoped>\n",
       "    .dataframe tbody tr th:only-of-type {\n",
       "        vertical-align: middle;\n",
       "    }\n",
       "\n",
       "    .dataframe tbody tr th {\n",
       "        vertical-align: top;\n",
       "    }\n",
       "\n",
       "    .dataframe thead th {\n",
       "        text-align: right;\n",
       "    }\n",
       "</style>\n",
       "<table border=\"1\" class=\"dataframe\">\n",
       "  <thead>\n",
       "    <tr style=\"text-align: right;\">\n",
       "      <th></th>\n",
       "      <th>DATA</th>\n",
       "      <th>SESSO</th>\n",
       "      <th>ANNI</th>\n",
       "      <th>PESO</th>\n",
       "      <th>ALTEZZA</th>\n",
       "      <th>BMI</th>\n",
       "      <th>Mezzo</th>\n",
       "      <th>Testa:Neurocranio</th>\n",
       "      <th>Testa:Splancnocranio</th>\n",
       "      <th>Testa:Telencefalo</th>\n",
       "      <th>...</th>\n",
       "      <th>Scheletro:Rachide-cervicale</th>\n",
       "      <th>Scheletro:Rachide-toracico</th>\n",
       "      <th>Scheletro:Rachide-lombare</th>\n",
       "      <th>Scheletro:Bacino-e-sacro</th>\n",
       "      <th>Scheletro:Complesso-sterno/claveo/costale</th>\n",
       "      <th>Tot Testa</th>\n",
       "      <th>Tot Torace</th>\n",
       "      <th>Tot Addome</th>\n",
       "      <th>Tot Scheletro</th>\n",
       "      <th>Totale</th>\n",
       "    </tr>\n",
       "    <tr>\n",
       "      <th>VERBALE</th>\n",
       "      <th></th>\n",
       "      <th></th>\n",
       "      <th></th>\n",
       "      <th></th>\n",
       "      <th></th>\n",
       "      <th></th>\n",
       "      <th></th>\n",
       "      <th></th>\n",
       "      <th></th>\n",
       "      <th></th>\n",
       "      <th></th>\n",
       "      <th></th>\n",
       "      <th></th>\n",
       "      <th></th>\n",
       "      <th></th>\n",
       "      <th></th>\n",
       "      <th></th>\n",
       "      <th></th>\n",
       "      <th></th>\n",
       "      <th></th>\n",
       "      <th></th>\n",
       "    </tr>\n",
       "  </thead>\n",
       "  <tbody>\n",
       "    <tr>\n",
       "      <th>85567</th>\n",
       "      <td>1999-10-29</td>\n",
       "      <td>0</td>\n",
       "      <td>81</td>\n",
       "      <td>84.0</td>\n",
       "      <td>1.75</td>\n",
       "      <td>27.428571</td>\n",
       "      <td>0</td>\n",
       "      <td>1</td>\n",
       "      <td>0</td>\n",
       "      <td>0</td>\n",
       "      <td>...</td>\n",
       "      <td>0</td>\n",
       "      <td>3</td>\n",
       "      <td>0</td>\n",
       "      <td>3</td>\n",
       "      <td>3</td>\n",
       "      <td>2</td>\n",
       "      <td>0</td>\n",
       "      <td>3</td>\n",
       "      <td>9</td>\n",
       "      <td>14</td>\n",
       "    </tr>\n",
       "    <tr>\n",
       "      <th>85829</th>\n",
       "      <td>2000-01-14</td>\n",
       "      <td>1</td>\n",
       "      <td>69</td>\n",
       "      <td>69.0</td>\n",
       "      <td>1.62</td>\n",
       "      <td>26.291724</td>\n",
       "      <td>1</td>\n",
       "      <td>4</td>\n",
       "      <td>4</td>\n",
       "      <td>4</td>\n",
       "      <td>...</td>\n",
       "      <td>0</td>\n",
       "      <td>0</td>\n",
       "      <td>0</td>\n",
       "      <td>0</td>\n",
       "      <td>4</td>\n",
       "      <td>20</td>\n",
       "      <td>7</td>\n",
       "      <td>1</td>\n",
       "      <td>4</td>\n",
       "      <td>32</td>\n",
       "    </tr>\n",
       "    <tr>\n",
       "      <th>85977</th>\n",
       "      <td>2000-03-10</td>\n",
       "      <td>1</td>\n",
       "      <td>71</td>\n",
       "      <td>67.0</td>\n",
       "      <td>1.55</td>\n",
       "      <td>27.887617</td>\n",
       "      <td>1</td>\n",
       "      <td>2</td>\n",
       "      <td>0</td>\n",
       "      <td>1</td>\n",
       "      <td>...</td>\n",
       "      <td>0</td>\n",
       "      <td>0</td>\n",
       "      <td>0</td>\n",
       "      <td>0</td>\n",
       "      <td>4</td>\n",
       "      <td>6</td>\n",
       "      <td>0</td>\n",
       "      <td>0</td>\n",
       "      <td>4</td>\n",
       "      <td>10</td>\n",
       "    </tr>\n",
       "    <tr>\n",
       "      <th>86220</th>\n",
       "      <td>2000-06-14</td>\n",
       "      <td>1</td>\n",
       "      <td>54</td>\n",
       "      <td>60.0</td>\n",
       "      <td>1.59</td>\n",
       "      <td>23.733238</td>\n",
       "      <td>1</td>\n",
       "      <td>4</td>\n",
       "      <td>0</td>\n",
       "      <td>0</td>\n",
       "      <td>...</td>\n",
       "      <td>0</td>\n",
       "      <td>0</td>\n",
       "      <td>0</td>\n",
       "      <td>0</td>\n",
       "      <td>4</td>\n",
       "      <td>5</td>\n",
       "      <td>3</td>\n",
       "      <td>2</td>\n",
       "      <td>4</td>\n",
       "      <td>14</td>\n",
       "    </tr>\n",
       "    <tr>\n",
       "      <th>86247</th>\n",
       "      <td>2000-06-22</td>\n",
       "      <td>1</td>\n",
       "      <td>78</td>\n",
       "      <td>69.0</td>\n",
       "      <td>1.67</td>\n",
       "      <td>24.740937</td>\n",
       "      <td>1</td>\n",
       "      <td>2</td>\n",
       "      <td>0</td>\n",
       "      <td>0</td>\n",
       "      <td>...</td>\n",
       "      <td>0</td>\n",
       "      <td>0</td>\n",
       "      <td>0</td>\n",
       "      <td>0</td>\n",
       "      <td>4</td>\n",
       "      <td>2</td>\n",
       "      <td>0</td>\n",
       "      <td>2</td>\n",
       "      <td>4</td>\n",
       "      <td>8</td>\n",
       "    </tr>\n",
       "    <tr>\n",
       "      <th>...</th>\n",
       "      <td>...</td>\n",
       "      <td>...</td>\n",
       "      <td>...</td>\n",
       "      <td>...</td>\n",
       "      <td>...</td>\n",
       "      <td>...</td>\n",
       "      <td>...</td>\n",
       "      <td>...</td>\n",
       "      <td>...</td>\n",
       "      <td>...</td>\n",
       "      <td>...</td>\n",
       "      <td>...</td>\n",
       "      <td>...</td>\n",
       "      <td>...</td>\n",
       "      <td>...</td>\n",
       "      <td>...</td>\n",
       "      <td>...</td>\n",
       "      <td>...</td>\n",
       "      <td>...</td>\n",
       "      <td>...</td>\n",
       "      <td>...</td>\n",
       "    </tr>\n",
       "    <tr>\n",
       "      <th>101618</th>\n",
       "      <td>2019-05-08</td>\n",
       "      <td>1</td>\n",
       "      <td>82</td>\n",
       "      <td>80.2</td>\n",
       "      <td>1.62</td>\n",
       "      <td>30.559366</td>\n",
       "      <td>0</td>\n",
       "      <td>1</td>\n",
       "      <td>0</td>\n",
       "      <td>0</td>\n",
       "      <td>...</td>\n",
       "      <td>0</td>\n",
       "      <td>0</td>\n",
       "      <td>0</td>\n",
       "      <td>0</td>\n",
       "      <td>0</td>\n",
       "      <td>1</td>\n",
       "      <td>2</td>\n",
       "      <td>0</td>\n",
       "      <td>0</td>\n",
       "      <td>3</td>\n",
       "    </tr>\n",
       "    <tr>\n",
       "      <th>101288E</th>\n",
       "      <td>2018-11-07</td>\n",
       "      <td>1</td>\n",
       "      <td>70</td>\n",
       "      <td>75.6</td>\n",
       "      <td>1.57</td>\n",
       "      <td>30.670615</td>\n",
       "      <td>0</td>\n",
       "      <td>2</td>\n",
       "      <td>0</td>\n",
       "      <td>0</td>\n",
       "      <td>...</td>\n",
       "      <td>0</td>\n",
       "      <td>0</td>\n",
       "      <td>0</td>\n",
       "      <td>0</td>\n",
       "      <td>3</td>\n",
       "      <td>2</td>\n",
       "      <td>0</td>\n",
       "      <td>0</td>\n",
       "      <td>3</td>\n",
       "      <td>5</td>\n",
       "    </tr>\n",
       "    <tr>\n",
       "      <th>E-97586</th>\n",
       "      <td>2013-05-14</td>\n",
       "      <td>0</td>\n",
       "      <td>45</td>\n",
       "      <td>45.0</td>\n",
       "      <td>1.77</td>\n",
       "      <td>14.363689</td>\n",
       "      <td>1</td>\n",
       "      <td>0</td>\n",
       "      <td>0</td>\n",
       "      <td>0</td>\n",
       "      <td>...</td>\n",
       "      <td>0</td>\n",
       "      <td>0</td>\n",
       "      <td>0</td>\n",
       "      <td>4</td>\n",
       "      <td>4</td>\n",
       "      <td>0</td>\n",
       "      <td>1</td>\n",
       "      <td>0</td>\n",
       "      <td>8</td>\n",
       "      <td>9</td>\n",
       "    </tr>\n",
       "    <tr>\n",
       "      <th>X</th>\n",
       "      <td>2018-01-03</td>\n",
       "      <td>0</td>\n",
       "      <td>54</td>\n",
       "      <td>89.6</td>\n",
       "      <td>1.68</td>\n",
       "      <td>31.746032</td>\n",
       "      <td>0</td>\n",
       "      <td>0</td>\n",
       "      <td>2</td>\n",
       "      <td>0</td>\n",
       "      <td>...</td>\n",
       "      <td>0</td>\n",
       "      <td>0</td>\n",
       "      <td>0</td>\n",
       "      <td>2</td>\n",
       "      <td>4</td>\n",
       "      <td>2</td>\n",
       "      <td>2</td>\n",
       "      <td>3</td>\n",
       "      <td>6</td>\n",
       "      <td>13</td>\n",
       "    </tr>\n",
       "    <tr>\n",
       "      <th>X1</th>\n",
       "      <td>2018-02-14</td>\n",
       "      <td>1</td>\n",
       "      <td>86</td>\n",
       "      <td>50.0</td>\n",
       "      <td>1.55</td>\n",
       "      <td>20.811655</td>\n",
       "      <td>0</td>\n",
       "      <td>1</td>\n",
       "      <td>1</td>\n",
       "      <td>0</td>\n",
       "      <td>...</td>\n",
       "      <td>0</td>\n",
       "      <td>1</td>\n",
       "      <td>0</td>\n",
       "      <td>3</td>\n",
       "      <td>4</td>\n",
       "      <td>3</td>\n",
       "      <td>2</td>\n",
       "      <td>3</td>\n",
       "      <td>8</td>\n",
       "      <td>16</td>\n",
       "    </tr>\n",
       "  </tbody>\n",
       "</table>\n",
       "<p>130 rows × 32 columns</p>\n",
       "</div>"
      ],
      "text/plain": [
       "              DATA  SESSO  ANNI  PESO  ALTEZZA        BMI  Mezzo  \\\n",
       "VERBALE                                                            \n",
       "85567   1999-10-29      0    81  84.0     1.75  27.428571      0   \n",
       "85829   2000-01-14      1    69  69.0     1.62  26.291724      1   \n",
       "85977   2000-03-10      1    71  67.0     1.55  27.887617      1   \n",
       "86220   2000-06-14      1    54  60.0     1.59  23.733238      1   \n",
       "86247   2000-06-22      1    78  69.0     1.67  24.740937      1   \n",
       "...            ...    ...   ...   ...      ...        ...    ...   \n",
       "101618  2019-05-08      1    82  80.2     1.62  30.559366      0   \n",
       "101288E 2018-11-07      1    70  75.6     1.57  30.670615      0   \n",
       "E-97586 2013-05-14      0    45  45.0     1.77  14.363689      1   \n",
       "X       2018-01-03      0    54  89.6     1.68  31.746032      0   \n",
       "X1      2018-02-14      1    86  50.0     1.55  20.811655      0   \n",
       "\n",
       "         Testa:Neurocranio  Testa:Splancnocranio  Testa:Telencefalo  ...  \\\n",
       "VERBALE                                                              ...   \n",
       "85567                    1                     0                  0  ...   \n",
       "85829                    4                     4                  4  ...   \n",
       "85977                    2                     0                  1  ...   \n",
       "86220                    4                     0                  0  ...   \n",
       "86247                    2                     0                  0  ...   \n",
       "...                    ...                   ...                ...  ...   \n",
       "101618                   1                     0                  0  ...   \n",
       "101288E                  2                     0                  0  ...   \n",
       "E-97586                  0                     0                  0  ...   \n",
       "X                        0                     2                  0  ...   \n",
       "X1                       1                     1                  0  ...   \n",
       "\n",
       "         Scheletro:Rachide-cervicale  Scheletro:Rachide-toracico  \\\n",
       "VERBALE                                                            \n",
       "85567                              0                           3   \n",
       "85829                              0                           0   \n",
       "85977                              0                           0   \n",
       "86220                              0                           0   \n",
       "86247                              0                           0   \n",
       "...                              ...                         ...   \n",
       "101618                             0                           0   \n",
       "101288E                            0                           0   \n",
       "E-97586                            0                           0   \n",
       "X                                  0                           0   \n",
       "X1                                 0                           1   \n",
       "\n",
       "         Scheletro:Rachide-lombare  Scheletro:Bacino-e-sacro  \\\n",
       "VERBALE                                                        \n",
       "85567                            0                         3   \n",
       "85829                            0                         0   \n",
       "85977                            0                         0   \n",
       "86220                            0                         0   \n",
       "86247                            0                         0   \n",
       "...                            ...                       ...   \n",
       "101618                           0                         0   \n",
       "101288E                          0                         0   \n",
       "E-97586                          0                         4   \n",
       "X                                0                         2   \n",
       "X1                               0                         3   \n",
       "\n",
       "         Scheletro:Complesso-sterno/claveo/costale  Tot Testa  Tot Torace  \\\n",
       "VERBALE                                                                     \n",
       "85567                                            3          2           0   \n",
       "85829                                            4         20           7   \n",
       "85977                                            4          6           0   \n",
       "86220                                            4          5           3   \n",
       "86247                                            4          2           0   \n",
       "...                                            ...        ...         ...   \n",
       "101618                                           0          1           2   \n",
       "101288E                                          3          2           0   \n",
       "E-97586                                          4          0           1   \n",
       "X                                                4          2           2   \n",
       "X1                                               4          3           2   \n",
       "\n",
       "         Tot Addome  Tot Scheletro  Totale  \n",
       "VERBALE                                     \n",
       "85567             3              9      14  \n",
       "85829             1              4      32  \n",
       "85977             0              4      10  \n",
       "86220             2              4      14  \n",
       "86247             2              4       8  \n",
       "...             ...            ...     ...  \n",
       "101618            0              0       3  \n",
       "101288E           0              3       5  \n",
       "E-97586           0              8       9  \n",
       "X                 3              6      13  \n",
       "X1                3              8      16  \n",
       "\n",
       "[130 rows x 32 columns]"
      ]
     },
     "execution_count": 65,
     "metadata": {},
     "output_type": "execute_result"
    }
   ],
   "source": [
    "dataset"
   ]
  },
  {
   "cell_type": "code",
   "execution_count": 2,
   "metadata": {},
   "outputs": [
    {
     "data": {
      "text/plain": [
       "130"
      ]
     },
     "execution_count": 2,
     "metadata": {},
     "output_type": "execute_result"
    }
   ],
   "source": [
    "len(dataset)"
   ]
  },
  {
   "cell_type": "code",
   "execution_count": 3,
   "metadata": {},
   "outputs": [
    {
     "data": {
      "text/plain": [
       "Index([    85567,     85829,     85977,     86220,     86247,     86421,\n",
       "           86839,     86876,     86878,     90056,\n",
       "       ...\n",
       "          101097,    101180,    101189,    101544,    101583,    101618,\n",
       "       '101288E', 'E-97586',       'X',      'X1'],\n",
       "      dtype='object', name='VERBALE', length=130)"
      ]
     },
     "execution_count": 3,
     "metadata": {},
     "output_type": "execute_result"
    }
   ],
   "source": [
    "dataset.index.unique()"
   ]
  },
  {
   "cell_type": "code",
   "execution_count": 4,
   "metadata": {},
   "outputs": [
    {
     "name": "stdout",
     "output_type": "stream",
     "text": [
      "Valori del dataset corretti\n"
     ]
    }
   ],
   "source": [
    "def checkDataset(dataset):\n",
    "    #controllo che i verbali siano valori unici\n",
    "    if (len(dataset.index) != len(dataset.index.unique())):\n",
    "        raise Exception('I verbali non possono essere usati come indice')\n",
    "\n",
    "    #controllo i valori degli anni\n",
    "    anni = dataset['ANNI']\n",
    "    for anno in anni:\n",
    "        if anno < 1 or anno > 95:\n",
    "            raise Exception(f'Anno inserito non valido {anno}')\n",
    "    \n",
    "    #controllo i valori dei pesi\n",
    "    pesi = dataset['PESO']\n",
    "    for peso in pesi:\n",
    "        if peso < 30 or peso > 120:\n",
    "            raise Exception(f'Peso inserito non valido {peso}')\n",
    "    \n",
    "    #controllo i valori dell'altezza\n",
    "    altezze = dataset['ALTEZZA']\n",
    "    for altezza in altezze:\n",
    "        if altezza < 1.00 or altezza > 2.10:\n",
    "            raise Exception(f'Altezza inserito non valida {altezza}')\n",
    "    \n",
    "    #controllo del BMI\n",
    "    valori_BMI = dataset['BMI']\n",
    "    for bmi in valori_BMI:\n",
    "        if bmi < 10.0 or bmi > 50.0:\n",
    "            raise Exception(f'bmi inserito non valido {bmi}')\n",
    "            \n",
    "    #controllo altri valori compresi tra 0 e 4\n",
    "    dataset_valori_0_4 = dataset['Testa:Neurocranio']\n",
    "    for valore in dataset_valori_0_4:\n",
    "        if valore < 0 or valore > 4:\n",
    "            raise Exception(f'{valore} non compresa tra 0 e 4')\n",
    "            \n",
    "\n",
    "    print(\"Valori del dataset corretti\")\n",
    "    \n",
    "\n",
    "checkDataset(dataset)"
   ]
  },
  {
   "cell_type": "code",
   "execution_count": 5,
   "metadata": {},
   "outputs": [],
   "source": [
    "import numpy as np\n",
    "\n",
    "from sklearn.preprocessing import StandardScaler\n",
    "from sklearn.decomposition import PCA\n",
    "from sklearn.model_selection import GridSearchCV, cross_val_score\n",
    "import time\n",
    "\n",
    "def addestra(model_class, X, y, model_selection_grid, num_fold_grid_search, num_fold_cross_val, scaling=StandardScaler(), dim_reduction=None):\n",
    "    \n",
    "    start_time = time.time()\n",
    "    \n",
    "    if scaling is not None:\n",
    "        sc = scaling\n",
    "        X_std = sc.fit_transform(X)\n",
    "    \n",
    "        if dim_reduction is not None: \n",
    "            reducer = dim_reduction\n",
    "            X_std = reducer.fit_transform(X_std)\n",
    "    #se scaling è None uso X\n",
    "    else:\n",
    "        X_std = X\n",
    "\n",
    "    clf = GridSearchCV(estimator=model_class(), param_grid=model_selection_grid, cv=num_fold_grid_search, n_jobs=-1)\n",
    "    val = cross_val_score(clf, X_std, y, cv=num_fold_cross_val)\n",
    "    print(\"--- %s seconds ---\" % (time.time() - start_time))\n",
    "    return val\n",
    "\n",
    "    #For integer/None inputs, if the estimator is a classifier and y is either binary or multiclass, StratifiedKFold is used. In all other cases, KFold is used"
   ]
  },
  {
   "cell_type": "markdown",
   "metadata": {},
   "source": [
    "## Iniziamo considerando solo i totali per distretto"
   ]
  },
  {
   "cell_type": "code",
   "execution_count": 5,
   "metadata": {},
   "outputs": [],
   "source": [
    "X_total = dataset[['SESSO', 'ANNI', 'PESO', 'ALTEZZA', 'Tot Testa', 'Tot Torace', 'Tot Addome', 'Tot Scheletro']]\n",
    "y_total = dataset['Mezzo']"
   ]
  },
  {
   "cell_type": "code",
   "execution_count": 10,
   "metadata": {
    "scrolled": false
   },
   "outputs": [
    {
     "name": "stdout",
     "output_type": "stream",
     "text": [
      "--- 23.06828546524048 seconds ---\n"
     ]
    },
    {
     "data": {
      "text/plain": [
       "0.6608465608465609"
      ]
     },
     "execution_count": 10,
     "metadata": {},
     "output_type": "execute_result"
    }
   ],
   "source": [
    "from sklearn.svm import SVC\n",
    "\n",
    "c_space = np.logspace(-4, 3, 10)\n",
    "gamma_space = np.logspace(-4, 3, 10)\n",
    "\n",
    "model_selection_grid = [\n",
    "  {'C': c_space, 'kernel': ['linear'], 'gamma': ['auto']},\n",
    "  {'C': c_space, 'gamma': gamma_space, 'kernel': ['rbf']},\n",
    "  {'C': c_space, 'gamma': ['auto', 'scale'], 'kernel': ['rbf']},\n",
    "  {'C': c_space, 'degree': [2, 3, 5, 9], 'kernel': ['poly'], 'gamma': ['auto']},\n",
    " ]\n",
    "\n",
    "np.mean(addestra(SVC, X_total, y_total, model_selection_grid, num_fold_cross_val=9, num_fold_grid_search=9))"
   ]
  },
  {
   "cell_type": "code",
   "execution_count": 55,
   "metadata": {},
   "outputs": [
    {
     "name": "stdout",
     "output_type": "stream",
     "text": [
      "--- 7.886806011199951 seconds ---\n"
     ]
    },
    {
     "data": {
      "text/plain": [
       "0.6434676434676435"
      ]
     },
     "execution_count": 55,
     "metadata": {},
     "output_type": "execute_result"
    }
   ],
   "source": [
    "#Provato uno scaler diverso\n",
    "\n",
    "from sklearn.svm import SVC\n",
    "from sklearn.preprocessing import MaxAbsScaler\n",
    "\n",
    "c_space = np.logspace(-4, 3, 10)\n",
    "gamma_space = np.logspace(-4, 3, 10)\n",
    "\n",
    "model_selection_grid = [\n",
    "  {'C': c_space, 'kernel': ['linear'], 'gamma': ['auto']},\n",
    "  {'C': c_space, 'gamma': gamma_space, 'kernel': ['rbf']},\n",
    "  {'C': c_space, 'gamma': ['auto', 'scale'], 'kernel': ['rbf']},\n",
    "  {'C': c_space, 'degree': [2, 3, 5, 9], 'kernel': ['poly'], 'gamma': ['auto']},\n",
    " ]\n",
    "\n",
    "np.mean(addestra(SVC, X_total, y_total, model_selection_grid, num_fold_cross_val=9, num_fold_grid_search=9, scaling=MaxAbsScaler()))"
   ]
  },
  {
   "cell_type": "code",
   "execution_count": 56,
   "metadata": {},
   "outputs": [
    {
     "name": "stdout",
     "output_type": "stream",
     "text": [
      "--- 5.2037739753723145 seconds ---\n"
     ]
    },
    {
     "data": {
      "text/plain": [
       "0.6121693121693121"
      ]
     },
     "execution_count": 56,
     "metadata": {},
     "output_type": "execute_result"
    }
   ],
   "source": [
    "from sklearn.tree import DecisionTreeClassifier\n",
    "\n",
    "model_selection_grid = {'criterion': ['gini', 'entropy'],\n",
    "                        'max_leaf_nodes': [None, 2, 5, 10, 50, 100],\n",
    "                        'max_features': [None, 'sqrt', 'log2'],\n",
    "                        'max_depth': [None, 2, 5, 10]}\n",
    "\n",
    "np.mean(addestra(DecisionTreeClassifier, X_total, y_total, model_selection_grid, 9, 9))"
   ]
  },
  {
   "cell_type": "code",
   "execution_count": 62,
   "metadata": {},
   "outputs": [
    {
     "name": "stdout",
     "output_type": "stream",
     "text": [
      "--- 1345.8139276504517 seconds ---\n"
     ]
    },
    {
     "data": {
      "text/plain": [
       "0.5973544973544974"
      ]
     },
     "execution_count": 62,
     "metadata": {},
     "output_type": "execute_result"
    }
   ],
   "source": [
    "from sklearn.ensemble import RandomForestClassifier\n",
    "\n",
    "model_selection_grid = {'n_estimators': [5, 10, 50, 100, 200],\n",
    "                        'criterion': ['gini', 'entropy'],\n",
    "                        'max_leaf_nodes': [None, 2, 5, 10, 50, 100],\n",
    "                        'max_features': [None, 'sqrt', 'log2'],\n",
    "                        'max_depth': [None, 2, 5, 10]}\n",
    "\n",
    "np.mean(addestra(RandomForestClassifier, X_total, y_total, model_selection_grid, 9, 9))"
   ]
  },
  {
   "cell_type": "code",
   "execution_count": 59,
   "metadata": {},
   "outputs": [
    {
     "name": "stdout",
     "output_type": "stream",
     "text": [
      "--- 0.20396971702575684 seconds ---\n"
     ]
    },
    {
     "data": {
      "text/plain": [
       "0.706064306064306"
      ]
     },
     "execution_count": 59,
     "metadata": {},
     "output_type": "execute_result"
    }
   ],
   "source": [
    "from sklearn.naive_bayes import GaussianNB\n",
    "\n",
    "model_selection_grid = {}\n",
    "\n",
    "np.mean(addestra(GaussianNB, X_total, y_total, model_selection_grid, 9, 9))"
   ]
  },
  {
   "cell_type": "code",
   "execution_count": 60,
   "metadata": {},
   "outputs": [
    {
     "name": "stdout",
     "output_type": "stream",
     "text": [
      "--- 0.2944047451019287 seconds ---\n"
     ]
    },
    {
     "data": {
      "text/plain": [
       "0.7192104192104192"
      ]
     },
     "execution_count": 60,
     "metadata": {},
     "output_type": "execute_result"
    }
   ],
   "source": [
    "from sklearn.discriminant_analysis import LinearDiscriminantAnalysis\n",
    "\n",
    "model_selection_grid = {}\n",
    "\n",
    "np.mean(addestra(LinearDiscriminantAnalysis, X_total, y_total, model_selection_grid, 9, 9))"
   ]
  },
  {
   "cell_type": "code",
   "execution_count": 61,
   "metadata": {
    "scrolled": false
   },
   "outputs": [
    {
     "name": "stdout",
     "output_type": "stream",
     "text": [
      "--- 312.54798412323 seconds ---\n"
     ]
    },
    {
     "data": {
      "text/plain": [
       "0.643996743996744"
      ]
     },
     "execution_count": 61,
     "metadata": {},
     "output_type": "execute_result"
    }
   ],
   "source": [
    "from sklearn.neural_network import MLPClassifier\n",
    "\n",
    "model_selection_grid = {'max_iter': [5000],\n",
    "                        'hidden_layer_sizes': [[2], [4], [6], [10], [20], [4, 4], [10, 10]],\n",
    "                        'activation': ['identity', 'logistic', 'tanh', 'relu']}\n",
    "\n",
    "np.mean(addestra(MLPClassifier, X_total, y_total, model_selection_grid, 9, 9))"
   ]
  },
  {
   "cell_type": "markdown",
   "metadata": {},
   "source": [
    "# Usiamo anche il BMI"
   ]
  },
  {
   "cell_type": "code",
   "execution_count": 6,
   "metadata": {},
   "outputs": [],
   "source": [
    "X_total_with_BMI = dataset[['SESSO', 'ANNI', 'PESO', 'ALTEZZA', 'BMI', 'Tot Testa', 'Tot Torace', 'Tot Addome', 'Tot Scheletro']]\n",
    "y_total_with_BMI = dataset['Mezzo']"
   ]
  },
  {
   "cell_type": "code",
   "execution_count": 10,
   "metadata": {},
   "outputs": [
    {
     "name": "stdout",
     "output_type": "stream",
     "text": [
      "--- 24.934508800506592 seconds ---\n"
     ]
    },
    {
     "data": {
      "text/plain": [
       "0.6687830687830688"
      ]
     },
     "execution_count": 10,
     "metadata": {},
     "output_type": "execute_result"
    }
   ],
   "source": [
    "from sklearn.svm import SVC\n",
    "import numpy as np\n",
    "\n",
    "c_space = np.logspace(-4, 3, 10)\n",
    "gamma_space = np.logspace(-4, 3, 10)\n",
    "\n",
    "model_selection_grid = [\n",
    "  {'C': c_space, 'kernel': ['linear'], 'gamma': ['auto']},\n",
    "  {'C': c_space, 'gamma': gamma_space, 'kernel': ['rbf']},\n",
    "  {'C': c_space, 'gamma': ['auto', 'scale'], 'kernel': ['rbf']},\n",
    "  {'C': c_space, 'degree': [2, 3, 5, 9], 'kernel': ['poly'], 'gamma': ['auto']},\n",
    " ]\n",
    "\n",
    "np.mean(addestra(SVC, X_total_with_BMI, y_total_with_BMI, model_selection_grid, 9, 9))"
   ]
  },
  {
   "cell_type": "code",
   "execution_count": 11,
   "metadata": {},
   "outputs": [
    {
     "name": "stdout",
     "output_type": "stream",
     "text": [
      "--- 8.439143896102905 seconds ---\n"
     ]
    },
    {
     "data": {
      "text/plain": [
       "0.5613756613756613"
      ]
     },
     "execution_count": 11,
     "metadata": {},
     "output_type": "execute_result"
    }
   ],
   "source": [
    "from sklearn.tree import DecisionTreeClassifier\n",
    "\n",
    "model_selection_grid = {'criterion': ['gini', 'entropy'],\n",
    "                        'max_leaf_nodes': [None, 2, 5, 10, 50, 100],\n",
    "                        'max_features': [None, 'sqrt', 'log2'],\n",
    "                        'max_depth': [None, 2, 5, 10]}\n",
    "\n",
    "np.mean(addestra(DecisionTreeClassifier, X_total_with_BMI, y_total_with_BMI, model_selection_grid, 9, 9))"
   ]
  },
  {
   "cell_type": "code",
   "execution_count": null,
   "metadata": {},
   "outputs": [],
   "source": [
    "from sklearn.ensemble import RandomForestClassifier\n",
    "\n",
    "model_selection_grid = {'n_estimators': [5, 10, 50, 100, 200],\n",
    "                        'criterion': ['gini', 'entropy'],\n",
    "                        'max_leaf_nodes': [None, 2, 5, 10, 50, 100],\n",
    "                        'max_features': [None, 'sqrt', 'log2'],\n",
    "                        'max_depth': [None, 2, 5, 10]}\n",
    "\n",
    "np.mean(addestra(RandomForestClassifier, X_total, y_total, model_selection_grid, 9, 9))"
   ]
  },
  {
   "cell_type": "code",
   "execution_count": null,
   "metadata": {},
   "outputs": [],
   "source": [
    "from sklearn.naive_bayes import GaussianNB\n",
    "\n",
    "model_selection_grid = {}\n",
    "\n",
    "np.mean(addestra(GaussianNB, X_total, y_total, model_selection_grid, 9, 9))"
   ]
  },
  {
   "cell_type": "code",
   "execution_count": null,
   "metadata": {},
   "outputs": [],
   "source": [
    "from sklearn.discriminant_analysis import LinearDiscriminantAnalysis\n",
    "\n",
    "model_selection_grid = {}\n",
    "\n",
    "np.mean(addestra(LinearDiscriminantAnalysis, X_total, y_total, model_selection_grid, 9, 9))"
   ]
  },
  {
   "cell_type": "code",
   "execution_count": null,
   "metadata": {},
   "outputs": [],
   "source": [
    "from sklearn.neural_network import MLPClassifier\n",
    "\n",
    "model_selection_grid = {'max_iter': [5000],\n",
    "                        'hidden_layer_sizes': [[2], [4], [6], [10], [20], [4, 4], [10, 10]],\n",
    "                        'activation': ['identity', 'logistic', 'tanh', 'relu']}\n",
    "\n",
    "np.mean(addestra(MLPClassifier, X_total, y_total, model_selection_grid, 9, 9))"
   ]
  },
  {
   "cell_type": "markdown",
   "metadata": {},
   "source": [
    "# Usiamo la DATA senza BMI"
   ]
  },
  {
   "cell_type": "code",
   "execution_count": 46,
   "metadata": {},
   "outputs": [
    {
     "name": "stdout",
     "output_type": "stream",
     "text": [
      "La prima data del dataset è:  1999-10-29T00:00:00.000000000\n"
     ]
    }
   ],
   "source": [
    "date_ordinate = dataset['DATA'].sort_values()\n",
    "prima_data = date_ordinate.values[0]\n",
    "print(\"La prima data del dataset è: \", prima_data)"
   ]
  },
  {
   "cell_type": "code",
   "execution_count": 47,
   "metadata": {},
   "outputs": [],
   "source": [
    "date = dataset['DATA']\n",
    "d0 = np.datetime64('1990-01-01')\n",
    "\n",
    "def converti_data_in_giorni(date, d0):\n",
    "    giorni = []\n",
    "    for data in date:\n",
    "        giorni.append(data-d0)\n",
    "    return giorni"
   ]
  },
  {
   "cell_type": "code",
   "execution_count": 48,
   "metadata": {},
   "outputs": [
    {
     "data": {
      "text/html": [
       "<div>\n",
       "<style scoped>\n",
       "    .dataframe tbody tr th:only-of-type {\n",
       "        vertical-align: middle;\n",
       "    }\n",
       "\n",
       "    .dataframe tbody tr th {\n",
       "        vertical-align: top;\n",
       "    }\n",
       "\n",
       "    .dataframe thead th {\n",
       "        text-align: right;\n",
       "    }\n",
       "</style>\n",
       "<table border=\"1\" class=\"dataframe\">\n",
       "  <thead>\n",
       "    <tr style=\"text-align: right;\">\n",
       "      <th></th>\n",
       "      <th>DATA</th>\n",
       "      <th>SESSO</th>\n",
       "      <th>ANNI</th>\n",
       "      <th>PESO</th>\n",
       "      <th>ALTEZZA</th>\n",
       "      <th>Tot Testa</th>\n",
       "      <th>Tot Torace</th>\n",
       "      <th>Tot Addome</th>\n",
       "      <th>Tot Scheletro</th>\n",
       "    </tr>\n",
       "    <tr>\n",
       "      <th>VERBALE</th>\n",
       "      <th></th>\n",
       "      <th></th>\n",
       "      <th></th>\n",
       "      <th></th>\n",
       "      <th></th>\n",
       "      <th></th>\n",
       "      <th></th>\n",
       "      <th></th>\n",
       "      <th></th>\n",
       "    </tr>\n",
       "  </thead>\n",
       "  <tbody>\n",
       "    <tr>\n",
       "      <th>85567</th>\n",
       "      <td>3588 days</td>\n",
       "      <td>0</td>\n",
       "      <td>81</td>\n",
       "      <td>84.0</td>\n",
       "      <td>1.75</td>\n",
       "      <td>2</td>\n",
       "      <td>0</td>\n",
       "      <td>3</td>\n",
       "      <td>9</td>\n",
       "    </tr>\n",
       "    <tr>\n",
       "      <th>85829</th>\n",
       "      <td>3665 days</td>\n",
       "      <td>1</td>\n",
       "      <td>69</td>\n",
       "      <td>69.0</td>\n",
       "      <td>1.62</td>\n",
       "      <td>20</td>\n",
       "      <td>7</td>\n",
       "      <td>1</td>\n",
       "      <td>4</td>\n",
       "    </tr>\n",
       "    <tr>\n",
       "      <th>85977</th>\n",
       "      <td>3721 days</td>\n",
       "      <td>1</td>\n",
       "      <td>71</td>\n",
       "      <td>67.0</td>\n",
       "      <td>1.55</td>\n",
       "      <td>6</td>\n",
       "      <td>0</td>\n",
       "      <td>0</td>\n",
       "      <td>4</td>\n",
       "    </tr>\n",
       "    <tr>\n",
       "      <th>86220</th>\n",
       "      <td>3817 days</td>\n",
       "      <td>1</td>\n",
       "      <td>54</td>\n",
       "      <td>60.0</td>\n",
       "      <td>1.59</td>\n",
       "      <td>5</td>\n",
       "      <td>3</td>\n",
       "      <td>2</td>\n",
       "      <td>4</td>\n",
       "    </tr>\n",
       "    <tr>\n",
       "      <th>86247</th>\n",
       "      <td>3825 days</td>\n",
       "      <td>1</td>\n",
       "      <td>78</td>\n",
       "      <td>69.0</td>\n",
       "      <td>1.67</td>\n",
       "      <td>2</td>\n",
       "      <td>0</td>\n",
       "      <td>2</td>\n",
       "      <td>4</td>\n",
       "    </tr>\n",
       "    <tr>\n",
       "      <th>...</th>\n",
       "      <td>...</td>\n",
       "      <td>...</td>\n",
       "      <td>...</td>\n",
       "      <td>...</td>\n",
       "      <td>...</td>\n",
       "      <td>...</td>\n",
       "      <td>...</td>\n",
       "      <td>...</td>\n",
       "      <td>...</td>\n",
       "    </tr>\n",
       "    <tr>\n",
       "      <th>101618</th>\n",
       "      <td>10719 days</td>\n",
       "      <td>1</td>\n",
       "      <td>82</td>\n",
       "      <td>80.2</td>\n",
       "      <td>1.62</td>\n",
       "      <td>1</td>\n",
       "      <td>2</td>\n",
       "      <td>0</td>\n",
       "      <td>0</td>\n",
       "    </tr>\n",
       "    <tr>\n",
       "      <th>101288E</th>\n",
       "      <td>10537 days</td>\n",
       "      <td>1</td>\n",
       "      <td>70</td>\n",
       "      <td>75.6</td>\n",
       "      <td>1.57</td>\n",
       "      <td>2</td>\n",
       "      <td>0</td>\n",
       "      <td>0</td>\n",
       "      <td>3</td>\n",
       "    </tr>\n",
       "    <tr>\n",
       "      <th>E-97586</th>\n",
       "      <td>8534 days</td>\n",
       "      <td>0</td>\n",
       "      <td>45</td>\n",
       "      <td>45.0</td>\n",
       "      <td>1.77</td>\n",
       "      <td>0</td>\n",
       "      <td>1</td>\n",
       "      <td>0</td>\n",
       "      <td>8</td>\n",
       "    </tr>\n",
       "    <tr>\n",
       "      <th>X</th>\n",
       "      <td>10229 days</td>\n",
       "      <td>0</td>\n",
       "      <td>54</td>\n",
       "      <td>89.6</td>\n",
       "      <td>1.68</td>\n",
       "      <td>2</td>\n",
       "      <td>2</td>\n",
       "      <td>3</td>\n",
       "      <td>6</td>\n",
       "    </tr>\n",
       "    <tr>\n",
       "      <th>X1</th>\n",
       "      <td>10271 days</td>\n",
       "      <td>1</td>\n",
       "      <td>86</td>\n",
       "      <td>50.0</td>\n",
       "      <td>1.55</td>\n",
       "      <td>3</td>\n",
       "      <td>2</td>\n",
       "      <td>3</td>\n",
       "      <td>8</td>\n",
       "    </tr>\n",
       "  </tbody>\n",
       "</table>\n",
       "<p>130 rows × 9 columns</p>\n",
       "</div>"
      ],
      "text/plain": [
       "              DATA  SESSO  ANNI  PESO  ALTEZZA  Tot Testa  Tot Torace  \\\n",
       "VERBALE                                                                 \n",
       "85567    3588 days      0    81  84.0     1.75          2           0   \n",
       "85829    3665 days      1    69  69.0     1.62         20           7   \n",
       "85977    3721 days      1    71  67.0     1.55          6           0   \n",
       "86220    3817 days      1    54  60.0     1.59          5           3   \n",
       "86247    3825 days      1    78  69.0     1.67          2           0   \n",
       "...            ...    ...   ...   ...      ...        ...         ...   \n",
       "101618  10719 days      1    82  80.2     1.62          1           2   \n",
       "101288E 10537 days      1    70  75.6     1.57          2           0   \n",
       "E-97586  8534 days      0    45  45.0     1.77          0           1   \n",
       "X       10229 days      0    54  89.6     1.68          2           2   \n",
       "X1      10271 days      1    86  50.0     1.55          3           2   \n",
       "\n",
       "         Tot Addome  Tot Scheletro  \n",
       "VERBALE                             \n",
       "85567             3              9  \n",
       "85829             1              4  \n",
       "85977             0              4  \n",
       "86220             2              4  \n",
       "86247             2              4  \n",
       "...             ...            ...  \n",
       "101618            0              0  \n",
       "101288E           0              3  \n",
       "E-97586           0              8  \n",
       "X                 3              6  \n",
       "X1                3              8  \n",
       "\n",
       "[130 rows x 9 columns]"
      ]
     },
     "execution_count": 48,
     "metadata": {},
     "output_type": "execute_result"
    }
   ],
   "source": [
    "X_total_with_data = dataset[['SESSO', 'ANNI', 'PESO', 'ALTEZZA', 'Tot Testa', 'Tot Torace', 'Tot Addome', 'Tot Scheletro']]\n",
    "y_total_with_data = dataset['Mezzo']\n",
    "X_total_with_data.insert(0, \"DATA\", converti_data_in_giorni(date, d0))\n",
    "X_total_with_data"
   ]
  },
  {
   "cell_type": "markdown",
   "metadata": {},
   "source": [
    "## Aumentiamo la precisione, scendendo nei cinque livelli di ogni distretto"
   ]
  },
  {
   "cell_type": "code",
   "execution_count": 8,
   "metadata": {},
   "outputs": [],
   "source": [
    "selected_cols = ['Testa:Neurocranio',\n",
    "                 'Testa:Splancnocranio',\n",
    "                 'Testa:Telencefalo',\n",
    "                 'Testa:Cervelletto',\n",
    "                 'Testa:Tronco-encefalico',\n",
    "                 'Torace:Polmoni',\n",
    "                 'Torace:Trachea/bronchi',\n",
    "                 'Torace:Cuore',\n",
    "                 'Torace:Aorta-toracica',\n",
    "                 'Torace:Diaframma',\n",
    "                 'Addome:Fegato',\n",
    "                 'Addome:Milza',\n",
    "                 'Addome:Aorta-addominale',\n",
    "                 'Addome:Reni',\n",
    "                 'Addome:Mesentere',\n",
    "                 'Scheletro:Rachide-cervicale',\n",
    "                 'Scheletro:Rachide-toracico',\n",
    "                 'Scheletro:Rachide-lombare',\n",
    "                 'Scheletro:Bacino-e-sacro',\n",
    "                 'Scheletro:Complesso-sterno/claveo/costale']\n",
    "\n",
    "X_details = dataset[selected_cols]\n",
    "y_details = dataset['Mezzo']"
   ]
  },
  {
   "cell_type": "markdown",
   "metadata": {},
   "source": [
    "Iniziamo facendo un controllo su quanto sia possibile ridurre la dimensione dei dati"
   ]
  },
  {
   "cell_type": "code",
   "execution_count": 64,
   "metadata": {},
   "outputs": [
    {
     "data": {
      "text/plain": [
       "PCA(copy=True, iterated_power='auto', n_components=20, random_state=None,\n",
       "    svd_solver='auto', tol=0.0, whiten=False)"
      ]
     },
     "execution_count": 64,
     "metadata": {},
     "output_type": "execute_result"
    }
   ],
   "source": [
    "pca = PCA(n_components = 20)\n",
    "pca.fit(X_details)"
   ]
  },
  {
   "cell_type": "code",
   "execution_count": 65,
   "metadata": {},
   "outputs": [
    {
     "data": {
      "image/png": "[encoded data removed]",
      "text/plain": [
       "<Figure size 432x288 with 1 Axes>"
      ]
     },
     "metadata": {
      "needs_background": "light"
     },
     "output_type": "display_data"
    }
   ],
   "source": [
    "%matplotlib inline\n",
    "\n",
    "from matplotlib import pyplot as plt\n",
    "\n",
    "plt.plot(range(20), pca.explained_variance_ratio_.cumsum())\n",
    "plt.show()"
   ]
  },
  {
   "cell_type": "code",
   "execution_count": 66,
   "metadata": {},
   "outputs": [
    {
     "data": {
      "text/plain": [
       "array([0.2590028 , 0.4424267 , 0.51161017, 0.57652743, 0.63390248,\n",
       "       0.68359398, 0.72846105, 0.7680911 , 0.80302776, 0.83411104,\n",
       "       0.8604245 , 0.88623497, 0.91098428, 0.9328969 , 0.94926481,\n",
       "       0.96485529, 0.97790404, 0.99078593, 0.99608975, 1.        ])"
      ]
     },
     "execution_count": 66,
     "metadata": {},
     "output_type": "execute_result"
    }
   ],
   "source": [
    "pca.explained_variance_ratio_.cumsum()"
   ]
  },
  {
   "cell_type": "code",
   "execution_count": 67,
   "metadata": {},
   "outputs": [
    {
     "data": {
      "text/plain": [
       "0.9109842843806883"
      ]
     },
     "execution_count": 67,
     "metadata": {},
     "output_type": "execute_result"
    }
   ],
   "source": [
    "pca.explained_variance_ratio_.cumsum()[12]"
   ]
  },
  {
   "cell_type": "markdown",
   "metadata": {},
   "source": [
    "Scendendo quindi da 20 a 13 feature si mantiene più del 90% della varianza"
   ]
  },
  {
   "cell_type": "markdown",
   "metadata": {},
   "source": [
    "### Iniziamo comunque con tutte le 20 feature"
   ]
  },
  {
   "cell_type": "code",
   "execution_count": 68,
   "metadata": {},
   "outputs": [
    {
     "name": "stdout",
     "output_type": "stream",
     "text": [
      "--- 88.71103024482727 seconds ---\n"
     ]
    },
    {
     "data": {
      "text/plain": [
       "0.6703296703296704"
      ]
     },
     "execution_count": 68,
     "metadata": {},
     "output_type": "execute_result"
    }
   ],
   "source": [
    "c_space = np.logspace(-4, 3, 10)\n",
    "gamma_space = np.logspace(-4, 3, 10)\n",
    "\n",
    "model_selection_grid = [\n",
    "  {'C': c_space, 'kernel': ['linear'], 'gamma': ['auto']},\n",
    "  {'C': c_space, 'gamma': gamma_space, 'kernel': ['rbf']},\n",
    "  {'C': c_space, 'gamma': ['auto', 'scale'], 'kernel': ['rbf']},\n",
    "  {'C': c_space, 'degree': [2, 3, 5, 9], 'kernel': ['poly'], 'gamma': ['auto']},\n",
    " ]\n",
    "\n",
    "np.mean(addestra(SVC, X_details, y_details, model_selection_grid, 9, 9))"
   ]
  },
  {
   "cell_type": "code",
   "execution_count": 69,
   "metadata": {},
   "outputs": [
    {
     "name": "stdout",
     "output_type": "stream",
     "text": [
      "--- 6.342380523681641 seconds ---\n"
     ]
    },
    {
     "data": {
      "text/plain": [
       "0.6873422873422874"
      ]
     },
     "execution_count": 69,
     "metadata": {},
     "output_type": "execute_result"
    }
   ],
   "source": [
    "from sklearn.tree import DecisionTreeClassifier\n",
    "\n",
    "model_selection_grid = {'criterion': ['gini', 'entropy'],\n",
    "                        'max_leaf_nodes': [None, 2, 5, 10, 50, 100],\n",
    "                        'max_features': [None, 'sqrt', 'log2'],\n",
    "                        'max_depth': [None, 2, 5, 10]}\n",
    "\n",
    "np.mean(addestra(DecisionTreeClassifier, X_details, y_details, model_selection_grid, 9, 9))"
   ]
  },
  {
   "cell_type": "code",
   "execution_count": 70,
   "metadata": {},
   "outputs": [
    {
     "name": "stdout",
     "output_type": "stream",
     "text": [
      "--- 1457.8604836463928 seconds ---\n"
     ]
    },
    {
     "data": {
      "text/plain": [
       "0.7162800162800163"
      ]
     },
     "execution_count": 70,
     "metadata": {},
     "output_type": "execute_result"
    }
   ],
   "source": [
    "from sklearn.ensemble import RandomForestClassifier\n",
    "\n",
    "model_selection_grid = {'n_estimators': [5, 10, 50, 100, 200],\n",
    "                        'criterion': ['gini', 'entropy'],\n",
    "                        'max_leaf_nodes': [None, 2, 5, 10, 50, 100],\n",
    "                        'max_features': [None, 'sqrt', 'log2'],\n",
    "                        'max_depth': [None, 2, 5, 10]}\n",
    "\n",
    "np.mean(addestra(RandomForestClassifier, X_details, y_details, model_selection_grid, 9, 9))"
   ]
  },
  {
   "cell_type": "code",
   "execution_count": 71,
   "metadata": {},
   "outputs": [
    {
     "name": "stdout",
     "output_type": "stream",
     "text": [
      "--- 0.17936372756958008 seconds ---\n"
     ]
    },
    {
     "data": {
      "text/plain": [
       "0.6359788359788361"
      ]
     },
     "execution_count": 71,
     "metadata": {},
     "output_type": "execute_result"
    }
   ],
   "source": [
    "from sklearn.naive_bayes import GaussianNB\n",
    "\n",
    "model_selection_grid = {}\n",
    "\n",
    "np.mean(addestra(GaussianNB, X_details, y_details, model_selection_grid, 9, 9))"
   ]
  },
  {
   "cell_type": "code",
   "execution_count": 72,
   "metadata": {},
   "outputs": [
    {
     "name": "stdout",
     "output_type": "stream",
     "text": [
      "--- 0.3141815662384033 seconds ---\n"
     ]
    },
    {
     "data": {
      "text/plain": [
       "0.6433862433862434"
      ]
     },
     "execution_count": 72,
     "metadata": {},
     "output_type": "execute_result"
    }
   ],
   "source": [
    "from sklearn.discriminant_analysis import LinearDiscriminantAnalysis\n",
    "\n",
    "model_selection_grid = {}\n",
    "\n",
    "np.mean(addestra(LinearDiscriminantAnalysis, X_details, y_details, model_selection_grid, 9, 9))"
   ]
  },
  {
   "cell_type": "code",
   "execution_count": 73,
   "metadata": {
    "scrolled": false
   },
   "outputs": [
    {
     "name": "stdout",
     "output_type": "stream",
     "text": [
      "--- 289.08682513237 seconds ---\n"
     ]
    },
    {
     "data": {
      "text/plain": [
       "0.6251933251933253"
      ]
     },
     "execution_count": 73,
     "metadata": {},
     "output_type": "execute_result"
    }
   ],
   "source": [
    "from sklearn.neural_network import MLPClassifier\n",
    "\n",
    "model_selection_grid = {'max_iter': [5000],\n",
    "                        'hidden_layer_sizes': [[2], [4], [6], [10], [20], [4, 4], [10, 10]],\n",
    "                        'activation': ['identity', 'logistic', 'tanh', 'relu']}\n",
    "\n",
    "np.mean(addestra(MLPClassifier, X_details, y_details, model_selection_grid, 9, 9))"
   ]
  },
  {
   "cell_type": "markdown",
   "metadata": {},
   "source": [
    "### Scendiamo a 13 feature con PCA"
   ]
  },
  {
   "cell_type": "code",
   "execution_count": 9,
   "metadata": {},
   "outputs": [
    {
     "name": "stdout",
     "output_type": "stream",
     "text": [
      "--- 52.10693359375 seconds ---\n"
     ]
    },
    {
     "data": {
      "text/plain": [
       "0.6783068783068783"
      ]
     },
     "execution_count": 9,
     "metadata": {},
     "output_type": "execute_result"
    }
   ],
   "source": [
    "from sklearn.svm import SVC\n",
    "\n",
    "c_space = np.logspace(-4, 3, 10)\n",
    "gamma_space = np.logspace(-4, 3, 10)\n",
    "\n",
    "model_selection_grid = [\n",
    "  {'C': c_space, 'kernel': ['linear'], 'gamma': ['auto']},\n",
    "  {'C': c_space, 'gamma': gamma_space, 'kernel': ['rbf']},\n",
    "  {'C': c_space, 'gamma': ['auto', 'scale'], 'kernel': ['rbf']},\n",
    "  {'C': c_space, 'degree': [2, 3, 5, 9], 'kernel': ['poly'], 'gamma': ['auto']},\n",
    " ]\n",
    "\n",
    "np.mean(addestra(SVC, X_details, y_details, model_selection_grid, 9, 9, dim_reduction=PCA(n_components=13)))"
   ]
  },
  {
   "cell_type": "code",
   "execution_count": 10,
   "metadata": {},
   "outputs": [
    {
     "name": "stdout",
     "output_type": "stream",
     "text": [
      "--- 9.652462005615234 seconds ---\n"
     ]
    },
    {
     "data": {
      "text/plain": [
       "0.6777777777777777"
      ]
     },
     "execution_count": 10,
     "metadata": {},
     "output_type": "execute_result"
    }
   ],
   "source": [
    "from sklearn.tree import DecisionTreeClassifier\n",
    "\n",
    "model_selection_grid = {'criterion': ['gini', 'entropy'],\n",
    "                        'max_leaf_nodes': [None, 2, 5, 10, 50, 100],\n",
    "                        'max_features': [None, 'sqrt', 'log2'],\n",
    "                        'max_depth': [None, 2, 5, 10]}\n",
    "\n",
    "np.mean(addestra(DecisionTreeClassifier, X_details, y_details, model_selection_grid, 9, 9, dim_reduction=PCA(n_components=13)))"
   ]
  },
  {
   "cell_type": "code",
   "execution_count": 11,
   "metadata": {},
   "outputs": [
    {
     "name": "stdout",
     "output_type": "stream",
     "text": [
      "--- 1753.3900077342987 seconds ---\n"
     ]
    },
    {
     "data": {
      "text/plain": [
       "0.7010582010582012"
      ]
     },
     "execution_count": 11,
     "metadata": {},
     "output_type": "execute_result"
    }
   ],
   "source": [
    "from sklearn.ensemble import RandomForestClassifier\n",
    "\n",
    "model_selection_grid = {'n_estimators': [5, 10, 50, 100, 200],\n",
    "                        'criterion': ['gini', 'entropy'],\n",
    "                        'max_leaf_nodes': [None, 2, 5, 10, 50, 100],\n",
    "                        'max_features': [None, 'sqrt', 'log2'],\n",
    "                        'max_depth': [None, 2, 5, 10]}\n",
    "\n",
    "np.mean(addestra(RandomForestClassifier, X_details, y_details, model_selection_grid, 9, 9, dim_reduction=PCA(n_components=13)))"
   ]
  },
  {
   "cell_type": "code",
   "execution_count": 12,
   "metadata": {},
   "outputs": [
    {
     "name": "stdout",
     "output_type": "stream",
     "text": [
      "--- 0.2553293704986572 seconds ---\n"
     ]
    },
    {
     "data": {
      "text/plain": [
       "0.6767195767195767"
      ]
     },
     "execution_count": 12,
     "metadata": {},
     "output_type": "execute_result"
    }
   ],
   "source": [
    "from sklearn.naive_bayes import GaussianNB\n",
    "\n",
    "model_selection_grid = {}\n",
    "\n",
    "np.mean(addestra(GaussianNB, X_details, y_details, model_selection_grid, 9, 9, dim_reduction=PCA(n_components=13)))"
   ]
  },
  {
   "cell_type": "code",
   "execution_count": 13,
   "metadata": {},
   "outputs": [
    {
     "name": "stdout",
     "output_type": "stream",
     "text": [
      "--- 0.3568408489227295 seconds ---\n"
     ]
    },
    {
     "data": {
      "text/plain": [
       "0.5925925925925927"
      ]
     },
     "execution_count": 13,
     "metadata": {},
     "output_type": "execute_result"
    }
   ],
   "source": [
    "from sklearn.discriminant_analysis import LinearDiscriminantAnalysis\n",
    "\n",
    "model_selection_grid = {}\n",
    "\n",
    "np.mean(addestra(LinearDiscriminantAnalysis, X_details, y_details, model_selection_grid, 9, 9, dim_reduction=PCA(n_components=13)))"
   ]
  },
  {
   "cell_type": "code",
   "execution_count": 14,
   "metadata": {
    "scrolled": false
   },
   "outputs": [
    {
     "name": "stdout",
     "output_type": "stream",
     "text": [
      "--- 308.16686820983887 seconds ---\n"
     ]
    },
    {
     "data": {
      "text/plain": [
       "0.5925925925925926"
      ]
     },
     "execution_count": 14,
     "metadata": {},
     "output_type": "execute_result"
    }
   ],
   "source": [
    "from sklearn.neural_network import MLPClassifier\n",
    "\n",
    "model_selection_grid = {'max_iter': [5000],\n",
    "                        'hidden_layer_sizes': [[2], [4], [6], [10], [20], [4, 4], [10, 10]],\n",
    "                        'activation': ['identity', 'logistic', 'tanh', 'relu']}\n",
    "\n",
    "np.mean(addestra(MLPClassifier, X_details, y_details, model_selection_grid, 9, 9, dim_reduction=PCA(n_components=13)))"
   ]
  },
  {
   "cell_type": "markdown",
   "metadata": {},
   "source": [
    "### Proviamo a ridurre le componenti a 10 con t-SNE"
   ]
  },
  {
   "cell_type": "code",
   "execution_count": 17,
   "metadata": {},
   "outputs": [],
   "source": [
    "from sklearn.manifold import TSNE"
   ]
  },
  {
   "cell_type": "code",
   "execution_count": 18,
   "metadata": {},
   "outputs": [
    {
     "name": "stdout",
     "output_type": "stream",
     "text": [
      "--- 2432.211760044098 seconds ---\n"
     ]
    },
    {
     "data": {
      "text/plain": [
       "0.5306878306878308"
      ]
     },
     "execution_count": 18,
     "metadata": {},
     "output_type": "execute_result"
    }
   ],
   "source": [
    "from sklearn.svm import SVC\n",
    "\n",
    "c_space = np.logspace(-4, 3, 10)\n",
    "gamma_space = np.logspace(-4, 3, 10)\n",
    "\n",
    "model_selection_grid = [\n",
    "  {'C': c_space, 'kernel': ['linear'], 'gamma': ['auto']},\n",
    "  {'C': c_space, 'gamma': gamma_space, 'kernel': ['rbf']},\n",
    "  {'C': c_space, 'gamma': ['auto', 'scale'], 'kernel': ['rbf']},\n",
    "  {'C': c_space, 'degree': [2, 3, 5, 9], 'kernel': ['poly'], 'gamma': ['auto']},\n",
    " ]\n",
    "\n",
    "np.mean(addestra(SVC, X_details, y_details, model_selection_grid, 9, 9, dim_reduction=TSNE(n_components=10, method='exact')))"
   ]
  },
  {
   "cell_type": "code",
   "execution_count": 19,
   "metadata": {},
   "outputs": [
    {
     "name": "stdout",
     "output_type": "stream",
     "text": [
      "--- 6.291813611984253 seconds ---\n"
     ]
    },
    {
     "data": {
      "text/plain": [
       "0.4978835978835979"
      ]
     },
     "execution_count": 19,
     "metadata": {},
     "output_type": "execute_result"
    }
   ],
   "source": [
    "from sklearn.tree import DecisionTreeClassifier\n",
    "\n",
    "model_selection_grid = {'criterion': ['gini', 'entropy'],\n",
    "                        'max_leaf_nodes': [None, 2, 5, 10, 50, 100],\n",
    "                        'max_features': [None, 'sqrt', 'log2'],\n",
    "                        'max_depth': [None, 2, 5, 10]}\n",
    "\n",
    "np.mean(addestra(DecisionTreeClassifier, X_details, y_details, model_selection_grid, 9, 9, dim_reduction=TSNE(n_components=3)))"
   ]
  },
  {
   "cell_type": "code",
   "execution_count": 20,
   "metadata": {},
   "outputs": [
    {
     "name": "stdout",
     "output_type": "stream",
     "text": [
      "--- 1594.0424664020538 seconds ---\n"
     ]
    },
    {
     "data": {
      "text/plain": [
       "0.5"
      ]
     },
     "execution_count": 20,
     "metadata": {},
     "output_type": "execute_result"
    }
   ],
   "source": [
    "from sklearn.ensemble import RandomForestClassifier\n",
    "\n",
    "model_selection_grid = {'n_estimators': [5, 10, 50, 100, 200],\n",
    "                        'criterion': ['gini', 'entropy'],\n",
    "                        'max_leaf_nodes': [None, 2, 5, 10, 50, 100],\n",
    "                        'max_features': [None, 'sqrt', 'log2'],\n",
    "                        'max_depth': [None, 2, 5, 10]}\n",
    "\n",
    "np.mean(addestra(RandomForestClassifier, X_details, y_details, model_selection_grid, 9, 9, dim_reduction=TSNE(n_components=3)))"
   ]
  },
  {
   "cell_type": "code",
   "execution_count": 21,
   "metadata": {},
   "outputs": [
    {
     "ename": "TypeError",
     "evalue": "addestra() missing 1 required positional argument: 'num_fold_cross_val'",
     "output_type": "error",
     "traceback": [
      "\u001b[0;31m---------------------------------------------------------------------------\u001b[0m",
      "\u001b[0;31mTypeError\u001b[0m                                 Traceback (most recent call last)",
      "\u001b[0;32m<ipython-input-21-7da1c6e91d41>\u001b[0m in \u001b[0;36m<module>\u001b[0;34m\u001b[0m\n\u001b[1;32m      3\u001b[0m \u001b[0mmodel_selection_grid\u001b[0m \u001b[0;34m=\u001b[0m \u001b[0;34m{\u001b[0m\u001b[0;34m}\u001b[0m\u001b[0;34m\u001b[0m\u001b[0;34m\u001b[0m\u001b[0m\n\u001b[1;32m      4\u001b[0m \u001b[0;34m\u001b[0m\u001b[0m\n\u001b[0;32m----> 5\u001b[0;31m \u001b[0mnp\u001b[0m\u001b[0;34m.\u001b[0m\u001b[0mmean\u001b[0m\u001b[0;34m(\u001b[0m\u001b[0maddestra\u001b[0m\u001b[0;34m(\u001b[0m\u001b[0mGaussianNB\u001b[0m\u001b[0;34m,\u001b[0m \u001b[0mX_details\u001b[0m\u001b[0;34m,\u001b[0m \u001b[0my_details\u001b[0m\u001b[0;34m,\u001b[0m \u001b[0mmodel_selection_grid\u001b[0m\u001b[0;34m,\u001b[0m \u001b[0;36m9\u001b[0m\u001b[0;34m,\u001b[0m \u001b[0mdim_reduction\u001b[0m\u001b[0;34m=\u001b[0m\u001b[0mTSNE\u001b[0m\u001b[0;34m(\u001b[0m\u001b[0mn_components\u001b[0m\u001b[0;34m=\u001b[0m\u001b[0;36m3\u001b[0m\u001b[0;34m)\u001b[0m\u001b[0;34m)\u001b[0m\u001b[0;34m)\u001b[0m\u001b[0;34m\u001b[0m\u001b[0;34m\u001b[0m\u001b[0m\n\u001b[0m",
      "\u001b[0;31mTypeError\u001b[0m: addestra() missing 1 required positional argument: 'num_fold_cross_val'"
     ]
    }
   ],
   "source": [
    "from sklearn.naive_bayes import GaussianNB\n",
    "\n",
    "model_selection_grid = {}\n",
    "\n",
    "np.mean(addestra(GaussianNB, X_details, y_details, model_selection_grid, 9, dim_reduction=TSNE(n_components=3)))"
   ]
  },
  {
   "cell_type": "code",
   "execution_count": null,
   "metadata": {},
   "outputs": [],
   "source": [
    "from sklearn.discriminant_analysis import LinearDiscriminantAnalysis\n",
    "\n",
    "model_selection_grid = {}\n",
    "\n",
    "np.mean(addestra(LinearDiscriminantAnalysis, X_details, y_details, model_selection_grid, 9, dim_reduction=TSNE(n_components=3)))"
   ]
  },
  {
   "cell_type": "code",
   "execution_count": null,
   "metadata": {
    "scrolled": false
   },
   "outputs": [],
   "source": [
    "from sklearn.neural_network import MLPClassifier\n",
    "\n",
    "model_selection_grid = {'max_iter': [5000],\n",
    "                        'hidden_layer_sizes': [[2], [4], [6], [10], [20], [4, 4], [10, 10]],\n",
    "                        'activation': ['identity', 'logistic', 'tanh', 'relu']}\n",
    "\n",
    "np.mean(addestra(MLPClassifier, X_details, y_details, model_selection_grid, 9, dim_reduction=TSNE(n_components=3)))"
   ]
  },
  {
   "cell_type": "code",
   "execution_count": null,
   "metadata": {},
   "outputs": [],
   "source": []
  },
  {
   "cell_type": "code",
   "execution_count": null,
   "metadata": {},
   "outputs": [],
   "source": []
  }
 ],
 "metadata": {
  "kernelspec": {
   "display_name": "Python 3",
   "language": "python",
   "name": "python3"
  },
  "language_info": {
   "codemirror_mode": {
    "name": "ipython",
    "version": 3
   },
   "file_extension": ".py",
   "mimetype": "text/x-python",
   "name": "python",
   "nbconvert_exporter": "python",
   "pygments_lexer": "ipython3",
   "version": "3.7.4"
  },
  "latex_envs": {
   "LaTeX_envs_menu_present": true,
   "autoclose": true,
   "autocomplete": true,
   "bibliofile": "biblio.bib",
   "cite_by": "apalike",
   "current_citInitial": 1,
   "eqLabelWithNumbers": true,
   "eqNumInitial": 1,
   "hotkeys": {
    "equation": "Ctrl-E",
    "itemize": "Ctrl-I"
   },
   "labels_anchors": false,
   "latex_user_defs": false,
   "report_style_numbering": true,
   "user_envs_cfg": false
  }
 },
 "nbformat": 4,
 "nbformat_minor": 2
}
