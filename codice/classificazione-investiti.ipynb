{
 "cells": [
  {
   "cell_type": "code",
   "execution_count": 1,
   "metadata": {},
   "outputs": [],
   "source": [
    "import logging\n",
    "logging.basicConfig(\n",
    "    level=logging.INFO,\n",
    "    handlers=[logging.FileHandler(filename='Risultati2.log')])\n",
    "loggerTotali = logging.getLogger('Dataset_totali')"
   ]
  },
  {
   "cell_type": "code",
   "execution_count": 2,
   "metadata": {},
   "outputs": [
    {
     "data": {
      "text/html": [
       "<div>\n",
       "<style scoped>\n",
       "    .dataframe tbody tr th:only-of-type {\n",
       "        vertical-align: middle;\n",
       "    }\n",
       "\n",
       "    .dataframe tbody tr th {\n",
       "        vertical-align: top;\n",
       "    }\n",
       "\n",
       "    .dataframe thead th {\n",
       "        text-align: right;\n",
       "    }\n",
       "</style>\n",
       "<table border=\"1\" class=\"dataframe\">\n",
       "  <thead>\n",
       "    <tr style=\"text-align: right;\">\n",
       "      <th></th>\n",
       "      <th>DATA</th>\n",
       "      <th>SESSO</th>\n",
       "      <th>ANNI</th>\n",
       "      <th>PESO</th>\n",
       "      <th>ALTEZZA</th>\n",
       "      <th>BMI</th>\n",
       "      <th>Mezzo</th>\n",
       "      <th>Testa:Neurocranio</th>\n",
       "      <th>Testa:Splancnocranio</th>\n",
       "      <th>Testa:Telencefalo</th>\n",
       "      <th>...</th>\n",
       "      <th>Scheletro:Rachide-cervicale</th>\n",
       "      <th>Scheletro:Rachide-toracico</th>\n",
       "      <th>Scheletro:Rachide-lombare</th>\n",
       "      <th>Scheletro:Bacino-e-sacro</th>\n",
       "      <th>Scheletro:Complesso-sterno/claveo/costale</th>\n",
       "      <th>Tot Testa</th>\n",
       "      <th>Tot Torace</th>\n",
       "      <th>Tot Addome</th>\n",
       "      <th>Tot Scheletro</th>\n",
       "      <th>Totale</th>\n",
       "    </tr>\n",
       "    <tr>\n",
       "      <th>VERBALE</th>\n",
       "      <th></th>\n",
       "      <th></th>\n",
       "      <th></th>\n",
       "      <th></th>\n",
       "      <th></th>\n",
       "      <th></th>\n",
       "      <th></th>\n",
       "      <th></th>\n",
       "      <th></th>\n",
       "      <th></th>\n",
       "      <th></th>\n",
       "      <th></th>\n",
       "      <th></th>\n",
       "      <th></th>\n",
       "      <th></th>\n",
       "      <th></th>\n",
       "      <th></th>\n",
       "      <th></th>\n",
       "      <th></th>\n",
       "      <th></th>\n",
       "      <th></th>\n",
       "    </tr>\n",
       "  </thead>\n",
       "  <tbody>\n",
       "    <tr>\n",
       "      <td>85567</td>\n",
       "      <td>1999-10-29</td>\n",
       "      <td>0</td>\n",
       "      <td>81</td>\n",
       "      <td>84.0</td>\n",
       "      <td>1.75</td>\n",
       "      <td>27.428571</td>\n",
       "      <td>0</td>\n",
       "      <td>1</td>\n",
       "      <td>0</td>\n",
       "      <td>0</td>\n",
       "      <td>...</td>\n",
       "      <td>0</td>\n",
       "      <td>3</td>\n",
       "      <td>0</td>\n",
       "      <td>3</td>\n",
       "      <td>3</td>\n",
       "      <td>2</td>\n",
       "      <td>0</td>\n",
       "      <td>3</td>\n",
       "      <td>9</td>\n",
       "      <td>14</td>\n",
       "    </tr>\n",
       "    <tr>\n",
       "      <td>85829</td>\n",
       "      <td>2000-01-14</td>\n",
       "      <td>1</td>\n",
       "      <td>69</td>\n",
       "      <td>69.0</td>\n",
       "      <td>1.62</td>\n",
       "      <td>26.291724</td>\n",
       "      <td>1</td>\n",
       "      <td>4</td>\n",
       "      <td>4</td>\n",
       "      <td>4</td>\n",
       "      <td>...</td>\n",
       "      <td>0</td>\n",
       "      <td>0</td>\n",
       "      <td>0</td>\n",
       "      <td>0</td>\n",
       "      <td>4</td>\n",
       "      <td>20</td>\n",
       "      <td>7</td>\n",
       "      <td>1</td>\n",
       "      <td>4</td>\n",
       "      <td>32</td>\n",
       "    </tr>\n",
       "    <tr>\n",
       "      <td>85977</td>\n",
       "      <td>2000-03-10</td>\n",
       "      <td>1</td>\n",
       "      <td>71</td>\n",
       "      <td>67.0</td>\n",
       "      <td>1.55</td>\n",
       "      <td>27.887617</td>\n",
       "      <td>1</td>\n",
       "      <td>2</td>\n",
       "      <td>0</td>\n",
       "      <td>1</td>\n",
       "      <td>...</td>\n",
       "      <td>0</td>\n",
       "      <td>0</td>\n",
       "      <td>0</td>\n",
       "      <td>0</td>\n",
       "      <td>4</td>\n",
       "      <td>6</td>\n",
       "      <td>0</td>\n",
       "      <td>0</td>\n",
       "      <td>4</td>\n",
       "      <td>10</td>\n",
       "    </tr>\n",
       "    <tr>\n",
       "      <td>86220</td>\n",
       "      <td>2000-06-14</td>\n",
       "      <td>1</td>\n",
       "      <td>54</td>\n",
       "      <td>60.0</td>\n",
       "      <td>1.59</td>\n",
       "      <td>23.733238</td>\n",
       "      <td>1</td>\n",
       "      <td>4</td>\n",
       "      <td>0</td>\n",
       "      <td>0</td>\n",
       "      <td>...</td>\n",
       "      <td>0</td>\n",
       "      <td>0</td>\n",
       "      <td>0</td>\n",
       "      <td>0</td>\n",
       "      <td>4</td>\n",
       "      <td>5</td>\n",
       "      <td>3</td>\n",
       "      <td>2</td>\n",
       "      <td>4</td>\n",
       "      <td>14</td>\n",
       "    </tr>\n",
       "    <tr>\n",
       "      <td>86247</td>\n",
       "      <td>2000-06-22</td>\n",
       "      <td>1</td>\n",
       "      <td>78</td>\n",
       "      <td>69.0</td>\n",
       "      <td>1.67</td>\n",
       "      <td>24.740937</td>\n",
       "      <td>1</td>\n",
       "      <td>2</td>\n",
       "      <td>0</td>\n",
       "      <td>0</td>\n",
       "      <td>...</td>\n",
       "      <td>0</td>\n",
       "      <td>0</td>\n",
       "      <td>0</td>\n",
       "      <td>0</td>\n",
       "      <td>4</td>\n",
       "      <td>2</td>\n",
       "      <td>0</td>\n",
       "      <td>2</td>\n",
       "      <td>4</td>\n",
       "      <td>8</td>\n",
       "    </tr>\n",
       "  </tbody>\n",
       "</table>\n",
       "<p>5 rows × 32 columns</p>\n",
       "</div>"
      ],
      "text/plain": [
       "              DATA  SESSO  ANNI  PESO  ALTEZZA        BMI  Mezzo  \\\n",
       "VERBALE                                                            \n",
       "85567   1999-10-29      0    81  84.0     1.75  27.428571      0   \n",
       "85829   2000-01-14      1    69  69.0     1.62  26.291724      1   \n",
       "85977   2000-03-10      1    71  67.0     1.55  27.887617      1   \n",
       "86220   2000-06-14      1    54  60.0     1.59  23.733238      1   \n",
       "86247   2000-06-22      1    78  69.0     1.67  24.740937      1   \n",
       "\n",
       "         Testa:Neurocranio  Testa:Splancnocranio  Testa:Telencefalo  ...  \\\n",
       "VERBALE                                                              ...   \n",
       "85567                    1                     0                  0  ...   \n",
       "85829                    4                     4                  4  ...   \n",
       "85977                    2                     0                  1  ...   \n",
       "86220                    4                     0                  0  ...   \n",
       "86247                    2                     0                  0  ...   \n",
       "\n",
       "         Scheletro:Rachide-cervicale  Scheletro:Rachide-toracico  \\\n",
       "VERBALE                                                            \n",
       "85567                              0                           3   \n",
       "85829                              0                           0   \n",
       "85977                              0                           0   \n",
       "86220                              0                           0   \n",
       "86247                              0                           0   \n",
       "\n",
       "         Scheletro:Rachide-lombare  Scheletro:Bacino-e-sacro  \\\n",
       "VERBALE                                                        \n",
       "85567                            0                         3   \n",
       "85829                            0                         0   \n",
       "85977                            0                         0   \n",
       "86220                            0                         0   \n",
       "86247                            0                         0   \n",
       "\n",
       "         Scheletro:Complesso-sterno/claveo/costale  Tot Testa  Tot Torace  \\\n",
       "VERBALE                                                                     \n",
       "85567                                            3          2           0   \n",
       "85829                                            4         20           7   \n",
       "85977                                            4          6           0   \n",
       "86220                                            4          5           3   \n",
       "86247                                            4          2           0   \n",
       "\n",
       "         Tot Addome  Tot Scheletro  Totale  \n",
       "VERBALE                                     \n",
       "85567             3              9      14  \n",
       "85829             1              4      32  \n",
       "85977             0              4      10  \n",
       "86220             2              4      14  \n",
       "86247             2              4       8  \n",
       "\n",
       "[5 rows x 32 columns]"
      ]
     },
     "execution_count": 2,
     "metadata": {},
     "output_type": "execute_result"
    }
   ],
   "source": [
    "import pandas as pd\n",
    "dataset = pd.read_excel('IncidentiModificato.xlsx', sheet_name='Foglio1', index_col=0)\n",
    "dataset.head()"
   ]
  },
  {
   "cell_type": "code",
   "execution_count": 3,
   "metadata": {},
   "outputs": [
    {
     "data": {
      "text/plain": [
       "130"
      ]
     },
     "execution_count": 3,
     "metadata": {},
     "output_type": "execute_result"
    }
   ],
   "source": [
    "len(dataset)"
   ]
  },
  {
   "cell_type": "code",
   "execution_count": 4,
   "metadata": {},
   "outputs": [
    {
     "data": {
      "text/plain": [
       "Index([    85567,     85829,     85977,     86220,     86247,     86421,\n",
       "           86839,     86876,     86878,     90056,\n",
       "       ...\n",
       "          101097,    101180,    101189,    101544,    101583,    101618,\n",
       "       '101288E', 'E-97586',       'X',      'X1'],\n",
       "      dtype='object', name='VERBALE', length=130)"
      ]
     },
     "execution_count": 4,
     "metadata": {},
     "output_type": "execute_result"
    }
   ],
   "source": [
    "dataset.index.unique()"
   ]
  },
  {
   "cell_type": "code",
   "execution_count": 5,
   "metadata": {},
   "outputs": [
    {
     "name": "stdout",
     "output_type": "stream",
     "text": [
      "Valori del dataset corretti\n"
     ]
    }
   ],
   "source": [
    "def checkDataset(dataset):\n",
    "    #controllo che i verbali siano valori unici\n",
    "    if (len(dataset.index) != len(dataset.index.unique())):\n",
    "        raise Exception('I verbali non possono essere usati come indice')\n",
    "\n",
    "    #controllo i valori degli anni\n",
    "    anni = dataset['ANNI']\n",
    "    for anno in anni:\n",
    "        if anno < 1 or anno > 95:\n",
    "            raise Exception(f'Anno inserito non valido {anno}')\n",
    "    \n",
    "    #controllo i valori dei pesi\n",
    "    pesi = dataset['PESO']\n",
    "    for peso in pesi:\n",
    "        if peso < 30 or peso > 120:\n",
    "            raise Exception(f'Peso inserito non valido {peso}')\n",
    "    \n",
    "    #controllo i valori dell'altezza\n",
    "    altezze = dataset['ALTEZZA']\n",
    "    for altezza in altezze:\n",
    "        if altezza < 1.00 or altezza > 2.10:\n",
    "            raise Exception(f'Altezza inserito non valida {altezza}')\n",
    "    \n",
    "    #controllo del BMI\n",
    "    valori_BMI = dataset['BMI']\n",
    "    for bmi in valori_BMI:\n",
    "        if bmi < 10.0 or bmi > 50.0:\n",
    "            raise Exception(f'bmi inserito non valido {bmi}')\n",
    "            \n",
    "    #controllo altri valori compresi tra 0 e 4\n",
    "    dataset_valori_0_4 = dataset['Testa:Neurocranio']\n",
    "    for valore in dataset_valori_0_4:\n",
    "        if valore < 0 or valore > 4:\n",
    "            raise Exception(f'{valore} non compresa tra 0 e 4')\n",
    "            \n",
    "\n",
    "    print(\"Valori del dataset corretti\")\n",
    "    \n",
    "\n",
    "checkDataset(dataset)"
   ]
  },
  {
   "cell_type": "code",
   "execution_count": 6,
   "metadata": {},
   "outputs": [],
   "source": [
    "import numpy as np\n",
    "\n",
    "from sklearn.preprocessing import StandardScaler\n",
    "from sklearn.decomposition import PCA\n",
    "from sklearn.model_selection import GridSearchCV, cross_val_score\n",
    "import time\n",
    "from random import seed\n",
    "import numpy as np\n",
    "\n",
    "\n",
    "def addestra(model_class, X, y, model_selection_grid, num_fold_grid_search, num_fold_cross_val, scaling=StandardScaler(), dim_reduction=None):\n",
    "    \n",
    "    start_time = time.time()\n",
    "    \n",
    "    X_std = scaling.fit_transform(X) if scaling is not None else X\n",
    "    \n",
    "    X_std = dim_reduction.fit_transform(X_std) if dim_reduction is not None else X_std\n",
    "    np.random.seed(42)\n",
    "    clf = GridSearchCV(estimator=model_class(), param_grid=model_selection_grid, cv=num_fold_grid_search, iid=True, n_jobs=-1)\n",
    "    val = cross_val_score(clf, X_std, y, cv=num_fold_cross_val)\n",
    "    print(\"--- %s seconds ---\" % (time.time() - start_time))\n",
    "    return val\n"
   ]
  },
  {
   "cell_type": "markdown",
   "metadata": {},
   "source": [
    "## Iniziamo considerando solo i totali per distretto"
   ]
  },
  {
   "cell_type": "code",
   "execution_count": 7,
   "metadata": {},
   "outputs": [],
   "source": [
    "X_total = dataset[['SESSO', 'ANNI', 'PESO', 'ALTEZZA', 'Tot Testa', 'Tot Torace', 'Tot Addome', 'Tot Scheletro']]\n",
    "y_total = dataset['Mezzo']"
   ]
  },
  {
   "cell_type": "code",
   "execution_count": 8,
   "metadata": {},
   "outputs": [],
   "source": [
    "risultati = {}"
   ]
  },
  {
   "cell_type": "code",
   "execution_count": 9,
   "metadata": {},
   "outputs": [],
   "source": [
    "from sklearn.svm import SVC\n",
    "from sklearn.tree import DecisionTreeClassifier\n",
    "from sklearn.naive_bayes import GaussianNB\n",
    "from sklearn.ensemble import RandomForestClassifier\n",
    "from sklearn.discriminant_analysis import LinearDiscriminantAnalysis\n",
    "from sklearn.neural_network import MLPClassifier\n",
    "\n",
    "models = [SVC, DecisionTreeClassifier, RandomForestClassifier, GaussianNB, LinearDiscriminantAnalysis, MLPClassifier]\n",
    "model_to_string = {SVC: 'SVC', DecisionTreeClassifier: 'DT', RandomForestClassifier:'RF', GaussianNB: 'NB', LinearDiscriminantAnalysis: 'LD', MLPClassifier: 'MLP'}\n",
    "\n",
    "c_space = np.logspace(-4, 3, 10)\n",
    "gamma_space = np.logspace(-4, 3, 10)\n",
    "\n",
    "model_selection_grid_SVC = [\n",
    "  {'C': c_space, 'kernel': ['linear'], 'gamma': ['auto']},\n",
    "  {'C': c_space, 'gamma': gamma_space, 'kernel': ['rbf']},\n",
    "  {'C': c_space, 'gamma': ['auto', 'scale'], 'kernel': ['rbf']},\n",
    "  {'C': c_space, 'degree': [2, 3, 5, 9], 'kernel': ['poly'], 'gamma': ['auto']},\n",
    " ]\n",
    "\n",
    "model_selection_grid_DT = {'criterion': ['gini', 'entropy'],\n",
    "                        'max_leaf_nodes': [None, 2, 5, 10, 50, 100],\n",
    "                        'max_features': [None, 'sqrt', 'log2'],\n",
    "                        'max_depth': [None, 2, 5, 10]}\n",
    "\n",
    "\n",
    "\n",
    "model_selection_grid_RF = {'n_estimators': [5, 10, 50, 100, 200],\n",
    "                        'criterion': ['gini', 'entropy'],\n",
    "                        'max_leaf_nodes': [None, 2, 5, 10, 50, 100],\n",
    "                        'max_features': [None, 'sqrt', 'log2'],\n",
    "                        'max_depth': [None, 2, 5, 10]}\n",
    "\n",
    "model_selection_grid_NB = {}\n",
    "model_selection_grid_LD = {}\n",
    "\n",
    "model_selection_grid_MLP = {'max_iter': [5000],\n",
    "                        'hidden_layer_sizes': [[2], [4], [6], [10], [20], [4, 4], [10, 10]],\n",
    "                        'activation': ['identity', 'logistic', 'tanh', 'relu']}\n",
    "\n",
    "grids = [model_selection_grid_SVC, model_selection_grid_DT, model_selection_grid_RF, model_selection_grid_NB, model_selection_grid_LD, model_selection_grid_MLP]"
   ]
  },
  {
   "cell_type": "code",
   "execution_count": 10,
   "metadata": {
    "scrolled": true
   },
   "outputs": [
    {
     "name": "stdout",
     "output_type": "stream",
     "text": [
      "--- 32.94188141822815 seconds ---\n",
      "--- 5.923735857009888 seconds ---\n",
      "--- 1660.9387757778168 seconds ---\n",
      "--- 0.1752948760986328 seconds ---\n",
      "--- 0.24924731254577637 seconds ---\n",
      "--- 318.83595633506775 seconds ---\n"
     ]
    }
   ],
   "source": [
    "risultati['Totali'] = {model_to_string[m]: np.mean(addestra(m, X_total, y_total, g, 9, 9)) for m, g in zip(models, grids)}\n",
    "loggerTotali.info(risultati['Totali'])"
   ]
  },
  {
   "cell_type": "code",
   "execution_count": 11,
   "metadata": {},
   "outputs": [
    {
     "data": {
      "text/html": [
       "<div>\n",
       "<style scoped>\n",
       "    .dataframe tbody tr th:only-of-type {\n",
       "        vertical-align: middle;\n",
       "    }\n",
       "\n",
       "    .dataframe tbody tr th {\n",
       "        vertical-align: top;\n",
       "    }\n",
       "\n",
       "    .dataframe thead th {\n",
       "        text-align: right;\n",
       "    }\n",
       "</style>\n",
       "<table border=\"1\" class=\"dataframe\">\n",
       "  <thead>\n",
       "    <tr style=\"text-align: right;\">\n",
       "      <th></th>\n",
       "      <th>Totali</th>\n",
       "    </tr>\n",
       "  </thead>\n",
       "  <tbody>\n",
       "    <tr>\n",
       "      <td>DT</td>\n",
       "      <td>0.560317</td>\n",
       "    </tr>\n",
       "    <tr>\n",
       "      <td>LD</td>\n",
       "      <td>0.719210</td>\n",
       "    </tr>\n",
       "    <tr>\n",
       "      <td>MLP</td>\n",
       "      <td>0.674155</td>\n",
       "    </tr>\n",
       "    <tr>\n",
       "      <td>NB</td>\n",
       "      <td>0.706064</td>\n",
       "    </tr>\n",
       "    <tr>\n",
       "      <td>RF</td>\n",
       "      <td>0.622914</td>\n",
       "    </tr>\n",
       "    <tr>\n",
       "      <td>SVC</td>\n",
       "      <td>0.666748</td>\n",
       "    </tr>\n",
       "  </tbody>\n",
       "</table>\n",
       "</div>"
      ],
      "text/plain": [
       "       Totali\n",
       "DT   0.560317\n",
       "LD   0.719210\n",
       "MLP  0.674155\n",
       "NB   0.706064\n",
       "RF   0.622914\n",
       "SVC  0.666748"
      ]
     },
     "execution_count": 11,
     "metadata": {},
     "output_type": "execute_result"
    }
   ],
   "source": [
    "table = pd.DataFrame(risultati)\n",
    "table"
   ]
  },
  {
   "cell_type": "markdown",
   "metadata": {},
   "source": [
    "# Proviamo considerando anche il BMI"
   ]
  },
  {
   "cell_type": "code",
   "execution_count": 12,
   "metadata": {},
   "outputs": [],
   "source": [
    "X_total_with_BMI = dataset[['SESSO', 'ANNI', 'PESO', 'ALTEZZA', 'BMI', 'Tot Testa', 'Tot Torace', 'Tot Addome', 'Tot Scheletro']]\n",
    "y_total_with_BMI = dataset['Mezzo']"
   ]
  },
  {
   "cell_type": "code",
   "execution_count": 13,
   "metadata": {},
   "outputs": [
    {
     "name": "stdout",
     "output_type": "stream",
     "text": [
      "--- 37.97696280479431 seconds ---\n",
      "--- 6.640751123428345 seconds ---\n",
      "--- 1676.4074397087097 seconds ---\n",
      "--- 0.1735391616821289 seconds ---\n",
      "--- 0.21575140953063965 seconds ---\n",
      "--- 330.29100370407104 seconds ---\n"
     ]
    }
   ],
   "source": [
    "risultati['Totali_with_BMI'] = {model_to_string[m]: np.mean(addestra(m, X_total_with_BMI, y_total_with_BMI, g, 9, 9)) for m, g in zip(models, grids)}\n",
    "loggerTotali.info(risultati['Totali_with_BMI'])"
   ]
  },
  {
   "cell_type": "code",
   "execution_count": 14,
   "metadata": {},
   "outputs": [
    {
     "data": {
      "text/html": [
       "<div>\n",
       "<style scoped>\n",
       "    .dataframe tbody tr th:only-of-type {\n",
       "        vertical-align: middle;\n",
       "    }\n",
       "\n",
       "    .dataframe tbody tr th {\n",
       "        vertical-align: top;\n",
       "    }\n",
       "\n",
       "    .dataframe thead th {\n",
       "        text-align: right;\n",
       "    }\n",
       "</style>\n",
       "<table border=\"1\" class=\"dataframe\">\n",
       "  <thead>\n",
       "    <tr style=\"text-align: right;\">\n",
       "      <th></th>\n",
       "      <th>Totali</th>\n",
       "      <th>Totali_with_BMI</th>\n",
       "    </tr>\n",
       "  </thead>\n",
       "  <tbody>\n",
       "    <tr>\n",
       "      <td>SVC</td>\n",
       "      <td>0.666748</td>\n",
       "      <td>0.666748</td>\n",
       "    </tr>\n",
       "    <tr>\n",
       "      <td>DT</td>\n",
       "      <td>0.560317</td>\n",
       "      <td>0.568254</td>\n",
       "    </tr>\n",
       "    <tr>\n",
       "      <td>RF</td>\n",
       "      <td>0.622914</td>\n",
       "      <td>0.592755</td>\n",
       "    </tr>\n",
       "    <tr>\n",
       "      <td>NB</td>\n",
       "      <td>0.706064</td>\n",
       "      <td>0.690110</td>\n",
       "    </tr>\n",
       "    <tr>\n",
       "      <td>LD</td>\n",
       "      <td>0.719210</td>\n",
       "      <td>0.704925</td>\n",
       "    </tr>\n",
       "    <tr>\n",
       "      <td>MLP</td>\n",
       "      <td>0.674155</td>\n",
       "      <td>0.666748</td>\n",
       "    </tr>\n",
       "  </tbody>\n",
       "</table>\n",
       "</div>"
      ],
      "text/plain": [
       "       Totali  Totali_with_BMI\n",
       "SVC  0.666748         0.666748\n",
       "DT   0.560317         0.568254\n",
       "RF   0.622914         0.592755\n",
       "NB   0.706064         0.690110\n",
       "LD   0.719210         0.704925\n",
       "MLP  0.674155         0.666748"
      ]
     },
     "execution_count": 14,
     "metadata": {},
     "output_type": "execute_result"
    }
   ],
   "source": [
    "table = pd.DataFrame(risultati)\n",
    "table"
   ]
  },
  {
   "cell_type": "markdown",
   "metadata": {},
   "source": [
    "# Usiamo la DATA senza BMI"
   ]
  },
  {
   "cell_type": "code",
   "execution_count": 15,
   "metadata": {},
   "outputs": [
    {
     "name": "stdout",
     "output_type": "stream",
     "text": [
      "La prima data del dataset è:  1999-10-29T00:00:00.000000000\n"
     ]
    }
   ],
   "source": [
    "date_ordinate = dataset['DATA'].sort_values()\n",
    "prima_data = date_ordinate.values[0]\n",
    "print(\"La prima data del dataset è: \", prima_data)"
   ]
  },
  {
   "cell_type": "code",
   "execution_count": 16,
   "metadata": {},
   "outputs": [
    {
     "data": {
      "text/html": [
       "<div>\n",
       "<style scoped>\n",
       "    .dataframe tbody tr th:only-of-type {\n",
       "        vertical-align: middle;\n",
       "    }\n",
       "\n",
       "    .dataframe tbody tr th {\n",
       "        vertical-align: top;\n",
       "    }\n",
       "\n",
       "    .dataframe thead th {\n",
       "        text-align: right;\n",
       "    }\n",
       "</style>\n",
       "<table border=\"1\" class=\"dataframe\">\n",
       "  <thead>\n",
       "    <tr style=\"text-align: right;\">\n",
       "      <th></th>\n",
       "      <th>DATA</th>\n",
       "      <th>SESSO</th>\n",
       "      <th>ANNI</th>\n",
       "      <th>PESO</th>\n",
       "      <th>ALTEZZA</th>\n",
       "      <th>BMI</th>\n",
       "      <th>Mezzo</th>\n",
       "      <th>Testa:Neurocranio</th>\n",
       "      <th>Testa:Splancnocranio</th>\n",
       "      <th>Testa:Telencefalo</th>\n",
       "      <th>...</th>\n",
       "      <th>Scheletro:Rachide-cervicale</th>\n",
       "      <th>Scheletro:Rachide-toracico</th>\n",
       "      <th>Scheletro:Rachide-lombare</th>\n",
       "      <th>Scheletro:Bacino-e-sacro</th>\n",
       "      <th>Scheletro:Complesso-sterno/claveo/costale</th>\n",
       "      <th>Tot Testa</th>\n",
       "      <th>Tot Torace</th>\n",
       "      <th>Tot Addome</th>\n",
       "      <th>Tot Scheletro</th>\n",
       "      <th>Totale</th>\n",
       "    </tr>\n",
       "    <tr>\n",
       "      <th>VERBALE</th>\n",
       "      <th></th>\n",
       "      <th></th>\n",
       "      <th></th>\n",
       "      <th></th>\n",
       "      <th></th>\n",
       "      <th></th>\n",
       "      <th></th>\n",
       "      <th></th>\n",
       "      <th></th>\n",
       "      <th></th>\n",
       "      <th></th>\n",
       "      <th></th>\n",
       "      <th></th>\n",
       "      <th></th>\n",
       "      <th></th>\n",
       "      <th></th>\n",
       "      <th></th>\n",
       "      <th></th>\n",
       "      <th></th>\n",
       "      <th></th>\n",
       "      <th></th>\n",
       "    </tr>\n",
       "  </thead>\n",
       "  <tbody>\n",
       "    <tr>\n",
       "      <td>85567</td>\n",
       "      <td>10893</td>\n",
       "      <td>0</td>\n",
       "      <td>81</td>\n",
       "      <td>84.0</td>\n",
       "      <td>1.75</td>\n",
       "      <td>27.428571</td>\n",
       "      <td>0</td>\n",
       "      <td>1</td>\n",
       "      <td>0</td>\n",
       "      <td>0</td>\n",
       "      <td>...</td>\n",
       "      <td>0</td>\n",
       "      <td>3</td>\n",
       "      <td>0</td>\n",
       "      <td>3</td>\n",
       "      <td>3</td>\n",
       "      <td>2</td>\n",
       "      <td>0</td>\n",
       "      <td>3</td>\n",
       "      <td>9</td>\n",
       "      <td>14</td>\n",
       "    </tr>\n",
       "    <tr>\n",
       "      <td>85829</td>\n",
       "      <td>10970</td>\n",
       "      <td>1</td>\n",
       "      <td>69</td>\n",
       "      <td>69.0</td>\n",
       "      <td>1.62</td>\n",
       "      <td>26.291724</td>\n",
       "      <td>1</td>\n",
       "      <td>4</td>\n",
       "      <td>4</td>\n",
       "      <td>4</td>\n",
       "      <td>...</td>\n",
       "      <td>0</td>\n",
       "      <td>0</td>\n",
       "      <td>0</td>\n",
       "      <td>0</td>\n",
       "      <td>4</td>\n",
       "      <td>20</td>\n",
       "      <td>7</td>\n",
       "      <td>1</td>\n",
       "      <td>4</td>\n",
       "      <td>32</td>\n",
       "    </tr>\n",
       "    <tr>\n",
       "      <td>85977</td>\n",
       "      <td>11026</td>\n",
       "      <td>1</td>\n",
       "      <td>71</td>\n",
       "      <td>67.0</td>\n",
       "      <td>1.55</td>\n",
       "      <td>27.887617</td>\n",
       "      <td>1</td>\n",
       "      <td>2</td>\n",
       "      <td>0</td>\n",
       "      <td>1</td>\n",
       "      <td>...</td>\n",
       "      <td>0</td>\n",
       "      <td>0</td>\n",
       "      <td>0</td>\n",
       "      <td>0</td>\n",
       "      <td>4</td>\n",
       "      <td>6</td>\n",
       "      <td>0</td>\n",
       "      <td>0</td>\n",
       "      <td>4</td>\n",
       "      <td>10</td>\n",
       "    </tr>\n",
       "    <tr>\n",
       "      <td>86220</td>\n",
       "      <td>11122</td>\n",
       "      <td>1</td>\n",
       "      <td>54</td>\n",
       "      <td>60.0</td>\n",
       "      <td>1.59</td>\n",
       "      <td>23.733238</td>\n",
       "      <td>1</td>\n",
       "      <td>4</td>\n",
       "      <td>0</td>\n",
       "      <td>0</td>\n",
       "      <td>...</td>\n",
       "      <td>0</td>\n",
       "      <td>0</td>\n",
       "      <td>0</td>\n",
       "      <td>0</td>\n",
       "      <td>4</td>\n",
       "      <td>5</td>\n",
       "      <td>3</td>\n",
       "      <td>2</td>\n",
       "      <td>4</td>\n",
       "      <td>14</td>\n",
       "    </tr>\n",
       "    <tr>\n",
       "      <td>86247</td>\n",
       "      <td>11130</td>\n",
       "      <td>1</td>\n",
       "      <td>78</td>\n",
       "      <td>69.0</td>\n",
       "      <td>1.67</td>\n",
       "      <td>24.740937</td>\n",
       "      <td>1</td>\n",
       "      <td>2</td>\n",
       "      <td>0</td>\n",
       "      <td>0</td>\n",
       "      <td>...</td>\n",
       "      <td>0</td>\n",
       "      <td>0</td>\n",
       "      <td>0</td>\n",
       "      <td>0</td>\n",
       "      <td>4</td>\n",
       "      <td>2</td>\n",
       "      <td>0</td>\n",
       "      <td>2</td>\n",
       "      <td>4</td>\n",
       "      <td>8</td>\n",
       "    </tr>\n",
       "  </tbody>\n",
       "</table>\n",
       "<p>5 rows × 32 columns</p>\n",
       "</div>"
      ],
      "text/plain": [
       "          DATA  SESSO  ANNI  PESO  ALTEZZA        BMI  Mezzo  \\\n",
       "VERBALE                                                        \n",
       "85567    10893      0    81  84.0     1.75  27.428571      0   \n",
       "85829    10970      1    69  69.0     1.62  26.291724      1   \n",
       "85977    11026      1    71  67.0     1.55  27.887617      1   \n",
       "86220    11122      1    54  60.0     1.59  23.733238      1   \n",
       "86247    11130      1    78  69.0     1.67  24.740937      1   \n",
       "\n",
       "         Testa:Neurocranio  Testa:Splancnocranio  Testa:Telencefalo  ...  \\\n",
       "VERBALE                                                              ...   \n",
       "85567                    1                     0                  0  ...   \n",
       "85829                    4                     4                  4  ...   \n",
       "85977                    2                     0                  1  ...   \n",
       "86220                    4                     0                  0  ...   \n",
       "86247                    2                     0                  0  ...   \n",
       "\n",
       "         Scheletro:Rachide-cervicale  Scheletro:Rachide-toracico  \\\n",
       "VERBALE                                                            \n",
       "85567                              0                           3   \n",
       "85829                              0                           0   \n",
       "85977                              0                           0   \n",
       "86220                              0                           0   \n",
       "86247                              0                           0   \n",
       "\n",
       "         Scheletro:Rachide-lombare  Scheletro:Bacino-e-sacro  \\\n",
       "VERBALE                                                        \n",
       "85567                            0                         3   \n",
       "85829                            0                         0   \n",
       "85977                            0                         0   \n",
       "86220                            0                         0   \n",
       "86247                            0                         0   \n",
       "\n",
       "         Scheletro:Complesso-sterno/claveo/costale  Tot Testa  Tot Torace  \\\n",
       "VERBALE                                                                     \n",
       "85567                                            3          2           0   \n",
       "85829                                            4         20           7   \n",
       "85977                                            4          6           0   \n",
       "86220                                            4          5           3   \n",
       "86247                                            4          2           0   \n",
       "\n",
       "         Tot Addome  Tot Scheletro  Totale  \n",
       "VERBALE                                     \n",
       "85567             3              9      14  \n",
       "85829             1              4      32  \n",
       "85977             0              4      10  \n",
       "86220             2              4      14  \n",
       "86247             2              4       8  \n",
       "\n",
       "[5 rows x 32 columns]"
      ]
     },
     "execution_count": 16,
     "metadata": {},
     "output_type": "execute_result"
    }
   ],
   "source": [
    "import datetime as dt\n",
    "\n",
    "dataset.DATA = dataset.DATA.apply(lambda d: (d - dt.datetime(1970,1,1)).days)\n",
    "\n",
    "dataset.head()"
   ]
  },
  {
   "cell_type": "code",
   "execution_count": 17,
   "metadata": {},
   "outputs": [],
   "source": [
    "X_total_with_data = dataset[['DATA', 'SESSO', 'ANNI', 'PESO', 'ALTEZZA', 'Tot Testa', 'Tot Torace', 'Tot Addome', 'Tot Scheletro']]\n",
    "y_total_with_data = dataset['Mezzo']"
   ]
  },
  {
   "cell_type": "code",
   "execution_count": 18,
   "metadata": {},
   "outputs": [
    {
     "name": "stdout",
     "output_type": "stream",
     "text": [
      "--- 37.45645833015442 seconds ---\n",
      "--- 6.441876649856567 seconds ---\n",
      "--- 1659.681710243225 seconds ---\n",
      "--- 0.19018173217773438 seconds ---\n",
      "--- 0.222672700881958 seconds ---\n",
      "--- 337.8771984577179 seconds ---\n"
     ]
    }
   ],
   "source": [
    "risultati['Totali_with_data'] = {model_to_string[m]: np.mean(addestra(m, X_total_with_data, y_total_with_data, g, 9, 9)) for m, g in zip(models, grids)}\n",
    "loggerTotali.info(risultati['Totali_with_data'])"
   ]
  },
  {
   "cell_type": "code",
   "execution_count": 19,
   "metadata": {},
   "outputs": [
    {
     "data": {
      "text/html": [
       "<div>\n",
       "<style scoped>\n",
       "    .dataframe tbody tr th:only-of-type {\n",
       "        vertical-align: middle;\n",
       "    }\n",
       "\n",
       "    .dataframe tbody tr th {\n",
       "        vertical-align: top;\n",
       "    }\n",
       "\n",
       "    .dataframe thead th {\n",
       "        text-align: right;\n",
       "    }\n",
       "</style>\n",
       "<table border=\"1\" class=\"dataframe\">\n",
       "  <thead>\n",
       "    <tr style=\"text-align: right;\">\n",
       "      <th></th>\n",
       "      <th>Totali</th>\n",
       "      <th>Totali_with_BMI</th>\n",
       "      <th>Totali_with_data</th>\n",
       "    </tr>\n",
       "  </thead>\n",
       "  <tbody>\n",
       "    <tr>\n",
       "      <td>SVC</td>\n",
       "      <td>0.666748</td>\n",
       "      <td>0.666748</td>\n",
       "      <td>0.771591</td>\n",
       "    </tr>\n",
       "    <tr>\n",
       "      <td>DT</td>\n",
       "      <td>0.560317</td>\n",
       "      <td>0.568254</td>\n",
       "      <td>0.608018</td>\n",
       "    </tr>\n",
       "    <tr>\n",
       "      <td>RF</td>\n",
       "      <td>0.622914</td>\n",
       "      <td>0.592755</td>\n",
       "      <td>0.631013</td>\n",
       "    </tr>\n",
       "    <tr>\n",
       "      <td>NB</td>\n",
       "      <td>0.706064</td>\n",
       "      <td>0.690110</td>\n",
       "      <td>0.727147</td>\n",
       "    </tr>\n",
       "    <tr>\n",
       "      <td>LD</td>\n",
       "      <td>0.719210</td>\n",
       "      <td>0.704925</td>\n",
       "      <td>0.718071</td>\n",
       "    </tr>\n",
       "    <tr>\n",
       "      <td>MLP</td>\n",
       "      <td>0.674155</td>\n",
       "      <td>0.666748</td>\n",
       "      <td>0.727147</td>\n",
       "    </tr>\n",
       "  </tbody>\n",
       "</table>\n",
       "</div>"
      ],
      "text/plain": [
       "       Totali  Totali_with_BMI  Totali_with_data\n",
       "SVC  0.666748         0.666748          0.771591\n",
       "DT   0.560317         0.568254          0.608018\n",
       "RF   0.622914         0.592755          0.631013\n",
       "NB   0.706064         0.690110          0.727147\n",
       "LD   0.719210         0.704925          0.718071\n",
       "MLP  0.674155         0.666748          0.727147"
      ]
     },
     "execution_count": 19,
     "metadata": {},
     "output_type": "execute_result"
    }
   ],
   "source": [
    "table = pd.DataFrame(risultati)\n",
    "table"
   ]
  },
  {
   "cell_type": "markdown",
   "metadata": {},
   "source": [
    "# Usiamo ora sia il bmi che la data"
   ]
  },
  {
   "cell_type": "code",
   "execution_count": 20,
   "metadata": {},
   "outputs": [],
   "source": [
    "X_total_with_data_and_BMI = dataset[['DATA', 'SESSO', 'ANNI', 'PESO', 'ALTEZZA', 'BMI', 'Tot Testa', 'Tot Torace', 'Tot Addome', 'Tot Scheletro']]\n",
    "y_total_with_data_and_BMI = dataset['Mezzo']"
   ]
  },
  {
   "cell_type": "code",
   "execution_count": 21,
   "metadata": {},
   "outputs": [
    {
     "name": "stdout",
     "output_type": "stream",
     "text": [
      "--- 43.46218419075012 seconds ---\n",
      "--- 6.598410129547119 seconds ---\n",
      "--- 1671.5151841640472 seconds ---\n",
      "--- 0.20122337341308594 seconds ---\n",
      "--- 0.21996474266052246 seconds ---\n",
      "--- 361.5102508068085 seconds ---\n"
     ]
    }
   ],
   "source": [
    "risultati['Totali_with_date_and_bmi'] = {model_to_string[m]: np.mean(addestra(m, X_total_with_data_and_BMI, y_total_with_data_and_BMI, g, 9, 9)) for m, g in zip(models, grids)}\n",
    "loggerTotali.info(risultati['Totali_with_date_and_bmi'])"
   ]
  },
  {
   "cell_type": "code",
   "execution_count": 22,
   "metadata": {},
   "outputs": [
    {
     "data": {
      "text/html": [
       "<div>\n",
       "<style scoped>\n",
       "    .dataframe tbody tr th:only-of-type {\n",
       "        vertical-align: middle;\n",
       "    }\n",
       "\n",
       "    .dataframe tbody tr th {\n",
       "        vertical-align: top;\n",
       "    }\n",
       "\n",
       "    .dataframe thead th {\n",
       "        text-align: right;\n",
       "    }\n",
       "</style>\n",
       "<table border=\"1\" class=\"dataframe\">\n",
       "  <thead>\n",
       "    <tr style=\"text-align: right;\">\n",
       "      <th></th>\n",
       "      <th>Totali</th>\n",
       "      <th>Totali_with_BMI</th>\n",
       "      <th>Totali_with_data</th>\n",
       "      <th>Totali_with_date_and_bmi</th>\n",
       "    </tr>\n",
       "  </thead>\n",
       "  <tbody>\n",
       "    <tr>\n",
       "      <td>SVC</td>\n",
       "      <td>0.666748</td>\n",
       "      <td>0.666748</td>\n",
       "      <td>0.771591</td>\n",
       "      <td>0.757916</td>\n",
       "    </tr>\n",
       "    <tr>\n",
       "      <td>DT</td>\n",
       "      <td>0.560317</td>\n",
       "      <td>0.568254</td>\n",
       "      <td>0.608018</td>\n",
       "      <td>0.637648</td>\n",
       "    </tr>\n",
       "    <tr>\n",
       "      <td>RF</td>\n",
       "      <td>0.622914</td>\n",
       "      <td>0.592755</td>\n",
       "      <td>0.631013</td>\n",
       "      <td>0.644607</td>\n",
       "    </tr>\n",
       "    <tr>\n",
       "      <td>NB</td>\n",
       "      <td>0.706064</td>\n",
       "      <td>0.690110</td>\n",
       "      <td>0.727147</td>\n",
       "      <td>0.749369</td>\n",
       "    </tr>\n",
       "    <tr>\n",
       "      <td>LD</td>\n",
       "      <td>0.719210</td>\n",
       "      <td>0.704925</td>\n",
       "      <td>0.718071</td>\n",
       "      <td>0.711803</td>\n",
       "    </tr>\n",
       "    <tr>\n",
       "      <td>MLP</td>\n",
       "      <td>0.674155</td>\n",
       "      <td>0.666748</td>\n",
       "      <td>0.727147</td>\n",
       "      <td>0.726618</td>\n",
       "    </tr>\n",
       "  </tbody>\n",
       "</table>\n",
       "</div>"
      ],
      "text/plain": [
       "       Totali  Totali_with_BMI  Totali_with_data  Totali_with_date_and_bmi\n",
       "SVC  0.666748         0.666748          0.771591                  0.757916\n",
       "DT   0.560317         0.568254          0.608018                  0.637648\n",
       "RF   0.622914         0.592755          0.631013                  0.644607\n",
       "NB   0.706064         0.690110          0.727147                  0.749369\n",
       "LD   0.719210         0.704925          0.718071                  0.711803\n",
       "MLP  0.674155         0.666748          0.727147                  0.726618"
      ]
     },
     "execution_count": 22,
     "metadata": {},
     "output_type": "execute_result"
    }
   ],
   "source": [
    "table = pd.DataFrame(risultati)\n",
    "table"
   ]
  },
  {
   "cell_type": "markdown",
   "metadata": {},
   "source": [
    "## Aumentiamo la precisione, scendendo nei cinque livelli di ogni distretto"
   ]
  },
  {
   "cell_type": "code",
   "execution_count": 23,
   "metadata": {},
   "outputs": [],
   "source": [
    "selected_cols = ['Testa:Neurocranio',\n",
    "                 'Testa:Splancnocranio',\n",
    "                 'Testa:Telencefalo',\n",
    "                 'Testa:Cervelletto',\n",
    "                 'Testa:Tronco-encefalico',\n",
    "                 'Torace:Polmoni',\n",
    "                 'Torace:Trachea/bronchi',\n",
    "                 'Torace:Cuore',\n",
    "                 'Torace:Aorta-toracica',\n",
    "                 'Torace:Diaframma',\n",
    "                 'Addome:Fegato',\n",
    "                 'Addome:Milza',\n",
    "                 'Addome:Aorta-addominale',\n",
    "                 'Addome:Reni',\n",
    "                 'Addome:Mesentere',\n",
    "                 'Scheletro:Rachide-cervicale',\n",
    "                 'Scheletro:Rachide-toracico',\n",
    "                 'Scheletro:Rachide-lombare',\n",
    "                 'Scheletro:Bacino-e-sacro',\n",
    "                 'Scheletro:Complesso-sterno/claveo/costale']\n",
    "\n",
    "X_details = dataset[selected_cols]\n",
    "y_details = dataset['Mezzo']"
   ]
  },
  {
   "cell_type": "markdown",
   "metadata": {},
   "source": [
    "Iniziamo facendo un controllo su quanto sia possibile ridurre la dimensione dei dati"
   ]
  },
  {
   "cell_type": "code",
   "execution_count": 24,
   "metadata": {},
   "outputs": [
    {
     "data": {
      "text/plain": [
       "PCA(copy=True, iterated_power='auto', n_components=20, random_state=None,\n",
       "    svd_solver='auto', tol=0.0, whiten=False)"
      ]
     },
     "execution_count": 24,
     "metadata": {},
     "output_type": "execute_result"
    }
   ],
   "source": [
    "pca = PCA(n_components = 20)\n",
    "pca.fit(X_details)"
   ]
  },
  {
   "cell_type": "code",
   "execution_count": 25,
   "metadata": {},
   "outputs": [
    {
     "data": {
      "image/png": "[encoded data removed]",
      "text/plain": [
       "<Figure size 432x288 with 1 Axes>"
      ]
     },
     "metadata": {
      "needs_background": "light"
     },
     "output_type": "display_data"
    }
   ],
   "source": [
    "%matplotlib inline\n",
    "\n",
    "from matplotlib import pyplot as plt\n",
    "\n",
    "plt.plot(range(20), pca.explained_variance_ratio_.cumsum())\n",
    "plt.show()"
   ]
  },
  {
   "cell_type": "code",
   "execution_count": 26,
   "metadata": {},
   "outputs": [
    {
     "data": {
      "text/plain": [
       "array([0.2590028 , 0.4424267 , 0.51161017, 0.57652743, 0.63390248,\n",
       "       0.68359398, 0.72846105, 0.7680911 , 0.80302776, 0.83411104,\n",
       "       0.8604245 , 0.88623497, 0.91098428, 0.9328969 , 0.94926481,\n",
       "       0.96485529, 0.97790404, 0.99078593, 0.99608975, 1.        ])"
      ]
     },
     "execution_count": 26,
     "metadata": {},
     "output_type": "execute_result"
    }
   ],
   "source": [
    "pca.explained_variance_ratio_.cumsum()"
   ]
  },
  {
   "cell_type": "code",
   "execution_count": 27,
   "metadata": {},
   "outputs": [
    {
     "data": {
      "text/plain": [
       "0.9109842843806883"
      ]
     },
     "execution_count": 27,
     "metadata": {},
     "output_type": "execute_result"
    }
   ],
   "source": [
    "pca.explained_variance_ratio_.cumsum()[12]"
   ]
  },
  {
   "cell_type": "markdown",
   "metadata": {},
   "source": [
    "Scendendo quindi da 20 a 13 feature si mantiene più del 90% della varianza"
   ]
  },
  {
   "cell_type": "markdown",
   "metadata": {},
   "source": [
    "### Iniziamo comunque con tutte le 20 feature"
   ]
  },
  {
   "cell_type": "code",
   "execution_count": 28,
   "metadata": {},
   "outputs": [
    {
     "name": "stdout",
     "output_type": "stream",
     "text": [
      "--- 98.31639504432678 seconds ---\n",
      "--- 6.2603466510772705 seconds ---\n",
      "--- 1642.868482351303 seconds ---\n",
      "--- 0.18396282196044922 seconds ---\n",
      "--- 0.22692084312438965 seconds ---\n",
      "--- 371.0937023162842 seconds ---\n"
     ]
    }
   ],
   "source": [
    "risultati['Details'] = {model_to_string[m]: np.mean(addestra(m, X_details, y_details, g, 9, 9)) for m, g in zip(models, grids)}"
   ]
  },
  {
   "cell_type": "code",
   "execution_count": 29,
   "metadata": {},
   "outputs": [
    {
     "data": {
      "text/html": [
       "<div>\n",
       "<style scoped>\n",
       "    .dataframe tbody tr th:only-of-type {\n",
       "        vertical-align: middle;\n",
       "    }\n",
       "\n",
       "    .dataframe tbody tr th {\n",
       "        vertical-align: top;\n",
       "    }\n",
       "\n",
       "    .dataframe thead th {\n",
       "        text-align: right;\n",
       "    }\n",
       "</style>\n",
       "<table border=\"1\" class=\"dataframe\">\n",
       "  <thead>\n",
       "    <tr style=\"text-align: right;\">\n",
       "      <th></th>\n",
       "      <th>Totali</th>\n",
       "      <th>Totali_with_BMI</th>\n",
       "      <th>Totali_with_data</th>\n",
       "      <th>Totali_with_date_and_bmi</th>\n",
       "      <th>Details</th>\n",
       "    </tr>\n",
       "  </thead>\n",
       "  <tbody>\n",
       "    <tr>\n",
       "      <td>SVC</td>\n",
       "      <td>0.666748</td>\n",
       "      <td>0.666748</td>\n",
       "      <td>0.771591</td>\n",
       "      <td>0.757916</td>\n",
       "      <td>0.670330</td>\n",
       "    </tr>\n",
       "    <tr>\n",
       "      <td>DT</td>\n",
       "      <td>0.560317</td>\n",
       "      <td>0.568254</td>\n",
       "      <td>0.608018</td>\n",
       "      <td>0.637648</td>\n",
       "      <td>0.628653</td>\n",
       "    </tr>\n",
       "    <tr>\n",
       "      <td>RF</td>\n",
       "      <td>0.622914</td>\n",
       "      <td>0.592755</td>\n",
       "      <td>0.631013</td>\n",
       "      <td>0.644607</td>\n",
       "      <td>0.632601</td>\n",
       "    </tr>\n",
       "    <tr>\n",
       "      <td>NB</td>\n",
       "      <td>0.706064</td>\n",
       "      <td>0.690110</td>\n",
       "      <td>0.727147</td>\n",
       "      <td>0.749369</td>\n",
       "      <td>0.635979</td>\n",
       "    </tr>\n",
       "    <tr>\n",
       "      <td>LD</td>\n",
       "      <td>0.719210</td>\n",
       "      <td>0.704925</td>\n",
       "      <td>0.718071</td>\n",
       "      <td>0.711803</td>\n",
       "      <td>0.643386</td>\n",
       "    </tr>\n",
       "    <tr>\n",
       "      <td>MLP</td>\n",
       "      <td>0.674155</td>\n",
       "      <td>0.666748</td>\n",
       "      <td>0.727147</td>\n",
       "      <td>0.726618</td>\n",
       "      <td>0.600692</td>\n",
       "    </tr>\n",
       "  </tbody>\n",
       "</table>\n",
       "</div>"
      ],
      "text/plain": [
       "       Totali  Totali_with_BMI  Totali_with_data  Totali_with_date_and_bmi  \\\n",
       "SVC  0.666748         0.666748          0.771591                  0.757916   \n",
       "DT   0.560317         0.568254          0.608018                  0.637648   \n",
       "RF   0.622914         0.592755          0.631013                  0.644607   \n",
       "NB   0.706064         0.690110          0.727147                  0.749369   \n",
       "LD   0.719210         0.704925          0.718071                  0.711803   \n",
       "MLP  0.674155         0.666748          0.727147                  0.726618   \n",
       "\n",
       "      Details  \n",
       "SVC  0.670330  \n",
       "DT   0.628653  \n",
       "RF   0.632601  \n",
       "NB   0.635979  \n",
       "LD   0.643386  \n",
       "MLP  0.600692  "
      ]
     },
     "execution_count": 29,
     "metadata": {},
     "output_type": "execute_result"
    }
   ],
   "source": [
    "table = pd.DataFrame(risultati)\n",
    "table"
   ]
  },
  {
   "cell_type": "markdown",
   "metadata": {},
   "source": [
    "### Scendiamo a 13 feature con PCA"
   ]
  },
  {
   "cell_type": "code",
   "execution_count": 30,
   "metadata": {},
   "outputs": [
    {
     "name": "stdout",
     "output_type": "stream",
     "text": [
      "--- 66.28899836540222 seconds ---\n",
      "--- 6.964657545089722 seconds ---\n",
      "--- 1741.5210511684418 seconds ---\n",
      "--- 0.2050647735595703 seconds ---\n",
      "--- 0.23760175704956055 seconds ---\n",
      "--- 365.70172214508057 seconds ---\n"
     ]
    }
   ],
   "source": [
    "risultati['Details_reduce_PCA'] = {model_to_string[m]: np.mean(addestra(m, X_details, y_details, g, 9, 9, dim_reduction=PCA(n_components=13))) for m, g in zip(models, grids)}"
   ]
  },
  {
   "cell_type": "code",
   "execution_count": 31,
   "metadata": {},
   "outputs": [
    {
     "data": {
      "text/html": [
       "<div>\n",
       "<style scoped>\n",
       "    .dataframe tbody tr th:only-of-type {\n",
       "        vertical-align: middle;\n",
       "    }\n",
       "\n",
       "    .dataframe tbody tr th {\n",
       "        vertical-align: top;\n",
       "    }\n",
       "\n",
       "    .dataframe thead th {\n",
       "        text-align: right;\n",
       "    }\n",
       "</style>\n",
       "<table border=\"1\" class=\"dataframe\">\n",
       "  <thead>\n",
       "    <tr style=\"text-align: right;\">\n",
       "      <th></th>\n",
       "      <th>Totali</th>\n",
       "      <th>Totali_with_BMI</th>\n",
       "      <th>Totali_with_data</th>\n",
       "      <th>Totali_with_date_and_bmi</th>\n",
       "      <th>Details</th>\n",
       "      <th>Details_reduce_PCA</th>\n",
       "    </tr>\n",
       "  </thead>\n",
       "  <tbody>\n",
       "    <tr>\n",
       "      <td>SVC</td>\n",
       "      <td>0.666748</td>\n",
       "      <td>0.666748</td>\n",
       "      <td>0.771591</td>\n",
       "      <td>0.757916</td>\n",
       "      <td>0.670330</td>\n",
       "      <td>0.670248</td>\n",
       "    </tr>\n",
       "    <tr>\n",
       "      <td>DT</td>\n",
       "      <td>0.560317</td>\n",
       "      <td>0.568254</td>\n",
       "      <td>0.608018</td>\n",
       "      <td>0.637648</td>\n",
       "      <td>0.628653</td>\n",
       "      <td>0.586406</td>\n",
       "    </tr>\n",
       "    <tr>\n",
       "      <td>RF</td>\n",
       "      <td>0.622914</td>\n",
       "      <td>0.592755</td>\n",
       "      <td>0.631013</td>\n",
       "      <td>0.644607</td>\n",
       "      <td>0.632601</td>\n",
       "      <td>0.682702</td>\n",
       "    </tr>\n",
       "    <tr>\n",
       "      <td>NB</td>\n",
       "      <td>0.706064</td>\n",
       "      <td>0.690110</td>\n",
       "      <td>0.727147</td>\n",
       "      <td>0.749369</td>\n",
       "      <td>0.635979</td>\n",
       "      <td>0.665079</td>\n",
       "    </tr>\n",
       "    <tr>\n",
       "      <td>LD</td>\n",
       "      <td>0.719210</td>\n",
       "      <td>0.704925</td>\n",
       "      <td>0.718071</td>\n",
       "      <td>0.711803</td>\n",
       "      <td>0.643386</td>\n",
       "      <td>0.588116</td>\n",
       "    </tr>\n",
       "    <tr>\n",
       "      <td>MLP</td>\n",
       "      <td>0.674155</td>\n",
       "      <td>0.666748</td>\n",
       "      <td>0.727147</td>\n",
       "      <td>0.726618</td>\n",
       "      <td>0.600692</td>\n",
       "      <td>0.604151</td>\n",
       "    </tr>\n",
       "  </tbody>\n",
       "</table>\n",
       "</div>"
      ],
      "text/plain": [
       "       Totali  Totali_with_BMI  Totali_with_data  Totali_with_date_and_bmi  \\\n",
       "SVC  0.666748         0.666748          0.771591                  0.757916   \n",
       "DT   0.560317         0.568254          0.608018                  0.637648   \n",
       "RF   0.622914         0.592755          0.631013                  0.644607   \n",
       "NB   0.706064         0.690110          0.727147                  0.749369   \n",
       "LD   0.719210         0.704925          0.718071                  0.711803   \n",
       "MLP  0.674155         0.666748          0.727147                  0.726618   \n",
       "\n",
       "      Details  Details_reduce_PCA  \n",
       "SVC  0.670330            0.670248  \n",
       "DT   0.628653            0.586406  \n",
       "RF   0.632601            0.682702  \n",
       "NB   0.635979            0.665079  \n",
       "LD   0.643386            0.588116  \n",
       "MLP  0.600692            0.604151  "
      ]
     },
     "execution_count": 31,
     "metadata": {},
     "output_type": "execute_result"
    }
   ],
   "source": [
    "table = pd.DataFrame(risultati)\n",
    "table"
   ]
  },
  {
   "cell_type": "markdown",
   "metadata": {},
   "source": [
    "### Proviamo a ridurre le componenti a 10 con t-SNE"
   ]
  },
  {
   "cell_type": "code",
   "execution_count": 32,
   "metadata": {},
   "outputs": [],
   "source": [
    "from sklearn.manifold import TSNE"
   ]
  },
  {
   "cell_type": "code",
   "execution_count": 33,
   "metadata": {},
   "outputs": [
    {
     "name": "stdout",
     "output_type": "stream",
     "text": [
      "--- 1534.1888439655304 seconds ---\n",
      "--- 8.696717977523804 seconds ---\n",
      "--- 1760.7908692359924 seconds ---\n",
      "--- 2.2643160820007324 seconds ---\n",
      "--- 2.301922559738159 seconds ---\n",
      "--- 306.999502658844 seconds ---\n"
     ]
    }
   ],
   "source": [
    "risultati['Details_reduced_TSNE'] = {model_to_string[m]: np.mean(addestra(m, X_details, y_details, g, 9, 9, dim_reduction=TSNE(n_components=13, method='exact'))) for m, g in zip(models, grids)}"
   ]
  },
  {
   "cell_type": "markdown",
   "metadata": {},
   "source": [
    "# Usando come scaler StandardScaler"
   ]
  },
  {
   "cell_type": "code",
   "execution_count": 34,
   "metadata": {},
   "outputs": [
    {
     "data": {
      "text/html": [
       "<div>\n",
       "<style scoped>\n",
       "    .dataframe tbody tr th:only-of-type {\n",
       "        vertical-align: middle;\n",
       "    }\n",
       "\n",
       "    .dataframe tbody tr th {\n",
       "        vertical-align: top;\n",
       "    }\n",
       "\n",
       "    .dataframe thead th {\n",
       "        text-align: right;\n",
       "    }\n",
       "</style>\n",
       "<table border=\"1\" class=\"dataframe\">\n",
       "  <thead>\n",
       "    <tr style=\"text-align: right;\">\n",
       "      <th></th>\n",
       "      <th>Totali</th>\n",
       "      <th>Totali_with_BMI</th>\n",
       "      <th>Totali_with_data</th>\n",
       "      <th>Totali_with_date_and_bmi</th>\n",
       "      <th>Details</th>\n",
       "      <th>Details_reduce_PCA</th>\n",
       "      <th>Details_reduced_TSNE</th>\n",
       "    </tr>\n",
       "  </thead>\n",
       "  <tbody>\n",
       "    <tr>\n",
       "      <td>SVC</td>\n",
       "      <td>0.666748</td>\n",
       "      <td>0.666748</td>\n",
       "      <td>0.771591</td>\n",
       "      <td>0.757916</td>\n",
       "      <td>0.670330</td>\n",
       "      <td>0.670248</td>\n",
       "      <td>0.527432</td>\n",
       "    </tr>\n",
       "    <tr>\n",
       "      <td>DT</td>\n",
       "      <td>0.560317</td>\n",
       "      <td>0.568254</td>\n",
       "      <td>0.608018</td>\n",
       "      <td>0.637648</td>\n",
       "      <td>0.628653</td>\n",
       "      <td>0.586406</td>\n",
       "      <td>0.521612</td>\n",
       "    </tr>\n",
       "    <tr>\n",
       "      <td>RF</td>\n",
       "      <td>0.622914</td>\n",
       "      <td>0.592755</td>\n",
       "      <td>0.631013</td>\n",
       "      <td>0.644607</td>\n",
       "      <td>0.632601</td>\n",
       "      <td>0.682702</td>\n",
       "      <td>0.455474</td>\n",
       "    </tr>\n",
       "    <tr>\n",
       "      <td>NB</td>\n",
       "      <td>0.706064</td>\n",
       "      <td>0.690110</td>\n",
       "      <td>0.727147</td>\n",
       "      <td>0.749369</td>\n",
       "      <td>0.635979</td>\n",
       "      <td>0.665079</td>\n",
       "      <td>0.520554</td>\n",
       "    </tr>\n",
       "    <tr>\n",
       "      <td>LD</td>\n",
       "      <td>0.719210</td>\n",
       "      <td>0.704925</td>\n",
       "      <td>0.718071</td>\n",
       "      <td>0.711803</td>\n",
       "      <td>0.643386</td>\n",
       "      <td>0.588116</td>\n",
       "      <td>0.415792</td>\n",
       "    </tr>\n",
       "    <tr>\n",
       "      <td>MLP</td>\n",
       "      <td>0.674155</td>\n",
       "      <td>0.666748</td>\n",
       "      <td>0.727147</td>\n",
       "      <td>0.726618</td>\n",
       "      <td>0.600692</td>\n",
       "      <td>0.604151</td>\n",
       "      <td>0.440293</td>\n",
       "    </tr>\n",
       "  </tbody>\n",
       "</table>\n",
       "</div>"
      ],
      "text/plain": [
       "       Totali  Totali_with_BMI  Totali_with_data  Totali_with_date_and_bmi  \\\n",
       "SVC  0.666748         0.666748          0.771591                  0.757916   \n",
       "DT   0.560317         0.568254          0.608018                  0.637648   \n",
       "RF   0.622914         0.592755          0.631013                  0.644607   \n",
       "NB   0.706064         0.690110          0.727147                  0.749369   \n",
       "LD   0.719210         0.704925          0.718071                  0.711803   \n",
       "MLP  0.674155         0.666748          0.727147                  0.726618   \n",
       "\n",
       "      Details  Details_reduce_PCA  Details_reduced_TSNE  \n",
       "SVC  0.670330            0.670248              0.527432  \n",
       "DT   0.628653            0.586406              0.521612  \n",
       "RF   0.632601            0.682702              0.455474  \n",
       "NB   0.635979            0.665079              0.520554  \n",
       "LD   0.643386            0.588116              0.415792  \n",
       "MLP  0.600692            0.604151              0.440293  "
      ]
     },
     "execution_count": 34,
     "metadata": {},
     "output_type": "execute_result"
    }
   ],
   "source": [
    "table = pd.DataFrame(risultati)\n",
    "table"
   ]
  },
  {
   "cell_type": "markdown",
   "metadata": {},
   "source": [
    "# Usando come scaler MaxAbsScaler"
   ]
  },
  {
   "cell_type": "code",
   "execution_count": 35,
   "metadata": {},
   "outputs": [
    {
     "name": "stdout",
     "output_type": "stream",
     "text": [
      "--- 10.027623414993286 seconds ---\n",
      "--- 6.679813623428345 seconds ---\n",
      "--- 35566.05210137367 seconds ---\n",
      "--- 0.1771101951599121 seconds ---\n",
      "--- 0.21371197700500488 seconds ---\n",
      "--- 243.78872895240784 seconds ---\n"
     ]
    }
   ],
   "source": [
    "from sklearn.preprocessing import MinMaxScaler\n",
    "\n",
    "risultati_minMax_scaler = {}\n",
    "risultati_minMax_scaler['Totali'] = {model_to_string[m]: np.mean(addestra(m, X_total, y_total, g, 9, 9, scaling=MinMaxScaler())) for m, g in zip(models, grids)}"
   ]
  },
  {
   "cell_type": "code",
   "execution_count": 36,
   "metadata": {
    "scrolled": false
   },
   "outputs": [
    {
     "name": "stdout",
     "output_type": "stream",
     "text": [
      "--- 10.21522331237793 seconds ---\n",
      "--- 6.838555574417114 seconds ---\n",
      "--- 1684.8557438850403 seconds ---\n",
      "--- 0.17683839797973633 seconds ---\n",
      "--- 0.22254276275634766 seconds ---\n",
      "--- 241.79171562194824 seconds ---\n"
     ]
    }
   ],
   "source": [
    "risultati_minMax_scaler['Totali_with_BMI'] = {model_to_string[m]: np.mean(addestra(m, X_total_with_BMI, y_total_with_BMI, g, 9, 9, scaling=MinMaxScaler())) for m, g in zip(models, grids)}"
   ]
  },
  {
   "cell_type": "code",
   "execution_count": 37,
   "metadata": {},
   "outputs": [
    {
     "name": "stdout",
     "output_type": "stream",
     "text": [
      "--- 10.14460802078247 seconds ---\n",
      "--- 7.158943176269531 seconds ---\n",
      "--- 1681.97758436203 seconds ---\n",
      "--- 0.20692706108093262 seconds ---\n",
      "--- 0.2218477725982666 seconds ---\n",
      "--- 275.7309148311615 seconds ---\n"
     ]
    }
   ],
   "source": [
    "risultati_minMax_scaler['Totali_with_DATA'] = {model_to_string[m]: np.mean(addestra(m, X_total_with_data,y_total_with_data, g, 9, 9, scaling=MinMaxScaler())) for m, g in zip(models, grids)}"
   ]
  },
  {
   "cell_type": "code",
   "execution_count": 38,
   "metadata": {},
   "outputs": [
    {
     "name": "stdout",
     "output_type": "stream",
     "text": [
      "--- 10.330378770828247 seconds ---\n",
      "--- 6.8052942752838135 seconds ---\n",
      "--- 1684.515395641327 seconds ---\n",
      "--- 0.17569351196289062 seconds ---\n",
      "--- 0.22255158424377441 seconds ---\n",
      "--- 282.6478316783905 seconds ---\n"
     ]
    }
   ],
   "source": [
    "risultati_minMax_scaler['Totali_with_BMI_and_DATA'] = {model_to_string[m]: np.mean(addestra(m, X_total_with_data_and_BMI,y_total_with_data_and_BMI, g, 9, 9, scaling=MinMaxScaler())) for m, g in zip(models, grids)}"
   ]
  },
  {
   "cell_type": "code",
   "execution_count": 39,
   "metadata": {},
   "outputs": [
    {
     "name": "stdout",
     "output_type": "stream",
     "text": [
      "--- 14.488128185272217 seconds ---\n",
      "--- 6.633140802383423 seconds ---\n",
      "--- 1657.574984550476 seconds ---\n",
      "--- 0.23078012466430664 seconds ---\n",
      "--- 0.21766328811645508 seconds ---\n",
      "--- 399.24231123924255 seconds ---\n"
     ]
    }
   ],
   "source": [
    "risultati_minMax_scaler['Details'] = {model_to_string[m]: np.mean(addestra(m, X_details, y_details, g, 9, 9, scaling=MinMaxScaler())) for m, g in zip(models, grids)}"
   ]
  },
  {
   "cell_type": "code",
   "execution_count": 40,
   "metadata": {},
   "outputs": [
    {
     "name": "stdout",
     "output_type": "stream",
     "text": [
      "--- 12.53533935546875 seconds ---\n",
      "--- 7.166376352310181 seconds ---\n",
      "--- 1760.204479932785 seconds ---\n",
      "--- 0.20147204399108887 seconds ---\n",
      "--- 0.2468719482421875 seconds ---\n",
      "--- 334.7314591407776 seconds ---\n"
     ]
    }
   ],
   "source": [
    "risultati_minMax_scaler['Details_reduce_PCA'] = {model_to_string[m]: np.mean(addestra(m, X_details, y_details, g, 9, 9, scaling=MinMaxScaler(), dim_reduction=PCA(n_components=13))) for m, g in zip(models, grids)}"
   ]
  },
  {
   "cell_type": "code",
   "execution_count": 41,
   "metadata": {},
   "outputs": [
    {
     "name": "stdout",
     "output_type": "stream",
     "text": [
      "--- 1307.8585033416748 seconds ---\n",
      "--- 9.850447654724121 seconds ---\n",
      "--- 1761.2308852672577 seconds ---\n",
      "--- 2.28017520904541 seconds ---\n",
      "--- 2.3184664249420166 seconds ---\n",
      "--- 308.10814929008484 seconds ---\n"
     ]
    }
   ],
   "source": [
    "risultati_minMax_scaler['Details_reduced_TSNE'] = {model_to_string[m]: np.mean(addestra(m, X_details, y_details, g, 9, 9, scaling=MinMaxScaler(), dim_reduction=TSNE(n_components=13, method='exact'))) for m, g in zip(models, grids)}"
   ]
  },
  {
   "cell_type": "code",
   "execution_count": 42,
   "metadata": {},
   "outputs": [
    {
     "data": {
      "text/html": [
       "<div>\n",
       "<style scoped>\n",
       "    .dataframe tbody tr th:only-of-type {\n",
       "        vertical-align: middle;\n",
       "    }\n",
       "\n",
       "    .dataframe tbody tr th {\n",
       "        vertical-align: top;\n",
       "    }\n",
       "\n",
       "    .dataframe thead th {\n",
       "        text-align: right;\n",
       "    }\n",
       "</style>\n",
       "<table border=\"1\" class=\"dataframe\">\n",
       "  <thead>\n",
       "    <tr style=\"text-align: right;\">\n",
       "      <th></th>\n",
       "      <th>Totali</th>\n",
       "      <th>Totali_with_BMI</th>\n",
       "      <th>Totali_with_DATA</th>\n",
       "      <th>Totali_with_BMI_and_DATA</th>\n",
       "      <th>Details</th>\n",
       "      <th>Details_reduce_PCA</th>\n",
       "      <th>Details_reduced_TSNE</th>\n",
       "    </tr>\n",
       "  </thead>\n",
       "  <tbody>\n",
       "    <tr>\n",
       "      <td>SVC</td>\n",
       "      <td>0.666219</td>\n",
       "      <td>0.658812</td>\n",
       "      <td>0.747700</td>\n",
       "      <td>0.756858</td>\n",
       "      <td>0.718030</td>\n",
       "      <td>0.663980</td>\n",
       "      <td>0.483598</td>\n",
       "    </tr>\n",
       "    <tr>\n",
       "      <td>DT</td>\n",
       "      <td>0.574522</td>\n",
       "      <td>0.661091</td>\n",
       "      <td>0.647334</td>\n",
       "      <td>0.615507</td>\n",
       "      <td>0.605291</td>\n",
       "      <td>0.561376</td>\n",
       "      <td>0.483598</td>\n",
       "    </tr>\n",
       "    <tr>\n",
       "      <td>RF</td>\n",
       "      <td>0.646886</td>\n",
       "      <td>0.624583</td>\n",
       "      <td>0.622466</td>\n",
       "      <td>0.669027</td>\n",
       "      <td>0.669638</td>\n",
       "      <td>0.647416</td>\n",
       "      <td>0.379121</td>\n",
       "    </tr>\n",
       "    <tr>\n",
       "      <td>NB</td>\n",
       "      <td>0.706064</td>\n",
       "      <td>0.690110</td>\n",
       "      <td>0.727147</td>\n",
       "      <td>0.749369</td>\n",
       "      <td>0.635979</td>\n",
       "      <td>0.667888</td>\n",
       "      <td>0.607652</td>\n",
       "    </tr>\n",
       "    <tr>\n",
       "      <td>LD</td>\n",
       "      <td>0.719210</td>\n",
       "      <td>0.704925</td>\n",
       "      <td>0.718071</td>\n",
       "      <td>0.711803</td>\n",
       "      <td>0.643386</td>\n",
       "      <td>0.588726</td>\n",
       "      <td>0.406634</td>\n",
       "    </tr>\n",
       "    <tr>\n",
       "      <td>MLP</td>\n",
       "      <td>0.647538</td>\n",
       "      <td>0.695238</td>\n",
       "      <td>0.681034</td>\n",
       "      <td>0.756777</td>\n",
       "      <td>0.597884</td>\n",
       "      <td>0.593284</td>\n",
       "      <td>0.530077</td>\n",
       "    </tr>\n",
       "  </tbody>\n",
       "</table>\n",
       "</div>"
      ],
      "text/plain": [
       "       Totali  Totali_with_BMI  Totali_with_DATA  Totali_with_BMI_and_DATA  \\\n",
       "SVC  0.666219         0.658812          0.747700                  0.756858   \n",
       "DT   0.574522         0.661091          0.647334                  0.615507   \n",
       "RF   0.646886         0.624583          0.622466                  0.669027   \n",
       "NB   0.706064         0.690110          0.727147                  0.749369   \n",
       "LD   0.719210         0.704925          0.718071                  0.711803   \n",
       "MLP  0.647538         0.695238          0.681034                  0.756777   \n",
       "\n",
       "      Details  Details_reduce_PCA  Details_reduced_TSNE  \n",
       "SVC  0.718030            0.663980              0.483598  \n",
       "DT   0.605291            0.561376              0.483598  \n",
       "RF   0.669638            0.647416              0.379121  \n",
       "NB   0.635979            0.667888              0.607652  \n",
       "LD   0.643386            0.588726              0.406634  \n",
       "MLP  0.597884            0.593284              0.530077  "
      ]
     },
     "execution_count": 42,
     "metadata": {},
     "output_type": "execute_result"
    }
   ],
   "source": [
    "table2 = pd.DataFrame(risultati_minMax_scaler)\n",
    "table2"
   ]
  },
  {
   "cell_type": "code",
   "execution_count": 43,
   "metadata": {
    "scrolled": false
   },
   "outputs": [
    {
     "name": "stdout",
     "output_type": "stream",
     "text": [
      "Risultati usando StandardScaler\n"
     ]
    },
    {
     "data": {
      "text/html": [
       "<div>\n",
       "<style scoped>\n",
       "    .dataframe tbody tr th:only-of-type {\n",
       "        vertical-align: middle;\n",
       "    }\n",
       "\n",
       "    .dataframe tbody tr th {\n",
       "        vertical-align: top;\n",
       "    }\n",
       "\n",
       "    .dataframe thead th {\n",
       "        text-align: right;\n",
       "    }\n",
       "</style>\n",
       "<table border=\"1\" class=\"dataframe\">\n",
       "  <thead>\n",
       "    <tr style=\"text-align: right;\">\n",
       "      <th></th>\n",
       "      <th>Totali</th>\n",
       "      <th>Totali_with_BMI</th>\n",
       "      <th>Totali_with_data</th>\n",
       "      <th>Totali_with_date_and_bmi</th>\n",
       "      <th>Details</th>\n",
       "      <th>Details_reduce_PCA</th>\n",
       "      <th>Details_reduced_TSNE</th>\n",
       "    </tr>\n",
       "  </thead>\n",
       "  <tbody>\n",
       "    <tr>\n",
       "      <td>SVC</td>\n",
       "      <td>0.666748</td>\n",
       "      <td>0.666748</td>\n",
       "      <td>0.771591</td>\n",
       "      <td>0.757916</td>\n",
       "      <td>0.670330</td>\n",
       "      <td>0.670248</td>\n",
       "      <td>0.527432</td>\n",
       "    </tr>\n",
       "    <tr>\n",
       "      <td>DT</td>\n",
       "      <td>0.560317</td>\n",
       "      <td>0.568254</td>\n",
       "      <td>0.608018</td>\n",
       "      <td>0.637648</td>\n",
       "      <td>0.628653</td>\n",
       "      <td>0.586406</td>\n",
       "      <td>0.521612</td>\n",
       "    </tr>\n",
       "    <tr>\n",
       "      <td>RF</td>\n",
       "      <td>0.622914</td>\n",
       "      <td>0.592755</td>\n",
       "      <td>0.631013</td>\n",
       "      <td>0.644607</td>\n",
       "      <td>0.632601</td>\n",
       "      <td>0.682702</td>\n",
       "      <td>0.455474</td>\n",
       "    </tr>\n",
       "    <tr>\n",
       "      <td>NB</td>\n",
       "      <td>0.706064</td>\n",
       "      <td>0.690110</td>\n",
       "      <td>0.727147</td>\n",
       "      <td>0.749369</td>\n",
       "      <td>0.635979</td>\n",
       "      <td>0.665079</td>\n",
       "      <td>0.520554</td>\n",
       "    </tr>\n",
       "    <tr>\n",
       "      <td>LD</td>\n",
       "      <td>0.719210</td>\n",
       "      <td>0.704925</td>\n",
       "      <td>0.718071</td>\n",
       "      <td>0.711803</td>\n",
       "      <td>0.643386</td>\n",
       "      <td>0.588116</td>\n",
       "      <td>0.415792</td>\n",
       "    </tr>\n",
       "    <tr>\n",
       "      <td>MLP</td>\n",
       "      <td>0.674155</td>\n",
       "      <td>0.666748</td>\n",
       "      <td>0.727147</td>\n",
       "      <td>0.726618</td>\n",
       "      <td>0.600692</td>\n",
       "      <td>0.604151</td>\n",
       "      <td>0.440293</td>\n",
       "    </tr>\n",
       "  </tbody>\n",
       "</table>\n",
       "</div>"
      ],
      "text/plain": [
       "       Totali  Totali_with_BMI  Totali_with_data  Totali_with_date_and_bmi  \\\n",
       "SVC  0.666748         0.666748          0.771591                  0.757916   \n",
       "DT   0.560317         0.568254          0.608018                  0.637648   \n",
       "RF   0.622914         0.592755          0.631013                  0.644607   \n",
       "NB   0.706064         0.690110          0.727147                  0.749369   \n",
       "LD   0.719210         0.704925          0.718071                  0.711803   \n",
       "MLP  0.674155         0.666748          0.727147                  0.726618   \n",
       "\n",
       "      Details  Details_reduce_PCA  Details_reduced_TSNE  \n",
       "SVC  0.670330            0.670248              0.527432  \n",
       "DT   0.628653            0.586406              0.521612  \n",
       "RF   0.632601            0.682702              0.455474  \n",
       "NB   0.635979            0.665079              0.520554  \n",
       "LD   0.643386            0.588116              0.415792  \n",
       "MLP  0.600692            0.604151              0.440293  "
      ]
     },
     "metadata": {},
     "output_type": "display_data"
    },
    {
     "name": "stdout",
     "output_type": "stream",
     "text": [
      "Risultati usando MinMaxScaler\n"
     ]
    },
    {
     "data": {
      "text/html": [
       "<div>\n",
       "<style scoped>\n",
       "    .dataframe tbody tr th:only-of-type {\n",
       "        vertical-align: middle;\n",
       "    }\n",
       "\n",
       "    .dataframe tbody tr th {\n",
       "        vertical-align: top;\n",
       "    }\n",
       "\n",
       "    .dataframe thead th {\n",
       "        text-align: right;\n",
       "    }\n",
       "</style>\n",
       "<table border=\"1\" class=\"dataframe\">\n",
       "  <thead>\n",
       "    <tr style=\"text-align: right;\">\n",
       "      <th></th>\n",
       "      <th>Totali</th>\n",
       "      <th>Totali_with_BMI</th>\n",
       "      <th>Totali_with_DATA</th>\n",
       "      <th>Totali_with_BMI_and_DATA</th>\n",
       "      <th>Details</th>\n",
       "      <th>Details_reduce_PCA</th>\n",
       "      <th>Details_reduced_TSNE</th>\n",
       "    </tr>\n",
       "  </thead>\n",
       "  <tbody>\n",
       "    <tr>\n",
       "      <td>SVC</td>\n",
       "      <td>0.666219</td>\n",
       "      <td>0.658812</td>\n",
       "      <td>0.747700</td>\n",
       "      <td>0.756858</td>\n",
       "      <td>0.718030</td>\n",
       "      <td>0.663980</td>\n",
       "      <td>0.483598</td>\n",
       "    </tr>\n",
       "    <tr>\n",
       "      <td>DT</td>\n",
       "      <td>0.574522</td>\n",
       "      <td>0.661091</td>\n",
       "      <td>0.647334</td>\n",
       "      <td>0.615507</td>\n",
       "      <td>0.605291</td>\n",
       "      <td>0.561376</td>\n",
       "      <td>0.483598</td>\n",
       "    </tr>\n",
       "    <tr>\n",
       "      <td>RF</td>\n",
       "      <td>0.646886</td>\n",
       "      <td>0.624583</td>\n",
       "      <td>0.622466</td>\n",
       "      <td>0.669027</td>\n",
       "      <td>0.669638</td>\n",
       "      <td>0.647416</td>\n",
       "      <td>0.379121</td>\n",
       "    </tr>\n",
       "    <tr>\n",
       "      <td>NB</td>\n",
       "      <td>0.706064</td>\n",
       "      <td>0.690110</td>\n",
       "      <td>0.727147</td>\n",
       "      <td>0.749369</td>\n",
       "      <td>0.635979</td>\n",
       "      <td>0.667888</td>\n",
       "      <td>0.607652</td>\n",
       "    </tr>\n",
       "    <tr>\n",
       "      <td>LD</td>\n",
       "      <td>0.719210</td>\n",
       "      <td>0.704925</td>\n",
       "      <td>0.718071</td>\n",
       "      <td>0.711803</td>\n",
       "      <td>0.643386</td>\n",
       "      <td>0.588726</td>\n",
       "      <td>0.406634</td>\n",
       "    </tr>\n",
       "    <tr>\n",
       "      <td>MLP</td>\n",
       "      <td>0.647538</td>\n",
       "      <td>0.695238</td>\n",
       "      <td>0.681034</td>\n",
       "      <td>0.756777</td>\n",
       "      <td>0.597884</td>\n",
       "      <td>0.593284</td>\n",
       "      <td>0.530077</td>\n",
       "    </tr>\n",
       "  </tbody>\n",
       "</table>\n",
       "</div>"
      ],
      "text/plain": [
       "       Totali  Totali_with_BMI  Totali_with_DATA  Totali_with_BMI_and_DATA  \\\n",
       "SVC  0.666219         0.658812          0.747700                  0.756858   \n",
       "DT   0.574522         0.661091          0.647334                  0.615507   \n",
       "RF   0.646886         0.624583          0.622466                  0.669027   \n",
       "NB   0.706064         0.690110          0.727147                  0.749369   \n",
       "LD   0.719210         0.704925          0.718071                  0.711803   \n",
       "MLP  0.647538         0.695238          0.681034                  0.756777   \n",
       "\n",
       "      Details  Details_reduce_PCA  Details_reduced_TSNE  \n",
       "SVC  0.718030            0.663980              0.483598  \n",
       "DT   0.605291            0.561376              0.483598  \n",
       "RF   0.669638            0.647416              0.379121  \n",
       "NB   0.635979            0.667888              0.607652  \n",
       "LD   0.643386            0.588726              0.406634  \n",
       "MLP  0.597884            0.593284              0.530077  "
      ]
     },
     "metadata": {},
     "output_type": "display_data"
    }
   ],
   "source": [
    "print(\"Risultati usando StandardScaler\")\n",
    "display(table)\n",
    "print(\"Risultati usando MinMaxScaler\")\n",
    "display(table2)"
   ]
  },
  {
   "cell_type": "markdown",
   "metadata": {},
   "source": [
    "# Usando come scaler RobustScaler"
   ]
  },
  {
   "cell_type": "code",
   "execution_count": 44,
   "metadata": {},
   "outputs": [],
   "source": [
    "from sklearn.preprocessing import RobustScaler\n",
    "import pandas as pd"
   ]
  },
  {
   "cell_type": "code",
   "execution_count": 45,
   "metadata": {},
   "outputs": [
    {
     "name": "stdout",
     "output_type": "stream",
     "text": [
      "--- 22.01202940940857 seconds ---\n",
      "--- 6.762310743331909 seconds ---\n",
      "--- 1665.1695983409882 seconds ---\n",
      "--- 0.1711442470550537 seconds ---\n",
      "--- 0.22661995887756348 seconds ---\n",
      "--- 320.00280141830444 seconds ---\n"
     ]
    }
   ],
   "source": [
    "risultati_RobustScaler = {}\n",
    "risultati_RobustScaler['Totali'] = {model_to_string[m]: np.mean(addestra(m, X_total, y_total, g, 9, 9, scaling=RobustScaler())) for m, g in zip(models, grids)}"
   ]
  },
  {
   "cell_type": "code",
   "execution_count": 46,
   "metadata": {},
   "outputs": [
    {
     "name": "stdout",
     "output_type": "stream",
     "text": [
      "--- 23.34464693069458 seconds ---\n",
      "--- 6.657405853271484 seconds ---\n",
      "--- 1677.1268033981323 seconds ---\n",
      "--- 0.16579318046569824 seconds ---\n",
      "--- 0.22275447845458984 seconds ---\n",
      "--- 328.068719625473 seconds ---\n"
     ]
    }
   ],
   "source": [
    "risultati_RobustScaler['Totali_with_BMI'] = {model_to_string[m]: np.mean(addestra(m, X_total_with_BMI, y_total_with_BMI, g, 9, 9, scaling=RobustScaler())) for m, g in zip(models, grids)}"
   ]
  },
  {
   "cell_type": "code",
   "execution_count": 48,
   "metadata": {},
   "outputs": [
    {
     "name": "stdout",
     "output_type": "stream",
     "text": [
      "--- 21.997519969940186 seconds ---\n",
      "--- 5.3963329792022705 seconds ---\n",
      "--- 1681.9350094795227 seconds ---\n",
      "--- 0.18477988243103027 seconds ---\n",
      "--- 0.2157611846923828 seconds ---\n",
      "--- 327.6618974208832 seconds ---\n"
     ]
    }
   ],
   "source": [
    "risultati_RobustScaler['Totali_with_DATA'] = {model_to_string[m]: np.mean(addestra(m, X_total_with_BMI, y_total_with_BMI, g, 9, 9, scaling=RobustScaler())) for m, g in zip(models, grids)}"
   ]
  },
  {
   "cell_type": "code",
   "execution_count": 49,
   "metadata": {},
   "outputs": [
    {
     "name": "stdout",
     "output_type": "stream",
     "text": [
      "--- 26.059804916381836 seconds ---\n",
      "--- 6.643844842910767 seconds ---\n",
      "--- 1682.1823406219482 seconds ---\n",
      "--- 0.18846654891967773 seconds ---\n",
      "--- 0.2196969985961914 seconds ---\n",
      "--- 345.9118654727936 seconds ---\n"
     ]
    }
   ],
   "source": [
    "risultati_RobustScaler['Totali_with_BMI_and_DATA'] = {model_to_string[m]: np.mean(addestra(m, X_total_with_data_and_BMI,y_total_with_data_and_BMI, g, 9, 9, scaling=RobustScaler())) for m, g in zip(models, grids)}"
   ]
  },
  {
   "cell_type": "code",
   "execution_count": 50,
   "metadata": {},
   "outputs": [
    {
     "name": "stdout",
     "output_type": "stream",
     "text": [
      "--- 91.67379570007324 seconds ---\n",
      "--- 6.574068546295166 seconds ---\n",
      "--- 1656.0903832912445 seconds ---\n",
      "--- 0.15982294082641602 seconds ---\n",
      "--- 0.22257304191589355 seconds ---\n",
      "--- 376.3631389141083 seconds ---\n"
     ]
    }
   ],
   "source": [
    "risultati_RobustScaler['Details'] = {model_to_string[m]: np.mean(addestra(m, X_details, y_details, g, 9, 9, scaling=RobustScaler())) for m, g in zip(models, grids)}"
   ]
  },
  {
   "cell_type": "code",
   "execution_count": 51,
   "metadata": {},
   "outputs": [
    {
     "name": "stdout",
     "output_type": "stream",
     "text": [
      "--- 58.48880195617676 seconds ---\n",
      "--- 6.861525535583496 seconds ---\n",
      "--- 1747.4323678016663 seconds ---\n",
      "--- 0.20461726188659668 seconds ---\n",
      "--- 0.24828386306762695 seconds ---\n",
      "--- 347.82923197746277 seconds ---\n"
     ]
    }
   ],
   "source": [
    "risultati_RobustScaler['Details_reduce_PCA'] = {model_to_string[m]: np.mean(addestra(m, X_details, y_details, g, 9, 9, scaling=RobustScaler(), dim_reduction=PCA(n_components=13))) for m, g in zip(models, grids)}"
   ]
  },
  {
   "cell_type": "code",
   "execution_count": 52,
   "metadata": {},
   "outputs": [
    {
     "name": "stdout",
     "output_type": "stream",
     "text": [
      "--- 1352.5155205726624 seconds ---\n",
      "--- 8.355697393417358 seconds ---\n",
      "--- 1761.4511694908142 seconds ---\n",
      "--- 2.277561664581299 seconds ---\n",
      "--- 2.283473491668701 seconds ---\n",
      "--- 311.15888381004333 seconds ---\n"
     ]
    }
   ],
   "source": [
    "from sklearn.manifold import TSNE\n",
    "\n",
    "risultati_RobustScaler['Details_reduced_TSNE'] = {model_to_string[m]: np.mean(addestra(m, X_details, y_details, g, 9, 9, scaling=RobustScaler(), dim_reduction=TSNE(n_components=13, method='exact'))) for m, g in zip(models, grids)}"
   ]
  },
  {
   "cell_type": "code",
   "execution_count": 53,
   "metadata": {},
   "outputs": [
    {
     "data": {
      "text/html": [
       "<div>\n",
       "<style scoped>\n",
       "    .dataframe tbody tr th:only-of-type {\n",
       "        vertical-align: middle;\n",
       "    }\n",
       "\n",
       "    .dataframe tbody tr th {\n",
       "        vertical-align: top;\n",
       "    }\n",
       "\n",
       "    .dataframe thead th {\n",
       "        text-align: right;\n",
       "    }\n",
       "</style>\n",
       "<table border=\"1\" class=\"dataframe\">\n",
       "  <thead>\n",
       "    <tr style=\"text-align: right;\">\n",
       "      <th></th>\n",
       "      <th>Totali</th>\n",
       "      <th>Totali_with_BMI</th>\n",
       "      <th>Totali_with_DATA</th>\n",
       "      <th>Totali_with_BMI_and_DATA</th>\n",
       "      <th>Details</th>\n",
       "      <th>Details_reduce_PCA</th>\n",
       "      <th>Details_reduced_TSNE</th>\n",
       "    </tr>\n",
       "  </thead>\n",
       "  <tbody>\n",
       "    <tr>\n",
       "      <td>SVC</td>\n",
       "      <td>0.665690</td>\n",
       "      <td>0.690110</td>\n",
       "      <td>0.690110</td>\n",
       "      <td>0.771591</td>\n",
       "      <td>0.691860</td>\n",
       "      <td>0.651486</td>\n",
       "      <td>0.500122</td>\n",
       "    </tr>\n",
       "    <tr>\n",
       "      <td>DT</td>\n",
       "      <td>0.569312</td>\n",
       "      <td>0.628571</td>\n",
       "      <td>0.608181</td>\n",
       "      <td>0.622833</td>\n",
       "      <td>0.623525</td>\n",
       "      <td>0.636589</td>\n",
       "      <td>0.449817</td>\n",
       "    </tr>\n",
       "    <tr>\n",
       "      <td>RF</td>\n",
       "      <td>0.658812</td>\n",
       "      <td>0.653602</td>\n",
       "      <td>0.609239</td>\n",
       "      <td>0.637200</td>\n",
       "      <td>0.700407</td>\n",
       "      <td>0.644526</td>\n",
       "      <td>0.493814</td>\n",
       "    </tr>\n",
       "    <tr>\n",
       "      <td>NB</td>\n",
       "      <td>0.706064</td>\n",
       "      <td>0.690110</td>\n",
       "      <td>0.690110</td>\n",
       "      <td>0.749369</td>\n",
       "      <td>0.635979</td>\n",
       "      <td>0.658282</td>\n",
       "      <td>0.535287</td>\n",
       "    </tr>\n",
       "    <tr>\n",
       "      <td>LD</td>\n",
       "      <td>0.719210</td>\n",
       "      <td>0.704925</td>\n",
       "      <td>0.704925</td>\n",
       "      <td>0.711803</td>\n",
       "      <td>0.643386</td>\n",
       "      <td>0.650183</td>\n",
       "      <td>0.400366</td>\n",
       "    </tr>\n",
       "    <tr>\n",
       "      <td>MLP</td>\n",
       "      <td>0.682702</td>\n",
       "      <td>0.643997</td>\n",
       "      <td>0.650794</td>\n",
       "      <td>0.734025</td>\n",
       "      <td>0.575580</td>\n",
       "      <td>0.536874</td>\n",
       "      <td>0.460765</td>\n",
       "    </tr>\n",
       "  </tbody>\n",
       "</table>\n",
       "</div>"
      ],
      "text/plain": [
       "       Totali  Totali_with_BMI  Totali_with_DATA  Totali_with_BMI_and_DATA  \\\n",
       "SVC  0.665690         0.690110          0.690110                  0.771591   \n",
       "DT   0.569312         0.628571          0.608181                  0.622833   \n",
       "RF   0.658812         0.653602          0.609239                  0.637200   \n",
       "NB   0.706064         0.690110          0.690110                  0.749369   \n",
       "LD   0.719210         0.704925          0.704925                  0.711803   \n",
       "MLP  0.682702         0.643997          0.650794                  0.734025   \n",
       "\n",
       "      Details  Details_reduce_PCA  Details_reduced_TSNE  \n",
       "SVC  0.691860            0.651486              0.500122  \n",
       "DT   0.623525            0.636589              0.449817  \n",
       "RF   0.700407            0.644526              0.493814  \n",
       "NB   0.635979            0.658282              0.535287  \n",
       "LD   0.643386            0.650183              0.400366  \n",
       "MLP  0.575580            0.536874              0.460765  "
      ]
     },
     "execution_count": 53,
     "metadata": {},
     "output_type": "execute_result"
    }
   ],
   "source": [
    "table3 = pd.DataFrame(risultati_RobustScaler)\n",
    "table3"
   ]
  },
  {
   "cell_type": "code",
   "execution_count": 55,
   "metadata": {},
   "outputs": [
    {
     "name": "stdout",
     "output_type": "stream",
     "text": [
      "Risultati usando StandardScaler\n"
     ]
    },
    {
     "data": {
      "text/html": [
       "<div>\n",
       "<style scoped>\n",
       "    .dataframe tbody tr th:only-of-type {\n",
       "        vertical-align: middle;\n",
       "    }\n",
       "\n",
       "    .dataframe tbody tr th {\n",
       "        vertical-align: top;\n",
       "    }\n",
       "\n",
       "    .dataframe thead th {\n",
       "        text-align: right;\n",
       "    }\n",
       "</style>\n",
       "<table border=\"1\" class=\"dataframe\">\n",
       "  <thead>\n",
       "    <tr style=\"text-align: right;\">\n",
       "      <th></th>\n",
       "      <th>Totali</th>\n",
       "      <th>Totali_with_BMI</th>\n",
       "      <th>Totali_with_data</th>\n",
       "      <th>Totali_with_date_and_bmi</th>\n",
       "      <th>Details</th>\n",
       "      <th>Details_reduce_PCA</th>\n",
       "      <th>Details_reduced_TSNE</th>\n",
       "    </tr>\n",
       "  </thead>\n",
       "  <tbody>\n",
       "    <tr>\n",
       "      <td>SVC</td>\n",
       "      <td>0.666748</td>\n",
       "      <td>0.666748</td>\n",
       "      <td>0.771591</td>\n",
       "      <td>0.757916</td>\n",
       "      <td>0.670330</td>\n",
       "      <td>0.670248</td>\n",
       "      <td>0.527432</td>\n",
       "    </tr>\n",
       "    <tr>\n",
       "      <td>DT</td>\n",
       "      <td>0.560317</td>\n",
       "      <td>0.568254</td>\n",
       "      <td>0.608018</td>\n",
       "      <td>0.637648</td>\n",
       "      <td>0.628653</td>\n",
       "      <td>0.586406</td>\n",
       "      <td>0.521612</td>\n",
       "    </tr>\n",
       "    <tr>\n",
       "      <td>RF</td>\n",
       "      <td>0.622914</td>\n",
       "      <td>0.592755</td>\n",
       "      <td>0.631013</td>\n",
       "      <td>0.644607</td>\n",
       "      <td>0.632601</td>\n",
       "      <td>0.682702</td>\n",
       "      <td>0.455474</td>\n",
       "    </tr>\n",
       "    <tr>\n",
       "      <td>NB</td>\n",
       "      <td>0.706064</td>\n",
       "      <td>0.690110</td>\n",
       "      <td>0.727147</td>\n",
       "      <td>0.749369</td>\n",
       "      <td>0.635979</td>\n",
       "      <td>0.665079</td>\n",
       "      <td>0.520554</td>\n",
       "    </tr>\n",
       "    <tr>\n",
       "      <td>LD</td>\n",
       "      <td>0.719210</td>\n",
       "      <td>0.704925</td>\n",
       "      <td>0.718071</td>\n",
       "      <td>0.711803</td>\n",
       "      <td>0.643386</td>\n",
       "      <td>0.588116</td>\n",
       "      <td>0.415792</td>\n",
       "    </tr>\n",
       "    <tr>\n",
       "      <td>MLP</td>\n",
       "      <td>0.674155</td>\n",
       "      <td>0.666748</td>\n",
       "      <td>0.727147</td>\n",
       "      <td>0.726618</td>\n",
       "      <td>0.600692</td>\n",
       "      <td>0.604151</td>\n",
       "      <td>0.440293</td>\n",
       "    </tr>\n",
       "  </tbody>\n",
       "</table>\n",
       "</div>"
      ],
      "text/plain": [
       "       Totali  Totali_with_BMI  Totali_with_data  Totali_with_date_and_bmi  \\\n",
       "SVC  0.666748         0.666748          0.771591                  0.757916   \n",
       "DT   0.560317         0.568254          0.608018                  0.637648   \n",
       "RF   0.622914         0.592755          0.631013                  0.644607   \n",
       "NB   0.706064         0.690110          0.727147                  0.749369   \n",
       "LD   0.719210         0.704925          0.718071                  0.711803   \n",
       "MLP  0.674155         0.666748          0.727147                  0.726618   \n",
       "\n",
       "      Details  Details_reduce_PCA  Details_reduced_TSNE  \n",
       "SVC  0.670330            0.670248              0.527432  \n",
       "DT   0.628653            0.586406              0.521612  \n",
       "RF   0.632601            0.682702              0.455474  \n",
       "NB   0.635979            0.665079              0.520554  \n",
       "LD   0.643386            0.588116              0.415792  \n",
       "MLP  0.600692            0.604151              0.440293  "
      ]
     },
     "metadata": {},
     "output_type": "display_data"
    },
    {
     "name": "stdout",
     "output_type": "stream",
     "text": [
      "Risultati usando MaxAbsScaler\n"
     ]
    },
    {
     "data": {
      "text/html": [
       "<div>\n",
       "<style scoped>\n",
       "    .dataframe tbody tr th:only-of-type {\n",
       "        vertical-align: middle;\n",
       "    }\n",
       "\n",
       "    .dataframe tbody tr th {\n",
       "        vertical-align: top;\n",
       "    }\n",
       "\n",
       "    .dataframe thead th {\n",
       "        text-align: right;\n",
       "    }\n",
       "</style>\n",
       "<table border=\"1\" class=\"dataframe\">\n",
       "  <thead>\n",
       "    <tr style=\"text-align: right;\">\n",
       "      <th></th>\n",
       "      <th>Totali</th>\n",
       "      <th>Totali_with_BMI</th>\n",
       "      <th>Totali_with_DATA</th>\n",
       "      <th>Totali_with_BMI_and_DATA</th>\n",
       "      <th>Details</th>\n",
       "      <th>Details_reduce_PCA</th>\n",
       "      <th>Details_reduced_TSNE</th>\n",
       "    </tr>\n",
       "  </thead>\n",
       "  <tbody>\n",
       "    <tr>\n",
       "      <td>SVC</td>\n",
       "      <td>0.666219</td>\n",
       "      <td>0.658812</td>\n",
       "      <td>0.747700</td>\n",
       "      <td>0.756858</td>\n",
       "      <td>0.718030</td>\n",
       "      <td>0.663980</td>\n",
       "      <td>0.483598</td>\n",
       "    </tr>\n",
       "    <tr>\n",
       "      <td>DT</td>\n",
       "      <td>0.574522</td>\n",
       "      <td>0.661091</td>\n",
       "      <td>0.647334</td>\n",
       "      <td>0.615507</td>\n",
       "      <td>0.605291</td>\n",
       "      <td>0.561376</td>\n",
       "      <td>0.483598</td>\n",
       "    </tr>\n",
       "    <tr>\n",
       "      <td>RF</td>\n",
       "      <td>0.646886</td>\n",
       "      <td>0.624583</td>\n",
       "      <td>0.622466</td>\n",
       "      <td>0.669027</td>\n",
       "      <td>0.669638</td>\n",
       "      <td>0.647416</td>\n",
       "      <td>0.379121</td>\n",
       "    </tr>\n",
       "    <tr>\n",
       "      <td>NB</td>\n",
       "      <td>0.706064</td>\n",
       "      <td>0.690110</td>\n",
       "      <td>0.727147</td>\n",
       "      <td>0.749369</td>\n",
       "      <td>0.635979</td>\n",
       "      <td>0.667888</td>\n",
       "      <td>0.607652</td>\n",
       "    </tr>\n",
       "    <tr>\n",
       "      <td>LD</td>\n",
       "      <td>0.719210</td>\n",
       "      <td>0.704925</td>\n",
       "      <td>0.718071</td>\n",
       "      <td>0.711803</td>\n",
       "      <td>0.643386</td>\n",
       "      <td>0.588726</td>\n",
       "      <td>0.406634</td>\n",
       "    </tr>\n",
       "    <tr>\n",
       "      <td>MLP</td>\n",
       "      <td>0.647538</td>\n",
       "      <td>0.695238</td>\n",
       "      <td>0.681034</td>\n",
       "      <td>0.756777</td>\n",
       "      <td>0.597884</td>\n",
       "      <td>0.593284</td>\n",
       "      <td>0.530077</td>\n",
       "    </tr>\n",
       "  </tbody>\n",
       "</table>\n",
       "</div>"
      ],
      "text/plain": [
       "       Totali  Totali_with_BMI  Totali_with_DATA  Totali_with_BMI_and_DATA  \\\n",
       "SVC  0.666219         0.658812          0.747700                  0.756858   \n",
       "DT   0.574522         0.661091          0.647334                  0.615507   \n",
       "RF   0.646886         0.624583          0.622466                  0.669027   \n",
       "NB   0.706064         0.690110          0.727147                  0.749369   \n",
       "LD   0.719210         0.704925          0.718071                  0.711803   \n",
       "MLP  0.647538         0.695238          0.681034                  0.756777   \n",
       "\n",
       "      Details  Details_reduce_PCA  Details_reduced_TSNE  \n",
       "SVC  0.718030            0.663980              0.483598  \n",
       "DT   0.605291            0.561376              0.483598  \n",
       "RF   0.669638            0.647416              0.379121  \n",
       "NB   0.635979            0.667888              0.607652  \n",
       "LD   0.643386            0.588726              0.406634  \n",
       "MLP  0.597884            0.593284              0.530077  "
      ]
     },
     "metadata": {},
     "output_type": "display_data"
    },
    {
     "name": "stdout",
     "output_type": "stream",
     "text": [
      "Risultati usando RobustScaler\n"
     ]
    },
    {
     "data": {
      "text/html": [
       "<div>\n",
       "<style scoped>\n",
       "    .dataframe tbody tr th:only-of-type {\n",
       "        vertical-align: middle;\n",
       "    }\n",
       "\n",
       "    .dataframe tbody tr th {\n",
       "        vertical-align: top;\n",
       "    }\n",
       "\n",
       "    .dataframe thead th {\n",
       "        text-align: right;\n",
       "    }\n",
       "</style>\n",
       "<table border=\"1\" class=\"dataframe\">\n",
       "  <thead>\n",
       "    <tr style=\"text-align: right;\">\n",
       "      <th></th>\n",
       "      <th>Totali</th>\n",
       "      <th>Totali_with_BMI</th>\n",
       "      <th>Totali_with_DATA</th>\n",
       "      <th>Totali_with_BMI_and_DATA</th>\n",
       "      <th>Details</th>\n",
       "      <th>Details_reduce_PCA</th>\n",
       "      <th>Details_reduced_TSNE</th>\n",
       "    </tr>\n",
       "  </thead>\n",
       "  <tbody>\n",
       "    <tr>\n",
       "      <td>SVC</td>\n",
       "      <td>0.665690</td>\n",
       "      <td>0.690110</td>\n",
       "      <td>0.690110</td>\n",
       "      <td>0.771591</td>\n",
       "      <td>0.691860</td>\n",
       "      <td>0.651486</td>\n",
       "      <td>0.500122</td>\n",
       "    </tr>\n",
       "    <tr>\n",
       "      <td>DT</td>\n",
       "      <td>0.569312</td>\n",
       "      <td>0.628571</td>\n",
       "      <td>0.608181</td>\n",
       "      <td>0.622833</td>\n",
       "      <td>0.623525</td>\n",
       "      <td>0.636589</td>\n",
       "      <td>0.449817</td>\n",
       "    </tr>\n",
       "    <tr>\n",
       "      <td>RF</td>\n",
       "      <td>0.658812</td>\n",
       "      <td>0.653602</td>\n",
       "      <td>0.609239</td>\n",
       "      <td>0.637200</td>\n",
       "      <td>0.700407</td>\n",
       "      <td>0.644526</td>\n",
       "      <td>0.493814</td>\n",
       "    </tr>\n",
       "    <tr>\n",
       "      <td>NB</td>\n",
       "      <td>0.706064</td>\n",
       "      <td>0.690110</td>\n",
       "      <td>0.690110</td>\n",
       "      <td>0.749369</td>\n",
       "      <td>0.635979</td>\n",
       "      <td>0.658282</td>\n",
       "      <td>0.535287</td>\n",
       "    </tr>\n",
       "    <tr>\n",
       "      <td>LD</td>\n",
       "      <td>0.719210</td>\n",
       "      <td>0.704925</td>\n",
       "      <td>0.704925</td>\n",
       "      <td>0.711803</td>\n",
       "      <td>0.643386</td>\n",
       "      <td>0.650183</td>\n",
       "      <td>0.400366</td>\n",
       "    </tr>\n",
       "    <tr>\n",
       "      <td>MLP</td>\n",
       "      <td>0.682702</td>\n",
       "      <td>0.643997</td>\n",
       "      <td>0.650794</td>\n",
       "      <td>0.734025</td>\n",
       "      <td>0.575580</td>\n",
       "      <td>0.536874</td>\n",
       "      <td>0.460765</td>\n",
       "    </tr>\n",
       "  </tbody>\n",
       "</table>\n",
       "</div>"
      ],
      "text/plain": [
       "       Totali  Totali_with_BMI  Totali_with_DATA  Totali_with_BMI_and_DATA  \\\n",
       "SVC  0.665690         0.690110          0.690110                  0.771591   \n",
       "DT   0.569312         0.628571          0.608181                  0.622833   \n",
       "RF   0.658812         0.653602          0.609239                  0.637200   \n",
       "NB   0.706064         0.690110          0.690110                  0.749369   \n",
       "LD   0.719210         0.704925          0.704925                  0.711803   \n",
       "MLP  0.682702         0.643997          0.650794                  0.734025   \n",
       "\n",
       "      Details  Details_reduce_PCA  Details_reduced_TSNE  \n",
       "SVC  0.691860            0.651486              0.500122  \n",
       "DT   0.623525            0.636589              0.449817  \n",
       "RF   0.700407            0.644526              0.493814  \n",
       "NB   0.635979            0.658282              0.535287  \n",
       "LD   0.643386            0.650183              0.400366  \n",
       "MLP  0.575580            0.536874              0.460765  "
      ]
     },
     "metadata": {},
     "output_type": "display_data"
    }
   ],
   "source": [
    "print(\"Risultati usando StandardScaler\")\n",
    "display(table)\n",
    "print(\"Risultati usando MaxAbsScaler\")\n",
    "display(table2)\n",
    "print(\"Risultati usando RobustScaler\")\n",
    "display(table3)"
   ]
  },
  {
   "cell_type": "markdown",
   "metadata": {},
   "source": [
    "# Proviamo ora a non usare uno SCALER"
   ]
  },
  {
   "cell_type": "code",
   "execution_count": null,
   "metadata": {},
   "outputs": [],
   "source": [
    "X_total_with_data_and_BMI = dataset[['DATA', 'SESSO', 'ANNI', 'PESO', 'ALTEZZA', 'BMI', 'Tot Testa', 'Tot Torace', 'Tot Addome', 'Tot Scheletro']]\n",
    "y_total_with_data_and_BMI = dataset['Mezzo']"
   ]
  },
  {
   "cell_type": "code",
   "execution_count": 57,
   "metadata": {},
   "outputs": [],
   "source": [
    "risultati_senza_scaler = {}"
   ]
  },
  {
   "cell_type": "code",
   "execution_count": 67,
   "metadata": {},
   "outputs": [
    {
     "ename": "KeyboardInterrupt",
     "evalue": "",
     "output_type": "error",
     "traceback": [
      "\u001b[0;31m---------------------------------------------------------------------------\u001b[0m",
      "\u001b[0;31mKeyboardInterrupt\u001b[0m                         Traceback (most recent call last)",
      "\u001b[0;32m<ipython-input-67-3385c61b7d4f>\u001b[0m in \u001b[0;36m<module>\u001b[0;34m\u001b[0m\n\u001b[0;32m----> 1\u001b[0;31m \u001b[0mrisultati_senza_scaler\u001b[0m\u001b[0;34m[\u001b[0m\u001b[0;34m'Totali'\u001b[0m\u001b[0;34m]\u001b[0m \u001b[0;34m=\u001b[0m \u001b[0;34m{\u001b[0m\u001b[0mmodel_to_string\u001b[0m\u001b[0;34m[\u001b[0m\u001b[0mm\u001b[0m\u001b[0;34m]\u001b[0m\u001b[0;34m:\u001b[0m \u001b[0mnp\u001b[0m\u001b[0;34m.\u001b[0m\u001b[0mmean\u001b[0m\u001b[0;34m(\u001b[0m\u001b[0maddestra\u001b[0m\u001b[0;34m(\u001b[0m\u001b[0mm\u001b[0m\u001b[0;34m,\u001b[0m \u001b[0mX_total\u001b[0m\u001b[0;34m,\u001b[0m \u001b[0my_total\u001b[0m\u001b[0;34m,\u001b[0m \u001b[0mg\u001b[0m\u001b[0;34m,\u001b[0m \u001b[0;36m9\u001b[0m\u001b[0;34m,\u001b[0m \u001b[0;36m9\u001b[0m\u001b[0;34m,\u001b[0m \u001b[0mscaling\u001b[0m\u001b[0;34m=\u001b[0m\u001b[0;32mNone\u001b[0m\u001b[0;34m)\u001b[0m\u001b[0;34m)\u001b[0m \u001b[0;32mfor\u001b[0m \u001b[0mm\u001b[0m\u001b[0;34m,\u001b[0m \u001b[0mg\u001b[0m \u001b[0;32min\u001b[0m \u001b[0mzip\u001b[0m\u001b[0;34m(\u001b[0m\u001b[0mmodels\u001b[0m\u001b[0;34m,\u001b[0m \u001b[0mgrids\u001b[0m\u001b[0;34m)\u001b[0m\u001b[0;34m}\u001b[0m\u001b[0;34m\u001b[0m\u001b[0;34m\u001b[0m\u001b[0m\n\u001b[0m",
      "\u001b[0;32m<ipython-input-67-3385c61b7d4f>\u001b[0m in \u001b[0;36m<dictcomp>\u001b[0;34m(.0)\u001b[0m\n\u001b[0;32m----> 1\u001b[0;31m \u001b[0mrisultati_senza_scaler\u001b[0m\u001b[0;34m[\u001b[0m\u001b[0;34m'Totali'\u001b[0m\u001b[0;34m]\u001b[0m \u001b[0;34m=\u001b[0m \u001b[0;34m{\u001b[0m\u001b[0mmodel_to_string\u001b[0m\u001b[0;34m[\u001b[0m\u001b[0mm\u001b[0m\u001b[0;34m]\u001b[0m\u001b[0;34m:\u001b[0m \u001b[0mnp\u001b[0m\u001b[0;34m.\u001b[0m\u001b[0mmean\u001b[0m\u001b[0;34m(\u001b[0m\u001b[0maddestra\u001b[0m\u001b[0;34m(\u001b[0m\u001b[0mm\u001b[0m\u001b[0;34m,\u001b[0m \u001b[0mX_total\u001b[0m\u001b[0;34m,\u001b[0m \u001b[0my_total\u001b[0m\u001b[0;34m,\u001b[0m \u001b[0mg\u001b[0m\u001b[0;34m,\u001b[0m \u001b[0;36m9\u001b[0m\u001b[0;34m,\u001b[0m \u001b[0;36m9\u001b[0m\u001b[0;34m,\u001b[0m \u001b[0mscaling\u001b[0m\u001b[0;34m=\u001b[0m\u001b[0;32mNone\u001b[0m\u001b[0;34m)\u001b[0m\u001b[0;34m)\u001b[0m \u001b[0;32mfor\u001b[0m \u001b[0mm\u001b[0m\u001b[0;34m,\u001b[0m \u001b[0mg\u001b[0m \u001b[0;32min\u001b[0m \u001b[0mzip\u001b[0m\u001b[0;34m(\u001b[0m\u001b[0mmodels\u001b[0m\u001b[0;34m,\u001b[0m \u001b[0mgrids\u001b[0m\u001b[0;34m)\u001b[0m\u001b[0;34m}\u001b[0m\u001b[0;34m\u001b[0m\u001b[0;34m\u001b[0m\u001b[0m\n\u001b[0m",
      "\u001b[0;32m<ipython-input-6-a783fdfae516>\u001b[0m in \u001b[0;36maddestra\u001b[0;34m(model_class, X, y, model_selection_grid, num_fold_grid_search, num_fold_cross_val, scaling, dim_reduction)\u001b[0m\n\u001b[1;32m     18\u001b[0m     \u001b[0mnp\u001b[0m\u001b[0;34m.\u001b[0m\u001b[0mrandom\u001b[0m\u001b[0;34m.\u001b[0m\u001b[0mseed\u001b[0m\u001b[0;34m(\u001b[0m\u001b[0;36m42\u001b[0m\u001b[0;34m)\u001b[0m\u001b[0;34m\u001b[0m\u001b[0;34m\u001b[0m\u001b[0m\n\u001b[1;32m     19\u001b[0m     \u001b[0mclf\u001b[0m \u001b[0;34m=\u001b[0m \u001b[0mGridSearchCV\u001b[0m\u001b[0;34m(\u001b[0m\u001b[0mestimator\u001b[0m\u001b[0;34m=\u001b[0m\u001b[0mmodel_class\u001b[0m\u001b[0;34m(\u001b[0m\u001b[0;34m)\u001b[0m\u001b[0;34m,\u001b[0m \u001b[0mparam_grid\u001b[0m\u001b[0;34m=\u001b[0m\u001b[0mmodel_selection_grid\u001b[0m\u001b[0;34m,\u001b[0m \u001b[0mcv\u001b[0m\u001b[0;34m=\u001b[0m\u001b[0mnum_fold_grid_search\u001b[0m\u001b[0;34m,\u001b[0m \u001b[0miid\u001b[0m\u001b[0;34m=\u001b[0m\u001b[0;32mTrue\u001b[0m\u001b[0;34m,\u001b[0m \u001b[0mn_jobs\u001b[0m\u001b[0;34m=\u001b[0m\u001b[0;34m-\u001b[0m\u001b[0;36m1\u001b[0m\u001b[0;34m)\u001b[0m\u001b[0;34m\u001b[0m\u001b[0;34m\u001b[0m\u001b[0m\n\u001b[0;32m---> 20\u001b[0;31m     \u001b[0mval\u001b[0m \u001b[0;34m=\u001b[0m \u001b[0mcross_val_score\u001b[0m\u001b[0;34m(\u001b[0m\u001b[0mclf\u001b[0m\u001b[0;34m,\u001b[0m \u001b[0mX_std\u001b[0m\u001b[0;34m,\u001b[0m \u001b[0my\u001b[0m\u001b[0;34m,\u001b[0m \u001b[0mcv\u001b[0m\u001b[0;34m=\u001b[0m\u001b[0mnum_fold_cross_val\u001b[0m\u001b[0;34m)\u001b[0m\u001b[0;34m\u001b[0m\u001b[0;34m\u001b[0m\u001b[0m\n\u001b[0m\u001b[1;32m     21\u001b[0m     \u001b[0mprint\u001b[0m\u001b[0;34m(\u001b[0m\u001b[0;34m\"--- %s seconds ---\"\u001b[0m \u001b[0;34m%\u001b[0m \u001b[0;34m(\u001b[0m\u001b[0mtime\u001b[0m\u001b[0;34m.\u001b[0m\u001b[0mtime\u001b[0m\u001b[0;34m(\u001b[0m\u001b[0;34m)\u001b[0m \u001b[0;34m-\u001b[0m \u001b[0mstart_time\u001b[0m\u001b[0;34m)\u001b[0m\u001b[0;34m)\u001b[0m\u001b[0;34m\u001b[0m\u001b[0;34m\u001b[0m\u001b[0m\n\u001b[1;32m     22\u001b[0m     \u001b[0;32mreturn\u001b[0m \u001b[0mval\u001b[0m\u001b[0;34m\u001b[0m\u001b[0;34m\u001b[0m\u001b[0m\n",
      "\u001b[0;32m~/anaconda3/lib/python3.7/site-packages/sklearn/model_selection/_validation.py\u001b[0m in \u001b[0;36mcross_val_score\u001b[0;34m(estimator, X, y, groups, scoring, cv, n_jobs, verbose, fit_params, pre_dispatch, error_score)\u001b[0m\n\u001b[1;32m    389\u001b[0m                                 \u001b[0mfit_params\u001b[0m\u001b[0;34m=\u001b[0m\u001b[0mfit_params\u001b[0m\u001b[0;34m,\u001b[0m\u001b[0;34m\u001b[0m\u001b[0;34m\u001b[0m\u001b[0m\n\u001b[1;32m    390\u001b[0m                                 \u001b[0mpre_dispatch\u001b[0m\u001b[0;34m=\u001b[0m\u001b[0mpre_dispatch\u001b[0m\u001b[0;34m,\u001b[0m\u001b[0;34m\u001b[0m\u001b[0;34m\u001b[0m\u001b[0m\n\u001b[0;32m--> 391\u001b[0;31m                                 error_score=error_score)\n\u001b[0m\u001b[1;32m    392\u001b[0m     \u001b[0;32mreturn\u001b[0m \u001b[0mcv_results\u001b[0m\u001b[0;34m[\u001b[0m\u001b[0;34m'test_score'\u001b[0m\u001b[0;34m]\u001b[0m\u001b[0;34m\u001b[0m\u001b[0;34m\u001b[0m\u001b[0m\n\u001b[1;32m    393\u001b[0m \u001b[0;34m\u001b[0m\u001b[0m\n",
      "\u001b[0;32m~/anaconda3/lib/python3.7/site-packages/sklearn/model_selection/_validation.py\u001b[0m in \u001b[0;36mcross_validate\u001b[0;34m(estimator, X, y, groups, scoring, cv, n_jobs, verbose, fit_params, pre_dispatch, return_train_score, return_estimator, error_score)\u001b[0m\n\u001b[1;32m    230\u001b[0m             \u001b[0mreturn_times\u001b[0m\u001b[0;34m=\u001b[0m\u001b[0;32mTrue\u001b[0m\u001b[0;34m,\u001b[0m \u001b[0mreturn_estimator\u001b[0m\u001b[0;34m=\u001b[0m\u001b[0mreturn_estimator\u001b[0m\u001b[0;34m,\u001b[0m\u001b[0;34m\u001b[0m\u001b[0;34m\u001b[0m\u001b[0m\n\u001b[1;32m    231\u001b[0m             error_score=error_score)\n\u001b[0;32m--> 232\u001b[0;31m         for train, test in cv.split(X, y, groups))\n\u001b[0m\u001b[1;32m    233\u001b[0m \u001b[0;34m\u001b[0m\u001b[0m\n\u001b[1;32m    234\u001b[0m     \u001b[0mzipped_scores\u001b[0m \u001b[0;34m=\u001b[0m \u001b[0mlist\u001b[0m\u001b[0;34m(\u001b[0m\u001b[0mzip\u001b[0m\u001b[0;34m(\u001b[0m\u001b[0;34m*\u001b[0m\u001b[0mscores\u001b[0m\u001b[0;34m)\u001b[0m\u001b[0;34m)\u001b[0m\u001b[0;34m\u001b[0m\u001b[0;34m\u001b[0m\u001b[0m\n",
      "\u001b[0;32m~/anaconda3/lib/python3.7/site-packages/joblib/parallel.py\u001b[0m in \u001b[0;36m__call__\u001b[0;34m(self, iterable)\u001b[0m\n\u001b[1;32m    919\u001b[0m             \u001b[0;31m# remaining jobs.\u001b[0m\u001b[0;34m\u001b[0m\u001b[0;34m\u001b[0m\u001b[0;34m\u001b[0m\u001b[0m\n\u001b[1;32m    920\u001b[0m             \u001b[0mself\u001b[0m\u001b[0;34m.\u001b[0m\u001b[0m_iterating\u001b[0m \u001b[0;34m=\u001b[0m \u001b[0;32mFalse\u001b[0m\u001b[0;34m\u001b[0m\u001b[0;34m\u001b[0m\u001b[0m\n\u001b[0;32m--> 921\u001b[0;31m             \u001b[0;32mif\u001b[0m \u001b[0mself\u001b[0m\u001b[0;34m.\u001b[0m\u001b[0mdispatch_one_batch\u001b[0m\u001b[0;34m(\u001b[0m\u001b[0miterator\u001b[0m\u001b[0;34m)\u001b[0m\u001b[0;34m:\u001b[0m\u001b[0;34m\u001b[0m\u001b[0;34m\u001b[0m\u001b[0m\n\u001b[0m\u001b[1;32m    922\u001b[0m                 \u001b[0mself\u001b[0m\u001b[0;34m.\u001b[0m\u001b[0m_iterating\u001b[0m \u001b[0;34m=\u001b[0m \u001b[0mself\u001b[0m\u001b[0;34m.\u001b[0m\u001b[0m_original_iterator\u001b[0m \u001b[0;32mis\u001b[0m \u001b[0;32mnot\u001b[0m \u001b[0;32mNone\u001b[0m\u001b[0;34m\u001b[0m\u001b[0;34m\u001b[0m\u001b[0m\n\u001b[1;32m    923\u001b[0m \u001b[0;34m\u001b[0m\u001b[0m\n",
      "\u001b[0;32m~/anaconda3/lib/python3.7/site-packages/joblib/parallel.py\u001b[0m in \u001b[0;36mdispatch_one_batch\u001b[0;34m(self, iterator)\u001b[0m\n\u001b[1;32m    757\u001b[0m                 \u001b[0;32mreturn\u001b[0m \u001b[0;32mFalse\u001b[0m\u001b[0;34m\u001b[0m\u001b[0;34m\u001b[0m\u001b[0m\n\u001b[1;32m    758\u001b[0m             \u001b[0;32melse\u001b[0m\u001b[0;34m:\u001b[0m\u001b[0;34m\u001b[0m\u001b[0;34m\u001b[0m\u001b[0m\n\u001b[0;32m--> 759\u001b[0;31m                 \u001b[0mself\u001b[0m\u001b[0;34m.\u001b[0m\u001b[0m_dispatch\u001b[0m\u001b[0;34m(\u001b[0m\u001b[0mtasks\u001b[0m\u001b[0;34m)\u001b[0m\u001b[0;34m\u001b[0m\u001b[0;34m\u001b[0m\u001b[0m\n\u001b[0m\u001b[1;32m    760\u001b[0m                 \u001b[0;32mreturn\u001b[0m \u001b[0;32mTrue\u001b[0m\u001b[0;34m\u001b[0m\u001b[0;34m\u001b[0m\u001b[0m\n\u001b[1;32m    761\u001b[0m \u001b[0;34m\u001b[0m\u001b[0m\n",
      "\u001b[0;32m~/anaconda3/lib/python3.7/site-packages/joblib/parallel.py\u001b[0m in \u001b[0;36m_dispatch\u001b[0;34m(self, batch)\u001b[0m\n\u001b[1;32m    714\u001b[0m         \u001b[0;32mwith\u001b[0m \u001b[0mself\u001b[0m\u001b[0;34m.\u001b[0m\u001b[0m_lock\u001b[0m\u001b[0;34m:\u001b[0m\u001b[0;34m\u001b[0m\u001b[0;34m\u001b[0m\u001b[0m\n\u001b[1;32m    715\u001b[0m             \u001b[0mjob_idx\u001b[0m \u001b[0;34m=\u001b[0m \u001b[0mlen\u001b[0m\u001b[0;34m(\u001b[0m\u001b[0mself\u001b[0m\u001b[0;34m.\u001b[0m\u001b[0m_jobs\u001b[0m\u001b[0;34m)\u001b[0m\u001b[0;34m\u001b[0m\u001b[0;34m\u001b[0m\u001b[0m\n\u001b[0;32m--> 716\u001b[0;31m             \u001b[0mjob\u001b[0m \u001b[0;34m=\u001b[0m \u001b[0mself\u001b[0m\u001b[0;34m.\u001b[0m\u001b[0m_backend\u001b[0m\u001b[0;34m.\u001b[0m\u001b[0mapply_async\u001b[0m\u001b[0;34m(\u001b[0m\u001b[0mbatch\u001b[0m\u001b[0;34m,\u001b[0m \u001b[0mcallback\u001b[0m\u001b[0;34m=\u001b[0m\u001b[0mcb\u001b[0m\u001b[0;34m)\u001b[0m\u001b[0;34m\u001b[0m\u001b[0;34m\u001b[0m\u001b[0m\n\u001b[0m\u001b[1;32m    717\u001b[0m             \u001b[0;31m# A job can complete so quickly than its callback is\u001b[0m\u001b[0;34m\u001b[0m\u001b[0;34m\u001b[0m\u001b[0;34m\u001b[0m\u001b[0m\n\u001b[1;32m    718\u001b[0m             \u001b[0;31m# called before we get here, causing self._jobs to\u001b[0m\u001b[0;34m\u001b[0m\u001b[0;34m\u001b[0m\u001b[0;34m\u001b[0m\u001b[0m\n",
      "\u001b[0;32m~/anaconda3/lib/python3.7/site-packages/joblib/_parallel_backends.py\u001b[0m in \u001b[0;36mapply_async\u001b[0;34m(self, func, callback)\u001b[0m\n\u001b[1;32m    180\u001b[0m     \u001b[0;32mdef\u001b[0m \u001b[0mapply_async\u001b[0m\u001b[0;34m(\u001b[0m\u001b[0mself\u001b[0m\u001b[0;34m,\u001b[0m \u001b[0mfunc\u001b[0m\u001b[0;34m,\u001b[0m \u001b[0mcallback\u001b[0m\u001b[0;34m=\u001b[0m\u001b[0;32mNone\u001b[0m\u001b[0;34m)\u001b[0m\u001b[0;34m:\u001b[0m\u001b[0;34m\u001b[0m\u001b[0;34m\u001b[0m\u001b[0m\n\u001b[1;32m    181\u001b[0m         \u001b[0;34m\"\"\"Schedule a func to be run\"\"\"\u001b[0m\u001b[0;34m\u001b[0m\u001b[0;34m\u001b[0m\u001b[0m\n\u001b[0;32m--> 182\u001b[0;31m         \u001b[0mresult\u001b[0m \u001b[0;34m=\u001b[0m \u001b[0mImmediateResult\u001b[0m\u001b[0;34m(\u001b[0m\u001b[0mfunc\u001b[0m\u001b[0;34m)\u001b[0m\u001b[0;34m\u001b[0m\u001b[0;34m\u001b[0m\u001b[0m\n\u001b[0m\u001b[1;32m    183\u001b[0m         \u001b[0;32mif\u001b[0m \u001b[0mcallback\u001b[0m\u001b[0;34m:\u001b[0m\u001b[0;34m\u001b[0m\u001b[0;34m\u001b[0m\u001b[0m\n\u001b[1;32m    184\u001b[0m             \u001b[0mcallback\u001b[0m\u001b[0;34m(\u001b[0m\u001b[0mresult\u001b[0m\u001b[0;34m)\u001b[0m\u001b[0;34m\u001b[0m\u001b[0;34m\u001b[0m\u001b[0m\n",
      "\u001b[0;32m~/anaconda3/lib/python3.7/site-packages/joblib/_parallel_backends.py\u001b[0m in \u001b[0;36m__init__\u001b[0;34m(self, batch)\u001b[0m\n\u001b[1;32m    547\u001b[0m         \u001b[0;31m# Don't delay the application, to avoid keeping the input\u001b[0m\u001b[0;34m\u001b[0m\u001b[0;34m\u001b[0m\u001b[0;34m\u001b[0m\u001b[0m\n\u001b[1;32m    548\u001b[0m         \u001b[0;31m# arguments in memory\u001b[0m\u001b[0;34m\u001b[0m\u001b[0;34m\u001b[0m\u001b[0;34m\u001b[0m\u001b[0m\n\u001b[0;32m--> 549\u001b[0;31m         \u001b[0mself\u001b[0m\u001b[0;34m.\u001b[0m\u001b[0mresults\u001b[0m \u001b[0;34m=\u001b[0m \u001b[0mbatch\u001b[0m\u001b[0;34m(\u001b[0m\u001b[0;34m)\u001b[0m\u001b[0;34m\u001b[0m\u001b[0;34m\u001b[0m\u001b[0m\n\u001b[0m\u001b[1;32m    550\u001b[0m \u001b[0;34m\u001b[0m\u001b[0m\n\u001b[1;32m    551\u001b[0m     \u001b[0;32mdef\u001b[0m \u001b[0mget\u001b[0m\u001b[0;34m(\u001b[0m\u001b[0mself\u001b[0m\u001b[0;34m)\u001b[0m\u001b[0;34m:\u001b[0m\u001b[0;34m\u001b[0m\u001b[0;34m\u001b[0m\u001b[0m\n",
      "\u001b[0;32m~/anaconda3/lib/python3.7/site-packages/joblib/parallel.py\u001b[0m in \u001b[0;36m__call__\u001b[0;34m(self)\u001b[0m\n\u001b[1;32m    223\u001b[0m         \u001b[0;32mwith\u001b[0m \u001b[0mparallel_backend\u001b[0m\u001b[0;34m(\u001b[0m\u001b[0mself\u001b[0m\u001b[0;34m.\u001b[0m\u001b[0m_backend\u001b[0m\u001b[0;34m,\u001b[0m \u001b[0mn_jobs\u001b[0m\u001b[0;34m=\u001b[0m\u001b[0mself\u001b[0m\u001b[0;34m.\u001b[0m\u001b[0m_n_jobs\u001b[0m\u001b[0;34m)\u001b[0m\u001b[0;34m:\u001b[0m\u001b[0;34m\u001b[0m\u001b[0;34m\u001b[0m\u001b[0m\n\u001b[1;32m    224\u001b[0m             return [func(*args, **kwargs)\n\u001b[0;32m--> 225\u001b[0;31m                     for func, args, kwargs in self.items]\n\u001b[0m\u001b[1;32m    226\u001b[0m \u001b[0;34m\u001b[0m\u001b[0m\n\u001b[1;32m    227\u001b[0m     \u001b[0;32mdef\u001b[0m \u001b[0m__len__\u001b[0m\u001b[0;34m(\u001b[0m\u001b[0mself\u001b[0m\u001b[0;34m)\u001b[0m\u001b[0;34m:\u001b[0m\u001b[0;34m\u001b[0m\u001b[0;34m\u001b[0m\u001b[0m\n",
      "\u001b[0;32m~/anaconda3/lib/python3.7/site-packages/joblib/parallel.py\u001b[0m in \u001b[0;36m<listcomp>\u001b[0;34m(.0)\u001b[0m\n\u001b[1;32m    223\u001b[0m         \u001b[0;32mwith\u001b[0m \u001b[0mparallel_backend\u001b[0m\u001b[0;34m(\u001b[0m\u001b[0mself\u001b[0m\u001b[0;34m.\u001b[0m\u001b[0m_backend\u001b[0m\u001b[0;34m,\u001b[0m \u001b[0mn_jobs\u001b[0m\u001b[0;34m=\u001b[0m\u001b[0mself\u001b[0m\u001b[0;34m.\u001b[0m\u001b[0m_n_jobs\u001b[0m\u001b[0;34m)\u001b[0m\u001b[0;34m:\u001b[0m\u001b[0;34m\u001b[0m\u001b[0;34m\u001b[0m\u001b[0m\n\u001b[1;32m    224\u001b[0m             return [func(*args, **kwargs)\n\u001b[0;32m--> 225\u001b[0;31m                     for func, args, kwargs in self.items]\n\u001b[0m\u001b[1;32m    226\u001b[0m \u001b[0;34m\u001b[0m\u001b[0m\n\u001b[1;32m    227\u001b[0m     \u001b[0;32mdef\u001b[0m \u001b[0m__len__\u001b[0m\u001b[0;34m(\u001b[0m\u001b[0mself\u001b[0m\u001b[0;34m)\u001b[0m\u001b[0;34m:\u001b[0m\u001b[0;34m\u001b[0m\u001b[0;34m\u001b[0m\u001b[0m\n",
      "\u001b[0;32m~/anaconda3/lib/python3.7/site-packages/sklearn/model_selection/_validation.py\u001b[0m in \u001b[0;36m_fit_and_score\u001b[0;34m(estimator, X, y, scorer, train, test, verbose, parameters, fit_params, return_train_score, return_parameters, return_n_test_samples, return_times, return_estimator, error_score)\u001b[0m\n\u001b[1;32m    514\u001b[0m             \u001b[0mestimator\u001b[0m\u001b[0;34m.\u001b[0m\u001b[0mfit\u001b[0m\u001b[0;34m(\u001b[0m\u001b[0mX_train\u001b[0m\u001b[0;34m,\u001b[0m \u001b[0;34m**\u001b[0m\u001b[0mfit_params\u001b[0m\u001b[0;34m)\u001b[0m\u001b[0;34m\u001b[0m\u001b[0;34m\u001b[0m\u001b[0m\n\u001b[1;32m    515\u001b[0m         \u001b[0;32melse\u001b[0m\u001b[0;34m:\u001b[0m\u001b[0;34m\u001b[0m\u001b[0;34m\u001b[0m\u001b[0m\n\u001b[0;32m--> 516\u001b[0;31m             \u001b[0mestimator\u001b[0m\u001b[0;34m.\u001b[0m\u001b[0mfit\u001b[0m\u001b[0;34m(\u001b[0m\u001b[0mX_train\u001b[0m\u001b[0;34m,\u001b[0m \u001b[0my_train\u001b[0m\u001b[0;34m,\u001b[0m \u001b[0;34m**\u001b[0m\u001b[0mfit_params\u001b[0m\u001b[0;34m)\u001b[0m\u001b[0;34m\u001b[0m\u001b[0;34m\u001b[0m\u001b[0m\n\u001b[0m\u001b[1;32m    517\u001b[0m \u001b[0;34m\u001b[0m\u001b[0m\n\u001b[1;32m    518\u001b[0m     \u001b[0;32mexcept\u001b[0m \u001b[0mException\u001b[0m \u001b[0;32mas\u001b[0m \u001b[0me\u001b[0m\u001b[0;34m:\u001b[0m\u001b[0;34m\u001b[0m\u001b[0;34m\u001b[0m\u001b[0m\n",
      "\u001b[0;32m~/anaconda3/lib/python3.7/site-packages/sklearn/model_selection/_search.py\u001b[0m in \u001b[0;36mfit\u001b[0;34m(self, X, y, groups, **fit_params)\u001b[0m\n\u001b[1;32m    686\u001b[0m                 \u001b[0;32mreturn\u001b[0m \u001b[0mresults\u001b[0m\u001b[0;34m\u001b[0m\u001b[0;34m\u001b[0m\u001b[0m\n\u001b[1;32m    687\u001b[0m \u001b[0;34m\u001b[0m\u001b[0m\n\u001b[0;32m--> 688\u001b[0;31m             \u001b[0mself\u001b[0m\u001b[0;34m.\u001b[0m\u001b[0m_run_search\u001b[0m\u001b[0;34m(\u001b[0m\u001b[0mevaluate_candidates\u001b[0m\u001b[0;34m)\u001b[0m\u001b[0;34m\u001b[0m\u001b[0;34m\u001b[0m\u001b[0m\n\u001b[0m\u001b[1;32m    689\u001b[0m \u001b[0;34m\u001b[0m\u001b[0m\n\u001b[1;32m    690\u001b[0m         \u001b[0;31m# For multi-metric evaluation, store the best_index_, best_params_ and\u001b[0m\u001b[0;34m\u001b[0m\u001b[0;34m\u001b[0m\u001b[0;34m\u001b[0m\u001b[0m\n",
      "\u001b[0;32m~/anaconda3/lib/python3.7/site-packages/sklearn/model_selection/_search.py\u001b[0m in \u001b[0;36m_run_search\u001b[0;34m(self, evaluate_candidates)\u001b[0m\n\u001b[1;32m   1147\u001b[0m     \u001b[0;32mdef\u001b[0m \u001b[0m_run_search\u001b[0m\u001b[0;34m(\u001b[0m\u001b[0mself\u001b[0m\u001b[0;34m,\u001b[0m \u001b[0mevaluate_candidates\u001b[0m\u001b[0;34m)\u001b[0m\u001b[0;34m:\u001b[0m\u001b[0;34m\u001b[0m\u001b[0;34m\u001b[0m\u001b[0m\n\u001b[1;32m   1148\u001b[0m         \u001b[0;34m\"\"\"Search all candidates in param_grid\"\"\"\u001b[0m\u001b[0;34m\u001b[0m\u001b[0;34m\u001b[0m\u001b[0m\n\u001b[0;32m-> 1149\u001b[0;31m         \u001b[0mevaluate_candidates\u001b[0m\u001b[0;34m(\u001b[0m\u001b[0mParameterGrid\u001b[0m\u001b[0;34m(\u001b[0m\u001b[0mself\u001b[0m\u001b[0;34m.\u001b[0m\u001b[0mparam_grid\u001b[0m\u001b[0;34m)\u001b[0m\u001b[0;34m)\u001b[0m\u001b[0;34m\u001b[0m\u001b[0;34m\u001b[0m\u001b[0m\n\u001b[0m\u001b[1;32m   1150\u001b[0m \u001b[0;34m\u001b[0m\u001b[0m\n\u001b[1;32m   1151\u001b[0m \u001b[0;34m\u001b[0m\u001b[0m\n",
      "\u001b[0;32m~/anaconda3/lib/python3.7/site-packages/sklearn/model_selection/_search.py\u001b[0m in \u001b[0;36mevaluate_candidates\u001b[0;34m(candidate_params)\u001b[0m\n\u001b[1;32m    665\u001b[0m                                \u001b[0;32mfor\u001b[0m \u001b[0mparameters\u001b[0m\u001b[0;34m,\u001b[0m \u001b[0;34m(\u001b[0m\u001b[0mtrain\u001b[0m\u001b[0;34m,\u001b[0m \u001b[0mtest\u001b[0m\u001b[0;34m)\u001b[0m\u001b[0;34m\u001b[0m\u001b[0;34m\u001b[0m\u001b[0m\n\u001b[1;32m    666\u001b[0m                                in product(candidate_params,\n\u001b[0;32m--> 667\u001b[0;31m                                           cv.split(X, y, groups)))\n\u001b[0m\u001b[1;32m    668\u001b[0m \u001b[0;34m\u001b[0m\u001b[0m\n\u001b[1;32m    669\u001b[0m                 \u001b[0;32mif\u001b[0m \u001b[0mlen\u001b[0m\u001b[0;34m(\u001b[0m\u001b[0mout\u001b[0m\u001b[0;34m)\u001b[0m \u001b[0;34m<\u001b[0m \u001b[0;36m1\u001b[0m\u001b[0;34m:\u001b[0m\u001b[0;34m\u001b[0m\u001b[0;34m\u001b[0m\u001b[0m\n",
      "\u001b[0;32m~/anaconda3/lib/python3.7/site-packages/joblib/parallel.py\u001b[0m in \u001b[0;36m__call__\u001b[0;34m(self, iterable)\u001b[0m\n\u001b[1;32m    932\u001b[0m \u001b[0;34m\u001b[0m\u001b[0m\n\u001b[1;32m    933\u001b[0m             \u001b[0;32mwith\u001b[0m \u001b[0mself\u001b[0m\u001b[0;34m.\u001b[0m\u001b[0m_backend\u001b[0m\u001b[0;34m.\u001b[0m\u001b[0mretrieval_context\u001b[0m\u001b[0;34m(\u001b[0m\u001b[0;34m)\u001b[0m\u001b[0;34m:\u001b[0m\u001b[0;34m\u001b[0m\u001b[0;34m\u001b[0m\u001b[0m\n\u001b[0;32m--> 934\u001b[0;31m                 \u001b[0mself\u001b[0m\u001b[0;34m.\u001b[0m\u001b[0mretrieve\u001b[0m\u001b[0;34m(\u001b[0m\u001b[0;34m)\u001b[0m\u001b[0;34m\u001b[0m\u001b[0;34m\u001b[0m\u001b[0m\n\u001b[0m\u001b[1;32m    935\u001b[0m             \u001b[0;31m# Make sure that we get a last message telling us we are done\u001b[0m\u001b[0;34m\u001b[0m\u001b[0;34m\u001b[0m\u001b[0;34m\u001b[0m\u001b[0m\n\u001b[1;32m    936\u001b[0m             \u001b[0melapsed_time\u001b[0m \u001b[0;34m=\u001b[0m \u001b[0mtime\u001b[0m\u001b[0;34m.\u001b[0m\u001b[0mtime\u001b[0m\u001b[0;34m(\u001b[0m\u001b[0;34m)\u001b[0m \u001b[0;34m-\u001b[0m \u001b[0mself\u001b[0m\u001b[0;34m.\u001b[0m\u001b[0m_start_time\u001b[0m\u001b[0;34m\u001b[0m\u001b[0;34m\u001b[0m\u001b[0m\n",
      "\u001b[0;32m~/anaconda3/lib/python3.7/site-packages/joblib/parallel.py\u001b[0m in \u001b[0;36mretrieve\u001b[0;34m(self)\u001b[0m\n\u001b[1;32m    831\u001b[0m             \u001b[0;32mtry\u001b[0m\u001b[0;34m:\u001b[0m\u001b[0;34m\u001b[0m\u001b[0;34m\u001b[0m\u001b[0m\n\u001b[1;32m    832\u001b[0m                 \u001b[0;32mif\u001b[0m \u001b[0mgetattr\u001b[0m\u001b[0;34m(\u001b[0m\u001b[0mself\u001b[0m\u001b[0;34m.\u001b[0m\u001b[0m_backend\u001b[0m\u001b[0;34m,\u001b[0m \u001b[0;34m'supports_timeout'\u001b[0m\u001b[0;34m,\u001b[0m \u001b[0;32mFalse\u001b[0m\u001b[0;34m)\u001b[0m\u001b[0;34m:\u001b[0m\u001b[0;34m\u001b[0m\u001b[0;34m\u001b[0m\u001b[0m\n\u001b[0;32m--> 833\u001b[0;31m                     \u001b[0mself\u001b[0m\u001b[0;34m.\u001b[0m\u001b[0m_output\u001b[0m\u001b[0;34m.\u001b[0m\u001b[0mextend\u001b[0m\u001b[0;34m(\u001b[0m\u001b[0mjob\u001b[0m\u001b[0;34m.\u001b[0m\u001b[0mget\u001b[0m\u001b[0;34m(\u001b[0m\u001b[0mtimeout\u001b[0m\u001b[0;34m=\u001b[0m\u001b[0mself\u001b[0m\u001b[0;34m.\u001b[0m\u001b[0mtimeout\u001b[0m\u001b[0;34m)\u001b[0m\u001b[0;34m)\u001b[0m\u001b[0;34m\u001b[0m\u001b[0;34m\u001b[0m\u001b[0m\n\u001b[0m\u001b[1;32m    834\u001b[0m                 \u001b[0;32melse\u001b[0m\u001b[0;34m:\u001b[0m\u001b[0;34m\u001b[0m\u001b[0;34m\u001b[0m\u001b[0m\n\u001b[1;32m    835\u001b[0m                     \u001b[0mself\u001b[0m\u001b[0;34m.\u001b[0m\u001b[0m_output\u001b[0m\u001b[0;34m.\u001b[0m\u001b[0mextend\u001b[0m\u001b[0;34m(\u001b[0m\u001b[0mjob\u001b[0m\u001b[0;34m.\u001b[0m\u001b[0mget\u001b[0m\u001b[0;34m(\u001b[0m\u001b[0;34m)\u001b[0m\u001b[0;34m)\u001b[0m\u001b[0;34m\u001b[0m\u001b[0;34m\u001b[0m\u001b[0m\n",
      "\u001b[0;32m~/anaconda3/lib/python3.7/site-packages/joblib/_parallel_backends.py\u001b[0m in \u001b[0;36mwrap_future_result\u001b[0;34m(future, timeout)\u001b[0m\n\u001b[1;32m    519\u001b[0m         AsyncResults.get from multiprocessing.\"\"\"\n\u001b[1;32m    520\u001b[0m         \u001b[0;32mtry\u001b[0m\u001b[0;34m:\u001b[0m\u001b[0;34m\u001b[0m\u001b[0;34m\u001b[0m\u001b[0m\n\u001b[0;32m--> 521\u001b[0;31m             \u001b[0;32mreturn\u001b[0m \u001b[0mfuture\u001b[0m\u001b[0;34m.\u001b[0m\u001b[0mresult\u001b[0m\u001b[0;34m(\u001b[0m\u001b[0mtimeout\u001b[0m\u001b[0;34m=\u001b[0m\u001b[0mtimeout\u001b[0m\u001b[0;34m)\u001b[0m\u001b[0;34m\u001b[0m\u001b[0;34m\u001b[0m\u001b[0m\n\u001b[0m\u001b[1;32m    522\u001b[0m         \u001b[0;32mexcept\u001b[0m \u001b[0mLokyTimeoutError\u001b[0m\u001b[0;34m:\u001b[0m\u001b[0;34m\u001b[0m\u001b[0;34m\u001b[0m\u001b[0m\n\u001b[1;32m    523\u001b[0m             \u001b[0;32mraise\u001b[0m \u001b[0mTimeoutError\u001b[0m\u001b[0;34m(\u001b[0m\u001b[0;34m)\u001b[0m\u001b[0;34m\u001b[0m\u001b[0;34m\u001b[0m\u001b[0m\n",
      "\u001b[0;32m~/anaconda3/lib/python3.7/concurrent/futures/_base.py\u001b[0m in \u001b[0;36mresult\u001b[0;34m(self, timeout)\u001b[0m\n\u001b[1;32m    428\u001b[0m                 \u001b[0;32mreturn\u001b[0m \u001b[0mself\u001b[0m\u001b[0;34m.\u001b[0m\u001b[0m__get_result\u001b[0m\u001b[0;34m(\u001b[0m\u001b[0;34m)\u001b[0m\u001b[0;34m\u001b[0m\u001b[0;34m\u001b[0m\u001b[0m\n\u001b[1;32m    429\u001b[0m \u001b[0;34m\u001b[0m\u001b[0m\n\u001b[0;32m--> 430\u001b[0;31m             \u001b[0mself\u001b[0m\u001b[0;34m.\u001b[0m\u001b[0m_condition\u001b[0m\u001b[0;34m.\u001b[0m\u001b[0mwait\u001b[0m\u001b[0;34m(\u001b[0m\u001b[0mtimeout\u001b[0m\u001b[0;34m)\u001b[0m\u001b[0;34m\u001b[0m\u001b[0;34m\u001b[0m\u001b[0m\n\u001b[0m\u001b[1;32m    431\u001b[0m \u001b[0;34m\u001b[0m\u001b[0m\n\u001b[1;32m    432\u001b[0m             \u001b[0;32mif\u001b[0m \u001b[0mself\u001b[0m\u001b[0;34m.\u001b[0m\u001b[0m_state\u001b[0m \u001b[0;32min\u001b[0m \u001b[0;34m[\u001b[0m\u001b[0mCANCELLED\u001b[0m\u001b[0;34m,\u001b[0m \u001b[0mCANCELLED_AND_NOTIFIED\u001b[0m\u001b[0;34m]\u001b[0m\u001b[0;34m:\u001b[0m\u001b[0;34m\u001b[0m\u001b[0;34m\u001b[0m\u001b[0m\n",
      "\u001b[0;32m~/anaconda3/lib/python3.7/threading.py\u001b[0m in \u001b[0;36mwait\u001b[0;34m(self, timeout)\u001b[0m\n\u001b[1;32m    294\u001b[0m         \u001b[0;32mtry\u001b[0m\u001b[0;34m:\u001b[0m    \u001b[0;31m# restore state no matter what (e.g., KeyboardInterrupt)\u001b[0m\u001b[0;34m\u001b[0m\u001b[0;34m\u001b[0m\u001b[0m\n\u001b[1;32m    295\u001b[0m             \u001b[0;32mif\u001b[0m \u001b[0mtimeout\u001b[0m \u001b[0;32mis\u001b[0m \u001b[0;32mNone\u001b[0m\u001b[0;34m:\u001b[0m\u001b[0;34m\u001b[0m\u001b[0;34m\u001b[0m\u001b[0m\n\u001b[0;32m--> 296\u001b[0;31m                 \u001b[0mwaiter\u001b[0m\u001b[0;34m.\u001b[0m\u001b[0macquire\u001b[0m\u001b[0;34m(\u001b[0m\u001b[0;34m)\u001b[0m\u001b[0;34m\u001b[0m\u001b[0;34m\u001b[0m\u001b[0m\n\u001b[0m\u001b[1;32m    297\u001b[0m                 \u001b[0mgotit\u001b[0m \u001b[0;34m=\u001b[0m \u001b[0;32mTrue\u001b[0m\u001b[0;34m\u001b[0m\u001b[0;34m\u001b[0m\u001b[0m\n\u001b[1;32m    298\u001b[0m             \u001b[0;32melse\u001b[0m\u001b[0;34m:\u001b[0m\u001b[0;34m\u001b[0m\u001b[0;34m\u001b[0m\u001b[0m\n",
      "\u001b[0;31mKeyboardInterrupt\u001b[0m: "
     ]
    }
   ],
   "source": [
    "risultati_senza_scaler['Totali'] = {model_to_string[m]: np.mean(addestra(m, X_total, y_total, g, 9, 9, scaling=None)) for m, g in zip(models, grids)}"
   ]
  },
  {
   "cell_type": "code",
   "execution_count": null,
   "metadata": {},
   "outputs": [],
   "source": [
    "risultati_senza_scaler['Totali_with_BMI'] = {model_to_string[m]: np.mean(addestra(m, X_total, y_total, g, 9, 9, scaling=None)) for m, g in zip(models, grids)}"
   ]
  },
  {
   "cell_type": "code",
   "execution_count": 66,
   "metadata": {},
   "outputs": [
    {
     "data": {
      "text/html": [
       "<div>\n",
       "<style scoped>\n",
       "    .dataframe tbody tr th:only-of-type {\n",
       "        vertical-align: middle;\n",
       "    }\n",
       "\n",
       "    .dataframe tbody tr th {\n",
       "        vertical-align: top;\n",
       "    }\n",
       "\n",
       "    .dataframe thead th {\n",
       "        text-align: right;\n",
       "    }\n",
       "</style>\n",
       "<table border=\"1\" class=\"dataframe\">\n",
       "  <thead>\n",
       "    <tr style=\"text-align: right;\">\n",
       "      <th></th>\n",
       "      <th>Totali</th>\n",
       "    </tr>\n",
       "  </thead>\n",
       "  <tbody>\n",
       "    <tr>\n",
       "      <td>LD</td>\n",
       "      <td>0.719210</td>\n",
       "    </tr>\n",
       "    <tr>\n",
       "      <td>MLP</td>\n",
       "      <td>0.568173</td>\n",
       "    </tr>\n",
       "    <tr>\n",
       "      <td>NB</td>\n",
       "      <td>0.706064</td>\n",
       "    </tr>\n",
       "  </tbody>\n",
       "</table>\n",
       "</div>"
      ],
      "text/plain": [
       "       Totali\n",
       "LD   0.719210\n",
       "MLP  0.568173\n",
       "NB   0.706064"
      ]
     },
     "execution_count": 66,
     "metadata": {},
     "output_type": "execute_result"
    }
   ],
   "source": [
    "table_senza_scaler = pd.DataFrame(risultati_senza_scaler)\n",
    "table_senza_scaler"
   ]
  },
  {
   "cell_type": "code",
   "execution_count": null,
   "metadata": {},
   "outputs": [],
   "source": []
  }
 ],
 "metadata": {
  "kernelspec": {
   "display_name": "Python 3",
   "language": "python",
   "name": "python3"
  },
  "language_info": {
   "codemirror_mode": {
    "name": "ipython",
    "version": 3
   },
   "file_extension": ".py",
   "mimetype": "text/x-python",
   "name": "python",
   "nbconvert_exporter": "python",
   "pygments_lexer": "ipython3",
   "version": "3.7.4"
  },
  "latex_envs": {
   "LaTeX_envs_menu_present": true,
   "autoclose": true,
   "autocomplete": true,
   "bibliofile": "biblio.bib",
   "cite_by": "apalike",
   "current_citInitial": 1,
   "eqLabelWithNumbers": true,
   "eqNumInitial": 1,
   "hotkeys": {
    "equation": "Ctrl-E",
    "itemize": "Ctrl-I"
   },
   "labels_anchors": false,
   "latex_user_defs": false,
   "report_style_numbering": true,
   "user_envs_cfg": false
  }
 },
 "nbformat": 4,
 "nbformat_minor": 2
}
