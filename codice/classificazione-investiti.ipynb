{
 "cells": [
  {
   "cell_type": "code",
   "execution_count": 1,
   "metadata": {},
   "outputs": [],
   "source": [
    "import logging\n",
    "\n",
    "\n",
    "logging.basicConfig(\n",
    "    level=logging.INFO,\n",
    "    handlers=[logging.FileHandler(filename='Punteggi.log')])\n",
    "logger = logging.getLogger('Risultati')"
   ]
  },
  {
   "cell_type": "code",
   "execution_count": 2,
   "metadata": {},
   "outputs": [
    {
     "data": {
      "text/html": [
       "<div>\n",
       "<style scoped>\n",
       "    .dataframe tbody tr th:only-of-type {\n",
       "        vertical-align: middle;\n",
       "    }\n",
       "\n",
       "    .dataframe tbody tr th {\n",
       "        vertical-align: top;\n",
       "    }\n",
       "\n",
       "    .dataframe thead th {\n",
       "        text-align: right;\n",
       "    }\n",
       "</style>\n",
       "<table border=\"1\" class=\"dataframe\">\n",
       "  <thead>\n",
       "    <tr style=\"text-align: right;\">\n",
       "      <th></th>\n",
       "      <th>DATA</th>\n",
       "      <th>SESSO</th>\n",
       "      <th>ANNI</th>\n",
       "      <th>PESO</th>\n",
       "      <th>ALTEZZA</th>\n",
       "      <th>BMI</th>\n",
       "      <th>Mezzo</th>\n",
       "      <th>Testa:Neurocranio</th>\n",
       "      <th>Testa:Splancnocranio</th>\n",
       "      <th>Testa:Telencefalo</th>\n",
       "      <th>...</th>\n",
       "      <th>Scheletro:Rachide-cervicale</th>\n",
       "      <th>Scheletro:Rachide-toracico</th>\n",
       "      <th>Scheletro:Rachide-lombare</th>\n",
       "      <th>Scheletro:Bacino-e-sacro</th>\n",
       "      <th>Scheletro:Complesso-sterno/claveo/costale</th>\n",
       "      <th>Tot Testa</th>\n",
       "      <th>Tot Torace</th>\n",
       "      <th>Tot Addome</th>\n",
       "      <th>Tot Scheletro</th>\n",
       "      <th>Totale</th>\n",
       "    </tr>\n",
       "    <tr>\n",
       "      <th>VERBALE</th>\n",
       "      <th></th>\n",
       "      <th></th>\n",
       "      <th></th>\n",
       "      <th></th>\n",
       "      <th></th>\n",
       "      <th></th>\n",
       "      <th></th>\n",
       "      <th></th>\n",
       "      <th></th>\n",
       "      <th></th>\n",
       "      <th></th>\n",
       "      <th></th>\n",
       "      <th></th>\n",
       "      <th></th>\n",
       "      <th></th>\n",
       "      <th></th>\n",
       "      <th></th>\n",
       "      <th></th>\n",
       "      <th></th>\n",
       "      <th></th>\n",
       "      <th></th>\n",
       "    </tr>\n",
       "  </thead>\n",
       "  <tbody>\n",
       "    <tr>\n",
       "      <th>85567</th>\n",
       "      <td>1999-10-29</td>\n",
       "      <td>0</td>\n",
       "      <td>81</td>\n",
       "      <td>84.0</td>\n",
       "      <td>1.75</td>\n",
       "      <td>27.428571</td>\n",
       "      <td>0</td>\n",
       "      <td>1</td>\n",
       "      <td>0</td>\n",
       "      <td>0</td>\n",
       "      <td>...</td>\n",
       "      <td>0</td>\n",
       "      <td>3</td>\n",
       "      <td>0</td>\n",
       "      <td>3</td>\n",
       "      <td>3</td>\n",
       "      <td>2</td>\n",
       "      <td>0</td>\n",
       "      <td>3</td>\n",
       "      <td>9</td>\n",
       "      <td>14</td>\n",
       "    </tr>\n",
       "    <tr>\n",
       "      <th>85829</th>\n",
       "      <td>2000-01-14</td>\n",
       "      <td>1</td>\n",
       "      <td>69</td>\n",
       "      <td>69.0</td>\n",
       "      <td>1.62</td>\n",
       "      <td>26.291724</td>\n",
       "      <td>1</td>\n",
       "      <td>4</td>\n",
       "      <td>4</td>\n",
       "      <td>4</td>\n",
       "      <td>...</td>\n",
       "      <td>0</td>\n",
       "      <td>0</td>\n",
       "      <td>0</td>\n",
       "      <td>0</td>\n",
       "      <td>4</td>\n",
       "      <td>20</td>\n",
       "      <td>7</td>\n",
       "      <td>1</td>\n",
       "      <td>4</td>\n",
       "      <td>32</td>\n",
       "    </tr>\n",
       "    <tr>\n",
       "      <th>85977</th>\n",
       "      <td>2000-03-10</td>\n",
       "      <td>1</td>\n",
       "      <td>71</td>\n",
       "      <td>67.0</td>\n",
       "      <td>1.55</td>\n",
       "      <td>27.887617</td>\n",
       "      <td>1</td>\n",
       "      <td>2</td>\n",
       "      <td>0</td>\n",
       "      <td>1</td>\n",
       "      <td>...</td>\n",
       "      <td>0</td>\n",
       "      <td>0</td>\n",
       "      <td>0</td>\n",
       "      <td>0</td>\n",
       "      <td>4</td>\n",
       "      <td>6</td>\n",
       "      <td>0</td>\n",
       "      <td>0</td>\n",
       "      <td>4</td>\n",
       "      <td>10</td>\n",
       "    </tr>\n",
       "    <tr>\n",
       "      <th>86220</th>\n",
       "      <td>2000-06-14</td>\n",
       "      <td>1</td>\n",
       "      <td>54</td>\n",
       "      <td>60.0</td>\n",
       "      <td>1.59</td>\n",
       "      <td>23.733238</td>\n",
       "      <td>1</td>\n",
       "      <td>4</td>\n",
       "      <td>0</td>\n",
       "      <td>0</td>\n",
       "      <td>...</td>\n",
       "      <td>0</td>\n",
       "      <td>0</td>\n",
       "      <td>0</td>\n",
       "      <td>0</td>\n",
       "      <td>4</td>\n",
       "      <td>5</td>\n",
       "      <td>3</td>\n",
       "      <td>2</td>\n",
       "      <td>4</td>\n",
       "      <td>14</td>\n",
       "    </tr>\n",
       "    <tr>\n",
       "      <th>86247</th>\n",
       "      <td>2000-06-22</td>\n",
       "      <td>1</td>\n",
       "      <td>78</td>\n",
       "      <td>69.0</td>\n",
       "      <td>1.67</td>\n",
       "      <td>24.740937</td>\n",
       "      <td>1</td>\n",
       "      <td>2</td>\n",
       "      <td>0</td>\n",
       "      <td>0</td>\n",
       "      <td>...</td>\n",
       "      <td>0</td>\n",
       "      <td>0</td>\n",
       "      <td>0</td>\n",
       "      <td>0</td>\n",
       "      <td>4</td>\n",
       "      <td>2</td>\n",
       "      <td>0</td>\n",
       "      <td>2</td>\n",
       "      <td>4</td>\n",
       "      <td>8</td>\n",
       "    </tr>\n",
       "  </tbody>\n",
       "</table>\n",
       "<p>5 rows × 32 columns</p>\n",
       "</div>"
      ],
      "text/plain": [
       "              DATA  SESSO  ANNI  PESO  ALTEZZA        BMI  Mezzo  \\\n",
       "VERBALE                                                            \n",
       "85567   1999-10-29      0    81  84.0     1.75  27.428571      0   \n",
       "85829   2000-01-14      1    69  69.0     1.62  26.291724      1   \n",
       "85977   2000-03-10      1    71  67.0     1.55  27.887617      1   \n",
       "86220   2000-06-14      1    54  60.0     1.59  23.733238      1   \n",
       "86247   2000-06-22      1    78  69.0     1.67  24.740937      1   \n",
       "\n",
       "         Testa:Neurocranio  Testa:Splancnocranio  Testa:Telencefalo  ...  \\\n",
       "VERBALE                                                              ...   \n",
       "85567                    1                     0                  0  ...   \n",
       "85829                    4                     4                  4  ...   \n",
       "85977                    2                     0                  1  ...   \n",
       "86220                    4                     0                  0  ...   \n",
       "86247                    2                     0                  0  ...   \n",
       "\n",
       "         Scheletro:Rachide-cervicale  Scheletro:Rachide-toracico  \\\n",
       "VERBALE                                                            \n",
       "85567                              0                           3   \n",
       "85829                              0                           0   \n",
       "85977                              0                           0   \n",
       "86220                              0                           0   \n",
       "86247                              0                           0   \n",
       "\n",
       "         Scheletro:Rachide-lombare  Scheletro:Bacino-e-sacro  \\\n",
       "VERBALE                                                        \n",
       "85567                            0                         3   \n",
       "85829                            0                         0   \n",
       "85977                            0                         0   \n",
       "86220                            0                         0   \n",
       "86247                            0                         0   \n",
       "\n",
       "         Scheletro:Complesso-sterno/claveo/costale  Tot Testa  Tot Torace  \\\n",
       "VERBALE                                                                     \n",
       "85567                                            3          2           0   \n",
       "85829                                            4         20           7   \n",
       "85977                                            4          6           0   \n",
       "86220                                            4          5           3   \n",
       "86247                                            4          2           0   \n",
       "\n",
       "         Tot Addome  Tot Scheletro  Totale  \n",
       "VERBALE                                     \n",
       "85567             3              9      14  \n",
       "85829             1              4      32  \n",
       "85977             0              4      10  \n",
       "86220             2              4      14  \n",
       "86247             2              4       8  \n",
       "\n",
       "[5 rows x 32 columns]"
      ]
     },
     "execution_count": 2,
     "metadata": {},
     "output_type": "execute_result"
    }
   ],
   "source": [
    "import pandas as pd\n",
    "dataset = pd.read_excel('IncidentiModificato.xlsx', sheet_name='Foglio1', index_col=0)\n",
    "dataset.head()"
   ]
  },
  {
   "cell_type": "code",
   "execution_count": 3,
   "metadata": {},
   "outputs": [
    {
     "data": {
      "text/plain": [
       "130"
      ]
     },
     "execution_count": 3,
     "metadata": {},
     "output_type": "execute_result"
    }
   ],
   "source": [
    "len(dataset)"
   ]
  },
  {
   "cell_type": "code",
   "execution_count": 4,
   "metadata": {},
   "outputs": [
    {
     "data": {
      "text/plain": [
       "Index([    85567,     85829,     85977,     86220,     86247,     86421,\n",
       "           86839,     86876,     86878,     90056,\n",
       "       ...\n",
       "          101097,    101180,    101189,    101544,    101583,    101618,\n",
       "       '101288E', 'E-97586',       'X',      'X1'],\n",
       "      dtype='object', name='VERBALE', length=130)"
      ]
     },
     "execution_count": 4,
     "metadata": {},
     "output_type": "execute_result"
    }
   ],
   "source": [
    "dataset.index.unique()"
   ]
  },
  {
   "cell_type": "code",
   "execution_count": 5,
   "metadata": {},
   "outputs": [
    {
     "name": "stdout",
     "output_type": "stream",
     "text": [
      "Valori del dataset corretti\n"
     ]
    }
   ],
   "source": [
    "def checkDataset(dataset):\n",
    "    #controllo che i verbali siano valori unici\n",
    "    if (len(dataset.index) != len(dataset.index.unique())):\n",
    "        raise Exception('I verbali non possono essere usati come indice')\n",
    "\n",
    "    #controllo i valori degli anni\n",
    "    anni = dataset['ANNI']\n",
    "    for anno in anni:\n",
    "        if anno < 1 or anno > 95:\n",
    "            raise Exception(f'Anno inserito non valido {anno}')\n",
    "    \n",
    "    #controllo i valori dei pesi\n",
    "    pesi = dataset['PESO']\n",
    "    for peso in pesi:\n",
    "        if peso < 30 or peso > 120:\n",
    "            raise Exception(f'Peso inserito non valido {peso}')\n",
    "    \n",
    "    #controllo i valori dell'altezza\n",
    "    altezze = dataset['ALTEZZA']\n",
    "    for altezza in altezze:\n",
    "        if altezza < 1.00 or altezza > 2.10:\n",
    "            raise Exception(f'Altezza inserito non valida {altezza}')\n",
    "    \n",
    "    #controllo del BMI\n",
    "    valori_BMI = dataset['BMI']\n",
    "    for bmi in valori_BMI:\n",
    "        if bmi < 10.0 or bmi > 50.0:\n",
    "            raise Exception(f'bmi inserito non valido {bmi}')\n",
    "            \n",
    "    #controllo altri valori compresi tra 0 e 4\n",
    "    dataset_valori_0_4 = dataset['Testa:Neurocranio']\n",
    "    for valore in dataset_valori_0_4:\n",
    "        if valore < 0 or valore > 4:\n",
    "            raise Exception(f'{valore} non compresa tra 0 e 4')\n",
    "            \n",
    "\n",
    "    print(\"Valori del dataset corretti\")\n",
    "    \n",
    "\n",
    "checkDataset(dataset)"
   ]
  },
  {
   "cell_type": "code",
   "execution_count": 6,
   "metadata": {},
   "outputs": [],
   "source": [
    "import numpy as np\n",
    "\n",
    "from sklearn.preprocessing import StandardScaler, MinMaxScaler, RobustScaler\n",
    "from sklearn.decomposition import PCA\n",
    "from sklearn.model_selection import GridSearchCV, cross_val_score\n",
    "import time\n",
    "from random import seed\n",
    "import numpy as np\n",
    "import datetime\n",
    "from sklearn.svm import SVC\n",
    "from sklearn.tree import DecisionTreeClassifier\n",
    "from sklearn.naive_bayes import GaussianNB\n",
    "from sklearn.ensemble import RandomForestClassifier\n",
    "from sklearn.discriminant_analysis import LinearDiscriminantAnalysis\n",
    "from sklearn.neural_network import MLPClassifier\n",
    "from tqdm.notebook import tnrange\n",
    "\n",
    "np.random.seed(42)\n",
    "\n",
    "model_to_string_extended = {SVC: 'SVC', DecisionTreeClassifier: 'DecisionTreeClassifier', RandomForestClassifier:'RandomForestClassifier', GaussianNB: 'GaussianNB', LinearDiscriminantAnalysis: 'LinearDiscriminantAnalysis', MLPClassifier: 'MLPClassifier'}\n",
    "\n",
    "def addestra(model_class, X, y, model_selection_grid, num_fold_grid_search, num_fold_cross_val, nome_dataset, logger_name=None, scaling=StandardScaler(), dim_reduction=None):\n",
    "    \n",
    "    for i in tnrange(1, desc=model_to_string_extended[model_class]):\n",
    "        start_time = time.time()\n",
    "\n",
    "        date_inizio = datetime.datetime.now().strftime(\"%d.%b %Y %H:%M:%S\")\n",
    "        if logger_name is not None: logger_name.info(f'INIZIO ADDESTRAMENTO alle {date_inizio}') \n",
    "\n",
    "        X_std = scaling.fit_transform(X)  if scaling is not None else X\n",
    "\n",
    "        X_std = dim_reduction.fit_transform(X_std) if dim_reduction is not None else X_std\n",
    "\n",
    "        clf = GridSearchCV(estimator=model_class(), param_grid=model_selection_grid, cv=num_fold_grid_search, n_jobs=-1, refit=True, iid=True)\n",
    "        clf.fit(X_std, y)\n",
    "        val = cross_val_score(clf, X_std, y, cv=num_fold_cross_val)\n",
    "\n",
    "        if logger_name is not None:\n",
    "            logger_name.info(f'DATASET in uso: {nome_dataset}')\n",
    "            logger_name.info(f'MODELLO: {model_to_string_extended[model_class]}')\n",
    "            logger_name.info(f'SCALER: {scaling}')\n",
    "            logger_name.info(f'RIDUZIONE DIMENSIONALITA {dim_reduction}')\n",
    "            logger_name.info(f'IPERPARAMETRI: {clf.best_params_}')\n",
    "            logger_name.info(f'SCORE: {np.mean(val)}')\n",
    "\n",
    "        end_time = time.time()\n",
    "        data_fine = datetime.datetime.now().strftime(\"%d.%b %Y %H:%M:%S\")\n",
    "        if logger_name is not None:\n",
    "            logger_name.info(f'FINE ADDESTRAMENTO alle {data_fine}, tempo di calcolo totale in secondi: {end_time-start_time}')\n",
    "    return val\n"
   ]
  },
  {
   "cell_type": "markdown",
   "metadata": {},
   "source": [
    "## Iniziamo considerando solo i totali per distretto"
   ]
  },
  {
   "cell_type": "code",
   "execution_count": 7,
   "metadata": {},
   "outputs": [],
   "source": [
    "X_total = dataset[['SESSO', 'ANNI', 'PESO', 'ALTEZZA', 'Tot Testa', 'Tot Torace', 'Tot Addome', 'Tot Scheletro']]\n",
    "y_total = dataset['Mezzo']"
   ]
  },
  {
   "cell_type": "code",
   "execution_count": 8,
   "metadata": {},
   "outputs": [],
   "source": [
    "models = [SVC, DecisionTreeClassifier, RandomForestClassifier, GaussianNB, LinearDiscriminantAnalysis, MLPClassifier]\n",
    "model_to_string = {SVC: 'SVC', DecisionTreeClassifier: 'DT', RandomForestClassifier:'RF', GaussianNB: 'NB', LinearDiscriminantAnalysis: 'LD', MLPClassifier: 'MLP'}\n",
    "\n",
    "c_space = np.logspace(-4, 3, 10)\n",
    "gamma_space = np.logspace(-4, 3, 10)\n",
    "\n",
    "model_selection_grid_SVC = [\n",
    "  {'C': c_space, 'kernel': ['linear'], 'gamma': ['auto']},\n",
    "  {'C': c_space, 'gamma': gamma_space, 'kernel': ['rbf']},\n",
    "  {'C': c_space, 'gamma': ['auto', 'scale'], 'kernel': ['rbf']},\n",
    "  {'C': c_space, 'degree': [2, 3, 5, 9], 'kernel': ['poly'], 'gamma': ['auto']},\n",
    " ]\n",
    "\n",
    "model_selection_grid_DT = {'criterion': ['gini', 'entropy'],\n",
    "                        'max_leaf_nodes': [None, 2, 5, 10, 50, 100],\n",
    "                        'max_features': [None, 'sqrt', 'log2'],\n",
    "                        'max_depth': [None, 2, 5, 10]}\n",
    "\n",
    "\n",
    "\n",
    "model_selection_grid_RF = {'n_estimators': [5, 10, 50, 100, 200],\n",
    "                        'criterion': ['gini', 'entropy'],\n",
    "                        'max_leaf_nodes': [None, 2, 5, 10, 50, 100],\n",
    "                        'max_features': [None, 'sqrt', 'log2'],\n",
    "                        'max_depth': [None, 2, 5, 10]}\n",
    "\n",
    "model_selection_grid_NB = {}\n",
    "model_selection_grid_LD = {}\n",
    "\n",
    "model_selection_grid_MLP = {'max_iter': [5000],\n",
    "                        'hidden_layer_sizes': [[2], [4], [6], [10], [20], [4, 4], [10, 10]],\n",
    "                        'activation': ['identity', 'logistic', 'tanh', 'relu']}\n",
    "\n",
    "grids = [model_selection_grid_SVC, model_selection_grid_DT, model_selection_grid_RF, model_selection_grid_NB, model_selection_grid_LD, model_selection_grid_MLP]"
   ]
  },
  {
   "cell_type": "code",
   "execution_count": 9,
   "metadata": {},
   "outputs": [],
   "source": [
    "import os.path\n",
    "import json\n",
    "\n",
    "def add_column_to_results(result_dict, column_name, serialized_results_filename,\n",
    "                          X, y, models, grids, scaling=StandardScaler(), dim_reduction=None, logger_name=logger):\n",
    "    \n",
    "    if column_name not in result_dict:\n",
    "        if os.path.exists(serialized_results_filename):\n",
    "            with open(serialized_results_filename, 'r') as fp:\n",
    "                saved_dict = json.load(fp)\n",
    "                if column_name in saved_dict:\n",
    "                    result_dict[column_name] = saved_dict[column_name]\n",
    "                else:\n",
    "                    result_dict[column_name] = {model_to_string[m]: np.mean(addestra(m,\n",
    "                                                                             X,\n",
    "                                                                             y,\n",
    "                                                                             g,\n",
    "                                                                             9,\n",
    "                                                                             9,\n",
    "                                                                             scaling=scaling,\n",
    "                                                                             dim_reduction=dim_reduction,\n",
    "                                                                             nome_dataset=column_name,\n",
    "                                                                             logger_name=logger_name))\n",
    "                                                 for m, g in zip(models, grids)}\n",
    "                    with open(serialized_results_filename, 'w', encoding='utf-8') as fp:\n",
    "                        json.dump(result_dict, fp, ensure_ascii=False, indent=4)\n",
    "        #Se il file json non esiste ancora non fa nulla, ho aggiunto allora un ramo else che lo crea per la prima volta\n",
    "        else:\n",
    "            result_dict[column_name] = {model_to_string[m]: np.mean(addestra(m,\n",
    "                                                                                 X,\n",
    "                                                                                 y,\n",
    "                                                                                 g,\n",
    "                                                                                 9,\n",
    "                                                                                 9,\n",
    "                                                                                 scaling=scaling,\n",
    "                                                                                 dim_reduction=dim_reduction,\n",
    "                                                                                 nome_dataset=column_name,\n",
    "                                                                                 logger_name=logger_name))\n",
    "                                                 for m, g in zip(models, grids)}\n",
    "            with open(serialized_results_filename, 'w', encoding='utf-8') as fp:\n",
    "                json.dump(result_dict, fp, ensure_ascii=False, indent=4)"
   ]
  },
  {
   "cell_type": "code",
   "execution_count": 10,
   "metadata": {},
   "outputs": [],
   "source": [
    "risultatiStandardScaler = {}\n"
   ]
  },
  {
   "cell_type": "code",
   "execution_count": 11,
   "metadata": {},
   "outputs": [],
   "source": [
    "add_column_to_results(risultatiStandardScaler, 'Totali', 'RisultatiStandardScaler.json', X_total, y_total, models, grids, logger_name=logger)"
   ]
  },
  {
   "cell_type": "markdown",
   "metadata": {},
   "source": [
    "# Proviamo considerando anche il BMI"
   ]
  },
  {
   "cell_type": "code",
   "execution_count": 12,
   "metadata": {},
   "outputs": [],
   "source": [
    "X_total_with_BMI = dataset[['SESSO', 'ANNI', 'PESO', 'ALTEZZA', 'BMI', 'Tot Testa', 'Tot Torace', 'Tot Addome', 'Tot Scheletro']]\n",
    "y_total_with_BMI = dataset['Mezzo']"
   ]
  },
  {
   "cell_type": "code",
   "execution_count": 13,
   "metadata": {},
   "outputs": [],
   "source": [
    "add_column_to_results(risultatiStandardScaler, 'Totali_with_BMI', 'RisultatiStandardScaler.json', X_total_with_BMI, y_total_with_BMI, models, grids, logger_name=logger)"
   ]
  },
  {
   "cell_type": "markdown",
   "metadata": {},
   "source": [
    "# Usiamo la DATA senza BMI"
   ]
  },
  {
   "cell_type": "code",
   "execution_count": 14,
   "metadata": {},
   "outputs": [
    {
     "name": "stdout",
     "output_type": "stream",
     "text": [
      "La prima data del dataset è:  1999-10-29T00:00:00.000000000\n"
     ]
    }
   ],
   "source": [
    "date_ordinate = dataset['DATA'].sort_values()\n",
    "prima_data = date_ordinate.values[0]\n",
    "print(\"La prima data del dataset è: \", prima_data)"
   ]
  },
  {
   "cell_type": "code",
   "execution_count": 15,
   "metadata": {},
   "outputs": [],
   "source": [
    "import datetime as dt\n",
    "\n",
    "dataset.DATA = dataset.DATA.apply(lambda d: (d - dt.datetime(1970,1,1)).days)"
   ]
  },
  {
   "cell_type": "code",
   "execution_count": 16,
   "metadata": {},
   "outputs": [
    {
     "data": {
      "text/html": [
       "<div>\n",
       "<style scoped>\n",
       "    .dataframe tbody tr th:only-of-type {\n",
       "        vertical-align: middle;\n",
       "    }\n",
       "\n",
       "    .dataframe tbody tr th {\n",
       "        vertical-align: top;\n",
       "    }\n",
       "\n",
       "    .dataframe thead th {\n",
       "        text-align: right;\n",
       "    }\n",
       "</style>\n",
       "<table border=\"1\" class=\"dataframe\">\n",
       "  <thead>\n",
       "    <tr style=\"text-align: right;\">\n",
       "      <th></th>\n",
       "      <th>DATA</th>\n",
       "      <th>SESSO</th>\n",
       "      <th>ANNI</th>\n",
       "      <th>PESO</th>\n",
       "      <th>ALTEZZA</th>\n",
       "      <th>BMI</th>\n",
       "      <th>Mezzo</th>\n",
       "      <th>Testa:Neurocranio</th>\n",
       "      <th>Testa:Splancnocranio</th>\n",
       "      <th>Testa:Telencefalo</th>\n",
       "      <th>...</th>\n",
       "      <th>Scheletro:Rachide-cervicale</th>\n",
       "      <th>Scheletro:Rachide-toracico</th>\n",
       "      <th>Scheletro:Rachide-lombare</th>\n",
       "      <th>Scheletro:Bacino-e-sacro</th>\n",
       "      <th>Scheletro:Complesso-sterno/claveo/costale</th>\n",
       "      <th>Tot Testa</th>\n",
       "      <th>Tot Torace</th>\n",
       "      <th>Tot Addome</th>\n",
       "      <th>Tot Scheletro</th>\n",
       "      <th>Totale</th>\n",
       "    </tr>\n",
       "    <tr>\n",
       "      <th>VERBALE</th>\n",
       "      <th></th>\n",
       "      <th></th>\n",
       "      <th></th>\n",
       "      <th></th>\n",
       "      <th></th>\n",
       "      <th></th>\n",
       "      <th></th>\n",
       "      <th></th>\n",
       "      <th></th>\n",
       "      <th></th>\n",
       "      <th></th>\n",
       "      <th></th>\n",
       "      <th></th>\n",
       "      <th></th>\n",
       "      <th></th>\n",
       "      <th></th>\n",
       "      <th></th>\n",
       "      <th></th>\n",
       "      <th></th>\n",
       "      <th></th>\n",
       "      <th></th>\n",
       "    </tr>\n",
       "  </thead>\n",
       "  <tbody>\n",
       "    <tr>\n",
       "      <th>85567</th>\n",
       "      <td>10893</td>\n",
       "      <td>0</td>\n",
       "      <td>81</td>\n",
       "      <td>84.0</td>\n",
       "      <td>1.75</td>\n",
       "      <td>27.428571</td>\n",
       "      <td>0</td>\n",
       "      <td>1</td>\n",
       "      <td>0</td>\n",
       "      <td>0</td>\n",
       "      <td>...</td>\n",
       "      <td>0</td>\n",
       "      <td>3</td>\n",
       "      <td>0</td>\n",
       "      <td>3</td>\n",
       "      <td>3</td>\n",
       "      <td>2</td>\n",
       "      <td>0</td>\n",
       "      <td>3</td>\n",
       "      <td>9</td>\n",
       "      <td>14</td>\n",
       "    </tr>\n",
       "    <tr>\n",
       "      <th>85829</th>\n",
       "      <td>10970</td>\n",
       "      <td>1</td>\n",
       "      <td>69</td>\n",
       "      <td>69.0</td>\n",
       "      <td>1.62</td>\n",
       "      <td>26.291724</td>\n",
       "      <td>1</td>\n",
       "      <td>4</td>\n",
       "      <td>4</td>\n",
       "      <td>4</td>\n",
       "      <td>...</td>\n",
       "      <td>0</td>\n",
       "      <td>0</td>\n",
       "      <td>0</td>\n",
       "      <td>0</td>\n",
       "      <td>4</td>\n",
       "      <td>20</td>\n",
       "      <td>7</td>\n",
       "      <td>1</td>\n",
       "      <td>4</td>\n",
       "      <td>32</td>\n",
       "    </tr>\n",
       "    <tr>\n",
       "      <th>85977</th>\n",
       "      <td>11026</td>\n",
       "      <td>1</td>\n",
       "      <td>71</td>\n",
       "      <td>67.0</td>\n",
       "      <td>1.55</td>\n",
       "      <td>27.887617</td>\n",
       "      <td>1</td>\n",
       "      <td>2</td>\n",
       "      <td>0</td>\n",
       "      <td>1</td>\n",
       "      <td>...</td>\n",
       "      <td>0</td>\n",
       "      <td>0</td>\n",
       "      <td>0</td>\n",
       "      <td>0</td>\n",
       "      <td>4</td>\n",
       "      <td>6</td>\n",
       "      <td>0</td>\n",
       "      <td>0</td>\n",
       "      <td>4</td>\n",
       "      <td>10</td>\n",
       "    </tr>\n",
       "    <tr>\n",
       "      <th>86220</th>\n",
       "      <td>11122</td>\n",
       "      <td>1</td>\n",
       "      <td>54</td>\n",
       "      <td>60.0</td>\n",
       "      <td>1.59</td>\n",
       "      <td>23.733238</td>\n",
       "      <td>1</td>\n",
       "      <td>4</td>\n",
       "      <td>0</td>\n",
       "      <td>0</td>\n",
       "      <td>...</td>\n",
       "      <td>0</td>\n",
       "      <td>0</td>\n",
       "      <td>0</td>\n",
       "      <td>0</td>\n",
       "      <td>4</td>\n",
       "      <td>5</td>\n",
       "      <td>3</td>\n",
       "      <td>2</td>\n",
       "      <td>4</td>\n",
       "      <td>14</td>\n",
       "    </tr>\n",
       "    <tr>\n",
       "      <th>86247</th>\n",
       "      <td>11130</td>\n",
       "      <td>1</td>\n",
       "      <td>78</td>\n",
       "      <td>69.0</td>\n",
       "      <td>1.67</td>\n",
       "      <td>24.740937</td>\n",
       "      <td>1</td>\n",
       "      <td>2</td>\n",
       "      <td>0</td>\n",
       "      <td>0</td>\n",
       "      <td>...</td>\n",
       "      <td>0</td>\n",
       "      <td>0</td>\n",
       "      <td>0</td>\n",
       "      <td>0</td>\n",
       "      <td>4</td>\n",
       "      <td>2</td>\n",
       "      <td>0</td>\n",
       "      <td>2</td>\n",
       "      <td>4</td>\n",
       "      <td>8</td>\n",
       "    </tr>\n",
       "  </tbody>\n",
       "</table>\n",
       "<p>5 rows × 32 columns</p>\n",
       "</div>"
      ],
      "text/plain": [
       "          DATA  SESSO  ANNI  PESO  ALTEZZA        BMI  Mezzo  \\\n",
       "VERBALE                                                        \n",
       "85567    10893      0    81  84.0     1.75  27.428571      0   \n",
       "85829    10970      1    69  69.0     1.62  26.291724      1   \n",
       "85977    11026      1    71  67.0     1.55  27.887617      1   \n",
       "86220    11122      1    54  60.0     1.59  23.733238      1   \n",
       "86247    11130      1    78  69.0     1.67  24.740937      1   \n",
       "\n",
       "         Testa:Neurocranio  Testa:Splancnocranio  Testa:Telencefalo  ...  \\\n",
       "VERBALE                                                              ...   \n",
       "85567                    1                     0                  0  ...   \n",
       "85829                    4                     4                  4  ...   \n",
       "85977                    2                     0                  1  ...   \n",
       "86220                    4                     0                  0  ...   \n",
       "86247                    2                     0                  0  ...   \n",
       "\n",
       "         Scheletro:Rachide-cervicale  Scheletro:Rachide-toracico  \\\n",
       "VERBALE                                                            \n",
       "85567                              0                           3   \n",
       "85829                              0                           0   \n",
       "85977                              0                           0   \n",
       "86220                              0                           0   \n",
       "86247                              0                           0   \n",
       "\n",
       "         Scheletro:Rachide-lombare  Scheletro:Bacino-e-sacro  \\\n",
       "VERBALE                                                        \n",
       "85567                            0                         3   \n",
       "85829                            0                         0   \n",
       "85977                            0                         0   \n",
       "86220                            0                         0   \n",
       "86247                            0                         0   \n",
       "\n",
       "         Scheletro:Complesso-sterno/claveo/costale  Tot Testa  Tot Torace  \\\n",
       "VERBALE                                                                     \n",
       "85567                                            3          2           0   \n",
       "85829                                            4         20           7   \n",
       "85977                                            4          6           0   \n",
       "86220                                            4          5           3   \n",
       "86247                                            4          2           0   \n",
       "\n",
       "         Tot Addome  Tot Scheletro  Totale  \n",
       "VERBALE                                     \n",
       "85567             3              9      14  \n",
       "85829             1              4      32  \n",
       "85977             0              4      10  \n",
       "86220             2              4      14  \n",
       "86247             2              4       8  \n",
       "\n",
       "[5 rows x 32 columns]"
      ]
     },
     "execution_count": 16,
     "metadata": {},
     "output_type": "execute_result"
    }
   ],
   "source": [
    "dataset.head()"
   ]
  },
  {
   "cell_type": "code",
   "execution_count": 17,
   "metadata": {},
   "outputs": [],
   "source": [
    "X_total_with_data = dataset[['DATA', 'SESSO', 'ANNI', 'PESO', 'ALTEZZA', 'Tot Testa', 'Tot Torace', 'Tot Addome', 'Tot Scheletro']]\n",
    "y_total_with_data = dataset['Mezzo']\n",
    "\n",
    "add_column_to_results(risultatiStandardScaler, 'Totali_with_DATA', 'RisultatiStandardScaler.json', X_total_with_data, y_total_with_data, models, grids, logger_name=logger)"
   ]
  },
  {
   "cell_type": "markdown",
   "metadata": {},
   "source": [
    "# Usiamo ora sia il bmi che la data"
   ]
  },
  {
   "cell_type": "code",
   "execution_count": 18,
   "metadata": {},
   "outputs": [],
   "source": [
    "X_total_with_data_and_BMI = dataset[['DATA', 'SESSO', 'ANNI', 'PESO', 'ALTEZZA', 'BMI', 'Tot Testa', 'Tot Torace', 'Tot Addome', 'Tot Scheletro']]\n",
    "y_total_with_data_and_BMI = dataset['Mezzo']\n",
    "\n",
    "add_column_to_results(risultatiStandardScaler, 'Totali_with_DATA_and_BMI', 'RisultatiStandardScaler.json', X_total_with_data_and_BMI, y_total_with_data_and_BMI, models, grids, logger_name=logger)"
   ]
  },
  {
   "cell_type": "markdown",
   "metadata": {},
   "source": [
    "## Aumentiamo la precisione, scendendo nei cinque livelli di ogni distretto"
   ]
  },
  {
   "cell_type": "code",
   "execution_count": 19,
   "metadata": {},
   "outputs": [],
   "source": [
    "selected_cols = ['Testa:Neurocranio',\n",
    "                 'Testa:Splancnocranio',\n",
    "                 'Testa:Telencefalo',\n",
    "                 'Testa:Cervelletto',\n",
    "                 'Testa:Tronco-encefalico',\n",
    "                 'Torace:Polmoni',\n",
    "                 'Torace:Trachea/bronchi',\n",
    "                 'Torace:Cuore',\n",
    "                 'Torace:Aorta-toracica',\n",
    "                 'Torace:Diaframma',\n",
    "                 'Addome:Fegato',\n",
    "                 'Addome:Milza',\n",
    "                 'Addome:Aorta-addominale',\n",
    "                 'Addome:Reni',\n",
    "                 'Addome:Mesentere',\n",
    "                 'Scheletro:Rachide-cervicale',\n",
    "                 'Scheletro:Rachide-toracico',\n",
    "                 'Scheletro:Rachide-lombare',\n",
    "                 'Scheletro:Bacino-e-sacro',\n",
    "                 'Scheletro:Complesso-sterno/claveo/costale']\n",
    "\n",
    "X_details = dataset[selected_cols]\n",
    "y_details = dataset['Mezzo']"
   ]
  },
  {
   "cell_type": "markdown",
   "metadata": {},
   "source": [
    "Iniziamo facendo un controllo su quanto sia possibile ridurre la dimensione dei dati"
   ]
  },
  {
   "cell_type": "code",
   "execution_count": 20,
   "metadata": {},
   "outputs": [
    {
     "data": {
      "text/plain": [
       "PCA(copy=True, iterated_power='auto', n_components=20, random_state=None,\n",
       "    svd_solver='auto', tol=0.0, whiten=False)"
      ]
     },
     "execution_count": 20,
     "metadata": {},
     "output_type": "execute_result"
    }
   ],
   "source": [
    "pca = PCA(n_components = 20)\n",
    "pca.fit(X_details)"
   ]
  },
  {
   "cell_type": "code",
   "execution_count": 21,
   "metadata": {},
   "outputs": [
    {
     "data": {
      "image/png": "[encoded data removed]",
      "text/plain": [
       "<Figure size 432x288 with 1 Axes>"
      ]
     },
     "metadata": {
      "needs_background": "light"
     },
     "output_type": "display_data"
    }
   ],
   "source": [
    "%matplotlib inline\n",
    "\n",
    "from matplotlib import pyplot as plt\n",
    "\n",
    "plt.plot(range(20), pca.explained_variance_ratio_.cumsum())\n",
    "plt.show()"
   ]
  },
  {
   "cell_type": "code",
   "execution_count": 22,
   "metadata": {},
   "outputs": [
    {
     "data": {
      "text/plain": [
       "array([0.2590028 , 0.4424267 , 0.51161017, 0.57652743, 0.63390248,\n",
       "       0.68359398, 0.72846105, 0.7680911 , 0.80302776, 0.83411104,\n",
       "       0.8604245 , 0.88623497, 0.91098428, 0.9328969 , 0.94926481,\n",
       "       0.96485529, 0.97790404, 0.99078593, 0.99608975, 1.        ])"
      ]
     },
     "execution_count": 22,
     "metadata": {},
     "output_type": "execute_result"
    }
   ],
   "source": [
    "pca.explained_variance_ratio_.cumsum()"
   ]
  },
  {
   "cell_type": "code",
   "execution_count": 23,
   "metadata": {},
   "outputs": [
    {
     "data": {
      "text/plain": [
       "0.9109842843806883"
      ]
     },
     "execution_count": 23,
     "metadata": {},
     "output_type": "execute_result"
    }
   ],
   "source": [
    "pca.explained_variance_ratio_.cumsum()[12]"
   ]
  },
  {
   "cell_type": "markdown",
   "metadata": {},
   "source": [
    "Scendendo quindi da 20 a 13 feature si mantiene più del 90% della varianza"
   ]
  },
  {
   "cell_type": "markdown",
   "metadata": {},
   "source": [
    "### Iniziamo comunque con tutte le 20 feature"
   ]
  },
  {
   "cell_type": "code",
   "execution_count": 24,
   "metadata": {},
   "outputs": [],
   "source": [
    "add_column_to_results(risultatiStandardScaler, 'Details', 'RisultatiStandardScaler.json', X_details, y_details, models, grids, logger_name=logger)"
   ]
  },
  {
   "cell_type": "markdown",
   "metadata": {},
   "source": [
    "### Usiamo 5, 10, 13 e 15 feature con PCA"
   ]
  },
  {
   "cell_type": "code",
   "execution_count": 25,
   "metadata": {},
   "outputs": [],
   "source": [
    "for d in [5, 10, 13, 15]:\n",
    "    add_column_to_results(risultatiStandardScaler,\n",
    "                          'Details_reduce_PCA_{}_dim'.format(d),\n",
    "                          'RisultatiStandardScaler.json',\n",
    "                          X_details, y_details,\n",
    "                          models, grids,\n",
    "                          logger_name=logger,\n",
    "                          dim_reduction=PCA(n_components=d))"
   ]
  },
  {
   "cell_type": "markdown",
   "metadata": {},
   "source": [
    "### Proviamo a ridurre le componenti a 5 con t-SNE"
   ]
  },
  {
   "cell_type": "code",
   "execution_count": 26,
   "metadata": {},
   "outputs": [],
   "source": [
    "from sklearn.manifold import TSNE"
   ]
  },
  {
   "cell_type": "code",
   "execution_count": 27,
   "metadata": {
    "scrolled": true
   },
   "outputs": [],
   "source": [
    "#Dopo 13 ore non ha ancora finito\n",
    "\n",
    "#if addNew('Details_reduce_TSNE_5_dim', risultatiStandardScaler):\n",
    "    #logger.info('DATASET IN USO: Details_reduce_TSNE_5_dim')\n",
    "    #risultatiStandardScaler['Details_reduce_TSNE_5_dim'] = {model_to_string[m]: np.mean(addestra(m, X_details, y_details, g, 9, 9, logger_name=logger, dim_reduction=TSNE(n_components=5, method='exact'))) for m, g in zip(models, grids)}"
   ]
  },
  {
   "cell_type": "markdown",
   "metadata": {},
   "source": [
    "### Proviamo a ridurre le componenti a 10 con t-SNE"
   ]
  },
  {
   "cell_type": "code",
   "execution_count": 28,
   "metadata": {},
   "outputs": [],
   "source": [
    "#impiega troppo tempo\n",
    "#if addNew('Details_reduce_TSNE_10_dim', risultatiStandardScaler):\n",
    "    #risultatiStandardScaler['Details_reduce_TSNE_10_dim'] = {model_to_string[m]: np.mean(addestra(m, X_details, y_details, g, 9, 9, nome_dataset='Details_reduce_TSNE_10_dim', logger_name=logger, dim_reduction=TSNE(n_components=10, method='exact'))) for m, g in zip(models, grids)}"
   ]
  },
  {
   "cell_type": "markdown",
   "metadata": {},
   "source": [
    "### Proviamo a ridurre le componenti a 13 e 15 con t-SNE"
   ]
  },
  {
   "cell_type": "code",
   "execution_count": 29,
   "metadata": {},
   "outputs": [],
   "source": [
    "for d in [13, 15]:\n",
    "    add_column_to_results(risultatiStandardScaler,\n",
    "                          'Details_reduce_TSNE_{}_dim'.format(d),\n",
    "                          'RisultatiStandardScaler.json',\n",
    "                          X_details, y_details,\n",
    "                          models, grids,\n",
    "                          logger_name=logger,\n",
    "                          dim_reduction=TSNE(n_components=d, method='exact'))"
   ]
  },
  {
   "cell_type": "markdown",
   "metadata": {},
   "source": [
    "### Applichiamo prima PCA e poi t-SNE"
   ]
  },
  {
   "cell_type": "code",
   "execution_count": 30,
   "metadata": {},
   "outputs": [],
   "source": [
    "class PCA_and_tSNE:\n",
    "    \n",
    "    def __init__(self, pca_components, tsne_components):\n",
    "        self.pca_components = pca_components\n",
    "        self.tsne_components = tsne_components\n",
    "        \n",
    "    def fit_transform(self, X):\n",
    "        pca = PCA(n_components=self.pca_components)\n",
    "        X_pca = pca.fit_transform(X)\n",
    "        tsne = TSNE(n_components=self.tsne_components, method='exact')\n",
    "        X_pca_tsne = tsne.fit_transform(X_pca)\n",
    "        return X_pca_tsne"
   ]
  },
  {
   "cell_type": "markdown",
   "metadata": {},
   "source": [
    "### Usiamo riduzione PCA con 15 dimensioni e poi TSNE con 10"
   ]
  },
  {
   "cell_type": "code",
   "execution_count": 31,
   "metadata": {
    "scrolled": true
   },
   "outputs": [
    {
     "data": {
      "text/plain": [
       "\"add_column_to_results(risultatiStandardScaler,\\n                          'Details_reduce_PCA_15_dim_tSNE_10_dim',\\n                          'RisultatiStandardScaler.json',\\n                          X_details, y_details,\\n                          models, grids,\\n                          logger_name=logger,\\n                          dim_reduction=PCA_and_tSNE(15, 10))\""
      ]
     },
     "execution_count": 31,
     "metadata": {},
     "output_type": "execute_result"
    }
   ],
   "source": [
    "#Troppo tempo\n",
    "'''add_column_to_results(risultatiStandardScaler,\n",
    "                          'Details_reduce_PCA_15_dim_tSNE_10_dim',\n",
    "                          'RisultatiStandardScaler.json',\n",
    "                          X_details, y_details,\n",
    "                          models, grids,\n",
    "                          logger_name=logger,\n",
    "                          dim_reduction=PCA_and_tSNE(15, 10))'''"
   ]
  },
  {
   "cell_type": "markdown",
   "metadata": {},
   "source": [
    "### Usiamo riduzione PCA con 10 dimensioni e poi TSNE con 5"
   ]
  },
  {
   "cell_type": "code",
   "execution_count": 32,
   "metadata": {},
   "outputs": [
    {
     "data": {
      "text/plain": [
       "\"add_column_to_results(risultatiStandardScaler,\\n                          'Details_reduce_PCA_10_dim_tSNE_5_dim',\\n                          'RisultatiStandardScaler.json',\\n                          X_details, y_details,\\n                          models, grids,\\n                          logger_name=logger,\\n                          dim_reduction=PCA_and_tSNE(10, 5))\""
      ]
     },
     "execution_count": 32,
     "metadata": {},
     "output_type": "execute_result"
    }
   ],
   "source": [
    "#Da provare\n",
    "\n",
    "'''add_column_to_results(risultatiStandardScaler,\n",
    "                          'Details_reduce_PCA_10_dim_tSNE_5_dim',\n",
    "                          'RisultatiStandardScaler.json',\n",
    "                          X_details, y_details,\n",
    "                          models, grids,\n",
    "                          logger_name=logger,\n",
    "                          dim_reduction=PCA_and_tSNE(10, 5))'''"
   ]
  },
  {
   "cell_type": "markdown",
   "metadata": {},
   "source": [
    "# Visualizzo tabella riassuntiva Usando come scaler StandardScaler"
   ]
  },
  {
   "cell_type": "code",
   "execution_count": 33,
   "metadata": {},
   "outputs": [],
   "source": [
    "import json\n",
    "    \n",
    "def float_formatter(x): return '{:.2f}'.format(x)\n",
    "\n",
    "def highlight_max_in_row(s):\n",
    "#Formatter function highlighting in yellow the maximal value in a DataFrame row\n",
    "    \n",
    "    is_max = s ==s.max()\n",
    "    return ['background-color: yellow' if v else '' for v in is_max]\n",
    "\n",
    "\n",
    "\n",
    "def highlight_max(data, color='darkorange'):\n",
    "#highlight the maximum in a Series or DataFrame\n",
    "\n",
    "    attr = 'background-color: {}'.format(color)\n",
    "    if data.ndim == 1:  # Series from .apply(axis=0) or axis=1\n",
    "        is_max = data == data.max()\n",
    "        return [attr if v else '' for v in is_max]\n",
    "    else:  # from .apply(axis=None)\n",
    "        is_max = data == data.max().max()\n",
    "        return pd.DataFrame(np.where(is_max, attr, ''),\n",
    "                            index=data.index, columns=data.columns)"
   ]
  },
  {
   "cell_type": "code",
   "execution_count": 34,
   "metadata": {},
   "outputs": [
    {
     "data": {
      "text/html": [
       "<style  type=\"text/css\" >\n",
       "    #T_776837f2_4e66_11ea_9453_05081ed27666row0_col4 {\n",
       "            background-color:  yellow;\n",
       "        }    #T_776837f2_4e66_11ea_9453_05081ed27666row1_col2 {\n",
       "            background-color:  yellow;\n",
       "        }    #T_776837f2_4e66_11ea_9453_05081ed27666row2_col2 {\n",
       "            background-color:  yellow;\n",
       "        }    #T_776837f2_4e66_11ea_9453_05081ed27666row3_col3 {\n",
       "            background-color:  yellow;\n",
       "        }    #T_776837f2_4e66_11ea_9453_05081ed27666row4_col7 {\n",
       "            background-color:  yellow;\n",
       "        }    #T_776837f2_4e66_11ea_9453_05081ed27666row5_col2 {\n",
       "            background-color:  yellow;\n",
       "        }</style><table id=\"T_776837f2_4e66_11ea_9453_05081ed27666\" ><thead>    <tr>        <th class=\"blank level0\" ></th>        <th class=\"col_heading level0 col0\" >Totali</th>        <th class=\"col_heading level0 col1\" >Totali_with_BMI</th>        <th class=\"col_heading level0 col2\" >Totali_with_DATA</th>        <th class=\"col_heading level0 col3\" >Totali_with_DATA_and_BMI</th>        <th class=\"col_heading level0 col4\" >Details</th>        <th class=\"col_heading level0 col5\" >Details_reduce_PCA_5_dim</th>        <th class=\"col_heading level0 col6\" >Details_reduce_PCA_10_dim</th>        <th class=\"col_heading level0 col7\" >Details_reduce_PCA_13_dim</th>        <th class=\"col_heading level0 col8\" >Details_reduce_PCA_15_dim</th>        <th class=\"col_heading level0 col9\" >Details_reduce_TSNE_13_dim</th>        <th class=\"col_heading level0 col10\" >Details_reduce_TSNE_15_dim</th>    </tr></thead><tbody>\n",
       "                <tr>\n",
       "                        <th id=\"T_776837f2_4e66_11ea_9453_05081ed27666level0_row0\" class=\"row_heading level0 row0\" >DT</th>\n",
       "                        <td id=\"T_776837f2_4e66_11ea_9453_05081ed27666row0_col0\" class=\"data row0 col0\" >0.56</td>\n",
       "                        <td id=\"T_776837f2_4e66_11ea_9453_05081ed27666row0_col1\" class=\"data row0 col1\" >0.56</td>\n",
       "                        <td id=\"T_776837f2_4e66_11ea_9453_05081ed27666row0_col2\" class=\"data row0 col2\" >0.61</td>\n",
       "                        <td id=\"T_776837f2_4e66_11ea_9453_05081ed27666row0_col3\" class=\"data row0 col3\" >0.63</td>\n",
       "                        <td id=\"T_776837f2_4e66_11ea_9453_05081ed27666row0_col4\" class=\"data row0 col4\" >0.68</td>\n",
       "                        <td id=\"T_776837f2_4e66_11ea_9453_05081ed27666row0_col5\" class=\"data row0 col5\" >0.60</td>\n",
       "                        <td id=\"T_776837f2_4e66_11ea_9453_05081ed27666row0_col6\" class=\"data row0 col6\" >0.68</td>\n",
       "                        <td id=\"T_776837f2_4e66_11ea_9453_05081ed27666row0_col7\" class=\"data row0 col7\" >0.65</td>\n",
       "                        <td id=\"T_776837f2_4e66_11ea_9453_05081ed27666row0_col8\" class=\"data row0 col8\" >0.58</td>\n",
       "                        <td id=\"T_776837f2_4e66_11ea_9453_05081ed27666row0_col9\" class=\"data row0 col9\" >0.44</td>\n",
       "                        <td id=\"T_776837f2_4e66_11ea_9453_05081ed27666row0_col10\" class=\"data row0 col10\" >0.51</td>\n",
       "            </tr>\n",
       "            <tr>\n",
       "                        <th id=\"T_776837f2_4e66_11ea_9453_05081ed27666level0_row1\" class=\"row_heading level0 row1\" >LD</th>\n",
       "                        <td id=\"T_776837f2_4e66_11ea_9453_05081ed27666row1_col0\" class=\"data row1 col0\" >0.71</td>\n",
       "                        <td id=\"T_776837f2_4e66_11ea_9453_05081ed27666row1_col1\" class=\"data row1 col1\" >0.69</td>\n",
       "                        <td id=\"T_776837f2_4e66_11ea_9453_05081ed27666row1_col2\" class=\"data row1 col2\" >0.73</td>\n",
       "                        <td id=\"T_776837f2_4e66_11ea_9453_05081ed27666row1_col3\" class=\"data row1 col3\" >0.72</td>\n",
       "                        <td id=\"T_776837f2_4e66_11ea_9453_05081ed27666row1_col4\" class=\"data row1 col4\" >0.64</td>\n",
       "                        <td id=\"T_776837f2_4e66_11ea_9453_05081ed27666row1_col5\" class=\"data row1 col5\" >0.65</td>\n",
       "                        <td id=\"T_776837f2_4e66_11ea_9453_05081ed27666row1_col6\" class=\"data row1 col6\" >0.61</td>\n",
       "                        <td id=\"T_776837f2_4e66_11ea_9453_05081ed27666row1_col7\" class=\"data row1 col7\" >0.59</td>\n",
       "                        <td id=\"T_776837f2_4e66_11ea_9453_05081ed27666row1_col8\" class=\"data row1 col8\" >0.59</td>\n",
       "                        <td id=\"T_776837f2_4e66_11ea_9453_05081ed27666row1_col9\" class=\"data row1 col9\" >0.48</td>\n",
       "                        <td id=\"T_776837f2_4e66_11ea_9453_05081ed27666row1_col10\" class=\"data row1 col10\" >0.49</td>\n",
       "            </tr>\n",
       "            <tr>\n",
       "                        <th id=\"T_776837f2_4e66_11ea_9453_05081ed27666level0_row2\" class=\"row_heading level0 row2\" >MLP</th>\n",
       "                        <td id=\"T_776837f2_4e66_11ea_9453_05081ed27666row2_col0\" class=\"data row2 col0\" >0.70</td>\n",
       "                        <td id=\"T_776837f2_4e66_11ea_9453_05081ed27666row2_col1\" class=\"data row2 col1\" >0.69</td>\n",
       "                        <td id=\"T_776837f2_4e66_11ea_9453_05081ed27666row2_col2\" class=\"data row2 col2\" >0.74</td>\n",
       "                        <td id=\"T_776837f2_4e66_11ea_9453_05081ed27666row2_col3\" class=\"data row2 col3\" >0.72</td>\n",
       "                        <td id=\"T_776837f2_4e66_11ea_9453_05081ed27666row2_col4\" class=\"data row2 col4\" >0.63</td>\n",
       "                        <td id=\"T_776837f2_4e66_11ea_9453_05081ed27666row2_col5\" class=\"data row2 col5\" >0.63</td>\n",
       "                        <td id=\"T_776837f2_4e66_11ea_9453_05081ed27666row2_col6\" class=\"data row2 col6\" >0.62</td>\n",
       "                        <td id=\"T_776837f2_4e66_11ea_9453_05081ed27666row2_col7\" class=\"data row2 col7\" >0.62</td>\n",
       "                        <td id=\"T_776837f2_4e66_11ea_9453_05081ed27666row2_col8\" class=\"data row2 col8\" >0.65</td>\n",
       "                        <td id=\"T_776837f2_4e66_11ea_9453_05081ed27666row2_col9\" class=\"data row2 col9\" >0.39</td>\n",
       "                        <td id=\"T_776837f2_4e66_11ea_9453_05081ed27666row2_col10\" class=\"data row2 col10\" >0.48</td>\n",
       "            </tr>\n",
       "            <tr>\n",
       "                        <th id=\"T_776837f2_4e66_11ea_9453_05081ed27666level0_row3\" class=\"row_heading level0 row3\" >NB</th>\n",
       "                        <td id=\"T_776837f2_4e66_11ea_9453_05081ed27666row3_col0\" class=\"data row3 col0\" >0.69</td>\n",
       "                        <td id=\"T_776837f2_4e66_11ea_9453_05081ed27666row3_col1\" class=\"data row3 col1\" >0.69</td>\n",
       "                        <td id=\"T_776837f2_4e66_11ea_9453_05081ed27666row3_col2\" class=\"data row3 col2\" >0.73</td>\n",
       "                        <td id=\"T_776837f2_4e66_11ea_9453_05081ed27666row3_col3\" class=\"data row3 col3\" >0.75</td>\n",
       "                        <td id=\"T_776837f2_4e66_11ea_9453_05081ed27666row3_col4\" class=\"data row3 col4\" >0.63</td>\n",
       "                        <td id=\"T_776837f2_4e66_11ea_9453_05081ed27666row3_col5\" class=\"data row3 col5\" >0.62</td>\n",
       "                        <td id=\"T_776837f2_4e66_11ea_9453_05081ed27666row3_col6\" class=\"data row3 col6\" >0.66</td>\n",
       "                        <td id=\"T_776837f2_4e66_11ea_9453_05081ed27666row3_col7\" class=\"data row3 col7\" >0.68</td>\n",
       "                        <td id=\"T_776837f2_4e66_11ea_9453_05081ed27666row3_col8\" class=\"data row3 col8\" >0.65</td>\n",
       "                        <td id=\"T_776837f2_4e66_11ea_9453_05081ed27666row3_col9\" class=\"data row3 col9\" >0.56</td>\n",
       "                        <td id=\"T_776837f2_4e66_11ea_9453_05081ed27666row3_col10\" class=\"data row3 col10\" >0.58</td>\n",
       "            </tr>\n",
       "            <tr>\n",
       "                        <th id=\"T_776837f2_4e66_11ea_9453_05081ed27666level0_row4\" class=\"row_heading level0 row4\" >RF</th>\n",
       "                        <td id=\"T_776837f2_4e66_11ea_9453_05081ed27666row4_col0\" class=\"data row4 col0\" >0.65</td>\n",
       "                        <td id=\"T_776837f2_4e66_11ea_9453_05081ed27666row4_col1\" class=\"data row4 col1\" >0.64</td>\n",
       "                        <td id=\"T_776837f2_4e66_11ea_9453_05081ed27666row4_col2\" class=\"data row4 col2\" >0.58</td>\n",
       "                        <td id=\"T_776837f2_4e66_11ea_9453_05081ed27666row4_col3\" class=\"data row4 col3\" >0.60</td>\n",
       "                        <td id=\"T_776837f2_4e66_11ea_9453_05081ed27666row4_col4\" class=\"data row4 col4\" >0.68</td>\n",
       "                        <td id=\"T_776837f2_4e66_11ea_9453_05081ed27666row4_col5\" class=\"data row4 col5\" >0.60</td>\n",
       "                        <td id=\"T_776837f2_4e66_11ea_9453_05081ed27666row4_col6\" class=\"data row4 col6\" >0.70</td>\n",
       "                        <td id=\"T_776837f2_4e66_11ea_9453_05081ed27666row4_col7\" class=\"data row4 col7\" >0.70</td>\n",
       "                        <td id=\"T_776837f2_4e66_11ea_9453_05081ed27666row4_col8\" class=\"data row4 col8\" >0.64</td>\n",
       "                        <td id=\"T_776837f2_4e66_11ea_9453_05081ed27666row4_col9\" class=\"data row4 col9\" >0.52</td>\n",
       "                        <td id=\"T_776837f2_4e66_11ea_9453_05081ed27666row4_col10\" class=\"data row4 col10\" >0.56</td>\n",
       "            </tr>\n",
       "            <tr>\n",
       "                        <th id=\"T_776837f2_4e66_11ea_9453_05081ed27666level0_row5\" class=\"row_heading level0 row5\" >SVC</th>\n",
       "                        <td id=\"T_776837f2_4e66_11ea_9453_05081ed27666row5_col0\" class=\"data row5 col0\" >0.66</td>\n",
       "                        <td id=\"T_776837f2_4e66_11ea_9453_05081ed27666row5_col1\" class=\"data row5 col1\" >0.67</td>\n",
       "                        <td id=\"T_776837f2_4e66_11ea_9453_05081ed27666row5_col2\" class=\"data row5 col2\" >0.77</td>\n",
       "                        <td id=\"T_776837f2_4e66_11ea_9453_05081ed27666row5_col3\" class=\"data row5 col3\" >0.74</td>\n",
       "                        <td id=\"T_776837f2_4e66_11ea_9453_05081ed27666row5_col4\" class=\"data row5 col4\" >0.69</td>\n",
       "                        <td id=\"T_776837f2_4e66_11ea_9453_05081ed27666row5_col5\" class=\"data row5 col5\" >0.64</td>\n",
       "                        <td id=\"T_776837f2_4e66_11ea_9453_05081ed27666row5_col6\" class=\"data row5 col6\" >0.69</td>\n",
       "                        <td id=\"T_776837f2_4e66_11ea_9453_05081ed27666row5_col7\" class=\"data row5 col7\" >0.68</td>\n",
       "                        <td id=\"T_776837f2_4e66_11ea_9453_05081ed27666row5_col8\" class=\"data row5 col8\" >0.72</td>\n",
       "                        <td id=\"T_776837f2_4e66_11ea_9453_05081ed27666row5_col9\" class=\"data row5 col9\" >0.52</td>\n",
       "                        <td id=\"T_776837f2_4e66_11ea_9453_05081ed27666row5_col10\" class=\"data row5 col10\" >0.53</td>\n",
       "            </tr>\n",
       "    </tbody></table>"
      ],
      "text/plain": [
       "<pandas.io.formats.style.Styler at 0x7f56a5bd4fd0>"
      ]
     },
     "execution_count": 34,
     "metadata": {},
     "output_type": "execute_result"
    }
   ],
   "source": [
    "tableStandardScaler = pd.DataFrame(risultatiStandardScaler)\n",
    "tableStandardScaler.style.apply(highlight_max_in_row, axis=1).format(float_formatter)"
   ]
  },
  {
   "cell_type": "code",
   "execution_count": 35,
   "metadata": {},
   "outputs": [
    {
     "data": {
      "text/html": [
       "<style  type=\"text/css\" >\n",
       "    #T_79301d34_4e66_11ea_9453_05081ed27666row5_col2 {\n",
       "            background-color:  darkorange;\n",
       "        }</style><table id=\"T_79301d34_4e66_11ea_9453_05081ed27666\" ><thead>    <tr>        <th class=\"blank level0\" ></th>        <th class=\"col_heading level0 col0\" >Totali</th>        <th class=\"col_heading level0 col1\" >Totali_with_BMI</th>        <th class=\"col_heading level0 col2\" >Totali_with_DATA</th>        <th class=\"col_heading level0 col3\" >Totali_with_DATA_and_BMI</th>        <th class=\"col_heading level0 col4\" >Details</th>        <th class=\"col_heading level0 col5\" >Details_reduce_PCA_5_dim</th>        <th class=\"col_heading level0 col6\" >Details_reduce_PCA_10_dim</th>        <th class=\"col_heading level0 col7\" >Details_reduce_PCA_13_dim</th>        <th class=\"col_heading level0 col8\" >Details_reduce_PCA_15_dim</th>        <th class=\"col_heading level0 col9\" >Details_reduce_TSNE_13_dim</th>        <th class=\"col_heading level0 col10\" >Details_reduce_TSNE_15_dim</th>    </tr></thead><tbody>\n",
       "                <tr>\n",
       "                        <th id=\"T_79301d34_4e66_11ea_9453_05081ed27666level0_row0\" class=\"row_heading level0 row0\" >DT</th>\n",
       "                        <td id=\"T_79301d34_4e66_11ea_9453_05081ed27666row0_col0\" class=\"data row0 col0\" >0.56</td>\n",
       "                        <td id=\"T_79301d34_4e66_11ea_9453_05081ed27666row0_col1\" class=\"data row0 col1\" >0.56</td>\n",
       "                        <td id=\"T_79301d34_4e66_11ea_9453_05081ed27666row0_col2\" class=\"data row0 col2\" >0.61</td>\n",
       "                        <td id=\"T_79301d34_4e66_11ea_9453_05081ed27666row0_col3\" class=\"data row0 col3\" >0.63</td>\n",
       "                        <td id=\"T_79301d34_4e66_11ea_9453_05081ed27666row0_col4\" class=\"data row0 col4\" >0.68</td>\n",
       "                        <td id=\"T_79301d34_4e66_11ea_9453_05081ed27666row0_col5\" class=\"data row0 col5\" >0.60</td>\n",
       "                        <td id=\"T_79301d34_4e66_11ea_9453_05081ed27666row0_col6\" class=\"data row0 col6\" >0.68</td>\n",
       "                        <td id=\"T_79301d34_4e66_11ea_9453_05081ed27666row0_col7\" class=\"data row0 col7\" >0.65</td>\n",
       "                        <td id=\"T_79301d34_4e66_11ea_9453_05081ed27666row0_col8\" class=\"data row0 col8\" >0.58</td>\n",
       "                        <td id=\"T_79301d34_4e66_11ea_9453_05081ed27666row0_col9\" class=\"data row0 col9\" >0.44</td>\n",
       "                        <td id=\"T_79301d34_4e66_11ea_9453_05081ed27666row0_col10\" class=\"data row0 col10\" >0.51</td>\n",
       "            </tr>\n",
       "            <tr>\n",
       "                        <th id=\"T_79301d34_4e66_11ea_9453_05081ed27666level0_row1\" class=\"row_heading level0 row1\" >LD</th>\n",
       "                        <td id=\"T_79301d34_4e66_11ea_9453_05081ed27666row1_col0\" class=\"data row1 col0\" >0.71</td>\n",
       "                        <td id=\"T_79301d34_4e66_11ea_9453_05081ed27666row1_col1\" class=\"data row1 col1\" >0.69</td>\n",
       "                        <td id=\"T_79301d34_4e66_11ea_9453_05081ed27666row1_col2\" class=\"data row1 col2\" >0.73</td>\n",
       "                        <td id=\"T_79301d34_4e66_11ea_9453_05081ed27666row1_col3\" class=\"data row1 col3\" >0.72</td>\n",
       "                        <td id=\"T_79301d34_4e66_11ea_9453_05081ed27666row1_col4\" class=\"data row1 col4\" >0.64</td>\n",
       "                        <td id=\"T_79301d34_4e66_11ea_9453_05081ed27666row1_col5\" class=\"data row1 col5\" >0.65</td>\n",
       "                        <td id=\"T_79301d34_4e66_11ea_9453_05081ed27666row1_col6\" class=\"data row1 col6\" >0.61</td>\n",
       "                        <td id=\"T_79301d34_4e66_11ea_9453_05081ed27666row1_col7\" class=\"data row1 col7\" >0.59</td>\n",
       "                        <td id=\"T_79301d34_4e66_11ea_9453_05081ed27666row1_col8\" class=\"data row1 col8\" >0.59</td>\n",
       "                        <td id=\"T_79301d34_4e66_11ea_9453_05081ed27666row1_col9\" class=\"data row1 col9\" >0.48</td>\n",
       "                        <td id=\"T_79301d34_4e66_11ea_9453_05081ed27666row1_col10\" class=\"data row1 col10\" >0.49</td>\n",
       "            </tr>\n",
       "            <tr>\n",
       "                        <th id=\"T_79301d34_4e66_11ea_9453_05081ed27666level0_row2\" class=\"row_heading level0 row2\" >MLP</th>\n",
       "                        <td id=\"T_79301d34_4e66_11ea_9453_05081ed27666row2_col0\" class=\"data row2 col0\" >0.70</td>\n",
       "                        <td id=\"T_79301d34_4e66_11ea_9453_05081ed27666row2_col1\" class=\"data row2 col1\" >0.69</td>\n",
       "                        <td id=\"T_79301d34_4e66_11ea_9453_05081ed27666row2_col2\" class=\"data row2 col2\" >0.74</td>\n",
       "                        <td id=\"T_79301d34_4e66_11ea_9453_05081ed27666row2_col3\" class=\"data row2 col3\" >0.72</td>\n",
       "                        <td id=\"T_79301d34_4e66_11ea_9453_05081ed27666row2_col4\" class=\"data row2 col4\" >0.63</td>\n",
       "                        <td id=\"T_79301d34_4e66_11ea_9453_05081ed27666row2_col5\" class=\"data row2 col5\" >0.63</td>\n",
       "                        <td id=\"T_79301d34_4e66_11ea_9453_05081ed27666row2_col6\" class=\"data row2 col6\" >0.62</td>\n",
       "                        <td id=\"T_79301d34_4e66_11ea_9453_05081ed27666row2_col7\" class=\"data row2 col7\" >0.62</td>\n",
       "                        <td id=\"T_79301d34_4e66_11ea_9453_05081ed27666row2_col8\" class=\"data row2 col8\" >0.65</td>\n",
       "                        <td id=\"T_79301d34_4e66_11ea_9453_05081ed27666row2_col9\" class=\"data row2 col9\" >0.39</td>\n",
       "                        <td id=\"T_79301d34_4e66_11ea_9453_05081ed27666row2_col10\" class=\"data row2 col10\" >0.48</td>\n",
       "            </tr>\n",
       "            <tr>\n",
       "                        <th id=\"T_79301d34_4e66_11ea_9453_05081ed27666level0_row3\" class=\"row_heading level0 row3\" >NB</th>\n",
       "                        <td id=\"T_79301d34_4e66_11ea_9453_05081ed27666row3_col0\" class=\"data row3 col0\" >0.69</td>\n",
       "                        <td id=\"T_79301d34_4e66_11ea_9453_05081ed27666row3_col1\" class=\"data row3 col1\" >0.69</td>\n",
       "                        <td id=\"T_79301d34_4e66_11ea_9453_05081ed27666row3_col2\" class=\"data row3 col2\" >0.73</td>\n",
       "                        <td id=\"T_79301d34_4e66_11ea_9453_05081ed27666row3_col3\" class=\"data row3 col3\" >0.75</td>\n",
       "                        <td id=\"T_79301d34_4e66_11ea_9453_05081ed27666row3_col4\" class=\"data row3 col4\" >0.63</td>\n",
       "                        <td id=\"T_79301d34_4e66_11ea_9453_05081ed27666row3_col5\" class=\"data row3 col5\" >0.62</td>\n",
       "                        <td id=\"T_79301d34_4e66_11ea_9453_05081ed27666row3_col6\" class=\"data row3 col6\" >0.66</td>\n",
       "                        <td id=\"T_79301d34_4e66_11ea_9453_05081ed27666row3_col7\" class=\"data row3 col7\" >0.68</td>\n",
       "                        <td id=\"T_79301d34_4e66_11ea_9453_05081ed27666row3_col8\" class=\"data row3 col8\" >0.65</td>\n",
       "                        <td id=\"T_79301d34_4e66_11ea_9453_05081ed27666row3_col9\" class=\"data row3 col9\" >0.56</td>\n",
       "                        <td id=\"T_79301d34_4e66_11ea_9453_05081ed27666row3_col10\" class=\"data row3 col10\" >0.58</td>\n",
       "            </tr>\n",
       "            <tr>\n",
       "                        <th id=\"T_79301d34_4e66_11ea_9453_05081ed27666level0_row4\" class=\"row_heading level0 row4\" >RF</th>\n",
       "                        <td id=\"T_79301d34_4e66_11ea_9453_05081ed27666row4_col0\" class=\"data row4 col0\" >0.65</td>\n",
       "                        <td id=\"T_79301d34_4e66_11ea_9453_05081ed27666row4_col1\" class=\"data row4 col1\" >0.64</td>\n",
       "                        <td id=\"T_79301d34_4e66_11ea_9453_05081ed27666row4_col2\" class=\"data row4 col2\" >0.58</td>\n",
       "                        <td id=\"T_79301d34_4e66_11ea_9453_05081ed27666row4_col3\" class=\"data row4 col3\" >0.60</td>\n",
       "                        <td id=\"T_79301d34_4e66_11ea_9453_05081ed27666row4_col4\" class=\"data row4 col4\" >0.68</td>\n",
       "                        <td id=\"T_79301d34_4e66_11ea_9453_05081ed27666row4_col5\" class=\"data row4 col5\" >0.60</td>\n",
       "                        <td id=\"T_79301d34_4e66_11ea_9453_05081ed27666row4_col6\" class=\"data row4 col6\" >0.70</td>\n",
       "                        <td id=\"T_79301d34_4e66_11ea_9453_05081ed27666row4_col7\" class=\"data row4 col7\" >0.70</td>\n",
       "                        <td id=\"T_79301d34_4e66_11ea_9453_05081ed27666row4_col8\" class=\"data row4 col8\" >0.64</td>\n",
       "                        <td id=\"T_79301d34_4e66_11ea_9453_05081ed27666row4_col9\" class=\"data row4 col9\" >0.52</td>\n",
       "                        <td id=\"T_79301d34_4e66_11ea_9453_05081ed27666row4_col10\" class=\"data row4 col10\" >0.56</td>\n",
       "            </tr>\n",
       "            <tr>\n",
       "                        <th id=\"T_79301d34_4e66_11ea_9453_05081ed27666level0_row5\" class=\"row_heading level0 row5\" >SVC</th>\n",
       "                        <td id=\"T_79301d34_4e66_11ea_9453_05081ed27666row5_col0\" class=\"data row5 col0\" >0.66</td>\n",
       "                        <td id=\"T_79301d34_4e66_11ea_9453_05081ed27666row5_col1\" class=\"data row5 col1\" >0.67</td>\n",
       "                        <td id=\"T_79301d34_4e66_11ea_9453_05081ed27666row5_col2\" class=\"data row5 col2\" >0.77</td>\n",
       "                        <td id=\"T_79301d34_4e66_11ea_9453_05081ed27666row5_col3\" class=\"data row5 col3\" >0.74</td>\n",
       "                        <td id=\"T_79301d34_4e66_11ea_9453_05081ed27666row5_col4\" class=\"data row5 col4\" >0.69</td>\n",
       "                        <td id=\"T_79301d34_4e66_11ea_9453_05081ed27666row5_col5\" class=\"data row5 col5\" >0.64</td>\n",
       "                        <td id=\"T_79301d34_4e66_11ea_9453_05081ed27666row5_col6\" class=\"data row5 col6\" >0.69</td>\n",
       "                        <td id=\"T_79301d34_4e66_11ea_9453_05081ed27666row5_col7\" class=\"data row5 col7\" >0.68</td>\n",
       "                        <td id=\"T_79301d34_4e66_11ea_9453_05081ed27666row5_col8\" class=\"data row5 col8\" >0.72</td>\n",
       "                        <td id=\"T_79301d34_4e66_11ea_9453_05081ed27666row5_col9\" class=\"data row5 col9\" >0.52</td>\n",
       "                        <td id=\"T_79301d34_4e66_11ea_9453_05081ed27666row5_col10\" class=\"data row5 col10\" >0.53</td>\n",
       "            </tr>\n",
       "    </tbody></table>"
      ],
      "text/plain": [
       "<pandas.io.formats.style.Styler at 0x7f56a5a35dd8>"
      ]
     },
     "execution_count": 35,
     "metadata": {},
     "output_type": "execute_result"
    }
   ],
   "source": [
    "tableStandardScaler = pd.DataFrame(risultatiStandardScaler)\n",
    "tableStandardScaler.style.apply(highlight_max, axis=None).format(float_formatter)"
   ]
  },
  {
   "cell_type": "markdown",
   "metadata": {},
   "source": [
    "# Visualizzo il massimo score possibile relativo ad ogni dataset"
   ]
  },
  {
   "cell_type": "code",
   "execution_count": 36,
   "metadata": {},
   "outputs": [
    {
     "data": {
      "text/html": [
       "<style  type=\"text/css\" >\n",
       "    #T_7b89ae88_4e66_11ea_9453_05081ed27666row2_col0 {\n",
       "            background-color:  darkorange;\n",
       "        }</style><table id=\"T_7b89ae88_4e66_11ea_9453_05081ed27666\" ><thead>    <tr>        <th class=\"blank level0\" ></th>        <th class=\"col_heading level0 col0\" >StandardScaler</th>    </tr></thead><tbody>\n",
       "                <tr>\n",
       "                        <th id=\"T_7b89ae88_4e66_11ea_9453_05081ed27666level0_row0\" class=\"row_heading level0 row0\" >Totali</th>\n",
       "                        <td id=\"T_7b89ae88_4e66_11ea_9453_05081ed27666row0_col0\" class=\"data row0 col0\" >0.71</td>\n",
       "            </tr>\n",
       "            <tr>\n",
       "                        <th id=\"T_7b89ae88_4e66_11ea_9453_05081ed27666level0_row1\" class=\"row_heading level0 row1\" >Totali_with_BMI</th>\n",
       "                        <td id=\"T_7b89ae88_4e66_11ea_9453_05081ed27666row1_col0\" class=\"data row1 col0\" >0.69</td>\n",
       "            </tr>\n",
       "            <tr>\n",
       "                        <th id=\"T_7b89ae88_4e66_11ea_9453_05081ed27666level0_row2\" class=\"row_heading level0 row2\" >Totali_with_DATA</th>\n",
       "                        <td id=\"T_7b89ae88_4e66_11ea_9453_05081ed27666row2_col0\" class=\"data row2 col0\" >0.77</td>\n",
       "            </tr>\n",
       "            <tr>\n",
       "                        <th id=\"T_7b89ae88_4e66_11ea_9453_05081ed27666level0_row3\" class=\"row_heading level0 row3\" >Totali_with_DATA_and_BMI</th>\n",
       "                        <td id=\"T_7b89ae88_4e66_11ea_9453_05081ed27666row3_col0\" class=\"data row3 col0\" >0.75</td>\n",
       "            </tr>\n",
       "            <tr>\n",
       "                        <th id=\"T_7b89ae88_4e66_11ea_9453_05081ed27666level0_row4\" class=\"row_heading level0 row4\" >Details</th>\n",
       "                        <td id=\"T_7b89ae88_4e66_11ea_9453_05081ed27666row4_col0\" class=\"data row4 col0\" >0.69</td>\n",
       "            </tr>\n",
       "            <tr>\n",
       "                        <th id=\"T_7b89ae88_4e66_11ea_9453_05081ed27666level0_row5\" class=\"row_heading level0 row5\" >Details_reduce_PCA_5_dim</th>\n",
       "                        <td id=\"T_7b89ae88_4e66_11ea_9453_05081ed27666row5_col0\" class=\"data row5 col0\" >0.65</td>\n",
       "            </tr>\n",
       "            <tr>\n",
       "                        <th id=\"T_7b89ae88_4e66_11ea_9453_05081ed27666level0_row6\" class=\"row_heading level0 row6\" >Details_reduce_PCA_10_dim</th>\n",
       "                        <td id=\"T_7b89ae88_4e66_11ea_9453_05081ed27666row6_col0\" class=\"data row6 col0\" >0.70</td>\n",
       "            </tr>\n",
       "            <tr>\n",
       "                        <th id=\"T_7b89ae88_4e66_11ea_9453_05081ed27666level0_row7\" class=\"row_heading level0 row7\" >Details_reduce_PCA_13_dim</th>\n",
       "                        <td id=\"T_7b89ae88_4e66_11ea_9453_05081ed27666row7_col0\" class=\"data row7 col0\" >0.70</td>\n",
       "            </tr>\n",
       "            <tr>\n",
       "                        <th id=\"T_7b89ae88_4e66_11ea_9453_05081ed27666level0_row8\" class=\"row_heading level0 row8\" >Details_reduce_PCA_15_dim</th>\n",
       "                        <td id=\"T_7b89ae88_4e66_11ea_9453_05081ed27666row8_col0\" class=\"data row8 col0\" >0.72</td>\n",
       "            </tr>\n",
       "            <tr>\n",
       "                        <th id=\"T_7b89ae88_4e66_11ea_9453_05081ed27666level0_row9\" class=\"row_heading level0 row9\" >Details_reduce_TSNE_13_dim</th>\n",
       "                        <td id=\"T_7b89ae88_4e66_11ea_9453_05081ed27666row9_col0\" class=\"data row9 col0\" >0.56</td>\n",
       "            </tr>\n",
       "            <tr>\n",
       "                        <th id=\"T_7b89ae88_4e66_11ea_9453_05081ed27666level0_row10\" class=\"row_heading level0 row10\" >Details_reduce_TSNE_15_dim</th>\n",
       "                        <td id=\"T_7b89ae88_4e66_11ea_9453_05081ed27666row10_col0\" class=\"data row10 col0\" >0.58</td>\n",
       "            </tr>\n",
       "    </tbody></table>"
      ],
      "text/plain": [
       "<pandas.io.formats.style.Styler at 0x7f56a57a3c18>"
      ]
     },
     "execution_count": 36,
     "metadata": {},
     "output_type": "execute_result"
    }
   ],
   "source": [
    "tableMaxStandardScaler = pd.DataFrame(tableStandardScaler.max(), columns=['StandardScaler'])\n",
    "tableMaxStandardScaler.style.apply(highlight_max, axis=0).format(float_formatter)"
   ]
  },
  {
   "cell_type": "markdown",
   "metadata": {},
   "source": [
    "##### Lo score massimo calcolato usando StandardScaler è stato ottenuto usando 'Total_with_DATA' con SVC ed è di 0.77"
   ]
  },
  {
   "cell_type": "markdown",
   "metadata": {},
   "source": [
    "# Usando come scaler MinMaxScaler"
   ]
  },
  {
   "cell_type": "code",
   "execution_count": 37,
   "metadata": {},
   "outputs": [],
   "source": [
    "from sklearn.preprocessing import MinMaxScaler\n",
    "\n",
    "risultati_minMax_scaler = {}"
   ]
  },
  {
   "cell_type": "code",
   "execution_count": 38,
   "metadata": {},
   "outputs": [],
   "source": [
    "from sklearn.preprocessing import MinMaxScaler\n",
    "\n",
    "\n",
    "add_column_to_results(risultati_minMax_scaler, 'Totali', 'RisultatiMinMaxScaler.json', X_total, y_total, models, grids, scaling=MinMaxScaler(), logger_name=logger)"
   ]
  },
  {
   "cell_type": "code",
   "execution_count": 39,
   "metadata": {
    "scrolled": false
   },
   "outputs": [],
   "source": [
    "add_column_to_results(risultati_minMax_scaler, 'Totali_with_BMI', 'RisultatiMinMaxScaler.json', X_total_with_BMI, y_total_with_BMI, models, grids, scaling=MinMaxScaler(), logger_name=logger)"
   ]
  },
  {
   "cell_type": "code",
   "execution_count": 40,
   "metadata": {},
   "outputs": [],
   "source": [
    "add_column_to_results(risultati_minMax_scaler, 'Totali_with_DATA', 'RisultatiMinMaxScaler.json', X_total_with_data, y_total_with_data, models, grids, scaling=MinMaxScaler(), logger_name=logger)"
   ]
  },
  {
   "cell_type": "code",
   "execution_count": 41,
   "metadata": {},
   "outputs": [],
   "source": [
    "add_column_to_results(risultati_minMax_scaler, 'Totali_with_DATA_and_BMI', 'RisultatiMinMaxScaler.json', X_total_with_data_and_BMI, y_total_with_data_and_BMI, models, grids, scaling=MinMaxScaler(), logger_name=logger)"
   ]
  },
  {
   "cell_type": "code",
   "execution_count": 42,
   "metadata": {
    "scrolled": false
   },
   "outputs": [],
   "source": [
    "add_column_to_results(risultati_minMax_scaler, 'Details', 'RisultatiMinMaxScaler.json', X_details, y_details, models, grids, scaling=MinMaxScaler(), logger_name=logger)"
   ]
  },
  {
   "cell_type": "code",
   "execution_count": 43,
   "metadata": {},
   "outputs": [],
   "source": [
    "for d in [5, 10, 13, 15]:\n",
    "    add_column_to_results(risultati_minMax_scaler,\n",
    "                          'Details_reduce_PCA_{}_dim'.format(d),\n",
    "                          'RisultatiMinMaxScaler.json',\n",
    "                          X_details, y_details,\n",
    "                          models, grids,\n",
    "                          logger_name=logger,\n",
    "                          scaling=MinMaxScaler(),\n",
    "                          dim_reduction=PCA(n_components=d))"
   ]
  },
  {
   "cell_type": "code",
   "execution_count": 44,
   "metadata": {},
   "outputs": [],
   "source": [
    "#Dopo 5 ore non ha ancora finito\n",
    "\n",
    "#if addNew('Details_reduce_TSNE_5_dim', risultati_minMax_scaler):\n",
    "    #risultati_minMax_scaler['Details_reduce_TSNE_5_dim'] = {model_to_string[m]: np.mean(addestra(m, X_details, y_details, g, 9, 9, nome_dataset='Details_reduce_TSNE_5_dim', logger_name=logger, scaling=MinMaxScaler(), dim_reduction=TSNE(n_components=5, method='exact'))) for m, g in zip(models, grids)}"
   ]
  },
  {
   "cell_type": "code",
   "execution_count": 45,
   "metadata": {},
   "outputs": [],
   "source": [
    "#Dopo 4 ore non ha ancora finito\n",
    "\n",
    "#if addNew('Details_reduce_TSNE_10_dim', risultati_minMax_scaler):\n",
    "    #risultati_minMax_scaler['Details_reduce_TSNE_10_dim'] = {model_to_string[m]: np.mean(addestra(m, X_details, y_details, g, nome_dataset='Details_reduce_TSNE_10_dim',  9, 9, logger_name=logger, scaling=MinMaxScaler(), dim_reduction=TSNE(n_components=10, method='exact'))) for m, g in zip(models, grids)}"
   ]
  },
  {
   "cell_type": "code",
   "execution_count": 46,
   "metadata": {},
   "outputs": [
    {
     "data": {
      "text/plain": [
       "\"add_column_to_results(risultati_minMax_scaler,\\n                          'Details_reduce_PCA_15_dim_tSNE_10_dim',\\n                          'RisultatiMinMaxScaler.json',\\n                          X_details, y_details,\\n                          models, grids,\\n                          dim_reduction=PCA_and_tSNE(15, 10))\""
      ]
     },
     "execution_count": 46,
     "metadata": {},
     "output_type": "execute_result"
    }
   ],
   "source": [
    "#DA PROVARE\n",
    "'''add_column_to_results(risultati_minMax_scaler,\n",
    "                          'Details_reduce_PCA_15_dim_tSNE_10_dim',\n",
    "                          'RisultatiMinMaxScaler.json',\n",
    "                          X_details, y_details,\n",
    "                          models, grids,\n",
    "                          dim_reduction=PCA_and_tSNE(15, 10))'''"
   ]
  },
  {
   "cell_type": "code",
   "execution_count": 47,
   "metadata": {},
   "outputs": [
    {
     "data": {
      "text/plain": [
       "\"add_column_to_results(risultati_minMax_scaler,\\n                          'Details_reduce_PCA_10_dim_tSNE_5_dim',\\n                          'RisultatiMinMaxScaler.json',\\n                          X_details, y_details,\\n                          models, grids,\\n                          dim_reduction=PCA_and_tSNE(10, 5))\""
      ]
     },
     "execution_count": 47,
     "metadata": {},
     "output_type": "execute_result"
    }
   ],
   "source": [
    "#DA PROVARE\n",
    "'''add_column_to_results(risultati_minMax_scaler,\n",
    "                          'Details_reduce_PCA_10_dim_tSNE_5_dim',\n",
    "                          'RisultatiMinMaxScaler.json',\n",
    "                          X_details, y_details,\n",
    "                          models, grids,\n",
    "                          dim_reduction=PCA_and_tSNE(10, 5))'''"
   ]
  },
  {
   "cell_type": "code",
   "execution_count": 48,
   "metadata": {},
   "outputs": [],
   "source": [
    "from sklearn.manifold import TSNE\n",
    "\n",
    "add_column_to_results(risultati_minMax_scaler, 'Details_reduce_TSNE_13_dim', 'RisultatiMinMaxScaler.json', X_details, y_details, models, grids, scaling=MinMaxScaler(), logger_name=logger, dim_reduction=TSNE(n_components=13, method='exact'))"
   ]
  },
  {
   "cell_type": "code",
   "execution_count": 49,
   "metadata": {},
   "outputs": [],
   "source": [
    "add_column_to_results(risultati_minMax_scaler, 'Details_reduce_TSNE_15_dim', 'RisultatiMinMaxScaler.json', X_details, y_details, models, grids, scaling=MinMaxScaler(), logger_name=logger, dim_reduction=TSNE(n_components=15, method='exact'))"
   ]
  },
  {
   "cell_type": "markdown",
   "metadata": {},
   "source": [
    "# Visualizzo tabella riassuntiva Usando come scaler MinMaxScaler"
   ]
  },
  {
   "cell_type": "code",
   "execution_count": 50,
   "metadata": {},
   "outputs": [
    {
     "data": {
      "text/html": [
       "<style  type=\"text/css\" >\n",
       "    #T_832404c2_4e66_11ea_9453_05081ed27666row1_col0 {\n",
       "            background-color:  yellow;\n",
       "        }    #T_832404c2_4e66_11ea_9453_05081ed27666row1_col1 {\n",
       "            background-color:  yellow;\n",
       "        }    #T_832404c2_4e66_11ea_9453_05081ed27666row2_col3 {\n",
       "            background-color:  yellow;\n",
       "        }    #T_832404c2_4e66_11ea_9453_05081ed27666row3_col10 {\n",
       "            background-color:  yellow;\n",
       "        }    #T_832404c2_4e66_11ea_9453_05081ed27666row4_col6 {\n",
       "            background-color:  yellow;\n",
       "        }    #T_832404c2_4e66_11ea_9453_05081ed27666row4_col7 {\n",
       "            background-color:  yellow;\n",
       "        }    #T_832404c2_4e66_11ea_9453_05081ed27666row5_col2 {\n",
       "            background-color:  yellow;\n",
       "        }    #T_832404c2_4e66_11ea_9453_05081ed27666row5_col4 {\n",
       "            background-color:  yellow;\n",
       "        }    #T_832404c2_4e66_11ea_9453_05081ed27666row5_col5 {\n",
       "            background-color:  yellow;\n",
       "        }    #T_832404c2_4e66_11ea_9453_05081ed27666row5_col8 {\n",
       "            background-color:  yellow;\n",
       "        }    #T_832404c2_4e66_11ea_9453_05081ed27666row5_col9 {\n",
       "            background-color:  yellow;\n",
       "        }</style><table id=\"T_832404c2_4e66_11ea_9453_05081ed27666\" ><thead>    <tr>        <th class=\"blank level0\" ></th>        <th class=\"col_heading level0 col0\" >Totali</th>        <th class=\"col_heading level0 col1\" >Totali_with_BMI</th>        <th class=\"col_heading level0 col2\" >Totali_with_DATA</th>        <th class=\"col_heading level0 col3\" >Totali_with_DATA_and_BMI</th>        <th class=\"col_heading level0 col4\" >Details</th>        <th class=\"col_heading level0 col5\" >Details_reduce_PCA_5_dim</th>        <th class=\"col_heading level0 col6\" >Details_reduce_PCA_10_dim</th>        <th class=\"col_heading level0 col7\" >Details_reduce_PCA_13_dim</th>        <th class=\"col_heading level0 col8\" >Details_reduce_PCA_15_dim</th>        <th class=\"col_heading level0 col9\" >Details_reduce_TSNE_13_dim</th>        <th class=\"col_heading level0 col10\" >Details_reduce_TSNE_15_dim</th>    </tr></thead><tbody>\n",
       "                <tr>\n",
       "                        <th id=\"T_832404c2_4e66_11ea_9453_05081ed27666level0_row0\" class=\"row_heading level0 row0\" >DT</th>\n",
       "                        <td id=\"T_832404c2_4e66_11ea_9453_05081ed27666row0_col0\" class=\"data row0 col0\" >0.62</td>\n",
       "                        <td id=\"T_832404c2_4e66_11ea_9453_05081ed27666row0_col1\" class=\"data row0 col1\" >0.55</td>\n",
       "                        <td id=\"T_832404c2_4e66_11ea_9453_05081ed27666row0_col2\" class=\"data row0 col2\" >0.65</td>\n",
       "                        <td id=\"T_832404c2_4e66_11ea_9453_05081ed27666row0_col3\" class=\"data row0 col3\" >0.64</td>\n",
       "                        <td id=\"T_832404c2_4e66_11ea_9453_05081ed27666row0_col4\" class=\"data row0 col4\" >0.70</td>\n",
       "                        <td id=\"T_832404c2_4e66_11ea_9453_05081ed27666row0_col5\" class=\"data row0 col5\" >0.62</td>\n",
       "                        <td id=\"T_832404c2_4e66_11ea_9453_05081ed27666row0_col6\" class=\"data row0 col6\" >0.61</td>\n",
       "                        <td id=\"T_832404c2_4e66_11ea_9453_05081ed27666row0_col7\" class=\"data row0 col7\" >0.57</td>\n",
       "                        <td id=\"T_832404c2_4e66_11ea_9453_05081ed27666row0_col8\" class=\"data row0 col8\" >0.59</td>\n",
       "                        <td id=\"T_832404c2_4e66_11ea_9453_05081ed27666row0_col9\" class=\"data row0 col9\" >0.52</td>\n",
       "                        <td id=\"T_832404c2_4e66_11ea_9453_05081ed27666row0_col10\" class=\"data row0 col10\" >0.56</td>\n",
       "            </tr>\n",
       "            <tr>\n",
       "                        <th id=\"T_832404c2_4e66_11ea_9453_05081ed27666level0_row1\" class=\"row_heading level0 row1\" >LD</th>\n",
       "                        <td id=\"T_832404c2_4e66_11ea_9453_05081ed27666row1_col0\" class=\"data row1 col0\" >0.71</td>\n",
       "                        <td id=\"T_832404c2_4e66_11ea_9453_05081ed27666row1_col1\" class=\"data row1 col1\" >0.69</td>\n",
       "                        <td id=\"T_832404c2_4e66_11ea_9453_05081ed27666row1_col2\" class=\"data row1 col2\" >0.73</td>\n",
       "                        <td id=\"T_832404c2_4e66_11ea_9453_05081ed27666row1_col3\" class=\"data row1 col3\" >0.72</td>\n",
       "                        <td id=\"T_832404c2_4e66_11ea_9453_05081ed27666row1_col4\" class=\"data row1 col4\" >0.64</td>\n",
       "                        <td id=\"T_832404c2_4e66_11ea_9453_05081ed27666row1_col5\" class=\"data row1 col5\" >0.66</td>\n",
       "                        <td id=\"T_832404c2_4e66_11ea_9453_05081ed27666row1_col6\" class=\"data row1 col6\" >0.62</td>\n",
       "                        <td id=\"T_832404c2_4e66_11ea_9453_05081ed27666row1_col7\" class=\"data row1 col7\" >0.60</td>\n",
       "                        <td id=\"T_832404c2_4e66_11ea_9453_05081ed27666row1_col8\" class=\"data row1 col8\" >0.62</td>\n",
       "                        <td id=\"T_832404c2_4e66_11ea_9453_05081ed27666row1_col9\" class=\"data row1 col9\" >0.44</td>\n",
       "                        <td id=\"T_832404c2_4e66_11ea_9453_05081ed27666row1_col10\" class=\"data row1 col10\" >0.40</td>\n",
       "            </tr>\n",
       "            <tr>\n",
       "                        <th id=\"T_832404c2_4e66_11ea_9453_05081ed27666level0_row2\" class=\"row_heading level0 row2\" >MLP</th>\n",
       "                        <td id=\"T_832404c2_4e66_11ea_9453_05081ed27666row2_col0\" class=\"data row2 col0\" >0.63</td>\n",
       "                        <td id=\"T_832404c2_4e66_11ea_9453_05081ed27666row2_col1\" class=\"data row2 col1\" >0.65</td>\n",
       "                        <td id=\"T_832404c2_4e66_11ea_9453_05081ed27666row2_col2\" class=\"data row2 col2\" >0.71</td>\n",
       "                        <td id=\"T_832404c2_4e66_11ea_9453_05081ed27666row2_col3\" class=\"data row2 col3\" >0.77</td>\n",
       "                        <td id=\"T_832404c2_4e66_11ea_9453_05081ed27666row2_col4\" class=\"data row2 col4\" >0.66</td>\n",
       "                        <td id=\"T_832404c2_4e66_11ea_9453_05081ed27666row2_col5\" class=\"data row2 col5\" >0.65</td>\n",
       "                        <td id=\"T_832404c2_4e66_11ea_9453_05081ed27666row2_col6\" class=\"data row2 col6\" >0.64</td>\n",
       "                        <td id=\"T_832404c2_4e66_11ea_9453_05081ed27666row2_col7\" class=\"data row2 col7\" >0.61</td>\n",
       "                        <td id=\"T_832404c2_4e66_11ea_9453_05081ed27666row2_col8\" class=\"data row2 col8\" >0.63</td>\n",
       "                        <td id=\"T_832404c2_4e66_11ea_9453_05081ed27666row2_col9\" class=\"data row2 col9\" >0.52</td>\n",
       "                        <td id=\"T_832404c2_4e66_11ea_9453_05081ed27666row2_col10\" class=\"data row2 col10\" >0.44</td>\n",
       "            </tr>\n",
       "            <tr>\n",
       "                        <th id=\"T_832404c2_4e66_11ea_9453_05081ed27666level0_row3\" class=\"row_heading level0 row3\" >NB</th>\n",
       "                        <td id=\"T_832404c2_4e66_11ea_9453_05081ed27666row3_col0\" class=\"data row3 col0\" >0.69</td>\n",
       "                        <td id=\"T_832404c2_4e66_11ea_9453_05081ed27666row3_col1\" class=\"data row3 col1\" >0.69</td>\n",
       "                        <td id=\"T_832404c2_4e66_11ea_9453_05081ed27666row3_col2\" class=\"data row3 col2\" >0.73</td>\n",
       "                        <td id=\"T_832404c2_4e66_11ea_9453_05081ed27666row3_col3\" class=\"data row3 col3\" >0.75</td>\n",
       "                        <td id=\"T_832404c2_4e66_11ea_9453_05081ed27666row3_col4\" class=\"data row3 col4\" >0.63</td>\n",
       "                        <td id=\"T_832404c2_4e66_11ea_9453_05081ed27666row3_col5\" class=\"data row3 col5\" >0.67</td>\n",
       "                        <td id=\"T_832404c2_4e66_11ea_9453_05081ed27666row3_col6\" class=\"data row3 col6\" >0.65</td>\n",
       "                        <td id=\"T_832404c2_4e66_11ea_9453_05081ed27666row3_col7\" class=\"data row3 col7\" >0.67</td>\n",
       "                        <td id=\"T_832404c2_4e66_11ea_9453_05081ed27666row3_col8\" class=\"data row3 col8\" >0.67</td>\n",
       "                        <td id=\"T_832404c2_4e66_11ea_9453_05081ed27666row3_col9\" class=\"data row3 col9\" >0.57</td>\n",
       "                        <td id=\"T_832404c2_4e66_11ea_9453_05081ed27666row3_col10\" class=\"data row3 col10\" >0.59</td>\n",
       "            </tr>\n",
       "            <tr>\n",
       "                        <th id=\"T_832404c2_4e66_11ea_9453_05081ed27666level0_row4\" class=\"row_heading level0 row4\" >RF</th>\n",
       "                        <td id=\"T_832404c2_4e66_11ea_9453_05081ed27666row4_col0\" class=\"data row4 col0\" >0.61</td>\n",
       "                        <td id=\"T_832404c2_4e66_11ea_9453_05081ed27666row4_col1\" class=\"data row4 col1\" >0.62</td>\n",
       "                        <td id=\"T_832404c2_4e66_11ea_9453_05081ed27666row4_col2\" class=\"data row4 col2\" >0.62</td>\n",
       "                        <td id=\"T_832404c2_4e66_11ea_9453_05081ed27666row4_col3\" class=\"data row4 col3\" >0.62</td>\n",
       "                        <td id=\"T_832404c2_4e66_11ea_9453_05081ed27666row4_col4\" class=\"data row4 col4\" >0.67</td>\n",
       "                        <td id=\"T_832404c2_4e66_11ea_9453_05081ed27666row4_col5\" class=\"data row4 col5\" >0.66</td>\n",
       "                        <td id=\"T_832404c2_4e66_11ea_9453_05081ed27666row4_col6\" class=\"data row4 col6\" >0.66</td>\n",
       "                        <td id=\"T_832404c2_4e66_11ea_9453_05081ed27666row4_col7\" class=\"data row4 col7\" >0.71</td>\n",
       "                        <td id=\"T_832404c2_4e66_11ea_9453_05081ed27666row4_col8\" class=\"data row4 col8\" >0.68</td>\n",
       "                        <td id=\"T_832404c2_4e66_11ea_9453_05081ed27666row4_col9\" class=\"data row4 col9\" >0.46</td>\n",
       "                        <td id=\"T_832404c2_4e66_11ea_9453_05081ed27666row4_col10\" class=\"data row4 col10\" >0.52</td>\n",
       "            </tr>\n",
       "            <tr>\n",
       "                        <th id=\"T_832404c2_4e66_11ea_9453_05081ed27666level0_row5\" class=\"row_heading level0 row5\" >SVC</th>\n",
       "                        <td id=\"T_832404c2_4e66_11ea_9453_05081ed27666row5_col0\" class=\"data row5 col0\" >0.67</td>\n",
       "                        <td id=\"T_832404c2_4e66_11ea_9453_05081ed27666row5_col1\" class=\"data row5 col1\" >0.62</td>\n",
       "                        <td id=\"T_832404c2_4e66_11ea_9453_05081ed27666row5_col2\" class=\"data row5 col2\" >0.74</td>\n",
       "                        <td id=\"T_832404c2_4e66_11ea_9453_05081ed27666row5_col3\" class=\"data row5 col3\" >0.74</td>\n",
       "                        <td id=\"T_832404c2_4e66_11ea_9453_05081ed27666row5_col4\" class=\"data row5 col4\" >0.74</td>\n",
       "                        <td id=\"T_832404c2_4e66_11ea_9453_05081ed27666row5_col5\" class=\"data row5 col5\" >0.70</td>\n",
       "                        <td id=\"T_832404c2_4e66_11ea_9453_05081ed27666row5_col6\" class=\"data row5 col6\" >0.65</td>\n",
       "                        <td id=\"T_832404c2_4e66_11ea_9453_05081ed27666row5_col7\" class=\"data row5 col7\" >0.67</td>\n",
       "                        <td id=\"T_832404c2_4e66_11ea_9453_05081ed27666row5_col8\" class=\"data row5 col8\" >0.70</td>\n",
       "                        <td id=\"T_832404c2_4e66_11ea_9453_05081ed27666row5_col9\" class=\"data row5 col9\" >0.58</td>\n",
       "                        <td id=\"T_832404c2_4e66_11ea_9453_05081ed27666row5_col10\" class=\"data row5 col10\" >0.42</td>\n",
       "            </tr>\n",
       "    </tbody></table>"
      ],
      "text/plain": [
       "<pandas.io.formats.style.Styler at 0x7f56a470f470>"
      ]
     },
     "execution_count": 50,
     "metadata": {},
     "output_type": "execute_result"
    }
   ],
   "source": [
    "tableMinMaxScaler = pd.DataFrame(risultati_minMax_scaler)\n",
    "tableMinMaxScaler.style.apply(highlight_max_in_row, axis=0).format(float_formatter)"
   ]
  },
  {
   "cell_type": "code",
   "execution_count": 51,
   "metadata": {},
   "outputs": [
    {
     "data": {
      "text/html": [
       "<style  type=\"text/css\" >\n",
       "    #T_83e4b834_4e66_11ea_9453_05081ed27666row2_col3 {\n",
       "            background-color:  darkorange;\n",
       "        }</style><table id=\"T_83e4b834_4e66_11ea_9453_05081ed27666\" ><thead>    <tr>        <th class=\"blank level0\" ></th>        <th class=\"col_heading level0 col0\" >Totali</th>        <th class=\"col_heading level0 col1\" >Totali_with_BMI</th>        <th class=\"col_heading level0 col2\" >Totali_with_DATA</th>        <th class=\"col_heading level0 col3\" >Totali_with_DATA_and_BMI</th>        <th class=\"col_heading level0 col4\" >Details</th>        <th class=\"col_heading level0 col5\" >Details_reduce_PCA_5_dim</th>        <th class=\"col_heading level0 col6\" >Details_reduce_PCA_10_dim</th>        <th class=\"col_heading level0 col7\" >Details_reduce_PCA_13_dim</th>        <th class=\"col_heading level0 col8\" >Details_reduce_PCA_15_dim</th>        <th class=\"col_heading level0 col9\" >Details_reduce_TSNE_13_dim</th>        <th class=\"col_heading level0 col10\" >Details_reduce_TSNE_15_dim</th>    </tr></thead><tbody>\n",
       "                <tr>\n",
       "                        <th id=\"T_83e4b834_4e66_11ea_9453_05081ed27666level0_row0\" class=\"row_heading level0 row0\" >DT</th>\n",
       "                        <td id=\"T_83e4b834_4e66_11ea_9453_05081ed27666row0_col0\" class=\"data row0 col0\" >0.62</td>\n",
       "                        <td id=\"T_83e4b834_4e66_11ea_9453_05081ed27666row0_col1\" class=\"data row0 col1\" >0.55</td>\n",
       "                        <td id=\"T_83e4b834_4e66_11ea_9453_05081ed27666row0_col2\" class=\"data row0 col2\" >0.65</td>\n",
       "                        <td id=\"T_83e4b834_4e66_11ea_9453_05081ed27666row0_col3\" class=\"data row0 col3\" >0.64</td>\n",
       "                        <td id=\"T_83e4b834_4e66_11ea_9453_05081ed27666row0_col4\" class=\"data row0 col4\" >0.70</td>\n",
       "                        <td id=\"T_83e4b834_4e66_11ea_9453_05081ed27666row0_col5\" class=\"data row0 col5\" >0.62</td>\n",
       "                        <td id=\"T_83e4b834_4e66_11ea_9453_05081ed27666row0_col6\" class=\"data row0 col6\" >0.61</td>\n",
       "                        <td id=\"T_83e4b834_4e66_11ea_9453_05081ed27666row0_col7\" class=\"data row0 col7\" >0.57</td>\n",
       "                        <td id=\"T_83e4b834_4e66_11ea_9453_05081ed27666row0_col8\" class=\"data row0 col8\" >0.59</td>\n",
       "                        <td id=\"T_83e4b834_4e66_11ea_9453_05081ed27666row0_col9\" class=\"data row0 col9\" >0.52</td>\n",
       "                        <td id=\"T_83e4b834_4e66_11ea_9453_05081ed27666row0_col10\" class=\"data row0 col10\" >0.56</td>\n",
       "            </tr>\n",
       "            <tr>\n",
       "                        <th id=\"T_83e4b834_4e66_11ea_9453_05081ed27666level0_row1\" class=\"row_heading level0 row1\" >LD</th>\n",
       "                        <td id=\"T_83e4b834_4e66_11ea_9453_05081ed27666row1_col0\" class=\"data row1 col0\" >0.71</td>\n",
       "                        <td id=\"T_83e4b834_4e66_11ea_9453_05081ed27666row1_col1\" class=\"data row1 col1\" >0.69</td>\n",
       "                        <td id=\"T_83e4b834_4e66_11ea_9453_05081ed27666row1_col2\" class=\"data row1 col2\" >0.73</td>\n",
       "                        <td id=\"T_83e4b834_4e66_11ea_9453_05081ed27666row1_col3\" class=\"data row1 col3\" >0.72</td>\n",
       "                        <td id=\"T_83e4b834_4e66_11ea_9453_05081ed27666row1_col4\" class=\"data row1 col4\" >0.64</td>\n",
       "                        <td id=\"T_83e4b834_4e66_11ea_9453_05081ed27666row1_col5\" class=\"data row1 col5\" >0.66</td>\n",
       "                        <td id=\"T_83e4b834_4e66_11ea_9453_05081ed27666row1_col6\" class=\"data row1 col6\" >0.62</td>\n",
       "                        <td id=\"T_83e4b834_4e66_11ea_9453_05081ed27666row1_col7\" class=\"data row1 col7\" >0.60</td>\n",
       "                        <td id=\"T_83e4b834_4e66_11ea_9453_05081ed27666row1_col8\" class=\"data row1 col8\" >0.62</td>\n",
       "                        <td id=\"T_83e4b834_4e66_11ea_9453_05081ed27666row1_col9\" class=\"data row1 col9\" >0.44</td>\n",
       "                        <td id=\"T_83e4b834_4e66_11ea_9453_05081ed27666row1_col10\" class=\"data row1 col10\" >0.40</td>\n",
       "            </tr>\n",
       "            <tr>\n",
       "                        <th id=\"T_83e4b834_4e66_11ea_9453_05081ed27666level0_row2\" class=\"row_heading level0 row2\" >MLP</th>\n",
       "                        <td id=\"T_83e4b834_4e66_11ea_9453_05081ed27666row2_col0\" class=\"data row2 col0\" >0.63</td>\n",
       "                        <td id=\"T_83e4b834_4e66_11ea_9453_05081ed27666row2_col1\" class=\"data row2 col1\" >0.65</td>\n",
       "                        <td id=\"T_83e4b834_4e66_11ea_9453_05081ed27666row2_col2\" class=\"data row2 col2\" >0.71</td>\n",
       "                        <td id=\"T_83e4b834_4e66_11ea_9453_05081ed27666row2_col3\" class=\"data row2 col3\" >0.77</td>\n",
       "                        <td id=\"T_83e4b834_4e66_11ea_9453_05081ed27666row2_col4\" class=\"data row2 col4\" >0.66</td>\n",
       "                        <td id=\"T_83e4b834_4e66_11ea_9453_05081ed27666row2_col5\" class=\"data row2 col5\" >0.65</td>\n",
       "                        <td id=\"T_83e4b834_4e66_11ea_9453_05081ed27666row2_col6\" class=\"data row2 col6\" >0.64</td>\n",
       "                        <td id=\"T_83e4b834_4e66_11ea_9453_05081ed27666row2_col7\" class=\"data row2 col7\" >0.61</td>\n",
       "                        <td id=\"T_83e4b834_4e66_11ea_9453_05081ed27666row2_col8\" class=\"data row2 col8\" >0.63</td>\n",
       "                        <td id=\"T_83e4b834_4e66_11ea_9453_05081ed27666row2_col9\" class=\"data row2 col9\" >0.52</td>\n",
       "                        <td id=\"T_83e4b834_4e66_11ea_9453_05081ed27666row2_col10\" class=\"data row2 col10\" >0.44</td>\n",
       "            </tr>\n",
       "            <tr>\n",
       "                        <th id=\"T_83e4b834_4e66_11ea_9453_05081ed27666level0_row3\" class=\"row_heading level0 row3\" >NB</th>\n",
       "                        <td id=\"T_83e4b834_4e66_11ea_9453_05081ed27666row3_col0\" class=\"data row3 col0\" >0.69</td>\n",
       "                        <td id=\"T_83e4b834_4e66_11ea_9453_05081ed27666row3_col1\" class=\"data row3 col1\" >0.69</td>\n",
       "                        <td id=\"T_83e4b834_4e66_11ea_9453_05081ed27666row3_col2\" class=\"data row3 col2\" >0.73</td>\n",
       "                        <td id=\"T_83e4b834_4e66_11ea_9453_05081ed27666row3_col3\" class=\"data row3 col3\" >0.75</td>\n",
       "                        <td id=\"T_83e4b834_4e66_11ea_9453_05081ed27666row3_col4\" class=\"data row3 col4\" >0.63</td>\n",
       "                        <td id=\"T_83e4b834_4e66_11ea_9453_05081ed27666row3_col5\" class=\"data row3 col5\" >0.67</td>\n",
       "                        <td id=\"T_83e4b834_4e66_11ea_9453_05081ed27666row3_col6\" class=\"data row3 col6\" >0.65</td>\n",
       "                        <td id=\"T_83e4b834_4e66_11ea_9453_05081ed27666row3_col7\" class=\"data row3 col7\" >0.67</td>\n",
       "                        <td id=\"T_83e4b834_4e66_11ea_9453_05081ed27666row3_col8\" class=\"data row3 col8\" >0.67</td>\n",
       "                        <td id=\"T_83e4b834_4e66_11ea_9453_05081ed27666row3_col9\" class=\"data row3 col9\" >0.57</td>\n",
       "                        <td id=\"T_83e4b834_4e66_11ea_9453_05081ed27666row3_col10\" class=\"data row3 col10\" >0.59</td>\n",
       "            </tr>\n",
       "            <tr>\n",
       "                        <th id=\"T_83e4b834_4e66_11ea_9453_05081ed27666level0_row4\" class=\"row_heading level0 row4\" >RF</th>\n",
       "                        <td id=\"T_83e4b834_4e66_11ea_9453_05081ed27666row4_col0\" class=\"data row4 col0\" >0.61</td>\n",
       "                        <td id=\"T_83e4b834_4e66_11ea_9453_05081ed27666row4_col1\" class=\"data row4 col1\" >0.62</td>\n",
       "                        <td id=\"T_83e4b834_4e66_11ea_9453_05081ed27666row4_col2\" class=\"data row4 col2\" >0.62</td>\n",
       "                        <td id=\"T_83e4b834_4e66_11ea_9453_05081ed27666row4_col3\" class=\"data row4 col3\" >0.62</td>\n",
       "                        <td id=\"T_83e4b834_4e66_11ea_9453_05081ed27666row4_col4\" class=\"data row4 col4\" >0.67</td>\n",
       "                        <td id=\"T_83e4b834_4e66_11ea_9453_05081ed27666row4_col5\" class=\"data row4 col5\" >0.66</td>\n",
       "                        <td id=\"T_83e4b834_4e66_11ea_9453_05081ed27666row4_col6\" class=\"data row4 col6\" >0.66</td>\n",
       "                        <td id=\"T_83e4b834_4e66_11ea_9453_05081ed27666row4_col7\" class=\"data row4 col7\" >0.71</td>\n",
       "                        <td id=\"T_83e4b834_4e66_11ea_9453_05081ed27666row4_col8\" class=\"data row4 col8\" >0.68</td>\n",
       "                        <td id=\"T_83e4b834_4e66_11ea_9453_05081ed27666row4_col9\" class=\"data row4 col9\" >0.46</td>\n",
       "                        <td id=\"T_83e4b834_4e66_11ea_9453_05081ed27666row4_col10\" class=\"data row4 col10\" >0.52</td>\n",
       "            </tr>\n",
       "            <tr>\n",
       "                        <th id=\"T_83e4b834_4e66_11ea_9453_05081ed27666level0_row5\" class=\"row_heading level0 row5\" >SVC</th>\n",
       "                        <td id=\"T_83e4b834_4e66_11ea_9453_05081ed27666row5_col0\" class=\"data row5 col0\" >0.67</td>\n",
       "                        <td id=\"T_83e4b834_4e66_11ea_9453_05081ed27666row5_col1\" class=\"data row5 col1\" >0.62</td>\n",
       "                        <td id=\"T_83e4b834_4e66_11ea_9453_05081ed27666row5_col2\" class=\"data row5 col2\" >0.74</td>\n",
       "                        <td id=\"T_83e4b834_4e66_11ea_9453_05081ed27666row5_col3\" class=\"data row5 col3\" >0.74</td>\n",
       "                        <td id=\"T_83e4b834_4e66_11ea_9453_05081ed27666row5_col4\" class=\"data row5 col4\" >0.74</td>\n",
       "                        <td id=\"T_83e4b834_4e66_11ea_9453_05081ed27666row5_col5\" class=\"data row5 col5\" >0.70</td>\n",
       "                        <td id=\"T_83e4b834_4e66_11ea_9453_05081ed27666row5_col6\" class=\"data row5 col6\" >0.65</td>\n",
       "                        <td id=\"T_83e4b834_4e66_11ea_9453_05081ed27666row5_col7\" class=\"data row5 col7\" >0.67</td>\n",
       "                        <td id=\"T_83e4b834_4e66_11ea_9453_05081ed27666row5_col8\" class=\"data row5 col8\" >0.70</td>\n",
       "                        <td id=\"T_83e4b834_4e66_11ea_9453_05081ed27666row5_col9\" class=\"data row5 col9\" >0.58</td>\n",
       "                        <td id=\"T_83e4b834_4e66_11ea_9453_05081ed27666row5_col10\" class=\"data row5 col10\" >0.42</td>\n",
       "            </tr>\n",
       "    </tbody></table>"
      ],
      "text/plain": [
       "<pandas.io.formats.style.Styler at 0x7f56a57b9208>"
      ]
     },
     "execution_count": 51,
     "metadata": {},
     "output_type": "execute_result"
    }
   ],
   "source": [
    "tableMinMaxScaler.style.apply(highlight_max, axis=None).format(float_formatter)"
   ]
  },
  {
   "cell_type": "markdown",
   "metadata": {},
   "source": [
    "# Visualizzo il massimo score possibile relativo ad ogni dataset"
   ]
  },
  {
   "cell_type": "code",
   "execution_count": 52,
   "metadata": {},
   "outputs": [
    {
     "data": {
      "text/html": [
       "<style  type=\"text/css\" >\n",
       "    #T_84cc7174_4e66_11ea_9453_05081ed27666row3_col0 {\n",
       "            background-color:  darkorange;\n",
       "        }</style><table id=\"T_84cc7174_4e66_11ea_9453_05081ed27666\" ><thead>    <tr>        <th class=\"blank level0\" ></th>        <th class=\"col_heading level0 col0\" >MinMaxScaler</th>    </tr></thead><tbody>\n",
       "                <tr>\n",
       "                        <th id=\"T_84cc7174_4e66_11ea_9453_05081ed27666level0_row0\" class=\"row_heading level0 row0\" >Totali</th>\n",
       "                        <td id=\"T_84cc7174_4e66_11ea_9453_05081ed27666row0_col0\" class=\"data row0 col0\" >0.71</td>\n",
       "            </tr>\n",
       "            <tr>\n",
       "                        <th id=\"T_84cc7174_4e66_11ea_9453_05081ed27666level0_row1\" class=\"row_heading level0 row1\" >Totali_with_BMI</th>\n",
       "                        <td id=\"T_84cc7174_4e66_11ea_9453_05081ed27666row1_col0\" class=\"data row1 col0\" >0.69</td>\n",
       "            </tr>\n",
       "            <tr>\n",
       "                        <th id=\"T_84cc7174_4e66_11ea_9453_05081ed27666level0_row2\" class=\"row_heading level0 row2\" >Totali_with_DATA</th>\n",
       "                        <td id=\"T_84cc7174_4e66_11ea_9453_05081ed27666row2_col0\" class=\"data row2 col0\" >0.74</td>\n",
       "            </tr>\n",
       "            <tr>\n",
       "                        <th id=\"T_84cc7174_4e66_11ea_9453_05081ed27666level0_row3\" class=\"row_heading level0 row3\" >Totali_with_DATA_and_BMI</th>\n",
       "                        <td id=\"T_84cc7174_4e66_11ea_9453_05081ed27666row3_col0\" class=\"data row3 col0\" >0.77</td>\n",
       "            </tr>\n",
       "            <tr>\n",
       "                        <th id=\"T_84cc7174_4e66_11ea_9453_05081ed27666level0_row4\" class=\"row_heading level0 row4\" >Details</th>\n",
       "                        <td id=\"T_84cc7174_4e66_11ea_9453_05081ed27666row4_col0\" class=\"data row4 col0\" >0.74</td>\n",
       "            </tr>\n",
       "            <tr>\n",
       "                        <th id=\"T_84cc7174_4e66_11ea_9453_05081ed27666level0_row5\" class=\"row_heading level0 row5\" >Details_reduce_PCA_5_dim</th>\n",
       "                        <td id=\"T_84cc7174_4e66_11ea_9453_05081ed27666row5_col0\" class=\"data row5 col0\" >0.70</td>\n",
       "            </tr>\n",
       "            <tr>\n",
       "                        <th id=\"T_84cc7174_4e66_11ea_9453_05081ed27666level0_row6\" class=\"row_heading level0 row6\" >Details_reduce_PCA_10_dim</th>\n",
       "                        <td id=\"T_84cc7174_4e66_11ea_9453_05081ed27666row6_col0\" class=\"data row6 col0\" >0.66</td>\n",
       "            </tr>\n",
       "            <tr>\n",
       "                        <th id=\"T_84cc7174_4e66_11ea_9453_05081ed27666level0_row7\" class=\"row_heading level0 row7\" >Details_reduce_PCA_13_dim</th>\n",
       "                        <td id=\"T_84cc7174_4e66_11ea_9453_05081ed27666row7_col0\" class=\"data row7 col0\" >0.71</td>\n",
       "            </tr>\n",
       "            <tr>\n",
       "                        <th id=\"T_84cc7174_4e66_11ea_9453_05081ed27666level0_row8\" class=\"row_heading level0 row8\" >Details_reduce_PCA_15_dim</th>\n",
       "                        <td id=\"T_84cc7174_4e66_11ea_9453_05081ed27666row8_col0\" class=\"data row8 col0\" >0.70</td>\n",
       "            </tr>\n",
       "            <tr>\n",
       "                        <th id=\"T_84cc7174_4e66_11ea_9453_05081ed27666level0_row9\" class=\"row_heading level0 row9\" >Details_reduce_TSNE_13_dim</th>\n",
       "                        <td id=\"T_84cc7174_4e66_11ea_9453_05081ed27666row9_col0\" class=\"data row9 col0\" >0.58</td>\n",
       "            </tr>\n",
       "            <tr>\n",
       "                        <th id=\"T_84cc7174_4e66_11ea_9453_05081ed27666level0_row10\" class=\"row_heading level0 row10\" >Details_reduce_TSNE_15_dim</th>\n",
       "                        <td id=\"T_84cc7174_4e66_11ea_9453_05081ed27666row10_col0\" class=\"data row10 col0\" >0.59</td>\n",
       "            </tr>\n",
       "    </tbody></table>"
      ],
      "text/plain": [
       "<pandas.io.formats.style.Styler at 0x7f56a4709128>"
      ]
     },
     "execution_count": 52,
     "metadata": {},
     "output_type": "execute_result"
    }
   ],
   "source": [
    "tableMaxMinMasxScaler = pd.DataFrame(tableMinMaxScaler.max(), columns=['MinMaxScaler'])\n",
    "tableMaxMinMasxScaler.style.apply(highlight_max, axis=0).format(float_formatter)"
   ]
  },
  {
   "cell_type": "markdown",
   "metadata": {},
   "source": [
    "#### Lo score massimo calcolato usando MinMaxScaler è stato ottenuto usando 'Total_with_DATA' con MLP ed è di 0.77"
   ]
  },
  {
   "cell_type": "markdown",
   "metadata": {},
   "source": [
    "# Usando come scaler RobustScaler"
   ]
  },
  {
   "cell_type": "code",
   "execution_count": 53,
   "metadata": {},
   "outputs": [],
   "source": [
    "from sklearn.preprocessing import RobustScaler\n",
    "import pandas as pd\n",
    "\n",
    "risultati_RobustScaler = {}"
   ]
  },
  {
   "cell_type": "code",
   "execution_count": 54,
   "metadata": {},
   "outputs": [],
   "source": [
    "add_column_to_results(risultati_RobustScaler, 'Totali', 'RisultatiRobustScaler.json', X_total, y_total, models, grids, scaling=RobustScaler(), logger_name=logger)"
   ]
  },
  {
   "cell_type": "code",
   "execution_count": 55,
   "metadata": {},
   "outputs": [],
   "source": [
    "add_column_to_results(risultati_RobustScaler, 'Totali_with_BMI', 'RisultatiRobustScaler.json', X_total_with_BMI, y_total_with_BMI, models, grids, scaling=RobustScaler(), logger_name=logger)"
   ]
  },
  {
   "cell_type": "code",
   "execution_count": 56,
   "metadata": {},
   "outputs": [],
   "source": [
    "add_column_to_results(risultati_RobustScaler, 'Totali_with_DATA', 'RisultatiRobustScaler.json', X_total_with_data, y_total_with_data, models, grids, scaling=RobustScaler(), logger_name=logger)"
   ]
  },
  {
   "cell_type": "code",
   "execution_count": 57,
   "metadata": {},
   "outputs": [],
   "source": [
    "add_column_to_results(risultati_RobustScaler, 'Totali_with_DATA_and_BMI', 'RisultatiRobustScaler.json', X_total_with_data_and_BMI, y_total_with_data_and_BMI, models, grids, scaling=RobustScaler(), logger_name=logger)"
   ]
  },
  {
   "cell_type": "code",
   "execution_count": 58,
   "metadata": {},
   "outputs": [],
   "source": [
    "add_column_to_results(risultati_RobustScaler, 'Details', 'RisultatiRobustScaler.json', X_details, y_details, models, grids, scaling=RobustScaler(), logger_name=logger)"
   ]
  },
  {
   "cell_type": "code",
   "execution_count": 59,
   "metadata": {},
   "outputs": [],
   "source": [
    "add_column_to_results(risultati_RobustScaler, 'Details_reduce_PCA_5_dim', 'RisultatiRobustScaler.json', X_details, y_details, models, grids, scaling=RobustScaler(), logger_name=logger, dim_reduction=PCA(n_components=5))"
   ]
  },
  {
   "cell_type": "code",
   "execution_count": 60,
   "metadata": {},
   "outputs": [],
   "source": [
    "add_column_to_results(risultati_RobustScaler, 'Details_reduce_PCA_10_dim', 'RisultatiRobustScaler.json', X_details, y_details, models, grids, scaling=RobustScaler(), logger_name=logger, dim_reduction=PCA(n_components=10))"
   ]
  },
  {
   "cell_type": "code",
   "execution_count": 61,
   "metadata": {},
   "outputs": [],
   "source": [
    "add_column_to_results(risultati_RobustScaler, 'Details_reduce_PCA_13_dim', 'RisultatiRobustScaler.json', X_details, y_details, models, grids, scaling=RobustScaler(), logger_name=logger, dim_reduction=PCA(n_components=13))"
   ]
  },
  {
   "cell_type": "code",
   "execution_count": 62,
   "metadata": {},
   "outputs": [],
   "source": [
    "add_column_to_results(risultati_RobustScaler, 'Details_reduce_PCA_15_dim', 'RisultatiRobustScaler.json', X_details, y_details, models, grids, scaling=RobustScaler(), logger_name=logger, dim_reduction=PCA(n_components=15))"
   ]
  },
  {
   "cell_type": "code",
   "execution_count": 63,
   "metadata": {},
   "outputs": [],
   "source": [
    "from sklearn.manifold import TSNE\n",
    "\n",
    "#impiega troppo tempo\n",
    "#if addNew('Details_reduce_TSNE_5_dim', risultati_RobustScaler):\n",
    "    #risultati_RobustScaler['Details_reduce_TSNE_5_dim'] = {model_to_string[m]: np.mean(addestra(m, X_details, y_details, g, 9, 9, nome_dataset='Details_reduce_TSNE_5_dim', logger_name=logger, scaling=RobustScaler(), dim_reduction=TSNE(n_components=5, method='exact'))) for m, g in zip(models, grids)}"
   ]
  },
  {
   "cell_type": "code",
   "execution_count": 64,
   "metadata": {},
   "outputs": [],
   "source": [
    "#impiega troppo tempo\n",
    "#if addNew('Details_reduce_TSNE_10_dim', risultati_RobustScaler):\n",
    "    #risultati_RobustScaler['Details_reduce_TSNE_10_dim'] = {model_to_string[m]: np.mean(addestra(m, X_details, y_details, g, 9, 9, nome_dataset='Details_reduce_TSNE_10_dim', useLogger=True, scaling=RobustScaler(), dim_reduction=TSNE(n_components=10, method='exact'))) for m, g in zip(models, grids)}"
   ]
  },
  {
   "cell_type": "code",
   "execution_count": 65,
   "metadata": {},
   "outputs": [
    {
     "data": {
      "text/plain": [
       "\"add_column_to_results(risultati_RobustScaler,\\n                          'Details_reduce_PCA_15_dim_tSNE_10_dim',\\n                          'RisultatiRobustScaler.json',\\n                          X_details, y_details,\\n                          models, grids,\\n                          dim_reduction=PCA_and_tSNE(15, 10))\""
      ]
     },
     "execution_count": 65,
     "metadata": {},
     "output_type": "execute_result"
    }
   ],
   "source": [
    "#DA PROVARE\n",
    "'''add_column_to_results(risultati_RobustScaler,\n",
    "                          'Details_reduce_PCA_15_dim_tSNE_10_dim',\n",
    "                          'RisultatiRobustScaler.json',\n",
    "                          X_details, y_details,\n",
    "                          models, grids,\n",
    "                          dim_reduction=PCA_and_tSNE(15, 10))'''"
   ]
  },
  {
   "cell_type": "code",
   "execution_count": 66,
   "metadata": {},
   "outputs": [
    {
     "data": {
      "text/plain": [
       "\"add_column_to_results(risultati_RobustScaler,\\n                          'Details_reduce_PCA_10_dim_tSNE_5_dim',\\n                          'RisultatiRobustScaler.json',\\n                          X_details, y_details,\\n                          models, grids,\\n                          dim_reduction=PCA_and_tSNE(10, 5))\""
      ]
     },
     "execution_count": 66,
     "metadata": {},
     "output_type": "execute_result"
    }
   ],
   "source": [
    "#DA PROVARE\n",
    "'''add_column_to_results(risultati_RobustScaler,\n",
    "                          'Details_reduce_PCA_10_dim_tSNE_5_dim',\n",
    "                          'RisultatiRobustScaler.json',\n",
    "                          X_details, y_details,\n",
    "                          models, grids,\n",
    "                          dim_reduction=PCA_and_tSNE(10, 5))'''"
   ]
  },
  {
   "cell_type": "code",
   "execution_count": 67,
   "metadata": {},
   "outputs": [],
   "source": [
    "add_column_to_results(risultati_RobustScaler, 'Details_reduce_TSNE_13_dim', 'RisultatiRobustScaler.json', X_details, y_details, models, grids, scaling=RobustScaler(), logger_name=logger, dim_reduction=TSNE(n_components=13, method='exact'))"
   ]
  },
  {
   "cell_type": "code",
   "execution_count": 68,
   "metadata": {},
   "outputs": [],
   "source": [
    "add_column_to_results(risultati_RobustScaler, 'Details_reduce_TSNE_15_dim', 'RisultatiRobustScaler.json', X_details, y_details, models, grids, scaling=RobustScaler(), logger_name=logger, dim_reduction=TSNE(n_components=15, method='exact'))"
   ]
  },
  {
   "cell_type": "markdown",
   "metadata": {},
   "source": [
    "# Visualizzo tabella riassuntiva Usando come scaler RobustScaler"
   ]
  },
  {
   "cell_type": "code",
   "execution_count": 69,
   "metadata": {},
   "outputs": [
    {
     "data": {
      "text/html": [
       "<style  type=\"text/css\" >\n",
       "    #T_8958111c_4e66_11ea_9453_05081ed27666row0_col4 {\n",
       "            background-color:  yellow;\n",
       "        }    #T_8958111c_4e66_11ea_9453_05081ed27666row1_col2 {\n",
       "            background-color:  yellow;\n",
       "        }    #T_8958111c_4e66_11ea_9453_05081ed27666row2_col2 {\n",
       "            background-color:  yellow;\n",
       "        }    #T_8958111c_4e66_11ea_9453_05081ed27666row3_col3 {\n",
       "            background-color:  yellow;\n",
       "        }    #T_8958111c_4e66_11ea_9453_05081ed27666row4_col8 {\n",
       "            background-color:  yellow;\n",
       "        }    #T_8958111c_4e66_11ea_9453_05081ed27666row5_col2 {\n",
       "            background-color:  yellow;\n",
       "        }</style><table id=\"T_8958111c_4e66_11ea_9453_05081ed27666\" ><thead>    <tr>        <th class=\"blank level0\" ></th>        <th class=\"col_heading level0 col0\" >Totali</th>        <th class=\"col_heading level0 col1\" >Totali_with_BMI</th>        <th class=\"col_heading level0 col2\" >Totali_with_DATA</th>        <th class=\"col_heading level0 col3\" >Totali_with_DATA_and_BMI</th>        <th class=\"col_heading level0 col4\" >Details</th>        <th class=\"col_heading level0 col5\" >Details_reduce_PCA_5_dim</th>        <th class=\"col_heading level0 col6\" >Details_reduce_PCA_10_dim</th>        <th class=\"col_heading level0 col7\" >Details_reduce_PCA_13_dim</th>        <th class=\"col_heading level0 col8\" >Details_reduce_PCA_15_dim</th>        <th class=\"col_heading level0 col9\" >Details_reduce_TSNE_13_dim</th>        <th class=\"col_heading level0 col10\" >Details_reduce_TSNE_15_dim</th>    </tr></thead><tbody>\n",
       "                <tr>\n",
       "                        <th id=\"T_8958111c_4e66_11ea_9453_05081ed27666level0_row0\" class=\"row_heading level0 row0\" >DT</th>\n",
       "                        <td id=\"T_8958111c_4e66_11ea_9453_05081ed27666row0_col0\" class=\"data row0 col0\" >0.59</td>\n",
       "                        <td id=\"T_8958111c_4e66_11ea_9453_05081ed27666row0_col1\" class=\"data row0 col1\" >0.60</td>\n",
       "                        <td id=\"T_8958111c_4e66_11ea_9453_05081ed27666row0_col2\" class=\"data row0 col2\" >0.62</td>\n",
       "                        <td id=\"T_8958111c_4e66_11ea_9453_05081ed27666row0_col3\" class=\"data row0 col3\" >0.65</td>\n",
       "                        <td id=\"T_8958111c_4e66_11ea_9453_05081ed27666row0_col4\" class=\"data row0 col4\" >0.66</td>\n",
       "                        <td id=\"T_8958111c_4e66_11ea_9453_05081ed27666row0_col5\" class=\"data row0 col5\" >0.63</td>\n",
       "                        <td id=\"T_8958111c_4e66_11ea_9453_05081ed27666row0_col6\" class=\"data row0 col6\" >0.62</td>\n",
       "                        <td id=\"T_8958111c_4e66_11ea_9453_05081ed27666row0_col7\" class=\"data row0 col7\" >0.65</td>\n",
       "                        <td id=\"T_8958111c_4e66_11ea_9453_05081ed27666row0_col8\" class=\"data row0 col8\" >0.63</td>\n",
       "                        <td id=\"T_8958111c_4e66_11ea_9453_05081ed27666row0_col9\" class=\"data row0 col9\" >0.45</td>\n",
       "                        <td id=\"T_8958111c_4e66_11ea_9453_05081ed27666row0_col10\" class=\"data row0 col10\" >0.56</td>\n",
       "            </tr>\n",
       "            <tr>\n",
       "                        <th id=\"T_8958111c_4e66_11ea_9453_05081ed27666level0_row1\" class=\"row_heading level0 row1\" >LD</th>\n",
       "                        <td id=\"T_8958111c_4e66_11ea_9453_05081ed27666row1_col0\" class=\"data row1 col0\" >0.71</td>\n",
       "                        <td id=\"T_8958111c_4e66_11ea_9453_05081ed27666row1_col1\" class=\"data row1 col1\" >0.69</td>\n",
       "                        <td id=\"T_8958111c_4e66_11ea_9453_05081ed27666row1_col2\" class=\"data row1 col2\" >0.73</td>\n",
       "                        <td id=\"T_8958111c_4e66_11ea_9453_05081ed27666row1_col3\" class=\"data row1 col3\" >0.72</td>\n",
       "                        <td id=\"T_8958111c_4e66_11ea_9453_05081ed27666row1_col4\" class=\"data row1 col4\" >0.64</td>\n",
       "                        <td id=\"T_8958111c_4e66_11ea_9453_05081ed27666row1_col5\" class=\"data row1 col5\" >0.64</td>\n",
       "                        <td id=\"T_8958111c_4e66_11ea_9453_05081ed27666row1_col6\" class=\"data row1 col6\" >0.60</td>\n",
       "                        <td id=\"T_8958111c_4e66_11ea_9453_05081ed27666row1_col7\" class=\"data row1 col7\" >0.64</td>\n",
       "                        <td id=\"T_8958111c_4e66_11ea_9453_05081ed27666row1_col8\" class=\"data row1 col8\" >0.68</td>\n",
       "                        <td id=\"T_8958111c_4e66_11ea_9453_05081ed27666row1_col9\" class=\"data row1 col9\" >0.43</td>\n",
       "                        <td id=\"T_8958111c_4e66_11ea_9453_05081ed27666row1_col10\" class=\"data row1 col10\" >0.42</td>\n",
       "            </tr>\n",
       "            <tr>\n",
       "                        <th id=\"T_8958111c_4e66_11ea_9453_05081ed27666level0_row2\" class=\"row_heading level0 row2\" >MLP</th>\n",
       "                        <td id=\"T_8958111c_4e66_11ea_9453_05081ed27666row2_col0\" class=\"data row2 col0\" >0.70</td>\n",
       "                        <td id=\"T_8958111c_4e66_11ea_9453_05081ed27666row2_col1\" class=\"data row2 col1\" >0.68</td>\n",
       "                        <td id=\"T_8958111c_4e66_11ea_9453_05081ed27666row2_col2\" class=\"data row2 col2\" >0.71</td>\n",
       "                        <td id=\"T_8958111c_4e66_11ea_9453_05081ed27666row2_col3\" class=\"data row2 col3\" >0.67</td>\n",
       "                        <td id=\"T_8958111c_4e66_11ea_9453_05081ed27666row2_col4\" class=\"data row2 col4\" >0.56</td>\n",
       "                        <td id=\"T_8958111c_4e66_11ea_9453_05081ed27666row2_col5\" class=\"data row2 col5\" >0.64</td>\n",
       "                        <td id=\"T_8958111c_4e66_11ea_9453_05081ed27666row2_col6\" class=\"data row2 col6\" >0.61</td>\n",
       "                        <td id=\"T_8958111c_4e66_11ea_9453_05081ed27666row2_col7\" class=\"data row2 col7\" >0.65</td>\n",
       "                        <td id=\"T_8958111c_4e66_11ea_9453_05081ed27666row2_col8\" class=\"data row2 col8\" >0.61</td>\n",
       "                        <td id=\"T_8958111c_4e66_11ea_9453_05081ed27666row2_col9\" class=\"data row2 col9\" >0.49</td>\n",
       "                        <td id=\"T_8958111c_4e66_11ea_9453_05081ed27666row2_col10\" class=\"data row2 col10\" >0.46</td>\n",
       "            </tr>\n",
       "            <tr>\n",
       "                        <th id=\"T_8958111c_4e66_11ea_9453_05081ed27666level0_row3\" class=\"row_heading level0 row3\" >NB</th>\n",
       "                        <td id=\"T_8958111c_4e66_11ea_9453_05081ed27666row3_col0\" class=\"data row3 col0\" >0.69</td>\n",
       "                        <td id=\"T_8958111c_4e66_11ea_9453_05081ed27666row3_col1\" class=\"data row3 col1\" >0.69</td>\n",
       "                        <td id=\"T_8958111c_4e66_11ea_9453_05081ed27666row3_col2\" class=\"data row3 col2\" >0.73</td>\n",
       "                        <td id=\"T_8958111c_4e66_11ea_9453_05081ed27666row3_col3\" class=\"data row3 col3\" >0.75</td>\n",
       "                        <td id=\"T_8958111c_4e66_11ea_9453_05081ed27666row3_col4\" class=\"data row3 col4\" >0.63</td>\n",
       "                        <td id=\"T_8958111c_4e66_11ea_9453_05081ed27666row3_col5\" class=\"data row3 col5\" >0.67</td>\n",
       "                        <td id=\"T_8958111c_4e66_11ea_9453_05081ed27666row3_col6\" class=\"data row3 col6\" >0.67</td>\n",
       "                        <td id=\"T_8958111c_4e66_11ea_9453_05081ed27666row3_col7\" class=\"data row3 col7\" >0.67</td>\n",
       "                        <td id=\"T_8958111c_4e66_11ea_9453_05081ed27666row3_col8\" class=\"data row3 col8\" >0.66</td>\n",
       "                        <td id=\"T_8958111c_4e66_11ea_9453_05081ed27666row3_col9\" class=\"data row3 col9\" >0.55</td>\n",
       "                        <td id=\"T_8958111c_4e66_11ea_9453_05081ed27666row3_col10\" class=\"data row3 col10\" >0.56</td>\n",
       "            </tr>\n",
       "            <tr>\n",
       "                        <th id=\"T_8958111c_4e66_11ea_9453_05081ed27666level0_row4\" class=\"row_heading level0 row4\" >RF</th>\n",
       "                        <td id=\"T_8958111c_4e66_11ea_9453_05081ed27666row4_col0\" class=\"data row4 col0\" >0.63</td>\n",
       "                        <td id=\"T_8958111c_4e66_11ea_9453_05081ed27666row4_col1\" class=\"data row4 col1\" >0.64</td>\n",
       "                        <td id=\"T_8958111c_4e66_11ea_9453_05081ed27666row4_col2\" class=\"data row4 col2\" >0.57</td>\n",
       "                        <td id=\"T_8958111c_4e66_11ea_9453_05081ed27666row4_col3\" class=\"data row4 col3\" >0.61</td>\n",
       "                        <td id=\"T_8958111c_4e66_11ea_9453_05081ed27666row4_col4\" class=\"data row4 col4\" >0.65</td>\n",
       "                        <td id=\"T_8958111c_4e66_11ea_9453_05081ed27666row4_col5\" class=\"data row4 col5\" >0.66</td>\n",
       "                        <td id=\"T_8958111c_4e66_11ea_9453_05081ed27666row4_col6\" class=\"data row4 col6\" >0.65</td>\n",
       "                        <td id=\"T_8958111c_4e66_11ea_9453_05081ed27666row4_col7\" class=\"data row4 col7\" >0.65</td>\n",
       "                        <td id=\"T_8958111c_4e66_11ea_9453_05081ed27666row4_col8\" class=\"data row4 col8\" >0.66</td>\n",
       "                        <td id=\"T_8958111c_4e66_11ea_9453_05081ed27666row4_col9\" class=\"data row4 col9\" >0.52</td>\n",
       "                        <td id=\"T_8958111c_4e66_11ea_9453_05081ed27666row4_col10\" class=\"data row4 col10\" >0.49</td>\n",
       "            </tr>\n",
       "            <tr>\n",
       "                        <th id=\"T_8958111c_4e66_11ea_9453_05081ed27666level0_row5\" class=\"row_heading level0 row5\" >SVC</th>\n",
       "                        <td id=\"T_8958111c_4e66_11ea_9453_05081ed27666row5_col0\" class=\"data row5 col0\" >0.66</td>\n",
       "                        <td id=\"T_8958111c_4e66_11ea_9453_05081ed27666row5_col1\" class=\"data row5 col1\" >0.69</td>\n",
       "                        <td id=\"T_8958111c_4e66_11ea_9453_05081ed27666row5_col2\" class=\"data row5 col2\" >0.77</td>\n",
       "                        <td id=\"T_8958111c_4e66_11ea_9453_05081ed27666row5_col3\" class=\"data row5 col3\" >0.72</td>\n",
       "                        <td id=\"T_8958111c_4e66_11ea_9453_05081ed27666row5_col4\" class=\"data row5 col4\" >0.69</td>\n",
       "                        <td id=\"T_8958111c_4e66_11ea_9453_05081ed27666row5_col5\" class=\"data row5 col5\" >0.63</td>\n",
       "                        <td id=\"T_8958111c_4e66_11ea_9453_05081ed27666row5_col6\" class=\"data row5 col6\" >0.63</td>\n",
       "                        <td id=\"T_8958111c_4e66_11ea_9453_05081ed27666row5_col7\" class=\"data row5 col7\" >0.66</td>\n",
       "                        <td id=\"T_8958111c_4e66_11ea_9453_05081ed27666row5_col8\" class=\"data row5 col8\" >0.66</td>\n",
       "                        <td id=\"T_8958111c_4e66_11ea_9453_05081ed27666row5_col9\" class=\"data row5 col9\" >0.57</td>\n",
       "                        <td id=\"T_8958111c_4e66_11ea_9453_05081ed27666row5_col10\" class=\"data row5 col10\" >0.48</td>\n",
       "            </tr>\n",
       "    </tbody></table>"
      ],
      "text/plain": [
       "<pandas.io.formats.style.Styler at 0x7f56a5bd4b38>"
      ]
     },
     "execution_count": 69,
     "metadata": {},
     "output_type": "execute_result"
    }
   ],
   "source": [
    "tableRobustScaler = pd.DataFrame(risultati_RobustScaler)\n",
    "tableRobustScaler.style.apply(highlight_max_in_row, axis=1).format(float_formatter)"
   ]
  },
  {
   "cell_type": "code",
   "execution_count": 70,
   "metadata": {},
   "outputs": [
    {
     "data": {
      "text/html": [
       "<style  type=\"text/css\" >\n",
       "    #T_89ac4b56_4e66_11ea_9453_05081ed27666row5_col2 {\n",
       "            background-color:  darkorange;\n",
       "        }</style><table id=\"T_89ac4b56_4e66_11ea_9453_05081ed27666\" ><thead>    <tr>        <th class=\"blank level0\" ></th>        <th class=\"col_heading level0 col0\" >Totali</th>        <th class=\"col_heading level0 col1\" >Totali_with_BMI</th>        <th class=\"col_heading level0 col2\" >Totali_with_DATA</th>        <th class=\"col_heading level0 col3\" >Totali_with_DATA_and_BMI</th>        <th class=\"col_heading level0 col4\" >Details</th>        <th class=\"col_heading level0 col5\" >Details_reduce_PCA_5_dim</th>        <th class=\"col_heading level0 col6\" >Details_reduce_PCA_10_dim</th>        <th class=\"col_heading level0 col7\" >Details_reduce_PCA_13_dim</th>        <th class=\"col_heading level0 col8\" >Details_reduce_PCA_15_dim</th>        <th class=\"col_heading level0 col9\" >Details_reduce_TSNE_13_dim</th>        <th class=\"col_heading level0 col10\" >Details_reduce_TSNE_15_dim</th>    </tr></thead><tbody>\n",
       "                <tr>\n",
       "                        <th id=\"T_89ac4b56_4e66_11ea_9453_05081ed27666level0_row0\" class=\"row_heading level0 row0\" >DT</th>\n",
       "                        <td id=\"T_89ac4b56_4e66_11ea_9453_05081ed27666row0_col0\" class=\"data row0 col0\" >0.59</td>\n",
       "                        <td id=\"T_89ac4b56_4e66_11ea_9453_05081ed27666row0_col1\" class=\"data row0 col1\" >0.60</td>\n",
       "                        <td id=\"T_89ac4b56_4e66_11ea_9453_05081ed27666row0_col2\" class=\"data row0 col2\" >0.62</td>\n",
       "                        <td id=\"T_89ac4b56_4e66_11ea_9453_05081ed27666row0_col3\" class=\"data row0 col3\" >0.65</td>\n",
       "                        <td id=\"T_89ac4b56_4e66_11ea_9453_05081ed27666row0_col4\" class=\"data row0 col4\" >0.66</td>\n",
       "                        <td id=\"T_89ac4b56_4e66_11ea_9453_05081ed27666row0_col5\" class=\"data row0 col5\" >0.63</td>\n",
       "                        <td id=\"T_89ac4b56_4e66_11ea_9453_05081ed27666row0_col6\" class=\"data row0 col6\" >0.62</td>\n",
       "                        <td id=\"T_89ac4b56_4e66_11ea_9453_05081ed27666row0_col7\" class=\"data row0 col7\" >0.65</td>\n",
       "                        <td id=\"T_89ac4b56_4e66_11ea_9453_05081ed27666row0_col8\" class=\"data row0 col8\" >0.63</td>\n",
       "                        <td id=\"T_89ac4b56_4e66_11ea_9453_05081ed27666row0_col9\" class=\"data row0 col9\" >0.45</td>\n",
       "                        <td id=\"T_89ac4b56_4e66_11ea_9453_05081ed27666row0_col10\" class=\"data row0 col10\" >0.56</td>\n",
       "            </tr>\n",
       "            <tr>\n",
       "                        <th id=\"T_89ac4b56_4e66_11ea_9453_05081ed27666level0_row1\" class=\"row_heading level0 row1\" >LD</th>\n",
       "                        <td id=\"T_89ac4b56_4e66_11ea_9453_05081ed27666row1_col0\" class=\"data row1 col0\" >0.71</td>\n",
       "                        <td id=\"T_89ac4b56_4e66_11ea_9453_05081ed27666row1_col1\" class=\"data row1 col1\" >0.69</td>\n",
       "                        <td id=\"T_89ac4b56_4e66_11ea_9453_05081ed27666row1_col2\" class=\"data row1 col2\" >0.73</td>\n",
       "                        <td id=\"T_89ac4b56_4e66_11ea_9453_05081ed27666row1_col3\" class=\"data row1 col3\" >0.72</td>\n",
       "                        <td id=\"T_89ac4b56_4e66_11ea_9453_05081ed27666row1_col4\" class=\"data row1 col4\" >0.64</td>\n",
       "                        <td id=\"T_89ac4b56_4e66_11ea_9453_05081ed27666row1_col5\" class=\"data row1 col5\" >0.64</td>\n",
       "                        <td id=\"T_89ac4b56_4e66_11ea_9453_05081ed27666row1_col6\" class=\"data row1 col6\" >0.60</td>\n",
       "                        <td id=\"T_89ac4b56_4e66_11ea_9453_05081ed27666row1_col7\" class=\"data row1 col7\" >0.64</td>\n",
       "                        <td id=\"T_89ac4b56_4e66_11ea_9453_05081ed27666row1_col8\" class=\"data row1 col8\" >0.68</td>\n",
       "                        <td id=\"T_89ac4b56_4e66_11ea_9453_05081ed27666row1_col9\" class=\"data row1 col9\" >0.43</td>\n",
       "                        <td id=\"T_89ac4b56_4e66_11ea_9453_05081ed27666row1_col10\" class=\"data row1 col10\" >0.42</td>\n",
       "            </tr>\n",
       "            <tr>\n",
       "                        <th id=\"T_89ac4b56_4e66_11ea_9453_05081ed27666level0_row2\" class=\"row_heading level0 row2\" >MLP</th>\n",
       "                        <td id=\"T_89ac4b56_4e66_11ea_9453_05081ed27666row2_col0\" class=\"data row2 col0\" >0.70</td>\n",
       "                        <td id=\"T_89ac4b56_4e66_11ea_9453_05081ed27666row2_col1\" class=\"data row2 col1\" >0.68</td>\n",
       "                        <td id=\"T_89ac4b56_4e66_11ea_9453_05081ed27666row2_col2\" class=\"data row2 col2\" >0.71</td>\n",
       "                        <td id=\"T_89ac4b56_4e66_11ea_9453_05081ed27666row2_col3\" class=\"data row2 col3\" >0.67</td>\n",
       "                        <td id=\"T_89ac4b56_4e66_11ea_9453_05081ed27666row2_col4\" class=\"data row2 col4\" >0.56</td>\n",
       "                        <td id=\"T_89ac4b56_4e66_11ea_9453_05081ed27666row2_col5\" class=\"data row2 col5\" >0.64</td>\n",
       "                        <td id=\"T_89ac4b56_4e66_11ea_9453_05081ed27666row2_col6\" class=\"data row2 col6\" >0.61</td>\n",
       "                        <td id=\"T_89ac4b56_4e66_11ea_9453_05081ed27666row2_col7\" class=\"data row2 col7\" >0.65</td>\n",
       "                        <td id=\"T_89ac4b56_4e66_11ea_9453_05081ed27666row2_col8\" class=\"data row2 col8\" >0.61</td>\n",
       "                        <td id=\"T_89ac4b56_4e66_11ea_9453_05081ed27666row2_col9\" class=\"data row2 col9\" >0.49</td>\n",
       "                        <td id=\"T_89ac4b56_4e66_11ea_9453_05081ed27666row2_col10\" class=\"data row2 col10\" >0.46</td>\n",
       "            </tr>\n",
       "            <tr>\n",
       "                        <th id=\"T_89ac4b56_4e66_11ea_9453_05081ed27666level0_row3\" class=\"row_heading level0 row3\" >NB</th>\n",
       "                        <td id=\"T_89ac4b56_4e66_11ea_9453_05081ed27666row3_col0\" class=\"data row3 col0\" >0.69</td>\n",
       "                        <td id=\"T_89ac4b56_4e66_11ea_9453_05081ed27666row3_col1\" class=\"data row3 col1\" >0.69</td>\n",
       "                        <td id=\"T_89ac4b56_4e66_11ea_9453_05081ed27666row3_col2\" class=\"data row3 col2\" >0.73</td>\n",
       "                        <td id=\"T_89ac4b56_4e66_11ea_9453_05081ed27666row3_col3\" class=\"data row3 col3\" >0.75</td>\n",
       "                        <td id=\"T_89ac4b56_4e66_11ea_9453_05081ed27666row3_col4\" class=\"data row3 col4\" >0.63</td>\n",
       "                        <td id=\"T_89ac4b56_4e66_11ea_9453_05081ed27666row3_col5\" class=\"data row3 col5\" >0.67</td>\n",
       "                        <td id=\"T_89ac4b56_4e66_11ea_9453_05081ed27666row3_col6\" class=\"data row3 col6\" >0.67</td>\n",
       "                        <td id=\"T_89ac4b56_4e66_11ea_9453_05081ed27666row3_col7\" class=\"data row3 col7\" >0.67</td>\n",
       "                        <td id=\"T_89ac4b56_4e66_11ea_9453_05081ed27666row3_col8\" class=\"data row3 col8\" >0.66</td>\n",
       "                        <td id=\"T_89ac4b56_4e66_11ea_9453_05081ed27666row3_col9\" class=\"data row3 col9\" >0.55</td>\n",
       "                        <td id=\"T_89ac4b56_4e66_11ea_9453_05081ed27666row3_col10\" class=\"data row3 col10\" >0.56</td>\n",
       "            </tr>\n",
       "            <tr>\n",
       "                        <th id=\"T_89ac4b56_4e66_11ea_9453_05081ed27666level0_row4\" class=\"row_heading level0 row4\" >RF</th>\n",
       "                        <td id=\"T_89ac4b56_4e66_11ea_9453_05081ed27666row4_col0\" class=\"data row4 col0\" >0.63</td>\n",
       "                        <td id=\"T_89ac4b56_4e66_11ea_9453_05081ed27666row4_col1\" class=\"data row4 col1\" >0.64</td>\n",
       "                        <td id=\"T_89ac4b56_4e66_11ea_9453_05081ed27666row4_col2\" class=\"data row4 col2\" >0.57</td>\n",
       "                        <td id=\"T_89ac4b56_4e66_11ea_9453_05081ed27666row4_col3\" class=\"data row4 col3\" >0.61</td>\n",
       "                        <td id=\"T_89ac4b56_4e66_11ea_9453_05081ed27666row4_col4\" class=\"data row4 col4\" >0.65</td>\n",
       "                        <td id=\"T_89ac4b56_4e66_11ea_9453_05081ed27666row4_col5\" class=\"data row4 col5\" >0.66</td>\n",
       "                        <td id=\"T_89ac4b56_4e66_11ea_9453_05081ed27666row4_col6\" class=\"data row4 col6\" >0.65</td>\n",
       "                        <td id=\"T_89ac4b56_4e66_11ea_9453_05081ed27666row4_col7\" class=\"data row4 col7\" >0.65</td>\n",
       "                        <td id=\"T_89ac4b56_4e66_11ea_9453_05081ed27666row4_col8\" class=\"data row4 col8\" >0.66</td>\n",
       "                        <td id=\"T_89ac4b56_4e66_11ea_9453_05081ed27666row4_col9\" class=\"data row4 col9\" >0.52</td>\n",
       "                        <td id=\"T_89ac4b56_4e66_11ea_9453_05081ed27666row4_col10\" class=\"data row4 col10\" >0.49</td>\n",
       "            </tr>\n",
       "            <tr>\n",
       "                        <th id=\"T_89ac4b56_4e66_11ea_9453_05081ed27666level0_row5\" class=\"row_heading level0 row5\" >SVC</th>\n",
       "                        <td id=\"T_89ac4b56_4e66_11ea_9453_05081ed27666row5_col0\" class=\"data row5 col0\" >0.66</td>\n",
       "                        <td id=\"T_89ac4b56_4e66_11ea_9453_05081ed27666row5_col1\" class=\"data row5 col1\" >0.69</td>\n",
       "                        <td id=\"T_89ac4b56_4e66_11ea_9453_05081ed27666row5_col2\" class=\"data row5 col2\" >0.77</td>\n",
       "                        <td id=\"T_89ac4b56_4e66_11ea_9453_05081ed27666row5_col3\" class=\"data row5 col3\" >0.72</td>\n",
       "                        <td id=\"T_89ac4b56_4e66_11ea_9453_05081ed27666row5_col4\" class=\"data row5 col4\" >0.69</td>\n",
       "                        <td id=\"T_89ac4b56_4e66_11ea_9453_05081ed27666row5_col5\" class=\"data row5 col5\" >0.63</td>\n",
       "                        <td id=\"T_89ac4b56_4e66_11ea_9453_05081ed27666row5_col6\" class=\"data row5 col6\" >0.63</td>\n",
       "                        <td id=\"T_89ac4b56_4e66_11ea_9453_05081ed27666row5_col7\" class=\"data row5 col7\" >0.66</td>\n",
       "                        <td id=\"T_89ac4b56_4e66_11ea_9453_05081ed27666row5_col8\" class=\"data row5 col8\" >0.66</td>\n",
       "                        <td id=\"T_89ac4b56_4e66_11ea_9453_05081ed27666row5_col9\" class=\"data row5 col9\" >0.57</td>\n",
       "                        <td id=\"T_89ac4b56_4e66_11ea_9453_05081ed27666row5_col10\" class=\"data row5 col10\" >0.48</td>\n",
       "            </tr>\n",
       "    </tbody></table>"
      ],
      "text/plain": [
       "<pandas.io.formats.style.Styler at 0x7f56a59d81d0>"
      ]
     },
     "execution_count": 70,
     "metadata": {},
     "output_type": "execute_result"
    }
   ],
   "source": [
    "tableRobustScaler.style.apply(highlight_max, axis=None).format(float_formatter)"
   ]
  },
  {
   "cell_type": "markdown",
   "metadata": {},
   "source": [
    "# Visualizzo il massimo score possibile relativo ad ogni dataset"
   ]
  },
  {
   "cell_type": "code",
   "execution_count": 71,
   "metadata": {},
   "outputs": [
    {
     "data": {
      "text/html": [
       "<style  type=\"text/css\" >\n",
       "    #T_8ae67a28_4e66_11ea_9453_05081ed27666row2_col0 {\n",
       "            background-color:  darkorange;\n",
       "        }</style><table id=\"T_8ae67a28_4e66_11ea_9453_05081ed27666\" ><thead>    <tr>        <th class=\"blank level0\" ></th>        <th class=\"col_heading level0 col0\" >RobustScaler</th>    </tr></thead><tbody>\n",
       "                <tr>\n",
       "                        <th id=\"T_8ae67a28_4e66_11ea_9453_05081ed27666level0_row0\" class=\"row_heading level0 row0\" >Totali</th>\n",
       "                        <td id=\"T_8ae67a28_4e66_11ea_9453_05081ed27666row0_col0\" class=\"data row0 col0\" >0.71</td>\n",
       "            </tr>\n",
       "            <tr>\n",
       "                        <th id=\"T_8ae67a28_4e66_11ea_9453_05081ed27666level0_row1\" class=\"row_heading level0 row1\" >Totali_with_BMI</th>\n",
       "                        <td id=\"T_8ae67a28_4e66_11ea_9453_05081ed27666row1_col0\" class=\"data row1 col0\" >0.69</td>\n",
       "            </tr>\n",
       "            <tr>\n",
       "                        <th id=\"T_8ae67a28_4e66_11ea_9453_05081ed27666level0_row2\" class=\"row_heading level0 row2\" >Totali_with_DATA</th>\n",
       "                        <td id=\"T_8ae67a28_4e66_11ea_9453_05081ed27666row2_col0\" class=\"data row2 col0\" >0.77</td>\n",
       "            </tr>\n",
       "            <tr>\n",
       "                        <th id=\"T_8ae67a28_4e66_11ea_9453_05081ed27666level0_row3\" class=\"row_heading level0 row3\" >Totali_with_DATA_and_BMI</th>\n",
       "                        <td id=\"T_8ae67a28_4e66_11ea_9453_05081ed27666row3_col0\" class=\"data row3 col0\" >0.75</td>\n",
       "            </tr>\n",
       "            <tr>\n",
       "                        <th id=\"T_8ae67a28_4e66_11ea_9453_05081ed27666level0_row4\" class=\"row_heading level0 row4\" >Details</th>\n",
       "                        <td id=\"T_8ae67a28_4e66_11ea_9453_05081ed27666row4_col0\" class=\"data row4 col0\" >0.69</td>\n",
       "            </tr>\n",
       "            <tr>\n",
       "                        <th id=\"T_8ae67a28_4e66_11ea_9453_05081ed27666level0_row5\" class=\"row_heading level0 row5\" >Details_reduce_PCA_5_dim</th>\n",
       "                        <td id=\"T_8ae67a28_4e66_11ea_9453_05081ed27666row5_col0\" class=\"data row5 col0\" >0.67</td>\n",
       "            </tr>\n",
       "            <tr>\n",
       "                        <th id=\"T_8ae67a28_4e66_11ea_9453_05081ed27666level0_row6\" class=\"row_heading level0 row6\" >Details_reduce_PCA_10_dim</th>\n",
       "                        <td id=\"T_8ae67a28_4e66_11ea_9453_05081ed27666row6_col0\" class=\"data row6 col0\" >0.67</td>\n",
       "            </tr>\n",
       "            <tr>\n",
       "                        <th id=\"T_8ae67a28_4e66_11ea_9453_05081ed27666level0_row7\" class=\"row_heading level0 row7\" >Details_reduce_PCA_13_dim</th>\n",
       "                        <td id=\"T_8ae67a28_4e66_11ea_9453_05081ed27666row7_col0\" class=\"data row7 col0\" >0.67</td>\n",
       "            </tr>\n",
       "            <tr>\n",
       "                        <th id=\"T_8ae67a28_4e66_11ea_9453_05081ed27666level0_row8\" class=\"row_heading level0 row8\" >Details_reduce_PCA_15_dim</th>\n",
       "                        <td id=\"T_8ae67a28_4e66_11ea_9453_05081ed27666row8_col0\" class=\"data row8 col0\" >0.68</td>\n",
       "            </tr>\n",
       "            <tr>\n",
       "                        <th id=\"T_8ae67a28_4e66_11ea_9453_05081ed27666level0_row9\" class=\"row_heading level0 row9\" >Details_reduce_TSNE_13_dim</th>\n",
       "                        <td id=\"T_8ae67a28_4e66_11ea_9453_05081ed27666row9_col0\" class=\"data row9 col0\" >0.57</td>\n",
       "            </tr>\n",
       "            <tr>\n",
       "                        <th id=\"T_8ae67a28_4e66_11ea_9453_05081ed27666level0_row10\" class=\"row_heading level0 row10\" >Details_reduce_TSNE_15_dim</th>\n",
       "                        <td id=\"T_8ae67a28_4e66_11ea_9453_05081ed27666row10_col0\" class=\"data row10 col0\" >0.56</td>\n",
       "            </tr>\n",
       "    </tbody></table>"
      ],
      "text/plain": [
       "<pandas.io.formats.style.Styler at 0x7f56a57b9860>"
      ]
     },
     "execution_count": 71,
     "metadata": {},
     "output_type": "execute_result"
    }
   ],
   "source": [
    "tableMaxRobustScaler = pd.DataFrame(tableRobustScaler.max(), columns=['RobustScaler'])\n",
    "tableMaxRobustScaler.style.apply(highlight_max, axis=0).format(float_formatter)"
   ]
  },
  {
   "cell_type": "markdown",
   "metadata": {},
   "source": [
    "#### Lo score massimo calcolato usando RobustScaler è stato ottenuto usando 'Total_with_DATA_and_BMI' con SVC ed è di 0.77"
   ]
  },
  {
   "cell_type": "markdown",
   "metadata": {},
   "source": [
    "# Proviamo ora a non usare uno SCALER"
   ]
  },
  {
   "cell_type": "code",
   "execution_count": 72,
   "metadata": {},
   "outputs": [],
   "source": [
    "risultati_senza_scaler = {}"
   ]
  },
  {
   "cell_type": "code",
   "execution_count": 73,
   "metadata": {},
   "outputs": [],
   "source": [
    "for d in [5, 10, 13, 15]:\n",
    "    add_column_to_results(risultati_senza_scaler, 'Details_reduce_PCA_{}_dim'.format(d), 'RisultatiSenzaScaler.json', X_details, y_details, models, grids, logger_name=logger, scaling=None, dim_reduction=PCA(n_components=d))"
   ]
  },
  {
   "cell_type": "code",
   "execution_count": 74,
   "metadata": {},
   "outputs": [],
   "source": [
    "#risultati_senza_scaler['Details_reduce_TSNE_5_dim'] = {model_to_string[m]: np.mean(addestra(m, X_details, y_details, g, 9, 9, nome_dataset='Details_reduce_TSNE_5_dim', logger_name=logger, scaling=None, dim_reduction=TSNE(n_components=5, method='exact'))) for m, g in zip(models, grids)}"
   ]
  },
  {
   "cell_type": "code",
   "execution_count": 75,
   "metadata": {},
   "outputs": [],
   "source": [
    "#risultati_senza_scaler['Details_reduce_TSNE_10_dim'] = {model_to_string[m]: np.mean(addestra(m, X_details, y_details, g, 9, 9, nome_dataset='Details_reduce_TSNE_10_dim', logger_name=logger, scaling=None, dim_reduction=TSNE(n_components=10, method='exact'))) for m, g in zip(models, grids)}"
   ]
  },
  {
   "cell_type": "code",
   "execution_count": 76,
   "metadata": {},
   "outputs": [
    {
     "data": {
      "text/plain": [
       "\"add_column_to_results(risultati_senza_scaler,\\n                          'Details_reduce_PCA_15_dim_tSNE_10_dim',\\n                          'RisultatiSenzaScaler.json',\\n                          X_details, y_details,\\n                          models, grids,\\n                          dim_reduction=PCA_and_tSNE(15, 10))\""
      ]
     },
     "execution_count": 76,
     "metadata": {},
     "output_type": "execute_result"
    }
   ],
   "source": [
    "#Da provare\n",
    "'''add_column_to_results(risultati_senza_scaler,\n",
    "                          'Details_reduce_PCA_15_dim_tSNE_10_dim',\n",
    "                          'RisultatiSenzaScaler.json',\n",
    "                          X_details, y_details,\n",
    "                          models, grids,\n",
    "                          dim_reduction=PCA_and_tSNE(15, 10))'''"
   ]
  },
  {
   "cell_type": "code",
   "execution_count": 77,
   "metadata": {},
   "outputs": [
    {
     "data": {
      "text/plain": [
       "\"add_column_to_results(risultati_senza_scaler,\\n                          'Details_reduce_PCA_15_dim_tSNE_10_dim',\\n                          'RisultatiSenzaScaler.json',\\n                          X_details, y_details,\\n                          models, grids,\\n                          dim_reduction=PCA_and_tSNE(10, 5))\""
      ]
     },
     "execution_count": 77,
     "metadata": {},
     "output_type": "execute_result"
    }
   ],
   "source": [
    "#Da provare\n",
    "'''add_column_to_results(risultati_senza_scaler,\n",
    "                          'Details_reduce_PCA_15_dim_tSNE_10_dim',\n",
    "                          'RisultatiSenzaScaler.json',\n",
    "                          X_details, y_details,\n",
    "                          models, grids,\n",
    "                          dim_reduction=PCA_and_tSNE(10, 5))'''"
   ]
  },
  {
   "cell_type": "code",
   "execution_count": 78,
   "metadata": {},
   "outputs": [],
   "source": [
    "for d in [13, 15]:\n",
    "        add_column_to_results(risultati_senza_scaler, 'Details_reduce_TSNE_{}_dim'.format(d), 'RisultatiSenzaScaler.json', X_details, y_details, models, grids, logger_name=logger, scaling=None, dim_reduction=TSNE(n_components=d, method='exact'))"
   ]
  },
  {
   "cell_type": "markdown",
   "metadata": {},
   "source": [
    "# Visualizzo tabella riassuntiva non usando uno scaler"
   ]
  },
  {
   "cell_type": "code",
   "execution_count": 79,
   "metadata": {},
   "outputs": [
    {
     "data": {
      "text/html": [
       "<style  type=\"text/css\" >\n",
       "    #T_8d7237e6_4e66_11ea_9453_05081ed27666row0_col0 {\n",
       "            background-color:  yellow;\n",
       "        }    #T_8d7237e6_4e66_11ea_9453_05081ed27666row1_col0 {\n",
       "            background-color:  yellow;\n",
       "        }    #T_8d7237e6_4e66_11ea_9453_05081ed27666row2_col0 {\n",
       "            background-color:  yellow;\n",
       "        }    #T_8d7237e6_4e66_11ea_9453_05081ed27666row3_col0 {\n",
       "            background-color:  yellow;\n",
       "        }    #T_8d7237e6_4e66_11ea_9453_05081ed27666row4_col0 {\n",
       "            background-color:  yellow;\n",
       "        }    #T_8d7237e6_4e66_11ea_9453_05081ed27666row5_col2 {\n",
       "            background-color:  yellow;\n",
       "        }</style><table id=\"T_8d7237e6_4e66_11ea_9453_05081ed27666\" ><thead>    <tr>        <th class=\"blank level0\" ></th>        <th class=\"col_heading level0 col0\" >Details_reduce_PCA_5_dim</th>        <th class=\"col_heading level0 col1\" >Details_reduce_PCA_10_dim</th>        <th class=\"col_heading level0 col2\" >Details_reduce_PCA_13_dim</th>        <th class=\"col_heading level0 col3\" >Details_reduce_PCA_15_dim</th>        <th class=\"col_heading level0 col4\" >Details_reduce_TSNE_13_dim</th>        <th class=\"col_heading level0 col5\" >Details_reduce_TSNE_15_dim</th>    </tr></thead><tbody>\n",
       "                <tr>\n",
       "                        <th id=\"T_8d7237e6_4e66_11ea_9453_05081ed27666level0_row0\" class=\"row_heading level0 row0\" >DT</th>\n",
       "                        <td id=\"T_8d7237e6_4e66_11ea_9453_05081ed27666row0_col0\" class=\"data row0 col0\" >0.61</td>\n",
       "                        <td id=\"T_8d7237e6_4e66_11ea_9453_05081ed27666row0_col1\" class=\"data row0 col1\" >0.56</td>\n",
       "                        <td id=\"T_8d7237e6_4e66_11ea_9453_05081ed27666row0_col2\" class=\"data row0 col2\" >0.60</td>\n",
       "                        <td id=\"T_8d7237e6_4e66_11ea_9453_05081ed27666row0_col3\" class=\"data row0 col3\" >0.52</td>\n",
       "                        <td id=\"T_8d7237e6_4e66_11ea_9453_05081ed27666row0_col4\" class=\"data row0 col4\" >0.50</td>\n",
       "                        <td id=\"T_8d7237e6_4e66_11ea_9453_05081ed27666row0_col5\" class=\"data row0 col5\" >0.53</td>\n",
       "            </tr>\n",
       "            <tr>\n",
       "                        <th id=\"T_8d7237e6_4e66_11ea_9453_05081ed27666level0_row1\" class=\"row_heading level0 row1\" >LD</th>\n",
       "                        <td id=\"T_8d7237e6_4e66_11ea_9453_05081ed27666row1_col0\" class=\"data row1 col0\" >0.65</td>\n",
       "                        <td id=\"T_8d7237e6_4e66_11ea_9453_05081ed27666row1_col1\" class=\"data row1 col1\" >0.62</td>\n",
       "                        <td id=\"T_8d7237e6_4e66_11ea_9453_05081ed27666row1_col2\" class=\"data row1 col2\" >0.59</td>\n",
       "                        <td id=\"T_8d7237e6_4e66_11ea_9453_05081ed27666row1_col3\" class=\"data row1 col3\" >0.62</td>\n",
       "                        <td id=\"T_8d7237e6_4e66_11ea_9453_05081ed27666row1_col4\" class=\"data row1 col4\" >0.47</td>\n",
       "                        <td id=\"T_8d7237e6_4e66_11ea_9453_05081ed27666row1_col5\" class=\"data row1 col5\" >0.51</td>\n",
       "            </tr>\n",
       "            <tr>\n",
       "                        <th id=\"T_8d7237e6_4e66_11ea_9453_05081ed27666level0_row2\" class=\"row_heading level0 row2\" >MLP</th>\n",
       "                        <td id=\"T_8d7237e6_4e66_11ea_9453_05081ed27666row2_col0\" class=\"data row2 col0\" >0.67</td>\n",
       "                        <td id=\"T_8d7237e6_4e66_11ea_9453_05081ed27666row2_col1\" class=\"data row2 col1\" >0.65</td>\n",
       "                        <td id=\"T_8d7237e6_4e66_11ea_9453_05081ed27666row2_col2\" class=\"data row2 col2\" >0.61</td>\n",
       "                        <td id=\"T_8d7237e6_4e66_11ea_9453_05081ed27666row2_col3\" class=\"data row2 col3\" >0.58</td>\n",
       "                        <td id=\"T_8d7237e6_4e66_11ea_9453_05081ed27666row2_col4\" class=\"data row2 col4\" >0.43</td>\n",
       "                        <td id=\"T_8d7237e6_4e66_11ea_9453_05081ed27666row2_col5\" class=\"data row2 col5\" >0.54</td>\n",
       "            </tr>\n",
       "            <tr>\n",
       "                        <th id=\"T_8d7237e6_4e66_11ea_9453_05081ed27666level0_row3\" class=\"row_heading level0 row3\" >NB</th>\n",
       "                        <td id=\"T_8d7237e6_4e66_11ea_9453_05081ed27666row3_col0\" class=\"data row3 col0\" >0.67</td>\n",
       "                        <td id=\"T_8d7237e6_4e66_11ea_9453_05081ed27666row3_col1\" class=\"data row3 col1\" >0.64</td>\n",
       "                        <td id=\"T_8d7237e6_4e66_11ea_9453_05081ed27666row3_col2\" class=\"data row3 col2\" >0.67</td>\n",
       "                        <td id=\"T_8d7237e6_4e66_11ea_9453_05081ed27666row3_col3\" class=\"data row3 col3\" >0.66</td>\n",
       "                        <td id=\"T_8d7237e6_4e66_11ea_9453_05081ed27666row3_col4\" class=\"data row3 col4\" >0.53</td>\n",
       "                        <td id=\"T_8d7237e6_4e66_11ea_9453_05081ed27666row3_col5\" class=\"data row3 col5\" >0.55</td>\n",
       "            </tr>\n",
       "            <tr>\n",
       "                        <th id=\"T_8d7237e6_4e66_11ea_9453_05081ed27666level0_row4\" class=\"row_heading level0 row4\" >RF</th>\n",
       "                        <td id=\"T_8d7237e6_4e66_11ea_9453_05081ed27666row4_col0\" class=\"data row4 col0\" >0.66</td>\n",
       "                        <td id=\"T_8d7237e6_4e66_11ea_9453_05081ed27666row4_col1\" class=\"data row4 col1\" >0.64</td>\n",
       "                        <td id=\"T_8d7237e6_4e66_11ea_9453_05081ed27666row4_col2\" class=\"data row4 col2\" >0.61</td>\n",
       "                        <td id=\"T_8d7237e6_4e66_11ea_9453_05081ed27666row4_col3\" class=\"data row4 col3\" >0.64</td>\n",
       "                        <td id=\"T_8d7237e6_4e66_11ea_9453_05081ed27666row4_col4\" class=\"data row4 col4\" >0.54</td>\n",
       "                        <td id=\"T_8d7237e6_4e66_11ea_9453_05081ed27666row4_col5\" class=\"data row4 col5\" >0.55</td>\n",
       "            </tr>\n",
       "            <tr>\n",
       "                        <th id=\"T_8d7237e6_4e66_11ea_9453_05081ed27666level0_row5\" class=\"row_heading level0 row5\" >SVC</th>\n",
       "                        <td id=\"T_8d7237e6_4e66_11ea_9453_05081ed27666row5_col0\" class=\"data row5 col0\" >0.65</td>\n",
       "                        <td id=\"T_8d7237e6_4e66_11ea_9453_05081ed27666row5_col1\" class=\"data row5 col1\" >0.66</td>\n",
       "                        <td id=\"T_8d7237e6_4e66_11ea_9453_05081ed27666row5_col2\" class=\"data row5 col2\" >0.69</td>\n",
       "                        <td id=\"T_8d7237e6_4e66_11ea_9453_05081ed27666row5_col3\" class=\"data row5 col3\" >0.66</td>\n",
       "                        <td id=\"T_8d7237e6_4e66_11ea_9453_05081ed27666row5_col4\" class=\"data row5 col4\" >0.57</td>\n",
       "                        <td id=\"T_8d7237e6_4e66_11ea_9453_05081ed27666row5_col5\" class=\"data row5 col5\" >0.55</td>\n",
       "            </tr>\n",
       "    </tbody></table>"
      ],
      "text/plain": [
       "<pandas.io.formats.style.Styler at 0x7f56a472b780>"
      ]
     },
     "execution_count": 79,
     "metadata": {},
     "output_type": "execute_result"
    }
   ],
   "source": [
    "table_senza_scaler = pd.DataFrame(risultati_senza_scaler)\n",
    "table_senza_scaler.style.apply(highlight_max_in_row, axis=1).format(float_formatter)"
   ]
  },
  {
   "cell_type": "code",
   "execution_count": 80,
   "metadata": {},
   "outputs": [
    {
     "data": {
      "text/html": [
       "<style  type=\"text/css\" >\n",
       "    #T_8db619c0_4e66_11ea_9453_05081ed27666row5_col2 {\n",
       "            background-color:  darkorange;\n",
       "        }</style><table id=\"T_8db619c0_4e66_11ea_9453_05081ed27666\" ><thead>    <tr>        <th class=\"blank level0\" ></th>        <th class=\"col_heading level0 col0\" >Details_reduce_PCA_5_dim</th>        <th class=\"col_heading level0 col1\" >Details_reduce_PCA_10_dim</th>        <th class=\"col_heading level0 col2\" >Details_reduce_PCA_13_dim</th>        <th class=\"col_heading level0 col3\" >Details_reduce_PCA_15_dim</th>        <th class=\"col_heading level0 col4\" >Details_reduce_TSNE_13_dim</th>        <th class=\"col_heading level0 col5\" >Details_reduce_TSNE_15_dim</th>    </tr></thead><tbody>\n",
       "                <tr>\n",
       "                        <th id=\"T_8db619c0_4e66_11ea_9453_05081ed27666level0_row0\" class=\"row_heading level0 row0\" >DT</th>\n",
       "                        <td id=\"T_8db619c0_4e66_11ea_9453_05081ed27666row0_col0\" class=\"data row0 col0\" >0.61</td>\n",
       "                        <td id=\"T_8db619c0_4e66_11ea_9453_05081ed27666row0_col1\" class=\"data row0 col1\" >0.56</td>\n",
       "                        <td id=\"T_8db619c0_4e66_11ea_9453_05081ed27666row0_col2\" class=\"data row0 col2\" >0.60</td>\n",
       "                        <td id=\"T_8db619c0_4e66_11ea_9453_05081ed27666row0_col3\" class=\"data row0 col3\" >0.52</td>\n",
       "                        <td id=\"T_8db619c0_4e66_11ea_9453_05081ed27666row0_col4\" class=\"data row0 col4\" >0.50</td>\n",
       "                        <td id=\"T_8db619c0_4e66_11ea_9453_05081ed27666row0_col5\" class=\"data row0 col5\" >0.53</td>\n",
       "            </tr>\n",
       "            <tr>\n",
       "                        <th id=\"T_8db619c0_4e66_11ea_9453_05081ed27666level0_row1\" class=\"row_heading level0 row1\" >LD</th>\n",
       "                        <td id=\"T_8db619c0_4e66_11ea_9453_05081ed27666row1_col0\" class=\"data row1 col0\" >0.65</td>\n",
       "                        <td id=\"T_8db619c0_4e66_11ea_9453_05081ed27666row1_col1\" class=\"data row1 col1\" >0.62</td>\n",
       "                        <td id=\"T_8db619c0_4e66_11ea_9453_05081ed27666row1_col2\" class=\"data row1 col2\" >0.59</td>\n",
       "                        <td id=\"T_8db619c0_4e66_11ea_9453_05081ed27666row1_col3\" class=\"data row1 col3\" >0.62</td>\n",
       "                        <td id=\"T_8db619c0_4e66_11ea_9453_05081ed27666row1_col4\" class=\"data row1 col4\" >0.47</td>\n",
       "                        <td id=\"T_8db619c0_4e66_11ea_9453_05081ed27666row1_col5\" class=\"data row1 col5\" >0.51</td>\n",
       "            </tr>\n",
       "            <tr>\n",
       "                        <th id=\"T_8db619c0_4e66_11ea_9453_05081ed27666level0_row2\" class=\"row_heading level0 row2\" >MLP</th>\n",
       "                        <td id=\"T_8db619c0_4e66_11ea_9453_05081ed27666row2_col0\" class=\"data row2 col0\" >0.67</td>\n",
       "                        <td id=\"T_8db619c0_4e66_11ea_9453_05081ed27666row2_col1\" class=\"data row2 col1\" >0.65</td>\n",
       "                        <td id=\"T_8db619c0_4e66_11ea_9453_05081ed27666row2_col2\" class=\"data row2 col2\" >0.61</td>\n",
       "                        <td id=\"T_8db619c0_4e66_11ea_9453_05081ed27666row2_col3\" class=\"data row2 col3\" >0.58</td>\n",
       "                        <td id=\"T_8db619c0_4e66_11ea_9453_05081ed27666row2_col4\" class=\"data row2 col4\" >0.43</td>\n",
       "                        <td id=\"T_8db619c0_4e66_11ea_9453_05081ed27666row2_col5\" class=\"data row2 col5\" >0.54</td>\n",
       "            </tr>\n",
       "            <tr>\n",
       "                        <th id=\"T_8db619c0_4e66_11ea_9453_05081ed27666level0_row3\" class=\"row_heading level0 row3\" >NB</th>\n",
       "                        <td id=\"T_8db619c0_4e66_11ea_9453_05081ed27666row3_col0\" class=\"data row3 col0\" >0.67</td>\n",
       "                        <td id=\"T_8db619c0_4e66_11ea_9453_05081ed27666row3_col1\" class=\"data row3 col1\" >0.64</td>\n",
       "                        <td id=\"T_8db619c0_4e66_11ea_9453_05081ed27666row3_col2\" class=\"data row3 col2\" >0.67</td>\n",
       "                        <td id=\"T_8db619c0_4e66_11ea_9453_05081ed27666row3_col3\" class=\"data row3 col3\" >0.66</td>\n",
       "                        <td id=\"T_8db619c0_4e66_11ea_9453_05081ed27666row3_col4\" class=\"data row3 col4\" >0.53</td>\n",
       "                        <td id=\"T_8db619c0_4e66_11ea_9453_05081ed27666row3_col5\" class=\"data row3 col5\" >0.55</td>\n",
       "            </tr>\n",
       "            <tr>\n",
       "                        <th id=\"T_8db619c0_4e66_11ea_9453_05081ed27666level0_row4\" class=\"row_heading level0 row4\" >RF</th>\n",
       "                        <td id=\"T_8db619c0_4e66_11ea_9453_05081ed27666row4_col0\" class=\"data row4 col0\" >0.66</td>\n",
       "                        <td id=\"T_8db619c0_4e66_11ea_9453_05081ed27666row4_col1\" class=\"data row4 col1\" >0.64</td>\n",
       "                        <td id=\"T_8db619c0_4e66_11ea_9453_05081ed27666row4_col2\" class=\"data row4 col2\" >0.61</td>\n",
       "                        <td id=\"T_8db619c0_4e66_11ea_9453_05081ed27666row4_col3\" class=\"data row4 col3\" >0.64</td>\n",
       "                        <td id=\"T_8db619c0_4e66_11ea_9453_05081ed27666row4_col4\" class=\"data row4 col4\" >0.54</td>\n",
       "                        <td id=\"T_8db619c0_4e66_11ea_9453_05081ed27666row4_col5\" class=\"data row4 col5\" >0.55</td>\n",
       "            </tr>\n",
       "            <tr>\n",
       "                        <th id=\"T_8db619c0_4e66_11ea_9453_05081ed27666level0_row5\" class=\"row_heading level0 row5\" >SVC</th>\n",
       "                        <td id=\"T_8db619c0_4e66_11ea_9453_05081ed27666row5_col0\" class=\"data row5 col0\" >0.65</td>\n",
       "                        <td id=\"T_8db619c0_4e66_11ea_9453_05081ed27666row5_col1\" class=\"data row5 col1\" >0.66</td>\n",
       "                        <td id=\"T_8db619c0_4e66_11ea_9453_05081ed27666row5_col2\" class=\"data row5 col2\" >0.69</td>\n",
       "                        <td id=\"T_8db619c0_4e66_11ea_9453_05081ed27666row5_col3\" class=\"data row5 col3\" >0.66</td>\n",
       "                        <td id=\"T_8db619c0_4e66_11ea_9453_05081ed27666row5_col4\" class=\"data row5 col4\" >0.57</td>\n",
       "                        <td id=\"T_8db619c0_4e66_11ea_9453_05081ed27666row5_col5\" class=\"data row5 col5\" >0.55</td>\n",
       "            </tr>\n",
       "    </tbody></table>"
      ],
      "text/plain": [
       "<pandas.io.formats.style.Styler at 0x7f56a472b710>"
      ]
     },
     "execution_count": 80,
     "metadata": {},
     "output_type": "execute_result"
    }
   ],
   "source": [
    "table_senza_scaler.style.apply(highlight_max, axis=None).format(float_formatter)"
   ]
  },
  {
   "cell_type": "markdown",
   "metadata": {},
   "source": [
    "# Visualizzo il massimo score possibile relativo ad ogni dataset"
   ]
  },
  {
   "cell_type": "code",
   "execution_count": 81,
   "metadata": {},
   "outputs": [
    {
     "data": {
      "text/html": [
       "<style  type=\"text/css\" >\n",
       "    #T_8e6970d8_4e66_11ea_9453_05081ed27666row2_col0 {\n",
       "            background-color:  darkorange;\n",
       "        }</style><table id=\"T_8e6970d8_4e66_11ea_9453_05081ed27666\" ><thead>    <tr>        <th class=\"blank level0\" ></th>        <th class=\"col_heading level0 col0\" >No_Scaler</th>    </tr></thead><tbody>\n",
       "                <tr>\n",
       "                        <th id=\"T_8e6970d8_4e66_11ea_9453_05081ed27666level0_row0\" class=\"row_heading level0 row0\" >Details_reduce_PCA_5_dim</th>\n",
       "                        <td id=\"T_8e6970d8_4e66_11ea_9453_05081ed27666row0_col0\" class=\"data row0 col0\" >0.67</td>\n",
       "            </tr>\n",
       "            <tr>\n",
       "                        <th id=\"T_8e6970d8_4e66_11ea_9453_05081ed27666level0_row1\" class=\"row_heading level0 row1\" >Details_reduce_PCA_10_dim</th>\n",
       "                        <td id=\"T_8e6970d8_4e66_11ea_9453_05081ed27666row1_col0\" class=\"data row1 col0\" >0.66</td>\n",
       "            </tr>\n",
       "            <tr>\n",
       "                        <th id=\"T_8e6970d8_4e66_11ea_9453_05081ed27666level0_row2\" class=\"row_heading level0 row2\" >Details_reduce_PCA_13_dim</th>\n",
       "                        <td id=\"T_8e6970d8_4e66_11ea_9453_05081ed27666row2_col0\" class=\"data row2 col0\" >0.69</td>\n",
       "            </tr>\n",
       "            <tr>\n",
       "                        <th id=\"T_8e6970d8_4e66_11ea_9453_05081ed27666level0_row3\" class=\"row_heading level0 row3\" >Details_reduce_PCA_15_dim</th>\n",
       "                        <td id=\"T_8e6970d8_4e66_11ea_9453_05081ed27666row3_col0\" class=\"data row3 col0\" >0.66</td>\n",
       "            </tr>\n",
       "            <tr>\n",
       "                        <th id=\"T_8e6970d8_4e66_11ea_9453_05081ed27666level0_row4\" class=\"row_heading level0 row4\" >Details_reduce_TSNE_13_dim</th>\n",
       "                        <td id=\"T_8e6970d8_4e66_11ea_9453_05081ed27666row4_col0\" class=\"data row4 col0\" >0.57</td>\n",
       "            </tr>\n",
       "            <tr>\n",
       "                        <th id=\"T_8e6970d8_4e66_11ea_9453_05081ed27666level0_row5\" class=\"row_heading level0 row5\" >Details_reduce_TSNE_15_dim</th>\n",
       "                        <td id=\"T_8e6970d8_4e66_11ea_9453_05081ed27666row5_col0\" class=\"data row5 col0\" >0.55</td>\n",
       "            </tr>\n",
       "    </tbody></table>"
      ],
      "text/plain": [
       "<pandas.io.formats.style.Styler at 0x7f56a4723d68>"
      ]
     },
     "execution_count": 81,
     "metadata": {},
     "output_type": "execute_result"
    }
   ],
   "source": [
    "tableMaxSenzaScaler = pd.DataFrame(table_senza_scaler.max(), columns=['No_Scaler'])\n",
    "tableMaxSenzaScaler.style.apply(highlight_max, axis=None).format(float_formatter)"
   ]
  },
  {
   "cell_type": "markdown",
   "metadata": {},
   "source": [
    "#### Lo score massimo calcolato non usando uno Scaler è stato ottenuto usando 'Details_reduce_PCA_13_dim' con SVC ed è di 0.69"
   ]
  },
  {
   "cell_type": "markdown",
   "metadata": {},
   "source": [
    "# Analizziamo i risultati calcolati usando i diversi scaler"
   ]
  },
  {
   "cell_type": "code",
   "execution_count": 82,
   "metadata": {},
   "outputs": [
    {
     "data": {
      "text/html": [
       "<style  type=\"text/css\" >\n",
       "    #T_90005b28_4e66_11ea_9453_05081ed27666row2_col0 {\n",
       "            background-color:  yellow;\n",
       "        }    #T_90005b28_4e66_11ea_9453_05081ed27666row2_col2 {\n",
       "            background-color:  yellow;\n",
       "        }    #T_90005b28_4e66_11ea_9453_05081ed27666row3_col1 {\n",
       "            background-color:  yellow;\n",
       "        }    #T_90005b28_4e66_11ea_9453_05081ed27666row7_col3 {\n",
       "            background-color:  yellow;\n",
       "        }</style><table id=\"T_90005b28_4e66_11ea_9453_05081ed27666\" ><thead>    <tr>        <th class=\"blank level0\" ></th>        <th class=\"col_heading level0 col0\" >StandardScaler</th>        <th class=\"col_heading level0 col1\" >MinMaxScaler</th>        <th class=\"col_heading level0 col2\" >RobustScaler</th>        <th class=\"col_heading level0 col3\" >No_Scaler</th>    </tr></thead><tbody>\n",
       "                <tr>\n",
       "                        <th id=\"T_90005b28_4e66_11ea_9453_05081ed27666level0_row0\" class=\"row_heading level0 row0\" >Totali</th>\n",
       "                        <td id=\"T_90005b28_4e66_11ea_9453_05081ed27666row0_col0\" class=\"data row0 col0\" >0.71</td>\n",
       "                        <td id=\"T_90005b28_4e66_11ea_9453_05081ed27666row0_col1\" class=\"data row0 col1\" >0.71</td>\n",
       "                        <td id=\"T_90005b28_4e66_11ea_9453_05081ed27666row0_col2\" class=\"data row0 col2\" >0.71</td>\n",
       "                        <td id=\"T_90005b28_4e66_11ea_9453_05081ed27666row0_col3\" class=\"data row0 col3\" >nan</td>\n",
       "            </tr>\n",
       "            <tr>\n",
       "                        <th id=\"T_90005b28_4e66_11ea_9453_05081ed27666level0_row1\" class=\"row_heading level0 row1\" >Totali_with_BMI</th>\n",
       "                        <td id=\"T_90005b28_4e66_11ea_9453_05081ed27666row1_col0\" class=\"data row1 col0\" >0.69</td>\n",
       "                        <td id=\"T_90005b28_4e66_11ea_9453_05081ed27666row1_col1\" class=\"data row1 col1\" >0.69</td>\n",
       "                        <td id=\"T_90005b28_4e66_11ea_9453_05081ed27666row1_col2\" class=\"data row1 col2\" >0.69</td>\n",
       "                        <td id=\"T_90005b28_4e66_11ea_9453_05081ed27666row1_col3\" class=\"data row1 col3\" >nan</td>\n",
       "            </tr>\n",
       "            <tr>\n",
       "                        <th id=\"T_90005b28_4e66_11ea_9453_05081ed27666level0_row2\" class=\"row_heading level0 row2\" >Totali_with_DATA</th>\n",
       "                        <td id=\"T_90005b28_4e66_11ea_9453_05081ed27666row2_col0\" class=\"data row2 col0\" >0.77</td>\n",
       "                        <td id=\"T_90005b28_4e66_11ea_9453_05081ed27666row2_col1\" class=\"data row2 col1\" >0.74</td>\n",
       "                        <td id=\"T_90005b28_4e66_11ea_9453_05081ed27666row2_col2\" class=\"data row2 col2\" >0.77</td>\n",
       "                        <td id=\"T_90005b28_4e66_11ea_9453_05081ed27666row2_col3\" class=\"data row2 col3\" >nan</td>\n",
       "            </tr>\n",
       "            <tr>\n",
       "                        <th id=\"T_90005b28_4e66_11ea_9453_05081ed27666level0_row3\" class=\"row_heading level0 row3\" >Totali_with_DATA_and_BMI</th>\n",
       "                        <td id=\"T_90005b28_4e66_11ea_9453_05081ed27666row3_col0\" class=\"data row3 col0\" >0.75</td>\n",
       "                        <td id=\"T_90005b28_4e66_11ea_9453_05081ed27666row3_col1\" class=\"data row3 col1\" >0.77</td>\n",
       "                        <td id=\"T_90005b28_4e66_11ea_9453_05081ed27666row3_col2\" class=\"data row3 col2\" >0.75</td>\n",
       "                        <td id=\"T_90005b28_4e66_11ea_9453_05081ed27666row3_col3\" class=\"data row3 col3\" >nan</td>\n",
       "            </tr>\n",
       "            <tr>\n",
       "                        <th id=\"T_90005b28_4e66_11ea_9453_05081ed27666level0_row4\" class=\"row_heading level0 row4\" >Details</th>\n",
       "                        <td id=\"T_90005b28_4e66_11ea_9453_05081ed27666row4_col0\" class=\"data row4 col0\" >0.69</td>\n",
       "                        <td id=\"T_90005b28_4e66_11ea_9453_05081ed27666row4_col1\" class=\"data row4 col1\" >0.74</td>\n",
       "                        <td id=\"T_90005b28_4e66_11ea_9453_05081ed27666row4_col2\" class=\"data row4 col2\" >0.69</td>\n",
       "                        <td id=\"T_90005b28_4e66_11ea_9453_05081ed27666row4_col3\" class=\"data row4 col3\" >nan</td>\n",
       "            </tr>\n",
       "            <tr>\n",
       "                        <th id=\"T_90005b28_4e66_11ea_9453_05081ed27666level0_row5\" class=\"row_heading level0 row5\" >Details_reduce_PCA_5_dim</th>\n",
       "                        <td id=\"T_90005b28_4e66_11ea_9453_05081ed27666row5_col0\" class=\"data row5 col0\" >0.65</td>\n",
       "                        <td id=\"T_90005b28_4e66_11ea_9453_05081ed27666row5_col1\" class=\"data row5 col1\" >0.70</td>\n",
       "                        <td id=\"T_90005b28_4e66_11ea_9453_05081ed27666row5_col2\" class=\"data row5 col2\" >0.67</td>\n",
       "                        <td id=\"T_90005b28_4e66_11ea_9453_05081ed27666row5_col3\" class=\"data row5 col3\" >0.67</td>\n",
       "            </tr>\n",
       "            <tr>\n",
       "                        <th id=\"T_90005b28_4e66_11ea_9453_05081ed27666level0_row6\" class=\"row_heading level0 row6\" >Details_reduce_PCA_10_dim</th>\n",
       "                        <td id=\"T_90005b28_4e66_11ea_9453_05081ed27666row6_col0\" class=\"data row6 col0\" >0.70</td>\n",
       "                        <td id=\"T_90005b28_4e66_11ea_9453_05081ed27666row6_col1\" class=\"data row6 col1\" >0.66</td>\n",
       "                        <td id=\"T_90005b28_4e66_11ea_9453_05081ed27666row6_col2\" class=\"data row6 col2\" >0.67</td>\n",
       "                        <td id=\"T_90005b28_4e66_11ea_9453_05081ed27666row6_col3\" class=\"data row6 col3\" >0.66</td>\n",
       "            </tr>\n",
       "            <tr>\n",
       "                        <th id=\"T_90005b28_4e66_11ea_9453_05081ed27666level0_row7\" class=\"row_heading level0 row7\" >Details_reduce_PCA_13_dim</th>\n",
       "                        <td id=\"T_90005b28_4e66_11ea_9453_05081ed27666row7_col0\" class=\"data row7 col0\" >0.70</td>\n",
       "                        <td id=\"T_90005b28_4e66_11ea_9453_05081ed27666row7_col1\" class=\"data row7 col1\" >0.71</td>\n",
       "                        <td id=\"T_90005b28_4e66_11ea_9453_05081ed27666row7_col2\" class=\"data row7 col2\" >0.67</td>\n",
       "                        <td id=\"T_90005b28_4e66_11ea_9453_05081ed27666row7_col3\" class=\"data row7 col3\" >0.69</td>\n",
       "            </tr>\n",
       "            <tr>\n",
       "                        <th id=\"T_90005b28_4e66_11ea_9453_05081ed27666level0_row8\" class=\"row_heading level0 row8\" >Details_reduce_PCA_15_dim</th>\n",
       "                        <td id=\"T_90005b28_4e66_11ea_9453_05081ed27666row8_col0\" class=\"data row8 col0\" >0.72</td>\n",
       "                        <td id=\"T_90005b28_4e66_11ea_9453_05081ed27666row8_col1\" class=\"data row8 col1\" >0.70</td>\n",
       "                        <td id=\"T_90005b28_4e66_11ea_9453_05081ed27666row8_col2\" class=\"data row8 col2\" >0.68</td>\n",
       "                        <td id=\"T_90005b28_4e66_11ea_9453_05081ed27666row8_col3\" class=\"data row8 col3\" >0.66</td>\n",
       "            </tr>\n",
       "            <tr>\n",
       "                        <th id=\"T_90005b28_4e66_11ea_9453_05081ed27666level0_row9\" class=\"row_heading level0 row9\" >Details_reduce_TSNE_13_dim</th>\n",
       "                        <td id=\"T_90005b28_4e66_11ea_9453_05081ed27666row9_col0\" class=\"data row9 col0\" >0.56</td>\n",
       "                        <td id=\"T_90005b28_4e66_11ea_9453_05081ed27666row9_col1\" class=\"data row9 col1\" >0.58</td>\n",
       "                        <td id=\"T_90005b28_4e66_11ea_9453_05081ed27666row9_col2\" class=\"data row9 col2\" >0.57</td>\n",
       "                        <td id=\"T_90005b28_4e66_11ea_9453_05081ed27666row9_col3\" class=\"data row9 col3\" >0.57</td>\n",
       "            </tr>\n",
       "            <tr>\n",
       "                        <th id=\"T_90005b28_4e66_11ea_9453_05081ed27666level0_row10\" class=\"row_heading level0 row10\" >Details_reduce_TSNE_15_dim</th>\n",
       "                        <td id=\"T_90005b28_4e66_11ea_9453_05081ed27666row10_col0\" class=\"data row10 col0\" >0.58</td>\n",
       "                        <td id=\"T_90005b28_4e66_11ea_9453_05081ed27666row10_col1\" class=\"data row10 col1\" >0.59</td>\n",
       "                        <td id=\"T_90005b28_4e66_11ea_9453_05081ed27666row10_col2\" class=\"data row10 col2\" >0.56</td>\n",
       "                        <td id=\"T_90005b28_4e66_11ea_9453_05081ed27666row10_col3\" class=\"data row10 col3\" >0.55</td>\n",
       "            </tr>\n",
       "    </tbody></table>"
      ],
      "text/plain": [
       "<pandas.io.formats.style.Styler at 0x7f56a57b9518>"
      ]
     },
     "execution_count": 82,
     "metadata": {},
     "output_type": "execute_result"
    }
   ],
   "source": [
    "finale = tableMaxStandardScaler.join(tableMaxMinMasxScaler).join(tableMaxRobustScaler).join(tableMaxSenzaScaler)\n",
    "finale.style.apply(highlight_max_in_row, axis=0).format(float_formatter)"
   ]
  },
  {
   "cell_type": "code",
   "execution_count": 83,
   "metadata": {},
   "outputs": [
    {
     "data": {
      "text/html": [
       "<style  type=\"text/css\" >\n",
       "    #T_90de953c_4e66_11ea_9453_05081ed27666row2_col0 {\n",
       "            background-color:  darkorange;\n",
       "        }</style><table id=\"T_90de953c_4e66_11ea_9453_05081ed27666\" ><thead>    <tr>        <th class=\"blank level0\" ></th>        <th class=\"col_heading level0 col0\" >StandardScaler</th>        <th class=\"col_heading level0 col1\" >MinMaxScaler</th>        <th class=\"col_heading level0 col2\" >RobustScaler</th>        <th class=\"col_heading level0 col3\" >No_Scaler</th>    </tr></thead><tbody>\n",
       "                <tr>\n",
       "                        <th id=\"T_90de953c_4e66_11ea_9453_05081ed27666level0_row0\" class=\"row_heading level0 row0\" >Totali</th>\n",
       "                        <td id=\"T_90de953c_4e66_11ea_9453_05081ed27666row0_col0\" class=\"data row0 col0\" >0.71</td>\n",
       "                        <td id=\"T_90de953c_4e66_11ea_9453_05081ed27666row0_col1\" class=\"data row0 col1\" >0.71</td>\n",
       "                        <td id=\"T_90de953c_4e66_11ea_9453_05081ed27666row0_col2\" class=\"data row0 col2\" >0.71</td>\n",
       "                        <td id=\"T_90de953c_4e66_11ea_9453_05081ed27666row0_col3\" class=\"data row0 col3\" >nan</td>\n",
       "            </tr>\n",
       "            <tr>\n",
       "                        <th id=\"T_90de953c_4e66_11ea_9453_05081ed27666level0_row1\" class=\"row_heading level0 row1\" >Totali_with_BMI</th>\n",
       "                        <td id=\"T_90de953c_4e66_11ea_9453_05081ed27666row1_col0\" class=\"data row1 col0\" >0.69</td>\n",
       "                        <td id=\"T_90de953c_4e66_11ea_9453_05081ed27666row1_col1\" class=\"data row1 col1\" >0.69</td>\n",
       "                        <td id=\"T_90de953c_4e66_11ea_9453_05081ed27666row1_col2\" class=\"data row1 col2\" >0.69</td>\n",
       "                        <td id=\"T_90de953c_4e66_11ea_9453_05081ed27666row1_col3\" class=\"data row1 col3\" >nan</td>\n",
       "            </tr>\n",
       "            <tr>\n",
       "                        <th id=\"T_90de953c_4e66_11ea_9453_05081ed27666level0_row2\" class=\"row_heading level0 row2\" >Totali_with_DATA</th>\n",
       "                        <td id=\"T_90de953c_4e66_11ea_9453_05081ed27666row2_col0\" class=\"data row2 col0\" >0.77</td>\n",
       "                        <td id=\"T_90de953c_4e66_11ea_9453_05081ed27666row2_col1\" class=\"data row2 col1\" >0.74</td>\n",
       "                        <td id=\"T_90de953c_4e66_11ea_9453_05081ed27666row2_col2\" class=\"data row2 col2\" >0.77</td>\n",
       "                        <td id=\"T_90de953c_4e66_11ea_9453_05081ed27666row2_col3\" class=\"data row2 col3\" >nan</td>\n",
       "            </tr>\n",
       "            <tr>\n",
       "                        <th id=\"T_90de953c_4e66_11ea_9453_05081ed27666level0_row3\" class=\"row_heading level0 row3\" >Totali_with_DATA_and_BMI</th>\n",
       "                        <td id=\"T_90de953c_4e66_11ea_9453_05081ed27666row3_col0\" class=\"data row3 col0\" >0.75</td>\n",
       "                        <td id=\"T_90de953c_4e66_11ea_9453_05081ed27666row3_col1\" class=\"data row3 col1\" >0.77</td>\n",
       "                        <td id=\"T_90de953c_4e66_11ea_9453_05081ed27666row3_col2\" class=\"data row3 col2\" >0.75</td>\n",
       "                        <td id=\"T_90de953c_4e66_11ea_9453_05081ed27666row3_col3\" class=\"data row3 col3\" >nan</td>\n",
       "            </tr>\n",
       "            <tr>\n",
       "                        <th id=\"T_90de953c_4e66_11ea_9453_05081ed27666level0_row4\" class=\"row_heading level0 row4\" >Details</th>\n",
       "                        <td id=\"T_90de953c_4e66_11ea_9453_05081ed27666row4_col0\" class=\"data row4 col0\" >0.69</td>\n",
       "                        <td id=\"T_90de953c_4e66_11ea_9453_05081ed27666row4_col1\" class=\"data row4 col1\" >0.74</td>\n",
       "                        <td id=\"T_90de953c_4e66_11ea_9453_05081ed27666row4_col2\" class=\"data row4 col2\" >0.69</td>\n",
       "                        <td id=\"T_90de953c_4e66_11ea_9453_05081ed27666row4_col3\" class=\"data row4 col3\" >nan</td>\n",
       "            </tr>\n",
       "            <tr>\n",
       "                        <th id=\"T_90de953c_4e66_11ea_9453_05081ed27666level0_row5\" class=\"row_heading level0 row5\" >Details_reduce_PCA_5_dim</th>\n",
       "                        <td id=\"T_90de953c_4e66_11ea_9453_05081ed27666row5_col0\" class=\"data row5 col0\" >0.65</td>\n",
       "                        <td id=\"T_90de953c_4e66_11ea_9453_05081ed27666row5_col1\" class=\"data row5 col1\" >0.70</td>\n",
       "                        <td id=\"T_90de953c_4e66_11ea_9453_05081ed27666row5_col2\" class=\"data row5 col2\" >0.67</td>\n",
       "                        <td id=\"T_90de953c_4e66_11ea_9453_05081ed27666row5_col3\" class=\"data row5 col3\" >0.67</td>\n",
       "            </tr>\n",
       "            <tr>\n",
       "                        <th id=\"T_90de953c_4e66_11ea_9453_05081ed27666level0_row6\" class=\"row_heading level0 row6\" >Details_reduce_PCA_10_dim</th>\n",
       "                        <td id=\"T_90de953c_4e66_11ea_9453_05081ed27666row6_col0\" class=\"data row6 col0\" >0.70</td>\n",
       "                        <td id=\"T_90de953c_4e66_11ea_9453_05081ed27666row6_col1\" class=\"data row6 col1\" >0.66</td>\n",
       "                        <td id=\"T_90de953c_4e66_11ea_9453_05081ed27666row6_col2\" class=\"data row6 col2\" >0.67</td>\n",
       "                        <td id=\"T_90de953c_4e66_11ea_9453_05081ed27666row6_col3\" class=\"data row6 col3\" >0.66</td>\n",
       "            </tr>\n",
       "            <tr>\n",
       "                        <th id=\"T_90de953c_4e66_11ea_9453_05081ed27666level0_row7\" class=\"row_heading level0 row7\" >Details_reduce_PCA_13_dim</th>\n",
       "                        <td id=\"T_90de953c_4e66_11ea_9453_05081ed27666row7_col0\" class=\"data row7 col0\" >0.70</td>\n",
       "                        <td id=\"T_90de953c_4e66_11ea_9453_05081ed27666row7_col1\" class=\"data row7 col1\" >0.71</td>\n",
       "                        <td id=\"T_90de953c_4e66_11ea_9453_05081ed27666row7_col2\" class=\"data row7 col2\" >0.67</td>\n",
       "                        <td id=\"T_90de953c_4e66_11ea_9453_05081ed27666row7_col3\" class=\"data row7 col3\" >0.69</td>\n",
       "            </tr>\n",
       "            <tr>\n",
       "                        <th id=\"T_90de953c_4e66_11ea_9453_05081ed27666level0_row8\" class=\"row_heading level0 row8\" >Details_reduce_PCA_15_dim</th>\n",
       "                        <td id=\"T_90de953c_4e66_11ea_9453_05081ed27666row8_col0\" class=\"data row8 col0\" >0.72</td>\n",
       "                        <td id=\"T_90de953c_4e66_11ea_9453_05081ed27666row8_col1\" class=\"data row8 col1\" >0.70</td>\n",
       "                        <td id=\"T_90de953c_4e66_11ea_9453_05081ed27666row8_col2\" class=\"data row8 col2\" >0.68</td>\n",
       "                        <td id=\"T_90de953c_4e66_11ea_9453_05081ed27666row8_col3\" class=\"data row8 col3\" >0.66</td>\n",
       "            </tr>\n",
       "            <tr>\n",
       "                        <th id=\"T_90de953c_4e66_11ea_9453_05081ed27666level0_row9\" class=\"row_heading level0 row9\" >Details_reduce_TSNE_13_dim</th>\n",
       "                        <td id=\"T_90de953c_4e66_11ea_9453_05081ed27666row9_col0\" class=\"data row9 col0\" >0.56</td>\n",
       "                        <td id=\"T_90de953c_4e66_11ea_9453_05081ed27666row9_col1\" class=\"data row9 col1\" >0.58</td>\n",
       "                        <td id=\"T_90de953c_4e66_11ea_9453_05081ed27666row9_col2\" class=\"data row9 col2\" >0.57</td>\n",
       "                        <td id=\"T_90de953c_4e66_11ea_9453_05081ed27666row9_col3\" class=\"data row9 col3\" >0.57</td>\n",
       "            </tr>\n",
       "            <tr>\n",
       "                        <th id=\"T_90de953c_4e66_11ea_9453_05081ed27666level0_row10\" class=\"row_heading level0 row10\" >Details_reduce_TSNE_15_dim</th>\n",
       "                        <td id=\"T_90de953c_4e66_11ea_9453_05081ed27666row10_col0\" class=\"data row10 col0\" >0.58</td>\n",
       "                        <td id=\"T_90de953c_4e66_11ea_9453_05081ed27666row10_col1\" class=\"data row10 col1\" >0.59</td>\n",
       "                        <td id=\"T_90de953c_4e66_11ea_9453_05081ed27666row10_col2\" class=\"data row10 col2\" >0.56</td>\n",
       "                        <td id=\"T_90de953c_4e66_11ea_9453_05081ed27666row10_col3\" class=\"data row10 col3\" >0.55</td>\n",
       "            </tr>\n",
       "    </tbody></table>"
      ],
      "text/plain": [
       "<pandas.io.formats.style.Styler at 0x7f56a57b9780>"
      ]
     },
     "execution_count": 83,
     "metadata": {},
     "output_type": "execute_result"
    }
   ],
   "source": [
    "finale.style.apply(highlight_max, axis=None).format(float_formatter)"
   ]
  },
  {
   "cell_type": "markdown",
   "metadata": {},
   "source": [
    "#### Il valore piu alto ottenuto e' 0.77 usando totali_with_DATA usando uno StandardScaler senza riduzione della dimensionalita' e SVC"
   ]
  },
  {
   "cell_type": "markdown",
   "metadata": {},
   "source": [
    "# Conversione del dataframe in latex"
   ]
  },
  {
   "cell_type": "code",
   "execution_count": 84,
   "metadata": {},
   "outputs": [
    {
     "name": "stdout",
     "output_type": "stream",
     "text": [
      "\\begin{tabular}{lrrrr}\n",
      "\\toprule\n",
      "{} &  StandardScaler &  MinMaxScaler &  RobustScaler &  No\\_Scaler \\\\\n",
      "\\midrule\n",
      "Totali                     &        0.71 &      0.71 &      0.71 &        NaN \\\\\n",
      "Totali\\_with\\_BMI            &        0.69 &      0.68 &      0.68 &        NaN \\\\\n",
      "Totali\\_with\\_DATA           &        0.77 &      0.73 &      0.77 &        NaN \\\\\n",
      "Totali\\_with\\_DATA\\_and\\_BMI   &        0.75 &      0.76 &      0.75 &        NaN \\\\\n",
      "Details                    &        0.68 &      0.74 &      0.68 &        NaN \\\\\n",
      "Details\\_reduce\\_PCA\\_5\\_dim   &        0.64 &      0.70 &      0.67 &   0.67 \\\\\n",
      "Details\\_reduce\\_PCA\\_10\\_dim  &        0.69 &      0.66 &      0.67 &   0.66 \\\\\n",
      "Details\\_reduce\\_PCA\\_13\\_dim  &        0.70 &      0.71 &      0.67 &   0.68 \\\\\n",
      "Details\\_reduce\\_PCA\\_15\\_dim  &        0.71 &      0.70 &      0.67 &   0.66 \\\\\n",
      "Details\\_reduce\\_TSNE\\_13\\_dim &        0.56 &      0.58 &      0.56 &   0.57 \\\\\n",
      "Details\\_reduce\\_TSNE\\_15\\_dim &        0.57 &      0.58 &      0.56 &   0.55 \\\\\n",
      "\\bottomrule\n",
      "\\end{tabular}\n",
      "\n"
     ]
    }
   ],
   "source": [
    "import re\n",
    "\n",
    "regex = re.compile(r'(\\d+).(\\d\\d)\\d*')\n",
    "print(regex.sub(r'\\1.\\2', finale.to_latex()))                   "
   ]
  },
  {
   "cell_type": "code",
   "execution_count": null,
   "metadata": {},
   "outputs": [],
   "source": [
    "#Da provare per far vedere \n",
    "add_column_to_results(risultatiStandardScaler, 'Totali_prova', 'RisultatiStandardScaler.json', X_total, y_total, models, grids, logger_name=None)"
   ]
  },
  {
   "cell_type": "code",
   "execution_count": 143,
   "metadata": {},
   "outputs": [
    {
     "data": {
      "text/html": [
       "<div>\n",
       "<style scoped>\n",
       "    .dataframe tbody tr th:only-of-type {\n",
       "        vertical-align: middle;\n",
       "    }\n",
       "\n",
       "    .dataframe tbody tr th {\n",
       "        vertical-align: top;\n",
       "    }\n",
       "\n",
       "    .dataframe thead tr th {\n",
       "        text-align: left;\n",
       "    }\n",
       "</style>\n",
       "<table border=\"1\" class=\"dataframe\">\n",
       "  <thead>\n",
       "    <tr>\n",
       "      <th>SCALER</th>\n",
       "      <th colspan=\"6\" halign=\"left\">StandardScaler</th>\n",
       "    </tr>\n",
       "    <tr>\n",
       "      <th>DATASET</th>\n",
       "      <th>SVC</th>\n",
       "      <th>DT</th>\n",
       "      <th>RF</th>\n",
       "      <th>NB</th>\n",
       "      <th>LD</th>\n",
       "      <th>MLP</th>\n",
       "    </tr>\n",
       "  </thead>\n",
       "  <tbody>\n",
       "    <tr>\n",
       "      <th>0</th>\n",
       "      <td>0.660847</td>\n",
       "      <td>0.562963</td>\n",
       "      <td>0.646561</td>\n",
       "      <td>0.692593</td>\n",
       "      <td>0.713228</td>\n",
       "      <td>0.698413</td>\n",
       "    </tr>\n",
       "    <tr>\n",
       "      <th>1</th>\n",
       "      <td>0.668783</td>\n",
       "      <td>0.564550</td>\n",
       "      <td>0.638095</td>\n",
       "      <td>0.685714</td>\n",
       "      <td>0.689947</td>\n",
       "      <td>0.692063</td>\n",
       "    </tr>\n",
       "    <tr>\n",
       "      <th>2</th>\n",
       "      <td>0.774603</td>\n",
       "      <td>0.614286</td>\n",
       "      <td>0.575661</td>\n",
       "      <td>0.729101</td>\n",
       "      <td>0.729101</td>\n",
       "      <td>0.744974</td>\n",
       "    </tr>\n",
       "    <tr>\n",
       "      <th>3</th>\n",
       "      <td>0.736508</td>\n",
       "      <td>0.631217</td>\n",
       "      <td>0.597884</td>\n",
       "      <td>0.751852</td>\n",
       "      <td>0.720635</td>\n",
       "      <td>0.722222</td>\n",
       "    </tr>\n",
       "    <tr>\n",
       "      <th>4</th>\n",
       "      <td>0.685714</td>\n",
       "      <td>0.680423</td>\n",
       "      <td>0.677778</td>\n",
       "      <td>0.631746</td>\n",
       "      <td>0.638624</td>\n",
       "      <td>0.632804</td>\n",
       "    </tr>\n",
       "    <tr>\n",
       "      <th>5</th>\n",
       "      <td>0.639683</td>\n",
       "      <td>0.601058</td>\n",
       "      <td>0.598942</td>\n",
       "      <td>0.615344</td>\n",
       "      <td>0.647090</td>\n",
       "      <td>0.626455</td>\n",
       "    </tr>\n",
       "    <tr>\n",
       "      <th>6</th>\n",
       "      <td>0.685714</td>\n",
       "      <td>0.678836</td>\n",
       "      <td>0.699471</td>\n",
       "      <td>0.661376</td>\n",
       "      <td>0.609524</td>\n",
       "      <td>0.618519</td>\n",
       "    </tr>\n",
       "    <tr>\n",
       "      <th>7</th>\n",
       "      <td>0.678307</td>\n",
       "      <td>0.645503</td>\n",
       "      <td>0.701058</td>\n",
       "      <td>0.676720</td>\n",
       "      <td>0.592593</td>\n",
       "      <td>0.623810</td>\n",
       "    </tr>\n",
       "    <tr>\n",
       "      <th>8</th>\n",
       "      <td>0.715344</td>\n",
       "      <td>0.576720</td>\n",
       "      <td>0.638624</td>\n",
       "      <td>0.653968</td>\n",
       "      <td>0.592593</td>\n",
       "      <td>0.654497</td>\n",
       "    </tr>\n",
       "    <tr>\n",
       "      <th>9</th>\n",
       "      <td>0.516402</td>\n",
       "      <td>0.438624</td>\n",
       "      <td>0.518519</td>\n",
       "      <td>0.561376</td>\n",
       "      <td>0.484656</td>\n",
       "      <td>0.393651</td>\n",
       "    </tr>\n",
       "    <tr>\n",
       "      <th>10</th>\n",
       "      <td>0.532804</td>\n",
       "      <td>0.508466</td>\n",
       "      <td>0.556085</td>\n",
       "      <td>0.578836</td>\n",
       "      <td>0.493122</td>\n",
       "      <td>0.476720</td>\n",
       "    </tr>\n",
       "  </tbody>\n",
       "</table>\n",
       "</div>"
      ],
      "text/plain": [
       "SCALER  StandardScaler                                                  \n",
       "DATASET            SVC        DT        RF        NB        LD       MLP\n",
       "0             0.660847  0.562963  0.646561  0.692593  0.713228  0.698413\n",
       "1             0.668783  0.564550  0.638095  0.685714  0.689947  0.692063\n",
       "2             0.774603  0.614286  0.575661  0.729101  0.729101  0.744974\n",
       "3             0.736508  0.631217  0.597884  0.751852  0.720635  0.722222\n",
       "4             0.685714  0.680423  0.677778  0.631746  0.638624  0.632804\n",
       "5             0.639683  0.601058  0.598942  0.615344  0.647090  0.626455\n",
       "6             0.685714  0.678836  0.699471  0.661376  0.609524  0.618519\n",
       "7             0.678307  0.645503  0.701058  0.676720  0.592593  0.623810\n",
       "8             0.715344  0.576720  0.638624  0.653968  0.592593  0.654497\n",
       "9             0.516402  0.438624  0.518519  0.561376  0.484656  0.393651\n",
       "10            0.532804  0.508466  0.556085  0.578836  0.493122  0.476720"
      ]
     },
     "execution_count": 143,
     "metadata": {},
     "output_type": "execute_result"
    }
   ],
   "source": [
    "standard_girato = pd.DataFrame(risultatiStandardScaler).transpose()\n",
    "minmax_girato = pd.DataFrame(risultati_minMax_scaler).transpose()\n",
    "robust_girato = pd.DataFrame(risultati_RobustScaler).transpose()\n",
    "senza_girato = pd.DataFrame(risultati_senza_scaler).transpose()\n",
    "\n",
    "L1 = standard_girato.keys()\n",
    "\n",
    "tups = ([('StandardScaler', x) for x in L1])\n",
    "'''+    [('MinMaxScaler', x) for x in L1]+\n",
    "       [('RobustScaler', x) for x in L1]+\n",
    "       [('Senza_Scaler', x) for x in L1])'''\n",
    "\n",
    "columnas = pd.MultiIndex.from_tuples(tups, names=['SCALER', 'DATASET'])\n",
    "np.random.seed(785)\n",
    "data = np.random.randint(10, size=(3, 6))\n",
    "\n",
    "\n",
    "newframe=pd.DataFrame(standard_girato.values, columns=columnas)\n",
    "newframe"
   ]
  },
  {
   "cell_type": "code",
   "execution_count": null,
   "metadata": {},
   "outputs": [],
   "source": []
  }
 ],
 "metadata": {
  "kernelspec": {
   "display_name": "Python 3",
   "language": "python",
   "name": "python3"
  },
  "language_info": {
   "codemirror_mode": {
    "name": "ipython",
    "version": 3
   },
   "file_extension": ".py",
   "mimetype": "text/x-python",
   "name": "python",
   "nbconvert_exporter": "python",
   "pygments_lexer": "ipython3",
   "version": "3.7.3"
  },
  "latex_envs": {
   "LaTeX_envs_menu_present": true,
   "autoclose": true,
   "autocomplete": true,
   "bibliofile": "biblio.bib",
   "cite_by": "apalike",
   "current_citInitial": 1,
   "eqLabelWithNumbers": true,
   "eqNumInitial": 1,
   "hotkeys": {
    "equation": "Ctrl-E",
    "itemize": "Ctrl-I"
   },
   "labels_anchors": false,
   "latex_user_defs": false,
   "report_style_numbering": true,
   "user_envs_cfg": false
  }
 },
 "nbformat": 4,
 "nbformat_minor": 2
}
